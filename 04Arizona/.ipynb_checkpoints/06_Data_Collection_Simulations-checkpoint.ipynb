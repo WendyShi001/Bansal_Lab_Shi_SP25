{
 "cells": [
  {
   "cell_type": "markdown",
   "id": "795b34f9",
   "metadata": {},
   "source": [
    "<h1><center> Metapopulation Model with SIR <br><br> \n",
    "<center> NetworkX Application<br><br> \n",
    "Wendy Shi</center></center>"
   ]
  },
  {
   "cell_type": "markdown",
   "id": "658f5c16",
   "metadata": {},
   "source": [
    "# Table of Content"
   ]
  },
  {
   "cell_type": "markdown",
   "id": "dd3f39cb",
   "metadata": {},
   "source": [
    "1. [Seeding Events](#Seeding-Events)\n",
    "2. [Node Dictionary](#Node-Dictionary)\n",
    "3. [US Shape File](#US-Shape-File)\n",
    "4. [One simulation](#One-simulation)\n",
    "5. [20 Simulation](#20-Simulation)"
   ]
  },
  {
   "cell_type": "markdown",
   "id": "bb3c630d",
   "metadata": {},
   "source": [
    "# Preparation"
   ]
  },
  {
   "cell_type": "code",
   "execution_count": 1,
   "id": "e5833d69",
   "metadata": {},
   "outputs": [],
   "source": [
    "#Preparation\n",
    "import pandas as pd\n",
    "import numpy as np\n",
    "import matplotlib.pyplot as plt\n",
    "from scipy.integrate import odeint\n",
    "from scipy.interpolate import interp1d\n",
    "import scipy.stats as stats"
   ]
  },
  {
   "cell_type": "markdown",
   "id": "a3737406",
   "metadata": {},
   "source": [
    "# Seeding Events"
   ]
  },
  {
   "cell_type": "code",
   "execution_count": 2,
   "id": "f9359ca6",
   "metadata": {},
   "outputs": [
    {
     "name": "stdout",
     "output_type": "stream",
     "text": [
      "(2327, 5)\n"
     ]
    },
    {
     "data": {
      "text/html": [
       "<div>\n",
       "<style scoped>\n",
       "    .dataframe tbody tr th:only-of-type {\n",
       "        vertical-align: middle;\n",
       "    }\n",
       "\n",
       "    .dataframe tbody tr th {\n",
       "        vertical-align: top;\n",
       "    }\n",
       "\n",
       "    .dataframe thead th {\n",
       "        text-align: right;\n",
       "    }\n",
       "</style>\n",
       "<table border=\"1\" class=\"dataframe\">\n",
       "  <thead>\n",
       "    <tr style=\"text-align: right;\">\n",
       "      <th></th>\n",
       "      <th>S</th>\n",
       "      <th>E</th>\n",
       "      <th>I</th>\n",
       "      <th>R</th>\n",
       "      <th>index</th>\n",
       "    </tr>\n",
       "  </thead>\n",
       "  <tbody>\n",
       "    <tr>\n",
       "      <th>0</th>\n",
       "      <td>58877</td>\n",
       "      <td>0</td>\n",
       "      <td>0</td>\n",
       "      <td>0</td>\n",
       "      <td>0</td>\n",
       "    </tr>\n",
       "    <tr>\n",
       "      <th>1</th>\n",
       "      <td>233140</td>\n",
       "      <td>0</td>\n",
       "      <td>0</td>\n",
       "      <td>0</td>\n",
       "      <td>1</td>\n",
       "    </tr>\n",
       "    <tr>\n",
       "      <th>2</th>\n",
       "      <td>25180</td>\n",
       "      <td>0</td>\n",
       "      <td>0</td>\n",
       "      <td>0</td>\n",
       "      <td>2</td>\n",
       "    </tr>\n",
       "  </tbody>\n",
       "</table>\n",
       "</div>"
      ],
      "text/plain": [
       "        S  E  I  R  index\n",
       "0   58877  0  0  0      0\n",
       "1  233140  0  0  0      1\n",
       "2   25180  0  0  0      2"
      ]
     },
     "execution_count": 2,
     "metadata": {},
     "output_type": "execute_result"
    }
   ],
   "source": [
    "column_names = ['S', 'E', 'I', 'R']\n",
    "Seeding = pd.read_csv(\"../../Data/seed_1503_seed_corrected_undereporting_CDC_corrected_v3.txt\",\n",
    "                     delimiter=' ',\n",
    "                      names=column_names)\n",
    "Seeding['index'] = range(len(Seeding))\n",
    "print(Seeding.shape)\n",
    "Seeding.head(3)"
   ]
  },
  {
   "cell_type": "code",
   "execution_count": 3,
   "id": "44510428",
   "metadata": {},
   "outputs": [
    {
     "data": {
      "text/plain": [
       "[58877, 233140, 25180]"
      ]
     },
     "execution_count": 3,
     "metadata": {},
     "output_type": "execute_result"
    }
   ],
   "source": [
    "multiplier = Seeding[\"S\"].tolist()\n",
    "multiplier[:3]"
   ]
  },
  {
   "cell_type": "markdown",
   "id": "58af2859",
   "metadata": {},
   "source": [
    "# Node Dictionary"
   ]
  },
  {
   "cell_type": "code",
   "execution_count": 4,
   "id": "0edcd2e0",
   "metadata": {},
   "outputs": [
    {
     "name": "stdout",
     "output_type": "stream",
     "text": [
      "(2327, 3)\n"
     ]
    },
    {
     "data": {
      "text/html": [
       "<div>\n",
       "<style scoped>\n",
       "    .dataframe tbody tr th:only-of-type {\n",
       "        vertical-align: middle;\n",
       "    }\n",
       "\n",
       "    .dataframe tbody tr th {\n",
       "        vertical-align: top;\n",
       "    }\n",
       "\n",
       "    .dataframe thead th {\n",
       "        text-align: right;\n",
       "    }\n",
       "</style>\n",
       "<table border=\"1\" class=\"dataframe\">\n",
       "  <thead>\n",
       "    <tr style=\"text-align: right;\">\n",
       "      <th></th>\n",
       "      <th>index</th>\n",
       "      <th>GEO_ID</th>\n",
       "      <th>State Code</th>\n",
       "    </tr>\n",
       "  </thead>\n",
       "  <tbody>\n",
       "    <tr>\n",
       "      <th>0</th>\n",
       "      <td>0</td>\n",
       "      <td>01001</td>\n",
       "      <td>01</td>\n",
       "    </tr>\n",
       "    <tr>\n",
       "      <th>1</th>\n",
       "      <td>1</td>\n",
       "      <td>01003</td>\n",
       "      <td>01</td>\n",
       "    </tr>\n",
       "    <tr>\n",
       "      <th>2</th>\n",
       "      <td>2</td>\n",
       "      <td>01005</td>\n",
       "      <td>01</td>\n",
       "    </tr>\n",
       "  </tbody>\n",
       "</table>\n",
       "</div>"
      ],
      "text/plain": [
       "   index GEO_ID State Code\n",
       "0      0  01001         01\n",
       "1      1  01003         01\n",
       "2      2  01005         01"
      ]
     },
     "execution_count": 4,
     "metadata": {},
     "output_type": "execute_result"
    }
   ],
   "source": [
    "node_dict = pd.read_csv(\"../../Data/nodes_considered.csv\")\n",
    "node_dict[\"GEO_ID\"] = node_dict[\"GEO_ID\"].apply(lambda x: f\"{int(x):05d}\")\n",
    "node_dict[\"State Code\"] = node_dict[\"GEO_ID\"].str[:2]\n",
    "print(node_dict.shape)\n",
    "node_dict.head(3)"
   ]
  },
  {
   "cell_type": "code",
   "execution_count": 7,
   "id": "eff0ef17",
   "metadata": {},
   "outputs": [
    {
     "name": "stdout",
     "output_type": "stream",
     "text": [
      "(14, 6)\n"
     ]
    },
    {
     "data": {
      "text/html": [
       "<div>\n",
       "<style scoped>\n",
       "    .dataframe tbody tr th:only-of-type {\n",
       "        vertical-align: middle;\n",
       "    }\n",
       "\n",
       "    .dataframe tbody tr th {\n",
       "        vertical-align: top;\n",
       "    }\n",
       "\n",
       "    .dataframe thead th {\n",
       "        text-align: right;\n",
       "    }\n",
       "</style>\n",
       "<table border=\"1\" class=\"dataframe\">\n",
       "  <thead>\n",
       "    <tr style=\"text-align: right;\">\n",
       "      <th></th>\n",
       "      <th>GEOID</th>\n",
       "      <th>State Code</th>\n",
       "      <th>S</th>\n",
       "      <th>E</th>\n",
       "      <th>I</th>\n",
       "      <th>R</th>\n",
       "    </tr>\n",
       "  </thead>\n",
       "  <tbody>\n",
       "    <tr>\n",
       "      <th>0</th>\n",
       "      <td>04001</td>\n",
       "      <td>04</td>\n",
       "      <td>65897</td>\n",
       "      <td>0</td>\n",
       "      <td>0</td>\n",
       "      <td>0</td>\n",
       "    </tr>\n",
       "    <tr>\n",
       "      <th>1</th>\n",
       "      <td>04003</td>\n",
       "      <td>04</td>\n",
       "      <td>125398</td>\n",
       "      <td>0</td>\n",
       "      <td>0</td>\n",
       "      <td>0</td>\n",
       "    </tr>\n",
       "    <tr>\n",
       "      <th>2</th>\n",
       "      <td>04005</td>\n",
       "      <td>04</td>\n",
       "      <td>145116</td>\n",
       "      <td>0</td>\n",
       "      <td>0</td>\n",
       "      <td>0</td>\n",
       "    </tr>\n",
       "  </tbody>\n",
       "</table>\n",
       "</div>"
      ],
      "text/plain": [
       "   GEOID State Code       S  E  I  R\n",
       "0  04001         04   65897  0  0  0\n",
       "1  04003         04  125398  0  0  0\n",
       "2  04005         04  145116  0  0  0"
      ]
     },
     "execution_count": 7,
     "metadata": {},
     "output_type": "execute_result"
    }
   ],
   "source": [
    "AZ = node_dict[node_dict[\"State Code\"] == '04']\n",
    "AZ_SEIR = pd.merge(AZ, Seeding, on = 'index', how = 'inner')\n",
    "AZ_SEIR = AZ_SEIR.drop(columns=['index']) #Drop the index when merging SEIR and New York GEOID\n",
    "\n",
    "rename = {'GEO_ID' : 'GEOID'}\n",
    "AZ_SEIR = AZ_SEIR.rename(columns = rename)\n",
    "\n",
    "print(AZ_SEIR.shape)\n",
    "AZ_SEIR.head(3)"
   ]
  },
  {
   "cell_type": "markdown",
   "id": "673a1299",
   "metadata": {},
   "source": [
    "# US Shape File"
   ]
  },
  {
   "cell_type": "code",
   "execution_count": 8,
   "id": "4c60f2f2",
   "metadata": {},
   "outputs": [
    {
     "data": {
      "text/html": [
       "<div>\n",
       "<style scoped>\n",
       "    .dataframe tbody tr th:only-of-type {\n",
       "        vertical-align: middle;\n",
       "    }\n",
       "\n",
       "    .dataframe tbody tr th {\n",
       "        vertical-align: top;\n",
       "    }\n",
       "\n",
       "    .dataframe thead th {\n",
       "        text-align: right;\n",
       "    }\n",
       "</style>\n",
       "<table border=\"1\" class=\"dataframe\">\n",
       "  <thead>\n",
       "    <tr style=\"text-align: right;\">\n",
       "      <th></th>\n",
       "      <th>NAME</th>\n",
       "      <th>State</th>\n",
       "      <th>GEOID</th>\n",
       "      <th>pop2020</th>\n",
       "    </tr>\n",
       "  </thead>\n",
       "  <tbody>\n",
       "    <tr>\n",
       "      <th>3106</th>\n",
       "      <td>Los Angeles</td>\n",
       "      <td>California</td>\n",
       "      <td>06037</td>\n",
       "      <td>9989165.0</td>\n",
       "    </tr>\n",
       "    <tr>\n",
       "      <th>3107</th>\n",
       "      <td>Shannon</td>\n",
       "      <td>South Dakota</td>\n",
       "      <td>46113</td>\n",
       "      <td>14309.0</td>\n",
       "    </tr>\n",
       "    <tr>\n",
       "      <th>3108</th>\n",
       "      <td>Bedford</td>\n",
       "      <td>Virginia</td>\n",
       "      <td>51515</td>\n",
       "      <td>6599.0</td>\n",
       "    </tr>\n",
       "  </tbody>\n",
       "</table>\n",
       "</div>"
      ],
      "text/plain": [
       "             NAME         State  GEOID    pop2020\n",
       "3106  Los Angeles    California  06037  9989165.0\n",
       "3107      Shannon  South Dakota  46113    14309.0\n",
       "3108      Bedford      Virginia  51515     6599.0"
      ]
     },
     "execution_count": 8,
     "metadata": {},
     "output_type": "execute_result"
    }
   ],
   "source": [
    "us_shape_file = pd.read_csv(\"../../Data/us_shapefile_county.csv\")\n",
    "\n",
    "us_shape_file = us_shape_file[['NAME', 'State_1', 'FIPS code', 'pop2020']].copy()\n",
    "rename = {'State_1' : 'State'}\n",
    "us_shape_file = us_shape_file.rename(columns = rename)\n",
    "\n",
    "us_shape_file[\"FIPS code\"] = us_shape_file[\"FIPS code\"].apply(lambda x: f\"{int(x):05d}\")\n",
    "\n",
    "#rename column\n",
    "rename = {\"FIPS code\" : \"GEOID\"}\n",
    "us_shape_file = us_shape_file.rename(columns = rename)\n",
    "us_shape_file.tail(3)"
   ]
  },
  {
   "cell_type": "code",
   "execution_count": 12,
   "id": "afbf09d6",
   "metadata": {},
   "outputs": [
    {
     "name": "stdout",
     "output_type": "stream",
     "text": [
      "(15, 4)\n"
     ]
    },
    {
     "data": {
      "text/html": [
       "<div>\n",
       "<style scoped>\n",
       "    .dataframe tbody tr th:only-of-type {\n",
       "        vertical-align: middle;\n",
       "    }\n",
       "\n",
       "    .dataframe tbody tr th {\n",
       "        vertical-align: top;\n",
       "    }\n",
       "\n",
       "    .dataframe thead th {\n",
       "        text-align: right;\n",
       "    }\n",
       "</style>\n",
       "<table border=\"1\" class=\"dataframe\">\n",
       "  <thead>\n",
       "    <tr style=\"text-align: right;\">\n",
       "      <th></th>\n",
       "      <th>NAME</th>\n",
       "      <th>State</th>\n",
       "      <th>GEOID</th>\n",
       "      <th>pop2020</th>\n",
       "    </tr>\n",
       "  </thead>\n",
       "  <tbody>\n",
       "    <tr>\n",
       "      <th>673</th>\n",
       "      <td>Greenlee</td>\n",
       "      <td>Arizona</td>\n",
       "      <td>04011</td>\n",
       "      <td>9522.0</td>\n",
       "    </tr>\n",
       "    <tr>\n",
       "      <th>1118</th>\n",
       "      <td>La Paz</td>\n",
       "      <td>Arizona</td>\n",
       "      <td>04012</td>\n",
       "      <td>16580.0</td>\n",
       "    </tr>\n",
       "    <tr>\n",
       "      <th>1906</th>\n",
       "      <td>Graham</td>\n",
       "      <td>Arizona</td>\n",
       "      <td>04009</td>\n",
       "      <td>38614.0</td>\n",
       "    </tr>\n",
       "  </tbody>\n",
       "</table>\n",
       "</div>"
      ],
      "text/plain": [
       "          NAME    State  GEOID  pop2020\n",
       "673   Greenlee  Arizona  04011   9522.0\n",
       "1118    La Paz  Arizona  04012  16580.0\n",
       "1906    Graham  Arizona  04009  38614.0"
      ]
     },
     "execution_count": 12,
     "metadata": {},
     "output_type": "execute_result"
    }
   ],
   "source": [
    "AZ_name= us_shape_file[us_shape_file['State'] == \"Arizona\"].copy()\n",
    "print(AZ_name.shape)\n",
    "AZ_name.head(3)"
   ]
  },
  {
   "cell_type": "code",
   "execution_count": 13,
   "id": "47843d7c",
   "metadata": {},
   "outputs": [
    {
     "name": "stdout",
     "output_type": "stream",
     "text": [
      "(14, 9)\n"
     ]
    },
    {
     "data": {
      "text/html": [
       "<div>\n",
       "<style scoped>\n",
       "    .dataframe tbody tr th:only-of-type {\n",
       "        vertical-align: middle;\n",
       "    }\n",
       "\n",
       "    .dataframe tbody tr th {\n",
       "        vertical-align: top;\n",
       "    }\n",
       "\n",
       "    .dataframe thead th {\n",
       "        text-align: right;\n",
       "    }\n",
       "</style>\n",
       "<table border=\"1\" class=\"dataframe\">\n",
       "  <thead>\n",
       "    <tr style=\"text-align: right;\">\n",
       "      <th></th>\n",
       "      <th>GEOID</th>\n",
       "      <th>State Code</th>\n",
       "      <th>S</th>\n",
       "      <th>E</th>\n",
       "      <th>I</th>\n",
       "      <th>R</th>\n",
       "      <th>NAME</th>\n",
       "      <th>State</th>\n",
       "      <th>pop2020</th>\n",
       "    </tr>\n",
       "  </thead>\n",
       "  <tbody>\n",
       "    <tr>\n",
       "      <th>0</th>\n",
       "      <td>04001</td>\n",
       "      <td>04</td>\n",
       "      <td>65897</td>\n",
       "      <td>0</td>\n",
       "      <td>0</td>\n",
       "      <td>0</td>\n",
       "      <td>Apache</td>\n",
       "      <td>Arizona</td>\n",
       "      <td>65897.0</td>\n",
       "    </tr>\n",
       "    <tr>\n",
       "      <th>1</th>\n",
       "      <td>04003</td>\n",
       "      <td>04</td>\n",
       "      <td>125398</td>\n",
       "      <td>0</td>\n",
       "      <td>0</td>\n",
       "      <td>0</td>\n",
       "      <td>Cochise</td>\n",
       "      <td>Arizona</td>\n",
       "      <td>125398.0</td>\n",
       "    </tr>\n",
       "    <tr>\n",
       "      <th>2</th>\n",
       "      <td>04005</td>\n",
       "      <td>04</td>\n",
       "      <td>145116</td>\n",
       "      <td>0</td>\n",
       "      <td>0</td>\n",
       "      <td>0</td>\n",
       "      <td>Coconino</td>\n",
       "      <td>Arizona</td>\n",
       "      <td>145116.0</td>\n",
       "    </tr>\n",
       "  </tbody>\n",
       "</table>\n",
       "</div>"
      ],
      "text/plain": [
       "   GEOID State Code       S  E  I  R      NAME    State   pop2020\n",
       "0  04001         04   65897  0  0  0    Apache  Arizona   65897.0\n",
       "1  04003         04  125398  0  0  0   Cochise  Arizona  125398.0\n",
       "2  04005         04  145116  0  0  0  Coconino  Arizona  145116.0"
      ]
     },
     "execution_count": 13,
     "metadata": {},
     "output_type": "execute_result"
    }
   ],
   "source": [
    "AZ_SEIR_name = AZ_SEIR.merge(AZ_name, on = 'GEOID', how = 'left')\n",
    "AZ_SEIR_list = AZ_SEIR_name['GEOID'].tolist() #The GEOID as what is appeares in the dataframe\n",
    "\n",
    "print(AZ_SEIR_name.shape)\n",
    "AZ_SEIR_name.head(3)"
   ]
  },
  {
   "cell_type": "code",
   "execution_count": 22,
   "id": "b3f9d739",
   "metadata": {},
   "outputs": [],
   "source": [
    "#AZ_SEIR_name.to_excel(\"AZ_SEIR_name.xlsx\")"
   ]
  },
  {
   "cell_type": "markdown",
   "id": "842892a8",
   "metadata": {},
   "source": [
    "# Retrieve Data"
   ]
  },
  {
   "cell_type": "code",
   "execution_count": 14,
   "id": "ec91456c",
   "metadata": {},
   "outputs": [
    {
     "data": {
      "text/html": [
       "<div>\n",
       "<style scoped>\n",
       "    .dataframe tbody tr th:only-of-type {\n",
       "        vertical-align: middle;\n",
       "    }\n",
       "\n",
       "    .dataframe tbody tr th {\n",
       "        vertical-align: top;\n",
       "    }\n",
       "\n",
       "    .dataframe thead th {\n",
       "        text-align: right;\n",
       "    }\n",
       "</style>\n",
       "<table border=\"1\" class=\"dataframe\">\n",
       "  <thead>\n",
       "    <tr style=\"text-align: right;\">\n",
       "      <th></th>\n",
       "      <th>04001</th>\n",
       "      <th>04003</th>\n",
       "      <th>04005</th>\n",
       "      <th>04007</th>\n",
       "      <th>04009</th>\n",
       "      <th>04012</th>\n",
       "      <th>04013</th>\n",
       "      <th>04015</th>\n",
       "      <th>04017</th>\n",
       "      <th>04019</th>\n",
       "      <th>04021</th>\n",
       "      <th>04023</th>\n",
       "      <th>04025</th>\n",
       "      <th>04027</th>\n",
       "    </tr>\n",
       "  </thead>\n",
       "  <tbody>\n",
       "    <tr>\n",
       "      <th>0</th>\n",
       "      <td>0.393417</td>\n",
       "      <td>0.006658</td>\n",
       "      <td>0.010795</td>\n",
       "      <td>0.002831</td>\n",
       "      <td>0.001058</td>\n",
       "      <td>0.000249</td>\n",
       "      <td>0.366134</td>\n",
       "      <td>0.005071</td>\n",
       "      <td>0.051549</td>\n",
       "      <td>0.073389</td>\n",
       "      <td>0.053571</td>\n",
       "      <td>0.002520</td>\n",
       "      <td>0.018510</td>\n",
       "      <td>0.014248</td>\n",
       "    </tr>\n",
       "    <tr>\n",
       "      <th>1</th>\n",
       "      <td>0.000343</td>\n",
       "      <td>0.728874</td>\n",
       "      <td>0.001962</td>\n",
       "      <td>0.001312</td>\n",
       "      <td>0.001092</td>\n",
       "      <td>0.000000</td>\n",
       "      <td>0.099431</td>\n",
       "      <td>0.000895</td>\n",
       "      <td>0.001472</td>\n",
       "      <td>0.147742</td>\n",
       "      <td>0.010781</td>\n",
       "      <td>0.005249</td>\n",
       "      <td>0.000503</td>\n",
       "      <td>0.000343</td>\n",
       "    </tr>\n",
       "    <tr>\n",
       "      <th>2</th>\n",
       "      <td>0.004619</td>\n",
       "      <td>0.001075</td>\n",
       "      <td>0.798236</td>\n",
       "      <td>0.004241</td>\n",
       "      <td>0.000060</td>\n",
       "      <td>0.000448</td>\n",
       "      <td>0.132651</td>\n",
       "      <td>0.003146</td>\n",
       "      <td>0.003126</td>\n",
       "      <td>0.018319</td>\n",
       "      <td>0.007397</td>\n",
       "      <td>0.000388</td>\n",
       "      <td>0.023207</td>\n",
       "      <td>0.003086</td>\n",
       "    </tr>\n",
       "  </tbody>\n",
       "</table>\n",
       "</div>"
      ],
      "text/plain": [
       "      04001     04003     04005     04007     04009     04012     04013  \\\n",
       "0  0.393417  0.006658  0.010795  0.002831  0.001058  0.000249  0.366134   \n",
       "1  0.000343  0.728874  0.001962  0.001312  0.001092  0.000000  0.099431   \n",
       "2  0.004619  0.001075  0.798236  0.004241  0.000060  0.000448  0.132651   \n",
       "\n",
       "      04015     04017     04019     04021     04023     04025     04027  \n",
       "0  0.005071  0.051549  0.073389  0.053571  0.002520  0.018510  0.014248  \n",
       "1  0.000895  0.001472  0.147742  0.010781  0.005249  0.000503  0.000343  \n",
       "2  0.003146  0.003126  0.018319  0.007397  0.000388  0.023207  0.003086  "
      ]
     },
     "execution_count": 14,
     "metadata": {},
     "output_type": "execute_result"
    }
   ],
   "source": [
    "#Original matrix for comparison\n",
    "matrix = pd.read_csv(\"AZ_Data/Aggregate/AZ_ori_indi.csv\")\n",
    "matrix = matrix.drop(columns = 'Unnamed: 0')\n",
    "matrix.head(3)"
   ]
  },
  {
   "cell_type": "code",
   "execution_count": 16,
   "id": "80b67894",
   "metadata": {},
   "outputs": [
    {
     "name": "stdout",
     "output_type": "stream",
     "text": [
      "SEIR county list = Weight Matrix County List?: True\n"
     ]
    },
    {
     "data": {
      "text/plain": [
       "0.3934171229467397"
      ]
     },
     "execution_count": 16,
     "metadata": {},
     "output_type": "execute_result"
    }
   ],
   "source": [
    "matrix_county_list = matrix.columns.tolist()\n",
    "print(f'SEIR county list = Weight Matrix County List?: {matrix_county_list == AZ_SEIR_list}') #Proceed when see Yes\n",
    "\n",
    "array = matrix.to_numpy() #The most important step!! Turning pandas dataframe to a numpy array\n",
    "array[0][0]"
   ]
  },
  {
   "cell_type": "markdown",
   "id": "4467fe89",
   "metadata": {},
   "source": [
    "# One simulation"
   ]
  },
  {
   "cell_type": "code",
   "execution_count": 17,
   "id": "39ba02e2",
   "metadata": {},
   "outputs": [],
   "source": [
    "def stochastic_SIR(y, l, array):\n",
    "    \n",
    "    # y is the list that contains the initial condition of S_i, I_i, R_i\n",
    "    S = y[:l]  # a five element list\n",
    "    E = y[l:l+l]\n",
    "    I = y[l+l:l+l+l]  # a five element list\n",
    "    R = y[l+l+l:]  # the rest elements\n",
    "    \n",
    "    t = 0\n",
    "    time_series = [(t, S.copy(), E.copy(), I.copy(), R.copy())]\n",
    "    \n",
    "    #l = len(S)\n",
    "    \n",
    "    # Define each element of N\n",
    "    N = [S[i] + E[i] + I[i] + R[i] for i in range(l)]\n",
    "    \n",
    "    # Define N_hat\n",
    "    N_hat = [array[i][i] * N[i] for i in range(l)]\n",
    "    for i in range(l):\n",
    "        for j in range(l):\n",
    "            if i != j:\n",
    "                N_hat[i] += array[j][i] * N[j]\n",
    "    \n",
    "    #print(N_hat)\n",
    "    \n",
    "    # Run the loop ------------------------------------\n",
    "    t_max = 50\n",
    "    #while any(i > 0 for i in I) and t < t_max: #time stamp loop--\n",
    "    while t < t_max:\n",
    "        \n",
    "        #Define value for beta\n",
    "        if t < 25: \n",
    "            beta = 3.5\n",
    "        else: \n",
    "            beta = 1.7\n",
    "        \n",
    "        for i in range(l): #node loop------\n",
    "            \n",
    "            # Define I_hat for all nodes\n",
    "            I_hat = [array[i][i] * I[i] for i in range(l)]\n",
    "            for j in range(l):\n",
    "                if i != j:\n",
    "                    I_hat[i] += array[j][i] * I[j]\n",
    "            \n",
    "            # Calculate lambda\n",
    "            lmda = beta * (array[i][i] ** 2) * I[i] / N_hat[i]\n",
    "            for j in range(l):\n",
    "                if i != j:\n",
    "                    lmda += (beta * array[i][i] * array[j][i] * I[j] / N_hat[i]) + (beta * array[i][j] * I_hat[j] / N_hat[j])\n",
    "            \n",
    "            #Newly added term, having b equals to 3.5 and largrer sample of nodes makes lamda larger than 1\n",
    "            lmda_new = min(lmda,1)\n",
    "            \n",
    "            #Check again to see if you can improve the model-------------\n",
    "            new_exposed = np.random.binomial(S[i], lmda_new)*1\n",
    "            new_infected = np.random.binomial(E[i], 0.2703)*1\n",
    "            new_recovered = np.random.binomial(I[i], 0.2448)*1 \n",
    "            \n",
    "            # Update S, I, R for node i\n",
    "            S[i] -= new_exposed\n",
    "            E[i] += new_exposed - new_infected\n",
    "            I[i] += new_infected - new_recovered\n",
    "            R[i] += new_recovered\n",
    "        \n",
    "        # Store the results (make copies to avoid overwriting)\n",
    "        time_series.append((t, S.copy(), E.copy(), I.copy(), R.copy()))\n",
    "        \n",
    "        # Increment time (optional)\n",
    "        t += 1\n",
    "        #print(f\"Time: {t}, S: {S}, I: {I}, R: {R}\")\n",
    "        if t % 10 == 0:\n",
    "            print(t)\n",
    "    \n",
    "    return time_series"
   ]
  },
  {
   "cell_type": "markdown",
   "id": "ee9a18cc",
   "metadata": {},
   "source": [
    "# Applying for the function\n",
    "### This takes 3 minutes 30 second"
   ]
  },
  {
   "cell_type": "code",
   "execution_count": 23,
   "id": "48feda53",
   "metadata": {},
   "outputs": [],
   "source": [
    "#NY_SEIR = pd.read_excel(\"NY_SEIR.xlsx\")\n",
    "#NY_SEIR = NY_SEIR.drop(columns = 'Unnamed: 0')\n",
    "#NY_SEIR.iloc[15:20]"
   ]
  },
  {
   "cell_type": "code",
   "execution_count": 24,
   "id": "5907a70c",
   "metadata": {},
   "outputs": [
    {
     "name": "stdout",
     "output_type": "stream",
     "text": [
      "14 14 14 14\n"
     ]
    }
   ],
   "source": [
    "#Define initial condition\n",
    "S0 = AZ_SEIR[\"S\"].tolist()  \n",
    "E0 = AZ_SEIR[\"E\"].tolist()  \n",
    "I0 = AZ_SEIR[\"I\"].tolist()   \n",
    "R0 = AZ_SEIR[\"R\"].tolist()\n",
    "initial_conditions = S0 + E0 + I0 + R0 #this is the y (?): Yup!\n",
    "print(len(S0),len(E0),len(I0), len(R0))"
   ]
  },
  {
   "cell_type": "code",
   "execution_count": 25,
   "id": "6a8384ff",
   "metadata": {},
   "outputs": [
    {
     "name": "stdout",
     "output_type": "stream",
     "text": [
      "10\n",
      "20\n",
      "30\n",
      "40\n",
      "50\n"
     ]
    }
   ],
   "source": [
    "#first simulation\n",
    "time_series = stochastic_SIR(initial_conditions, 14, array)"
   ]
  },
  {
   "cell_type": "code",
   "execution_count": 26,
   "id": "d1b95e6b",
   "metadata": {},
   "outputs": [],
   "source": [
    "times, S_values, E_values, I_values, R_values = zip(*time_series)\n",
    "\n",
    "S_list = list(zip(*S_values))\n",
    "for i, S in enumerate(S_list):\n",
    "    globals()[f'S{i}'] = S\n",
    "    \n",
    "E_list = list(zip(*E_values))\n",
    "for i, E in enumerate(E_list):\n",
    "    globals()[f'E{i}'] = E\n",
    "    \n",
    "I_list = list(zip(*I_values))\n",
    "for i, I in enumerate(I_list):\n",
    "    globals()[f'I{i}'] = I\n",
    "    \n",
    "R_list = list(zip(*R_values))\n",
    "for i, R in enumerate(R_list):\n",
    "    globals()[f'R{i}'] = R"
   ]
  },
  {
   "cell_type": "markdown",
   "id": "c22eefa5",
   "metadata": {},
   "source": [
    "<br>\n",
    "\n",
    "- **globals()** is a built-in function in Python that returns a dictionary representing the current global symbol table. The global symbol table contains all the global variables in the program. When you do globals()[f'S{i}'] = s, you're dynamically creating a new global variable with a name like S1, S2, etc., and assigning it the value s. In this case, f'S{i}' generates the variable name as a string, and s is the corresponding value from the list.\n",
    "\n",
    "<br>\n",
    "\n",
    "- **enumerate()** is a built-in Python function that allows you to loop over an iterable (like a list, tuple, or string) while also keeping track of the index of each element.When used like enumerate(S_list, start=1), it returns pairs of (index, value), where index starts at 1 and increases by 1 for each iteration, while value is the corresponding item from the list. The start=1 parameter means that the counting will begin at 1 instead of the default 0."
   ]
  },
  {
   "cell_type": "markdown",
   "id": "41c24174",
   "metadata": {},
   "source": [
    "# Visualization: One Loop"
   ]
  },
  {
   "cell_type": "code",
   "execution_count": 30,
   "id": "5a15778b",
   "metadata": {},
   "outputs": [
    {
     "data": {
      "image/png": "[encoded data removed]",
      "text/plain": [
       "<Figure size 1000x600 with 1 Axes>"
      ]
     },
     "metadata": {},
     "output_type": "display_data"
    }
   ],
   "source": [
    "plt.figure(figsize=(10,6))\n",
    "\n",
    "plt.plot(times, I0, label='Apache, pop = 65,897')\n",
    "plt.plot(times, I1, label='Cochise, pop = 125,398')\n",
    "plt.plot(times, I2, label='Coconino, pop = 145,116')\n",
    "plt.plot(times, I10, label='Pinal (Seend), pop = 429,583')\n",
    "plt.plot(times, I12, label='Yavapai, pop = 237,067')\n",
    "\n",
    "plt.xlabel('Time')\n",
    "plt.ylabel('Total Infected Population')\n",
    "plt.legend()\n",
    "#plt.savefig(\"CA_SEIR_Example.png\", dpi=300, bbox_inches='tight')\n",
    "\n",
    "plt.show()\n",
    "\n"
   ]
  },
  {
   "cell_type": "markdown",
   "id": "33cbabe8",
   "metadata": {},
   "source": [
    "# 20 Simulation"
   ]
  },
  {
   "cell_type": "code",
   "execution_count": 84,
   "id": "e5decfe8",
   "metadata": {},
   "outputs": [
    {
     "data": {
      "text/plain": [
       "0.2626928210062386"
      ]
     },
     "execution_count": 84,
     "metadata": {},
     "output_type": "execute_result"
    }
   ],
   "source": [
    "matrix = pd.read_csv(\"AZ_Data/Individual/AZ_P005_indi.csv\")\n",
    "matrix = matrix.drop(columns = 'Unnamed: 0')\n",
    "matrix.head(3)\n",
    "\n",
    "array = matrix.to_numpy() #The most important step!! Turning pandas dataframe to a numpy array\n",
    "array[0][0]"
   ]
  },
  {
   "cell_type": "code",
   "execution_count": 85,
   "id": "1d2c71cb",
   "metadata": {},
   "outputs": [
    {
     "name": "stdout",
     "output_type": "stream",
     "text": [
      "10\n",
      "20\n",
      "30\n",
      "40\n",
      "50\n",
      "Simulation 0 Finished!!!-------------------------------\n",
      "10\n",
      "20\n",
      "30\n",
      "40\n",
      "50\n",
      "Simulation 1 Finished!!!-------------------------------\n",
      "10\n",
      "20\n",
      "30\n",
      "40\n",
      "50\n",
      "Simulation 2 Finished!!!-------------------------------\n",
      "10\n",
      "20\n",
      "30\n",
      "40\n",
      "50\n",
      "Simulation 3 Finished!!!-------------------------------\n",
      "10\n",
      "20\n",
      "30\n",
      "40\n",
      "50\n",
      "Simulation 4 Finished!!!-------------------------------\n",
      "10\n",
      "20\n",
      "30\n",
      "40\n",
      "50\n",
      "Simulation 5 Finished!!!-------------------------------\n",
      "10\n",
      "20\n",
      "30\n",
      "40\n",
      "50\n",
      "Simulation 6 Finished!!!-------------------------------\n",
      "10\n",
      "20\n",
      "30\n",
      "40\n",
      "50\n",
      "Simulation 7 Finished!!!-------------------------------\n",
      "10\n",
      "20\n",
      "30\n",
      "40\n",
      "50\n",
      "Simulation 8 Finished!!!-------------------------------\n",
      "10\n",
      "20\n",
      "30\n",
      "40\n",
      "50\n",
      "Simulation 9 Finished!!!-------------------------------\n",
      "10\n",
      "20\n",
      "30\n",
      "40\n",
      "50\n",
      "Simulation 10 Finished!!!-------------------------------\n",
      "10\n",
      "20\n",
      "30\n",
      "40\n",
      "50\n",
      "Simulation 11 Finished!!!-------------------------------\n",
      "10\n",
      "20\n",
      "30\n",
      "40\n",
      "50\n",
      "Simulation 12 Finished!!!-------------------------------\n",
      "10\n",
      "20\n",
      "30\n",
      "40\n",
      "50\n",
      "Simulation 13 Finished!!!-------------------------------\n",
      "10\n",
      "20\n",
      "30\n",
      "40\n",
      "50\n",
      "Simulation 14 Finished!!!-------------------------------\n",
      "10\n",
      "20\n",
      "30\n",
      "40\n",
      "50\n",
      "Simulation 15 Finished!!!-------------------------------\n",
      "10\n",
      "20\n",
      "30\n",
      "40\n",
      "50\n",
      "Simulation 16 Finished!!!-------------------------------\n",
      "10\n",
      "20\n",
      "30\n",
      "40\n",
      "50\n",
      "Simulation 17 Finished!!!-------------------------------\n",
      "10\n",
      "20\n",
      "30\n",
      "40\n",
      "50\n",
      "Simulation 18 Finished!!!-------------------------------\n",
      "10\n",
      "20\n",
      "30\n",
      "40\n",
      "50\n",
      "Simulation 19 Finished!!!-------------------------------\n"
     ]
    }
   ],
   "source": [
    "all_simulations = []\n",
    "\n",
    "for sim in range(20):\n",
    "    \n",
    "    S0 = WA_SEIR[\"S\"].tolist()  \n",
    "    E0 = WA_SEIR[\"E\"].tolist()  \n",
    "    I0 = WA_SEIR[\"I\"].tolist()   \n",
    "    R0 = WA_SEIR[\"R\"].tolist()\n",
    "    initial_conditions = S0 + E0 + I0 + R0 #this is the y (?): Yup!\n",
    "\n",
    "    result = stochastic_SIR(initial_conditions, 14, array)\n",
    "    print(\"Simulation\", sim, \"Finished!!!-------------------------------\")\n",
    "    \n",
    "    all_simulations.append(result)"
   ]
  },
  {
   "cell_type": "code",
   "execution_count": 82,
   "id": "d5a11205",
   "metadata": {},
   "outputs": [],
   "source": [
    "import pickle\n",
    "\n",
    "with open('20_simulations_P005_AZ_indi.pkl', 'wb') as f:\n",
    "    pickle.dump(all_simulations, f)"
   ]
  },
  {
   "cell_type": "code",
   "execution_count": 110,
   "id": "249b9955",
   "metadata": {},
   "outputs": [],
   "source": []
  }
 ],
 "metadata": {
  "kernelspec": {
   "display_name": "Python 3 (ipykernel)",
   "language": "python",
   "name": "python3"
  },
  "language_info": {
   "codemirror_mode": {
    "name": "ipython",
    "version": 3
   },
   "file_extension": ".py",
   "mimetype": "text/x-python",
   "name": "python",
   "nbconvert_exporter": "python",
   "pygments_lexer": "ipython3",
   "version": "3.11.5"
  }
 },
 "nbformat": 4,
 "nbformat_minor": 5
}
