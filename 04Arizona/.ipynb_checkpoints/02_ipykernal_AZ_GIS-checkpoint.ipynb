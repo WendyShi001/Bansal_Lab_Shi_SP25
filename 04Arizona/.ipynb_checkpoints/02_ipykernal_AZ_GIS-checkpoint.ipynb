{
 "cells": [
  {
   "cell_type": "markdown",
   "id": "fd44766c",
   "metadata": {},
   "source": [
    "<h1><center> Individual Data Noise Creation <br><br> \n",
    "<center> Scikit Mobility and DB Noise<br><br> \n",
    "Wendy Shi</center></center>"
   ]
  },
  {
   "cell_type": "markdown",
   "id": "1778640b",
   "metadata": {},
   "source": [
    "# TOC\n",
    "\n",
    "- [County Level FIP](#County-Level-FIP-Code)\n",
    "- [Individual Data](#Individual-Data)\n",
    "- [Census Tract Shape File](#Census-Tract-Shape-File)\n",
    "- [Grouping](#Groupping)\n",
    "    - [DP Noise](#DP-Noise)\n",
    "    - [Home Location](#Home-Location)\n",
    "- [Computing Weight Matrix](#Computing-Weight-Matrix)"
   ]
  },
  {
   "cell_type": "markdown",
   "id": "eac9293b",
   "metadata": {},
   "source": [
    "# Preparation"
   ]
  },
  {
   "cell_type": "code",
   "execution_count": 1,
   "id": "ed6fb248",
   "metadata": {},
   "outputs": [],
   "source": [
    "#Preparation\n",
    "import pandas as pd\n",
    "import numpy as np\n",
    "import matplotlib.pyplot as plt\n",
    "import statistics"
   ]
  },
  {
   "cell_type": "markdown",
   "id": "e37482b3",
   "metadata": {},
   "source": [
    "# County Level FIP Code"
   ]
  },
  {
   "cell_type": "code",
   "execution_count": 2,
   "id": "bdd8c9bb",
   "metadata": {},
   "outputs": [
    {
     "name": "stdout",
     "output_type": "stream",
     "text": [
      "(2327, 4)\n"
     ]
    },
    {
     "data": {
      "text/html": [
       "<div>\n",
       "<style scoped>\n",
       "    .dataframe tbody tr th:only-of-type {\n",
       "        vertical-align: middle;\n",
       "    }\n",
       "\n",
       "    .dataframe tbody tr th {\n",
       "        vertical-align: top;\n",
       "    }\n",
       "\n",
       "    .dataframe thead th {\n",
       "        text-align: right;\n",
       "    }\n",
       "</style>\n",
       "<table border=\"1\" class=\"dataframe\">\n",
       "  <thead>\n",
       "    <tr style=\"text-align: right;\">\n",
       "      <th></th>\n",
       "      <th>S</th>\n",
       "      <th>E</th>\n",
       "      <th>I</th>\n",
       "      <th>R</th>\n",
       "    </tr>\n",
       "  </thead>\n",
       "  <tbody>\n",
       "    <tr>\n",
       "      <th>2324</th>\n",
       "      <td>42158</td>\n",
       "      <td>0</td>\n",
       "      <td>0</td>\n",
       "      <td>0</td>\n",
       "    </tr>\n",
       "    <tr>\n",
       "      <th>2325</th>\n",
       "      <td>23347</td>\n",
       "      <td>0</td>\n",
       "      <td>0</td>\n",
       "      <td>0</td>\n",
       "    </tr>\n",
       "    <tr>\n",
       "      <th>2326</th>\n",
       "      <td>20441</td>\n",
       "      <td>0</td>\n",
       "      <td>0</td>\n",
       "      <td>0</td>\n",
       "    </tr>\n",
       "  </tbody>\n",
       "</table>\n",
       "</div>"
      ],
      "text/plain": [
       "          S  E  I  R\n",
       "2324  42158  0  0  0\n",
       "2325  23347  0  0  0\n",
       "2326  20441  0  0  0"
      ]
     },
     "execution_count": 2,
     "metadata": {},
     "output_type": "execute_result"
    }
   ],
   "source": [
    "column_names = ['S', 'E', 'I', 'R']\n",
    "Seeding = pd.read_csv(\"../../Data/seed_1503_seed_corrected_undereporting_CDC_corrected_v3.txt\",\n",
    "                     delimiter=' ',\n",
    "                      names=column_names)\n",
    "print(Seeding.shape)\n",
    "Seeding.tail(3)"
   ]
  },
  {
   "cell_type": "code",
   "execution_count": 3,
   "id": "8253f72c",
   "metadata": {},
   "outputs": [
    {
     "name": "stdout",
     "output_type": "stream",
     "text": [
      "(2327, 1)\n"
     ]
    },
    {
     "data": {
      "text/html": [
       "<div>\n",
       "<style scoped>\n",
       "    .dataframe tbody tr th:only-of-type {\n",
       "        vertical-align: middle;\n",
       "    }\n",
       "\n",
       "    .dataframe tbody tr th {\n",
       "        vertical-align: top;\n",
       "    }\n",
       "\n",
       "    .dataframe thead th {\n",
       "        text-align: right;\n",
       "    }\n",
       "</style>\n",
       "<table border=\"1\" class=\"dataframe\">\n",
       "  <thead>\n",
       "    <tr style=\"text-align: right;\">\n",
       "      <th></th>\n",
       "      <th>GEO_ID</th>\n",
       "    </tr>\n",
       "  </thead>\n",
       "  <tbody>\n",
       "    <tr>\n",
       "      <th>2324</th>\n",
       "      <td>56037</td>\n",
       "    </tr>\n",
       "    <tr>\n",
       "      <th>2325</th>\n",
       "      <td>56039</td>\n",
       "    </tr>\n",
       "    <tr>\n",
       "      <th>2326</th>\n",
       "      <td>56041</td>\n",
       "    </tr>\n",
       "  </tbody>\n",
       "</table>\n",
       "</div>"
      ],
      "text/plain": [
       "      GEO_ID\n",
       "2324   56037\n",
       "2325   56039\n",
       "2326   56041"
      ]
     },
     "execution_count": 3,
     "metadata": {},
     "output_type": "execute_result"
    }
   ],
   "source": [
    "node_dict = pd.read_csv(\"../../Data/nodes_considered.csv\")\n",
    "node_dict = node_dict.drop(columns = ['index'])\n",
    "print(node_dict.shape)\n",
    "node_dict.tail(3)"
   ]
  },
  {
   "cell_type": "code",
   "execution_count": 4,
   "id": "8e20bb11",
   "metadata": {},
   "outputs": [
    {
     "data": {
      "text/html": [
       "<div>\n",
       "<style scoped>\n",
       "    .dataframe tbody tr th:only-of-type {\n",
       "        vertical-align: middle;\n",
       "    }\n",
       "\n",
       "    .dataframe tbody tr th {\n",
       "        vertical-align: top;\n",
       "    }\n",
       "\n",
       "    .dataframe thead th {\n",
       "        text-align: right;\n",
       "    }\n",
       "</style>\n",
       "<table border=\"1\" class=\"dataframe\">\n",
       "  <thead>\n",
       "    <tr style=\"text-align: right;\">\n",
       "      <th></th>\n",
       "      <th>GEO_ID</th>\n",
       "      <th>Population</th>\n",
       "    </tr>\n",
       "  </thead>\n",
       "  <tbody>\n",
       "    <tr>\n",
       "      <th>2322</th>\n",
       "      <td>56029</td>\n",
       "      <td>29656</td>\n",
       "    </tr>\n",
       "    <tr>\n",
       "      <th>2323</th>\n",
       "      <td>56033</td>\n",
       "      <td>30996</td>\n",
       "    </tr>\n",
       "    <tr>\n",
       "      <th>2324</th>\n",
       "      <td>56037</td>\n",
       "      <td>42158</td>\n",
       "    </tr>\n",
       "    <tr>\n",
       "      <th>2325</th>\n",
       "      <td>56039</td>\n",
       "      <td>23347</td>\n",
       "    </tr>\n",
       "    <tr>\n",
       "      <th>2326</th>\n",
       "      <td>56041</td>\n",
       "      <td>20441</td>\n",
       "    </tr>\n",
       "  </tbody>\n",
       "</table>\n",
       "</div>"
      ],
      "text/plain": [
       "      GEO_ID  Population\n",
       "2322   56029       29656\n",
       "2323   56033       30996\n",
       "2324   56037       42158\n",
       "2325   56039       23347\n",
       "2326   56041       20441"
      ]
     },
     "execution_count": 4,
     "metadata": {},
     "output_type": "execute_result"
    }
   ],
   "source": [
    "node_dict['Population'] = Seeding['S']\n",
    "node_dict.tail(5)"
   ]
  },
  {
   "cell_type": "code",
   "execution_count": 5,
   "id": "b92abd1b",
   "metadata": {},
   "outputs": [
    {
     "name": "stdout",
     "output_type": "stream",
     "text": [
      "(2327, 2)\n"
     ]
    },
    {
     "data": {
      "text/html": [
       "<div>\n",
       "<style scoped>\n",
       "    .dataframe tbody tr th:only-of-type {\n",
       "        vertical-align: middle;\n",
       "    }\n",
       "\n",
       "    .dataframe tbody tr th {\n",
       "        vertical-align: top;\n",
       "    }\n",
       "\n",
       "    .dataframe thead th {\n",
       "        text-align: right;\n",
       "    }\n",
       "</style>\n",
       "<table border=\"1\" class=\"dataframe\">\n",
       "  <thead>\n",
       "    <tr style=\"text-align: right;\">\n",
       "      <th></th>\n",
       "      <th>GEOID</th>\n",
       "      <th>Population</th>\n",
       "    </tr>\n",
       "  </thead>\n",
       "  <tbody>\n",
       "    <tr>\n",
       "      <th>0</th>\n",
       "      <td>01001</td>\n",
       "      <td>58877</td>\n",
       "    </tr>\n",
       "    <tr>\n",
       "      <th>1</th>\n",
       "      <td>01003</td>\n",
       "      <td>233140</td>\n",
       "    </tr>\n",
       "    <tr>\n",
       "      <th>2</th>\n",
       "      <td>01005</td>\n",
       "      <td>25180</td>\n",
       "    </tr>\n",
       "  </tbody>\n",
       "</table>\n",
       "</div>"
      ],
      "text/plain": [
       "   GEOID  Population\n",
       "0  01001       58877\n",
       "1  01003      233140\n",
       "2  01005       25180"
      ]
     },
     "execution_count": 5,
     "metadata": {},
     "output_type": "execute_result"
    }
   ],
   "source": [
    "#Check if node dictionary size equals to size of E, and see if they all have population larger than 11,000\n",
    "desired = node_dict[node_dict['Population'] > 11000]\n",
    "print(desired.shape)\n",
    "\n",
    "node_dict[\"GEO_ID\"] = node_dict[\"GEO_ID\"].apply(lambda x: f\"{int(x):05d}\")\n",
    "\n",
    "#rename column\n",
    "rename = {'GEO_ID' : 'GEOID'}\n",
    "node_dict = node_dict.rename(columns = rename)\n",
    "node_dict.head(3)"
   ]
  },
  {
   "cell_type": "code",
   "execution_count": 6,
   "id": "99825a6e",
   "metadata": {
    "scrolled": true
   },
   "outputs": [
    {
     "data": {
      "text/html": [
       "<div>\n",
       "<style scoped>\n",
       "    .dataframe tbody tr th:only-of-type {\n",
       "        vertical-align: middle;\n",
       "    }\n",
       "\n",
       "    .dataframe tbody tr th {\n",
       "        vertical-align: top;\n",
       "    }\n",
       "\n",
       "    .dataframe thead th {\n",
       "        text-align: right;\n",
       "    }\n",
       "</style>\n",
       "<table border=\"1\" class=\"dataframe\">\n",
       "  <thead>\n",
       "    <tr style=\"text-align: right;\">\n",
       "      <th></th>\n",
       "      <th>GEOID</th>\n",
       "      <th>Population</th>\n",
       "      <th>state</th>\n",
       "      <th>index</th>\n",
       "    </tr>\n",
       "  </thead>\n",
       "  <tbody>\n",
       "    <tr>\n",
       "      <th>0</th>\n",
       "      <td>01001</td>\n",
       "      <td>58877</td>\n",
       "      <td>01</td>\n",
       "      <td>0</td>\n",
       "    </tr>\n",
       "    <tr>\n",
       "      <th>1</th>\n",
       "      <td>01003</td>\n",
       "      <td>233140</td>\n",
       "      <td>01</td>\n",
       "      <td>1</td>\n",
       "    </tr>\n",
       "    <tr>\n",
       "      <th>2</th>\n",
       "      <td>01005</td>\n",
       "      <td>25180</td>\n",
       "      <td>01</td>\n",
       "      <td>2</td>\n",
       "    </tr>\n",
       "  </tbody>\n",
       "</table>\n",
       "</div>"
      ],
      "text/plain": [
       "   GEOID  Population state  index\n",
       "0  01001       58877    01      0\n",
       "1  01003      233140    01      1\n",
       "2  01005       25180    01      2"
      ]
     },
     "execution_count": 6,
     "metadata": {},
     "output_type": "execute_result"
    }
   ],
   "source": [
    "node_dict['state'] = node_dict['GEOID'].str[:2]\n",
    "node_dict['index'] = range(len(node_dict))\n",
    "node_dict.head(3)"
   ]
  },
  {
   "cell_type": "code",
   "execution_count": 9,
   "id": "5902ae60",
   "metadata": {},
   "outputs": [
    {
     "name": "stdout",
     "output_type": "stream",
     "text": [
      "(14, 4)\n"
     ]
    },
    {
     "data": {
      "text/html": [
       "<div>\n",
       "<style scoped>\n",
       "    .dataframe tbody tr th:only-of-type {\n",
       "        vertical-align: middle;\n",
       "    }\n",
       "\n",
       "    .dataframe tbody tr th {\n",
       "        vertical-align: top;\n",
       "    }\n",
       "\n",
       "    .dataframe thead th {\n",
       "        text-align: right;\n",
       "    }\n",
       "</style>\n",
       "<table border=\"1\" class=\"dataframe\">\n",
       "  <thead>\n",
       "    <tr style=\"text-align: right;\">\n",
       "      <th></th>\n",
       "      <th>GEOID</th>\n",
       "      <th>Population</th>\n",
       "      <th>state</th>\n",
       "      <th>index</th>\n",
       "    </tr>\n",
       "  </thead>\n",
       "  <tbody>\n",
       "    <tr>\n",
       "      <th>61</th>\n",
       "      <td>04001</td>\n",
       "      <td>65897</td>\n",
       "      <td>04</td>\n",
       "      <td>61</td>\n",
       "    </tr>\n",
       "    <tr>\n",
       "      <th>62</th>\n",
       "      <td>04003</td>\n",
       "      <td>125398</td>\n",
       "      <td>04</td>\n",
       "      <td>62</td>\n",
       "    </tr>\n",
       "    <tr>\n",
       "      <th>63</th>\n",
       "      <td>04005</td>\n",
       "      <td>145116</td>\n",
       "      <td>04</td>\n",
       "      <td>63</td>\n",
       "    </tr>\n",
       "  </tbody>\n",
       "</table>\n",
       "</div>"
      ],
      "text/plain": [
       "    GEOID  Population state  index\n",
       "61  04001       65897    04     61\n",
       "62  04003      125398    04     62\n",
       "63  04005      145116    04     63"
      ]
     },
     "execution_count": 9,
     "metadata": {},
     "output_type": "execute_result"
    }
   ],
   "source": [
    "arizona = node_dict[node_dict['state'] == '04']\n",
    "\n",
    "#Index list--------------This is the one that check if weight matrix is in the same order as SEIR initial condition\n",
    "E_az_index = arizona['GEOID'].to_list()\n",
    "\n",
    "#Population list\n",
    "pop_list = arizona['Population'].tolist()\n",
    "\n",
    "#Print the dataset\n",
    "print(arizona.shape)\n",
    "arizona.head(3)"
   ]
  },
  {
   "cell_type": "code",
   "execution_count": 10,
   "id": "fb09c22e",
   "metadata": {},
   "outputs": [
    {
     "name": "stdout",
     "output_type": "stream",
     "text": [
      "[61, 62, 63, 64, 65, 66, 67, 68, 69, 70, 71, 72, 73, 74]\n"
     ]
    }
   ],
   "source": [
    "index = arizona['index'].tolist()\n",
    "print(index)"
   ]
  },
  {
   "cell_type": "markdown",
   "id": "bd221031",
   "metadata": {},
   "source": [
    "# Original Matrix for reference"
   ]
  },
  {
   "cell_type": "code",
   "execution_count": 11,
   "id": "7acc6ce1",
   "metadata": {},
   "outputs": [],
   "source": [
    "#Open the 12 weight matrix\n",
    "column_names = ['origin', 'destination', 'count', 'weight']\n",
    "for i in range(12):\n",
    "    n = i +1\n",
    "    \n",
    "    df = pd.read_csv(f\"../../Data/monthly_matrix_sd_county_month{n}_county.txt\", \n",
    "                     delimiter=' ', names=column_names)\n",
    "    \n",
    "    #Making sure all origin and destination are states in New York\n",
    "    df = df[(df['origin'].isin(index)) & (df['destination'].isin(index))]\n",
    "    \n",
    "    # Store the modified DataFrame\n",
    "    globals()[f'wt_mt{n}'] = df"
   ]
  },
  {
   "cell_type": "code",
   "execution_count": 12,
   "id": "22cd2d7b",
   "metadata": {},
   "outputs": [
    {
     "data": {
      "text/html": [
       "<div>\n",
       "<style scoped>\n",
       "    .dataframe tbody tr th:only-of-type {\n",
       "        vertical-align: middle;\n",
       "    }\n",
       "\n",
       "    .dataframe tbody tr th {\n",
       "        vertical-align: top;\n",
       "    }\n",
       "\n",
       "    .dataframe thead th {\n",
       "        text-align: right;\n",
       "    }\n",
       "</style>\n",
       "<table border=\"1\" class=\"dataframe\">\n",
       "  <thead>\n",
       "    <tr style=\"text-align: right;\">\n",
       "      <th></th>\n",
       "      <th>origin</th>\n",
       "      <th>destination</th>\n",
       "      <th>count</th>\n",
       "      <th>weight</th>\n",
       "    </tr>\n",
       "  </thead>\n",
       "  <tbody>\n",
       "    <tr>\n",
       "      <th>706018</th>\n",
       "      <td>61</td>\n",
       "      <td>63</td>\n",
       "      <td>12</td>\n",
       "      <td>0.010597</td>\n",
       "    </tr>\n",
       "    <tr>\n",
       "      <th>706019</th>\n",
       "      <td>62</td>\n",
       "      <td>63</td>\n",
       "      <td>12</td>\n",
       "      <td>0.001334</td>\n",
       "    </tr>\n",
       "    <tr>\n",
       "      <th>706020</th>\n",
       "      <td>63</td>\n",
       "      <td>63</td>\n",
       "      <td>12</td>\n",
       "      <td>0.652029</td>\n",
       "    </tr>\n",
       "  </tbody>\n",
       "</table>\n",
       "</div>"
      ],
      "text/plain": [
       "        origin  destination  count    weight\n",
       "706018      61           63     12  0.010597\n",
       "706019      62           63     12  0.001334\n",
       "706020      63           63     12  0.652029"
      ]
     },
     "execution_count": 12,
     "metadata": {},
     "output_type": "execute_result"
    }
   ],
   "source": [
    "wt_mt12.head(3)"
   ]
  },
  {
   "cell_type": "code",
   "execution_count": 13,
   "id": "dcc4694b",
   "metadata": {},
   "outputs": [],
   "source": [
    "#Turn each data into a matrix\n",
    "#Transform the dataframe to a matrix with pivot table\n",
    "for i in range(12):\n",
    "    n = i+1\n",
    "    matrix = globals()[f'wt_mt{n}'].pivot_table(index='origin', \n",
    "                                                columns='destination', \n",
    "                                                values= 'weight', fill_value=0)\n",
    "    matrix = matrix.reset_index()\n",
    "    matrix = matrix.drop(columns = [\"origin\"]) #drop the origin column\n",
    "    globals()[f'matrix{n}'] = matrix"
   ]
  },
  {
   "cell_type": "code",
   "execution_count": 14,
   "id": "8a2559b0",
   "metadata": {},
   "outputs": [],
   "source": [
    "for i in range(12):\n",
    "    n = i +1\n",
    "    count_df = globals()[f'matrix{n}'].multiply(pop_list, axis=0)\n",
    "    globals()[f'count_df{n}'] = count_df"
   ]
  },
  {
   "cell_type": "code",
   "execution_count": 15,
   "id": "005f1200",
   "metadata": {},
   "outputs": [
    {
     "name": "stdout",
     "output_type": "stream",
     "text": [
      "(14, 14)\n"
     ]
    },
    {
     "data": {
      "text/html": [
       "<div>\n",
       "<style scoped>\n",
       "    .dataframe tbody tr th:only-of-type {\n",
       "        vertical-align: middle;\n",
       "    }\n",
       "\n",
       "    .dataframe tbody tr th {\n",
       "        vertical-align: top;\n",
       "    }\n",
       "\n",
       "    .dataframe thead th {\n",
       "        text-align: right;\n",
       "    }\n",
       "</style>\n",
       "<table border=\"1\" class=\"dataframe\">\n",
       "  <thead>\n",
       "    <tr style=\"text-align: right;\">\n",
       "      <th>destination</th>\n",
       "      <th>61</th>\n",
       "      <th>62</th>\n",
       "      <th>63</th>\n",
       "      <th>64</th>\n",
       "      <th>65</th>\n",
       "      <th>66</th>\n",
       "      <th>67</th>\n",
       "      <th>68</th>\n",
       "      <th>69</th>\n",
       "      <th>70</th>\n",
       "      <th>71</th>\n",
       "      <th>72</th>\n",
       "      <th>73</th>\n",
       "      <th>74</th>\n",
       "    </tr>\n",
       "  </thead>\n",
       "  <tbody>\n",
       "    <tr>\n",
       "      <th>0</th>\n",
       "      <td>37990.937609</td>\n",
       "      <td>81.417075</td>\n",
       "      <td>825.011127</td>\n",
       "      <td>284.140472</td>\n",
       "      <td>145.726563</td>\n",
       "      <td>33.200409</td>\n",
       "      <td>2454.782728</td>\n",
       "      <td>153.215027</td>\n",
       "      <td>5275.154748</td>\n",
       "      <td>316.929366</td>\n",
       "      <td>258.641581</td>\n",
       "      <td>24.259703</td>\n",
       "      <td>153.282862</td>\n",
       "      <td>47.527775</td>\n",
       "    </tr>\n",
       "    <tr>\n",
       "      <th>1</th>\n",
       "      <td>76.556376</td>\n",
       "      <td>97699.424211</td>\n",
       "      <td>175.526620</td>\n",
       "      <td>77.439922</td>\n",
       "      <td>494.584172</td>\n",
       "      <td>50.722312</td>\n",
       "      <td>2186.986443</td>\n",
       "      <td>86.942602</td>\n",
       "      <td>124.085068</td>\n",
       "      <td>5760.938746</td>\n",
       "      <td>330.766988</td>\n",
       "      <td>251.420288</td>\n",
       "      <td>173.783422</td>\n",
       "      <td>112.259046</td>\n",
       "    </tr>\n",
       "    <tr>\n",
       "      <th>2</th>\n",
       "      <td>296.462766</td>\n",
       "      <td>108.776201</td>\n",
       "      <td>106651.736134</td>\n",
       "      <td>290.172211</td>\n",
       "      <td>44.970204</td>\n",
       "      <td>89.139028</td>\n",
       "      <td>10604.559221</td>\n",
       "      <td>785.269169</td>\n",
       "      <td>995.935108</td>\n",
       "      <td>907.433041</td>\n",
       "      <td>405.917117</td>\n",
       "      <td>28.186163</td>\n",
       "      <td>2943.769913</td>\n",
       "      <td>138.819524</td>\n",
       "    </tr>\n",
       "  </tbody>\n",
       "</table>\n",
       "</div>"
      ],
      "text/plain": [
       "destination            61            62             63          64  \\\n",
       "0            37990.937609     81.417075     825.011127  284.140472   \n",
       "1               76.556376  97699.424211     175.526620   77.439922   \n",
       "2              296.462766    108.776201  106651.736134  290.172211   \n",
       "\n",
       "destination          65         66            67          68           69  \\\n",
       "0            145.726563  33.200409   2454.782728  153.215027  5275.154748   \n",
       "1            494.584172  50.722312   2186.986443   86.942602   124.085068   \n",
       "2             44.970204  89.139028  10604.559221  785.269169   995.935108   \n",
       "\n",
       "destination           70          71          72           73          74  \n",
       "0             316.929366  258.641581   24.259703   153.282862   47.527775  \n",
       "1            5760.938746  330.766988  251.420288   173.783422  112.259046  \n",
       "2             907.433041  405.917117   28.186163  2943.769913  138.819524  "
      ]
     },
     "execution_count": 15,
     "metadata": {},
     "output_type": "execute_result"
    }
   ],
   "source": [
    "average_count_df = sum(globals()[f'count_df{i}'] for i in range(1, 13)) / 12\n",
    "print(average_count_df.shape)\n",
    "average_count_df.head(3)"
   ]
  },
  {
   "cell_type": "code",
   "execution_count": 17,
   "id": "f9174c2b",
   "metadata": {},
   "outputs": [
    {
     "data": {
      "text/html": [
       "<div>\n",
       "<style scoped>\n",
       "    .dataframe tbody tr th:only-of-type {\n",
       "        vertical-align: middle;\n",
       "    }\n",
       "\n",
       "    .dataframe tbody tr th {\n",
       "        vertical-align: top;\n",
       "    }\n",
       "\n",
       "    .dataframe thead th {\n",
       "        text-align: right;\n",
       "    }\n",
       "</style>\n",
       "<table border=\"1\" class=\"dataframe\">\n",
       "  <thead>\n",
       "    <tr style=\"text-align: right;\">\n",
       "      <th>destination</th>\n",
       "      <th>61</th>\n",
       "      <th>62</th>\n",
       "      <th>63</th>\n",
       "      <th>64</th>\n",
       "      <th>65</th>\n",
       "      <th>66</th>\n",
       "      <th>67</th>\n",
       "      <th>68</th>\n",
       "      <th>69</th>\n",
       "      <th>70</th>\n",
       "      <th>71</th>\n",
       "      <th>72</th>\n",
       "      <th>73</th>\n",
       "      <th>74</th>\n",
       "    </tr>\n",
       "  </thead>\n",
       "  <tbody>\n",
       "    <tr>\n",
       "      <th>0</th>\n",
       "      <td>0.790749</td>\n",
       "      <td>0.001695</td>\n",
       "      <td>0.017172</td>\n",
       "      <td>0.005914</td>\n",
       "      <td>0.003033</td>\n",
       "      <td>0.000691</td>\n",
       "      <td>0.051094</td>\n",
       "      <td>0.003189</td>\n",
       "      <td>0.109798</td>\n",
       "      <td>0.006597</td>\n",
       "      <td>0.005383</td>\n",
       "      <td>0.000505</td>\n",
       "      <td>0.003190</td>\n",
       "      <td>0.000989</td>\n",
       "    </tr>\n",
       "    <tr>\n",
       "      <th>1</th>\n",
       "      <td>0.000711</td>\n",
       "      <td>0.907975</td>\n",
       "      <td>0.001631</td>\n",
       "      <td>0.000720</td>\n",
       "      <td>0.004596</td>\n",
       "      <td>0.000471</td>\n",
       "      <td>0.020325</td>\n",
       "      <td>0.000808</td>\n",
       "      <td>0.001153</td>\n",
       "      <td>0.053540</td>\n",
       "      <td>0.003074</td>\n",
       "      <td>0.002337</td>\n",
       "      <td>0.001615</td>\n",
       "      <td>0.001043</td>\n",
       "    </tr>\n",
       "    <tr>\n",
       "      <th>2</th>\n",
       "      <td>0.002385</td>\n",
       "      <td>0.000875</td>\n",
       "      <td>0.858080</td>\n",
       "      <td>0.002335</td>\n",
       "      <td>0.000362</td>\n",
       "      <td>0.000717</td>\n",
       "      <td>0.085320</td>\n",
       "      <td>0.006318</td>\n",
       "      <td>0.008013</td>\n",
       "      <td>0.007301</td>\n",
       "      <td>0.003266</td>\n",
       "      <td>0.000227</td>\n",
       "      <td>0.023684</td>\n",
       "      <td>0.001117</td>\n",
       "    </tr>\n",
       "  </tbody>\n",
       "</table>\n",
       "</div>"
      ],
      "text/plain": [
       "destination        61        62        63        64        65        66  \\\n",
       "0            0.790749  0.001695  0.017172  0.005914  0.003033  0.000691   \n",
       "1            0.000711  0.907975  0.001631  0.000720  0.004596  0.000471   \n",
       "2            0.002385  0.000875  0.858080  0.002335  0.000362  0.000717   \n",
       "\n",
       "destination        67        68        69        70        71        72  \\\n",
       "0            0.051094  0.003189  0.109798  0.006597  0.005383  0.000505   \n",
       "1            0.020325  0.000808  0.001153  0.053540  0.003074  0.002337   \n",
       "2            0.085320  0.006318  0.008013  0.007301  0.003266  0.000227   \n",
       "\n",
       "destination        73        74  \n",
       "0            0.003190  0.000989  \n",
       "1            0.001615  0.001043  \n",
       "2            0.023684  0.001117  "
      ]
     },
     "execution_count": 17,
     "metadata": {},
     "output_type": "execute_result"
    }
   ],
   "source": [
    "#Turn count to weight\n",
    "divisor = [average_count_df.iloc[i].sum() for i in range(14)]\n",
    "average_wt_mt = average_count_df.div(divisor, axis=0)\n",
    "average_wt_mt.head(3)"
   ]
  },
  {
   "cell_type": "code",
   "execution_count": 18,
   "id": "c5022125",
   "metadata": {},
   "outputs": [],
   "source": [
    "average_wt_mt_np = average_wt_mt.to_numpy()"
   ]
  },
  {
   "cell_type": "code",
   "execution_count": 19,
   "id": "77231a7f",
   "metadata": {},
   "outputs": [
    {
     "data": {
      "text/plain": [
       "0.7907492730469408"
      ]
     },
     "execution_count": 19,
     "metadata": {},
     "output_type": "execute_result"
    }
   ],
   "source": [
    "average_wt_mt_np[0][0]"
   ]
  },
  {
   "cell_type": "code",
   "execution_count": 21,
   "id": "e477a7b0",
   "metadata": {},
   "outputs": [],
   "source": [
    "Pii_ori = [average_wt_mt_np[i][i] for i in range(14)]"
   ]
  },
  {
   "cell_type": "code",
   "execution_count": 22,
   "id": "c05e1d72",
   "metadata": {},
   "outputs": [
    {
     "name": "stdout",
     "output_type": "stream",
     "text": [
      "Mean: 0.8747703104343765\n",
      "Median: 0.8703885218095484\n",
      "Min: 0.7038075819337574\n",
      "Max: 0.9704888261612857\n",
      "Length of the list: 14\n"
     ]
    }
   ],
   "source": [
    "data = Pii_ori \n",
    "mean_value = sum(data) / len(data)  # Mean\n",
    "median_value = statistics.median(data)  # Median\n",
    "min_value = min(data)  # Min\n",
    "max_value = max(data)  # Max\n",
    "\n",
    "# Output\n",
    "print(f\"Mean: {mean_value}\")\n",
    "print(f\"Median: {median_value}\")\n",
    "print(f\"Min: {min_value}\")\n",
    "print(f\"Max: {max_value}\")\n",
    "print(f\"Length of the list: {len(Pii_ori)}\")"
   ]
  },
  {
   "cell_type": "markdown",
   "id": "1b5d57f4",
   "metadata": {},
   "source": [
    "# Individual Data"
   ]
  },
  {
   "cell_type": "markdown",
   "id": "1a90d7f3",
   "metadata": {},
   "source": [
    "## Different Layers of Census Data\n",
    "\n",
    "- State (2 digit)\n",
    "- County (5 digit)\n",
    "- Census Tracts (4 digits)\n",
    "- Census Block Groups\n",
    "- Census tracts"
   ]
  },
  {
   "cell_type": "code",
   "execution_count": 24,
   "id": "66114035",
   "metadata": {},
   "outputs": [
    {
     "name": "stdout",
     "output_type": "stream",
     "text": [
      "(4692545, 4)\n"
     ]
    },
    {
     "data": {
      "text/html": [
       "<div>\n",
       "<style scoped>\n",
       "    .dataframe tbody tr th:only-of-type {\n",
       "        vertical-align: middle;\n",
       "    }\n",
       "\n",
       "    .dataframe tbody tr th {\n",
       "        vertical-align: top;\n",
       "    }\n",
       "\n",
       "    .dataframe thead th {\n",
       "        text-align: right;\n",
       "    }\n",
       "</style>\n",
       "<table border=\"1\" class=\"dataframe\">\n",
       "  <thead>\n",
       "    <tr style=\"text-align: right;\">\n",
       "      <th></th>\n",
       "      <th>uid</th>\n",
       "      <th>datetime</th>\n",
       "      <th>lat</th>\n",
       "      <th>lng</th>\n",
       "    </tr>\n",
       "  </thead>\n",
       "  <tbody>\n",
       "    <tr>\n",
       "      <th>0</th>\n",
       "      <td>1</td>\n",
       "      <td>2020-03-01 00:00:00.000000</td>\n",
       "      <td>35.977278</td>\n",
       "      <td>-109.152405</td>\n",
       "    </tr>\n",
       "    <tr>\n",
       "      <th>1</th>\n",
       "      <td>1</td>\n",
       "      <td>2020-03-01 00:26:56.779383</td>\n",
       "      <td>33.442903</td>\n",
       "      <td>-111.945061</td>\n",
       "    </tr>\n",
       "    <tr>\n",
       "      <th>2</th>\n",
       "      <td>1</td>\n",
       "      <td>2020-03-01 01:40:04.550659</td>\n",
       "      <td>35.977278</td>\n",
       "      <td>-109.152405</td>\n",
       "    </tr>\n",
       "    <tr>\n",
       "      <th>3</th>\n",
       "      <td>1</td>\n",
       "      <td>2020-03-01 02:55:03.111088</td>\n",
       "      <td>35.718712</td>\n",
       "      <td>-109.065388</td>\n",
       "    </tr>\n",
       "    <tr>\n",
       "      <th>4</th>\n",
       "      <td>1</td>\n",
       "      <td>2020-03-01 03:15:03.775936</td>\n",
       "      <td>35.680737</td>\n",
       "      <td>-109.053865</td>\n",
       "    </tr>\n",
       "  </tbody>\n",
       "</table>\n",
       "</div>"
      ],
      "text/plain": [
       "   uid                    datetime        lat         lng\n",
       "0    1  2020-03-01 00:00:00.000000  35.977278 -109.152405\n",
       "1    1  2020-03-01 00:26:56.779383  33.442903 -111.945061\n",
       "2    1  2020-03-01 01:40:04.550659  35.977278 -109.152405\n",
       "3    1  2020-03-01 02:55:03.111088  35.718712 -109.065388\n",
       "4    1  2020-03-01 03:15:03.775936  35.680737 -109.053865"
      ]
     },
     "execution_count": 24,
     "metadata": {},
     "output_type": "execute_result"
    }
   ],
   "source": [
    "data = pd.read_csv(\"AZ_4Week_10000_realpop.csv\")\n",
    "data = data.drop(columns = 'Unnamed: 0')\n",
    "print(data.shape)\n",
    "data.head()"
   ]
  },
  {
   "cell_type": "code",
   "execution_count": 25,
   "id": "c4fc41d0",
   "metadata": {},
   "outputs": [],
   "source": [
    "indi_visit_list = []\n",
    "for i in range(10000):\n",
    "    id_num = i+1\n",
    "    #if i % 4000 == 0:\n",
    "    #    print(i)\n",
    "    indi_sub = data[data['uid'] == id_num]\n",
    "    length = len(indi_sub)\n",
    "    indi_visit_list.append(length)"
   ]
  },
  {
   "cell_type": "code",
   "execution_count": 26,
   "id": "eff5e607",
   "metadata": {},
   "outputs": [
    {
     "data": {
      "image/png": "[encoded data removed]",
      "text/plain": [
       "<Figure size 640x480 with 1 Axes>"
      ]
     },
     "metadata": {},
     "output_type": "display_data"
    },
    {
     "name": "stdout",
     "output_type": "stream",
     "text": [
      "Min: 327\n",
      "5%: 404.0\n",
      "Median: 470.0\n",
      "95%: 532.0\n",
      "Max: 615\n"
     ]
    }
   ],
   "source": [
    "import seaborn as sns\n",
    "import matplotlib.pyplot as plt\n",
    "\n",
    "sns.kdeplot(indi_visit_list, fill=True)\n",
    "plt.xlabel('Total visit')\n",
    "plt.ylabel('Density')\n",
    "plt.title('Density Plot')\n",
    "plt.show()\n",
    "\n",
    "min_val = np.min(indi_visit_list)\n",
    "P5 = np.percentile(indi_visit_list, 5)\n",
    "median = np.median(indi_visit_list)\n",
    "P95 = np.percentile(indi_visit_list, 95)\n",
    "max_val = np.max(indi_visit_list)\n",
    "\n",
    "print(f\"Min: {min_val}\")\n",
    "print(f\"5%: {P5}\")\n",
    "print(f\"Median: {median}\")\n",
    "print(f\"95%: {P95}\")\n",
    "print(f\"Max: {max_val}\")"
   ]
  },
  {
   "cell_type": "markdown",
   "id": "e0330a82",
   "metadata": {},
   "source": [
    "# Census Tract Shape File"
   ]
  },
  {
   "cell_type": "markdown",
   "id": "40c271c9",
   "metadata": {},
   "source": [
    "https://www.census.gov/geographies/mapping-files/time-series/geo/tiger-line-file.html\n",
    "- Go to Data\n",
    "- Mapping file\n",
    "- TIGER/Line Geodatabases (GIS)\n",
    "\n",
    "\n",
    "Here's the county level shape file:\n",
    "https://www.census.gov/geographies/mapping-files/time-series/geo/carto-boundary-file.html"
   ]
  },
  {
   "cell_type": "code",
   "execution_count": 27,
   "id": "2ccabdff",
   "metadata": {},
   "outputs": [],
   "source": [
    "#Note that geopandas only works in ipykernel environment\n",
    "import geopandas as gpd\n",
    "from shapely.geometry import Point\n",
    "from shapely.wkt import loads"
   ]
  },
  {
   "cell_type": "markdown",
   "id": "dbd72bc1",
   "metadata": {},
   "source": [
    "## trying census block group this time!"
   ]
  },
  {
   "cell_type": "code",
   "execution_count": 28,
   "id": "aeabba46",
   "metadata": {},
   "outputs": [
    {
     "name": "stdout",
     "output_type": "stream",
     "text": [
      "Index(['GEOID', 'geometry'], dtype='object')\n",
      "(4773, 2)\n"
     ]
    },
    {
     "data": {
      "text/html": [
       "<div>\n",
       "<style scoped>\n",
       "    .dataframe tbody tr th:only-of-type {\n",
       "        vertical-align: middle;\n",
       "    }\n",
       "\n",
       "    .dataframe tbody tr th {\n",
       "        vertical-align: top;\n",
       "    }\n",
       "\n",
       "    .dataframe thead th {\n",
       "        text-align: right;\n",
       "    }\n",
       "</style>\n",
       "<table border=\"1\" class=\"dataframe\">\n",
       "  <thead>\n",
       "    <tr style=\"text-align: right;\">\n",
       "      <th></th>\n",
       "      <th>GEOID</th>\n",
       "      <th>geometry</th>\n",
       "    </tr>\n",
       "  </thead>\n",
       "  <tbody>\n",
       "    <tr>\n",
       "      <th>0</th>\n",
       "      <td>040210017091</td>\n",
       "      <td>POLYGON ((-112.01312 33.08255, -112.01311 33.0...</td>\n",
       "    </tr>\n",
       "  </tbody>\n",
       "</table>\n",
       "</div>"
      ],
      "text/plain": [
       "          GEOID                                           geometry\n",
       "0  040210017091  POLYGON ((-112.01312 33.08255, -112.01311 33.0..."
      ]
     },
     "execution_count": 28,
     "metadata": {},
     "output_type": "execute_result"
    }
   ],
   "source": [
    "#url = \"https://www2.census.gov/geo/tiger/TIGER2020/BG/tl_2020_53_bg.zip\"\n",
    "#tracts = gpd.read_file(url)[[\"GEOID\", \"geometry\"]]\n",
    "tracts = gpd.read_file(\"tl_2020_04_bg/tl_2020_04_bg.shp\")[[\"GEOID\", \"geometry\"]]\n",
    "print(tracts.columns)\n",
    "print(tracts.shape)\n",
    "tracts.head(1) "
   ]
  },
  {
   "cell_type": "code",
   "execution_count": 29,
   "id": "094284f0",
   "metadata": {},
   "outputs": [
    {
     "name": "stdout",
     "output_type": "stream",
     "text": [
      "(4765, 3)\n"
     ]
    },
    {
     "data": {
      "text/html": [
       "<div>\n",
       "<style scoped>\n",
       "    .dataframe tbody tr th:only-of-type {\n",
       "        vertical-align: middle;\n",
       "    }\n",
       "\n",
       "    .dataframe tbody tr th {\n",
       "        vertical-align: top;\n",
       "    }\n",
       "\n",
       "    .dataframe thead th {\n",
       "        text-align: right;\n",
       "    }\n",
       "</style>\n",
       "<table border=\"1\" class=\"dataframe\">\n",
       "  <thead>\n",
       "    <tr style=\"text-align: right;\">\n",
       "      <th></th>\n",
       "      <th>GEOID</th>\n",
       "      <th>geometry</th>\n",
       "      <th>County</th>\n",
       "    </tr>\n",
       "  </thead>\n",
       "  <tbody>\n",
       "    <tr>\n",
       "      <th>0</th>\n",
       "      <td>040210017091</td>\n",
       "      <td>POLYGON ((-112.01312 33.08255, -112.01311 33.0...</td>\n",
       "      <td>04021</td>\n",
       "    </tr>\n",
       "    <tr>\n",
       "      <th>1</th>\n",
       "      <td>040210017092</td>\n",
       "      <td>POLYGON ((-112.01346 33.05881, -112.01346 33.0...</td>\n",
       "      <td>04021</td>\n",
       "    </tr>\n",
       "    <tr>\n",
       "      <th>2</th>\n",
       "      <td>040030020022</td>\n",
       "      <td>POLYGON ((-110.22384 31.43970, -110.22383 31.4...</td>\n",
       "      <td>04003</td>\n",
       "    </tr>\n",
       "  </tbody>\n",
       "</table>\n",
       "</div>"
      ],
      "text/plain": [
       "          GEOID                                           geometry County\n",
       "0  040210017091  POLYGON ((-112.01312 33.08255, -112.01311 33.0...  04021\n",
       "1  040210017092  POLYGON ((-112.01346 33.05881, -112.01346 33.0...  04021\n",
       "2  040030020022  POLYGON ((-110.22384 31.43970, -110.22383 31.4...  04003"
      ]
     },
     "execution_count": 29,
     "metadata": {},
     "output_type": "execute_result"
    }
   ],
   "source": [
    "#Maing sure the shape file that we use to perform Geospacial join are all in countis of interest\n",
    "tracts['County'] = tracts['GEOID'].str[:5].copy()\n",
    "tracts = tracts[tracts['County'].isin(E_wa_index)]\n",
    "print(tracts.shape)\n",
    "tracts.head(3)"
   ]
  },
  {
   "cell_type": "code",
   "execution_count": 30,
   "id": "3d610447",
   "metadata": {},
   "outputs": [
    {
     "data": {
      "text/plain": [
       "14"
      ]
     },
     "execution_count": 30,
     "metadata": {},
     "output_type": "execute_result"
    }
   ],
   "source": [
    "len(tracts['County'].unique().tolist())"
   ]
  },
  {
   "cell_type": "code",
   "execution_count": 31,
   "id": "2b6b75f3",
   "metadata": {},
   "outputs": [
    {
     "data": {
      "text/plain": [
       "['04']"
      ]
     },
     "execution_count": 31,
     "metadata": {},
     "output_type": "execute_result"
    }
   ],
   "source": [
    "#To test if they are all New York Data\n",
    "test = tracts.copy()\n",
    "test['state'] = test['GEOID'].str[:2]\n",
    "unique_state = test['state'].unique().tolist()\n",
    "unique_state"
   ]
  },
  {
   "cell_type": "code",
   "execution_count": 32,
   "id": "e6b1ecd1",
   "metadata": {},
   "outputs": [
    {
     "data": {
      "image/svg+xml": [
       "<svg xmlns=\"http://www.w3.org/2000/svg\" xmlns:xlink=\"http://www.w3.org/1999/xlink\" width=\"100.0\" height=\"100.0\" viewBox=\"-111.74068096 32.88614904 0.01873692000000915 0.008725919999996279\" preserveAspectRatio=\"xMinYMin meet\"><g transform=\"matrix(1,0,0,-1,0,65.781024)\"><path fill-rule=\"evenodd\" fill=\"#66cc99\" stroke=\"#555555\" stroke-width=\"0.000374738400000183\" opacity=\"0.6\" d=\"M -111.739986,32.88769 L -111.739986,32.88776 L -111.739985,32.888216 L -111.739985,32.888276999999995 L -111.73998399999999,32.888650999999996 L -111.739983,32.889117999999996 L -111.739983,32.8894 L -111.739983,32.88955 L -111.739982,32.889775 L -111.739981,32.890121 L -111.739979,32.890518 L -111.739974,32.891394 L -111.739972,32.891847 L -111.739968,32.892343 L -111.739959,32.893622 L -111.739956,32.893933 L -111.739824,32.894076 L -111.739829,32.894138999999996 L -111.738733,32.894109 L -111.73821,32.894083 L -111.73777799999999,32.894081 L -111.73712499999999,32.894078 L -111.736147,32.894090999999996 L -111.735505,32.894098 L -111.735289,32.894101 L -111.734642,32.894109 L -111.734006,32.894113 L -111.732531,32.894123 L -111.732112,32.894126 L -111.732074,32.894126 L -111.731292,32.89413 L -111.731108,32.894132 L -111.73054,32.894135999999996 L -111.728638,32.894146 L -111.725199,32.894180999999996 L -111.722641,32.894177 L -111.722644,32.891897 L -111.722643,32.891788 L -111.722641,32.891021 L -111.722641,32.890904 L -111.722638,32.889803 L -111.722644,32.888712 L -111.722651,32.886888 L -111.723204,32.886884 L -111.726046,32.886877999999996 L -111.726894,32.886876 L -111.729716,32.886866999999995 L -111.731281,32.886868 L -111.731857,32.886868 L -111.73275,32.886868 L -111.733413,32.886868 L -111.73349,32.886866999999995 L -111.734023,32.886865 L -111.734991,32.886885 L -111.735071,32.886884 L -111.735595,32.886873 L -111.735652,32.886871 L -111.73793,32.886859 L -111.739325,32.886848 L -111.739481,32.886848 L -111.739987,32.886843 L -111.739986,32.88769 z\" /></g></svg>"
      ],
      "text/plain": [
       "<POLYGON ((-111.74 32.888, -111.74 32.888, -111.74 32.888, -111.74 32.888, -...>"
      ]
     },
     "execution_count": 32,
     "metadata": {},
     "output_type": "execute_result"
    }
   ],
   "source": [
    "tracts.iloc[11,1]"
   ]
  },
  {
   "cell_type": "markdown",
   "id": "4ce7605d",
   "metadata": {},
   "source": [
    "## Individual trajectory data"
   ]
  },
  {
   "cell_type": "code",
   "execution_count": 33,
   "id": "a7f1e99a",
   "metadata": {
    "scrolled": true
   },
   "outputs": [
    {
     "name": "stdout",
     "output_type": "stream",
     "text": [
      "(4692545, 4)\n"
     ]
    },
    {
     "data": {
      "text/html": [
       "<div>\n",
       "<style scoped>\n",
       "    .dataframe tbody tr th:only-of-type {\n",
       "        vertical-align: middle;\n",
       "    }\n",
       "\n",
       "    .dataframe tbody tr th {\n",
       "        vertical-align: top;\n",
       "    }\n",
       "\n",
       "    .dataframe thead th {\n",
       "        text-align: right;\n",
       "    }\n",
       "</style>\n",
       "<table border=\"1\" class=\"dataframe\">\n",
       "  <thead>\n",
       "    <tr style=\"text-align: right;\">\n",
       "      <th></th>\n",
       "      <th>uid</th>\n",
       "      <th>datetime</th>\n",
       "      <th>lat</th>\n",
       "      <th>lng</th>\n",
       "    </tr>\n",
       "  </thead>\n",
       "  <tbody>\n",
       "    <tr>\n",
       "      <th>0</th>\n",
       "      <td>1</td>\n",
       "      <td>2020-03-01 00:00:00.000000</td>\n",
       "      <td>35.977278</td>\n",
       "      <td>-109.152405</td>\n",
       "    </tr>\n",
       "    <tr>\n",
       "      <th>1</th>\n",
       "      <td>1</td>\n",
       "      <td>2020-03-01 00:26:56.779383</td>\n",
       "      <td>33.442903</td>\n",
       "      <td>-111.945061</td>\n",
       "    </tr>\n",
       "    <tr>\n",
       "      <th>2</th>\n",
       "      <td>1</td>\n",
       "      <td>2020-03-01 01:40:04.550659</td>\n",
       "      <td>35.977278</td>\n",
       "      <td>-109.152405</td>\n",
       "    </tr>\n",
       "    <tr>\n",
       "      <th>3</th>\n",
       "      <td>1</td>\n",
       "      <td>2020-03-01 02:55:03.111088</td>\n",
       "      <td>35.718712</td>\n",
       "      <td>-109.065388</td>\n",
       "    </tr>\n",
       "    <tr>\n",
       "      <th>4</th>\n",
       "      <td>1</td>\n",
       "      <td>2020-03-01 03:15:03.775936</td>\n",
       "      <td>35.680737</td>\n",
       "      <td>-109.053865</td>\n",
       "    </tr>\n",
       "  </tbody>\n",
       "</table>\n",
       "</div>"
      ],
      "text/plain": [
       "   uid                    datetime        lat         lng\n",
       "0    1  2020-03-01 00:00:00.000000  35.977278 -109.152405\n",
       "1    1  2020-03-01 00:26:56.779383  33.442903 -111.945061\n",
       "2    1  2020-03-01 01:40:04.550659  35.977278 -109.152405\n",
       "3    1  2020-03-01 02:55:03.111088  35.718712 -109.065388\n",
       "4    1  2020-03-01 03:15:03.775936  35.680737 -109.053865"
      ]
     },
     "execution_count": 33,
     "metadata": {},
     "output_type": "execute_result"
    }
   ],
   "source": [
    "print(data.shape)\n",
    "data.head()"
   ]
  },
  {
   "cell_type": "markdown",
   "id": "b99a34aa",
   "metadata": {},
   "source": [
    "### This takes 5-8 seconds"
   ]
  },
  {
   "cell_type": "code",
   "execution_count": 34,
   "id": "afe71936",
   "metadata": {},
   "outputs": [
    {
     "data": {
      "text/html": [
       "<div>\n",
       "<style scoped>\n",
       "    .dataframe tbody tr th:only-of-type {\n",
       "        vertical-align: middle;\n",
       "    }\n",
       "\n",
       "    .dataframe tbody tr th {\n",
       "        vertical-align: top;\n",
       "    }\n",
       "\n",
       "    .dataframe thead th {\n",
       "        text-align: right;\n",
       "    }\n",
       "</style>\n",
       "<table border=\"1\" class=\"dataframe\">\n",
       "  <thead>\n",
       "    <tr style=\"text-align: right;\">\n",
       "      <th></th>\n",
       "      <th>uid</th>\n",
       "      <th>datetime</th>\n",
       "      <th>lat</th>\n",
       "      <th>lng</th>\n",
       "      <th>geometry</th>\n",
       "    </tr>\n",
       "  </thead>\n",
       "  <tbody>\n",
       "    <tr>\n",
       "      <th>0</th>\n",
       "      <td>1</td>\n",
       "      <td>2020-03-01 00:00:00.000000</td>\n",
       "      <td>35.977278</td>\n",
       "      <td>-109.152405</td>\n",
       "      <td>POINT (-109.15240 35.97728)</td>\n",
       "    </tr>\n",
       "    <tr>\n",
       "      <th>1</th>\n",
       "      <td>1</td>\n",
       "      <td>2020-03-01 00:26:56.779383</td>\n",
       "      <td>33.442903</td>\n",
       "      <td>-111.945061</td>\n",
       "      <td>POINT (-111.94506 33.44290)</td>\n",
       "    </tr>\n",
       "    <tr>\n",
       "      <th>2</th>\n",
       "      <td>1</td>\n",
       "      <td>2020-03-01 01:40:04.550659</td>\n",
       "      <td>35.977278</td>\n",
       "      <td>-109.152405</td>\n",
       "      <td>POINT (-109.15240 35.97728)</td>\n",
       "    </tr>\n",
       "    <tr>\n",
       "      <th>3</th>\n",
       "      <td>1</td>\n",
       "      <td>2020-03-01 02:55:03.111088</td>\n",
       "      <td>35.718712</td>\n",
       "      <td>-109.065388</td>\n",
       "      <td>POINT (-109.06539 35.71871)</td>\n",
       "    </tr>\n",
       "    <tr>\n",
       "      <th>4</th>\n",
       "      <td>1</td>\n",
       "      <td>2020-03-01 03:15:03.775936</td>\n",
       "      <td>35.680737</td>\n",
       "      <td>-109.053865</td>\n",
       "      <td>POINT (-109.05386 35.68074)</td>\n",
       "    </tr>\n",
       "  </tbody>\n",
       "</table>\n",
       "</div>"
      ],
      "text/plain": [
       "   uid                    datetime        lat         lng  \\\n",
       "0    1  2020-03-01 00:00:00.000000  35.977278 -109.152405   \n",
       "1    1  2020-03-01 00:26:56.779383  33.442903 -111.945061   \n",
       "2    1  2020-03-01 01:40:04.550659  35.977278 -109.152405   \n",
       "3    1  2020-03-01 02:55:03.111088  35.718712 -109.065388   \n",
       "4    1  2020-03-01 03:15:03.775936  35.680737 -109.053865   \n",
       "\n",
       "                      geometry  \n",
       "0  POINT (-109.15240 35.97728)  \n",
       "1  POINT (-111.94506 33.44290)  \n",
       "2  POINT (-109.15240 35.97728)  \n",
       "3  POINT (-109.06539 35.71871)  \n",
       "4  POINT (-109.05386 35.68074)  "
      ]
     },
     "execution_count": 34,
     "metadata": {},
     "output_type": "execute_result"
    }
   ],
   "source": [
    "# Convert latitude/longitude into Point geometry\n",
    "geometry = [Point(xy) for xy in zip(data[\"lng\"], data[\"lat\"])] #Convert coordinate to points\n",
    "\n",
    "# Create a GeoDataFrame with the same CRS as the Census Tract shapefile\n",
    "points_gdf = gpd.GeoDataFrame(data, geometry=geometry, crs=\"EPSG:4326\")\n",
    "\n",
    "points_gdf.head() # Check that geometry was created correctly"
   ]
  },
  {
   "cell_type": "code",
   "execution_count": 35,
   "id": "5796ff5e",
   "metadata": {},
   "outputs": [
    {
     "data": {
      "text/html": [
       "<div>\n",
       "<style scoped>\n",
       "    .dataframe tbody tr th:only-of-type {\n",
       "        vertical-align: middle;\n",
       "    }\n",
       "\n",
       "    .dataframe tbody tr th {\n",
       "        vertical-align: top;\n",
       "    }\n",
       "\n",
       "    .dataframe thead th {\n",
       "        text-align: right;\n",
       "    }\n",
       "</style>\n",
       "<table border=\"1\" class=\"dataframe\">\n",
       "  <thead>\n",
       "    <tr style=\"text-align: right;\">\n",
       "      <th></th>\n",
       "      <th>GEOID</th>\n",
       "      <th>geometry</th>\n",
       "      <th>County</th>\n",
       "    </tr>\n",
       "  </thead>\n",
       "  <tbody>\n",
       "    <tr>\n",
       "      <th>0</th>\n",
       "      <td>040210017091</td>\n",
       "      <td>POLYGON ((-112.01312 33.08255, -112.01311 33.0...</td>\n",
       "      <td>04021</td>\n",
       "    </tr>\n",
       "    <tr>\n",
       "      <th>1</th>\n",
       "      <td>040210017092</td>\n",
       "      <td>POLYGON ((-112.01346 33.05881, -112.01346 33.0...</td>\n",
       "      <td>04021</td>\n",
       "    </tr>\n",
       "    <tr>\n",
       "      <th>2</th>\n",
       "      <td>040030020022</td>\n",
       "      <td>POLYGON ((-110.22384 31.43970, -110.22383 31.4...</td>\n",
       "      <td>04003</td>\n",
       "    </tr>\n",
       "    <tr>\n",
       "      <th>3</th>\n",
       "      <td>040030020021</td>\n",
       "      <td>POLYGON ((-110.22414 31.47988, -110.22364 31.4...</td>\n",
       "      <td>04003</td>\n",
       "    </tr>\n",
       "    <tr>\n",
       "      <th>4</th>\n",
       "      <td>040030014012</td>\n",
       "      <td>POLYGON ((-110.34140 31.55929, -110.34076 31.5...</td>\n",
       "      <td>04003</td>\n",
       "    </tr>\n",
       "  </tbody>\n",
       "</table>\n",
       "</div>"
      ],
      "text/plain": [
       "          GEOID                                           geometry County\n",
       "0  040210017091  POLYGON ((-112.01312 33.08255, -112.01311 33.0...  04021\n",
       "1  040210017092  POLYGON ((-112.01346 33.05881, -112.01346 33.0...  04021\n",
       "2  040030020022  POLYGON ((-110.22384 31.43970, -110.22383 31.4...  04003\n",
       "3  040030020021  POLYGON ((-110.22414 31.47988, -110.22364 31.4...  04003\n",
       "4  040030014012  POLYGON ((-110.34140 31.55929, -110.34076 31.5...  04003"
      ]
     },
     "execution_count": 35,
     "metadata": {},
     "output_type": "execute_result"
    }
   ],
   "source": [
    "# Convert Census Tract shapefile to the same CRS as the points\n",
    "# This is to make sure both data use EPSG:4326\n",
    "tracts = tracts.to_crs(points_gdf.crs)\n",
    "tracts.head()"
   ]
  },
  {
   "cell_type": "code",
   "execution_count": 36,
   "id": "8a322112",
   "metadata": {},
   "outputs": [
    {
     "name": "stdout",
     "output_type": "stream",
     "text": [
      "Tracts CRS: EPSG:4326\n",
      "Points CRS: EPSG:4326\n"
     ]
    }
   ],
   "source": [
    "#Proceed when we see the same CRS value\n",
    "print(\"Tracts CRS:\", tracts.crs)\n",
    "print(\"Points CRS:\", points_gdf.crs)"
   ]
  },
  {
   "cell_type": "markdown",
   "id": "56219f0a",
   "metadata": {},
   "source": [
    "## This takes three seconds"
   ]
  },
  {
   "cell_type": "code",
   "execution_count": 37,
   "id": "a7d053d6",
   "metadata": {},
   "outputs": [
    {
     "name": "stdout",
     "output_type": "stream",
     "text": [
      "14\n"
     ]
    },
    {
     "data": {
      "text/html": [
       "<div>\n",
       "<style scoped>\n",
       "    .dataframe tbody tr th:only-of-type {\n",
       "        vertical-align: middle;\n",
       "    }\n",
       "\n",
       "    .dataframe tbody tr th {\n",
       "        vertical-align: top;\n",
       "    }\n",
       "\n",
       "    .dataframe thead th {\n",
       "        text-align: right;\n",
       "    }\n",
       "</style>\n",
       "<table border=\"1\" class=\"dataframe\">\n",
       "  <thead>\n",
       "    <tr style=\"text-align: right;\">\n",
       "      <th></th>\n",
       "      <th>GEOID</th>\n",
       "      <th>geometry</th>\n",
       "      <th>County</th>\n",
       "    </tr>\n",
       "  </thead>\n",
       "  <tbody>\n",
       "    <tr>\n",
       "      <th>0</th>\n",
       "      <td>040210017091</td>\n",
       "      <td>POLYGON ((-112.01312 33.08255, -112.01311 33.0...</td>\n",
       "      <td>04021</td>\n",
       "    </tr>\n",
       "  </tbody>\n",
       "</table>\n",
       "</div>"
      ],
      "text/plain": [
       "          GEOID                                           geometry County\n",
       "0  040210017091  POLYGON ((-112.01312 33.08255, -112.01311 33.0...  04021"
      ]
     },
     "execution_count": 37,
     "metadata": {},
     "output_type": "execute_result"
    }
   ],
   "source": [
    "print(len(tracts['County'].unique().tolist()))\n",
    "tracts.head(1)"
   ]
  },
  {
   "cell_type": "code",
   "execution_count": 38,
   "id": "f1ed51ad",
   "metadata": {},
   "outputs": [
    {
     "name": "stdout",
     "output_type": "stream",
     "text": [
      "(4692545, 8)\n"
     ]
    },
    {
     "data": {
      "text/html": [
       "<div>\n",
       "<style scoped>\n",
       "    .dataframe tbody tr th:only-of-type {\n",
       "        vertical-align: middle;\n",
       "    }\n",
       "\n",
       "    .dataframe tbody tr th {\n",
       "        vertical-align: top;\n",
       "    }\n",
       "\n",
       "    .dataframe thead th {\n",
       "        text-align: right;\n",
       "    }\n",
       "</style>\n",
       "<table border=\"1\" class=\"dataframe\">\n",
       "  <thead>\n",
       "    <tr style=\"text-align: right;\">\n",
       "      <th></th>\n",
       "      <th>uid</th>\n",
       "      <th>datetime</th>\n",
       "      <th>lat</th>\n",
       "      <th>lng</th>\n",
       "      <th>geometry</th>\n",
       "      <th>index_right</th>\n",
       "      <th>GEOID</th>\n",
       "      <th>County</th>\n",
       "    </tr>\n",
       "  </thead>\n",
       "  <tbody>\n",
       "    <tr>\n",
       "      <th>0</th>\n",
       "      <td>1</td>\n",
       "      <td>2020-03-01 00:00:00.000000</td>\n",
       "      <td>35.977278</td>\n",
       "      <td>-109.152405</td>\n",
       "      <td>POINT (-109.15240 35.97728)</td>\n",
       "      <td>3024.0</td>\n",
       "      <td>040019440001</td>\n",
       "      <td>04001</td>\n",
       "    </tr>\n",
       "    <tr>\n",
       "      <th>1</th>\n",
       "      <td>1</td>\n",
       "      <td>2020-03-01 00:26:56.779383</td>\n",
       "      <td>33.442903</td>\n",
       "      <td>-111.945061</td>\n",
       "      <td>POINT (-111.94506 33.44290)</td>\n",
       "      <td>4251.0</td>\n",
       "      <td>040133201001</td>\n",
       "      <td>04013</td>\n",
       "    </tr>\n",
       "    <tr>\n",
       "      <th>2</th>\n",
       "      <td>1</td>\n",
       "      <td>2020-03-01 01:40:04.550659</td>\n",
       "      <td>35.977278</td>\n",
       "      <td>-109.152405</td>\n",
       "      <td>POINT (-109.15240 35.97728)</td>\n",
       "      <td>3024.0</td>\n",
       "      <td>040019440001</td>\n",
       "      <td>04001</td>\n",
       "    </tr>\n",
       "  </tbody>\n",
       "</table>\n",
       "</div>"
      ],
      "text/plain": [
       "   uid                    datetime        lat         lng  \\\n",
       "0    1  2020-03-01 00:00:00.000000  35.977278 -109.152405   \n",
       "1    1  2020-03-01 00:26:56.779383  33.442903 -111.945061   \n",
       "2    1  2020-03-01 01:40:04.550659  35.977278 -109.152405   \n",
       "\n",
       "                      geometry  index_right         GEOID County  \n",
       "0  POINT (-109.15240 35.97728)       3024.0  040019440001  04001  \n",
       "1  POINT (-111.94506 33.44290)       4251.0  040133201001  04013  \n",
       "2  POINT (-109.15240 35.97728)       3024.0  040019440001  04001  "
      ]
     },
     "execution_count": 38,
     "metadata": {},
     "output_type": "execute_result"
    }
   ],
   "source": [
    "#Perform spacial join\n",
    "joined_gdf = gpd.sjoin(points_gdf, tracts, how=\"left\", predicate=\"within\")\n",
    "print(joined_gdf.shape)\n",
    "joined_gdf.head(3)"
   ]
  },
  {
   "cell_type": "code",
   "execution_count": 39,
   "id": "a0338ef4",
   "metadata": {
    "scrolled": true
   },
   "outputs": [
    {
     "data": {
      "text/html": [
       "<div>\n",
       "<style scoped>\n",
       "    .dataframe tbody tr th:only-of-type {\n",
       "        vertical-align: middle;\n",
       "    }\n",
       "\n",
       "    .dataframe tbody tr th {\n",
       "        vertical-align: top;\n",
       "    }\n",
       "\n",
       "    .dataframe thead th {\n",
       "        text-align: right;\n",
       "    }\n",
       "</style>\n",
       "<table border=\"1\" class=\"dataframe\">\n",
       "  <thead>\n",
       "    <tr style=\"text-align: right;\">\n",
       "      <th></th>\n",
       "      <th>uid</th>\n",
       "      <th>datetime</th>\n",
       "      <th>lat</th>\n",
       "      <th>lng</th>\n",
       "      <th>geometry</th>\n",
       "      <th>index_right</th>\n",
       "      <th>GEOID</th>\n",
       "      <th>County</th>\n",
       "      <th>day</th>\n",
       "    </tr>\n",
       "  </thead>\n",
       "  <tbody>\n",
       "    <tr>\n",
       "      <th>4692542</th>\n",
       "      <td>10000</td>\n",
       "      <td>2020-03-30 18:38:55.813728</td>\n",
       "      <td>32.240964</td>\n",
       "      <td>-110.958924</td>\n",
       "      <td>POINT (-110.95892 32.24096)</td>\n",
       "      <td>1922.0</td>\n",
       "      <td>040190014002</td>\n",
       "      <td>04019</td>\n",
       "      <td>30</td>\n",
       "    </tr>\n",
       "    <tr>\n",
       "      <th>4692543</th>\n",
       "      <td>10000</td>\n",
       "      <td>2020-03-30 19:11:43.455453</td>\n",
       "      <td>32.126153</td>\n",
       "      <td>-111.040752</td>\n",
       "      <td>POINT (-111.04075 32.12615)</td>\n",
       "      <td>169.0</td>\n",
       "      <td>040190043212</td>\n",
       "      <td>04019</td>\n",
       "      <td>30</td>\n",
       "    </tr>\n",
       "    <tr>\n",
       "      <th>4692544</th>\n",
       "      <td>10000</td>\n",
       "      <td>2020-03-30 19:33:04.369873</td>\n",
       "      <td>32.226366</td>\n",
       "      <td>-110.939932</td>\n",
       "      <td>POINT (-110.93993 32.22637)</td>\n",
       "      <td>1995.0</td>\n",
       "      <td>040190006002</td>\n",
       "      <td>04019</td>\n",
       "      <td>30</td>\n",
       "    </tr>\n",
       "  </tbody>\n",
       "</table>\n",
       "</div>"
      ],
      "text/plain": [
       "           uid                   datetime        lat         lng  \\\n",
       "4692542  10000 2020-03-30 18:38:55.813728  32.240964 -110.958924   \n",
       "4692543  10000 2020-03-30 19:11:43.455453  32.126153 -111.040752   \n",
       "4692544  10000 2020-03-30 19:33:04.369873  32.226366 -110.939932   \n",
       "\n",
       "                            geometry  index_right         GEOID County  day  \n",
       "4692542  POINT (-110.95892 32.24096)       1922.0  040190014002  04019   30  \n",
       "4692543  POINT (-111.04075 32.12615)        169.0  040190043212  04019   30  \n",
       "4692544  POINT (-110.93993 32.22637)       1995.0  040190006002  04019   30  "
      ]
     },
     "execution_count": 39,
     "metadata": {},
     "output_type": "execute_result"
    }
   ],
   "source": [
    "joined_gdf['datetime'] = pd.to_datetime(joined_gdf['datetime'])\n",
    "joined_gdf['day'] = joined_gdf['datetime'].dt.day\n",
    "joined_gdf.tail(3)"
   ]
  },
  {
   "cell_type": "code",
   "execution_count": 40,
   "id": "79b8a285",
   "metadata": {},
   "outputs": [
    {
     "name": "stdout",
     "output_type": "stream",
     "text": [
      "14\n"
     ]
    }
   ],
   "source": [
    "joined_gdf = joined_gdf[~(joined_gdf['County'].isna())].copy()\n",
    "print(len(joined_gdf['County'].unique().tolist()))"
   ]
  },
  {
   "cell_type": "markdown",
   "id": "435b4a23",
   "metadata": {},
   "source": [
    "# Groupping"
   ]
  },
  {
   "cell_type": "markdown",
   "id": "64f2b0c4",
   "metadata": {},
   "source": [
    "## Here's Where to add noise"
   ]
  },
  {
   "cell_type": "code",
   "execution_count": 41,
   "id": "fe3f3595",
   "metadata": {},
   "outputs": [
    {
     "data": {
      "text/html": [
       "<div>\n",
       "<style scoped>\n",
       "    .dataframe tbody tr th:only-of-type {\n",
       "        vertical-align: middle;\n",
       "    }\n",
       "\n",
       "    .dataframe tbody tr th {\n",
       "        vertical-align: top;\n",
       "    }\n",
       "\n",
       "    .dataframe thead th {\n",
       "        text-align: right;\n",
       "    }\n",
       "</style>\n",
       "<table border=\"1\" class=\"dataframe\">\n",
       "  <thead>\n",
       "    <tr style=\"text-align: right;\">\n",
       "      <th></th>\n",
       "      <th>uid</th>\n",
       "      <th>day</th>\n",
       "      <th>GEOID</th>\n",
       "      <th>Count</th>\n",
       "    </tr>\n",
       "  </thead>\n",
       "  <tbody>\n",
       "    <tr>\n",
       "      <th>0</th>\n",
       "      <td>1</td>\n",
       "      <td>1</td>\n",
       "      <td>040019440001</td>\n",
       "      <td>5</td>\n",
       "    </tr>\n",
       "    <tr>\n",
       "      <th>1</th>\n",
       "      <td>1</td>\n",
       "      <td>1</td>\n",
       "      <td>040019440002</td>\n",
       "      <td>3</td>\n",
       "    </tr>\n",
       "    <tr>\n",
       "      <th>2</th>\n",
       "      <td>1</td>\n",
       "      <td>1</td>\n",
       "      <td>040019440003</td>\n",
       "      <td>4</td>\n",
       "    </tr>\n",
       "    <tr>\n",
       "      <th>3</th>\n",
       "      <td>1</td>\n",
       "      <td>1</td>\n",
       "      <td>040019450011</td>\n",
       "      <td>1</td>\n",
       "    </tr>\n",
       "    <tr>\n",
       "      <th>4</th>\n",
       "      <td>1</td>\n",
       "      <td>1</td>\n",
       "      <td>040070002003</td>\n",
       "      <td>1</td>\n",
       "    </tr>\n",
       "    <tr>\n",
       "      <th>5</th>\n",
       "      <td>1</td>\n",
       "      <td>1</td>\n",
       "      <td>040133201001</td>\n",
       "      <td>1</td>\n",
       "    </tr>\n",
       "    <tr>\n",
       "      <th>6</th>\n",
       "      <td>1</td>\n",
       "      <td>1</td>\n",
       "      <td>040134223013</td>\n",
       "      <td>1</td>\n",
       "    </tr>\n",
       "    <tr>\n",
       "      <th>7</th>\n",
       "      <td>1</td>\n",
       "      <td>2</td>\n",
       "      <td>040019440001</td>\n",
       "      <td>3</td>\n",
       "    </tr>\n",
       "    <tr>\n",
       "      <th>8</th>\n",
       "      <td>1</td>\n",
       "      <td>2</td>\n",
       "      <td>040019440002</td>\n",
       "      <td>1</td>\n",
       "    </tr>\n",
       "    <tr>\n",
       "      <th>9</th>\n",
       "      <td>1</td>\n",
       "      <td>2</td>\n",
       "      <td>040019450011</td>\n",
       "      <td>1</td>\n",
       "    </tr>\n",
       "  </tbody>\n",
       "</table>\n",
       "</div>"
      ],
      "text/plain": [
       "   uid  day         GEOID  Count\n",
       "0    1    1  040019440001      5\n",
       "1    1    1  040019440002      3\n",
       "2    1    1  040019440003      4\n",
       "3    1    1  040019450011      1\n",
       "4    1    1  040070002003      1\n",
       "5    1    1  040133201001      1\n",
       "6    1    1  040134223013      1\n",
       "7    1    2  040019440001      3\n",
       "8    1    2  040019440002      1\n",
       "9    1    2  040019450011      1"
      ]
     },
     "execution_count": 41,
     "metadata": {},
     "output_type": "execute_result"
    }
   ],
   "source": [
    "#Grouped\n",
    "grouped_counts = joined_gdf.groupby(['uid', 'day','GEOID']).size().reset_index()\n",
    "rename = {0 : 'Count'}\n",
    "grouped_counts = grouped_counts.rename(columns = rename)\n",
    "grouped_counts.head(10)"
   ]
  },
  {
   "cell_type": "code",
   "execution_count": 42,
   "id": "8af1e6ef",
   "metadata": {},
   "outputs": [
    {
     "name": "stdout",
     "output_type": "stream",
     "text": [
      "(3574018, 5)\n"
     ]
    },
    {
     "data": {
      "text/html": [
       "<div>\n",
       "<style scoped>\n",
       "    .dataframe tbody tr th:only-of-type {\n",
       "        vertical-align: middle;\n",
       "    }\n",
       "\n",
       "    .dataframe tbody tr th {\n",
       "        vertical-align: top;\n",
       "    }\n",
       "\n",
       "    .dataframe thead th {\n",
       "        text-align: right;\n",
       "    }\n",
       "</style>\n",
       "<table border=\"1\" class=\"dataframe\">\n",
       "  <thead>\n",
       "    <tr style=\"text-align: right;\">\n",
       "      <th></th>\n",
       "      <th>uid</th>\n",
       "      <th>day</th>\n",
       "      <th>GEOID</th>\n",
       "      <th>County</th>\n",
       "      <th>Count</th>\n",
       "    </tr>\n",
       "  </thead>\n",
       "  <tbody>\n",
       "    <tr>\n",
       "      <th>0</th>\n",
       "      <td>1</td>\n",
       "      <td>1</td>\n",
       "      <td>040019440001</td>\n",
       "      <td>04001</td>\n",
       "      <td>5</td>\n",
       "    </tr>\n",
       "    <tr>\n",
       "      <th>1</th>\n",
       "      <td>1</td>\n",
       "      <td>1</td>\n",
       "      <td>040019440002</td>\n",
       "      <td>04001</td>\n",
       "      <td>3</td>\n",
       "    </tr>\n",
       "    <tr>\n",
       "      <th>2</th>\n",
       "      <td>1</td>\n",
       "      <td>1</td>\n",
       "      <td>040019440003</td>\n",
       "      <td>04001</td>\n",
       "      <td>4</td>\n",
       "    </tr>\n",
       "    <tr>\n",
       "      <th>3</th>\n",
       "      <td>1</td>\n",
       "      <td>1</td>\n",
       "      <td>040019450011</td>\n",
       "      <td>04001</td>\n",
       "      <td>1</td>\n",
       "    </tr>\n",
       "    <tr>\n",
       "      <th>4</th>\n",
       "      <td>1</td>\n",
       "      <td>1</td>\n",
       "      <td>040070002003</td>\n",
       "      <td>04007</td>\n",
       "      <td>1</td>\n",
       "    </tr>\n",
       "  </tbody>\n",
       "</table>\n",
       "</div>"
      ],
      "text/plain": [
       "   uid  day         GEOID County  Count\n",
       "0    1    1  040019440001  04001      5\n",
       "1    1    1  040019440002  04001      3\n",
       "2    1    1  040019440003  04001      4\n",
       "3    1    1  040019450011  04001      1\n",
       "4    1    1  040070002003  04007      1"
      ]
     },
     "execution_count": 42,
     "metadata": {},
     "output_type": "execute_result"
    }
   ],
   "source": [
    "grouped_counts.insert(3, \"County\", grouped_counts['GEOID'].str[:5]) #State + county is a five digit code\n",
    "\n",
    "#One individual has about 30 unique locations\n",
    "print(grouped_counts.shape)\n",
    "grouped_counts.head(5)"
   ]
  },
  {
   "cell_type": "code",
   "execution_count": 43,
   "id": "df868ec4",
   "metadata": {},
   "outputs": [
    {
     "name": "stdout",
     "output_type": "stream",
     "text": [
      "10000\n"
     ]
    }
   ],
   "source": [
    "unique_id = grouped_counts['uid'].unique().tolist()\n",
    "print(len(unique_id))"
   ]
  },
  {
   "cell_type": "markdown",
   "id": "101c44ef",
   "metadata": {},
   "source": [
    "# DP Noise"
   ]
  },
  {
   "cell_type": "code",
   "execution_count": 44,
   "id": "c6d4a715",
   "metadata": {},
   "outputs": [
    {
     "name": "stdout",
     "output_type": "stream",
     "text": [
      "0\n",
      "1\n",
      "2\n",
      "3\n",
      "4\n",
      "5\n",
      "6\n"
     ]
    }
   ],
   "source": [
    "import opendp.prelude as dp\n",
    "dp.enable_features(\"contrib\")\n",
    "\n",
    "#The Loop\n",
    "privacy_budget = [0.8, 0.5, 0.3, 0.1, 0.05, 0.01, 0.005]\n",
    "name = ['P8','P5','P3','P1','P05','P01','P005']\n",
    "\n",
    "# Ensure the 'Count' column is float before applying DP noise\n",
    "grouped_counts['Count'] = grouped_counts['Count'].astype(int).copy()\n",
    "\n",
    "for i in range(len(privacy_budget)):\n",
    "    print(i)\n",
    "    epsilon = privacy_budget[i] #Privacy budget\n",
    "    sensitivity = 1\n",
    "    scale = sensitivity / epsilon\n",
    "    \n",
    "    # Create the Laplace mechanism\n",
    "    laplace_mechanism = dp.m.make_laplace(\n",
    "        dp.atom_domain(T=int), dp.absolute_distance(T=int), scale)\n",
    "    \n",
    "    #Define the Laplace function\n",
    "    def apply_dp_noise(count):\n",
    "        return laplace_mechanism(count)\n",
    "    \n",
    "    #Name for the new column\n",
    "    text = name[i]\n",
    "    \n",
    "    grouped_counts[f'Count_{text}'] = grouped_counts['Count'].apply(lambda x: max(laplace_mechanism(x), 0))\n",
    "    "
   ]
  },
  {
   "cell_type": "code",
   "execution_count": 45,
   "id": "cdca8174",
   "metadata": {},
   "outputs": [
    {
     "data": {
      "text/html": [
       "<div>\n",
       "<style scoped>\n",
       "    .dataframe tbody tr th:only-of-type {\n",
       "        vertical-align: middle;\n",
       "    }\n",
       "\n",
       "    .dataframe tbody tr th {\n",
       "        vertical-align: top;\n",
       "    }\n",
       "\n",
       "    .dataframe thead th {\n",
       "        text-align: right;\n",
       "    }\n",
       "</style>\n",
       "<table border=\"1\" class=\"dataframe\">\n",
       "  <thead>\n",
       "    <tr style=\"text-align: right;\">\n",
       "      <th></th>\n",
       "      <th>uid</th>\n",
       "      <th>day</th>\n",
       "      <th>GEOID</th>\n",
       "      <th>County</th>\n",
       "      <th>Count</th>\n",
       "      <th>Count_P8</th>\n",
       "      <th>Count_P5</th>\n",
       "      <th>Count_P3</th>\n",
       "      <th>Count_P1</th>\n",
       "      <th>Count_P05</th>\n",
       "      <th>Count_P01</th>\n",
       "      <th>Count_P005</th>\n",
       "    </tr>\n",
       "  </thead>\n",
       "  <tbody>\n",
       "    <tr>\n",
       "      <th>0</th>\n",
       "      <td>1</td>\n",
       "      <td>1</td>\n",
       "      <td>040019440001</td>\n",
       "      <td>04001</td>\n",
       "      <td>5</td>\n",
       "      <td>6</td>\n",
       "      <td>5</td>\n",
       "      <td>6</td>\n",
       "      <td>0</td>\n",
       "      <td>0</td>\n",
       "      <td>150</td>\n",
       "      <td>0</td>\n",
       "    </tr>\n",
       "    <tr>\n",
       "      <th>1</th>\n",
       "      <td>1</td>\n",
       "      <td>1</td>\n",
       "      <td>040019440002</td>\n",
       "      <td>04001</td>\n",
       "      <td>3</td>\n",
       "      <td>3</td>\n",
       "      <td>3</td>\n",
       "      <td>0</td>\n",
       "      <td>2</td>\n",
       "      <td>0</td>\n",
       "      <td>38</td>\n",
       "      <td>52</td>\n",
       "    </tr>\n",
       "    <tr>\n",
       "      <th>2</th>\n",
       "      <td>1</td>\n",
       "      <td>1</td>\n",
       "      <td>040019440003</td>\n",
       "      <td>04001</td>\n",
       "      <td>4</td>\n",
       "      <td>3</td>\n",
       "      <td>6</td>\n",
       "      <td>4</td>\n",
       "      <td>0</td>\n",
       "      <td>23</td>\n",
       "      <td>0</td>\n",
       "      <td>11</td>\n",
       "    </tr>\n",
       "    <tr>\n",
       "      <th>3</th>\n",
       "      <td>1</td>\n",
       "      <td>1</td>\n",
       "      <td>040019450011</td>\n",
       "      <td>04001</td>\n",
       "      <td>1</td>\n",
       "      <td>0</td>\n",
       "      <td>4</td>\n",
       "      <td>4</td>\n",
       "      <td>2</td>\n",
       "      <td>0</td>\n",
       "      <td>0</td>\n",
       "      <td>0</td>\n",
       "    </tr>\n",
       "    <tr>\n",
       "      <th>4</th>\n",
       "      <td>1</td>\n",
       "      <td>1</td>\n",
       "      <td>040070002003</td>\n",
       "      <td>04007</td>\n",
       "      <td>1</td>\n",
       "      <td>1</td>\n",
       "      <td>4</td>\n",
       "      <td>0</td>\n",
       "      <td>0</td>\n",
       "      <td>42</td>\n",
       "      <td>0</td>\n",
       "      <td>12</td>\n",
       "    </tr>\n",
       "    <tr>\n",
       "      <th>5</th>\n",
       "      <td>1</td>\n",
       "      <td>1</td>\n",
       "      <td>040133201001</td>\n",
       "      <td>04013</td>\n",
       "      <td>1</td>\n",
       "      <td>0</td>\n",
       "      <td>2</td>\n",
       "      <td>0</td>\n",
       "      <td>4</td>\n",
       "      <td>36</td>\n",
       "      <td>0</td>\n",
       "      <td>0</td>\n",
       "    </tr>\n",
       "    <tr>\n",
       "      <th>6</th>\n",
       "      <td>1</td>\n",
       "      <td>1</td>\n",
       "      <td>040134223013</td>\n",
       "      <td>04013</td>\n",
       "      <td>1</td>\n",
       "      <td>1</td>\n",
       "      <td>4</td>\n",
       "      <td>0</td>\n",
       "      <td>2</td>\n",
       "      <td>0</td>\n",
       "      <td>0</td>\n",
       "      <td>17</td>\n",
       "    </tr>\n",
       "    <tr>\n",
       "      <th>7</th>\n",
       "      <td>1</td>\n",
       "      <td>2</td>\n",
       "      <td>040019440001</td>\n",
       "      <td>04001</td>\n",
       "      <td>3</td>\n",
       "      <td>2</td>\n",
       "      <td>6</td>\n",
       "      <td>5</td>\n",
       "      <td>0</td>\n",
       "      <td>0</td>\n",
       "      <td>0</td>\n",
       "      <td>0</td>\n",
       "    </tr>\n",
       "    <tr>\n",
       "      <th>8</th>\n",
       "      <td>1</td>\n",
       "      <td>2</td>\n",
       "      <td>040019440002</td>\n",
       "      <td>04001</td>\n",
       "      <td>1</td>\n",
       "      <td>1</td>\n",
       "      <td>6</td>\n",
       "      <td>0</td>\n",
       "      <td>5</td>\n",
       "      <td>0</td>\n",
       "      <td>0</td>\n",
       "      <td>3</td>\n",
       "    </tr>\n",
       "    <tr>\n",
       "      <th>9</th>\n",
       "      <td>1</td>\n",
       "      <td>2</td>\n",
       "      <td>040019450011</td>\n",
       "      <td>04001</td>\n",
       "      <td>1</td>\n",
       "      <td>3</td>\n",
       "      <td>0</td>\n",
       "      <td>1</td>\n",
       "      <td>3</td>\n",
       "      <td>13</td>\n",
       "      <td>0</td>\n",
       "      <td>489</td>\n",
       "    </tr>\n",
       "  </tbody>\n",
       "</table>\n",
       "</div>"
      ],
      "text/plain": [
       "   uid  day         GEOID County  Count  Count_P8  Count_P5  Count_P3  \\\n",
       "0    1    1  040019440001  04001      5         6         5         6   \n",
       "1    1    1  040019440002  04001      3         3         3         0   \n",
       "2    1    1  040019440003  04001      4         3         6         4   \n",
       "3    1    1  040019450011  04001      1         0         4         4   \n",
       "4    1    1  040070002003  04007      1         1         4         0   \n",
       "5    1    1  040133201001  04013      1         0         2         0   \n",
       "6    1    1  040134223013  04013      1         1         4         0   \n",
       "7    1    2  040019440001  04001      3         2         6         5   \n",
       "8    1    2  040019440002  04001      1         1         6         0   \n",
       "9    1    2  040019450011  04001      1         3         0         1   \n",
       "\n",
       "   Count_P1  Count_P05  Count_P01  Count_P005  \n",
       "0         0          0        150           0  \n",
       "1         2          0         38          52  \n",
       "2         0         23          0          11  \n",
       "3         2          0          0           0  \n",
       "4         0         42          0          12  \n",
       "5         4         36          0           0  \n",
       "6         2          0          0          17  \n",
       "7         0          0          0           0  \n",
       "8         5          0          0           3  \n",
       "9         3         13          0         489  "
      ]
     },
     "execution_count": 45,
     "metadata": {},
     "output_type": "execute_result"
    }
   ],
   "source": [
    "grouped_counts.head(10)"
   ]
  },
  {
   "cell_type": "markdown",
   "id": "d6301f89",
   "metadata": {},
   "source": [
    "#"
   ]
  },
  {
   "cell_type": "markdown",
   "id": "2e118245",
   "metadata": {},
   "source": [
    "# Home Location"
   ]
  },
  {
   "cell_type": "code",
   "execution_count": 46,
   "id": "64c857c6",
   "metadata": {},
   "outputs": [
    {
     "name": "stdout",
     "output_type": "stream",
     "text": [
      "(10000, 3)\n"
     ]
    },
    {
     "data": {
      "text/html": [
       "<div>\n",
       "<style scoped>\n",
       "    .dataframe tbody tr th:only-of-type {\n",
       "        vertical-align: middle;\n",
       "    }\n",
       "\n",
       "    .dataframe tbody tr th {\n",
       "        vertical-align: top;\n",
       "    }\n",
       "\n",
       "    .dataframe thead th {\n",
       "        text-align: right;\n",
       "    }\n",
       "</style>\n",
       "<table border=\"1\" class=\"dataframe\">\n",
       "  <thead>\n",
       "    <tr style=\"text-align: right;\">\n",
       "      <th></th>\n",
       "      <th>uid</th>\n",
       "      <th>lat</th>\n",
       "      <th>lng</th>\n",
       "    </tr>\n",
       "  </thead>\n",
       "  <tbody>\n",
       "    <tr>\n",
       "      <th>0</th>\n",
       "      <td>1</td>\n",
       "      <td>35.718712</td>\n",
       "      <td>-109.065388</td>\n",
       "    </tr>\n",
       "    <tr>\n",
       "      <th>1</th>\n",
       "      <td>2</td>\n",
       "      <td>33.253616</td>\n",
       "      <td>-111.794167</td>\n",
       "    </tr>\n",
       "    <tr>\n",
       "      <th>2</th>\n",
       "      <td>3</td>\n",
       "      <td>33.569295</td>\n",
       "      <td>-112.267858</td>\n",
       "    </tr>\n",
       "    <tr>\n",
       "      <th>3</th>\n",
       "      <td>4</td>\n",
       "      <td>32.126153</td>\n",
       "      <td>-111.040752</td>\n",
       "    </tr>\n",
       "    <tr>\n",
       "      <th>4</th>\n",
       "      <td>5</td>\n",
       "      <td>33.418803</td>\n",
       "      <td>-111.663049</td>\n",
       "    </tr>\n",
       "  </tbody>\n",
       "</table>\n",
       "</div>"
      ],
      "text/plain": [
       "   uid        lat         lng\n",
       "0    1  35.718712 -109.065388\n",
       "1    2  33.253616 -111.794167\n",
       "2    3  33.569295 -112.267858\n",
       "3    4  32.126153 -111.040752\n",
       "4    5  33.418803 -111.663049"
      ]
     },
     "execution_count": 46,
     "metadata": {},
     "output_type": "execute_result"
    }
   ],
   "source": [
    "home = pd.read_csv(\"Home_location_4Week_10000_AZ_realpop.csv\")\n",
    "home = home.drop(columns = 'Unnamed: 0')\n",
    "print(home.shape)\n",
    "home.head()"
   ]
  },
  {
   "cell_type": "code",
   "execution_count": 47,
   "id": "148a739b",
   "metadata": {},
   "outputs": [
    {
     "data": {
      "text/html": [
       "<div>\n",
       "<style scoped>\n",
       "    .dataframe tbody tr th:only-of-type {\n",
       "        vertical-align: middle;\n",
       "    }\n",
       "\n",
       "    .dataframe tbody tr th {\n",
       "        vertical-align: top;\n",
       "    }\n",
       "\n",
       "    .dataframe thead th {\n",
       "        text-align: right;\n",
       "    }\n",
       "</style>\n",
       "<table border=\"1\" class=\"dataframe\">\n",
       "  <thead>\n",
       "    <tr style=\"text-align: right;\">\n",
       "      <th></th>\n",
       "      <th>uid</th>\n",
       "      <th>lat</th>\n",
       "      <th>lng</th>\n",
       "      <th>geometry</th>\n",
       "    </tr>\n",
       "  </thead>\n",
       "  <tbody>\n",
       "    <tr>\n",
       "      <th>0</th>\n",
       "      <td>1</td>\n",
       "      <td>35.718712</td>\n",
       "      <td>-109.065388</td>\n",
       "      <td>POINT (-109.06539 35.71871)</td>\n",
       "    </tr>\n",
       "    <tr>\n",
       "      <th>1</th>\n",
       "      <td>2</td>\n",
       "      <td>33.253616</td>\n",
       "      <td>-111.794167</td>\n",
       "      <td>POINT (-111.79417 33.25362)</td>\n",
       "    </tr>\n",
       "    <tr>\n",
       "      <th>2</th>\n",
       "      <td>3</td>\n",
       "      <td>33.569295</td>\n",
       "      <td>-112.267858</td>\n",
       "      <td>POINT (-112.26786 33.56930)</td>\n",
       "    </tr>\n",
       "    <tr>\n",
       "      <th>3</th>\n",
       "      <td>4</td>\n",
       "      <td>32.126153</td>\n",
       "      <td>-111.040752</td>\n",
       "      <td>POINT (-111.04075 32.12615)</td>\n",
       "    </tr>\n",
       "    <tr>\n",
       "      <th>4</th>\n",
       "      <td>5</td>\n",
       "      <td>33.418803</td>\n",
       "      <td>-111.663049</td>\n",
       "      <td>POINT (-111.66305 33.41880)</td>\n",
       "    </tr>\n",
       "  </tbody>\n",
       "</table>\n",
       "</div>"
      ],
      "text/plain": [
       "   uid        lat         lng                     geometry\n",
       "0    1  35.718712 -109.065388  POINT (-109.06539 35.71871)\n",
       "1    2  33.253616 -111.794167  POINT (-111.79417 33.25362)\n",
       "2    3  33.569295 -112.267858  POINT (-112.26786 33.56930)\n",
       "3    4  32.126153 -111.040752  POINT (-111.04075 32.12615)\n",
       "4    5  33.418803 -111.663049  POINT (-111.66305 33.41880)"
      ]
     },
     "execution_count": 47,
     "metadata": {},
     "output_type": "execute_result"
    }
   ],
   "source": [
    "# Convert latitude/longitude into Point geometry\n",
    "geometry = [Point(xy) for xy in zip(home[\"lng\"], home[\"lat\"])] #Convert coordinate to points\n",
    "\n",
    "# Create a GeoDataFrame with the same CRS as the Census Tract shapefile\n",
    "home_points_gdf = gpd.GeoDataFrame(home, geometry=geometry, crs=\"EPSG:4326\")\n",
    "\n",
    "home_points_gdf.head()  # Check that geometry was created correctly"
   ]
  },
  {
   "cell_type": "code",
   "execution_count": 48,
   "id": "4682a297",
   "metadata": {},
   "outputs": [
    {
     "name": "stdout",
     "output_type": "stream",
     "text": [
      "Tracts CRS: EPSG:4326\n",
      "Points CRS: EPSG:4326\n"
     ]
    }
   ],
   "source": [
    "print(\"Tracts CRS:\", tracts.crs)\n",
    "print(\"Points CRS:\", home_points_gdf.crs)"
   ]
  },
  {
   "cell_type": "code",
   "execution_count": 49,
   "id": "fe417693",
   "metadata": {},
   "outputs": [
    {
     "name": "stdout",
     "output_type": "stream",
     "text": [
      "14\n"
     ]
    },
    {
     "data": {
      "text/html": [
       "<div>\n",
       "<style scoped>\n",
       "    .dataframe tbody tr th:only-of-type {\n",
       "        vertical-align: middle;\n",
       "    }\n",
       "\n",
       "    .dataframe tbody tr th {\n",
       "        vertical-align: top;\n",
       "    }\n",
       "\n",
       "    .dataframe thead th {\n",
       "        text-align: right;\n",
       "    }\n",
       "</style>\n",
       "<table border=\"1\" class=\"dataframe\">\n",
       "  <thead>\n",
       "    <tr style=\"text-align: right;\">\n",
       "      <th></th>\n",
       "      <th>GEOID</th>\n",
       "      <th>geometry</th>\n",
       "      <th>County</th>\n",
       "    </tr>\n",
       "  </thead>\n",
       "  <tbody>\n",
       "    <tr>\n",
       "      <th>0</th>\n",
       "      <td>040210017091</td>\n",
       "      <td>POLYGON ((-112.01312 33.08255, -112.01311 33.0...</td>\n",
       "      <td>04021</td>\n",
       "    </tr>\n",
       "    <tr>\n",
       "      <th>1</th>\n",
       "      <td>040210017092</td>\n",
       "      <td>POLYGON ((-112.01346 33.05881, -112.01346 33.0...</td>\n",
       "      <td>04021</td>\n",
       "    </tr>\n",
       "    <tr>\n",
       "      <th>2</th>\n",
       "      <td>040030020022</td>\n",
       "      <td>POLYGON ((-110.22384 31.43970, -110.22383 31.4...</td>\n",
       "      <td>04003</td>\n",
       "    </tr>\n",
       "  </tbody>\n",
       "</table>\n",
       "</div>"
      ],
      "text/plain": [
       "          GEOID                                           geometry County\n",
       "0  040210017091  POLYGON ((-112.01312 33.08255, -112.01311 33.0...  04021\n",
       "1  040210017092  POLYGON ((-112.01346 33.05881, -112.01346 33.0...  04021\n",
       "2  040030020022  POLYGON ((-110.22384 31.43970, -110.22383 31.4...  04003"
      ]
     },
     "execution_count": 49,
     "metadata": {},
     "output_type": "execute_result"
    }
   ],
   "source": [
    "print(len(tracts['County'].unique().tolist()))\n",
    "tracts.head(3)"
   ]
  },
  {
   "cell_type": "code",
   "execution_count": 50,
   "id": "45be8f9b",
   "metadata": {
    "scrolled": true
   },
   "outputs": [
    {
     "name": "stdout",
     "output_type": "stream",
     "text": [
      "(10000, 7)\n"
     ]
    },
    {
     "data": {
      "text/html": [
       "<div>\n",
       "<style scoped>\n",
       "    .dataframe tbody tr th:only-of-type {\n",
       "        vertical-align: middle;\n",
       "    }\n",
       "\n",
       "    .dataframe tbody tr th {\n",
       "        vertical-align: top;\n",
       "    }\n",
       "\n",
       "    .dataframe thead th {\n",
       "        text-align: right;\n",
       "    }\n",
       "</style>\n",
       "<table border=\"1\" class=\"dataframe\">\n",
       "  <thead>\n",
       "    <tr style=\"text-align: right;\">\n",
       "      <th></th>\n",
       "      <th>uid</th>\n",
       "      <th>lat</th>\n",
       "      <th>lng</th>\n",
       "      <th>geometry</th>\n",
       "      <th>index_right</th>\n",
       "      <th>GEOID</th>\n",
       "      <th>County</th>\n",
       "    </tr>\n",
       "  </thead>\n",
       "  <tbody>\n",
       "    <tr>\n",
       "      <th>0</th>\n",
       "      <td>1</td>\n",
       "      <td>35.718712</td>\n",
       "      <td>-109.065388</td>\n",
       "      <td>POINT (-109.06539 35.71871)</td>\n",
       "      <td>3170</td>\n",
       "      <td>040019440003</td>\n",
       "      <td>04001</td>\n",
       "    </tr>\n",
       "    <tr>\n",
       "      <th>1</th>\n",
       "      <td>2</td>\n",
       "      <td>33.253616</td>\n",
       "      <td>-111.794167</td>\n",
       "      <td>POINT (-111.79417 33.25362)</td>\n",
       "      <td>2336</td>\n",
       "      <td>040138128022</td>\n",
       "      <td>04013</td>\n",
       "    </tr>\n",
       "    <tr>\n",
       "      <th>2</th>\n",
       "      <td>3</td>\n",
       "      <td>33.569295</td>\n",
       "      <td>-112.267858</td>\n",
       "      <td>POINT (-112.26786 33.56930)</td>\n",
       "      <td>2655</td>\n",
       "      <td>040130719093</td>\n",
       "      <td>04013</td>\n",
       "    </tr>\n",
       "  </tbody>\n",
       "</table>\n",
       "</div>"
      ],
      "text/plain": [
       "   uid        lat         lng                     geometry  index_right  \\\n",
       "0    1  35.718712 -109.065388  POINT (-109.06539 35.71871)         3170   \n",
       "1    2  33.253616 -111.794167  POINT (-111.79417 33.25362)         2336   \n",
       "2    3  33.569295 -112.267858  POINT (-112.26786 33.56930)         2655   \n",
       "\n",
       "          GEOID County  \n",
       "0  040019440003  04001  \n",
       "1  040138128022  04013  \n",
       "2  040130719093  04013  "
      ]
     },
     "execution_count": 50,
     "metadata": {},
     "output_type": "execute_result"
    }
   ],
   "source": [
    "home_joined_gdf = gpd.sjoin(home_points_gdf, tracts, how=\"left\", predicate=\"within\")\n",
    "print(home_joined_gdf.shape)\n",
    "home_joined_gdf.head(3)"
   ]
  },
  {
   "cell_type": "code",
   "execution_count": 51,
   "id": "ffaa76c1",
   "metadata": {},
   "outputs": [
    {
     "data": {
      "text/html": [
       "<div>\n",
       "<style scoped>\n",
       "    .dataframe tbody tr th:only-of-type {\n",
       "        vertical-align: middle;\n",
       "    }\n",
       "\n",
       "    .dataframe tbody tr th {\n",
       "        vertical-align: top;\n",
       "    }\n",
       "\n",
       "    .dataframe thead th {\n",
       "        text-align: right;\n",
       "    }\n",
       "</style>\n",
       "<table border=\"1\" class=\"dataframe\">\n",
       "  <thead>\n",
       "    <tr style=\"text-align: right;\">\n",
       "      <th></th>\n",
       "      <th>uid</th>\n",
       "      <th>lat</th>\n",
       "      <th>lng</th>\n",
       "      <th>geometry</th>\n",
       "      <th>index_right</th>\n",
       "      <th>GEOID</th>\n",
       "      <th>County</th>\n",
       "      <th>home_geoid</th>\n",
       "    </tr>\n",
       "  </thead>\n",
       "  <tbody>\n",
       "    <tr>\n",
       "      <th>0</th>\n",
       "      <td>1</td>\n",
       "      <td>35.718712</td>\n",
       "      <td>-109.065388</td>\n",
       "      <td>POINT (-109.06539 35.71871)</td>\n",
       "      <td>3170</td>\n",
       "      <td>040019440003</td>\n",
       "      <td>04001</td>\n",
       "      <td>04001</td>\n",
       "    </tr>\n",
       "    <tr>\n",
       "      <th>1</th>\n",
       "      <td>2</td>\n",
       "      <td>33.253616</td>\n",
       "      <td>-111.794167</td>\n",
       "      <td>POINT (-111.79417 33.25362)</td>\n",
       "      <td>2336</td>\n",
       "      <td>040138128022</td>\n",
       "      <td>04013</td>\n",
       "      <td>04013</td>\n",
       "    </tr>\n",
       "    <tr>\n",
       "      <th>2</th>\n",
       "      <td>3</td>\n",
       "      <td>33.569295</td>\n",
       "      <td>-112.267858</td>\n",
       "      <td>POINT (-112.26786 33.56930)</td>\n",
       "      <td>2655</td>\n",
       "      <td>040130719093</td>\n",
       "      <td>04013</td>\n",
       "      <td>04013</td>\n",
       "    </tr>\n",
       "  </tbody>\n",
       "</table>\n",
       "</div>"
      ],
      "text/plain": [
       "   uid        lat         lng                     geometry  index_right  \\\n",
       "0    1  35.718712 -109.065388  POINT (-109.06539 35.71871)         3170   \n",
       "1    2  33.253616 -111.794167  POINT (-111.79417 33.25362)         2336   \n",
       "2    3  33.569295 -112.267858  POINT (-112.26786 33.56930)         2655   \n",
       "\n",
       "          GEOID County home_geoid  \n",
       "0  040019440003  04001      04001  \n",
       "1  040138128022  04013      04013  \n",
       "2  040130719093  04013      04013  "
      ]
     },
     "execution_count": 51,
     "metadata": {},
     "output_type": "execute_result"
    }
   ],
   "source": [
    "#home geoid at the county level\n",
    "home_joined_gdf['home_geoid'] = home_joined_gdf['GEOID'].str[:5] \n",
    "home_joined_gdf.head(3)"
   ]
  },
  {
   "cell_type": "code",
   "execution_count": 52,
   "id": "34cd9c78",
   "metadata": {},
   "outputs": [
    {
     "name": "stdout",
     "output_type": "stream",
     "text": [
      "14\n"
     ]
    }
   ],
   "source": [
    "print(len(home_joined_gdf['home_geoid'].unique().tolist()))"
   ]
  },
  {
   "cell_type": "markdown",
   "id": "1009829a",
   "metadata": {},
   "source": [
    "### This is where home list is computed!!! Important!!!"
   ]
  },
  {
   "cell_type": "code",
   "execution_count": 53,
   "id": "0c231813",
   "metadata": {},
   "outputs": [
    {
     "data": {
      "text/plain": [
       "10000"
      ]
     },
     "execution_count": 53,
     "metadata": {},
     "output_type": "execute_result"
    }
   ],
   "source": [
    "#Home list------------------------------------------------!!------------!!-----------\n",
    "home_list = home_joined_gdf['home_geoid'].tolist()\n",
    "len(home_list)"
   ]
  },
  {
   "cell_type": "code",
   "execution_count": 54,
   "id": "51273437",
   "metadata": {},
   "outputs": [
    {
     "data": {
      "text/plain": [
       "'040019440003'"
      ]
     },
     "execution_count": 54,
     "metadata": {},
     "output_type": "execute_result"
    }
   ],
   "source": [
    "home = home_joined_gdf[home_joined_gdf['uid'] == 1]['GEOID'][0]\n",
    "home"
   ]
  },
  {
   "cell_type": "code",
   "execution_count": 55,
   "id": "474a93bf",
   "metadata": {},
   "outputs": [
    {
     "data": {
      "text/html": [
       "<div>\n",
       "<style scoped>\n",
       "    .dataframe tbody tr th:only-of-type {\n",
       "        vertical-align: middle;\n",
       "    }\n",
       "\n",
       "    .dataframe tbody tr th {\n",
       "        vertical-align: top;\n",
       "    }\n",
       "\n",
       "    .dataframe thead th {\n",
       "        text-align: right;\n",
       "    }\n",
       "</style>\n",
       "<table border=\"1\" class=\"dataframe\">\n",
       "  <thead>\n",
       "    <tr style=\"text-align: right;\">\n",
       "      <th></th>\n",
       "      <th>GEOID</th>\n",
       "      <th>pop2020</th>\n",
       "    </tr>\n",
       "  </thead>\n",
       "  <tbody>\n",
       "    <tr>\n",
       "      <th>3106</th>\n",
       "      <td>06037</td>\n",
       "      <td>9989165.0</td>\n",
       "    </tr>\n",
       "    <tr>\n",
       "      <th>3107</th>\n",
       "      <td>46113</td>\n",
       "      <td>14309.0</td>\n",
       "    </tr>\n",
       "    <tr>\n",
       "      <th>3108</th>\n",
       "      <td>51515</td>\n",
       "      <td>6599.0</td>\n",
       "    </tr>\n",
       "  </tbody>\n",
       "</table>\n",
       "</div>"
      ],
      "text/plain": [
       "      GEOID    pop2020\n",
       "3106  06037  9989165.0\n",
       "3107  46113    14309.0\n",
       "3108  51515     6599.0"
      ]
     },
     "execution_count": 55,
     "metadata": {},
     "output_type": "execute_result"
    }
   ],
   "source": [
    "us_shape_file = pd.read_csv(\"../../Data/us_shapefile_county.csv\")\n",
    "\n",
    "#rename column\n",
    "rename = {\"FIPS code\" : \"GEOID\"}\n",
    "us_shape_file = us_shape_file.rename(columns = rename)\n",
    "us_shape_file[\"GEOID\"] = us_shape_file[\"GEOID\"].apply(lambda x: f\"{int(x):05d}\")\n",
    "us_shape_file = us_shape_file[['GEOID','pop2020']].copy()\n",
    "us_shape_file.tail(3)"
   ]
  },
  {
   "cell_type": "code",
   "execution_count": 56,
   "id": "563de838",
   "metadata": {},
   "outputs": [
    {
     "data": {
      "text/html": [
       "<div>\n",
       "<style scoped>\n",
       "    .dataframe tbody tr th:only-of-type {\n",
       "        vertical-align: middle;\n",
       "    }\n",
       "\n",
       "    .dataframe tbody tr th {\n",
       "        vertical-align: top;\n",
       "    }\n",
       "\n",
       "    .dataframe thead th {\n",
       "        text-align: right;\n",
       "    }\n",
       "</style>\n",
       "<table border=\"1\" class=\"dataframe\">\n",
       "  <thead>\n",
       "    <tr style=\"text-align: right;\">\n",
       "      <th></th>\n",
       "      <th>GEOID</th>\n",
       "      <th>Count</th>\n",
       "    </tr>\n",
       "  </thead>\n",
       "  <tbody>\n",
       "    <tr>\n",
       "      <th>0</th>\n",
       "      <td>04001</td>\n",
       "      <td>70</td>\n",
       "    </tr>\n",
       "    <tr>\n",
       "      <th>1</th>\n",
       "      <td>04003</td>\n",
       "      <td>174</td>\n",
       "    </tr>\n",
       "    <tr>\n",
       "      <th>2</th>\n",
       "      <td>04005</td>\n",
       "      <td>213</td>\n",
       "    </tr>\n",
       "  </tbody>\n",
       "</table>\n",
       "</div>"
      ],
      "text/plain": [
       "   GEOID  Count\n",
       "0  04001     70\n",
       "1  04003    174\n",
       "2  04005    213"
      ]
     },
     "execution_count": 56,
     "metadata": {},
     "output_type": "execute_result"
    }
   ],
   "source": [
    "home_groped= home_joined_gdf.groupby('home_geoid').size().reset_index(name='Count')\n",
    "rename = {'home_geoid' :'GEOID'}\n",
    "home_groped = home_groped.rename(columns = rename)\n",
    "home_groped.head(3)"
   ]
  },
  {
   "cell_type": "code",
   "execution_count": 57,
   "id": "a965dc8b",
   "metadata": {},
   "outputs": [
    {
     "data": {
      "text/html": [
       "<div>\n",
       "<style scoped>\n",
       "    .dataframe tbody tr th:only-of-type {\n",
       "        vertical-align: middle;\n",
       "    }\n",
       "\n",
       "    .dataframe tbody tr th {\n",
       "        vertical-align: top;\n",
       "    }\n",
       "\n",
       "    .dataframe thead th {\n",
       "        text-align: right;\n",
       "    }\n",
       "</style>\n",
       "<table border=\"1\" class=\"dataframe\">\n",
       "  <thead>\n",
       "    <tr style=\"text-align: right;\">\n",
       "      <th></th>\n",
       "      <th>GEOID</th>\n",
       "      <th>pop2020</th>\n",
       "      <th>Count</th>\n",
       "    </tr>\n",
       "  </thead>\n",
       "  <tbody>\n",
       "    <tr>\n",
       "      <th>0</th>\n",
       "      <td>04012</td>\n",
       "      <td>16580.0</td>\n",
       "      <td>29</td>\n",
       "    </tr>\n",
       "    <tr>\n",
       "      <th>1</th>\n",
       "      <td>04009</td>\n",
       "      <td>38614.0</td>\n",
       "      <td>54</td>\n",
       "    </tr>\n",
       "    <tr>\n",
       "      <th>2</th>\n",
       "      <td>04023</td>\n",
       "      <td>47653.0</td>\n",
       "      <td>48</td>\n",
       "    </tr>\n",
       "  </tbody>\n",
       "</table>\n",
       "</div>"
      ],
      "text/plain": [
       "   GEOID  pop2020  Count\n",
       "0  04012  16580.0     29\n",
       "1  04009  38614.0     54\n",
       "2  04023  47653.0     48"
      ]
     },
     "execution_count": 57,
     "metadata": {},
     "output_type": "execute_result"
    }
   ],
   "source": [
    "home_merged = pd.merge(us_shape_file, home_groped, on = 'GEOID', how = 'inner')\n",
    "home_merged.head(3)"
   ]
  },
  {
   "cell_type": "code",
   "execution_count": 58,
   "id": "e1c84473",
   "metadata": {},
   "outputs": [
    {
     "data": {
      "image/png": "[encoded data removed]",
      "text/plain": [
       "<Figure size 640x480 with 1 Axes>"
      ]
     },
     "metadata": {},
     "output_type": "display_data"
    }
   ],
   "source": [
    "home_merged['log_pop2021'] = np.log10(home_merged['pop2020'] + 1)\n",
    "home_merged['log_Count'] = np.log10(home_merged['Count'] + 1)\n",
    "\n",
    "import matplotlib.pyplot as plt\n",
    "\n",
    "plt.scatter(home_merged['log_pop2021'], home_merged['log_Count'], color='blue')\n",
    "#plt.scatter(home_merged['pop2021'], home_merged['Count'], color='blue')\n",
    "plt.xlabel('Log10(County Population)')\n",
    "plt.ylabel('Log10(Number of Home Locations)')\n",
    "plt.title('Log-Log Relationship: Population vs. Home Locations')\n",
    "plt.grid(True)\n",
    "plt.show()"
   ]
  },
  {
   "cell_type": "markdown",
   "id": "2fdba82e",
   "metadata": {},
   "source": [
    "### Test if it is a linear relationship"
   ]
  },
  {
   "cell_type": "code",
   "execution_count": 59,
   "id": "6037ae7c",
   "metadata": {},
   "outputs": [
    {
     "name": "stdout",
     "output_type": "stream",
     "text": [
      "R² score: 0.9987950426812492\n",
      "Estimated slope (β₁): 0.0014030310863975897\n",
      "Estimated intercept (β₀): -4.112702408714995\n"
     ]
    }
   ],
   "source": [
    "from sklearn.linear_model import LinearRegression\n",
    "\n",
    "# Reshape X to 2D\n",
    "X = home_merged[['pop2020']]  # double brackets = 2D DataFrame\n",
    "y = home_merged['Count']\n",
    "\n",
    "model = LinearRegression()\n",
    "model.fit(X, y)\n",
    "\n",
    "r_squared = model.score(X, y)\n",
    "print(\"R² score:\", r_squared)\n",
    "\n",
    "slope = model.coef_[0]\n",
    "intercept = model.intercept_\n",
    "\n",
    "print(f\"Estimated slope (β₁): {slope}\")\n",
    "print(f\"Estimated intercept (β₀): {intercept}\")"
   ]
  },
  {
   "cell_type": "markdown",
   "id": "454a6234",
   "metadata": {},
   "source": [
    "#"
   ]
  },
  {
   "cell_type": "markdown",
   "id": "a7e20d94",
   "metadata": {},
   "source": [
    "# The Loop"
   ]
  },
  {
   "cell_type": "code",
   "execution_count": 60,
   "id": "2978f295",
   "metadata": {},
   "outputs": [
    {
     "name": "stdout",
     "output_type": "stream",
     "text": [
      "(3574018, 12)\n"
     ]
    },
    {
     "data": {
      "text/html": [
       "<div>\n",
       "<style scoped>\n",
       "    .dataframe tbody tr th:only-of-type {\n",
       "        vertical-align: middle;\n",
       "    }\n",
       "\n",
       "    .dataframe tbody tr th {\n",
       "        vertical-align: top;\n",
       "    }\n",
       "\n",
       "    .dataframe thead th {\n",
       "        text-align: right;\n",
       "    }\n",
       "</style>\n",
       "<table border=\"1\" class=\"dataframe\">\n",
       "  <thead>\n",
       "    <tr style=\"text-align: right;\">\n",
       "      <th></th>\n",
       "      <th>uid</th>\n",
       "      <th>day</th>\n",
       "      <th>GEOID</th>\n",
       "      <th>County</th>\n",
       "      <th>Count</th>\n",
       "      <th>Count_P8</th>\n",
       "      <th>Count_P5</th>\n",
       "      <th>Count_P3</th>\n",
       "      <th>Count_P1</th>\n",
       "      <th>Count_P05</th>\n",
       "      <th>Count_P01</th>\n",
       "      <th>Count_P005</th>\n",
       "    </tr>\n",
       "  </thead>\n",
       "  <tbody>\n",
       "    <tr>\n",
       "      <th>0</th>\n",
       "      <td>1</td>\n",
       "      <td>1</td>\n",
       "      <td>040019440001</td>\n",
       "      <td>04001</td>\n",
       "      <td>5</td>\n",
       "      <td>6</td>\n",
       "      <td>5</td>\n",
       "      <td>6</td>\n",
       "      <td>0</td>\n",
       "      <td>0</td>\n",
       "      <td>150</td>\n",
       "      <td>0</td>\n",
       "    </tr>\n",
       "    <tr>\n",
       "      <th>1</th>\n",
       "      <td>1</td>\n",
       "      <td>1</td>\n",
       "      <td>040019440002</td>\n",
       "      <td>04001</td>\n",
       "      <td>3</td>\n",
       "      <td>3</td>\n",
       "      <td>3</td>\n",
       "      <td>0</td>\n",
       "      <td>2</td>\n",
       "      <td>0</td>\n",
       "      <td>38</td>\n",
       "      <td>52</td>\n",
       "    </tr>\n",
       "    <tr>\n",
       "      <th>2</th>\n",
       "      <td>1</td>\n",
       "      <td>1</td>\n",
       "      <td>040019440003</td>\n",
       "      <td>04001</td>\n",
       "      <td>4</td>\n",
       "      <td>3</td>\n",
       "      <td>6</td>\n",
       "      <td>4</td>\n",
       "      <td>0</td>\n",
       "      <td>23</td>\n",
       "      <td>0</td>\n",
       "      <td>11</td>\n",
       "    </tr>\n",
       "    <tr>\n",
       "      <th>3</th>\n",
       "      <td>1</td>\n",
       "      <td>1</td>\n",
       "      <td>040019450011</td>\n",
       "      <td>04001</td>\n",
       "      <td>1</td>\n",
       "      <td>0</td>\n",
       "      <td>4</td>\n",
       "      <td>4</td>\n",
       "      <td>2</td>\n",
       "      <td>0</td>\n",
       "      <td>0</td>\n",
       "      <td>0</td>\n",
       "    </tr>\n",
       "    <tr>\n",
       "      <th>4</th>\n",
       "      <td>1</td>\n",
       "      <td>1</td>\n",
       "      <td>040070002003</td>\n",
       "      <td>04007</td>\n",
       "      <td>1</td>\n",
       "      <td>1</td>\n",
       "      <td>4</td>\n",
       "      <td>0</td>\n",
       "      <td>0</td>\n",
       "      <td>42</td>\n",
       "      <td>0</td>\n",
       "      <td>12</td>\n",
       "    </tr>\n",
       "  </tbody>\n",
       "</table>\n",
       "</div>"
      ],
      "text/plain": [
       "   uid  day         GEOID County  Count  Count_P8  Count_P5  Count_P3  \\\n",
       "0    1    1  040019440001  04001      5         6         5         6   \n",
       "1    1    1  040019440002  04001      3         3         3         0   \n",
       "2    1    1  040019440003  04001      4         3         6         4   \n",
       "3    1    1  040019450011  04001      1         0         4         4   \n",
       "4    1    1  040070002003  04007      1         1         4         0   \n",
       "\n",
       "   Count_P1  Count_P05  Count_P01  Count_P005  \n",
       "0         0          0        150           0  \n",
       "1         2          0         38          52  \n",
       "2         0         23          0          11  \n",
       "3         2          0          0           0  \n",
       "4         0         42          0          12  "
      ]
     },
     "execution_count": 60,
     "metadata": {},
     "output_type": "execute_result"
    }
   ],
   "source": [
    "print(grouped_counts.shape)\n",
    "grouped_counts.head(5)"
   ]
  },
  {
   "cell_type": "markdown",
   "id": "2e79261c",
   "metadata": {},
   "source": [
    "### Assign home locaton to each individual"
   ]
  },
  {
   "cell_type": "code",
   "execution_count": 61,
   "id": "eba16a0b",
   "metadata": {},
   "outputs": [
    {
     "name": "stdout",
     "output_type": "stream",
     "text": [
      "0\n",
      "4000\n",
      "8000\n"
     ]
    }
   ],
   "source": [
    "# Enpty Data Frame\n",
    "ori_des_df = pd.DataFrame()\n",
    "person_id = grouped_counts[\"uid\"].unique().tolist()\n",
    "\n",
    "#The Loop\n",
    "for i in range(len(person_id)):\n",
    "    \n",
    "    if i % 4000 == 0:\n",
    "        print(i)\n",
    "    \n",
    "    #Reset_index: This makes sure that everytime we do the subset, index start with 1\n",
    "    person = grouped_counts[grouped_counts['uid'] == person_id[i]].reset_index().copy()\n",
    "    person = person.drop(columns = ['index']) #since it create a separate column of index, we drop it!\n",
    "    \n",
    "    #Use existing data to find home location\n",
    "    Origin = home_list[i]\n",
    "    \n",
    "    #Insert Origin, shift county to the right as 'Destination'\n",
    "    person.insert(3, \"Origin\", Origin)\n",
    "    \n",
    "    #rename column\n",
    "    rename = {'County': 'Destination'}\n",
    "    person = person.rename(columns = rename)\n",
    "    \n",
    "    #Concat the result\n",
    "    #Note that each row are count for one census block, convert them into origin and destinaion\n",
    "    ori_des_df = pd.concat([ori_des_df, person], axis = 0)"
   ]
  },
  {
   "cell_type": "code",
   "execution_count": 62,
   "id": "d2f7cecc",
   "metadata": {},
   "outputs": [
    {
     "name": "stdout",
     "output_type": "stream",
     "text": [
      "(3574018, 13)\n"
     ]
    },
    {
     "data": {
      "text/html": [
       "<div>\n",
       "<style scoped>\n",
       "    .dataframe tbody tr th:only-of-type {\n",
       "        vertical-align: middle;\n",
       "    }\n",
       "\n",
       "    .dataframe tbody tr th {\n",
       "        vertical-align: top;\n",
       "    }\n",
       "\n",
       "    .dataframe thead th {\n",
       "        text-align: right;\n",
       "    }\n",
       "</style>\n",
       "<table border=\"1\" class=\"dataframe\">\n",
       "  <thead>\n",
       "    <tr style=\"text-align: right;\">\n",
       "      <th></th>\n",
       "      <th>uid</th>\n",
       "      <th>day</th>\n",
       "      <th>GEOID</th>\n",
       "      <th>Origin</th>\n",
       "      <th>Destination</th>\n",
       "      <th>Count</th>\n",
       "      <th>Count_P8</th>\n",
       "      <th>Count_P5</th>\n",
       "      <th>Count_P3</th>\n",
       "      <th>Count_P1</th>\n",
       "      <th>Count_P05</th>\n",
       "      <th>Count_P01</th>\n",
       "      <th>Count_P005</th>\n",
       "    </tr>\n",
       "  </thead>\n",
       "  <tbody>\n",
       "    <tr>\n",
       "      <th>0</th>\n",
       "      <td>1</td>\n",
       "      <td>1</td>\n",
       "      <td>040019440001</td>\n",
       "      <td>04001</td>\n",
       "      <td>04001</td>\n",
       "      <td>5</td>\n",
       "      <td>6</td>\n",
       "      <td>5</td>\n",
       "      <td>6</td>\n",
       "      <td>0</td>\n",
       "      <td>0</td>\n",
       "      <td>150</td>\n",
       "      <td>0</td>\n",
       "    </tr>\n",
       "    <tr>\n",
       "      <th>1</th>\n",
       "      <td>1</td>\n",
       "      <td>1</td>\n",
       "      <td>040019440002</td>\n",
       "      <td>04001</td>\n",
       "      <td>04001</td>\n",
       "      <td>3</td>\n",
       "      <td>3</td>\n",
       "      <td>3</td>\n",
       "      <td>0</td>\n",
       "      <td>2</td>\n",
       "      <td>0</td>\n",
       "      <td>38</td>\n",
       "      <td>52</td>\n",
       "    </tr>\n",
       "    <tr>\n",
       "      <th>2</th>\n",
       "      <td>1</td>\n",
       "      <td>1</td>\n",
       "      <td>040019440003</td>\n",
       "      <td>04001</td>\n",
       "      <td>04001</td>\n",
       "      <td>4</td>\n",
       "      <td>3</td>\n",
       "      <td>6</td>\n",
       "      <td>4</td>\n",
       "      <td>0</td>\n",
       "      <td>23</td>\n",
       "      <td>0</td>\n",
       "      <td>11</td>\n",
       "    </tr>\n",
       "  </tbody>\n",
       "</table>\n",
       "</div>"
      ],
      "text/plain": [
       "   uid  day         GEOID Origin Destination  Count  Count_P8  Count_P5  \\\n",
       "0    1    1  040019440001  04001       04001      5         6         5   \n",
       "1    1    1  040019440002  04001       04001      3         3         3   \n",
       "2    1    1  040019440003  04001       04001      4         3         6   \n",
       "\n",
       "   Count_P3  Count_P1  Count_P05  Count_P01  Count_P005  \n",
       "0         6         0          0        150           0  \n",
       "1         0         2          0         38          52  \n",
       "2         4         0         23          0          11  "
      ]
     },
     "execution_count": 62,
     "metadata": {},
     "output_type": "execute_result"
    }
   ],
   "source": [
    "print(ori_des_df.shape)\n",
    "ori_des_df.head(3)\n",
    "#ori_des_df.to_excel(\"ori_des_df.xlsx\")"
   ]
  },
  {
   "cell_type": "code",
   "execution_count": 63,
   "id": "f964c3d7",
   "metadata": {},
   "outputs": [],
   "source": [
    "ori_des_df = ori_des_df[ori_des_df['Origin'].isin(E_wa_index)]\n",
    "ori_des_df = ori_des_df[ori_des_df['Destination'].isin(E_wa_index)]"
   ]
  },
  {
   "cell_type": "code",
   "execution_count": 64,
   "id": "16e0f2c7",
   "metadata": {},
   "outputs": [
    {
     "data": {
      "text/plain": [
       "(3574018, 13)"
      ]
     },
     "execution_count": 64,
     "metadata": {},
     "output_type": "execute_result"
    }
   ],
   "source": [
    "ori_des_df.shape"
   ]
  },
  {
   "cell_type": "markdown",
   "id": "2ad9fc6b",
   "metadata": {},
   "source": [
    "# Computing-Weight-Matrix"
   ]
  },
  {
   "cell_type": "markdown",
   "id": "c06d23b6",
   "metadata": {},
   "source": [
    "### Average Matrix Epsilon"
   ]
  },
  {
   "cell_type": "code",
   "execution_count": 65,
   "id": "09df4adb",
   "metadata": {},
   "outputs": [],
   "source": [
    "def avg_mt_epsilon(Count):\n",
    "    \n",
    "    '''\n",
    "    Calculating average mobility matrix for each day (1–30).\n",
    "    This returns a dictionay of Daily Matrix\n",
    "    '''\n",
    "    \n",
    "    Matrix_dict = {}\n",
    "\n",
    "    for i in range(30):\n",
    "        n = i + 1\n",
    "        df = ori_des_df[ori_des_df['day'] == n]\n",
    "        \n",
    "        county_group = df.groupby(['Origin', 'Destination'])[Count].sum().reset_index()\n",
    "\n",
    "        count_Matrix = county_group.pivot_table(index='Origin', \n",
    "                                                columns='Destination', \n",
    "                                                values= Count, \n",
    "                                                fill_value=0)\n",
    "        \n",
    "        #This is a new line of code added by ChatGTP: sort index in accending order\n",
    "        count_Matrix = count_Matrix.sort_index().sort_index(axis=1)\n",
    "\n",
    "        origin_list = count_Matrix.index.tolist()\n",
    "        destination_list = count_Matrix.columns.tolist()\n",
    "        #This is just to ensure if the row index and column index are in the same orde\n",
    "        #As well as to ensure they also equals to the initial SEIR condition county order\n",
    "        #If nothing goes wrong the loop will not print anything\n",
    "\n",
    "        if origin_list != destination_list:\n",
    "            print(f'Day {n}: origin list ≠ destination list')\n",
    "\n",
    "        if origin_list != E_az_index:\n",
    "            print(f'Day {n}: origin list ≠ SEIR initial condition list')\n",
    "\n",
    "        Matrix = count_Matrix.reset_index(drop=True)\n",
    "        Matrix_dict[n] = Matrix\n",
    "\n",
    "    return Matrix_dict"
   ]
  },
  {
   "cell_type": "markdown",
   "id": "f3fdf5a7",
   "metadata": {},
   "source": [
    "### Daily Average Matrix"
   ]
  },
  {
   "cell_type": "code",
   "execution_count": 66,
   "id": "953e70bf",
   "metadata": {},
   "outputs": [],
   "source": [
    "def daily_avg_wtmt(Matrix_dict):\n",
    "    \n",
    "    '''\n",
    "    This function compute the daily average mobility matrix\n",
    "    '''\n",
    "    total_visit = Matrix_dict[1].copy()\n",
    "    mt_length = len(total_visit.columns)\n",
    "    \n",
    "    for i in range(1, 30):\n",
    "        n = i + 1 #n therefore starts from 2\n",
    "        #print(n)\n",
    "        \n",
    "        if n % 10 == 0:\n",
    "            print(n)\n",
    "            \n",
    "        total_visit += Matrix_dict[n]\n",
    "        \n",
    "    daily_avg_visit = total_visit/30\n",
    "    \n",
    "    divisor = [daily_avg_visit.iloc[i].sum() for i in range(mt_length)]\n",
    "    average_wt_mt = daily_avg_visit.div(divisor, axis=0)\n",
    "    \n",
    "    return average_wt_mt"
   ]
  },
  {
   "cell_type": "markdown",
   "id": "fe4edbfd",
   "metadata": {},
   "source": [
    "# Saving the Weight Matrix"
   ]
  },
  {
   "cell_type": "code",
   "execution_count": 104,
   "id": "7fba0995",
   "metadata": {},
   "outputs": [
    {
     "data": {
      "text/html": [
       "<div>\n",
       "<style scoped>\n",
       "    .dataframe tbody tr th:only-of-type {\n",
       "        vertical-align: middle;\n",
       "    }\n",
       "\n",
       "    .dataframe tbody tr th {\n",
       "        vertical-align: top;\n",
       "    }\n",
       "\n",
       "    .dataframe thead th {\n",
       "        text-align: right;\n",
       "    }\n",
       "</style>\n",
       "<table border=\"1\" class=\"dataframe\">\n",
       "  <thead>\n",
       "    <tr style=\"text-align: right;\">\n",
       "      <th>Destination</th>\n",
       "      <th>04001</th>\n",
       "      <th>04003</th>\n",
       "      <th>04005</th>\n",
       "      <th>04007</th>\n",
       "      <th>04009</th>\n",
       "      <th>04012</th>\n",
       "      <th>04013</th>\n",
       "      <th>04015</th>\n",
       "      <th>04017</th>\n",
       "      <th>04019</th>\n",
       "      <th>04021</th>\n",
       "      <th>04023</th>\n",
       "      <th>04025</th>\n",
       "      <th>04027</th>\n",
       "    </tr>\n",
       "  </thead>\n",
       "  <tbody>\n",
       "    <tr>\n",
       "      <th>0</th>\n",
       "      <td>769</td>\n",
       "      <td>12</td>\n",
       "      <td>8</td>\n",
       "      <td>5</td>\n",
       "      <td>1</td>\n",
       "      <td>0</td>\n",
       "      <td>273</td>\n",
       "      <td>3</td>\n",
       "      <td>60</td>\n",
       "      <td>61</td>\n",
       "      <td>46</td>\n",
       "      <td>1</td>\n",
       "      <td>17</td>\n",
       "      <td>19</td>\n",
       "    </tr>\n",
       "    <tr>\n",
       "      <th>1</th>\n",
       "      <td>0</td>\n",
       "      <td>2607</td>\n",
       "      <td>8</td>\n",
       "      <td>5</td>\n",
       "      <td>0</td>\n",
       "      <td>0</td>\n",
       "      <td>151</td>\n",
       "      <td>3</td>\n",
       "      <td>2</td>\n",
       "      <td>259</td>\n",
       "      <td>16</td>\n",
       "      <td>8</td>\n",
       "      <td>1</td>\n",
       "      <td>0</td>\n",
       "    </tr>\n",
       "    <tr>\n",
       "      <th>2</th>\n",
       "      <td>35</td>\n",
       "      <td>3</td>\n",
       "      <td>3285</td>\n",
       "      <td>17</td>\n",
       "      <td>0</td>\n",
       "      <td>6</td>\n",
       "      <td>372</td>\n",
       "      <td>7</td>\n",
       "      <td>9</td>\n",
       "      <td>36</td>\n",
       "      <td>25</td>\n",
       "      <td>0</td>\n",
       "      <td>85</td>\n",
       "      <td>5</td>\n",
       "    </tr>\n",
       "  </tbody>\n",
       "</table>\n",
       "</div>"
      ],
      "text/plain": [
       "Destination  04001  04003  04005  04007  04009  04012  04013  04015  04017  \\\n",
       "0              769     12      8      5      1      0    273      3     60   \n",
       "1                0   2607      8      5      0      0    151      3      2   \n",
       "2               35      3   3285     17      0      6    372      7      9   \n",
       "\n",
       "Destination  04019  04021  04023  04025  04027  \n",
       "0               61     46      1     17     19  \n",
       "1              259     16      8      1      0  \n",
       "2               36     25      0     85      5  "
      ]
     },
     "execution_count": 104,
     "metadata": {},
     "output_type": "execute_result"
    }
   ],
   "source": [
    "Matrix_dict = avg_mt_epsilon('Count')\n",
    "Matrix_dict[1].head(3)"
   ]
  },
  {
   "cell_type": "code",
   "execution_count": 105,
   "id": "0f4d2935",
   "metadata": {},
   "outputs": [
    {
     "name": "stdout",
     "output_type": "stream",
     "text": [
      "10\n",
      "20\n",
      "30\n"
     ]
    },
    {
     "data": {
      "text/html": [
       "<div>\n",
       "<style scoped>\n",
       "    .dataframe tbody tr th:only-of-type {\n",
       "        vertical-align: middle;\n",
       "    }\n",
       "\n",
       "    .dataframe tbody tr th {\n",
       "        vertical-align: top;\n",
       "    }\n",
       "\n",
       "    .dataframe thead th {\n",
       "        text-align: right;\n",
       "    }\n",
       "</style>\n",
       "<table border=\"1\" class=\"dataframe\">\n",
       "  <thead>\n",
       "    <tr style=\"text-align: right;\">\n",
       "      <th>Destination</th>\n",
       "      <th>04001</th>\n",
       "      <th>04003</th>\n",
       "      <th>04005</th>\n",
       "      <th>04007</th>\n",
       "      <th>04009</th>\n",
       "      <th>04012</th>\n",
       "      <th>04013</th>\n",
       "      <th>04015</th>\n",
       "      <th>04017</th>\n",
       "      <th>04019</th>\n",
       "      <th>04021</th>\n",
       "      <th>04023</th>\n",
       "      <th>04025</th>\n",
       "      <th>04027</th>\n",
       "    </tr>\n",
       "  </thead>\n",
       "  <tbody>\n",
       "    <tr>\n",
       "      <th>0</th>\n",
       "      <td>0.393417</td>\n",
       "      <td>0.006658</td>\n",
       "      <td>0.010795</td>\n",
       "      <td>0.002831</td>\n",
       "      <td>0.001058</td>\n",
       "      <td>0.000249</td>\n",
       "      <td>0.366134</td>\n",
       "      <td>0.005071</td>\n",
       "      <td>0.051549</td>\n",
       "      <td>0.073389</td>\n",
       "      <td>0.053571</td>\n",
       "      <td>0.002520</td>\n",
       "      <td>0.018510</td>\n",
       "      <td>0.014248</td>\n",
       "    </tr>\n",
       "    <tr>\n",
       "      <th>1</th>\n",
       "      <td>0.000343</td>\n",
       "      <td>0.728874</td>\n",
       "      <td>0.001962</td>\n",
       "      <td>0.001312</td>\n",
       "      <td>0.001092</td>\n",
       "      <td>0.000000</td>\n",
       "      <td>0.099431</td>\n",
       "      <td>0.000895</td>\n",
       "      <td>0.001472</td>\n",
       "      <td>0.147742</td>\n",
       "      <td>0.010781</td>\n",
       "      <td>0.005249</td>\n",
       "      <td>0.000503</td>\n",
       "      <td>0.000343</td>\n",
       "    </tr>\n",
       "    <tr>\n",
       "      <th>2</th>\n",
       "      <td>0.004619</td>\n",
       "      <td>0.001075</td>\n",
       "      <td>0.798236</td>\n",
       "      <td>0.004241</td>\n",
       "      <td>0.000060</td>\n",
       "      <td>0.000448</td>\n",
       "      <td>0.132651</td>\n",
       "      <td>0.003146</td>\n",
       "      <td>0.003126</td>\n",
       "      <td>0.018319</td>\n",
       "      <td>0.007397</td>\n",
       "      <td>0.000388</td>\n",
       "      <td>0.023207</td>\n",
       "      <td>0.003086</td>\n",
       "    </tr>\n",
       "  </tbody>\n",
       "</table>\n",
       "</div>"
      ],
      "text/plain": [
       "Destination     04001     04003     04005     04007     04009     04012  \\\n",
       "0            0.393417  0.006658  0.010795  0.002831  0.001058  0.000249   \n",
       "1            0.000343  0.728874  0.001962  0.001312  0.001092  0.000000   \n",
       "2            0.004619  0.001075  0.798236  0.004241  0.000060  0.000448   \n",
       "\n",
       "Destination     04013     04015     04017     04019     04021     04023  \\\n",
       "0            0.366134  0.005071  0.051549  0.073389  0.053571  0.002520   \n",
       "1            0.099431  0.000895  0.001472  0.147742  0.010781  0.005249   \n",
       "2            0.132651  0.003146  0.003126  0.018319  0.007397  0.000388   \n",
       "\n",
       "Destination     04025     04027  \n",
       "0            0.018510  0.014248  \n",
       "1            0.000503  0.000343  \n",
       "2            0.023207  0.003086  "
      ]
     },
     "execution_count": 105,
     "metadata": {},
     "output_type": "execute_result"
    }
   ],
   "source": [
    "daily_avg = daily_avg_wtmt(Matrix_dict)\n",
    "daily_avg.head(3)"
   ]
  },
  {
   "cell_type": "code",
   "execution_count": 106,
   "id": "bfbff2ef",
   "metadata": {},
   "outputs": [
    {
     "name": "stdout",
     "output_type": "stream",
     "text": [
      "Mean: 0.675096051105809\n",
      "Median: 0.6991609017735041\n",
      "Min: 0.31415353476940866\n",
      "Max: 0.9704899280901157\n"
     ]
    }
   ],
   "source": [
    "# Calculations\n",
    "import statistics\n",
    "\n",
    "average_wt_mt_np = daily_avg.to_numpy()\n",
    "Pii_skmob = [average_wt_mt_np[i][i] for i in range(14)]\n",
    "\n",
    "\n",
    "data = Pii_skmob \n",
    "mean_value = sum(data) / len(data)  # Mean\n",
    "median_value = statistics.median(data)  # Median\n",
    "min_value = min(data)  # Min\n",
    "max_value = max(data)  # Max\n",
    "\n",
    "# Output\n",
    "print(f\"Mean: {mean_value}\")\n",
    "print(f\"Median: {median_value}\")\n",
    "print(f\"Min: {min_value}\")\n",
    "print(f\"Max: {max_value}\")"
   ]
  },
  {
   "cell_type": "code",
   "execution_count": 99,
   "id": "e4a8efb3",
   "metadata": {},
   "outputs": [],
   "source": [
    "#daily_avg.to_csv(\"AZ_ori_indi.csv\")"
   ]
  },
  {
   "cell_type": "markdown",
   "id": "b9a6c00a",
   "metadata": {},
   "source": [
    "# Compares it to the Original"
   ]
  },
  {
   "cell_type": "code",
   "execution_count": 107,
   "id": "fec8dc6c",
   "metadata": {},
   "outputs": [
    {
     "data": {
      "image/png": "[encoded data removed]",
      "text/plain": [
       "<Figure size 640x480 with 1 Axes>"
      ]
     },
     "metadata": {},
     "output_type": "display_data"
    }
   ],
   "source": [
    "import numpy as np\n",
    "import seaborn as sns\n",
    "import matplotlib.pyplot as plt\n",
    "\n",
    "# Create KDE plot\n",
    "sns.kdeplot(Pii_ori, label=\"Real Matrix\", fill=True)\n",
    "sns.kdeplot(Pii_skmob, label=\"Skmob Generated Matrix\", fill=True)\n",
    "\n",
    "# Labels and legend\n",
    "plt.xlabel(\"Value\")\n",
    "plt.ylabel(\"Density\")\n",
    "plt.title(\"Density Distribution of Pii\")\n",
    "plt.legend()\n",
    "\n",
    "#Lables and legend\n",
    "#plt.savefig(\"Pii_Comparison.png\", dpi=300, bbox_inches='tight')\n",
    "\n",
    "# Show plot\n",
    "plt.show()\n"
   ]
  },
  {
   "cell_type": "code",
   "execution_count": null,
   "id": "a060f87c",
   "metadata": {},
   "outputs": [],
   "source": []
  }
 ],
 "metadata": {
  "kernelspec": {
   "display_name": "Python 3 (ipykernel)",
   "language": "python",
   "name": "python3"
  },
  "language_info": {
   "codemirror_mode": {
    "name": "ipython",
    "version": 3
   },
   "file_extension": ".py",
   "mimetype": "text/x-python",
   "name": "python",
   "nbconvert_exporter": "python",
   "pygments_lexer": "ipython3",
   "version": "3.11.5"
  }
 },
 "nbformat": 4,
 "nbformat_minor": 5
}
