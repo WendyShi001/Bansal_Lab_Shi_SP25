{
 "cells": [
  {
   "cell_type": "markdown",
   "id": "805cf925",
   "metadata": {},
   "source": [
    "<h1><center> Visualization <br><br>\n",
    "    <center> Wendy Shi"
   ]
  },
  {
   "cell_type": "markdown",
   "id": "b77fec99",
   "metadata": {},
   "source": [
    "## TOC"
   ]
  },
  {
   "cell_type": "markdown",
   "id": "7beac35d",
   "metadata": {},
   "source": [
    "- [Preparation](#Preparation)\n",
    "- [Home Location](#Home-location)\n",
    "- [Jump length](#Jump-Length)\n",
    "- [Summary Statistics](#Summary-statistics)\n",
    "- [Funcations](#Function)"
   ]
  },
  {
   "cell_type": "markdown",
   "id": "fd1eafbd",
   "metadata": {},
   "source": [
    "# Preparation"
   ]
  },
  {
   "cell_type": "code",
   "execution_count": 2,
   "id": "fc95423e",
   "metadata": {},
   "outputs": [],
   "source": [
    "#skmob\n",
    "import skmob\n",
    "import geopandas as gpd\n",
    "from skmob.models.epr import DensityEPR\n",
    "from skmob.measures.individual import home_location\n",
    "from skmob.measures.individual import jump_lengths\n",
    "\n",
    "#standard\n",
    "import pandas as pd\n",
    "import numpy as np\n",
    "import matplotlib.pyplot as plt\n",
    "from scipy.integrate import odeint\n",
    "from scipy.interpolate import interp1d\n",
    "import scipy.stats as stats\n",
    "\n",
    "#visualization\n",
    "import seaborn as sns\n",
    "\n",
    "#Geopandas related\n",
    "import fiona\n",
    "from shapely.geometry import shape"
   ]
  },
  {
   "cell_type": "markdown",
   "id": "1b0b8fae",
   "metadata": {},
   "source": [
    "## Subsetting"
   ]
  },
  {
   "cell_type": "code",
   "execution_count": 3,
   "id": "d5fb0bf7",
   "metadata": {},
   "outputs": [
    {
     "data": {
      "text/html": [
       "<div>\n",
       "<style scoped>\n",
       "    .dataframe tbody tr th:only-of-type {\n",
       "        vertical-align: middle;\n",
       "    }\n",
       "\n",
       "    .dataframe tbody tr th {\n",
       "        vertical-align: top;\n",
       "    }\n",
       "\n",
       "    .dataframe thead th {\n",
       "        text-align: right;\n",
       "    }\n",
       "</style>\n",
       "<table border=\"1\" class=\"dataframe\">\n",
       "  <thead>\n",
       "    <tr style=\"text-align: right;\">\n",
       "      <th></th>\n",
       "      <th>index</th>\n",
       "      <th>GEOID</th>\n",
       "      <th>State</th>\n",
       "    </tr>\n",
       "  </thead>\n",
       "  <tbody>\n",
       "    <tr>\n",
       "      <th>0</th>\n",
       "      <td>0</td>\n",
       "      <td>01001</td>\n",
       "      <td>01</td>\n",
       "    </tr>\n",
       "    <tr>\n",
       "      <th>1</th>\n",
       "      <td>1</td>\n",
       "      <td>01003</td>\n",
       "      <td>01</td>\n",
       "    </tr>\n",
       "    <tr>\n",
       "      <th>2</th>\n",
       "      <td>2</td>\n",
       "      <td>01005</td>\n",
       "      <td>01</td>\n",
       "    </tr>\n",
       "  </tbody>\n",
       "</table>\n",
       "</div>"
      ],
      "text/plain": [
       "   index  GEOID State\n",
       "0      0  01001    01\n",
       "1      1  01003    01\n",
       "2      2  01005    01"
      ]
     },
     "execution_count": 3,
     "metadata": {},
     "output_type": "execute_result"
    }
   ],
   "source": [
    "#Load data\n",
    "node_dict = pd.read_csv(\"../Data/nodes_considered.csv\")\n",
    "\n",
    "#Standardize GEOID\n",
    "node_dict[\"GEO_ID\"] = node_dict[\"GEO_ID\"].apply(lambda x: f\"{int(x):05d}\") #turn GEOID into 6 digit format\n",
    "\n",
    "#rename column\n",
    "rename = {'GEO_ID' : 'GEOID'}\n",
    "node_dict = node_dict.rename(columns = rename)\n",
    "\n",
    "#State ID: Add a new column\n",
    "node_dict['State'] = node_dict['GEOID'].str[:2]\n",
    "node_dict.head(3)"
   ]
  },
  {
   "cell_type": "code",
   "execution_count": 4,
   "id": "6c2f1ad3",
   "metadata": {},
   "outputs": [
    {
     "name": "stdout",
     "output_type": "stream",
     "text": [
      "(55, 3)\n"
     ]
    },
    {
     "data": {
      "text/html": [
       "<div>\n",
       "<style scoped>\n",
       "    .dataframe tbody tr th:only-of-type {\n",
       "        vertical-align: middle;\n",
       "    }\n",
       "\n",
       "    .dataframe tbody tr th {\n",
       "        vertical-align: top;\n",
       "    }\n",
       "\n",
       "    .dataframe thead th {\n",
       "        text-align: right;\n",
       "    }\n",
       "</style>\n",
       "<table border=\"1\" class=\"dataframe\">\n",
       "  <thead>\n",
       "    <tr style=\"text-align: right;\">\n",
       "      <th></th>\n",
       "      <th>index</th>\n",
       "      <th>GEOID</th>\n",
       "      <th>State</th>\n",
       "    </tr>\n",
       "  </thead>\n",
       "  <tbody>\n",
       "    <tr>\n",
       "      <th>133</th>\n",
       "      <td>133</td>\n",
       "      <td>06001</td>\n",
       "      <td>06</td>\n",
       "    </tr>\n",
       "    <tr>\n",
       "      <th>134</th>\n",
       "      <td>134</td>\n",
       "      <td>06005</td>\n",
       "      <td>06</td>\n",
       "    </tr>\n",
       "    <tr>\n",
       "      <th>135</th>\n",
       "      <td>135</td>\n",
       "      <td>06007</td>\n",
       "      <td>06</td>\n",
       "    </tr>\n",
       "  </tbody>\n",
       "</table>\n",
       "</div>"
      ],
      "text/plain": [
       "     index  GEOID State\n",
       "133    133  06001    06\n",
       "134    134  06005    06\n",
       "135    135  06007    06"
      ]
     },
     "execution_count": 4,
     "metadata": {},
     "output_type": "execute_result"
    }
   ],
   "source": [
    "#print out the number of States that we want\n",
    "CA = node_dict[node_dict['State'] == '06']\n",
    "print(CA.shape)\n",
    "CA.head(3)"
   ]
  },
  {
   "cell_type": "markdown",
   "id": "58a78c9b",
   "metadata": {},
   "source": [
    "## US Shape File"
   ]
  },
  {
   "cell_type": "code",
   "execution_count": 5,
   "id": "282de014",
   "metadata": {},
   "outputs": [
    {
     "data": {
      "text/html": [
       "<div>\n",
       "<style scoped>\n",
       "    .dataframe tbody tr th:only-of-type {\n",
       "        vertical-align: middle;\n",
       "    }\n",
       "\n",
       "    .dataframe tbody tr th {\n",
       "        vertical-align: top;\n",
       "    }\n",
       "\n",
       "    .dataframe thead th {\n",
       "        text-align: right;\n",
       "    }\n",
       "</style>\n",
       "<table border=\"1\" class=\"dataframe\">\n",
       "  <thead>\n",
       "    <tr style=\"text-align: right;\">\n",
       "      <th></th>\n",
       "      <th>GEO_ID</th>\n",
       "      <th>STATE</th>\n",
       "      <th>COUNTY</th>\n",
       "      <th>NAME</th>\n",
       "      <th>LSAD</th>\n",
       "      <th>CENSUSAREA</th>\n",
       "      <th>State_1</th>\n",
       "      <th>Alpha code</th>\n",
       "      <th>Region</th>\n",
       "      <th>Division</th>\n",
       "      <th>CDC region</th>\n",
       "      <th>FIPS code</th>\n",
       "      <th>2013 code</th>\n",
       "      <th>U/R</th>\n",
       "      <th>pop2020</th>\n",
       "      <th>pop2021</th>\n",
       "    </tr>\n",
       "  </thead>\n",
       "  <tbody>\n",
       "    <tr>\n",
       "      <th>0</th>\n",
       "      <td>48301</td>\n",
       "      <td>48</td>\n",
       "      <td>301</td>\n",
       "      <td>Loving</td>\n",
       "      <td>County</td>\n",
       "      <td>668.925</td>\n",
       "      <td>Texas</td>\n",
       "      <td>TX</td>\n",
       "      <td>South</td>\n",
       "      <td>West South Central</td>\n",
       "      <td>6.0</td>\n",
       "      <td>48301</td>\n",
       "      <td>6</td>\n",
       "      <td>R</td>\n",
       "      <td>67.0</td>\n",
       "      <td>57.0</td>\n",
       "    </tr>\n",
       "    <tr>\n",
       "      <th>1</th>\n",
       "      <td>48269</td>\n",
       "      <td>48</td>\n",
       "      <td>269</td>\n",
       "      <td>King</td>\n",
       "      <td>County</td>\n",
       "      <td>910.872</td>\n",
       "      <td>Texas</td>\n",
       "      <td>TX</td>\n",
       "      <td>South</td>\n",
       "      <td>West South Central</td>\n",
       "      <td>6.0</td>\n",
       "      <td>48269</td>\n",
       "      <td>6</td>\n",
       "      <td>R</td>\n",
       "      <td>270.0</td>\n",
       "      <td>258.0</td>\n",
       "    </tr>\n",
       "    <tr>\n",
       "      <th>2</th>\n",
       "      <td>48261</td>\n",
       "      <td>48</td>\n",
       "      <td>261</td>\n",
       "      <td>Kenedy</td>\n",
       "      <td>County</td>\n",
       "      <td>1458.329</td>\n",
       "      <td>Texas</td>\n",
       "      <td>TX</td>\n",
       "      <td>South</td>\n",
       "      <td>West South Central</td>\n",
       "      <td>6.0</td>\n",
       "      <td>48261</td>\n",
       "      <td>5</td>\n",
       "      <td>R</td>\n",
       "      <td>346.0</td>\n",
       "      <td>340.0</td>\n",
       "    </tr>\n",
       "  </tbody>\n",
       "</table>\n",
       "</div>"
      ],
      "text/plain": [
       "   GEO_ID  STATE  COUNTY    NAME    LSAD  CENSUSAREA State_1 Alpha code  \\\n",
       "0   48301     48     301  Loving  County     668.925   Texas         TX   \n",
       "1   48269     48     269    King  County     910.872   Texas         TX   \n",
       "2   48261     48     261  Kenedy  County    1458.329   Texas         TX   \n",
       "\n",
       "  Region            Division  CDC region  FIPS code  2013 code U/R  pop2020  \\\n",
       "0  South  West South Central         6.0      48301          6   R     67.0   \n",
       "1  South  West South Central         6.0      48269          6   R    270.0   \n",
       "2  South  West South Central         6.0      48261          5   R    346.0   \n",
       "\n",
       "   pop2021  \n",
       "0     57.0  \n",
       "1    258.0  \n",
       "2    340.0  "
      ]
     },
     "execution_count": 5,
     "metadata": {},
     "output_type": "execute_result"
    }
   ],
   "source": [
    "shape_file = pd.read_csv(\"../Data/us_shapefile_county.csv\")\n",
    "shape_file.head(3)"
   ]
  },
  {
   "cell_type": "code",
   "execution_count": 6,
   "id": "a399d8b0",
   "metadata": {},
   "outputs": [
    {
     "name": "stdout",
     "output_type": "stream",
     "text": [
      "(58, 16)\n"
     ]
    },
    {
     "data": {
      "text/html": [
       "<div>\n",
       "<style scoped>\n",
       "    .dataframe tbody tr th:only-of-type {\n",
       "        vertical-align: middle;\n",
       "    }\n",
       "\n",
       "    .dataframe tbody tr th {\n",
       "        vertical-align: top;\n",
       "    }\n",
       "\n",
       "    .dataframe thead th {\n",
       "        text-align: right;\n",
       "    }\n",
       "</style>\n",
       "<table border=\"1\" class=\"dataframe\">\n",
       "  <thead>\n",
       "    <tr style=\"text-align: right;\">\n",
       "      <th></th>\n",
       "      <th>GEO_ID</th>\n",
       "      <th>STATE</th>\n",
       "      <th>COUNTY</th>\n",
       "      <th>NAME</th>\n",
       "      <th>LSAD</th>\n",
       "      <th>CENSUSAREA</th>\n",
       "      <th>State_1</th>\n",
       "      <th>Alpha code</th>\n",
       "      <th>Region</th>\n",
       "      <th>Division</th>\n",
       "      <th>CDC region</th>\n",
       "      <th>FIPS code</th>\n",
       "      <th>2013 code</th>\n",
       "      <th>U/R</th>\n",
       "      <th>pop2020</th>\n",
       "      <th>pop2021</th>\n",
       "    </tr>\n",
       "  </thead>\n",
       "  <tbody>\n",
       "    <tr>\n",
       "      <th>41</th>\n",
       "      <td>6003</td>\n",
       "      <td>6</td>\n",
       "      <td>3</td>\n",
       "      <td>Alpine</td>\n",
       "      <td>County</td>\n",
       "      <td>738.332</td>\n",
       "      <td>California</td>\n",
       "      <td>CA</td>\n",
       "      <td>West</td>\n",
       "      <td>Pacific</td>\n",
       "      <td>9.0</td>\n",
       "      <td>6003</td>\n",
       "      <td>6</td>\n",
       "      <td>R</td>\n",
       "      <td>1198.0</td>\n",
       "      <td>1235.0</td>\n",
       "    </tr>\n",
       "    <tr>\n",
       "      <th>185</th>\n",
       "      <td>6091</td>\n",
       "      <td>6</td>\n",
       "      <td>91</td>\n",
       "      <td>Sierra</td>\n",
       "      <td>County</td>\n",
       "      <td>953.214</td>\n",
       "      <td>California</td>\n",
       "      <td>CA</td>\n",
       "      <td>West</td>\n",
       "      <td>Pacific</td>\n",
       "      <td>9.0</td>\n",
       "      <td>6091</td>\n",
       "      <td>6</td>\n",
       "      <td>R</td>\n",
       "      <td>3228.0</td>\n",
       "      <td>3283.0</td>\n",
       "    </tr>\n",
       "    <tr>\n",
       "      <th>606</th>\n",
       "      <td>6049</td>\n",
       "      <td>6</td>\n",
       "      <td>49</td>\n",
       "      <td>Modoc</td>\n",
       "      <td>County</td>\n",
       "      <td>3917.770</td>\n",
       "      <td>California</td>\n",
       "      <td>CA</td>\n",
       "      <td>West</td>\n",
       "      <td>Pacific</td>\n",
       "      <td>9.0</td>\n",
       "      <td>6049</td>\n",
       "      <td>6</td>\n",
       "      <td>R</td>\n",
       "      <td>8658.0</td>\n",
       "      <td>8661.0</td>\n",
       "    </tr>\n",
       "  </tbody>\n",
       "</table>\n",
       "</div>"
      ],
      "text/plain": [
       "     GEO_ID  STATE  COUNTY    NAME    LSAD  CENSUSAREA     State_1 Alpha code  \\\n",
       "41     6003      6       3  Alpine  County     738.332  California         CA   \n",
       "185    6091      6      91  Sierra  County     953.214  California         CA   \n",
       "606    6049      6      49   Modoc  County    3917.770  California         CA   \n",
       "\n",
       "    Region Division  CDC region  FIPS code  2013 code U/R  pop2020  pop2021  \n",
       "41    West  Pacific         9.0       6003          6   R   1198.0   1235.0  \n",
       "185   West  Pacific         9.0       6091          6   R   3228.0   3283.0  \n",
       "606   West  Pacific         9.0       6049          6   R   8658.0   8661.0  "
      ]
     },
     "execution_count": 6,
     "metadata": {},
     "output_type": "execute_result"
    }
   ],
   "source": [
    "#Check how many state does NY has in total\n",
    "CA_sub = shape_file[shape_file['State_1'] == 'California']\n",
    "print(CA_sub.shape)\n",
    "CA_sub.head(3)"
   ]
  },
  {
   "cell_type": "code",
   "execution_count": 7,
   "id": "b808e6cc",
   "metadata": {},
   "outputs": [
    {
     "name": "stdout",
     "output_type": "stream",
     "text": [
      "(55, 6)\n"
     ]
    },
    {
     "data": {
      "text/html": [
       "<div>\n",
       "<style scoped>\n",
       "    .dataframe tbody tr th:only-of-type {\n",
       "        vertical-align: middle;\n",
       "    }\n",
       "\n",
       "    .dataframe tbody tr th {\n",
       "        vertical-align: top;\n",
       "    }\n",
       "\n",
       "    .dataframe thead th {\n",
       "        text-align: right;\n",
       "    }\n",
       "</style>\n",
       "<table border=\"1\" class=\"dataframe\">\n",
       "  <thead>\n",
       "    <tr style=\"text-align: right;\">\n",
       "      <th></th>\n",
       "      <th>GEOID</th>\n",
       "      <th>NAME</th>\n",
       "      <th>LSAD</th>\n",
       "      <th>STATE</th>\n",
       "      <th>State_1</th>\n",
       "      <th>pop2020</th>\n",
       "    </tr>\n",
       "  </thead>\n",
       "  <tbody>\n",
       "    <tr>\n",
       "      <th>917</th>\n",
       "      <td>06051</td>\n",
       "      <td>Mono</td>\n",
       "      <td>County</td>\n",
       "      <td>6</td>\n",
       "      <td>California</td>\n",
       "      <td>13206.0</td>\n",
       "    </tr>\n",
       "    <tr>\n",
       "      <th>1089</th>\n",
       "      <td>06105</td>\n",
       "      <td>Trinity</td>\n",
       "      <td>County</td>\n",
       "      <td>6</td>\n",
       "      <td>California</td>\n",
       "      <td>16088.0</td>\n",
       "    </tr>\n",
       "    <tr>\n",
       "      <th>1158</th>\n",
       "      <td>06043</td>\n",
       "      <td>Mariposa</td>\n",
       "      <td>County</td>\n",
       "      <td>6</td>\n",
       "      <td>California</td>\n",
       "      <td>17124.0</td>\n",
       "    </tr>\n",
       "    <tr>\n",
       "      <th>1248</th>\n",
       "      <td>06027</td>\n",
       "      <td>Inyo</td>\n",
       "      <td>County</td>\n",
       "      <td>6</td>\n",
       "      <td>California</td>\n",
       "      <td>19023.0</td>\n",
       "    </tr>\n",
       "    <tr>\n",
       "      <th>1288</th>\n",
       "      <td>06063</td>\n",
       "      <td>Plumas</td>\n",
       "      <td>County</td>\n",
       "      <td>6</td>\n",
       "      <td>California</td>\n",
       "      <td>19769.0</td>\n",
       "    </tr>\n",
       "  </tbody>\n",
       "</table>\n",
       "</div>"
      ],
      "text/plain": [
       "      GEOID      NAME    LSAD  STATE     State_1  pop2020\n",
       "917   06051      Mono  County      6  California  13206.0\n",
       "1089  06105   Trinity  County      6  California  16088.0\n",
       "1158  06043  Mariposa  County      6  California  17124.0\n",
       "1248  06027      Inyo  County      6  California  19023.0\n",
       "1288  06063    Plumas  County      6  California  19769.0"
      ]
     },
     "execution_count": 7,
     "metadata": {},
     "output_type": "execute_result"
    }
   ],
   "source": [
    "CA_name_id_pop = shape_file[(shape_file[\"STATE\"] == 6) & (shape_file[\"pop2020\"] > 11000)] \n",
    "\n",
    "rename = {\"GEO_ID\" : \"GEOID\"}\n",
    "CA_name_id_pop = CA_name_id_pop.rename(columns = rename)\n",
    "CA_name_id_pop = CA_name_id_pop[['GEOID', 'NAME','LSAD','STATE','State_1','pop2020']]\n",
    "CA_name_id_pop['GEOID'] = CA_name_id_pop['GEOID'].apply(lambda x: f\"{int(x):05d}\") \n",
    "print(CA_name_id_pop.shape)\n",
    "CA_name_id_pop.head()"
   ]
  },
  {
   "cell_type": "code",
   "execution_count": 8,
   "id": "196773f4",
   "metadata": {},
   "outputs": [
    {
     "name": "stdout",
     "output_type": "stream",
     "text": [
      "<class 'pandas.core.frame.DataFrame'>\n",
      "Index: 55 entries, 917 to 3106\n",
      "Data columns (total 6 columns):\n",
      " #   Column   Non-Null Count  Dtype  \n",
      "---  ------   --------------  -----  \n",
      " 0   GEOID    55 non-null     object \n",
      " 1   NAME     55 non-null     object \n",
      " 2   LSAD     55 non-null     object \n",
      " 3   STATE    55 non-null     int64  \n",
      " 4   State_1  55 non-null     object \n",
      " 5   pop2020  55 non-null     float64\n",
      "dtypes: float64(1), int64(1), object(4)\n",
      "memory usage: 3.0+ KB\n"
     ]
    }
   ],
   "source": [
    "CA_name_id_pop.info()"
   ]
  },
  {
   "cell_type": "code",
   "execution_count": 9,
   "id": "ea0a4760",
   "metadata": {},
   "outputs": [
    {
     "name": "stdout",
     "output_type": "stream",
     "text": [
      "55\n"
     ]
    }
   ],
   "source": [
    "CA_name_id_pop['GEOID'] = CA_name_id_pop['GEOID'].astype(str)\n",
    "county_list = CA_name_id_pop['GEOID'].tolist()\n",
    "print(len(county_list))"
   ]
  },
  {
   "cell_type": "markdown",
   "id": "360ef5e3",
   "metadata": {},
   "source": [
    "#"
   ]
  },
  {
   "cell_type": "markdown",
   "id": "e00a56a3",
   "metadata": {},
   "source": [
    "# Population Districts \n",
    "- Tracts, Block Groups and Blocks"
   ]
  },
  {
   "cell_type": "markdown",
   "id": "4dc0049d",
   "metadata": {},
   "source": [
    "## Census Block Group"
   ]
  },
  {
   "cell_type": "code",
   "execution_count": 13,
   "id": "7a2fe817",
   "metadata": {},
   "outputs": [
    {
     "data": {
      "text/html": [
       "<div>\n",
       "<style scoped>\n",
       "    .dataframe tbody tr th:only-of-type {\n",
       "        vertical-align: middle;\n",
       "    }\n",
       "\n",
       "    .dataframe tbody tr th {\n",
       "        vertical-align: top;\n",
       "    }\n",
       "\n",
       "    .dataframe thead th {\n",
       "        text-align: right;\n",
       "    }\n",
       "</style>\n",
       "<table border=\"1\" class=\"dataframe\">\n",
       "  <thead>\n",
       "    <tr style=\"text-align: right;\">\n",
       "      <th></th>\n",
       "      <th>STATEFP</th>\n",
       "      <th>COUNTYFP</th>\n",
       "      <th>TRACTCE</th>\n",
       "      <th>BLKGRPCE</th>\n",
       "      <th>GEOID</th>\n",
       "      <th>NAMELSAD</th>\n",
       "      <th>MTFCC</th>\n",
       "      <th>FUNCSTAT</th>\n",
       "      <th>ALAND</th>\n",
       "      <th>AWATER</th>\n",
       "      <th>INTPTLAT</th>\n",
       "      <th>INTPTLON</th>\n",
       "      <th>geometry</th>\n",
       "    </tr>\n",
       "  </thead>\n",
       "  <tbody>\n",
       "    <tr>\n",
       "      <th>0</th>\n",
       "      <td>06</td>\n",
       "      <td>053</td>\n",
       "      <td>001500</td>\n",
       "      <td>1</td>\n",
       "      <td>060530015001</td>\n",
       "      <td>Block Group 1</td>\n",
       "      <td>G5030</td>\n",
       "      <td>S</td>\n",
       "      <td>3348560</td>\n",
       "      <td>0</td>\n",
       "      <td>+36.6564570</td>\n",
       "      <td>-121.6749086</td>\n",
       "      <td>POLYGON ((-121.69184 36.65885, -121.68510 36.6...</td>\n",
       "    </tr>\n",
       "    <tr>\n",
       "      <th>1</th>\n",
       "      <td>06</td>\n",
       "      <td>073</td>\n",
       "      <td>002712</td>\n",
       "      <td>2</td>\n",
       "      <td>060730027122</td>\n",
       "      <td>Block Group 2</td>\n",
       "      <td>G5030</td>\n",
       "      <td>S</td>\n",
       "      <td>337744</td>\n",
       "      <td>0</td>\n",
       "      <td>+32.7303521</td>\n",
       "      <td>-117.0787620</td>\n",
       "      <td>POLYGON ((-117.08306 32.72588, -117.08280 32.7...</td>\n",
       "    </tr>\n",
       "    <tr>\n",
       "      <th>2</th>\n",
       "      <td>06</td>\n",
       "      <td>073</td>\n",
       "      <td>018601</td>\n",
       "      <td>2</td>\n",
       "      <td>060730186012</td>\n",
       "      <td>Block Group 2</td>\n",
       "      <td>G5030</td>\n",
       "      <td>S</td>\n",
       "      <td>886725</td>\n",
       "      <td>0</td>\n",
       "      <td>+33.2295683</td>\n",
       "      <td>-117.3482855</td>\n",
       "      <td>POLYGON ((-117.35296 33.22489, -117.35294 33.2...</td>\n",
       "    </tr>\n",
       "  </tbody>\n",
       "</table>\n",
       "</div>"
      ],
      "text/plain": [
       "  STATEFP COUNTYFP TRACTCE BLKGRPCE         GEOID       NAMELSAD  MTFCC  \\\n",
       "0      06      053  001500        1  060530015001  Block Group 1  G5030   \n",
       "1      06      073  002712        2  060730027122  Block Group 2  G5030   \n",
       "2      06      073  018601        2  060730186012  Block Group 2  G5030   \n",
       "\n",
       "  FUNCSTAT    ALAND  AWATER     INTPTLAT      INTPTLON  \\\n",
       "0        S  3348560       0  +36.6564570  -121.6749086   \n",
       "1        S   337744       0  +32.7303521  -117.0787620   \n",
       "2        S   886725       0  +33.2295683  -117.3482855   \n",
       "\n",
       "                                            geometry  \n",
       "0  POLYGON ((-121.69184 36.65885, -121.68510 36.6...  \n",
       "1  POLYGON ((-117.08306 32.72588, -117.08280 32.7...  \n",
       "2  POLYGON ((-117.35296 33.22489, -117.35294 33.2...  "
      ]
     },
     "execution_count": 13,
     "metadata": {},
     "output_type": "execute_result"
    }
   ],
   "source": [
    "data = []\n",
    "\n",
    "with fiona.open(\"tl_2020_06_bg/tl_2020_06_bg.shp\") as src:\n",
    "    for feature in src:\n",
    "        row = dict(feature['properties'])        # convert to dict\n",
    "        row['geometry'] = shape(feature['geometry'])  # shapely geometry\n",
    "        data.append(row)\n",
    "\n",
    "ca_bg_df = pd.DataFrame(data)\n",
    "\n",
    "ca_bg_sf = gpd.GeoDataFrame(ca_bg_df, geometry='geometry')\n",
    "ca_bg_sf.head(3) "
   ]
  },
  {
   "cell_type": "code",
   "execution_count": 14,
   "id": "fc82a5e4",
   "metadata": {
    "scrolled": true
   },
   "outputs": [],
   "source": [
    "#url = \"https://www2.census.gov/geo/tiger/TIGER2021/BG/tl_2021_35_bg.zip\"\n",
    "#ny_bg_sf = gpd.read_file(url)\n",
    "#print(ny_bg_sf.columns)\n",
    "#print(ny_bg_sf.shape)\n",
    "#ny_bg_sf.head(1) "
   ]
  },
  {
   "cell_type": "markdown",
   "id": "f341d09e",
   "metadata": {},
   "source": [
    "## Test: Accquiring Census Block Group Population Data\n",
    "\n",
    "\n",
    "- For New York census block group population data specifically, you can follow these steps:\n",
    "\n",
    "- Go to https://data.census.gov/\n",
    "- In the search bar, type \"population\"\n",
    "- Under \"Geography,\" select \"Block Group\"\n",
    "- Then select \"New York\" as the state\n",
    "- Choose the counties and block groups you're interested in\n",
    "- Select the appropriate ACS 5-Year Estimates table (the latest available would be best)\n",
    "\n",
    "For population data specifically, look for table B01003 \"Total Population\" which gives you the basic population count.\n",
    "\n",
    "If you want to get Decennial Census Data, Do the same thing and look for Decennial Census, look for P1 Data"
   ]
  },
  {
   "cell_type": "code",
   "execution_count": 11,
   "id": "4322eaec",
   "metadata": {},
   "outputs": [
    {
     "name": "stdout",
     "output_type": "stream",
     "text": [
      "(25607, 5)\n"
     ]
    },
    {
     "data": {
      "text/html": [
       "<div>\n",
       "<style scoped>\n",
       "    .dataframe tbody tr th:only-of-type {\n",
       "        vertical-align: middle;\n",
       "    }\n",
       "\n",
       "    .dataframe tbody tr th {\n",
       "        vertical-align: top;\n",
       "    }\n",
       "\n",
       "    .dataframe thead th {\n",
       "        text-align: right;\n",
       "    }\n",
       "</style>\n",
       "<table border=\"1\" class=\"dataframe\">\n",
       "  <thead>\n",
       "    <tr style=\"text-align: right;\">\n",
       "      <th></th>\n",
       "      <th>GEO_ID</th>\n",
       "      <th>NAME</th>\n",
       "      <th>B01003_001E</th>\n",
       "      <th>B01003_001M</th>\n",
       "      <th>Unnamed: 4</th>\n",
       "    </tr>\n",
       "  </thead>\n",
       "  <tbody>\n",
       "    <tr>\n",
       "      <th>1</th>\n",
       "      <td>1500000US060014001001</td>\n",
       "      <td>Block Group 1, Census Tract 4001, Alameda Coun...</td>\n",
       "      <td>1713</td>\n",
       "      <td>359</td>\n",
       "      <td>NaN</td>\n",
       "    </tr>\n",
       "    <tr>\n",
       "      <th>2</th>\n",
       "      <td>1500000US060014001002</td>\n",
       "      <td>Block Group 2, Census Tract 4001, Alameda Coun...</td>\n",
       "      <td>1322</td>\n",
       "      <td>221</td>\n",
       "      <td>NaN</td>\n",
       "    </tr>\n",
       "    <tr>\n",
       "      <th>3</th>\n",
       "      <td>1500000US060014002001</td>\n",
       "      <td>Block Group 1, Census Tract 4002, Alameda Coun...</td>\n",
       "      <td>940</td>\n",
       "      <td>155</td>\n",
       "      <td>NaN</td>\n",
       "    </tr>\n",
       "  </tbody>\n",
       "</table>\n",
       "</div>"
      ],
      "text/plain": [
       "                  GEO_ID                                               NAME  \\\n",
       "1  1500000US060014001001  Block Group 1, Census Tract 4001, Alameda Coun...   \n",
       "2  1500000US060014001002  Block Group 2, Census Tract 4001, Alameda Coun...   \n",
       "3  1500000US060014002001  Block Group 1, Census Tract 4002, Alameda Coun...   \n",
       "\n",
       "  B01003_001E B01003_001M  Unnamed: 4  \n",
       "1        1713         359         NaN  \n",
       "2        1322         221         NaN  \n",
       "3         940         155         NaN  "
      ]
     },
     "execution_count": 11,
     "metadata": {},
     "output_type": "execute_result"
    }
   ],
   "source": [
    "bg_pop = pd.read_csv(\"ACSDT5Y2020/ACSDT5Y2020.B01003-Data.csv\")\n",
    "bg_pop = bg_pop.drop(index=bg_pop.index[0]) #drop the first row\n",
    "print(bg_pop.shape)\n",
    "bg_pop.head(3)"
   ]
  },
  {
   "cell_type": "code",
   "execution_count": 12,
   "id": "66e4162b",
   "metadata": {},
   "outputs": [
    {
     "data": {
      "text/html": [
       "<div>\n",
       "<style scoped>\n",
       "    .dataframe tbody tr th:only-of-type {\n",
       "        vertical-align: middle;\n",
       "    }\n",
       "\n",
       "    .dataframe tbody tr th {\n",
       "        vertical-align: top;\n",
       "    }\n",
       "\n",
       "    .dataframe thead th {\n",
       "        text-align: right;\n",
       "    }\n",
       "</style>\n",
       "<table border=\"1\" class=\"dataframe\">\n",
       "  <thead>\n",
       "    <tr style=\"text-align: right;\">\n",
       "      <th></th>\n",
       "      <th>GEO_ID</th>\n",
       "      <th>Population</th>\n",
       "    </tr>\n",
       "  </thead>\n",
       "  <tbody>\n",
       "    <tr>\n",
       "      <th>1</th>\n",
       "      <td>1500000US060014001001</td>\n",
       "      <td>1713</td>\n",
       "    </tr>\n",
       "    <tr>\n",
       "      <th>2</th>\n",
       "      <td>1500000US060014001002</td>\n",
       "      <td>1322</td>\n",
       "    </tr>\n",
       "    <tr>\n",
       "      <th>3</th>\n",
       "      <td>1500000US060014002001</td>\n",
       "      <td>940</td>\n",
       "    </tr>\n",
       "  </tbody>\n",
       "</table>\n",
       "</div>"
      ],
      "text/plain": [
       "                  GEO_ID Population\n",
       "1  1500000US060014001001       1713\n",
       "2  1500000US060014001002       1322\n",
       "3  1500000US060014002001        940"
      ]
     },
     "execution_count": 12,
     "metadata": {},
     "output_type": "execute_result"
    }
   ],
   "source": [
    "bg_pop = bg_pop[['GEO_ID', 'B01003_001E']].copy()\n",
    "rename = {'B01003_001E' : 'Population'}\n",
    "bg_pop  = bg_pop.rename(columns = rename)\n",
    "bg_pop.head(3)"
   ]
  },
  {
   "cell_type": "code",
   "execution_count": 19,
   "id": "0c9f37d8",
   "metadata": {},
   "outputs": [
    {
     "name": "stdout",
     "output_type": "stream",
     "text": [
      "39346023\n"
     ]
    }
   ],
   "source": [
    "bg_pop['Population'] = bg_pop['Population'].astype(int)\n",
    "sum_value = bg_pop['Population'].sum()\n",
    "print(sum_value)"
   ]
  },
  {
   "cell_type": "code",
   "execution_count": 20,
   "id": "4bae5de2",
   "metadata": {},
   "outputs": [
    {
     "data": {
      "text/html": [
       "<div>\n",
       "<style scoped>\n",
       "    .dataframe tbody tr th:only-of-type {\n",
       "        vertical-align: middle;\n",
       "    }\n",
       "\n",
       "    .dataframe tbody tr th {\n",
       "        vertical-align: top;\n",
       "    }\n",
       "\n",
       "    .dataframe thead th {\n",
       "        text-align: right;\n",
       "    }\n",
       "</style>\n",
       "<table border=\"1\" class=\"dataframe\">\n",
       "  <thead>\n",
       "    <tr style=\"text-align: right;\">\n",
       "      <th></th>\n",
       "      <th>GEO_ID</th>\n",
       "      <th>Population</th>\n",
       "      <th>GEOID</th>\n",
       "    </tr>\n",
       "  </thead>\n",
       "  <tbody>\n",
       "    <tr>\n",
       "      <th>1</th>\n",
       "      <td>1500000US060014001001</td>\n",
       "      <td>1713</td>\n",
       "      <td>060014001001</td>\n",
       "    </tr>\n",
       "    <tr>\n",
       "      <th>2</th>\n",
       "      <td>1500000US060014001002</td>\n",
       "      <td>1322</td>\n",
       "      <td>060014001002</td>\n",
       "    </tr>\n",
       "    <tr>\n",
       "      <th>3</th>\n",
       "      <td>1500000US060014002001</td>\n",
       "      <td>940</td>\n",
       "      <td>060014002001</td>\n",
       "    </tr>\n",
       "  </tbody>\n",
       "</table>\n",
       "</div>"
      ],
      "text/plain": [
       "                  GEO_ID  Population         GEOID\n",
       "1  1500000US060014001001        1713  060014001001\n",
       "2  1500000US060014001002        1322  060014001002\n",
       "3  1500000US060014002001         940  060014002001"
      ]
     },
     "execution_count": 20,
     "metadata": {},
     "output_type": "execute_result"
    }
   ],
   "source": [
    "bg_pop['GEOID'] = bg_pop['GEO_ID'].str[-12:]\n",
    "bg_pop.head(3)"
   ]
  },
  {
   "cell_type": "code",
   "execution_count": 21,
   "id": "730d2e8e",
   "metadata": {},
   "outputs": [
    {
     "name": "stdout",
     "output_type": "stream",
     "text": [
      "<class 'pandas.core.frame.DataFrame'>\n",
      "RangeIndex: 25607 entries, 1 to 25607\n",
      "Data columns (total 3 columns):\n",
      " #   Column      Non-Null Count  Dtype \n",
      "---  ------      --------------  ----- \n",
      " 0   GEO_ID      25607 non-null  object\n",
      " 1   Population  25607 non-null  int64 \n",
      " 2   GEOID       25607 non-null  object\n",
      "dtypes: int64(1), object(2)\n",
      "memory usage: 600.3+ KB\n"
     ]
    }
   ],
   "source": [
    "bg_pop.info()"
   ]
  },
  {
   "cell_type": "code",
   "execution_count": 27,
   "id": "a80d5852",
   "metadata": {},
   "outputs": [
    {
     "name": "stdout",
     "output_type": "stream",
     "text": [
      "(25590, 3)\n"
     ]
    },
    {
     "data": {
      "text/html": [
       "<div>\n",
       "<style scoped>\n",
       "    .dataframe tbody tr th:only-of-type {\n",
       "        vertical-align: middle;\n",
       "    }\n",
       "\n",
       "    .dataframe tbody tr th {\n",
       "        vertical-align: top;\n",
       "    }\n",
       "\n",
       "    .dataframe thead th {\n",
       "        text-align: right;\n",
       "    }\n",
       "</style>\n",
       "<table border=\"1\" class=\"dataframe\">\n",
       "  <thead>\n",
       "    <tr style=\"text-align: right;\">\n",
       "      <th></th>\n",
       "      <th>GEOID</th>\n",
       "      <th>Population</th>\n",
       "      <th>COUNTY</th>\n",
       "    </tr>\n",
       "  </thead>\n",
       "  <tbody>\n",
       "    <tr>\n",
       "      <th>1</th>\n",
       "      <td>060014001001</td>\n",
       "      <td>1713</td>\n",
       "      <td>06001</td>\n",
       "    </tr>\n",
       "    <tr>\n",
       "      <th>2</th>\n",
       "      <td>060014001002</td>\n",
       "      <td>1322</td>\n",
       "      <td>06001</td>\n",
       "    </tr>\n",
       "    <tr>\n",
       "      <th>3</th>\n",
       "      <td>060014002001</td>\n",
       "      <td>940</td>\n",
       "      <td>06001</td>\n",
       "    </tr>\n",
       "    <tr>\n",
       "      <th>4</th>\n",
       "      <td>060014002002</td>\n",
       "      <td>1043</td>\n",
       "      <td>06001</td>\n",
       "    </tr>\n",
       "    <tr>\n",
       "      <th>5</th>\n",
       "      <td>060014003001</td>\n",
       "      <td>1206</td>\n",
       "      <td>06001</td>\n",
       "    </tr>\n",
       "  </tbody>\n",
       "</table>\n",
       "</div>"
      ],
      "text/plain": [
       "          GEOID  Population COUNTY\n",
       "1  060014001001        1713  06001\n",
       "2  060014001002        1322  06001\n",
       "3  060014002001         940  06001\n",
       "4  060014002002        1043  06001\n",
       "5  060014003001        1206  06001"
      ]
     },
     "execution_count": 27,
     "metadata": {},
     "output_type": "execute_result"
    }
   ],
   "source": [
    "bg_pop = bg_pop[['GEOID', 'Population']].copy()\n",
    "bg_pop['COUNTY'] = bg_pop['GEOID'].str[:5]\n",
    "bg_pop_new = bg_pop[bg_pop['COUNTY'].isin(county_list)]\n",
    "print(bg_pop_new.shape)\n",
    "bg_pop_new.head()"
   ]
  },
  {
   "cell_type": "markdown",
   "id": "f4a63bcf",
   "metadata": {},
   "source": [
    "## Merge Data"
   ]
  },
  {
   "cell_type": "code",
   "execution_count": 28,
   "id": "a85b17f9",
   "metadata": {},
   "outputs": [
    {
     "name": "stdout",
     "output_type": "stream",
     "text": [
      "(25590, 15)\n"
     ]
    },
    {
     "data": {
      "text/html": [
       "<div>\n",
       "<style scoped>\n",
       "    .dataframe tbody tr th:only-of-type {\n",
       "        vertical-align: middle;\n",
       "    }\n",
       "\n",
       "    .dataframe tbody tr th {\n",
       "        vertical-align: top;\n",
       "    }\n",
       "\n",
       "    .dataframe thead th {\n",
       "        text-align: right;\n",
       "    }\n",
       "</style>\n",
       "<table border=\"1\" class=\"dataframe\">\n",
       "  <thead>\n",
       "    <tr style=\"text-align: right;\">\n",
       "      <th></th>\n",
       "      <th>STATEFP</th>\n",
       "      <th>COUNTYFP</th>\n",
       "      <th>TRACTCE</th>\n",
       "      <th>BLKGRPCE</th>\n",
       "      <th>GEOID</th>\n",
       "      <th>NAMELSAD</th>\n",
       "      <th>MTFCC</th>\n",
       "      <th>FUNCSTAT</th>\n",
       "      <th>ALAND</th>\n",
       "      <th>AWATER</th>\n",
       "      <th>INTPTLAT</th>\n",
       "      <th>INTPTLON</th>\n",
       "      <th>geometry</th>\n",
       "      <th>Population</th>\n",
       "      <th>COUNTY</th>\n",
       "    </tr>\n",
       "  </thead>\n",
       "  <tbody>\n",
       "    <tr>\n",
       "      <th>0</th>\n",
       "      <td>06</td>\n",
       "      <td>053</td>\n",
       "      <td>001500</td>\n",
       "      <td>1</td>\n",
       "      <td>060530015001</td>\n",
       "      <td>Block Group 1</td>\n",
       "      <td>G5030</td>\n",
       "      <td>S</td>\n",
       "      <td>3348560</td>\n",
       "      <td>0</td>\n",
       "      <td>+36.6564570</td>\n",
       "      <td>-121.6749086</td>\n",
       "      <td>POLYGON ((-121.69184 36.65885, -121.68510 36.6...</td>\n",
       "      <td>1660</td>\n",
       "      <td>06053</td>\n",
       "    </tr>\n",
       "    <tr>\n",
       "      <th>1</th>\n",
       "      <td>06</td>\n",
       "      <td>073</td>\n",
       "      <td>002712</td>\n",
       "      <td>2</td>\n",
       "      <td>060730027122</td>\n",
       "      <td>Block Group 2</td>\n",
       "      <td>G5030</td>\n",
       "      <td>S</td>\n",
       "      <td>337744</td>\n",
       "      <td>0</td>\n",
       "      <td>+32.7303521</td>\n",
       "      <td>-117.0787620</td>\n",
       "      <td>POLYGON ((-117.08306 32.72588, -117.08280 32.7...</td>\n",
       "      <td>2060</td>\n",
       "      <td>06073</td>\n",
       "    </tr>\n",
       "    <tr>\n",
       "      <th>2</th>\n",
       "      <td>06</td>\n",
       "      <td>073</td>\n",
       "      <td>018601</td>\n",
       "      <td>2</td>\n",
       "      <td>060730186012</td>\n",
       "      <td>Block Group 2</td>\n",
       "      <td>G5030</td>\n",
       "      <td>S</td>\n",
       "      <td>886725</td>\n",
       "      <td>0</td>\n",
       "      <td>+33.2295683</td>\n",
       "      <td>-117.3482855</td>\n",
       "      <td>POLYGON ((-117.35296 33.22489, -117.35294 33.2...</td>\n",
       "      <td>1845</td>\n",
       "      <td>06073</td>\n",
       "    </tr>\n",
       "  </tbody>\n",
       "</table>\n",
       "</div>"
      ],
      "text/plain": [
       "  STATEFP COUNTYFP TRACTCE BLKGRPCE         GEOID       NAMELSAD  MTFCC  \\\n",
       "0      06      053  001500        1  060530015001  Block Group 1  G5030   \n",
       "1      06      073  002712        2  060730027122  Block Group 2  G5030   \n",
       "2      06      073  018601        2  060730186012  Block Group 2  G5030   \n",
       "\n",
       "  FUNCSTAT    ALAND  AWATER     INTPTLAT      INTPTLON  \\\n",
       "0        S  3348560       0  +36.6564570  -121.6749086   \n",
       "1        S   337744       0  +32.7303521  -117.0787620   \n",
       "2        S   886725       0  +33.2295683  -117.3482855   \n",
       "\n",
       "                                            geometry  Population COUNTY  \n",
       "0  POLYGON ((-121.69184 36.65885, -121.68510 36.6...        1660  06053  \n",
       "1  POLYGON ((-117.08306 32.72588, -117.08280 32.7...        2060  06073  \n",
       "2  POLYGON ((-117.35296 33.22489, -117.35294 33.2...        1845  06073  "
      ]
     },
     "execution_count": 28,
     "metadata": {},
     "output_type": "execute_result"
    }
   ],
   "source": [
    "tessellation = pd.merge(ca_bg_sf, bg_pop_new, on = 'GEOID', how = 'inner')\n",
    "print(tessellation.shape)\n",
    "tessellation.head(3)"
   ]
  },
  {
   "cell_type": "code",
   "execution_count": 29,
   "id": "e83b0a54",
   "metadata": {},
   "outputs": [
    {
     "data": {
      "text/plain": [
       "55"
      ]
     },
     "execution_count": 29,
     "metadata": {},
     "output_type": "execute_result"
    }
   ],
   "source": [
    "len(tessellation['COUNTYFP'].unique())"
   ]
  },
  {
   "cell_type": "markdown",
   "id": "63bdb8d7",
   "metadata": {},
   "source": [
    "#"
   ]
  },
  {
   "cell_type": "markdown",
   "id": "bd3d5ce3",
   "metadata": {},
   "source": [
    "# Individual Trajectory Generation"
   ]
  },
  {
   "cell_type": "code",
   "execution_count": 30,
   "id": "ba65fbcf",
   "metadata": {},
   "outputs": [
    {
     "name": "stdout",
     "output_type": "stream",
     "text": [
      "<class 'geopandas.geodataframe.GeoDataFrame'>\n",
      "Index: 25496 entries, 0 to 25589\n",
      "Data columns (total 3 columns):\n",
      " #   Column      Non-Null Count  Dtype   \n",
      "---  ------      --------------  -----   \n",
      " 0   GEOID       25496 non-null  object  \n",
      " 1   Population  25496 non-null  int64   \n",
      " 2   geometry    25496 non-null  geometry\n",
      "dtypes: geometry(1), int64(1), object(1)\n",
      "memory usage: 796.8+ KB\n",
      "None\n"
     ]
    },
    {
     "data": {
      "text/html": [
       "<div>\n",
       "<style scoped>\n",
       "    .dataframe tbody tr th:only-of-type {\n",
       "        vertical-align: middle;\n",
       "    }\n",
       "\n",
       "    .dataframe tbody tr th {\n",
       "        vertical-align: top;\n",
       "    }\n",
       "\n",
       "    .dataframe thead th {\n",
       "        text-align: right;\n",
       "    }\n",
       "</style>\n",
       "<table border=\"1\" class=\"dataframe\">\n",
       "  <thead>\n",
       "    <tr style=\"text-align: right;\">\n",
       "      <th></th>\n",
       "      <th>GEOID</th>\n",
       "      <th>Population</th>\n",
       "      <th>geometry</th>\n",
       "    </tr>\n",
       "  </thead>\n",
       "  <tbody>\n",
       "    <tr>\n",
       "      <th>0</th>\n",
       "      <td>060530015001</td>\n",
       "      <td>1660</td>\n",
       "      <td>POLYGON ((-121.69184 36.65885, -121.68510 36.6...</td>\n",
       "    </tr>\n",
       "    <tr>\n",
       "      <th>1</th>\n",
       "      <td>060730027122</td>\n",
       "      <td>2060</td>\n",
       "      <td>POLYGON ((-117.08306 32.72588, -117.08280 32.7...</td>\n",
       "    </tr>\n",
       "    <tr>\n",
       "      <th>2</th>\n",
       "      <td>060730186012</td>\n",
       "      <td>1845</td>\n",
       "      <td>POLYGON ((-117.35296 33.22489, -117.35294 33.2...</td>\n",
       "    </tr>\n",
       "  </tbody>\n",
       "</table>\n",
       "</div>"
      ],
      "text/plain": [
       "          GEOID  Population                                           geometry\n",
       "0  060530015001        1660  POLYGON ((-121.69184 36.65885, -121.68510 36.6...\n",
       "1  060730027122        2060  POLYGON ((-117.08306 32.72588, -117.08280 32.7...\n",
       "2  060730186012        1845  POLYGON ((-117.35296 33.22489, -117.35294 33.2..."
      ]
     },
     "execution_count": 30,
     "metadata": {},
     "output_type": "execute_result"
    }
   ],
   "source": [
    "tessellation = tessellation[['GEOID', 'Population', 'geometry']].copy()\n",
    "tessellation = tessellation.loc[tessellation['Population'] != 0].copy()\n",
    "print(tessellation.info())\n",
    "tessellation.head(3)"
   ]
  },
  {
   "cell_type": "markdown",
   "id": "32d954ee",
   "metadata": {},
   "source": [
    "## Density EPR"
   ]
  },
  {
   "cell_type": "code",
   "execution_count": 32,
   "id": "ab1f49b6",
   "metadata": {},
   "outputs": [
    {
     "data": {
      "image/svg+xml": [
       "<svg xmlns=\"http://www.w3.org/2000/svg\" xmlns:xlink=\"http://www.w3.org/1999/xlink\" width=\"100.0\" height=\"100.0\" viewBox=\"-117.35351568 33.22273032 0.010376359999995088 0.014922359999999912\" preserveAspectRatio=\"xMinYMin meet\"><g transform=\"matrix(1,0,0,-1,0,66.460383)\"><path fill-rule=\"evenodd\" fill=\"#66cc99\" stroke=\"#555555\" stroke-width=\"0.00029844719999999825\" opacity=\"0.6\" d=\"M -117.352963,33.224886 L -117.352942,33.225021999999996 L -117.352906,33.225142 L -117.352855,33.225258 L -117.352845,33.225273 L -117.352788,33.225367999999996 L -117.352708,33.225471 L -117.35261,33.225567 L -117.352503,33.225652 L -117.352464,33.225674999999995 L -117.352371,33.225733 L -117.35225299999999,33.225789999999996 L -117.352139,33.225833 L -117.352015,33.225868999999996 L -117.35155499999999,33.225949 L -117.351241,33.226006 L -117.351258,33.226085999999995 L -117.351264,33.226186999999996 L -117.351302,33.226735999999995 L -117.351315,33.22692 L -117.351317,33.227092999999996 L -117.35132,33.227253 L -117.351338,33.227528 L -117.351349,33.227612 L -117.351372,33.227785 L -117.35139,33.227952 L -117.35142,33.228213 L -117.351459,33.228451 L -117.35148699999999,33.228619 L -117.351515,33.228823999999996 L -117.351519,33.228847 L -117.351545,33.228999 L -117.3516,33.229214 L -117.351674,33.229425 L -117.351744,33.229621 L -117.35175699999999,33.229664 L -117.351812,33.229825 L -117.35183,33.229875 L -117.351922,33.230081 L -117.352034,33.230283 L -117.35211,33.230398 L -117.35222999999999,33.230578 L -117.352349,33.230733 L -117.35248,33.230903 L -117.35256,33.231038999999996 L -117.352622,33.231181 L -117.35264000000001,33.231242 L -117.352663,33.231314 L -117.352693,33.231432 L -117.352735,33.231572 L -117.352757,33.23169 L -117.35275899999999,33.231727 L -117.352767,33.231834 L -117.352758,33.231989 L -117.352733,33.23212 L -117.35269,33.232259 L -117.35263,33.232393 L -117.352553,33.232521999999996 L -117.352507,33.232580999999996 L -117.352461,33.232642999999996 L -117.35235399999999,33.232755 L -117.352301,33.232803 L -117.352191,33.232889 L -117.35205500000001,33.232977 L -117.351909,33.233052 L -117.35186999999999,33.233066 L -117.351727,33.233122 L -117.351592,33.233160999999996 L -117.351384,33.233202999999996 L -117.351075,33.233261 L -117.350906,33.233308 L -117.35074399999999,33.23337 L -117.35059,33.233446 L -117.350447,33.233534999999996 L -117.350438,33.233540999999995 L -117.35031599999999,33.233636 L -117.350209,33.233736 L -117.350072,33.233889 L -117.349923,33.234061 L -117.34984,33.234178 L -117.349771,33.23431 L -117.34973099999999,33.234412999999996 L -117.34969699999999,33.234539 L -117.349679,33.234668 L -117.349677,33.234797 L -117.349717,33.235161999999995 L -117.349714,33.235335 L -117.34969,33.235506 L -117.349653,33.235647 L -117.349591,33.235811 L -117.349578,33.235836 L -117.349538,33.235917 L -117.349317,33.236286 L -117.349304,33.23628 L -117.349142,33.236219999999996 L -117.349092,33.236205999999996 L -117.348564,33.236064 L -117.348435,33.236033 L -117.34840000000001,33.236024 L -117.34817,33.235965 L -117.348003,33.235917 L -117.347503,33.235774 L -117.347337,33.235728 L -117.346726,33.235554 L -117.346702,33.235549 L -117.34667999999999,33.235546 L -117.346577,33.235538999999996 L -117.346475,33.235545 L -117.346373,33.235565 L -117.346262,33.235605 L -117.346165,33.235659 L -117.346082,33.235724999999995 L -117.34602100000001,33.235794 L -117.345968,33.235879 L -117.345934,33.235971 L -117.34592,33.236066 L -117.345925,33.236162 L -117.346006,33.236472 L -117.34602,33.236567 L -117.346015,33.236654 L -117.345991,33.236747 L -117.345951,33.236832 L -117.345894,33.23691 L -117.345867,33.236934999999995 L -117.345819,33.236982 L -117.345731,33.237041999999995 L -117.345631,33.237088 L -117.345592,33.2371 L -117.344815,33.235262999999996 L -117.344471,33.234335 L -117.344315,33.233986 L -117.343847,33.232939 L -117.343692,33.23259 L -117.343867,33.232364 L -117.343977,33.232065999999996 L -117.344076,33.231803 L -117.344658,33.230709 L -117.344762,33.23044 L -117.344828,33.230274 L -117.344948,33.229867 L -117.345089,33.229389 L -117.345131,33.228623 L -117.345134,33.228581 L -117.345102,33.228201 L -117.344865,33.226618 L -117.344747,33.224956999999996 L -117.344769,33.224852 L -117.344799,33.22471 L -117.345067,33.224011 L -117.345231,33.223769 L -117.345281,33.223708 L -117.345412,33.223832 L -117.345774,33.224171999999996 L -117.34581,33.224202 L -117.345849,33.224233 L -117.34592599999999,33.224319 L -117.345935,33.224333 L -117.345964,33.224379 L -117.345979,33.224402 L -117.346019,33.224498 L -117.346026,33.22453 L -117.346038,33.224584 L -117.346385,33.224534999999996 L -117.34658400000001,33.224491 L -117.346745,33.224441 L -117.346857,33.224395 L -117.34693,33.224365999999996 L -117.347076,33.224291 L -117.34724,33.224188 L -117.34736699999999,33.224091 L -117.347544,33.223934 L -117.34771,33.223789 L -117.347865,33.223676 L -117.348005,33.223593 L -117.348183,33.223507 L -117.348339,33.223448 L -117.348533,33.223392 L -117.34870000000001,33.223358999999995 L -117.34886900000001,33.223338 L -117.34904,33.22333 L -117.349085,33.223329 L -117.349929,33.223319 L -117.350533,33.223310999999995 L -117.352345,33.22329 L -117.35294999999999,33.223282999999995 L -117.352952,33.223492 L -117.352958,33.224117 L -117.35296,33.224328 L -117.352961,33.224568999999995 L -117.352963,33.224886 z\" /></g></svg>"
      ],
      "text/plain": [
       "<POLYGON ((-117.353 33.225, -117.353 33.225, -117.353 33.225, -117.353 33.22...>"
      ]
     },
     "execution_count": 32,
     "metadata": {},
     "output_type": "execute_result"
    }
   ],
   "source": [
    "tessellation.iloc[2,2]"
   ]
  },
  {
   "cell_type": "markdown",
   "id": "9e0bb2d5",
   "metadata": {},
   "source": [
    "### This Takes 3 hours to run"
   ]
  },
  {
   "cell_type": "code",
   "execution_count": 49,
   "id": "e917ec79",
   "metadata": {},
   "outputs": [
    {
     "name": "stderr",
     "output_type": "stream",
     "text": [
      "/Users/wendyshi2001/anaconda3/envs/skmob/lib/python3.9/site-packages/geopandas/geoseries.py:574: FutureWarning: the convert_dtype parameter is deprecated and will be removed in a future version.  Do ``ser.astype(object).apply()`` instead if you want ``convert_dtype=False``.\n",
      "  result = super().apply(func, convert_dtype=convert_dtype, args=args, **kwargs)\n",
      "  0%|                                                 | 0/10000 [00:00<?, ?it/s]/Users/wendyshi2001/anaconda3/envs/skmob/lib/python3.9/site-packages/skmob/models/gravity.py:43: RuntimeWarning: divide by zero encountered in power\n",
      "  return np.power(x, exponent)\n",
      " 12%|████▍                               | 1246/10000 [21:22<1:09:03,  2.11it/s]IOStream.flush timed out\n",
      "100%|███████████████████████████████████| 10000/10000 [2:05:53<00:00,  1.32it/s]\n"
     ]
    }
   ],
   "source": [
    "start_time = pd.to_datetime('2020/03/01 00:00:00')\n",
    "end_time = pd.to_datetime('2020/03/30 23:59:59')\n",
    "depr = DensityEPR()\n",
    "tdf = depr.generate(start_time, \n",
    "                    end_time, \n",
    "                    tessellation, \n",
    "                    relevance_column='Population', #Take population into account\n",
    "                    n_agents=10000, \n",
    "                    show_progress=True)"
   ]
  },
  {
   "cell_type": "code",
   "execution_count": 50,
   "id": "81f5c6c9",
   "metadata": {},
   "outputs": [],
   "source": [
    "tdf.to_csv(\"CA_4Week_10000_realpop.csv\")"
   ]
  },
  {
   "cell_type": "markdown",
   "id": "6a08713d",
   "metadata": {},
   "source": [
    "#"
   ]
  },
  {
   "cell_type": "markdown",
   "id": "ce9a9466",
   "metadata": {},
   "source": [
    "#"
   ]
  },
  {
   "cell_type": "markdown",
   "id": "14b18ce2",
   "metadata": {},
   "source": [
    "# Visualizations"
   ]
  },
  {
   "cell_type": "code",
   "execution_count": 51,
   "id": "849ba117",
   "metadata": {},
   "outputs": [
    {
     "name": "stdout",
     "output_type": "stream",
     "text": [
      "(490, 4)\n"
     ]
    },
    {
     "data": {
      "text/html": [
       "<div>\n",
       "<style scoped>\n",
       "    .dataframe tbody tr th:only-of-type {\n",
       "        vertical-align: middle;\n",
       "    }\n",
       "\n",
       "    .dataframe tbody tr th {\n",
       "        vertical-align: top;\n",
       "    }\n",
       "\n",
       "    .dataframe thead th {\n",
       "        text-align: right;\n",
       "    }\n",
       "</style>\n",
       "<table border=\"1\" class=\"dataframe\">\n",
       "  <thead>\n",
       "    <tr style=\"text-align: right;\">\n",
       "      <th></th>\n",
       "      <th>uid</th>\n",
       "      <th>datetime</th>\n",
       "      <th>lat</th>\n",
       "      <th>lng</th>\n",
       "    </tr>\n",
       "  </thead>\n",
       "  <tbody>\n",
       "    <tr>\n",
       "      <th>0</th>\n",
       "      <td>1</td>\n",
       "      <td>2020-03-01 00:00:00.000000</td>\n",
       "      <td>33.984984</td>\n",
       "      <td>-118.177562</td>\n",
       "    </tr>\n",
       "    <tr>\n",
       "      <th>1</th>\n",
       "      <td>1</td>\n",
       "      <td>2020-03-01 00:36:55.336052</td>\n",
       "      <td>33.983342</td>\n",
       "      <td>-118.180459</td>\n",
       "    </tr>\n",
       "    <tr>\n",
       "      <th>2</th>\n",
       "      <td>1</td>\n",
       "      <td>2020-03-01 01:38:39.853429</td>\n",
       "      <td>33.982892</td>\n",
       "      <td>-118.173715</td>\n",
       "    </tr>\n",
       "    <tr>\n",
       "      <th>3</th>\n",
       "      <td>1</td>\n",
       "      <td>2020-03-01 02:04:41.900006</td>\n",
       "      <td>33.984984</td>\n",
       "      <td>-118.177562</td>\n",
       "    </tr>\n",
       "    <tr>\n",
       "      <th>4</th>\n",
       "      <td>1</td>\n",
       "      <td>2020-03-01 02:36:01.651631</td>\n",
       "      <td>34.031512</td>\n",
       "      <td>-118.222886</td>\n",
       "    </tr>\n",
       "  </tbody>\n",
       "</table>\n",
       "</div>"
      ],
      "text/plain": [
       "   uid                   datetime        lat         lng\n",
       "0    1 2020-03-01 00:00:00.000000  33.984984 -118.177562\n",
       "1    1 2020-03-01 00:36:55.336052  33.983342 -118.180459\n",
       "2    1 2020-03-01 01:38:39.853429  33.982892 -118.173715\n",
       "3    1 2020-03-01 02:04:41.900006  33.984984 -118.177562\n",
       "4    1 2020-03-01 02:36:01.651631  34.031512 -118.222886"
      ]
     },
     "execution_count": 51,
     "metadata": {},
     "output_type": "execute_result"
    }
   ],
   "source": [
    "#data = ditras_tdf\n",
    "data = tdf\n",
    "person1 = data[data[\"uid\"] == 1].copy().reset_index()\n",
    "person1 = person1.drop(columns = 'index')\n",
    "print(person1.shape)\n",
    "person1.head(5)"
   ]
  },
  {
   "cell_type": "code",
   "execution_count": 52,
   "id": "7df0a4aa",
   "metadata": {},
   "outputs": [
    {
     "data": {
      "text/html": [
       "<div style=\"width:100%;\"><div style=\"position:relative;width:100%;height:0;padding-bottom:60%;\"><span style=\"color:#565656\">Make this Notebook Trusted to load map: File -> Trust Notebook</span><iframe srcdoc=\"&lt;!DOCTYPE html&gt;\n",
       "&lt;html&gt;\n",
       "&lt;head&gt;\n",
       "    \n",
       "    &lt;meta http-equiv=&quot;content-type&quot; content=&quot;text/html; charset=UTF-8&quot; /&gt;\n",
       "    \n",
       "        &lt;script&gt;\n",
       "            L_NO_TOUCH = false;\n",
       "            L_DISABLE_3D = false;\n",
       "        &lt;/script&gt;\n",
       "    \n",
       "    &lt;style&gt;html, body {width: 100%;height: 100%;margin: 0;padding: 0;}&lt;/style&gt;\n",
       "    &lt;style&gt;#map {position:absolute;top:0;bottom:0;right:0;left:0;}&lt;/style&gt;\n",
       "    &lt;script src=&quot;https://cdn.jsdelivr.net/npm/leaflet@1.9.3/dist/leaflet.js&quot;&gt;&lt;/script&gt;\n",
       "    &lt;script src=&quot;https://code.jquery.com/jquery-3.7.1.min.js&quot;&gt;&lt;/script&gt;\n",
       "    &lt;script src=&quot;https://cdn.jsdelivr.net/npm/bootstrap@5.2.2/dist/js/bootstrap.bundle.min.js&quot;&gt;&lt;/script&gt;\n",
       "    &lt;script src=&quot;https://cdnjs.cloudflare.com/ajax/libs/Leaflet.awesome-markers/2.0.2/leaflet.awesome-markers.js&quot;&gt;&lt;/script&gt;\n",
       "    &lt;link rel=&quot;stylesheet&quot; href=&quot;https://cdn.jsdelivr.net/npm/leaflet@1.9.3/dist/leaflet.css&quot;/&gt;\n",
       "    &lt;link rel=&quot;stylesheet&quot; href=&quot;https://cdn.jsdelivr.net/npm/bootstrap@5.2.2/dist/css/bootstrap.min.css&quot;/&gt;\n",
       "    &lt;link rel=&quot;stylesheet&quot; href=&quot;https://netdna.bootstrapcdn.com/bootstrap/3.0.0/css/bootstrap-glyphicons.css&quot;/&gt;\n",
       "    &lt;link rel=&quot;stylesheet&quot; href=&quot;https://cdn.jsdelivr.net/npm/@fortawesome/fontawesome-free@6.2.0/css/all.min.css&quot;/&gt;\n",
       "    &lt;link rel=&quot;stylesheet&quot; href=&quot;https://cdnjs.cloudflare.com/ajax/libs/Leaflet.awesome-markers/2.0.2/leaflet.awesome-markers.css&quot;/&gt;\n",
       "    &lt;link rel=&quot;stylesheet&quot; href=&quot;https://cdn.jsdelivr.net/gh/python-visualization/folium/folium/templates/leaflet.awesome.rotate.min.css&quot;/&gt;\n",
       "    \n",
       "            &lt;meta name=&quot;viewport&quot; content=&quot;width=device-width,\n",
       "                initial-scale=1.0, maximum-scale=1.0, user-scalable=no&quot; /&gt;\n",
       "            &lt;style&gt;\n",
       "                #map_c86d2a6e80f480874f8ae0267fd9be4e {\n",
       "                    position: relative;\n",
       "                    width: 100.0%;\n",
       "                    height: 100.0%;\n",
       "                    left: 0.0%;\n",
       "                    top: 0.0%;\n",
       "                }\n",
       "                .leaflet-container { font-size: 1rem; }\n",
       "            &lt;/style&gt;\n",
       "        \n",
       "&lt;/head&gt;\n",
       "&lt;body&gt;\n",
       "    \n",
       "    \n",
       "            &lt;div class=&quot;folium-map&quot; id=&quot;map_c86d2a6e80f480874f8ae0267fd9be4e&quot; &gt;&lt;/div&gt;\n",
       "        \n",
       "&lt;/body&gt;\n",
       "&lt;script&gt;\n",
       "    \n",
       "    \n",
       "            var map_c86d2a6e80f480874f8ae0267fd9be4e = L.map(\n",
       "                &quot;map_c86d2a6e80f480874f8ae0267fd9be4e&quot;,\n",
       "                {\n",
       "                    center: [33.98412457285956, -118.18381017914598],\n",
       "                    crs: L.CRS.EPSG3857,\n",
       "                    ...{\n",
       "  &quot;zoom&quot;: 12,\n",
       "  &quot;zoomControl&quot;: true,\n",
       "  &quot;preferCanvas&quot;: false,\n",
       "}\n",
       "\n",
       "                }\n",
       "            );\n",
       "            L.control.scale().addTo(map_c86d2a6e80f480874f8ae0267fd9be4e);\n",
       "\n",
       "            \n",
       "\n",
       "        \n",
       "    \n",
       "            var tile_layer_928adfbf85ce82666398d148c8e3b974 = L.tileLayer(\n",
       "                &quot;https://tile.openstreetmap.org/{z}/{x}/{y}.png&quot;,\n",
       "                {\n",
       "  &quot;minZoom&quot;: 0,\n",
       "  &quot;maxZoom&quot;: 19,\n",
       "  &quot;maxNativeZoom&quot;: 19,\n",
       "  &quot;noWrap&quot;: false,\n",
       "  &quot;attribution&quot;: &quot;\\u0026copy; \\u003ca href=\\&quot;https://www.openstreetmap.org/copyright\\&quot;\\u003eOpenStreetMap\\u003c/a\\u003e contributors&quot;,\n",
       "  &quot;subdomains&quot;: &quot;abc&quot;,\n",
       "  &quot;detectRetina&quot;: false,\n",
       "  &quot;tms&quot;: false,\n",
       "  &quot;opacity&quot;: 1,\n",
       "}\n",
       "\n",
       "            );\n",
       "        \n",
       "    \n",
       "            tile_layer_928adfbf85ce82666398d148c8e3b974.addTo(map_c86d2a6e80f480874f8ae0267fd9be4e);\n",
       "        \n",
       "    \n",
       "        function geo_json_744465717b43dd354b8faeb532794555_styler(feature) {\n",
       "            switch(feature.id) {\n",
       "                default:\n",
       "                    return {&quot;color&quot;: &quot;#009FFA&quot;, &quot;dashArray&quot;: &quot;0, 0&quot;, &quot;opacity&quot;: 0.9, &quot;weight&quot;: 3};\n",
       "            }\n",
       "        }\n",
       "\n",
       "        function geo_json_744465717b43dd354b8faeb532794555_onEachFeature(feature, layer) {\n",
       "            layer.on({\n",
       "            });\n",
       "        };\n",
       "        var geo_json_744465717b43dd354b8faeb532794555 = L.geoJson(null, {\n",
       "                onEachFeature: geo_json_744465717b43dd354b8faeb532794555_onEachFeature,\n",
       "            \n",
       "                style: geo_json_744465717b43dd354b8faeb532794555_styler,\n",
       "            ...{\n",
       "}\n",
       "        });\n",
       "\n",
       "        function geo_json_744465717b43dd354b8faeb532794555_add (data) {\n",
       "            geo_json_744465717b43dd354b8faeb532794555\n",
       "                .addData(data);\n",
       "        }\n",
       "            geo_json_744465717b43dd354b8faeb532794555_add({&quot;features&quot;: [{&quot;geometry&quot;: {&quot;coordinates&quot;: [[-118.177562, 33.984984], [-118.180459, 33.983342], [-118.173715, 33.982892], [-118.177562, 33.984984], [-118.222886, 34.031512], [-118.297965, 34.001614], [-118.298848, 33.998483], [-118.222886, 34.031512], [-118.282137, 34.049967], [-118.279563, 34.043386], [-118.177562, 33.984984], [-118.297965, 34.001614], [-118.222886, 34.031512], [-118.216407, 33.982882], [-118.177562, 33.984984], [-118.180459, 33.983342], [-118.279563, 34.043386], [-118.311535, 34.05575], [-118.216407, 33.982882], [-118.214484, 33.97013], [-118.222886, 34.031512], [-118.173715, 33.982892], [-118.180459, 33.983342], [-118.191928, 33.989548], [-118.298848, 33.998483], [-118.222886, 34.031512], [-118.191928, 33.989548], [-117.903338, 34.115791], [-117.894265, 34.071621], [-118.177562, 33.984984], [-118.214484, 33.97013], [-118.216407, 33.982882], [-118.180459, 33.983342], [-118.194376, 33.976976], [-118.177562, 33.984984], [-118.194537, 33.980611], [-118.214484, 33.97013], [-117.903338, 34.115791], [-117.893376, 34.115683], [-117.903338, 34.115791], [-118.180459, 33.983342], [-118.152239, 33.968422], [-118.143112, 33.971646], [-117.903338, 34.115791], [-118.222886, 34.031512], [-118.180459, 33.983342], [-118.177562, 33.984984], [-117.903338, 34.115791], [-118.180459, 33.983342], [-118.214484, 33.97013], [-118.167879, 33.914734], [-118.177562, 33.984984], [-118.337122, 33.934358], [-118.194376, 33.976976], [-118.468629, 34.237352], [-118.461105, 34.23001], [-118.465456, 34.230071], [-118.311535, 34.05575], [-118.222886, 34.031512], [-118.177562, 33.984984], [-118.180459, 33.983342], [-118.179567, 34.009567], [-117.894265, 34.071621], [-118.177562, 33.984984], [-118.222886, 34.031512], [-118.461105, 34.23001], [-118.531674, 34.195672], [-118.222886, 34.031512], [-118.216407, 33.982882], [-118.214484, 33.97013], [-118.180459, 33.983342], [-118.177562, 33.984984], [-118.179567, 34.009567], [-118.222886, 34.031512], [-118.177562, 33.984984], [-118.179567, 34.009567], [-118.177562, 33.984984], [-118.222886, 34.031512], [-118.173715, 33.982892], [-118.180459, 33.983342], [-118.177562, 33.984984], [-118.337122, 33.934358], [-118.173715, 33.982892], [-118.216407, 33.982882], [-118.279563, 34.043386], [-118.222886, 34.031512], [-118.245619, 33.982981], [-118.214469, 33.955255], [-118.152239, 33.968422], [-118.109973, 33.97951], [-118.191928, 33.989548], [-118.148974, 34.030056], [-118.191928, 33.989548], [-118.177562, 33.984984], [-118.214484, 33.97013], [-118.235709, 33.95851], [-118.173715, 33.982892], [-118.183833, 33.979551], [-118.180459, 33.983342], [-118.194376, 33.976976], [-118.055167, 34.130264], [-118.109973, 33.97951], [-117.903338, 34.115791], [-118.180459, 33.983342], [-118.152239, 33.968422], [-118.180459, 33.983342], [-118.279563, 34.043386], [-118.320675, 34.045397], [-118.194376, 33.976976], [-118.177562, 33.984984], [-118.222886, 34.031512], [-118.177562, 33.984984], [-118.180459, 33.983342], [-118.214484, 33.97013], [-118.279563, 34.043386], [-118.183833, 33.979551], [-118.148974, 34.030056], [-118.180459, 33.983342], [-118.216407, 33.982882], [-118.311535, 34.05575], [-118.322284, 34.05781], [-118.180459, 33.983342], [-118.465456, 34.230071], [-118.191928, 33.989548], [-118.196901, 33.99317], [-117.903338, 34.115791], [-118.196901, 33.99317], [-118.235709, 33.95851], [-118.179567, 34.009567], [-118.177562, 33.984984], [-118.180459, 33.983342], [-118.179567, 34.009567], [-118.169655, 34.013169], [-118.177562, 33.984984], [-118.214469, 33.955255], [-117.894265, 34.071621], [-118.180459, 33.983342], [-118.18381, 33.983723], [-118.177562, 33.984984], [-118.191928, 33.989548], [-118.214484, 33.97013], [-118.235709, 33.95851], [-118.177562, 33.984984], [-118.222886, 34.031512], [-118.180459, 33.983342], [-118.279563, 34.043386], [-118.180459, 33.983342], [-118.177562, 33.984984], [-118.222886, 34.031512], [-118.110421, 33.967817], [-118.115322, 33.964491], [-118.109973, 33.97951], [-118.222886, 34.031512], [-118.214484, 33.97013], [-118.194376, 33.976976], [-118.182471, 33.959188], [-118.055167, 34.130264], [-118.094472, 34.069333], [-118.177562, 33.984984], [-118.191928, 33.989548], [-118.190778, 33.971892], [-118.40099, 34.040758], [-118.177562, 33.984984], [-118.173715, 33.982892], [-118.165286, 33.976846], [-118.180459, 33.983342], [-118.216407, 33.982882], [-118.216158, 33.987784], [-118.191928, 33.989548], [-118.216407, 33.982882], [-118.197185, 33.968173], [-118.190629, 33.967499], [-118.177562, 33.984984], [-118.179567, 34.009567], [-118.169655, 34.013169], [-118.214484, 33.97013], [-118.173715, 33.982892], [-118.197185, 33.968173], [-118.183833, 33.979551], [-118.337122, 33.934358], [-118.340193, 33.925745], [-118.179567, 34.009567], [-118.180459, 33.983342], [-118.177562, 33.984984], [-118.155106, 33.977004], [-118.177562, 33.984984], [-118.130775, 33.950469], [-118.191928, 33.989548], [-118.348119, 33.913095], [-118.222886, 34.031512], [-118.191928, 33.989548], [-118.348119, 33.913095], [-118.173715, 33.982892], [-118.077063, 34.110594], [-118.152239, 33.968422], [-119.178482, 34.256867], [-118.235709, 33.95851], [-118.152239, 33.968422], [-118.092554, 33.964181], [-118.311535, 34.05575], [-117.903338, 34.115791], [-118.279563, 34.043386], [-118.180459, 33.983342], [-118.18381, 33.983723], [-118.194376, 33.976976], [-118.179567, 34.009567], [-118.173715, 33.982892], [-117.903338, 34.115791], [-118.092554, 33.964181], [-118.09735, 33.961751], [-118.109973, 33.97951], [-118.143112, 33.971646], [-118.179567, 34.009567], [-118.216407, 33.982882], [-117.894265, 34.071621], [-118.177562, 33.984984], [-118.298848, 33.998483], [-118.216407, 33.982882], [-118.214484, 33.97013], [-118.173715, 33.982892], [-118.226945, 33.951554], [-118.222886, 34.031512], [-118.214484, 33.97013], [-118.180459, 33.983342], [-118.177562, 33.984984], [-118.311535, 34.05575], [-117.903338, 34.115791], [-117.91062, 34.116137], [-118.214484, 33.97013], [-118.152239, 33.968422], [-118.158228, 33.964411], [-118.18381, 33.983723], [-118.191928, 33.989548], [-118.216407, 33.982882], [-118.09735, 33.961751], [-118.109973, 33.97951], [-118.340193, 33.925745], [-118.180459, 33.983342], [-118.197185, 33.968173], [-118.216407, 33.982882], [-118.465456, 34.230071], [-118.055167, 34.130264], [-118.063978, 34.126509], [-118.077662, 34.125904], [-118.180459, 33.983342], [-118.173715, 33.982892], [-118.191928, 33.989548], [-118.277423, 34.06348], [-118.348119, 33.913095], [-118.180459, 33.983342], [-118.177562, 33.984984], [-118.214484, 33.97013], [-118.109973, 33.97951], [-118.092554, 33.964181], [-118.194376, 33.976976], [-118.216407, 33.982882], [-118.180459, 33.983342], [-118.186772, 33.990425], [-118.461105, 34.23001], [-118.465456, 34.230071], [-118.173715, 33.982892], [-118.180459, 33.983342], [-118.170502, 33.972357], [-118.203384, 34.031029], [-118.214484, 33.97013], [-118.279563, 34.043386], [-118.277831, 34.047989], [-118.27465, 34.045817], [-118.177562, 33.984984], [-118.216407, 33.982882], [-118.152405, 33.842641], [-118.173715, 33.982892], [-118.177562, 33.984984], [-118.110421, 33.967817], [-118.180459, 33.983342], [-118.197185, 33.968173], [-118.191928, 33.989548], [-117.903338, 34.115791], [-118.235709, 33.95851], [-118.279563, 34.043386], [-118.275165, 34.041687], [-118.278165, 33.961602], [-118.173715, 33.982892], [-118.143112, 33.971646], [-117.91062, 34.116137], [-118.531674, 34.195672], [-118.540702, 34.170927], [-118.222886, 34.031512], [-118.337122, 33.934358], [-118.167879, 33.914734], [-118.277423, 34.06348], [-118.177562, 33.984984], [-118.279563, 34.043386], [-117.903338, 34.115791], [-118.214484, 33.97013], [-118.216407, 33.982882], [-118.311535, 34.05575], [-118.109973, 33.97951], [-118.180459, 33.983342], [-118.109973, 33.97951], [-118.143112, 33.971646], [-118.216407, 33.982882], [-118.195102, 33.994402], [-118.109973, 33.97951], [-117.894265, 34.071621], [-118.194376, 33.976976], [-118.173715, 33.982892], [-118.2345, 33.977408], [-118.177562, 33.984984], [-118.195102, 33.994402], [-118.131455, 34.042474], [-118.279563, 34.043386], [-118.191928, 33.989548], [-118.173715, 33.982892], [-118.203384, 34.031029], [-118.143112, 33.971646], [-118.173715, 33.982892], [-118.191928, 33.989548], [-118.194376, 33.976976], [-118.216407, 33.982882], [-118.094472, 34.069333], [-118.180459, 33.983342], [-118.124559, 33.942785], [-117.903338, 34.115791], [-118.322284, 34.05781], [-118.180459, 33.983342], [-118.465456, 34.230071], [-118.173715, 33.982892], [-118.178763, 33.979013], [-118.465456, 34.230071], [-118.279563, 34.043386], [-118.173715, 33.982892], [-118.207514, 33.956163], [-118.203384, 34.031029], [-118.214484, 33.97013], [-118.179567, 34.009567], [-118.214484, 33.97013], [-118.216407, 33.982882], [-118.180459, 33.983342], [-118.177562, 33.984984], [-118.182736, 33.970823], [-118.180459, 33.983342], [-118.096714, 34.011252], [-118.216407, 33.982882], [-118.183833, 33.979551], [-118.199723, 33.986551], [-118.311535, 34.05575], [-118.348119, 33.913095], [-118.09735, 33.961751], [-118.311535, 34.05575], [-118.28541, 34.03474], [-118.165286, 33.976846], [-118.220601, 34.04521], [-118.222886, 34.031512], [-118.165286, 33.976846], [-117.894265, 34.071621], [-117.868096, 34.102967], [-118.143112, 33.971646], [-118.222886, 34.031512], [-118.28541, 34.03474], [-118.579781, 34.203885], [-118.573186, 34.20591], [-118.337122, 33.934358], [-118.180459, 33.983342], [-118.177562, 33.984984], [-118.115322, 33.964491], [-118.057407, 33.937641], [-118.034188, 33.95389], [-118.191928, 33.989548], [-118.214484, 33.97013], [-118.180459, 33.983342], [-118.191928, 33.989548], [-118.180459, 33.983342], [-118.18381, 33.983723], [-118.231284, 33.910674], [-118.177562, 33.984984], [-118.055167, 34.130264], [-118.298848, 33.998483], [-118.191928, 33.989548], [-118.194376, 33.976976], [-118.180459, 33.983342], [-118.214484, 33.97013], [-118.092554, 33.964181], [-118.033766, 33.984526], [-118.214484, 33.97013], [-118.298848, 33.998483], [-118.191928, 33.989548], [-117.903338, 34.115791], [-118.277831, 34.047989], [-118.279563, 34.043386], [-118.09735, 33.961751], [-118.214484, 33.97013], [-118.167879, 33.914734], [-118.285581, 33.901764], [-118.216407, 33.982882], [-118.186077, 33.973978], [-118.311535, 34.05575], [-118.179567, 34.009567], [-118.222886, 34.031512], [-117.91062, 34.116137], [-118.216407, 33.982882], [-118.180459, 33.983342], [-118.213346, 33.96152], [-118.217063, 33.961479], [-118.249171, 33.955316], [-118.033766, 33.984526], [-118.216407, 33.982882], [-118.191928, 33.989548], [-118.180459, 33.983342], [-118.167879, 33.914734], [-118.178763, 33.979013], [-118.40099, 34.040758], [-118.4047, 34.024794], [-118.152239, 33.968422], [-118.109973, 33.97951], [-118.092554, 33.964181], [-118.143112, 33.971646], [-118.14672, 33.969041], [-118.131455, 34.042474], [-118.057407, 33.937641], [-118.27465, 34.045817], [-118.173715, 33.982892], [-118.324797, 33.982862], [-118.055167, 34.130264], [-118.222886, 34.031512], [-118.216407, 33.982882], [-118.096714, 34.011252], [-118.277831, 34.047989], [-117.903338, 34.115791], [-117.91062, 34.116137], [-118.235709, 33.95851], [-118.197827, 34.039632], [-118.195202, 34.050303], [-118.322284, 34.05781], [-118.055167, 34.130264], [-118.077662, 34.125904], [-118.311535, 34.05575], [-118.326648, 34.031125], [-118.186772, 33.990425], [-118.167889, 34.005024], [-118.063978, 34.126509], [-118.60243, 34.199201], [-118.194376, 33.976976], [-118.197381, 33.990096], [-118.199723, 33.986551], [-118.222886, 34.031512], [-118.130775, 33.950469], [-118.109973, 33.97951], [-117.903338, 34.115791], [-117.894265, 34.071621], [-118.348119, 33.913095], [-118.216407, 33.982882], [-118.40099, 34.040758], [-118.222886, 34.031512], [-118.214484, 33.97013], [-118.155106, 33.977004], [-117.91062, 34.116137], [-118.226945, 33.951554], [-118.251611, 33.931918], [-118.28541, 34.03474], [-117.894265, 34.071621], [-118.4047, 34.024794], [-118.222886, 34.031512], [-118.179567, 34.009567], [-118.177562, 33.984984], [-118.179567, 34.009567], [-118.191928, 33.989548], [-118.09735, 33.961751], [-118.033766, 33.984526], [-118.235709, 33.95851], [-118.165286, 33.976846], [-118.175276, 33.97286], [-118.279563, 34.043386], [-117.91062, 34.116137], [-118.277423, 34.06348], [-117.675727, 33.654034], [-118.214484, 33.97013], [-118.055167, 34.130264], [-118.07035, 34.127097], [-118.235709, 33.95851], [-118.077662, 34.125904], [-118.214484, 33.97013], [-118.194376, 33.976976], [-118.175276, 33.97286], [-118.178763, 33.979013], [-118.157958, 33.905489], [-118.183833, 33.979551], [-118.214484, 33.97013], [-118.057407, 33.937641], [-118.045085, 33.934927]], &quot;type&quot;: &quot;LineString&quot;}, &quot;id&quot;: &quot;0&quot;, &quot;type&quot;: &quot;Feature&quot;}], &quot;type&quot;: &quot;FeatureCollection&quot;});\n",
       "\n",
       "        \n",
       "    \n",
       "            geo_json_744465717b43dd354b8faeb532794555.addTo(map_c86d2a6e80f480874f8ae0267fd9be4e);\n",
       "        \n",
       "    \n",
       "            var marker_ef1526055683326840401cc1bc09d57a = L.marker(\n",
       "                [33.98498421878418, -118.17756243099038],\n",
       "                {\n",
       "}\n",
       "            ).addTo(map_c86d2a6e80f480874f8ae0267fd9be4e);\n",
       "        \n",
       "    \n",
       "            var icon_3cc84c6155d1237856fd2b4712c52411 = L.AwesomeMarkers.icon(\n",
       "                {\n",
       "  &quot;markerColor&quot;: &quot;green&quot;,\n",
       "  &quot;iconColor&quot;: &quot;white&quot;,\n",
       "  &quot;icon&quot;: &quot;info-sign&quot;,\n",
       "  &quot;prefix&quot;: &quot;glyphicon&quot;,\n",
       "  &quot;extraClasses&quot;: &quot;fa-rotate-0&quot;,\n",
       "}\n",
       "            );\n",
       "            marker_ef1526055683326840401cc1bc09d57a.setIcon(icon_3cc84c6155d1237856fd2b4712c52411);\n",
       "        \n",
       "    \n",
       "        var popup_b650fb07b019c996f807e0da2e5c411d = L.popup({\n",
       "  &quot;maxWidth&quot;: 300,\n",
       "});\n",
       "\n",
       "        \n",
       "            \n",
       "                var html_de2902b05c90f8d2e2aff1756f61b73a = $(`&lt;div id=&quot;html_de2902b05c90f8d2e2aff1756f61b73a&quot; style=&quot;width: 100.0%; height: 100.0%;&quot;&gt;&lt;i&gt;Start&lt;/i&gt;&lt;BR&gt;2020/03/01 00:00&lt;BR&gt;Coord: &lt;a href=&quot;https://www.google.co.uk/maps/place/33.98498421878418,-118.17756243099038&quot; target=&quot;_blank&quot;&gt;33.985, -118.1776&lt;/a&gt;&lt;/div&gt;`)[0];\n",
       "                popup_b650fb07b019c996f807e0da2e5c411d.setContent(html_de2902b05c90f8d2e2aff1756f61b73a);\n",
       "            \n",
       "        \n",
       "\n",
       "        marker_ef1526055683326840401cc1bc09d57a.bindPopup(popup_b650fb07b019c996f807e0da2e5c411d)\n",
       "        ;\n",
       "\n",
       "        \n",
       "    \n",
       "    \n",
       "            var marker_55dc9631cb6a9ead65d69c0adca02da0 = L.marker(\n",
       "                [33.93492708713495, -118.04508521216125],\n",
       "                {\n",
       "}\n",
       "            ).addTo(map_c86d2a6e80f480874f8ae0267fd9be4e);\n",
       "        \n",
       "    \n",
       "            var icon_ccfab4406bbae9a256dbe24fde9acc41 = L.AwesomeMarkers.icon(\n",
       "                {\n",
       "  &quot;markerColor&quot;: &quot;red&quot;,\n",
       "  &quot;iconColor&quot;: &quot;white&quot;,\n",
       "  &quot;icon&quot;: &quot;info-sign&quot;,\n",
       "  &quot;prefix&quot;: &quot;glyphicon&quot;,\n",
       "  &quot;extraClasses&quot;: &quot;fa-rotate-0&quot;,\n",
       "}\n",
       "            );\n",
       "            marker_55dc9631cb6a9ead65d69c0adca02da0.setIcon(icon_ccfab4406bbae9a256dbe24fde9acc41);\n",
       "        \n",
       "    \n",
       "        var popup_73e540df0690af7f18e29149391b2161 = L.popup({\n",
       "  &quot;maxWidth&quot;: 300,\n",
       "});\n",
       "\n",
       "        \n",
       "            \n",
       "                var html_13aa1055aa71ffc7af14e8445fa1024e = $(`&lt;div id=&quot;html_13aa1055aa71ffc7af14e8445fa1024e&quot; style=&quot;width: 100.0%; height: 100.0%;&quot;&gt;&lt;i&gt;End&lt;/i&gt;&lt;BR&gt;2020/03/30 23:49&lt;BR&gt;Coord: &lt;a href=&quot;https://www.google.co.uk/maps/place/33.93492708713495,-118.04508521216125&quot; target=&quot;_blank&quot;&gt;33.9349, -118.0451&lt;/a&gt;&lt;/div&gt;`)[0];\n",
       "                popup_73e540df0690af7f18e29149391b2161.setContent(html_13aa1055aa71ffc7af14e8445fa1024e);\n",
       "            \n",
       "        \n",
       "\n",
       "        marker_55dc9631cb6a9ead65d69c0adca02da0.bindPopup(popup_73e540df0690af7f18e29149391b2161)\n",
       "        ;\n",
       "\n",
       "        \n",
       "    \n",
       "&lt;/script&gt;\n",
       "&lt;/html&gt;\" style=\"position:absolute;width:100%;height:100%;left:0;top:0;border:none !important;\" allowfullscreen webkitallowfullscreen mozallowfullscreen></iframe></div></div>"
      ],
      "text/plain": [
       "<folium.folium.Map at 0x7655ffa070>"
      ]
     },
     "execution_count": 52,
     "metadata": {},
     "output_type": "execute_result"
    }
   ],
   "source": [
    "plotting_data = skmob.TrajDataFrame(person1, latitude='lat', datetime='datetime', user_id='uid')\n",
    "\n",
    "plotting_data.plot_trajectory(\n",
    "    zoom=12,\n",
    "    weight=3,\n",
    "    opacity=0.9,\n",
    "    max_users = 1,\n",
    "    max_points=None, #trajectories will be down-sampled to have at most `max_points` points.\n",
    "    tiles='OpenStreetMap'  # Built-in tile set, no attribution needed\n",
    ")"
   ]
  },
  {
   "cell_type": "markdown",
   "id": "8378d849",
   "metadata": {},
   "source": [
    "#"
   ]
  },
  {
   "cell_type": "markdown",
   "id": "ad4506f6",
   "metadata": {},
   "source": [
    "# Home location"
   ]
  },
  {
   "cell_type": "code",
   "execution_count": 53,
   "id": "fd593594",
   "metadata": {},
   "outputs": [
    {
     "name": "stdout",
     "output_type": "stream",
     "text": [
      "(4689466, 4)\n"
     ]
    },
    {
     "data": {
      "text/html": [
       "<div>\n",
       "<style scoped>\n",
       "    .dataframe tbody tr th:only-of-type {\n",
       "        vertical-align: middle;\n",
       "    }\n",
       "\n",
       "    .dataframe tbody tr th {\n",
       "        vertical-align: top;\n",
       "    }\n",
       "\n",
       "    .dataframe thead th {\n",
       "        text-align: right;\n",
       "    }\n",
       "</style>\n",
       "<table border=\"1\" class=\"dataframe\">\n",
       "  <thead>\n",
       "    <tr style=\"text-align: right;\">\n",
       "      <th></th>\n",
       "      <th>uid</th>\n",
       "      <th>datetime</th>\n",
       "      <th>lat</th>\n",
       "      <th>lng</th>\n",
       "    </tr>\n",
       "  </thead>\n",
       "  <tbody>\n",
       "    <tr>\n",
       "      <th>0</th>\n",
       "      <td>1</td>\n",
       "      <td>2020-03-01 00:00:00.000000</td>\n",
       "      <td>33.984984</td>\n",
       "      <td>-118.177562</td>\n",
       "    </tr>\n",
       "    <tr>\n",
       "      <th>1</th>\n",
       "      <td>1</td>\n",
       "      <td>2020-03-01 00:36:55.336052</td>\n",
       "      <td>33.983342</td>\n",
       "      <td>-118.180459</td>\n",
       "    </tr>\n",
       "    <tr>\n",
       "      <th>2</th>\n",
       "      <td>1</td>\n",
       "      <td>2020-03-01 01:38:39.853429</td>\n",
       "      <td>33.982892</td>\n",
       "      <td>-118.173715</td>\n",
       "    </tr>\n",
       "    <tr>\n",
       "      <th>3</th>\n",
       "      <td>1</td>\n",
       "      <td>2020-03-01 02:04:41.900006</td>\n",
       "      <td>33.984984</td>\n",
       "      <td>-118.177562</td>\n",
       "    </tr>\n",
       "    <tr>\n",
       "      <th>4</th>\n",
       "      <td>1</td>\n",
       "      <td>2020-03-01 02:36:01.651631</td>\n",
       "      <td>34.031512</td>\n",
       "      <td>-118.222886</td>\n",
       "    </tr>\n",
       "  </tbody>\n",
       "</table>\n",
       "</div>"
      ],
      "text/plain": [
       "   uid                   datetime        lat         lng\n",
       "0    1 2020-03-01 00:00:00.000000  33.984984 -118.177562\n",
       "1    1 2020-03-01 00:36:55.336052  33.983342 -118.180459\n",
       "2    1 2020-03-01 01:38:39.853429  33.982892 -118.173715\n",
       "3    1 2020-03-01 02:04:41.900006  33.984984 -118.177562\n",
       "4    1 2020-03-01 02:36:01.651631  34.031512 -118.222886"
      ]
     },
     "execution_count": 53,
     "metadata": {},
     "output_type": "execute_result"
    }
   ],
   "source": [
    "# now create a TrajDataFrame from the pandas DataFrame\n",
    "#tdf = skmob.TrajDataFrame(data, latitude='lat', datetime='datetime', user_id='uid')\n",
    "print(tdf.shape)\n",
    "tdf.head(5)"
   ]
  },
  {
   "cell_type": "code",
   "execution_count": 54,
   "id": "201fb128",
   "metadata": {},
   "outputs": [
    {
     "name": "stderr",
     "output_type": "stream",
     "text": [
      "100%|███████████████████████████████████| 10000/10000 [00:06<00:00, 1613.98it/s]\n"
     ]
    },
    {
     "data": {
      "text/html": [
       "<div>\n",
       "<style scoped>\n",
       "    .dataframe tbody tr th:only-of-type {\n",
       "        vertical-align: middle;\n",
       "    }\n",
       "\n",
       "    .dataframe tbody tr th {\n",
       "        vertical-align: top;\n",
       "    }\n",
       "\n",
       "    .dataframe thead th {\n",
       "        text-align: right;\n",
       "    }\n",
       "</style>\n",
       "<table border=\"1\" class=\"dataframe\">\n",
       "  <thead>\n",
       "    <tr style=\"text-align: right;\">\n",
       "      <th></th>\n",
       "      <th>uid</th>\n",
       "      <th>lat</th>\n",
       "      <th>lng</th>\n",
       "    </tr>\n",
       "  </thead>\n",
       "  <tbody>\n",
       "    <tr>\n",
       "      <th>0</th>\n",
       "      <td>1</td>\n",
       "      <td>33.983342</td>\n",
       "      <td>-118.180459</td>\n",
       "    </tr>\n",
       "    <tr>\n",
       "      <th>1</th>\n",
       "      <td>2</td>\n",
       "      <td>33.838065</td>\n",
       "      <td>-118.219024</td>\n",
       "    </tr>\n",
       "    <tr>\n",
       "      <th>2</th>\n",
       "      <td>3</td>\n",
       "      <td>34.080243</td>\n",
       "      <td>-116.205548</td>\n",
       "    </tr>\n",
       "    <tr>\n",
       "      <th>3</th>\n",
       "      <td>4</td>\n",
       "      <td>37.923568</td>\n",
       "      <td>-122.085091</td>\n",
       "    </tr>\n",
       "    <tr>\n",
       "      <th>4</th>\n",
       "      <td>5</td>\n",
       "      <td>34.033587</td>\n",
       "      <td>-118.449005</td>\n",
       "    </tr>\n",
       "  </tbody>\n",
       "</table>\n",
       "</div>"
      ],
      "text/plain": [
       "   uid        lat         lng\n",
       "0    1  33.983342 -118.180459\n",
       "1    2  33.838065 -118.219024\n",
       "2    3  34.080243 -116.205548\n",
       "3    4  37.923568 -122.085091\n",
       "4    5  34.033587 -118.449005"
      ]
     },
     "execution_count": 54,
     "metadata": {},
     "output_type": "execute_result"
    }
   ],
   "source": [
    "hl_df = home_location(tdf)\n",
    "hl_df.head(5)"
   ]
  },
  {
   "cell_type": "code",
   "execution_count": 55,
   "id": "6e3a0518",
   "metadata": {},
   "outputs": [],
   "source": [
    "hl_df.to_csv(\"Home_location_4Week_10000_CA_realpop.csv\")"
   ]
  },
  {
   "cell_type": "code",
   "execution_count": null,
   "id": "0089f415",
   "metadata": {},
   "outputs": [],
   "source": []
  }
 ],
 "metadata": {
  "kernelspec": {
   "display_name": "Python (skmob)",
   "language": "python",
   "name": "skmob"
  },
  "language_info": {
   "codemirror_mode": {
    "name": "ipython",
    "version": 3
   },
   "file_extension": ".py",
   "mimetype": "text/x-python",
   "name": "python",
   "nbconvert_exporter": "python",
   "pygments_lexer": "ipython3",
   "version": "3.9.21"
  }
 },
 "nbformat": 4,
 "nbformat_minor": 5
}
