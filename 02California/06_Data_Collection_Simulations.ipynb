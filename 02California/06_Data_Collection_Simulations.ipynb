{
 "cells": [
  {
   "cell_type": "markdown",
   "id": "795b34f9",
   "metadata": {},
   "source": [
    "<h1><center> Metapopulation Model with SIR <br><br> \n",
    "<center> NetworkX Application<br><br> \n",
    "Wendy Shi</center></center>"
   ]
  },
  {
   "cell_type": "markdown",
   "id": "658f5c16",
   "metadata": {},
   "source": [
    "# Table of Content"
   ]
  },
  {
   "cell_type": "markdown",
   "id": "dd3f39cb",
   "metadata": {},
   "source": [
    "1. [Seeding Events](#Seeding-Events)\n",
    "2. [Node Dictionary](#Node-Dictionary)\n",
    "3. [US Shape File](#US-Shape-File)\n",
    "4. [One simulation](#One-simulation)\n",
    "5. [20 Simulation](#20-Simulation)"
   ]
  },
  {
   "cell_type": "markdown",
   "id": "bb3c630d",
   "metadata": {},
   "source": [
    "# Preparation"
   ]
  },
  {
   "cell_type": "code",
   "execution_count": 1,
   "id": "e5833d69",
   "metadata": {},
   "outputs": [],
   "source": [
    "#Preparation\n",
    "import pandas as pd\n",
    "import numpy as np\n",
    "import matplotlib.pyplot as plt\n",
    "from scipy.integrate import odeint\n",
    "from scipy.interpolate import interp1d\n",
    "import scipy.stats as stats"
   ]
  },
  {
   "cell_type": "markdown",
   "id": "a3737406",
   "metadata": {},
   "source": [
    "# Seeding Events"
   ]
  },
  {
   "cell_type": "code",
   "execution_count": 2,
   "id": "f9359ca6",
   "metadata": {},
   "outputs": [
    {
     "name": "stdout",
     "output_type": "stream",
     "text": [
      "(2327, 5)\n"
     ]
    },
    {
     "data": {
      "text/html": [
       "<div>\n",
       "<style scoped>\n",
       "    .dataframe tbody tr th:only-of-type {\n",
       "        vertical-align: middle;\n",
       "    }\n",
       "\n",
       "    .dataframe tbody tr th {\n",
       "        vertical-align: top;\n",
       "    }\n",
       "\n",
       "    .dataframe thead th {\n",
       "        text-align: right;\n",
       "    }\n",
       "</style>\n",
       "<table border=\"1\" class=\"dataframe\">\n",
       "  <thead>\n",
       "    <tr style=\"text-align: right;\">\n",
       "      <th></th>\n",
       "      <th>S</th>\n",
       "      <th>E</th>\n",
       "      <th>I</th>\n",
       "      <th>R</th>\n",
       "      <th>index</th>\n",
       "    </tr>\n",
       "  </thead>\n",
       "  <tbody>\n",
       "    <tr>\n",
       "      <th>0</th>\n",
       "      <td>58877</td>\n",
       "      <td>0</td>\n",
       "      <td>0</td>\n",
       "      <td>0</td>\n",
       "      <td>0</td>\n",
       "    </tr>\n",
       "    <tr>\n",
       "      <th>1</th>\n",
       "      <td>233140</td>\n",
       "      <td>0</td>\n",
       "      <td>0</td>\n",
       "      <td>0</td>\n",
       "      <td>1</td>\n",
       "    </tr>\n",
       "    <tr>\n",
       "      <th>2</th>\n",
       "      <td>25180</td>\n",
       "      <td>0</td>\n",
       "      <td>0</td>\n",
       "      <td>0</td>\n",
       "      <td>2</td>\n",
       "    </tr>\n",
       "  </tbody>\n",
       "</table>\n",
       "</div>"
      ],
      "text/plain": [
       "        S  E  I  R  index\n",
       "0   58877  0  0  0      0\n",
       "1  233140  0  0  0      1\n",
       "2   25180  0  0  0      2"
      ]
     },
     "execution_count": 2,
     "metadata": {},
     "output_type": "execute_result"
    }
   ],
   "source": [
    "column_names = ['S', 'E', 'I', 'R']\n",
    "Seeding = pd.read_csv(\"../../Data/seed_1503_seed_corrected_undereporting_CDC_corrected_v3.txt\",\n",
    "                     delimiter=' ',\n",
    "                      names=column_names)\n",
    "Seeding['index'] = range(len(Seeding))\n",
    "print(Seeding.shape)\n",
    "Seeding.head(3)"
   ]
  },
  {
   "cell_type": "code",
   "execution_count": 3,
   "id": "44510428",
   "metadata": {},
   "outputs": [
    {
     "data": {
      "text/plain": [
       "[58877, 233140, 25180]"
      ]
     },
     "execution_count": 3,
     "metadata": {},
     "output_type": "execute_result"
    }
   ],
   "source": [
    "multiplier = Seeding[\"S\"].tolist()\n",
    "multiplier[:3]"
   ]
  },
  {
   "cell_type": "markdown",
   "id": "58af2859",
   "metadata": {},
   "source": [
    "# Node Dictionary"
   ]
  },
  {
   "cell_type": "code",
   "execution_count": 4,
   "id": "0edcd2e0",
   "metadata": {},
   "outputs": [
    {
     "name": "stdout",
     "output_type": "stream",
     "text": [
      "(2327, 3)\n"
     ]
    },
    {
     "data": {
      "text/html": [
       "<div>\n",
       "<style scoped>\n",
       "    .dataframe tbody tr th:only-of-type {\n",
       "        vertical-align: middle;\n",
       "    }\n",
       "\n",
       "    .dataframe tbody tr th {\n",
       "        vertical-align: top;\n",
       "    }\n",
       "\n",
       "    .dataframe thead th {\n",
       "        text-align: right;\n",
       "    }\n",
       "</style>\n",
       "<table border=\"1\" class=\"dataframe\">\n",
       "  <thead>\n",
       "    <tr style=\"text-align: right;\">\n",
       "      <th></th>\n",
       "      <th>index</th>\n",
       "      <th>GEO_ID</th>\n",
       "      <th>State Code</th>\n",
       "    </tr>\n",
       "  </thead>\n",
       "  <tbody>\n",
       "    <tr>\n",
       "      <th>0</th>\n",
       "      <td>0</td>\n",
       "      <td>01001</td>\n",
       "      <td>01</td>\n",
       "    </tr>\n",
       "    <tr>\n",
       "      <th>1</th>\n",
       "      <td>1</td>\n",
       "      <td>01003</td>\n",
       "      <td>01</td>\n",
       "    </tr>\n",
       "    <tr>\n",
       "      <th>2</th>\n",
       "      <td>2</td>\n",
       "      <td>01005</td>\n",
       "      <td>01</td>\n",
       "    </tr>\n",
       "  </tbody>\n",
       "</table>\n",
       "</div>"
      ],
      "text/plain": [
       "   index GEO_ID State Code\n",
       "0      0  01001         01\n",
       "1      1  01003         01\n",
       "2      2  01005         01"
      ]
     },
     "execution_count": 4,
     "metadata": {},
     "output_type": "execute_result"
    }
   ],
   "source": [
    "node_dict = pd.read_csv(\"../../Data/nodes_considered.csv\")\n",
    "node_dict[\"GEO_ID\"] = node_dict[\"GEO_ID\"].apply(lambda x: f\"{int(x):05d}\")\n",
    "node_dict[\"State Code\"] = node_dict[\"GEO_ID\"].str[:2]\n",
    "print(node_dict.shape)\n",
    "node_dict.head(3)"
   ]
  },
  {
   "cell_type": "code",
   "execution_count": 6,
   "id": "eff0ef17",
   "metadata": {},
   "outputs": [
    {
     "name": "stdout",
     "output_type": "stream",
     "text": [
      "(55, 6)\n"
     ]
    },
    {
     "data": {
      "text/html": [
       "<div>\n",
       "<style scoped>\n",
       "    .dataframe tbody tr th:only-of-type {\n",
       "        vertical-align: middle;\n",
       "    }\n",
       "\n",
       "    .dataframe tbody tr th {\n",
       "        vertical-align: top;\n",
       "    }\n",
       "\n",
       "    .dataframe thead th {\n",
       "        text-align: right;\n",
       "    }\n",
       "</style>\n",
       "<table border=\"1\" class=\"dataframe\">\n",
       "  <thead>\n",
       "    <tr style=\"text-align: right;\">\n",
       "      <th></th>\n",
       "      <th>GEOID</th>\n",
       "      <th>State Code</th>\n",
       "      <th>S</th>\n",
       "      <th>E</th>\n",
       "      <th>I</th>\n",
       "      <th>R</th>\n",
       "    </tr>\n",
       "  </thead>\n",
       "  <tbody>\n",
       "    <tr>\n",
       "      <th>0</th>\n",
       "      <td>06001</td>\n",
       "      <td>06</td>\n",
       "      <td>1679809</td>\n",
       "      <td>35</td>\n",
       "      <td>0</td>\n",
       "      <td>0</td>\n",
       "    </tr>\n",
       "    <tr>\n",
       "      <th>1</th>\n",
       "      <td>06005</td>\n",
       "      <td>06</td>\n",
       "      <td>40541</td>\n",
       "      <td>0</td>\n",
       "      <td>0</td>\n",
       "      <td>0</td>\n",
       "    </tr>\n",
       "    <tr>\n",
       "      <th>2</th>\n",
       "      <td>06007</td>\n",
       "      <td>06</td>\n",
       "      <td>210083</td>\n",
       "      <td>0</td>\n",
       "      <td>0</td>\n",
       "      <td>0</td>\n",
       "    </tr>\n",
       "  </tbody>\n",
       "</table>\n",
       "</div>"
      ],
      "text/plain": [
       "   GEOID State Code        S   E  I  R\n",
       "0  06001         06  1679809  35  0  0\n",
       "1  06005         06    40541   0  0  0\n",
       "2  06007         06   210083   0  0  0"
      ]
     },
     "execution_count": 6,
     "metadata": {},
     "output_type": "execute_result"
    }
   ],
   "source": [
    "CA = node_dict[node_dict[\"State Code\"] == '06']\n",
    "CA_SEIR = pd.merge(CA, Seeding, on = 'index', how = 'inner')\n",
    "CA_SEIR = CA_SEIR.drop(columns=['index']) #Drop the index when merging SEIR and New York GEOID\n",
    "\n",
    "rename = {'GEO_ID' : 'GEOID'}\n",
    "CA_SEIR = CA_SEIR.rename(columns = rename)\n",
    "\n",
    "print(CA_SEIR.shape)\n",
    "CA_SEIR.head(3)"
   ]
  },
  {
   "cell_type": "markdown",
   "id": "673a1299",
   "metadata": {},
   "source": [
    "# US Shape File"
   ]
  },
  {
   "cell_type": "code",
   "execution_count": 8,
   "id": "4c60f2f2",
   "metadata": {},
   "outputs": [
    {
     "data": {
      "text/html": [
       "<div>\n",
       "<style scoped>\n",
       "    .dataframe tbody tr th:only-of-type {\n",
       "        vertical-align: middle;\n",
       "    }\n",
       "\n",
       "    .dataframe tbody tr th {\n",
       "        vertical-align: top;\n",
       "    }\n",
       "\n",
       "    .dataframe thead th {\n",
       "        text-align: right;\n",
       "    }\n",
       "</style>\n",
       "<table border=\"1\" class=\"dataframe\">\n",
       "  <thead>\n",
       "    <tr style=\"text-align: right;\">\n",
       "      <th></th>\n",
       "      <th>NAME</th>\n",
       "      <th>State</th>\n",
       "      <th>GEOID</th>\n",
       "      <th>pop2020</th>\n",
       "    </tr>\n",
       "  </thead>\n",
       "  <tbody>\n",
       "    <tr>\n",
       "      <th>3106</th>\n",
       "      <td>Los Angeles</td>\n",
       "      <td>California</td>\n",
       "      <td>06037</td>\n",
       "      <td>9989165.0</td>\n",
       "    </tr>\n",
       "    <tr>\n",
       "      <th>3107</th>\n",
       "      <td>Shannon</td>\n",
       "      <td>South Dakota</td>\n",
       "      <td>46113</td>\n",
       "      <td>14309.0</td>\n",
       "    </tr>\n",
       "    <tr>\n",
       "      <th>3108</th>\n",
       "      <td>Bedford</td>\n",
       "      <td>Virginia</td>\n",
       "      <td>51515</td>\n",
       "      <td>6599.0</td>\n",
       "    </tr>\n",
       "  </tbody>\n",
       "</table>\n",
       "</div>"
      ],
      "text/plain": [
       "             NAME         State  GEOID    pop2020\n",
       "3106  Los Angeles    California  06037  9989165.0\n",
       "3107      Shannon  South Dakota  46113    14309.0\n",
       "3108      Bedford      Virginia  51515     6599.0"
      ]
     },
     "execution_count": 8,
     "metadata": {},
     "output_type": "execute_result"
    }
   ],
   "source": [
    "us_shape_file = pd.read_csv(\"../../Data/us_shapefile_county.csv\")\n",
    "\n",
    "us_shape_file = us_shape_file[['NAME', 'State_1', 'FIPS code', 'pop2020']].copy()\n",
    "rename = {'State_1' : 'State'}\n",
    "us_shape_file = us_shape_file.rename(columns = rename)\n",
    "\n",
    "us_shape_file[\"FIPS code\"] = us_shape_file[\"FIPS code\"].apply(lambda x: f\"{int(x):05d}\")\n",
    "\n",
    "#rename column\n",
    "rename = {\"FIPS code\" : \"GEOID\"}\n",
    "us_shape_file = us_shape_file.rename(columns = rename)\n",
    "us_shape_file.tail(3)"
   ]
  },
  {
   "cell_type": "code",
   "execution_count": 10,
   "id": "afbf09d6",
   "metadata": {},
   "outputs": [
    {
     "name": "stdout",
     "output_type": "stream",
     "text": [
      "(58, 4)\n"
     ]
    },
    {
     "data": {
      "text/html": [
       "<div>\n",
       "<style scoped>\n",
       "    .dataframe tbody tr th:only-of-type {\n",
       "        vertical-align: middle;\n",
       "    }\n",
       "\n",
       "    .dataframe tbody tr th {\n",
       "        vertical-align: top;\n",
       "    }\n",
       "\n",
       "    .dataframe thead th {\n",
       "        text-align: right;\n",
       "    }\n",
       "</style>\n",
       "<table border=\"1\" class=\"dataframe\">\n",
       "  <thead>\n",
       "    <tr style=\"text-align: right;\">\n",
       "      <th></th>\n",
       "      <th>NAME</th>\n",
       "      <th>State</th>\n",
       "      <th>GEOID</th>\n",
       "      <th>pop2020</th>\n",
       "    </tr>\n",
       "  </thead>\n",
       "  <tbody>\n",
       "    <tr>\n",
       "      <th>41</th>\n",
       "      <td>Alpine</td>\n",
       "      <td>California</td>\n",
       "      <td>06003</td>\n",
       "      <td>1198.0</td>\n",
       "    </tr>\n",
       "    <tr>\n",
       "      <th>185</th>\n",
       "      <td>Sierra</td>\n",
       "      <td>California</td>\n",
       "      <td>06091</td>\n",
       "      <td>3228.0</td>\n",
       "    </tr>\n",
       "    <tr>\n",
       "      <th>606</th>\n",
       "      <td>Modoc</td>\n",
       "      <td>California</td>\n",
       "      <td>06049</td>\n",
       "      <td>8658.0</td>\n",
       "    </tr>\n",
       "  </tbody>\n",
       "</table>\n",
       "</div>"
      ],
      "text/plain": [
       "       NAME       State  GEOID  pop2020\n",
       "41   Alpine  California  06003   1198.0\n",
       "185  Sierra  California  06091   3228.0\n",
       "606   Modoc  California  06049   8658.0"
      ]
     },
     "execution_count": 10,
     "metadata": {},
     "output_type": "execute_result"
    }
   ],
   "source": [
    "CA_name= us_shape_file[us_shape_file['State'] == \"California\"].copy()\n",
    "print(NY_name.shape)\n",
    "CA_name.head(3)"
   ]
  },
  {
   "cell_type": "code",
   "execution_count": 11,
   "id": "47843d7c",
   "metadata": {},
   "outputs": [
    {
     "name": "stdout",
     "output_type": "stream",
     "text": [
      "(55, 9)\n"
     ]
    },
    {
     "data": {
      "text/html": [
       "<div>\n",
       "<style scoped>\n",
       "    .dataframe tbody tr th:only-of-type {\n",
       "        vertical-align: middle;\n",
       "    }\n",
       "\n",
       "    .dataframe tbody tr th {\n",
       "        vertical-align: top;\n",
       "    }\n",
       "\n",
       "    .dataframe thead th {\n",
       "        text-align: right;\n",
       "    }\n",
       "</style>\n",
       "<table border=\"1\" class=\"dataframe\">\n",
       "  <thead>\n",
       "    <tr style=\"text-align: right;\">\n",
       "      <th></th>\n",
       "      <th>GEOID</th>\n",
       "      <th>State Code</th>\n",
       "      <th>S</th>\n",
       "      <th>E</th>\n",
       "      <th>I</th>\n",
       "      <th>R</th>\n",
       "      <th>NAME</th>\n",
       "      <th>State</th>\n",
       "      <th>pop2020</th>\n",
       "    </tr>\n",
       "  </thead>\n",
       "  <tbody>\n",
       "    <tr>\n",
       "      <th>0</th>\n",
       "      <td>06001</td>\n",
       "      <td>06</td>\n",
       "      <td>1679809</td>\n",
       "      <td>35</td>\n",
       "      <td>0</td>\n",
       "      <td>0</td>\n",
       "      <td>Alameda</td>\n",
       "      <td>California</td>\n",
       "      <td>1679844.0</td>\n",
       "    </tr>\n",
       "    <tr>\n",
       "      <th>1</th>\n",
       "      <td>06005</td>\n",
       "      <td>06</td>\n",
       "      <td>40541</td>\n",
       "      <td>0</td>\n",
       "      <td>0</td>\n",
       "      <td>0</td>\n",
       "      <td>Amador</td>\n",
       "      <td>California</td>\n",
       "      <td>40541.0</td>\n",
       "    </tr>\n",
       "    <tr>\n",
       "      <th>2</th>\n",
       "      <td>06007</td>\n",
       "      <td>06</td>\n",
       "      <td>210083</td>\n",
       "      <td>0</td>\n",
       "      <td>0</td>\n",
       "      <td>0</td>\n",
       "      <td>Butte</td>\n",
       "      <td>California</td>\n",
       "      <td>210083.0</td>\n",
       "    </tr>\n",
       "  </tbody>\n",
       "</table>\n",
       "</div>"
      ],
      "text/plain": [
       "   GEOID State Code        S   E  I  R     NAME       State    pop2020\n",
       "0  06001         06  1679809  35  0  0  Alameda  California  1679844.0\n",
       "1  06005         06    40541   0  0  0   Amador  California    40541.0\n",
       "2  06007         06   210083   0  0  0    Butte  California   210083.0"
      ]
     },
     "execution_count": 11,
     "metadata": {},
     "output_type": "execute_result"
    }
   ],
   "source": [
    "CA_SEIR_name = CA_SEIR.merge(CA_name, on = 'GEOID', how = 'left')\n",
    "CA_SEIR_list = CA_SEIR_name['GEOID'].tolist() #The GEOID as what is appeares in the dataframe\n",
    "\n",
    "print(CA_SEIR_name.shape)\n",
    "CA_SEIR_name.head(3)"
   ]
  },
  {
   "cell_type": "code",
   "execution_count": 17,
   "id": "757602fd",
   "metadata": {},
   "outputs": [],
   "source": [
    "CA_SEIR_name.to_excel(\"CA_SEIR_name.xlsx\")"
   ]
  },
  {
   "cell_type": "markdown",
   "id": "842892a8",
   "metadata": {},
   "source": [
    "## Retrieve Data"
   ]
  },
  {
   "cell_type": "code",
   "execution_count": 13,
   "id": "ec91456c",
   "metadata": {},
   "outputs": [
    {
     "data": {
      "text/html": [
       "<div>\n",
       "<style scoped>\n",
       "    .dataframe tbody tr th:only-of-type {\n",
       "        vertical-align: middle;\n",
       "    }\n",
       "\n",
       "    .dataframe tbody tr th {\n",
       "        vertical-align: top;\n",
       "    }\n",
       "\n",
       "    .dataframe thead th {\n",
       "        text-align: right;\n",
       "    }\n",
       "</style>\n",
       "<table border=\"1\" class=\"dataframe\">\n",
       "  <thead>\n",
       "    <tr style=\"text-align: right;\">\n",
       "      <th></th>\n",
       "      <th>06001</th>\n",
       "      <th>06005</th>\n",
       "      <th>06007</th>\n",
       "      <th>06009</th>\n",
       "      <th>06011</th>\n",
       "      <th>06013</th>\n",
       "      <th>06015</th>\n",
       "      <th>06017</th>\n",
       "      <th>06019</th>\n",
       "      <th>06021</th>\n",
       "      <th>...</th>\n",
       "      <th>06097</th>\n",
       "      <th>06099</th>\n",
       "      <th>06101</th>\n",
       "      <th>06103</th>\n",
       "      <th>06105</th>\n",
       "      <th>06107</th>\n",
       "      <th>06109</th>\n",
       "      <th>06111</th>\n",
       "      <th>06113</th>\n",
       "      <th>06115</th>\n",
       "    </tr>\n",
       "  </thead>\n",
       "  <tbody>\n",
       "    <tr>\n",
       "      <th>0</th>\n",
       "      <td>0.760298</td>\n",
       "      <td>0.000038</td>\n",
       "      <td>0.000439</td>\n",
       "      <td>0.000013</td>\n",
       "      <td>0.000013</td>\n",
       "      <td>0.056123</td>\n",
       "      <td>0.00000</td>\n",
       "      <td>0.000299</td>\n",
       "      <td>0.000900</td>\n",
       "      <td>0.000345</td>\n",
       "      <td>...</td>\n",
       "      <td>0.005383</td>\n",
       "      <td>0.004116</td>\n",
       "      <td>0.000085</td>\n",
       "      <td>0.000017</td>\n",
       "      <td>0.0</td>\n",
       "      <td>0.001045</td>\n",
       "      <td>0.000009</td>\n",
       "      <td>0.000154</td>\n",
       "      <td>0.001113</td>\n",
       "      <td>0.000290</td>\n",
       "    </tr>\n",
       "    <tr>\n",
       "      <th>1</th>\n",
       "      <td>0.052792</td>\n",
       "      <td>0.158595</td>\n",
       "      <td>0.001963</td>\n",
       "      <td>0.016361</td>\n",
       "      <td>0.000000</td>\n",
       "      <td>0.039049</td>\n",
       "      <td>0.00000</td>\n",
       "      <td>0.034904</td>\n",
       "      <td>0.022251</td>\n",
       "      <td>0.000000</td>\n",
       "      <td>...</td>\n",
       "      <td>0.001091</td>\n",
       "      <td>0.074389</td>\n",
       "      <td>0.000218</td>\n",
       "      <td>0.000000</td>\n",
       "      <td>0.0</td>\n",
       "      <td>0.001309</td>\n",
       "      <td>0.000654</td>\n",
       "      <td>0.001527</td>\n",
       "      <td>0.003927</td>\n",
       "      <td>0.000000</td>\n",
       "    </tr>\n",
       "    <tr>\n",
       "      <th>2</th>\n",
       "      <td>0.012050</td>\n",
       "      <td>0.000030</td>\n",
       "      <td>0.821263</td>\n",
       "      <td>0.000090</td>\n",
       "      <td>0.000811</td>\n",
       "      <td>0.008985</td>\n",
       "      <td>0.00006</td>\n",
       "      <td>0.003185</td>\n",
       "      <td>0.002043</td>\n",
       "      <td>0.002404</td>\n",
       "      <td>...</td>\n",
       "      <td>0.005289</td>\n",
       "      <td>0.001472</td>\n",
       "      <td>0.010698</td>\n",
       "      <td>0.003997</td>\n",
       "      <td>0.0</td>\n",
       "      <td>0.000751</td>\n",
       "      <td>0.000661</td>\n",
       "      <td>0.000721</td>\n",
       "      <td>0.002704</td>\n",
       "      <td>0.003786</td>\n",
       "    </tr>\n",
       "  </tbody>\n",
       "</table>\n",
       "<p>3 rows × 55 columns</p>\n",
       "</div>"
      ],
      "text/plain": [
       "      06001     06005     06007     06009     06011     06013    06015  \\\n",
       "0  0.760298  0.000038  0.000439  0.000013  0.000013  0.056123  0.00000   \n",
       "1  0.052792  0.158595  0.001963  0.016361  0.000000  0.039049  0.00000   \n",
       "2  0.012050  0.000030  0.821263  0.000090  0.000811  0.008985  0.00006   \n",
       "\n",
       "      06017     06019     06021  ...     06097     06099     06101     06103  \\\n",
       "0  0.000299  0.000900  0.000345  ...  0.005383  0.004116  0.000085  0.000017   \n",
       "1  0.034904  0.022251  0.000000  ...  0.001091  0.074389  0.000218  0.000000   \n",
       "2  0.003185  0.002043  0.002404  ...  0.005289  0.001472  0.010698  0.003997   \n",
       "\n",
       "   06105     06107     06109     06111     06113     06115  \n",
       "0    0.0  0.001045  0.000009  0.000154  0.001113  0.000290  \n",
       "1    0.0  0.001309  0.000654  0.001527  0.003927  0.000000  \n",
       "2    0.0  0.000751  0.000661  0.000721  0.002704  0.003786  \n",
       "\n",
       "[3 rows x 55 columns]"
      ]
     },
     "execution_count": 13,
     "metadata": {},
     "output_type": "execute_result"
    }
   ],
   "source": [
    "#Original matrix for comparison\n",
    "matrix = pd.read_csv(\"CA_Data/Aggregate/CA_ori_indi.csv\")\n",
    "matrix = matrix.drop(columns = 'Unnamed: 0')\n",
    "matrix.head(3)"
   ]
  },
  {
   "cell_type": "code",
   "execution_count": 15,
   "id": "80b67894",
   "metadata": {},
   "outputs": [
    {
     "name": "stdout",
     "output_type": "stream",
     "text": [
      "SEIR county list = Weight Matrix County List?: True\n"
     ]
    },
    {
     "data": {
      "text/plain": [
       "0.7602975487206173"
      ]
     },
     "execution_count": 15,
     "metadata": {},
     "output_type": "execute_result"
    }
   ],
   "source": [
    "matrix_county_list = matrix.columns.tolist()\n",
    "print(f'SEIR county list = Weight Matrix County List?: {matrix_county_list == CA_SEIR_list}') #Proceed when see Yes\n",
    "\n",
    "array = matrix.to_numpy() #The most important step!! Turning pandas dataframe to a numpy array\n",
    "array[0][0]"
   ]
  },
  {
   "cell_type": "markdown",
   "id": "4467fe89",
   "metadata": {},
   "source": [
    "# One simulation"
   ]
  },
  {
   "cell_type": "code",
   "execution_count": 18,
   "id": "39ba02e2",
   "metadata": {},
   "outputs": [],
   "source": [
    "def stochastic_SIR(y, l, array):\n",
    "    \n",
    "    # y is the list that contains the initial condition of S_i, I_i, R_i\n",
    "    S = y[:l]  # a five element list\n",
    "    E = y[l:l+l]\n",
    "    I = y[l+l:l+l+l]  # a five element list\n",
    "    R = y[l+l+l:]  # the rest elements\n",
    "    \n",
    "    t = 0\n",
    "    time_series = [(t, S.copy(), E.copy(), I.copy(), R.copy())]\n",
    "    \n",
    "    #l = len(S)\n",
    "    \n",
    "    # Define each element of N\n",
    "    N = [S[i] + E[i] + I[i] + R[i] for i in range(l)]\n",
    "    \n",
    "    # Define N_hat\n",
    "    N_hat = [array[i][i] * N[i] for i in range(l)]\n",
    "    for i in range(l):\n",
    "        for j in range(l):\n",
    "            if i != j:\n",
    "                N_hat[i] += array[j][i] * N[j]\n",
    "    \n",
    "    #print(N_hat)\n",
    "    \n",
    "    # Run the loop ------------------------------------\n",
    "    t_max = 50\n",
    "    #while any(i > 0 for i in I) and t < t_max: #time stamp loop--\n",
    "    while t < t_max:\n",
    "        \n",
    "        #Define value for beta\n",
    "        if t < 25: \n",
    "            beta = 3.5\n",
    "        else: \n",
    "            beta = 1.7\n",
    "        \n",
    "        for i in range(l): #node loop------\n",
    "            \n",
    "            # Define I_hat for all nodes\n",
    "            I_hat = [array[i][i] * I[i] for i in range(l)]\n",
    "            for j in range(l):\n",
    "                if i != j:\n",
    "                    I_hat[i] += array[j][i] * I[j]\n",
    "            \n",
    "            # Calculate lambda\n",
    "            lmda = beta * (array[i][i] ** 2) * I[i] / N_hat[i]\n",
    "            for j in range(l):\n",
    "                if i != j:\n",
    "                    lmda += (beta * array[i][i] * array[j][i] * I[j] / N_hat[i]) + (beta * array[i][j] * I_hat[j] / N_hat[j])\n",
    "            \n",
    "            #Newly added term, having b equals to 3.5 and largrer sample of nodes makes lamda larger than 1\n",
    "            lmda_new = min(lmda,1)\n",
    "            \n",
    "            #Check again to see if you can improve the model-------------\n",
    "            new_exposed = np.random.binomial(S[i], lmda_new)*1\n",
    "            new_infected = np.random.binomial(E[i], 0.2703)*1\n",
    "            new_recovered = np.random.binomial(I[i], 0.2448)*1 \n",
    "            \n",
    "            # Update S, I, R for node i\n",
    "            S[i] -= new_exposed\n",
    "            E[i] += new_exposed - new_infected\n",
    "            I[i] += new_infected - new_recovered\n",
    "            R[i] += new_recovered\n",
    "        \n",
    "        # Store the results (make copies to avoid overwriting)\n",
    "        time_series.append((t, S.copy(), E.copy(), I.copy(), R.copy()))\n",
    "        \n",
    "        # Increment time (optional)\n",
    "        t += 1\n",
    "        #print(f\"Time: {t}, S: {S}, I: {I}, R: {R}\")\n",
    "        if t % 10 == 0:\n",
    "            print(t)\n",
    "    \n",
    "    return time_series"
   ]
  },
  {
   "cell_type": "markdown",
   "id": "ee9a18cc",
   "metadata": {},
   "source": [
    "# Applying for the function"
   ]
  },
  {
   "cell_type": "code",
   "execution_count": 12,
   "id": "48feda53",
   "metadata": {},
   "outputs": [],
   "source": [
    "#NY_SEIR = pd.read_excel(\"NY_SEIR.xlsx\")\n",
    "#NY_SEIR = NY_SEIR.drop(columns = 'Unnamed: 0')\n",
    "#NY_SEIR.iloc[15:20]"
   ]
  },
  {
   "cell_type": "code",
   "execution_count": 20,
   "id": "5907a70c",
   "metadata": {},
   "outputs": [
    {
     "name": "stdout",
     "output_type": "stream",
     "text": [
      "55 55 55 55\n"
     ]
    }
   ],
   "source": [
    "#Define initial condition\n",
    "S0 = CA_SEIR[\"S\"].tolist()  \n",
    "E0 = CA_SEIR[\"E\"].tolist()  \n",
    "I0 = CA_SEIR[\"I\"].tolist()   \n",
    "R0 = CA_SEIR[\"R\"].tolist()\n",
    "initial_conditions = S0 + E0 + I0 + R0 #this is the y (?): Yup!\n",
    "print(len(S0),len(E0),len(I0), len(R0))"
   ]
  },
  {
   "cell_type": "code",
   "execution_count": 21,
   "id": "6a8384ff",
   "metadata": {},
   "outputs": [
    {
     "name": "stdout",
     "output_type": "stream",
     "text": [
      "10\n",
      "20\n",
      "30\n",
      "40\n",
      "50\n"
     ]
    }
   ],
   "source": [
    "#first simulation\n",
    "time_series = stochastic_SIR(initial_conditions, 55, array)"
   ]
  },
  {
   "cell_type": "code",
   "execution_count": 22,
   "id": "d1b95e6b",
   "metadata": {},
   "outputs": [],
   "source": [
    "times, S_values, E_values, I_values, R_values = zip(*time_series)\n",
    "\n",
    "S_list = list(zip(*S_values))\n",
    "for i, S in enumerate(S_list):\n",
    "    globals()[f'S{i}'] = S\n",
    "    \n",
    "E_list = list(zip(*E_values))\n",
    "for i, E in enumerate(E_list):\n",
    "    globals()[f'E{i}'] = E\n",
    "    \n",
    "I_list = list(zip(*I_values))\n",
    "for i, I in enumerate(I_list):\n",
    "    globals()[f'I{i}'] = I\n",
    "    \n",
    "R_list = list(zip(*R_values))\n",
    "for i, R in enumerate(R_list):\n",
    "    globals()[f'R{i}'] = R"
   ]
  },
  {
   "cell_type": "markdown",
   "id": "c22eefa5",
   "metadata": {},
   "source": [
    "<br>\n",
    "\n",
    "- **globals()** is a built-in function in Python that returns a dictionary representing the current global symbol table. The global symbol table contains all the global variables in the program. When you do globals()[f'S{i}'] = s, you're dynamically creating a new global variable with a name like S1, S2, etc., and assigning it the value s. In this case, f'S{i}' generates the variable name as a string, and s is the corresponding value from the list.\n",
    "\n",
    "<br>\n",
    "\n",
    "- **enumerate()** is a built-in Python function that allows you to loop over an iterable (like a list, tuple, or string) while also keeping track of the index of each element.When used like enumerate(S_list, start=1), it returns pairs of (index, value), where index starts at 1 and increases by 1 for each iteration, while value is the corresponding item from the list. The start=1 parameter means that the counting will begin at 1 instead of the default 0."
   ]
  },
  {
   "cell_type": "markdown",
   "id": "41c24174",
   "metadata": {},
   "source": [
    "# Visualization: One Loop"
   ]
  },
  {
   "cell_type": "code",
   "execution_count": 24,
   "id": "5a15778b",
   "metadata": {},
   "outputs": [
    {
     "data": {
      "image/png": "[encoded data removed]",
      "text/plain": [
       "<Figure size 1000x600 with 1 Axes>"
      ]
     },
     "metadata": {},
     "output_type": "display_data"
    }
   ],
   "source": [
    "plt.figure(figsize=(10,6))\n",
    "\n",
    "plt.plot(times, I24, label='Monterey, pop = 438,500')\n",
    "plt.plot(times, I25, label='Napa, pop = 137,608')\n",
    "plt.plot(times, I35, label='San Fransisco (Seed), pop = 870,014')\n",
    "plt.plot(times, I37, label='San Luis Obispo, pop = 282,231')\n",
    "plt.plot(times, I52, label='Ventura, pop = 842,921')\n",
    "\n",
    "plt.xlabel('Time')\n",
    "plt.ylabel('Total Infected Population')\n",
    "plt.legend()\n",
    "#plt.savefig(\"CA_SEIR_Example.png\", dpi=300, bbox_inches='tight')\n",
    "\n",
    "plt.show()\n",
    "\n"
   ]
  },
  {
   "cell_type": "markdown",
   "id": "33cbabe8",
   "metadata": {},
   "source": [
    "# 20 Simulation"
   ]
  },
  {
   "cell_type": "code",
   "execution_count": 73,
   "id": "e5decfe8",
   "metadata": {},
   "outputs": [
    {
     "data": {
      "text/plain": [
       "0.1961192856571942"
      ]
     },
     "execution_count": 73,
     "metadata": {},
     "output_type": "execute_result"
    }
   ],
   "source": [
    "matrix = pd.read_csv(\"CA_Data/Aggregate/CA_P001_agg.csv\")\n",
    "matrix = matrix.drop(columns = 'Unnamed: 0')\n",
    "matrix.head(3)\n",
    "\n",
    "array = matrix.to_numpy() #The most important step!! Turning pandas dataframe to a numpy array\n",
    "array[0][0]"
   ]
  },
  {
   "cell_type": "code",
   "execution_count": 74,
   "id": "1d2c71cb",
   "metadata": {},
   "outputs": [
    {
     "name": "stdout",
     "output_type": "stream",
     "text": [
      "10\n",
      "20\n",
      "30\n",
      "40\n",
      "50\n",
      "Simulation 0 Finished!!!-------------------------------\n",
      "10\n",
      "20\n",
      "30\n",
      "40\n",
      "50\n",
      "Simulation 1 Finished!!!-------------------------------\n",
      "10\n",
      "20\n",
      "30\n",
      "40\n",
      "50\n",
      "Simulation 2 Finished!!!-------------------------------\n",
      "10\n",
      "20\n",
      "30\n",
      "40\n",
      "50\n",
      "Simulation 3 Finished!!!-------------------------------\n",
      "10\n",
      "20\n",
      "30\n",
      "40\n",
      "50\n",
      "Simulation 4 Finished!!!-------------------------------\n",
      "10\n",
      "20\n",
      "30\n",
      "40\n",
      "50\n",
      "Simulation 5 Finished!!!-------------------------------\n",
      "10\n",
      "20\n",
      "30\n",
      "40\n",
      "50\n",
      "Simulation 6 Finished!!!-------------------------------\n",
      "10\n",
      "20\n",
      "30\n",
      "40\n",
      "50\n",
      "Simulation 7 Finished!!!-------------------------------\n",
      "10\n",
      "20\n",
      "30\n",
      "40\n",
      "50\n",
      "Simulation 8 Finished!!!-------------------------------\n",
      "10\n",
      "20\n",
      "30\n",
      "40\n",
      "50\n",
      "Simulation 9 Finished!!!-------------------------------\n",
      "10\n",
      "20\n",
      "30\n",
      "40\n",
      "50\n",
      "Simulation 10 Finished!!!-------------------------------\n",
      "10\n",
      "20\n",
      "30\n",
      "40\n",
      "50\n",
      "Simulation 11 Finished!!!-------------------------------\n",
      "10\n",
      "20\n",
      "30\n",
      "40\n",
      "50\n",
      "Simulation 12 Finished!!!-------------------------------\n",
      "10\n",
      "20\n",
      "30\n",
      "40\n",
      "50\n",
      "Simulation 13 Finished!!!-------------------------------\n",
      "10\n",
      "20\n",
      "30\n",
      "40\n",
      "50\n",
      "Simulation 14 Finished!!!-------------------------------\n",
      "10\n",
      "20\n",
      "30\n",
      "40\n",
      "50\n",
      "Simulation 15 Finished!!!-------------------------------\n",
      "10\n",
      "20\n",
      "30\n",
      "40\n",
      "50\n",
      "Simulation 16 Finished!!!-------------------------------\n",
      "10\n",
      "20\n",
      "30\n",
      "40\n",
      "50\n",
      "Simulation 17 Finished!!!-------------------------------\n",
      "10\n",
      "20\n",
      "30\n",
      "40\n",
      "50\n",
      "Simulation 18 Finished!!!-------------------------------\n",
      "10\n",
      "20\n",
      "30\n",
      "40\n",
      "50\n",
      "Simulation 19 Finished!!!-------------------------------\n"
     ]
    }
   ],
   "source": [
    "all_simulations = []\n",
    "\n",
    "for sim in range(20):\n",
    "    \n",
    "    S0 = NY_SEIR[\"S\"].tolist()  \n",
    "    E0 = NY_SEIR[\"E\"].tolist()  \n",
    "    I0 = NY_SEIR[\"I\"].tolist()   \n",
    "    R0 = NY_SEIR[\"R\"].tolist()\n",
    "    initial_conditions = S0 + E0 + I0 + R0 #this is the y (?): Yup!\n",
    "\n",
    "    result = stochastic_SIR(initial_conditions, 55, array)\n",
    "    print(\"Simulation\", sim, \"Finished!!!-------------------------------\")\n",
    "    \n",
    "    all_simulations.append(result)"
   ]
  },
  {
   "cell_type": "code",
   "execution_count": 75,
   "id": "d5a11205",
   "metadata": {},
   "outputs": [],
   "source": [
    "import pickle\n",
    "\n",
    "with open('20_simulations_P001_CA_agg.pkl', 'wb') as f:\n",
    "    pickle.dump(all_simulations, f)"
   ]
  },
  {
   "cell_type": "code",
   "execution_count": 110,
   "id": "249b9955",
   "metadata": {},
   "outputs": [],
   "source": []
  }
 ],
 "metadata": {
  "kernelspec": {
   "display_name": "Python 3 (ipykernel)",
   "language": "python",
   "name": "python3"
  },
  "language_info": {
   "codemirror_mode": {
    "name": "ipython",
    "version": 3
   },
   "file_extension": ".py",
   "mimetype": "text/x-python",
   "name": "python",
   "nbconvert_exporter": "python",
   "pygments_lexer": "ipython3",
   "version": "3.11.5"
  }
 },
 "nbformat": 4,
 "nbformat_minor": 5
}
