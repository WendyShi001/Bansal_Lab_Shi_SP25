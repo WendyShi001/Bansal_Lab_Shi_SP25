{
 "cells": [
  {
   "cell_type": "markdown",
   "id": "fd44766c",
   "metadata": {},
   "source": [
    "<h1><center> Individual Data Noise Creation <br><br> \n",
    "<center> Scikit Mobility and DB Noise<br><br> \n",
    "Wendy Shi</center></center>"
   ]
  },
  {
   "cell_type": "markdown",
   "id": "1778640b",
   "metadata": {},
   "source": [
    "# TOC\n",
    "\n",
    "- [County Level FIP](#County-Level-FIP-Code)\n",
    "- [Individual Data](#Individual-Data)\n",
    "- [Census Tract Shape File](#Census-Tract-Shape-File)\n",
    "- [Grouping](#Groupping)\n",
    "    - [DP Noise](#DP-Noise)\n",
    "    - [Home Location](#Home-Location)\n",
    "- [Computing Weight Matrix](#Computing-Weight-Matrix)"
   ]
  },
  {
   "cell_type": "markdown",
   "id": "eac9293b",
   "metadata": {},
   "source": [
    "# Preparation"
   ]
  },
  {
   "cell_type": "code",
   "execution_count": 1,
   "id": "ed6fb248",
   "metadata": {},
   "outputs": [],
   "source": [
    "#Preparation\n",
    "import pandas as pd\n",
    "import numpy as np\n",
    "import matplotlib.pyplot as plt\n",
    "import statistics"
   ]
  },
  {
   "cell_type": "markdown",
   "id": "e37482b3",
   "metadata": {},
   "source": [
    "# County Level FIP Code"
   ]
  },
  {
   "cell_type": "code",
   "execution_count": 2,
   "id": "bdd8c9bb",
   "metadata": {},
   "outputs": [
    {
     "name": "stdout",
     "output_type": "stream",
     "text": [
      "(2327, 4)\n"
     ]
    },
    {
     "data": {
      "text/html": [
       "<div>\n",
       "<style scoped>\n",
       "    .dataframe tbody tr th:only-of-type {\n",
       "        vertical-align: middle;\n",
       "    }\n",
       "\n",
       "    .dataframe tbody tr th {\n",
       "        vertical-align: top;\n",
       "    }\n",
       "\n",
       "    .dataframe thead th {\n",
       "        text-align: right;\n",
       "    }\n",
       "</style>\n",
       "<table border=\"1\" class=\"dataframe\">\n",
       "  <thead>\n",
       "    <tr style=\"text-align: right;\">\n",
       "      <th></th>\n",
       "      <th>S</th>\n",
       "      <th>E</th>\n",
       "      <th>I</th>\n",
       "      <th>R</th>\n",
       "    </tr>\n",
       "  </thead>\n",
       "  <tbody>\n",
       "    <tr>\n",
       "      <th>2324</th>\n",
       "      <td>42158</td>\n",
       "      <td>0</td>\n",
       "      <td>0</td>\n",
       "      <td>0</td>\n",
       "    </tr>\n",
       "    <tr>\n",
       "      <th>2325</th>\n",
       "      <td>23347</td>\n",
       "      <td>0</td>\n",
       "      <td>0</td>\n",
       "      <td>0</td>\n",
       "    </tr>\n",
       "    <tr>\n",
       "      <th>2326</th>\n",
       "      <td>20441</td>\n",
       "      <td>0</td>\n",
       "      <td>0</td>\n",
       "      <td>0</td>\n",
       "    </tr>\n",
       "  </tbody>\n",
       "</table>\n",
       "</div>"
      ],
      "text/plain": [
       "          S  E  I  R\n",
       "2324  42158  0  0  0\n",
       "2325  23347  0  0  0\n",
       "2326  20441  0  0  0"
      ]
     },
     "execution_count": 2,
     "metadata": {},
     "output_type": "execute_result"
    }
   ],
   "source": [
    "column_names = ['S', 'E', 'I', 'R']\n",
    "Seeding = pd.read_csv(\"../../Data/seed_1503_seed_corrected_undereporting_CDC_corrected_v3.txt\",\n",
    "                     delimiter=' ',\n",
    "                      names=column_names)\n",
    "print(Seeding.shape)\n",
    "Seeding.tail(3)"
   ]
  },
  {
   "cell_type": "code",
   "execution_count": 3,
   "id": "8253f72c",
   "metadata": {},
   "outputs": [
    {
     "name": "stdout",
     "output_type": "stream",
     "text": [
      "(2327, 1)\n"
     ]
    },
    {
     "data": {
      "text/html": [
       "<div>\n",
       "<style scoped>\n",
       "    .dataframe tbody tr th:only-of-type {\n",
       "        vertical-align: middle;\n",
       "    }\n",
       "\n",
       "    .dataframe tbody tr th {\n",
       "        vertical-align: top;\n",
       "    }\n",
       "\n",
       "    .dataframe thead th {\n",
       "        text-align: right;\n",
       "    }\n",
       "</style>\n",
       "<table border=\"1\" class=\"dataframe\">\n",
       "  <thead>\n",
       "    <tr style=\"text-align: right;\">\n",
       "      <th></th>\n",
       "      <th>GEO_ID</th>\n",
       "    </tr>\n",
       "  </thead>\n",
       "  <tbody>\n",
       "    <tr>\n",
       "      <th>2324</th>\n",
       "      <td>56037</td>\n",
       "    </tr>\n",
       "    <tr>\n",
       "      <th>2325</th>\n",
       "      <td>56039</td>\n",
       "    </tr>\n",
       "    <tr>\n",
       "      <th>2326</th>\n",
       "      <td>56041</td>\n",
       "    </tr>\n",
       "  </tbody>\n",
       "</table>\n",
       "</div>"
      ],
      "text/plain": [
       "      GEO_ID\n",
       "2324   56037\n",
       "2325   56039\n",
       "2326   56041"
      ]
     },
     "execution_count": 3,
     "metadata": {},
     "output_type": "execute_result"
    }
   ],
   "source": [
    "node_dict = pd.read_csv(\"../../Data/nodes_considered.csv\")\n",
    "node_dict = node_dict.drop(columns = ['index'])\n",
    "print(node_dict.shape)\n",
    "node_dict.tail(3)"
   ]
  },
  {
   "cell_type": "code",
   "execution_count": 4,
   "id": "8e20bb11",
   "metadata": {},
   "outputs": [
    {
     "data": {
      "text/html": [
       "<div>\n",
       "<style scoped>\n",
       "    .dataframe tbody tr th:only-of-type {\n",
       "        vertical-align: middle;\n",
       "    }\n",
       "\n",
       "    .dataframe tbody tr th {\n",
       "        vertical-align: top;\n",
       "    }\n",
       "\n",
       "    .dataframe thead th {\n",
       "        text-align: right;\n",
       "    }\n",
       "</style>\n",
       "<table border=\"1\" class=\"dataframe\">\n",
       "  <thead>\n",
       "    <tr style=\"text-align: right;\">\n",
       "      <th></th>\n",
       "      <th>GEO_ID</th>\n",
       "      <th>Population</th>\n",
       "    </tr>\n",
       "  </thead>\n",
       "  <tbody>\n",
       "    <tr>\n",
       "      <th>2322</th>\n",
       "      <td>56029</td>\n",
       "      <td>29656</td>\n",
       "    </tr>\n",
       "    <tr>\n",
       "      <th>2323</th>\n",
       "      <td>56033</td>\n",
       "      <td>30996</td>\n",
       "    </tr>\n",
       "    <tr>\n",
       "      <th>2324</th>\n",
       "      <td>56037</td>\n",
       "      <td>42158</td>\n",
       "    </tr>\n",
       "    <tr>\n",
       "      <th>2325</th>\n",
       "      <td>56039</td>\n",
       "      <td>23347</td>\n",
       "    </tr>\n",
       "    <tr>\n",
       "      <th>2326</th>\n",
       "      <td>56041</td>\n",
       "      <td>20441</td>\n",
       "    </tr>\n",
       "  </tbody>\n",
       "</table>\n",
       "</div>"
      ],
      "text/plain": [
       "      GEO_ID  Population\n",
       "2322   56029       29656\n",
       "2323   56033       30996\n",
       "2324   56037       42158\n",
       "2325   56039       23347\n",
       "2326   56041       20441"
      ]
     },
     "execution_count": 4,
     "metadata": {},
     "output_type": "execute_result"
    }
   ],
   "source": [
    "node_dict['Population'] = Seeding['S']\n",
    "node_dict.tail(5)"
   ]
  },
  {
   "cell_type": "code",
   "execution_count": 5,
   "id": "b92abd1b",
   "metadata": {},
   "outputs": [
    {
     "name": "stdout",
     "output_type": "stream",
     "text": [
      "(2327, 2)\n"
     ]
    },
    {
     "data": {
      "text/html": [
       "<div>\n",
       "<style scoped>\n",
       "    .dataframe tbody tr th:only-of-type {\n",
       "        vertical-align: middle;\n",
       "    }\n",
       "\n",
       "    .dataframe tbody tr th {\n",
       "        vertical-align: top;\n",
       "    }\n",
       "\n",
       "    .dataframe thead th {\n",
       "        text-align: right;\n",
       "    }\n",
       "</style>\n",
       "<table border=\"1\" class=\"dataframe\">\n",
       "  <thead>\n",
       "    <tr style=\"text-align: right;\">\n",
       "      <th></th>\n",
       "      <th>GEOID</th>\n",
       "      <th>Population</th>\n",
       "    </tr>\n",
       "  </thead>\n",
       "  <tbody>\n",
       "    <tr>\n",
       "      <th>0</th>\n",
       "      <td>01001</td>\n",
       "      <td>58877</td>\n",
       "    </tr>\n",
       "    <tr>\n",
       "      <th>1</th>\n",
       "      <td>01003</td>\n",
       "      <td>233140</td>\n",
       "    </tr>\n",
       "    <tr>\n",
       "      <th>2</th>\n",
       "      <td>01005</td>\n",
       "      <td>25180</td>\n",
       "    </tr>\n",
       "  </tbody>\n",
       "</table>\n",
       "</div>"
      ],
      "text/plain": [
       "   GEOID  Population\n",
       "0  01001       58877\n",
       "1  01003      233140\n",
       "2  01005       25180"
      ]
     },
     "execution_count": 5,
     "metadata": {},
     "output_type": "execute_result"
    }
   ],
   "source": [
    "#Check if node dictionary size equals to size of E, and see if they all have population larger than 11,000\n",
    "desired = node_dict[node_dict['Population'] > 11000]\n",
    "print(desired.shape)\n",
    "\n",
    "node_dict[\"GEO_ID\"] = node_dict[\"GEO_ID\"].apply(lambda x: f\"{int(x):05d}\")\n",
    "\n",
    "#rename column\n",
    "rename = {'GEO_ID' : 'GEOID'}\n",
    "node_dict = node_dict.rename(columns = rename)\n",
    "node_dict.head(3)"
   ]
  },
  {
   "cell_type": "code",
   "execution_count": 6,
   "id": "99825a6e",
   "metadata": {
    "scrolled": true
   },
   "outputs": [
    {
     "data": {
      "text/html": [
       "<div>\n",
       "<style scoped>\n",
       "    .dataframe tbody tr th:only-of-type {\n",
       "        vertical-align: middle;\n",
       "    }\n",
       "\n",
       "    .dataframe tbody tr th {\n",
       "        vertical-align: top;\n",
       "    }\n",
       "\n",
       "    .dataframe thead th {\n",
       "        text-align: right;\n",
       "    }\n",
       "</style>\n",
       "<table border=\"1\" class=\"dataframe\">\n",
       "  <thead>\n",
       "    <tr style=\"text-align: right;\">\n",
       "      <th></th>\n",
       "      <th>GEOID</th>\n",
       "      <th>Population</th>\n",
       "      <th>state</th>\n",
       "      <th>index</th>\n",
       "    </tr>\n",
       "  </thead>\n",
       "  <tbody>\n",
       "    <tr>\n",
       "      <th>0</th>\n",
       "      <td>01001</td>\n",
       "      <td>58877</td>\n",
       "      <td>01</td>\n",
       "      <td>0</td>\n",
       "    </tr>\n",
       "    <tr>\n",
       "      <th>1</th>\n",
       "      <td>01003</td>\n",
       "      <td>233140</td>\n",
       "      <td>01</td>\n",
       "      <td>1</td>\n",
       "    </tr>\n",
       "    <tr>\n",
       "      <th>2</th>\n",
       "      <td>01005</td>\n",
       "      <td>25180</td>\n",
       "      <td>01</td>\n",
       "      <td>2</td>\n",
       "    </tr>\n",
       "  </tbody>\n",
       "</table>\n",
       "</div>"
      ],
      "text/plain": [
       "   GEOID  Population state  index\n",
       "0  01001       58877    01      0\n",
       "1  01003      233140    01      1\n",
       "2  01005       25180    01      2"
      ]
     },
     "execution_count": 6,
     "metadata": {},
     "output_type": "execute_result"
    }
   ],
   "source": [
    "node_dict['state'] = node_dict['GEOID'].str[:2]\n",
    "node_dict['index'] = range(len(node_dict))\n",
    "node_dict.head(3)"
   ]
  },
  {
   "cell_type": "code",
   "execution_count": 7,
   "id": "5902ae60",
   "metadata": {},
   "outputs": [
    {
     "name": "stdout",
     "output_type": "stream",
     "text": [
      "(67, 4)\n"
     ]
    },
    {
     "data": {
      "text/html": [
       "<div>\n",
       "<style scoped>\n",
       "    .dataframe tbody tr th:only-of-type {\n",
       "        vertical-align: middle;\n",
       "    }\n",
       "\n",
       "    .dataframe tbody tr th {\n",
       "        vertical-align: top;\n",
       "    }\n",
       "\n",
       "    .dataframe thead th {\n",
       "        text-align: right;\n",
       "    }\n",
       "</style>\n",
       "<table border=\"1\" class=\"dataframe\">\n",
       "  <thead>\n",
       "    <tr style=\"text-align: right;\">\n",
       "      <th></th>\n",
       "      <th>GEOID</th>\n",
       "      <th>Population</th>\n",
       "      <th>state</th>\n",
       "      <th>index</th>\n",
       "    </tr>\n",
       "  </thead>\n",
       "  <tbody>\n",
       "    <tr>\n",
       "      <th>2245</th>\n",
       "      <td>55001</td>\n",
       "      <td>20673</td>\n",
       "      <td>55</td>\n",
       "      <td>2245</td>\n",
       "    </tr>\n",
       "    <tr>\n",
       "      <th>2246</th>\n",
       "      <td>55003</td>\n",
       "      <td>15977</td>\n",
       "      <td>55</td>\n",
       "      <td>2246</td>\n",
       "    </tr>\n",
       "    <tr>\n",
       "      <th>2247</th>\n",
       "      <td>55005</td>\n",
       "      <td>46643</td>\n",
       "      <td>55</td>\n",
       "      <td>2247</td>\n",
       "    </tr>\n",
       "  </tbody>\n",
       "</table>\n",
       "</div>"
      ],
      "text/plain": [
       "      GEOID  Population state  index\n",
       "2245  55001       20673    55   2245\n",
       "2246  55003       15977    55   2246\n",
       "2247  55005       46643    55   2247"
      ]
     },
     "execution_count": 7,
     "metadata": {},
     "output_type": "execute_result"
    }
   ],
   "source": [
    "wisconsin = node_dict[node_dict['state'] == '55']\n",
    "\n",
    "#Index list--------------This is the one that check if weight matrix is in the same order as SEIR initial condition\n",
    "E_wi_index = wisconsin['GEOID'].to_list()\n",
    "\n",
    "#Population list\n",
    "pop_list = wisconsin['Population'].tolist()\n",
    "\n",
    "#Print the dataset\n",
    "print(wisconsin.shape)\n",
    "wisconsin.head(3)"
   ]
  },
  {
   "cell_type": "code",
   "execution_count": 8,
   "id": "fb09c22e",
   "metadata": {},
   "outputs": [
    {
     "name": "stdout",
     "output_type": "stream",
     "text": [
      "[2245, 2246, 2247, 2248, 2249, 2250, 2251, 2252, 2253, 2254, 2255, 2256, 2257, 2258, 2259, 2260, 2261, 2262, 2263, 2264, 2265, 2266, 2267, 2268, 2269, 2270, 2271, 2272, 2273, 2274, 2275, 2276, 2277, 2278, 2279, 2280, 2281, 2282, 2283, 2284, 2285, 2286, 2287, 2288, 2289, 2290, 2291, 2292, 2293, 2294, 2295, 2296, 2297, 2298, 2299, 2300, 2301, 2302, 2303, 2304, 2305, 2306, 2307, 2308, 2309, 2310, 2311]\n"
     ]
    }
   ],
   "source": [
    "index = wisconsin['index'].tolist()\n",
    "print(index)"
   ]
  },
  {
   "cell_type": "markdown",
   "id": "bd221031",
   "metadata": {},
   "source": [
    "# Original Matrix for reference"
   ]
  },
  {
   "cell_type": "code",
   "execution_count": 9,
   "id": "7acc6ce1",
   "metadata": {},
   "outputs": [],
   "source": [
    "#Open the 12 weight matrix\n",
    "column_names = ['origin', 'destination', 'count', 'weight']\n",
    "for i in range(12):\n",
    "    n = i +1\n",
    "    \n",
    "    df = pd.read_csv(f\"../../Data/monthly_matrix_sd_county_month{n}_county.txt\", \n",
    "                     delimiter=' ', names=column_names)\n",
    "    \n",
    "    #Making sure all origin and destination are states in New York\n",
    "    df = df[(df['origin'].isin(index)) & (df['destination'].isin(index))]\n",
    "    \n",
    "    # Store the modified DataFrame\n",
    "    globals()[f'wt_mt{n}'] = df"
   ]
  },
  {
   "cell_type": "code",
   "execution_count": 10,
   "id": "22cd2d7b",
   "metadata": {},
   "outputs": [
    {
     "data": {
      "text/html": [
       "<div>\n",
       "<style scoped>\n",
       "    .dataframe tbody tr th:only-of-type {\n",
       "        vertical-align: middle;\n",
       "    }\n",
       "\n",
       "    .dataframe tbody tr th {\n",
       "        vertical-align: top;\n",
       "    }\n",
       "\n",
       "    .dataframe thead th {\n",
       "        text-align: right;\n",
       "    }\n",
       "</style>\n",
       "<table border=\"1\" class=\"dataframe\">\n",
       "  <thead>\n",
       "    <tr style=\"text-align: right;\">\n",
       "      <th></th>\n",
       "      <th>origin</th>\n",
       "      <th>destination</th>\n",
       "      <th>count</th>\n",
       "      <th>weight</th>\n",
       "    </tr>\n",
       "  </thead>\n",
       "  <tbody>\n",
       "    <tr>\n",
       "      <th>307170</th>\n",
       "      <td>2245</td>\n",
       "      <td>2255</td>\n",
       "      <td>12</td>\n",
       "      <td>0.034272</td>\n",
       "    </tr>\n",
       "    <tr>\n",
       "      <th>307171</th>\n",
       "      <td>2246</td>\n",
       "      <td>2255</td>\n",
       "      <td>12</td>\n",
       "      <td>0.001201</td>\n",
       "    </tr>\n",
       "    <tr>\n",
       "      <th>307172</th>\n",
       "      <td>2247</td>\n",
       "      <td>2255</td>\n",
       "      <td>12</td>\n",
       "      <td>0.000652</td>\n",
       "    </tr>\n",
       "  </tbody>\n",
       "</table>\n",
       "</div>"
      ],
      "text/plain": [
       "        origin  destination  count    weight\n",
       "307170    2245         2255     12  0.034272\n",
       "307171    2246         2255     12  0.001201\n",
       "307172    2247         2255     12  0.000652"
      ]
     },
     "execution_count": 10,
     "metadata": {},
     "output_type": "execute_result"
    }
   ],
   "source": [
    "wt_mt12.head(3)"
   ]
  },
  {
   "cell_type": "code",
   "execution_count": 11,
   "id": "dcc4694b",
   "metadata": {},
   "outputs": [],
   "source": [
    "#Turn each data into a matrix\n",
    "#Transform the dataframe to a matrix with pivot table\n",
    "for i in range(12):\n",
    "    n = i+1\n",
    "    matrix = globals()[f'wt_mt{n}'].pivot_table(index='origin', \n",
    "                                                columns='destination', \n",
    "                                                values= 'weight', fill_value=0)\n",
    "    matrix = matrix.reset_index()\n",
    "    matrix = matrix.drop(columns = [\"origin\"]) #drop the origin column\n",
    "    globals()[f'matrix{n}'] = matrix"
   ]
  },
  {
   "cell_type": "code",
   "execution_count": 12,
   "id": "8a2559b0",
   "metadata": {},
   "outputs": [],
   "source": [
    "for i in range(12):\n",
    "    n = i +1\n",
    "    count_df = globals()[f'matrix{n}'].multiply(pop_list, axis=0)\n",
    "    globals()[f'count_df{n}'] = count_df"
   ]
  },
  {
   "cell_type": "code",
   "execution_count": 13,
   "id": "005f1200",
   "metadata": {},
   "outputs": [
    {
     "name": "stdout",
     "output_type": "stream",
     "text": [
      "(67, 67)\n"
     ]
    },
    {
     "data": {
      "text/html": [
       "<div>\n",
       "<style scoped>\n",
       "    .dataframe tbody tr th:only-of-type {\n",
       "        vertical-align: middle;\n",
       "    }\n",
       "\n",
       "    .dataframe tbody tr th {\n",
       "        vertical-align: top;\n",
       "    }\n",
       "\n",
       "    .dataframe thead th {\n",
       "        text-align: right;\n",
       "    }\n",
       "</style>\n",
       "<table border=\"1\" class=\"dataframe\">\n",
       "  <thead>\n",
       "    <tr style=\"text-align: right;\">\n",
       "      <th>destination</th>\n",
       "      <th>2245</th>\n",
       "      <th>2246</th>\n",
       "      <th>2247</th>\n",
       "      <th>2248</th>\n",
       "      <th>2249</th>\n",
       "      <th>2250</th>\n",
       "      <th>2251</th>\n",
       "      <th>2252</th>\n",
       "      <th>2253</th>\n",
       "      <th>2254</th>\n",
       "      <th>...</th>\n",
       "      <th>2302</th>\n",
       "      <th>2303</th>\n",
       "      <th>2304</th>\n",
       "      <th>2305</th>\n",
       "      <th>2306</th>\n",
       "      <th>2307</th>\n",
       "      <th>2308</th>\n",
       "      <th>2309</th>\n",
       "      <th>2310</th>\n",
       "      <th>2311</th>\n",
       "    </tr>\n",
       "  </thead>\n",
       "  <tbody>\n",
       "    <tr>\n",
       "      <th>0</th>\n",
       "      <td>9673.052937</td>\n",
       "      <td>8.162328</td>\n",
       "      <td>11.796554</td>\n",
       "      <td>7.871987</td>\n",
       "      <td>29.497926</td>\n",
       "      <td>9.365685</td>\n",
       "      <td>4.140227</td>\n",
       "      <td>20.037157</td>\n",
       "      <td>16.107175</td>\n",
       "      <td>13.515416</td>\n",
       "      <td>...</td>\n",
       "      <td>16.688009</td>\n",
       "      <td>18.905401</td>\n",
       "      <td>30.417285</td>\n",
       "      <td>8.967933</td>\n",
       "      <td>43.130300</td>\n",
       "      <td>97.217495</td>\n",
       "      <td>20.322076</td>\n",
       "      <td>303.240211</td>\n",
       "      <td>39.198856</td>\n",
       "      <td>998.110083</td>\n",
       "    </tr>\n",
       "    <tr>\n",
       "      <th>1</th>\n",
       "      <td>9.692306</td>\n",
       "      <td>8948.435975</td>\n",
       "      <td>50.944432</td>\n",
       "      <td>637.053110</td>\n",
       "      <td>39.071210</td>\n",
       "      <td>12.899256</td>\n",
       "      <td>16.518552</td>\n",
       "      <td>8.791647</td>\n",
       "      <td>21.782982</td>\n",
       "      <td>16.239812</td>\n",
       "      <td>...</td>\n",
       "      <td>11.174757</td>\n",
       "      <td>25.936058</td>\n",
       "      <td>21.006382</td>\n",
       "      <td>25.351507</td>\n",
       "      <td>16.347968</td>\n",
       "      <td>26.914088</td>\n",
       "      <td>15.072267</td>\n",
       "      <td>10.543590</td>\n",
       "      <td>22.697896</td>\n",
       "      <td>22.162232</td>\n",
       "    </tr>\n",
       "    <tr>\n",
       "      <th>2</th>\n",
       "      <td>14.266333</td>\n",
       "      <td>34.881470</td>\n",
       "      <td>31867.957956</td>\n",
       "      <td>44.420664</td>\n",
       "      <td>32.901986</td>\n",
       "      <td>25.263702</td>\n",
       "      <td>136.922895</td>\n",
       "      <td>10.649669</td>\n",
       "      <td>621.815089</td>\n",
       "      <td>34.045350</td>\n",
       "      <td>...</td>\n",
       "      <td>14.809613</td>\n",
       "      <td>15.404075</td>\n",
       "      <td>14.404283</td>\n",
       "      <td>796.772864</td>\n",
       "      <td>17.406194</td>\n",
       "      <td>28.563917</td>\n",
       "      <td>13.661593</td>\n",
       "      <td>12.295461</td>\n",
       "      <td>16.628103</td>\n",
       "      <td>29.817047</td>\n",
       "    </tr>\n",
       "  </tbody>\n",
       "</table>\n",
       "<p>3 rows × 67 columns</p>\n",
       "</div>"
      ],
      "text/plain": [
       "destination         2245         2246          2247        2248       2249  \\\n",
       "0            9673.052937     8.162328     11.796554    7.871987  29.497926   \n",
       "1               9.692306  8948.435975     50.944432  637.053110  39.071210   \n",
       "2              14.266333    34.881470  31867.957956   44.420664  32.901986   \n",
       "\n",
       "destination       2250        2251       2252        2253       2254  ...  \\\n",
       "0             9.365685    4.140227  20.037157   16.107175  13.515416  ...   \n",
       "1            12.899256   16.518552   8.791647   21.782982  16.239812  ...   \n",
       "2            25.263702  136.922895  10.649669  621.815089  34.045350  ...   \n",
       "\n",
       "destination       2302       2303       2304        2305       2306  \\\n",
       "0            16.688009  18.905401  30.417285    8.967933  43.130300   \n",
       "1            11.174757  25.936058  21.006382   25.351507  16.347968   \n",
       "2            14.809613  15.404075  14.404283  796.772864  17.406194   \n",
       "\n",
       "destination       2307       2308        2309       2310        2311  \n",
       "0            97.217495  20.322076  303.240211  39.198856  998.110083  \n",
       "1            26.914088  15.072267   10.543590  22.697896   22.162232  \n",
       "2            28.563917  13.661593   12.295461  16.628103   29.817047  \n",
       "\n",
       "[3 rows x 67 columns]"
      ]
     },
     "execution_count": 13,
     "metadata": {},
     "output_type": "execute_result"
    }
   ],
   "source": [
    "average_count_df = sum(globals()[f'count_df{i}'] for i in range(1, 13)) / 12\n",
    "print(average_count_df.shape)\n",
    "average_count_df.head(3)"
   ]
  },
  {
   "cell_type": "code",
   "execution_count": 14,
   "id": "f9174c2b",
   "metadata": {},
   "outputs": [
    {
     "data": {
      "text/html": [
       "<div>\n",
       "<style scoped>\n",
       "    .dataframe tbody tr th:only-of-type {\n",
       "        vertical-align: middle;\n",
       "    }\n",
       "\n",
       "    .dataframe tbody tr th {\n",
       "        vertical-align: top;\n",
       "    }\n",
       "\n",
       "    .dataframe thead th {\n",
       "        text-align: right;\n",
       "    }\n",
       "</style>\n",
       "<table border=\"1\" class=\"dataframe\">\n",
       "  <thead>\n",
       "    <tr style=\"text-align: right;\">\n",
       "      <th>destination</th>\n",
       "      <th>2245</th>\n",
       "      <th>2246</th>\n",
       "      <th>2247</th>\n",
       "      <th>2248</th>\n",
       "      <th>2249</th>\n",
       "      <th>2250</th>\n",
       "      <th>2251</th>\n",
       "      <th>2252</th>\n",
       "      <th>2253</th>\n",
       "      <th>2254</th>\n",
       "      <th>...</th>\n",
       "      <th>2302</th>\n",
       "      <th>2303</th>\n",
       "      <th>2304</th>\n",
       "      <th>2305</th>\n",
       "      <th>2306</th>\n",
       "      <th>2307</th>\n",
       "      <th>2308</th>\n",
       "      <th>2309</th>\n",
       "      <th>2310</th>\n",
       "      <th>2311</th>\n",
       "    </tr>\n",
       "  </thead>\n",
       "  <tbody>\n",
       "    <tr>\n",
       "      <th>0</th>\n",
       "      <td>0.616262</td>\n",
       "      <td>0.000520</td>\n",
       "      <td>0.000752</td>\n",
       "      <td>0.000502</td>\n",
       "      <td>0.001879</td>\n",
       "      <td>0.000597</td>\n",
       "      <td>0.000264</td>\n",
       "      <td>0.001277</td>\n",
       "      <td>0.001026</td>\n",
       "      <td>0.000861</td>\n",
       "      <td>...</td>\n",
       "      <td>0.001063</td>\n",
       "      <td>0.001204</td>\n",
       "      <td>0.001938</td>\n",
       "      <td>0.000571</td>\n",
       "      <td>0.002748</td>\n",
       "      <td>0.006194</td>\n",
       "      <td>0.001295</td>\n",
       "      <td>0.019319</td>\n",
       "      <td>0.002497</td>\n",
       "      <td>0.063589</td>\n",
       "    </tr>\n",
       "    <tr>\n",
       "      <th>1</th>\n",
       "      <td>0.000855</td>\n",
       "      <td>0.789798</td>\n",
       "      <td>0.004496</td>\n",
       "      <td>0.056227</td>\n",
       "      <td>0.003448</td>\n",
       "      <td>0.001139</td>\n",
       "      <td>0.001458</td>\n",
       "      <td>0.000776</td>\n",
       "      <td>0.001923</td>\n",
       "      <td>0.001433</td>\n",
       "      <td>...</td>\n",
       "      <td>0.000986</td>\n",
       "      <td>0.002289</td>\n",
       "      <td>0.001854</td>\n",
       "      <td>0.002238</td>\n",
       "      <td>0.001443</td>\n",
       "      <td>0.002375</td>\n",
       "      <td>0.001330</td>\n",
       "      <td>0.000931</td>\n",
       "      <td>0.002003</td>\n",
       "      <td>0.001956</td>\n",
       "    </tr>\n",
       "    <tr>\n",
       "      <th>2</th>\n",
       "      <td>0.000376</td>\n",
       "      <td>0.000918</td>\n",
       "      <td>0.838874</td>\n",
       "      <td>0.001169</td>\n",
       "      <td>0.000866</td>\n",
       "      <td>0.000665</td>\n",
       "      <td>0.003604</td>\n",
       "      <td>0.000280</td>\n",
       "      <td>0.016368</td>\n",
       "      <td>0.000896</td>\n",
       "      <td>...</td>\n",
       "      <td>0.000390</td>\n",
       "      <td>0.000405</td>\n",
       "      <td>0.000379</td>\n",
       "      <td>0.020974</td>\n",
       "      <td>0.000458</td>\n",
       "      <td>0.000752</td>\n",
       "      <td>0.000360</td>\n",
       "      <td>0.000324</td>\n",
       "      <td>0.000438</td>\n",
       "      <td>0.000785</td>\n",
       "    </tr>\n",
       "  </tbody>\n",
       "</table>\n",
       "<p>3 rows × 67 columns</p>\n",
       "</div>"
      ],
      "text/plain": [
       "destination      2245      2246      2247      2248      2249      2250  \\\n",
       "0            0.616262  0.000520  0.000752  0.000502  0.001879  0.000597   \n",
       "1            0.000855  0.789798  0.004496  0.056227  0.003448  0.001139   \n",
       "2            0.000376  0.000918  0.838874  0.001169  0.000866  0.000665   \n",
       "\n",
       "destination      2251      2252      2253      2254  ...      2302      2303  \\\n",
       "0            0.000264  0.001277  0.001026  0.000861  ...  0.001063  0.001204   \n",
       "1            0.001458  0.000776  0.001923  0.001433  ...  0.000986  0.002289   \n",
       "2            0.003604  0.000280  0.016368  0.000896  ...  0.000390  0.000405   \n",
       "\n",
       "destination      2304      2305      2306      2307      2308      2309  \\\n",
       "0            0.001938  0.000571  0.002748  0.006194  0.001295  0.019319   \n",
       "1            0.001854  0.002238  0.001443  0.002375  0.001330  0.000931   \n",
       "2            0.000379  0.020974  0.000458  0.000752  0.000360  0.000324   \n",
       "\n",
       "destination      2310      2311  \n",
       "0            0.002497  0.063589  \n",
       "1            0.002003  0.001956  \n",
       "2            0.000438  0.000785  \n",
       "\n",
       "[3 rows x 67 columns]"
      ]
     },
     "execution_count": 14,
     "metadata": {},
     "output_type": "execute_result"
    }
   ],
   "source": [
    "#Turn count to weight\n",
    "divisor = [average_count_df.iloc[i].sum() for i in range(67)]\n",
    "average_wt_mt = average_count_df.div(divisor, axis=0)\n",
    "average_wt_mt.head(3)"
   ]
  },
  {
   "cell_type": "code",
   "execution_count": 15,
   "id": "c5022125",
   "metadata": {},
   "outputs": [],
   "source": [
    "average_wt_mt_np = average_wt_mt.to_numpy()"
   ]
  },
  {
   "cell_type": "code",
   "execution_count": 16,
   "id": "77231a7f",
   "metadata": {},
   "outputs": [
    {
     "data": {
      "text/plain": [
       "0.616262172884958"
      ]
     },
     "execution_count": 16,
     "metadata": {},
     "output_type": "execute_result"
    }
   ],
   "source": [
    "average_wt_mt_np[0][0]"
   ]
  },
  {
   "cell_type": "code",
   "execution_count": 17,
   "id": "e477a7b0",
   "metadata": {},
   "outputs": [],
   "source": [
    "Pii_ori = [average_wt_mt_np[i][i] for i in range(67)]"
   ]
  },
  {
   "cell_type": "code",
   "execution_count": 18,
   "id": "c05e1d72",
   "metadata": {},
   "outputs": [
    {
     "name": "stdout",
     "output_type": "stream",
     "text": [
      "Mean: 0.761600488841764\n",
      "Median: 0.7635740517210533\n",
      "Min: 0.6015341170934505\n",
      "Max: 0.9200252642869884\n",
      "Length of the list: 67\n"
     ]
    }
   ],
   "source": [
    "data = Pii_ori \n",
    "mean_value = sum(data) / len(data)  # Mean\n",
    "median_value = statistics.median(data)  # Median\n",
    "min_value = min(data)  # Min\n",
    "max_value = max(data)  # Max\n",
    "\n",
    "# Output\n",
    "print(f\"Mean: {mean_value}\")\n",
    "print(f\"Median: {median_value}\")\n",
    "print(f\"Min: {min_value}\")\n",
    "print(f\"Max: {max_value}\")\n",
    "print(f\"Length of the list: {len(Pii_ori)}\")"
   ]
  },
  {
   "cell_type": "markdown",
   "id": "1b5d57f4",
   "metadata": {},
   "source": [
    "# Individual Data"
   ]
  },
  {
   "cell_type": "markdown",
   "id": "1a90d7f3",
   "metadata": {},
   "source": [
    "## Different Layers of Census Data\n",
    "\n",
    "- State (2 digit)\n",
    "- County (5 digit)\n",
    "- Census Tracts (4 digits)\n",
    "- Census Block Groups\n",
    "- Census tracts"
   ]
  },
  {
   "cell_type": "code",
   "execution_count": 19,
   "id": "66114035",
   "metadata": {},
   "outputs": [
    {
     "name": "stdout",
     "output_type": "stream",
     "text": [
      "(4690626, 4)\n"
     ]
    },
    {
     "data": {
      "text/html": [
       "<div>\n",
       "<style scoped>\n",
       "    .dataframe tbody tr th:only-of-type {\n",
       "        vertical-align: middle;\n",
       "    }\n",
       "\n",
       "    .dataframe tbody tr th {\n",
       "        vertical-align: top;\n",
       "    }\n",
       "\n",
       "    .dataframe thead th {\n",
       "        text-align: right;\n",
       "    }\n",
       "</style>\n",
       "<table border=\"1\" class=\"dataframe\">\n",
       "  <thead>\n",
       "    <tr style=\"text-align: right;\">\n",
       "      <th></th>\n",
       "      <th>uid</th>\n",
       "      <th>datetime</th>\n",
       "      <th>lat</th>\n",
       "      <th>lng</th>\n",
       "    </tr>\n",
       "  </thead>\n",
       "  <tbody>\n",
       "    <tr>\n",
       "      <th>0</th>\n",
       "      <td>1</td>\n",
       "      <td>2020-03-01 00:00:00.000000</td>\n",
       "      <td>44.249624</td>\n",
       "      <td>-88.409313</td>\n",
       "    </tr>\n",
       "    <tr>\n",
       "      <th>1</th>\n",
       "      <td>1</td>\n",
       "      <td>2020-03-01 00:28:14.055734</td>\n",
       "      <td>44.247095</td>\n",
       "      <td>-88.418595</td>\n",
       "    </tr>\n",
       "    <tr>\n",
       "      <th>2</th>\n",
       "      <td>1</td>\n",
       "      <td>2020-03-01 00:59:01.440932</td>\n",
       "      <td>44.249624</td>\n",
       "      <td>-88.409313</td>\n",
       "    </tr>\n",
       "    <tr>\n",
       "      <th>3</th>\n",
       "      <td>1</td>\n",
       "      <td>2020-03-01 01:23:36.368069</td>\n",
       "      <td>44.247095</td>\n",
       "      <td>-88.418595</td>\n",
       "    </tr>\n",
       "    <tr>\n",
       "      <th>4</th>\n",
       "      <td>1</td>\n",
       "      <td>2020-03-01 01:52:29.430108</td>\n",
       "      <td>44.249055</td>\n",
       "      <td>-88.427641</td>\n",
       "    </tr>\n",
       "  </tbody>\n",
       "</table>\n",
       "</div>"
      ],
      "text/plain": [
       "   uid                    datetime        lat        lng\n",
       "0    1  2020-03-01 00:00:00.000000  44.249624 -88.409313\n",
       "1    1  2020-03-01 00:28:14.055734  44.247095 -88.418595\n",
       "2    1  2020-03-01 00:59:01.440932  44.249624 -88.409313\n",
       "3    1  2020-03-01 01:23:36.368069  44.247095 -88.418595\n",
       "4    1  2020-03-01 01:52:29.430108  44.249055 -88.427641"
      ]
     },
     "execution_count": 19,
     "metadata": {},
     "output_type": "execute_result"
    }
   ],
   "source": [
    "data = pd.read_csv(\"WI_4Week_10000_realpop.csv\")\n",
    "data = data.drop(columns = 'Unnamed: 0')\n",
    "print(data.shape)\n",
    "data.head()"
   ]
  },
  {
   "cell_type": "code",
   "execution_count": 20,
   "id": "c4fc41d0",
   "metadata": {},
   "outputs": [],
   "source": [
    "indi_visit_list = []\n",
    "for i in range(10000):\n",
    "    id_num = i+1\n",
    "    #if i % 4000 == 0:\n",
    "    #    print(i)\n",
    "    indi_sub = data[data['uid'] == id_num]\n",
    "    length = len(indi_sub)\n",
    "    indi_visit_list.append(length)"
   ]
  },
  {
   "cell_type": "code",
   "execution_count": 21,
   "id": "eff5e607",
   "metadata": {},
   "outputs": [
    {
     "data": {
      "image/png": "[encoded data removed]",
      "text/plain": [
       "<Figure size 640x480 with 1 Axes>"
      ]
     },
     "metadata": {},
     "output_type": "display_data"
    },
    {
     "name": "stdout",
     "output_type": "stream",
     "text": [
      "Min: 314\n",
      "5%: 402.0\n",
      "Median: 470.0\n",
      "95%: 532.0\n",
      "Max: 604\n"
     ]
    }
   ],
   "source": [
    "import seaborn as sns\n",
    "import matplotlib.pyplot as plt\n",
    "\n",
    "sns.kdeplot(indi_visit_list, fill=True)\n",
    "plt.xlabel('Total visit')\n",
    "plt.ylabel('Density')\n",
    "plt.title('Density Plot')\n",
    "plt.show()\n",
    "\n",
    "min_val = np.min(indi_visit_list)\n",
    "P5 = np.percentile(indi_visit_list, 5)\n",
    "median = np.median(indi_visit_list)\n",
    "P95 = np.percentile(indi_visit_list, 95)\n",
    "max_val = np.max(indi_visit_list)\n",
    "\n",
    "print(f\"Min: {min_val}\")\n",
    "print(f\"5%: {P5}\")\n",
    "print(f\"Median: {median}\")\n",
    "print(f\"95%: {P95}\")\n",
    "print(f\"Max: {max_val}\")"
   ]
  },
  {
   "cell_type": "markdown",
   "id": "e0330a82",
   "metadata": {},
   "source": [
    "# Census Tract Shape File"
   ]
  },
  {
   "cell_type": "markdown",
   "id": "40c271c9",
   "metadata": {},
   "source": [
    "https://www.census.gov/geographies/mapping-files/time-series/geo/tiger-line-file.html\n",
    "- Go to Data\n",
    "- Mapping file\n",
    "- TIGER/Line Geodatabases (GIS)\n",
    "\n",
    "\n",
    "Here's the county level shape file:\n",
    "https://www.census.gov/geographies/mapping-files/time-series/geo/carto-boundary-file.html"
   ]
  },
  {
   "cell_type": "code",
   "execution_count": 23,
   "id": "2ccabdff",
   "metadata": {},
   "outputs": [],
   "source": [
    "#Note that geopandas only works in ipykernel environment\n",
    "import geopandas as gpd\n",
    "from shapely.geometry import Point\n",
    "from shapely.wkt import loads"
   ]
  },
  {
   "cell_type": "markdown",
   "id": "dbd72bc1",
   "metadata": {},
   "source": [
    "## trying census block group this time!"
   ]
  },
  {
   "cell_type": "code",
   "execution_count": 24,
   "id": "aeabba46",
   "metadata": {},
   "outputs": [
    {
     "name": "stdout",
     "output_type": "stream",
     "text": [
      "Index(['GEOID', 'geometry'], dtype='object')\n",
      "(4692, 2)\n"
     ]
    },
    {
     "data": {
      "text/html": [
       "<div>\n",
       "<style scoped>\n",
       "    .dataframe tbody tr th:only-of-type {\n",
       "        vertical-align: middle;\n",
       "    }\n",
       "\n",
       "    .dataframe tbody tr th {\n",
       "        vertical-align: top;\n",
       "    }\n",
       "\n",
       "    .dataframe thead th {\n",
       "        text-align: right;\n",
       "    }\n",
       "</style>\n",
       "<table border=\"1\" class=\"dataframe\">\n",
       "  <thead>\n",
       "    <tr style=\"text-align: right;\">\n",
       "      <th></th>\n",
       "      <th>GEOID</th>\n",
       "      <th>geometry</th>\n",
       "    </tr>\n",
       "  </thead>\n",
       "  <tbody>\n",
       "    <tr>\n",
       "      <th>0</th>\n",
       "      <td>551332016003</td>\n",
       "      <td>POLYGON ((-88.19888 42.93020, -88.19884 42.930...</td>\n",
       "    </tr>\n",
       "  </tbody>\n",
       "</table>\n",
       "</div>"
      ],
      "text/plain": [
       "          GEOID                                           geometry\n",
       "0  551332016003  POLYGON ((-88.19888 42.93020, -88.19884 42.930..."
      ]
     },
     "execution_count": 24,
     "metadata": {},
     "output_type": "execute_result"
    }
   ],
   "source": [
    "#url = \"https://www2.census.gov/geo/tiger/TIGER2020/BG/tl_2020_53_bg.zip\"\n",
    "#tracts = gpd.read_file(url)[[\"GEOID\", \"geometry\"]]\n",
    "tracts = gpd.read_file(\"tl_2020_55_bg/tl_2020_55_bg.shp\")[[\"GEOID\", \"geometry\"]]\n",
    "print(tracts.columns)\n",
    "print(tracts.shape)\n",
    "tracts.head(1) "
   ]
  },
  {
   "cell_type": "code",
   "execution_count": 26,
   "id": "094284f0",
   "metadata": {},
   "outputs": [
    {
     "name": "stdout",
     "output_type": "stream",
     "text": [
      "(4655, 3)\n"
     ]
    },
    {
     "data": {
      "text/html": [
       "<div>\n",
       "<style scoped>\n",
       "    .dataframe tbody tr th:only-of-type {\n",
       "        vertical-align: middle;\n",
       "    }\n",
       "\n",
       "    .dataframe tbody tr th {\n",
       "        vertical-align: top;\n",
       "    }\n",
       "\n",
       "    .dataframe thead th {\n",
       "        text-align: right;\n",
       "    }\n",
       "</style>\n",
       "<table border=\"1\" class=\"dataframe\">\n",
       "  <thead>\n",
       "    <tr style=\"text-align: right;\">\n",
       "      <th></th>\n",
       "      <th>GEOID</th>\n",
       "      <th>geometry</th>\n",
       "      <th>County</th>\n",
       "    </tr>\n",
       "  </thead>\n",
       "  <tbody>\n",
       "    <tr>\n",
       "      <th>0</th>\n",
       "      <td>551332016003</td>\n",
       "      <td>POLYGON ((-88.19888 42.93020, -88.19884 42.930...</td>\n",
       "      <td>55133</td>\n",
       "    </tr>\n",
       "    <tr>\n",
       "      <th>1</th>\n",
       "      <td>551332015043</td>\n",
       "      <td>POLYGON ((-88.08879 42.92421, -88.08866 42.924...</td>\n",
       "      <td>55133</td>\n",
       "    </tr>\n",
       "    <tr>\n",
       "      <th>2</th>\n",
       "      <td>551332025004</td>\n",
       "      <td>POLYGON ((-88.22182 43.00307, -88.22180 43.003...</td>\n",
       "      <td>55133</td>\n",
       "    </tr>\n",
       "  </tbody>\n",
       "</table>\n",
       "</div>"
      ],
      "text/plain": [
       "          GEOID                                           geometry County\n",
       "0  551332016003  POLYGON ((-88.19888 42.93020, -88.19884 42.930...  55133\n",
       "1  551332015043  POLYGON ((-88.08879 42.92421, -88.08866 42.924...  55133\n",
       "2  551332025004  POLYGON ((-88.22182 43.00307, -88.22180 43.003...  55133"
      ]
     },
     "execution_count": 26,
     "metadata": {},
     "output_type": "execute_result"
    }
   ],
   "source": [
    "#Maing sure the shape file that we use to perform Geospacial join are all in countis of interest\n",
    "tracts['County'] = tracts['GEOID'].str[:5].copy()\n",
    "tracts = tracts[tracts['County'].isin(E_wi_index)]\n",
    "print(tracts.shape)\n",
    "tracts.head(3)"
   ]
  },
  {
   "cell_type": "code",
   "execution_count": 27,
   "id": "3d610447",
   "metadata": {},
   "outputs": [
    {
     "data": {
      "text/plain": [
       "67"
      ]
     },
     "execution_count": 27,
     "metadata": {},
     "output_type": "execute_result"
    }
   ],
   "source": [
    "len(tracts['County'].unique().tolist())"
   ]
  },
  {
   "cell_type": "code",
   "execution_count": 28,
   "id": "2b6b75f3",
   "metadata": {},
   "outputs": [
    {
     "data": {
      "text/plain": [
       "['55']"
      ]
     },
     "execution_count": 28,
     "metadata": {},
     "output_type": "execute_result"
    }
   ],
   "source": [
    "#To test if they are all New York Data\n",
    "test = tracts.copy()\n",
    "test['state'] = test['GEOID'].str[:2]\n",
    "unique_state = test['state'].unique().tolist()\n",
    "unique_state"
   ]
  },
  {
   "cell_type": "code",
   "execution_count": 29,
   "id": "e6b1ecd1",
   "metadata": {},
   "outputs": [
    {
     "data": {
      "image/svg+xml": [
       "<svg xmlns=\"http://www.w3.org/2000/svg\" xmlns:xlink=\"http://www.w3.org/1999/xlink\" width=\"100.0\" height=\"100.0\" viewBox=\"-91.93179124 44.90812776 0.196269479999998 0.10481748000000124\" preserveAspectRatio=\"xMinYMin meet\"><g transform=\"matrix(1,0,0,-1,0,89.921073)\"><path fill-rule=\"evenodd\" fill=\"#66cc99\" stroke=\"#555555\" stroke-width=\"0.00392538959999996\" opacity=\"0.6\" d=\"M -91.92448399999999,44.933592 L -91.924036,44.934613 L -91.923745,44.935119 L -91.92289199999999,44.936513999999995 L -91.92245199999999,44.936921999999996 L -91.922298,44.937066 L -91.921791,44.937756 L -91.920225,44.939689 L -91.91812999999999,44.942235 L -91.916467,44.944319 L -91.91587299999999,44.945063999999995 L -91.914264,44.947019 L -91.913249,44.947955 L -91.91192699999999,44.948730999999995 L -91.910471,44.949585 L -91.91031,44.94968 L -91.906875,44.951643 L -91.905891,44.952199 L -91.904454,44.953021 L -91.90136299999999,44.954788 L -91.901079,44.954955 L -91.89963499999999,44.955807 L -91.899422,44.955949 L -91.89876,44.956389 L -91.898187,44.95688 L -91.89758499999999,44.957431 L -91.89695499999999,44.958006999999995 L -91.89640399999999,44.958766 L -91.895766,44.959571 L -91.89549799999999,44.960048 L -91.89542499999999,44.960176999999995 L -91.89515,44.960667 L -91.894751,44.961618 L -91.894556,44.962438 L -91.894324,44.963713 L -91.894297,44.963864 L -91.894286,44.964715 L -91.894297,44.965582 L -91.894291,44.965953999999996 L -91.88968899999999,44.965945 L -91.888024,44.965942 L -91.887849,44.96595 L -91.887576,44.965962999999995 L -91.887517,44.965962999999995 L -91.886952,44.966007999999995 L -91.88605899999999,44.966121 L -91.884491,44.966333 L -91.883522,44.966462 L -91.883195,44.966514 L -91.882032,44.966696999999996 L -91.880656,44.966975999999995 L -91.879471,44.967228 L -91.878565,44.96749 L -91.87804899999999,44.967723 L -91.877397,44.968024 L -91.877168,44.968129999999995 L -91.876947,44.968232 L -91.876452,44.968484 L -91.876052,44.968678 L -91.875552,44.968869 L -91.875226,44.969153999999996 L -91.875057,44.969465 L -91.875035,44.969462 L -91.87484099999999,44.969432999999995 L -91.874634,44.969394 L -91.874472,44.969299 L -91.87406999999999,44.968954 L -91.87393399999999,44.969037 L -91.873688,44.969153 L -91.873527,44.969203 L -91.873064,44.969272 L -91.872725,44.969356 L -91.872333,44.969511999999995 L -91.872034,44.969673 L -91.871781,44.969833 L -91.871285,44.970234999999995 L -91.870881,44.970631 L -91.870646,44.971004 L -91.870502,44.971136 L -91.87030999999999,44.971257 L -91.869818,44.971463 L -91.86938699999999,44.971559 L -91.868831,44.971627999999995 L -91.867781,44.971712 L -91.86735,44.971803 L -91.867235,44.971852999999996 L -91.86711199999999,44.971956999999996 L -91.866834,44.972462 L -91.86677999999999,44.972527 L -91.86661199999999,44.97266 L -91.86641999999999,44.972732 L -91.86605,44.972789 L -91.86583399999999,44.972845 L -91.865512,44.973017 L -91.86504699999999,44.973468 L -91.86503599999999,44.973476 L -91.864863,44.973606 L -91.864589,44.973864 L -91.864285,44.974216 L -91.863678,44.975049999999996 L -91.863619,44.975224999999995 L -91.86363,44.975487 L -91.863609,44.97564 L -91.863405,44.975947999999995 L -91.86332999999999,44.976101 L -91.863348,44.976174 L -91.863354,44.976199 L -91.863441,44.976285999999995 L -91.863767,44.976403999999995 L -91.864048,44.976597999999996 L -91.864166,44.976704 L -91.86445499999999,44.976966999999995 L -91.864612,44.977067 L -91.86465,44.977091 L -91.864953,44.977182 L -91.865386,44.977201 L -91.86572699999999,44.977242 L -91.86597599999999,44.977339 L -91.86615499999999,44.977467999999995 L -91.86618,44.977495999999995 L -91.86625,44.977577 L -91.86627899999999,44.977646 L -91.866282,44.977697 L -91.866207,44.977807 L -91.866084,44.977900000000005 L -91.86599299999999,44.978004999999996 L -91.86598,44.978158 L -91.86605899999999,44.978283 L -91.8662,44.978401999999996 L -91.86638699999999,44.978488 L -91.86677499999999,44.978617 L -91.86713999999999,44.978739 L -91.867685,44.978992 L -91.868106,44.979278 L -91.868428,44.979625999999996 L -91.868619,44.980017 L -91.86867,44.980345 L -91.868866,44.981041999999995 L -91.868892,44.981210999999995 L -91.868871,44.981403 L -91.868904,44.981522999999996 L -91.86891399999999,44.981719 L -91.86890299999999,44.981784999999995 L -91.86887899999999,44.981938 L -91.86872799999999,44.982223 L -91.868477,44.982476 L -91.86840099999999,44.982606999999994 L -91.868473,44.98276 L -91.86856,44.982856999999996 L -91.868865,44.983117 L -91.869013,44.983215 L -91.869131,44.983329 L -91.869496,44.983965 L -91.869528,44.984074 L -91.86954899999999,44.984445 L -91.869536,44.98462 L -91.86943099999999,44.984949 L -91.86933499999999,44.985178 L -91.869259,44.985288 L -91.86907599999999,44.985464 L -91.86874,44.985729 L -91.868273,44.986038 L -91.867997,44.986191999999996 L -91.86771999999999,44.986309 L -91.867497,44.986376 L -91.86669599999999,44.986573 L -91.865955,44.986692999999995 L -91.865832,44.986737 L -91.865686,44.986815 L -91.865495,44.986964 L -91.865168,44.987348 L -91.865009,44.987459 L -91.8649,44.987536 L -91.863793,44.987997 L -91.86351599999999,44.98807 L -91.863208,44.988126 L -91.86268199999999,44.988119 L -91.862403,44.988056 L -91.861595,44.987794 L -91.860879,44.987482 L -91.860661,44.987407 L -91.860413,44.987348999999995 L -91.860258,44.987339 L -91.859911,44.987387 L -91.85968,44.987418999999996 L -91.859023,44.987446 L -91.858342,44.987407 L -91.857878,44.98741 L -91.857382,44.987353999999996 L -91.85713299999999,44.987241 L -91.85672699999999,44.986916 L -91.856625,44.986855999999996 L -91.856354,44.986765 L -91.856044,44.986723999999995 L -91.855826,44.986627 L -91.854941,44.985803 L -91.85476899999999,44.985706 L -91.854513,44.985631 L -91.85434599999999,44.985603 L -91.854265,44.985589999999995 L -91.85361499999999,44.985538999999996 L -91.853393,44.985546 L -91.852811,44.985566999999996 L -91.85204,44.985681 L -91.85163899999999,44.98581 L -91.851186,44.986031 L -91.850313,44.986571999999995 L -91.84988399999999,44.986864999999995 L -91.8495,44.987058999999995 L -91.84920000000001,44.987154 L -91.848737,44.987266 L -91.848367,44.987334 L -91.848182,44.987334999999995 L -91.848029,44.98735 L -91.84801499999999,44.987361 L -91.84793499999999,44.987381 L -91.84778899999999,44.987458 L -91.847759,44.987535 L -91.847776,44.9876 L -91.848136,44.987908999999995 L -91.84840299999999,44.988206999999996 L -91.84845299999999,44.988513 L -91.84840899999999,44.988687999999996 L -91.848333,44.988776 L -91.848096,44.988935999999995 L -91.84785,44.989025 L -91.847511,44.989109 L -91.846639,44.989256999999995 L -91.84639899999999,44.989259 L -91.84596499999999,44.989174 L -91.84591499999999,44.989174999999996 L -91.845872,44.989174999999996 L -91.84577999999999,44.989202999999996 L -91.84571199999999,44.989295999999996 L -91.845715,44.989515 L -91.845764,44.989689 L -91.845891,44.989928 L -91.846068,44.990429999999996 L -91.846335,44.990700000000004 L -91.84643,44.990795999999996 L -91.846577,44.990944999999996 L -91.846972,44.991447 L -91.847081,44.991597 L -91.847371,44.991862 L -91.847529,44.992058 L -91.847608,44.992232 L -91.847766,44.992411 L -91.84784499999999,44.992536 L -91.84792499999999,44.992776 L -91.847988,44.992889 L -91.847768,44.992934999999996 L -91.847562,44.992979 L -91.84754099999999,44.992920999999996 L -91.847225,44.992442 L -91.846982,44.992204 L -91.846717,44.992042 L -91.84639,44.991929 L -91.846374,44.991858 L -91.84641099999999,44.991771 L -91.84640999999999,44.991661 L -91.846323,44.991488 L -91.846111,44.991313999999996 L -91.845963,44.991239 L -91.845838,44.991209999999995 L -91.845823,44.991206999999996 L -91.845731,44.991206999999996 L -91.845699,44.991214 L -91.845576,44.991240999999995 L -91.845326,44.99136 L -91.845308,44.991369 L -91.84513199999999,44.991495 L -91.844674,44.991935 L -91.844337,44.992177999999996 L -91.844183,44.992261 L -91.843999,44.992311 L -91.843751,44.992312999999996 L -91.843379,44.992272 L -91.84322499999999,44.992273 L -91.84304,44.992312 L -91.842924,44.992357 L -91.84263299999999,44.992560999999995 L -91.842512,44.992692999999996 L -91.842297,44.992869 L -91.842044,44.993013 L -91.84163699999999,44.993179 L -91.84131699999999,44.993508999999996 L -91.841127,44.993773 L -91.84071399999999,44.994125 L -91.84037599999999,44.994264 L -91.840037,44.994326 L -91.839697,44.99435 L -91.83935699999999,44.994353 L -91.839109,44.994332 L -91.838644,44.994254 L -91.83827099999999,44.994113999999996 L -91.838146,44.994043999999995 L -91.837818,44.993801 L -91.837543,44.993524 L -91.837338,44.99322 L -91.837178,44.992805999999995 L -91.83702799999999,44.992632 L -91.836919,44.992545 L -91.836748,44.992447999999996 L -91.836452,44.992329999999995 L -91.836359,44.99232 L -91.836213,44.992359 L -91.835945,44.992574 L -91.83561499999999,44.992734 L -91.83496,44.992908 L -91.834713,44.992953 L -91.834097,44.993142999999996 L -91.83394299999999,44.993154999999994 L -91.83348,44.993246 L -91.832645,44.99324 L -91.83249099999999,44.993263 L -91.832151,44.993325999999996 L -91.831851,44.993448 L -91.831637,44.99358 L -91.831239,44.993916 L -91.83086399999999,44.994181 L -91.83037999999999,44.994445999999996 L -91.83006499999999,44.994563 L -91.82981799999999,44.994614 L -91.828929,44.994651999999995 L -91.828643,44.994654 L -91.82830299999999,44.994623999999995 L -91.828023,44.994544 L -91.82771199999999,44.994426 L -91.826903,44.994026999999996 L -91.826314,44.993922 L -91.825972,44.993837 L -91.82441899999999,44.99335 L -91.824108,44.993221 L -91.823866,44.993058999999995 L -91.82367099999999,44.992885 L -91.823568,44.992733 L -91.823144,44.992277 L -91.822947,44.991994999999996 L -91.822822,44.991907999999995 L -91.82267399999999,44.991838 L -91.822356,44.991769 L -91.822109,44.991771 L -91.821955,44.991805 L -91.82177899999999,44.991878 L -91.821686,44.991915999999996 L -91.82149299999999,44.991949999999996 L -91.821338,44.991924 L -91.821151,44.991842999999996 L -91.82083899999999,44.991654 L -91.820737,44.991518 L -91.82072099999999,44.991453 L -91.820735,44.991364999999995 L -91.82083999999999,44.991124 L -91.820853,44.990970999999995 L -91.820809,44.990849999999995 L -91.820775,44.990759 L -91.82074899999999,44.990688 L -91.820647,44.990556999999995 L -91.820545,44.990476 L -91.820234,44.990369 L -91.82014799999999,44.99031 L -91.82013099999999,44.990331999999995 L -91.819943,44.989951 L -91.8197,44.989712 L -91.819575,44.989625 L -91.81913899999999,44.989425999999995 L -91.818612,44.989315 L -91.81821,44.98934 L -91.81797399999999,44.989377999999995 L -91.817932,44.989385 L -91.817747,44.989435 L -91.817667,44.989466 L -91.817386,44.989574 L -91.817224,44.989613999999996 L -91.816586,44.989895999999995 L -91.816153,44.990027999999995 L -91.816024,44.990069 L -91.815732,44.990179999999995 L -91.81514899999999,44.990583 L -91.814706,44.990967999999995 L -91.814385,44.991209999999995 L -91.81370199999999,44.991603 L -91.812944,44.992159 L -91.812432,44.992664999999995 L -91.81212,44.993016 L -91.811875,44.993193 L -91.81159099999999,44.993342 L -91.811484,44.993418999999996 L -91.811216,44.993656 L -91.811056,44.993832 L -91.810161,44.994569 L -91.810009,44.994766999999996 L -91.80990399999999,44.994986 L -91.80985799999999,44.99503 L -91.80958199999999,44.995168 L -91.809344,44.995323 L -91.808917,44.995734999999996 L -91.80881,44.995889 L -91.808605,44.996119 L -91.807564,44.996911999999995 L -91.807013,44.997386 L -91.80618899999999,44.998253999999996 L -91.806091,44.998428999999994 L -91.805894,44.998692999999996 L -91.805683,44.999131 L -91.805611,44.999524 L -91.805461,44.999874999999996 L -91.805453,44.999984 L -91.80547299999999,45.000023999999996 L -91.80542799999999,45.000178 L -91.805238,45.000527999999996 L -91.80512999999999,45.000637999999995 L -91.805008,45.000814 L -91.804816,45.000957 L -91.804662,45.001034 L -91.804384,45.001101 L -91.80416699999999,45.001113 L -91.803642,45.001191999999996 L -91.80354899999999,45.001191999999996 L -91.802993,45.001315 L -91.80259099999999,45.001349999999995 L -91.802128,45.00145 L -91.80191099999999,45.001462 L -91.801632,45.00143 L -91.80147699999999,45.001382 L -91.800949,45.001121999999995 L -91.800359,45.000906 L -91.799148,45.000419 L -91.79830799999999,45.000001999999995 L -91.798313,44.999977 L -91.79806599999999,44.999759 L -91.79794,44.999584999999996 L -91.797877,44.999454 L -91.797798,44.999367 L -91.797705,44.999313 L -91.797557,44.999271 L -91.797448,44.99919 L -91.797384,44.999041999999996 L -91.797382,44.998867999999995 L -91.797358,44.998802 L -91.79729499999999,44.998715 L -91.79713799999999,44.998585 L -91.796695,44.998385999999996 L -91.796166,44.998117 L -91.79601,44.998062999999995 L -91.795762,44.998025999999996 L -91.795608,44.998038 L -91.7954,44.9981 L -91.79520000000001,44.998225999999995 L -91.795109,44.998314 L -91.79498699999999,44.998467999999995 L -91.794882,44.998687 L -91.79485199999999,44.998774999999995 L -91.79484,44.999015 L -91.79486399999999,44.999123999999995 L -91.79491999999999,44.999221999999996 L -91.79508299999999,44.999417 L -91.795147,44.999494 L -91.795311,44.9996 L -91.79552199999999,44.999736999999996 L -91.79564599999999,44.999795999999996 L -91.795887,44.999975 L -91.796066,45.000192 L -91.796138,45.000426999999995 L -91.796148,45.000733 L -91.796111,45.00093 L -91.795885,45.001630999999996 L -91.79583199999999,45.001719 L -91.795609,45.001906 L -91.795555,45.001993 L -91.79551,45.002168999999995 L -91.795504,45.002322 L -91.79544299999999,45.002376999999996 L -91.795373,45.002365999999995 L -91.79525699999999,45.002404999999996 L -91.79500399999999,45.002618999999996 L -91.794888,45.002728999999995 L -91.794736,45.002992 L -91.79470599999999,45.003102 L -91.794708,45.003319999999995 L -91.794772,45.003592999999995 L -91.79475699999999,45.003609999999995 L -91.794625,45.003631999999996 L -91.794595,45.003735999999996 L -91.794635,45.003845999999996 L -91.794776,45.004058 L -91.794816,45.004205999999996 L -91.79477,45.004233 L -91.79459899999999,45.004152 L -91.794445,45.004235 L -91.79441399999999,45.004235 L -91.794367,45.004197 L -91.794366,45.004022 L -91.794311,45.003934 L -91.794287,45.003918 L -91.79423299999999,45.003918 L -91.79417199999999,45.003989999999995 L -91.794133,45.003989999999995 L -91.794102,45.003903 L -91.794124,45.003814999999996 L -91.794247,45.003667 L -91.794313,45.003288999999995 L -91.79417199999999,45.003136999999995 L -91.794086,45.002939999999995 L -91.79403099999999,45.002913 L -91.793977,45.002924 L -91.793825,45.003226 L -91.79373299999999,45.003357 L -91.79352,45.003796 L -91.79334399999999,45.004014999999995 L -91.793244,45.004076 L -91.793174,45.004048999999995 L -91.793182,45.004005 L -91.793319,45.00383 L -91.79337199999999,45.003698 L -91.793348,45.003611 L -91.793317,45.003594 L -91.793263,45.003595 L -91.793217,45.003622 L -91.793087,45.003775999999995 L -91.792934,45.004017 L -91.79290499999999,45.004236 L -91.79303999999999,45.004661999999996 L -91.793043,45.004946 L -91.79294499999999,45.005252999999996 L -91.792746,45.005538 L -91.79263,45.00561 L -91.792476,45.005665 L -91.792352,45.005676 L -91.792074,45.005672 L -91.79195,45.005651 L -91.791083,45.005644 L -91.790836,45.005655999999995 L -91.79049499999999,45.005596999999995 L -91.790401,45.005537 L -91.790323,45.005455999999995 L -91.79019,45.005232 L -91.79005699999999,45.005100999999996 L -91.789816,45.00496 L -91.789715,45.004928 L -91.789599,45.004929 L -91.78881299999999,45.004413 L -91.788533,45.004261 L -91.788285,45.004158 L -91.78797399999999,45.004039 L -91.787509,45.00391 L -91.78663999999999,45.003684 L -91.78620599999999,45.003598 L -91.785866,45.003567 L -91.78552499999999,45.003578999999995 L -91.78525499999999,45.003623999999995 L -91.784752,45.003659 L -91.784598,45.003693 L -91.783608,45.003817 L -91.78332999999999,45.003834999999995 L -91.78299,45.003842 L -91.78258699999999,45.003811 L -91.78209199999999,45.003802 L -91.781689,45.003803999999995 L -91.781318,45.003837999999995 L -91.78035899999999,45.003831999999996 L -91.780265,45.003777 L -91.780014,45.003363 L -91.779966,45.003187999999994 L -91.779955,45.002773 L -91.780007,45.00251 L -91.78021199999999,45.001968 L -91.780256,45.001720999999996 L -91.780332,45.001523999999996 L -91.780485,45.001354 L -91.780885,45.001002 L -91.781031,45.000924999999995 L -91.78134,45.000831 L -91.781618,45.000786 L -91.78189599999999,45.000703 L -91.78218799999999,45.000538 L -91.78243499999999,45.000443999999995 L -91.782589,45.000361 L -91.782673,45.000201999999994 L -91.782749,44.999973999999995 L -91.78280199999999,44.999834 L -91.782687,44.999333 L -91.782592,44.999137 L -91.782506,44.99905 L -91.782217,44.998861 L -91.782038,44.998802 L -91.781945,44.99878 L -91.781357,44.998762 L -91.78095599999999,44.998819 L -91.78076999999999,44.998821 L -91.780431,44.998866 L -91.779595,44.99885 L -91.77891699999999,44.998974 L -91.77829799999999,44.998988999999995 L -91.77767899999999,44.99896 L -91.77749399999999,44.998971999999995 L -91.777247,44.999023 L -91.776969,44.999100999999996 L -91.7767,44.999212 L -91.77654,44.999348999999995 L -91.776388,44.999569 L -91.776265,45.000006 L -91.776235,45.000077 L -91.776275,45.000273 L -91.77638499999999,45.000491 L -91.77637899999999,45.000645 L -91.775965,45.001193 L -91.77561999999999,45.001554999999996 L -91.775035,45.001940999999995 L -91.774727,45.002089999999995 L -91.774503,45.002167 L -91.77414,45.00224 L -91.773645,45.002275 L -91.773438,45.002275999999995 L -91.773274,45.002275999999995 L -91.77315899999999,45.002266 L -91.773026,45.002255 L -91.772499,45.002154 L -91.77228199999999,45.002061999999995 L -91.77201699999999,45.001866 L -91.771744,45.001571999999996 L -91.771399,45.001092 L -91.77107,45.000502999999995 L -91.77069499999999,44.999986 L -91.77065999999999,44.999779 L -91.77059,44.999123999999995 L -91.770448,44.998885 L -91.770158,44.998602999999996 L -91.77008699999999,44.998494 L -91.770055,44.998428999999994 L -91.770022,44.99821 L -91.76993499999999,44.998124 L -91.769499,44.997886 L -91.769413,44.997816 L -91.769194,44.99756 L -91.769077,44.997479 L -91.76898299999999,44.997451999999996 L -91.768829,44.997485999999995 L -91.76856099999999,44.997662999999996 L -91.768346,44.997772999999995 L -91.76772199999999,44.998000999999995 L -91.767352,44.998062999999995 L -91.766981,44.998076 L -91.766609,44.998045999999995 L -91.766082,44.997962 L -91.765835,44.997963 L -91.765619,44.997997 L -91.765419,44.99807 L -91.765273,44.998163 L -91.76515099999999,44.998306 L -91.765138,44.998481 L -91.765309,44.998611 L -91.76542599999999,44.998647999999996 L -91.765581,44.998675 L -91.765766,44.998674 L -91.766261,44.998605 L -91.766447,44.998653 L -91.766618,44.998756 L -91.766892,44.998993999999996 L -91.76697,44.999098 L -91.76701899999999,44.999234 L -91.767208,44.999528 L -91.767288,44.999789 L -91.767213,44.99999 L -91.76720499999999,45.000104 L -91.76722199999999,45.000301 L -91.767209,45.000498 L -91.767011,45.00098 L -91.766759,45.001396 L -91.76662999999999,45.001659 L -91.766331,45.002054 L -91.765963,45.002406 L -91.765678,45.002624999999995 L -91.765388,45.002749 L -91.76505999999999,45.002748 L -91.764409,45.002624999999995 L -91.764316,45.002587 L -91.76427699999999,45.002544 L -91.764292,45.002505 L -91.764455,45.00251 L -91.76454,45.002466 L -91.764523,45.002356999999996 L -91.764468,45.002292 L -91.764367,45.002237 L -91.764189,45.002193999999996 L -91.764034,45.002195 L -91.763849,45.002234 L -91.76364099999999,45.002339 L -91.763426,45.002514999999995 L -91.763089,45.002997 L -91.76285899999999,45.003260999999995 L -91.762705,45.003392 L -91.762405,45.003569 L -91.761788,45.003800999999996 L -91.761363,45.003934 L -91.761201,45.003966999999996 L -91.761108,45.003962 L -91.761054,45.003924 L -91.761038,45.003886 L -91.76096799999999,45.003848 L -91.76086,45.003848 L -91.760396,45.00396 L -91.760272,45.003944 L -91.760087,45.003983 L -91.759717,45.004121 L -91.759293,45.004357999999996 L -91.75873899999999,45.004798 L -91.758325,45.005187 L -91.75817099999999,45.005358 L -91.758129,45.005480999999996 L -91.757471,45.005238 L -91.75728699999999,45.00517 L -91.75017199999999,45.002635999999995 L -91.74432399999999,45.000541999999996 L -91.743809,45.000381999999995 L -91.743034,45.000008 L -91.742942,44.999964 L -91.742852,44.999927 L -91.742851,44.99953 L -91.742791,44.999503 L -91.74314299999999,44.999500000000005 L -91.74380599999999,44.999494 L -91.745302,44.999443 L -91.74677899999999,44.999458 L -91.749239,44.999649 L -91.751605,44.999907 L -91.753385,45.000097 L -91.753877,45.000071 L -91.755639,44.999522999999996 L -91.756928,44.999041 L -91.757213,44.998785999999996 L -91.757213,44.998557999999996 L -91.757195,44.998196 L -91.757121,44.997457999999995 L -91.757217,44.997082 L -91.75738799999999,44.996826999999996 L -91.75765299999999,44.996505 L -91.758961,44.995916 L -91.75917,44.995768999999996 L -91.759284,44.995554 L -91.759284,44.995353 L -91.75921,44.994937 L -91.759097,44.994426999999995 L -91.758703,44.992855999999996 L -91.758516,44.992211 L -91.758555,44.991755 L -91.758707,44.99142 L -91.759029,44.991098 L -91.75939,44.990857 L -91.759939,44.99071 L -91.76204,44.990685 L -91.76316299999999,44.990711 L -91.765675,44.99077 L -91.76821199999999,44.9908 L -91.76874199999999,44.990826999999996 L -91.76904499999999,44.990747 L -91.769329,44.990612999999996 L -91.77058,44.989675 L -91.771445,44.989031 L -91.77234399999999,44.988361 L -91.772875,44.987770999999995 L -91.772959,44.987448 L -91.772959,44.987381 L -91.772959,44.987339 L -91.772971,44.984409 L -91.772971,44.981119 L -91.772949,44.978854 L -91.77295099999999,44.978626999999996 L -91.772984,44.975359999999995 L -91.77296199999999,44.972843999999995 L -91.772993,44.972843999999995 L -91.772973,44.97195 L -91.772967,44.970518 L -91.772954,44.968461999999995 L -91.772947,44.967231 L -91.77294499999999,44.966916 L -91.772815,44.96684 L -91.772701,44.966798999999995 L -91.77252999999999,44.966739 L -91.772241,44.966729 L -91.76898,44.966685 L -91.768559,44.966631 L -91.76841499999999,44.965803 L -91.76841399999999,44.965461999999995 L -91.768397,44.9615 L -91.768384,44.95834 L -91.769187,44.958346 L -91.77281699999999,44.958375 L -91.773429,44.95838 L -91.77551299999999,44.958396 L -91.777886,44.958406 L -91.78313,44.958456999999996 L -91.785692,44.958478 L -91.79406,44.958447 L -91.796247,44.958448999999995 L -91.79665399999999,44.958448999999995 L -91.798463,44.958458 L -91.800197,44.958467 L -91.801531,44.958466 L -91.805906,44.958473 L -91.808049,44.958487999999996 L -91.80824799999999,44.958487999999996 L -91.81128299999999,44.958495 L -91.813285,44.95852 L -91.813823,44.958489 L -91.814064,44.958706 L -91.814275,44.959046 L -91.814261,44.958895999999996 L -91.814178,44.958625 L -91.813919,44.958455 L -91.813824,44.958456999999996 L -91.813829,44.958237 L -91.813822,44.957485999999996 L -91.813778,44.955624 L -91.81372999999999,44.951864 L -91.813709,44.950218 L -91.813709,44.948494 L -91.81371,44.945848 L -91.813729,44.945614 L -91.81389,44.945205 L -91.814111,44.944841 L -91.814216,44.944711 L -91.81434499999999,44.944565999999995 L -91.814448,44.944432 L -91.814497,44.944365999999995 L -91.814499,44.944278999999995 L -91.81451299999999,44.944168999999995 L -91.814618,44.944030999999995 L -91.81442799999999,44.943971999999995 L -91.81432099999999,44.943937999999996 L -91.814015,44.94377 L -91.813825,44.943616999999996 L -91.813813,44.943608 L -91.813734,44.943455 L -91.813704,44.943222 L -91.813677,44.941736 L -91.813704,44.940616999999996 L -91.813709,44.940003 L -91.81369199999999,44.936766 L -91.813688,44.935627 L -91.813681,44.933761999999994 L -91.813676,44.932372 L -91.81367,44.930668999999995 L -91.813653,44.928455 L -91.813661,44.926123 L -91.813673,44.921549 L -91.813707,44.919177 L -91.81377599999999,44.916052 L -91.813724,44.915397 L -91.817847,44.915451 L -91.82223599999999,44.915454 L -91.823729,44.915439 L -91.823742,44.915431 L -91.825344,44.915444 L -91.828566,44.915434 L -91.834143,44.915442999999996 L -91.837276,44.915451 L -91.838734,44.915454 L -91.847008,44.915482 L -91.848479,44.915496999999995 L -91.854545,44.915541 L -91.85452699999999,44.919135999999995 L -91.854524,44.919858 L -91.854523,44.920046 L -91.854518,44.921034 L -91.854495,44.925731999999996 L -91.854497,44.926289 L -91.854497,44.92639 L -91.856409,44.926397 L -91.858041,44.9264 L -91.85962599999999,44.926410999999995 L -91.860258,44.926415999999996 L -91.862573,44.926426 L -91.862997,44.926424999999995 L -91.863744,44.926963 L -91.86473699999999,44.92796 L -91.8652,44.928421 L -91.865811,44.92904 L -91.86632,44.929572 L -91.866731,44.929984 L -91.86841,44.931677 L -91.869495,44.932778 L -91.86952699999999,44.932801999999995 L -91.87060799999999,44.933631 L -91.87473399999999,44.936218 L -91.875115,44.936381 L -91.87575799999999,44.93643 L -91.877747,44.936426 L -91.88014799999999,44.936422 L -91.881451,44.93642 L -91.88288999999999,44.936412999999995 L -91.882995,44.936412999999995 L -91.883005,44.935472 L -91.88403199999999,44.935466 L -91.88423999999999,44.935559 L -91.88428499999999,44.935534999999994 L -91.884715,44.935499 L -91.885063,44.935476 L -91.88564199999999,44.935417 L -91.886072,44.935334999999995 L -91.886618,44.935218 L -91.887204,44.935019 L -91.887333,44.934968999999995 L -91.887484,44.934909999999995 L -91.88820199999999,44.934675 L -91.888663,44.934525 L -91.88899599999999,44.934416 L -91.88906399999999,44.934391999999995 L -91.889417,44.934267999999996 L -91.88989,44.934115 L -91.89034699999999,44.933962 L -91.891082,44.933783999999996 L -91.891268,44.933738999999996 L -91.891584,44.933702 L -91.89220399999999,44.933628999999996 L -91.892405,44.933627 L -91.894266,44.933606 L -91.896683,44.933578 L -91.89947699999999,44.933546 L -91.901455,44.93353 L -91.902867,44.933513999999995 L -91.90396299999999,44.933502 L -91.91068,44.93344 L -91.91112799999999,44.933434 L -91.911677,44.933426999999995 L -91.913601,44.933403999999996 L -91.91783799999999,44.933384 L -91.922513,44.933434 L -91.924522,44.933473 L -91.92448399999999,44.933592 z\" /></g></svg>"
      ],
      "text/plain": [
       "<POLYGON ((-91.924 44.934, -91.924 44.935, -91.924 44.935, -91.923 44.937, -...>"
      ]
     },
     "execution_count": 29,
     "metadata": {},
     "output_type": "execute_result"
    }
   ],
   "source": [
    "tracts.iloc[11,1]"
   ]
  },
  {
   "cell_type": "markdown",
   "id": "4ce7605d",
   "metadata": {},
   "source": [
    "## Individual trajectory data"
   ]
  },
  {
   "cell_type": "code",
   "execution_count": 30,
   "id": "a7f1e99a",
   "metadata": {
    "scrolled": true
   },
   "outputs": [
    {
     "name": "stdout",
     "output_type": "stream",
     "text": [
      "(4690626, 4)\n"
     ]
    },
    {
     "data": {
      "text/html": [
       "<div>\n",
       "<style scoped>\n",
       "    .dataframe tbody tr th:only-of-type {\n",
       "        vertical-align: middle;\n",
       "    }\n",
       "\n",
       "    .dataframe tbody tr th {\n",
       "        vertical-align: top;\n",
       "    }\n",
       "\n",
       "    .dataframe thead th {\n",
       "        text-align: right;\n",
       "    }\n",
       "</style>\n",
       "<table border=\"1\" class=\"dataframe\">\n",
       "  <thead>\n",
       "    <tr style=\"text-align: right;\">\n",
       "      <th></th>\n",
       "      <th>uid</th>\n",
       "      <th>datetime</th>\n",
       "      <th>lat</th>\n",
       "      <th>lng</th>\n",
       "    </tr>\n",
       "  </thead>\n",
       "  <tbody>\n",
       "    <tr>\n",
       "      <th>0</th>\n",
       "      <td>1</td>\n",
       "      <td>2020-03-01 00:00:00.000000</td>\n",
       "      <td>44.249624</td>\n",
       "      <td>-88.409313</td>\n",
       "    </tr>\n",
       "    <tr>\n",
       "      <th>1</th>\n",
       "      <td>1</td>\n",
       "      <td>2020-03-01 00:28:14.055734</td>\n",
       "      <td>44.247095</td>\n",
       "      <td>-88.418595</td>\n",
       "    </tr>\n",
       "    <tr>\n",
       "      <th>2</th>\n",
       "      <td>1</td>\n",
       "      <td>2020-03-01 00:59:01.440932</td>\n",
       "      <td>44.249624</td>\n",
       "      <td>-88.409313</td>\n",
       "    </tr>\n",
       "    <tr>\n",
       "      <th>3</th>\n",
       "      <td>1</td>\n",
       "      <td>2020-03-01 01:23:36.368069</td>\n",
       "      <td>44.247095</td>\n",
       "      <td>-88.418595</td>\n",
       "    </tr>\n",
       "    <tr>\n",
       "      <th>4</th>\n",
       "      <td>1</td>\n",
       "      <td>2020-03-01 01:52:29.430108</td>\n",
       "      <td>44.249055</td>\n",
       "      <td>-88.427641</td>\n",
       "    </tr>\n",
       "  </tbody>\n",
       "</table>\n",
       "</div>"
      ],
      "text/plain": [
       "   uid                    datetime        lat        lng\n",
       "0    1  2020-03-01 00:00:00.000000  44.249624 -88.409313\n",
       "1    1  2020-03-01 00:28:14.055734  44.247095 -88.418595\n",
       "2    1  2020-03-01 00:59:01.440932  44.249624 -88.409313\n",
       "3    1  2020-03-01 01:23:36.368069  44.247095 -88.418595\n",
       "4    1  2020-03-01 01:52:29.430108  44.249055 -88.427641"
      ]
     },
     "execution_count": 30,
     "metadata": {},
     "output_type": "execute_result"
    }
   ],
   "source": [
    "print(data.shape)\n",
    "data.head()"
   ]
  },
  {
   "cell_type": "markdown",
   "id": "b99a34aa",
   "metadata": {},
   "source": [
    "### This takes 5-8 seconds"
   ]
  },
  {
   "cell_type": "code",
   "execution_count": 31,
   "id": "afe71936",
   "metadata": {},
   "outputs": [
    {
     "data": {
      "text/html": [
       "<div>\n",
       "<style scoped>\n",
       "    .dataframe tbody tr th:only-of-type {\n",
       "        vertical-align: middle;\n",
       "    }\n",
       "\n",
       "    .dataframe tbody tr th {\n",
       "        vertical-align: top;\n",
       "    }\n",
       "\n",
       "    .dataframe thead th {\n",
       "        text-align: right;\n",
       "    }\n",
       "</style>\n",
       "<table border=\"1\" class=\"dataframe\">\n",
       "  <thead>\n",
       "    <tr style=\"text-align: right;\">\n",
       "      <th></th>\n",
       "      <th>uid</th>\n",
       "      <th>datetime</th>\n",
       "      <th>lat</th>\n",
       "      <th>lng</th>\n",
       "      <th>geometry</th>\n",
       "    </tr>\n",
       "  </thead>\n",
       "  <tbody>\n",
       "    <tr>\n",
       "      <th>0</th>\n",
       "      <td>1</td>\n",
       "      <td>2020-03-01 00:00:00.000000</td>\n",
       "      <td>44.249624</td>\n",
       "      <td>-88.409313</td>\n",
       "      <td>POINT (-88.40931 44.24962)</td>\n",
       "    </tr>\n",
       "    <tr>\n",
       "      <th>1</th>\n",
       "      <td>1</td>\n",
       "      <td>2020-03-01 00:28:14.055734</td>\n",
       "      <td>44.247095</td>\n",
       "      <td>-88.418595</td>\n",
       "      <td>POINT (-88.41859 44.24710)</td>\n",
       "    </tr>\n",
       "    <tr>\n",
       "      <th>2</th>\n",
       "      <td>1</td>\n",
       "      <td>2020-03-01 00:59:01.440932</td>\n",
       "      <td>44.249624</td>\n",
       "      <td>-88.409313</td>\n",
       "      <td>POINT (-88.40931 44.24962)</td>\n",
       "    </tr>\n",
       "    <tr>\n",
       "      <th>3</th>\n",
       "      <td>1</td>\n",
       "      <td>2020-03-01 01:23:36.368069</td>\n",
       "      <td>44.247095</td>\n",
       "      <td>-88.418595</td>\n",
       "      <td>POINT (-88.41859 44.24710)</td>\n",
       "    </tr>\n",
       "    <tr>\n",
       "      <th>4</th>\n",
       "      <td>1</td>\n",
       "      <td>2020-03-01 01:52:29.430108</td>\n",
       "      <td>44.249055</td>\n",
       "      <td>-88.427641</td>\n",
       "      <td>POINT (-88.42764 44.24906)</td>\n",
       "    </tr>\n",
       "  </tbody>\n",
       "</table>\n",
       "</div>"
      ],
      "text/plain": [
       "   uid                    datetime        lat        lng  \\\n",
       "0    1  2020-03-01 00:00:00.000000  44.249624 -88.409313   \n",
       "1    1  2020-03-01 00:28:14.055734  44.247095 -88.418595   \n",
       "2    1  2020-03-01 00:59:01.440932  44.249624 -88.409313   \n",
       "3    1  2020-03-01 01:23:36.368069  44.247095 -88.418595   \n",
       "4    1  2020-03-01 01:52:29.430108  44.249055 -88.427641   \n",
       "\n",
       "                     geometry  \n",
       "0  POINT (-88.40931 44.24962)  \n",
       "1  POINT (-88.41859 44.24710)  \n",
       "2  POINT (-88.40931 44.24962)  \n",
       "3  POINT (-88.41859 44.24710)  \n",
       "4  POINT (-88.42764 44.24906)  "
      ]
     },
     "execution_count": 31,
     "metadata": {},
     "output_type": "execute_result"
    }
   ],
   "source": [
    "# Convert latitude/longitude into Point geometry\n",
    "geometry = [Point(xy) for xy in zip(data[\"lng\"], data[\"lat\"])] #Convert coordinate to points\n",
    "\n",
    "# Create a GeoDataFrame with the same CRS as the Census Tract shapefile\n",
    "points_gdf = gpd.GeoDataFrame(data, geometry=geometry, crs=\"EPSG:4326\")\n",
    "\n",
    "points_gdf.head() # Check that geometry was created correctly"
   ]
  },
  {
   "cell_type": "code",
   "execution_count": 32,
   "id": "5796ff5e",
   "metadata": {},
   "outputs": [
    {
     "data": {
      "text/html": [
       "<div>\n",
       "<style scoped>\n",
       "    .dataframe tbody tr th:only-of-type {\n",
       "        vertical-align: middle;\n",
       "    }\n",
       "\n",
       "    .dataframe tbody tr th {\n",
       "        vertical-align: top;\n",
       "    }\n",
       "\n",
       "    .dataframe thead th {\n",
       "        text-align: right;\n",
       "    }\n",
       "</style>\n",
       "<table border=\"1\" class=\"dataframe\">\n",
       "  <thead>\n",
       "    <tr style=\"text-align: right;\">\n",
       "      <th></th>\n",
       "      <th>GEOID</th>\n",
       "      <th>geometry</th>\n",
       "      <th>County</th>\n",
       "    </tr>\n",
       "  </thead>\n",
       "  <tbody>\n",
       "    <tr>\n",
       "      <th>0</th>\n",
       "      <td>551332016003</td>\n",
       "      <td>POLYGON ((-88.19888 42.93020, -88.19884 42.930...</td>\n",
       "      <td>55133</td>\n",
       "    </tr>\n",
       "    <tr>\n",
       "      <th>1</th>\n",
       "      <td>551332015043</td>\n",
       "      <td>POLYGON ((-88.08879 42.92421, -88.08866 42.924...</td>\n",
       "      <td>55133</td>\n",
       "    </tr>\n",
       "    <tr>\n",
       "      <th>2</th>\n",
       "      <td>551332025004</td>\n",
       "      <td>POLYGON ((-88.22182 43.00307, -88.22180 43.003...</td>\n",
       "      <td>55133</td>\n",
       "    </tr>\n",
       "    <tr>\n",
       "      <th>3</th>\n",
       "      <td>551332014022</td>\n",
       "      <td>POLYGON ((-88.08815 42.99696, -88.08813 42.997...</td>\n",
       "      <td>55133</td>\n",
       "    </tr>\n",
       "    <tr>\n",
       "      <th>4</th>\n",
       "      <td>550339703001</td>\n",
       "      <td>POLYGON ((-91.89454 45.00255, -91.89449 45.003...</td>\n",
       "      <td>55033</td>\n",
       "    </tr>\n",
       "  </tbody>\n",
       "</table>\n",
       "</div>"
      ],
      "text/plain": [
       "          GEOID                                           geometry County\n",
       "0  551332016003  POLYGON ((-88.19888 42.93020, -88.19884 42.930...  55133\n",
       "1  551332015043  POLYGON ((-88.08879 42.92421, -88.08866 42.924...  55133\n",
       "2  551332025004  POLYGON ((-88.22182 43.00307, -88.22180 43.003...  55133\n",
       "3  551332014022  POLYGON ((-88.08815 42.99696, -88.08813 42.997...  55133\n",
       "4  550339703001  POLYGON ((-91.89454 45.00255, -91.89449 45.003...  55033"
      ]
     },
     "execution_count": 32,
     "metadata": {},
     "output_type": "execute_result"
    }
   ],
   "source": [
    "# Convert Census Tract shapefile to the same CRS as the points\n",
    "# This is to make sure both data use EPSG:4326\n",
    "tracts = tracts.to_crs(points_gdf.crs)\n",
    "tracts.head()"
   ]
  },
  {
   "cell_type": "code",
   "execution_count": 33,
   "id": "8a322112",
   "metadata": {},
   "outputs": [
    {
     "name": "stdout",
     "output_type": "stream",
     "text": [
      "Tracts CRS: EPSG:4326\n",
      "Points CRS: EPSG:4326\n"
     ]
    }
   ],
   "source": [
    "#Proceed when we see the same CRS value\n",
    "print(\"Tracts CRS:\", tracts.crs)\n",
    "print(\"Points CRS:\", points_gdf.crs)"
   ]
  },
  {
   "cell_type": "markdown",
   "id": "56219f0a",
   "metadata": {},
   "source": [
    "## This takes three seconds"
   ]
  },
  {
   "cell_type": "code",
   "execution_count": 34,
   "id": "a7d053d6",
   "metadata": {},
   "outputs": [
    {
     "name": "stdout",
     "output_type": "stream",
     "text": [
      "67\n"
     ]
    },
    {
     "data": {
      "text/html": [
       "<div>\n",
       "<style scoped>\n",
       "    .dataframe tbody tr th:only-of-type {\n",
       "        vertical-align: middle;\n",
       "    }\n",
       "\n",
       "    .dataframe tbody tr th {\n",
       "        vertical-align: top;\n",
       "    }\n",
       "\n",
       "    .dataframe thead th {\n",
       "        text-align: right;\n",
       "    }\n",
       "</style>\n",
       "<table border=\"1\" class=\"dataframe\">\n",
       "  <thead>\n",
       "    <tr style=\"text-align: right;\">\n",
       "      <th></th>\n",
       "      <th>GEOID</th>\n",
       "      <th>geometry</th>\n",
       "      <th>County</th>\n",
       "    </tr>\n",
       "  </thead>\n",
       "  <tbody>\n",
       "    <tr>\n",
       "      <th>0</th>\n",
       "      <td>551332016003</td>\n",
       "      <td>POLYGON ((-88.19888 42.93020, -88.19884 42.930...</td>\n",
       "      <td>55133</td>\n",
       "    </tr>\n",
       "  </tbody>\n",
       "</table>\n",
       "</div>"
      ],
      "text/plain": [
       "          GEOID                                           geometry County\n",
       "0  551332016003  POLYGON ((-88.19888 42.93020, -88.19884 42.930...  55133"
      ]
     },
     "execution_count": 34,
     "metadata": {},
     "output_type": "execute_result"
    }
   ],
   "source": [
    "print(len(tracts['County'].unique().tolist()))\n",
    "tracts.head(1)"
   ]
  },
  {
   "cell_type": "code",
   "execution_count": 35,
   "id": "f1ed51ad",
   "metadata": {},
   "outputs": [
    {
     "name": "stdout",
     "output_type": "stream",
     "text": [
      "(4690626, 8)\n"
     ]
    },
    {
     "data": {
      "text/html": [
       "<div>\n",
       "<style scoped>\n",
       "    .dataframe tbody tr th:only-of-type {\n",
       "        vertical-align: middle;\n",
       "    }\n",
       "\n",
       "    .dataframe tbody tr th {\n",
       "        vertical-align: top;\n",
       "    }\n",
       "\n",
       "    .dataframe thead th {\n",
       "        text-align: right;\n",
       "    }\n",
       "</style>\n",
       "<table border=\"1\" class=\"dataframe\">\n",
       "  <thead>\n",
       "    <tr style=\"text-align: right;\">\n",
       "      <th></th>\n",
       "      <th>uid</th>\n",
       "      <th>datetime</th>\n",
       "      <th>lat</th>\n",
       "      <th>lng</th>\n",
       "      <th>geometry</th>\n",
       "      <th>index_right</th>\n",
       "      <th>GEOID</th>\n",
       "      <th>County</th>\n",
       "    </tr>\n",
       "  </thead>\n",
       "  <tbody>\n",
       "    <tr>\n",
       "      <th>0</th>\n",
       "      <td>1</td>\n",
       "      <td>2020-03-01 00:00:00.000000</td>\n",
       "      <td>44.249624</td>\n",
       "      <td>-88.409313</td>\n",
       "      <td>POINT (-88.40931 44.24962)</td>\n",
       "      <td>4080</td>\n",
       "      <td>550870108002</td>\n",
       "      <td>55087</td>\n",
       "    </tr>\n",
       "    <tr>\n",
       "      <th>1</th>\n",
       "      <td>1</td>\n",
       "      <td>2020-03-01 00:28:14.055734</td>\n",
       "      <td>44.247095</td>\n",
       "      <td>-88.418595</td>\n",
       "      <td>POINT (-88.41859 44.24710)</td>\n",
       "      <td>4062</td>\n",
       "      <td>550870108001</td>\n",
       "      <td>55087</td>\n",
       "    </tr>\n",
       "    <tr>\n",
       "      <th>2</th>\n",
       "      <td>1</td>\n",
       "      <td>2020-03-01 00:59:01.440932</td>\n",
       "      <td>44.249624</td>\n",
       "      <td>-88.409313</td>\n",
       "      <td>POINT (-88.40931 44.24962)</td>\n",
       "      <td>4080</td>\n",
       "      <td>550870108002</td>\n",
       "      <td>55087</td>\n",
       "    </tr>\n",
       "  </tbody>\n",
       "</table>\n",
       "</div>"
      ],
      "text/plain": [
       "   uid                    datetime        lat        lng  \\\n",
       "0    1  2020-03-01 00:00:00.000000  44.249624 -88.409313   \n",
       "1    1  2020-03-01 00:28:14.055734  44.247095 -88.418595   \n",
       "2    1  2020-03-01 00:59:01.440932  44.249624 -88.409313   \n",
       "\n",
       "                     geometry  index_right         GEOID County  \n",
       "0  POINT (-88.40931 44.24962)         4080  550870108002  55087  \n",
       "1  POINT (-88.41859 44.24710)         4062  550870108001  55087  \n",
       "2  POINT (-88.40931 44.24962)         4080  550870108002  55087  "
      ]
     },
     "execution_count": 35,
     "metadata": {},
     "output_type": "execute_result"
    }
   ],
   "source": [
    "#Perform spacial join\n",
    "joined_gdf = gpd.sjoin(points_gdf, tracts, how=\"left\", predicate=\"within\")\n",
    "print(joined_gdf.shape)\n",
    "joined_gdf.head(3)"
   ]
  },
  {
   "cell_type": "code",
   "execution_count": 36,
   "id": "a0338ef4",
   "metadata": {
    "scrolled": true
   },
   "outputs": [
    {
     "data": {
      "text/html": [
       "<div>\n",
       "<style scoped>\n",
       "    .dataframe tbody tr th:only-of-type {\n",
       "        vertical-align: middle;\n",
       "    }\n",
       "\n",
       "    .dataframe tbody tr th {\n",
       "        vertical-align: top;\n",
       "    }\n",
       "\n",
       "    .dataframe thead th {\n",
       "        text-align: right;\n",
       "    }\n",
       "</style>\n",
       "<table border=\"1\" class=\"dataframe\">\n",
       "  <thead>\n",
       "    <tr style=\"text-align: right;\">\n",
       "      <th></th>\n",
       "      <th>uid</th>\n",
       "      <th>datetime</th>\n",
       "      <th>lat</th>\n",
       "      <th>lng</th>\n",
       "      <th>geometry</th>\n",
       "      <th>index_right</th>\n",
       "      <th>GEOID</th>\n",
       "      <th>County</th>\n",
       "      <th>day</th>\n",
       "    </tr>\n",
       "  </thead>\n",
       "  <tbody>\n",
       "    <tr>\n",
       "      <th>4690623</th>\n",
       "      <td>10000</td>\n",
       "      <td>2020-03-30 19:20:14.690926</td>\n",
       "      <td>43.894577</td>\n",
       "      <td>-91.231324</td>\n",
       "      <td>POINT (-91.23132 43.89458)</td>\n",
       "      <td>2140</td>\n",
       "      <td>550630104032</td>\n",
       "      <td>55063</td>\n",
       "      <td>30</td>\n",
       "    </tr>\n",
       "    <tr>\n",
       "      <th>4690624</th>\n",
       "      <td>10000</td>\n",
       "      <td>2020-03-30 23:30:48.981380</td>\n",
       "      <td>43.555867</td>\n",
       "      <td>-89.801037</td>\n",
       "      <td>POINT (-89.80104 43.55587)</td>\n",
       "      <td>3864</td>\n",
       "      <td>551110001031</td>\n",
       "      <td>55111</td>\n",
       "      <td>30</td>\n",
       "    </tr>\n",
       "    <tr>\n",
       "      <th>4690625</th>\n",
       "      <td>10000</td>\n",
       "      <td>2020-03-30 23:57:54.460018</td>\n",
       "      <td>44.931692</td>\n",
       "      <td>-91.417906</td>\n",
       "      <td>POINT (-91.41791 44.93169)</td>\n",
       "      <td>1353</td>\n",
       "      <td>550170103005</td>\n",
       "      <td>55017</td>\n",
       "      <td>30</td>\n",
       "    </tr>\n",
       "  </tbody>\n",
       "</table>\n",
       "</div>"
      ],
      "text/plain": [
       "           uid                   datetime        lat        lng  \\\n",
       "4690623  10000 2020-03-30 19:20:14.690926  43.894577 -91.231324   \n",
       "4690624  10000 2020-03-30 23:30:48.981380  43.555867 -89.801037   \n",
       "4690625  10000 2020-03-30 23:57:54.460018  44.931692 -91.417906   \n",
       "\n",
       "                           geometry  index_right         GEOID County  day  \n",
       "4690623  POINT (-91.23132 43.89458)         2140  550630104032  55063   30  \n",
       "4690624  POINT (-89.80104 43.55587)         3864  551110001031  55111   30  \n",
       "4690625  POINT (-91.41791 44.93169)         1353  550170103005  55017   30  "
      ]
     },
     "execution_count": 36,
     "metadata": {},
     "output_type": "execute_result"
    }
   ],
   "source": [
    "joined_gdf['datetime'] = pd.to_datetime(joined_gdf['datetime'])\n",
    "joined_gdf['day'] = joined_gdf['datetime'].dt.day\n",
    "joined_gdf.tail(3)"
   ]
  },
  {
   "cell_type": "code",
   "execution_count": 37,
   "id": "79b8a285",
   "metadata": {},
   "outputs": [
    {
     "name": "stdout",
     "output_type": "stream",
     "text": [
      "67\n"
     ]
    }
   ],
   "source": [
    "joined_gdf = joined_gdf[~(joined_gdf['County'].isna())].copy()\n",
    "print(len(joined_gdf['County'].unique().tolist()))"
   ]
  },
  {
   "cell_type": "markdown",
   "id": "435b4a23",
   "metadata": {},
   "source": [
    "# Groupping"
   ]
  },
  {
   "cell_type": "markdown",
   "id": "64f2b0c4",
   "metadata": {},
   "source": [
    "## Here's Where to add noise"
   ]
  },
  {
   "cell_type": "code",
   "execution_count": 38,
   "id": "fe3f3595",
   "metadata": {},
   "outputs": [
    {
     "data": {
      "text/html": [
       "<div>\n",
       "<style scoped>\n",
       "    .dataframe tbody tr th:only-of-type {\n",
       "        vertical-align: middle;\n",
       "    }\n",
       "\n",
       "    .dataframe tbody tr th {\n",
       "        vertical-align: top;\n",
       "    }\n",
       "\n",
       "    .dataframe thead th {\n",
       "        text-align: right;\n",
       "    }\n",
       "</style>\n",
       "<table border=\"1\" class=\"dataframe\">\n",
       "  <thead>\n",
       "    <tr style=\"text-align: right;\">\n",
       "      <th></th>\n",
       "      <th>uid</th>\n",
       "      <th>day</th>\n",
       "      <th>GEOID</th>\n",
       "      <th>Count</th>\n",
       "    </tr>\n",
       "  </thead>\n",
       "  <tbody>\n",
       "    <tr>\n",
       "      <th>0</th>\n",
       "      <td>1</td>\n",
       "      <td>1</td>\n",
       "      <td>550870103001</td>\n",
       "      <td>1</td>\n",
       "    </tr>\n",
       "    <tr>\n",
       "      <th>1</th>\n",
       "      <td>1</td>\n",
       "      <td>1</td>\n",
       "      <td>550870106021</td>\n",
       "      <td>1</td>\n",
       "    </tr>\n",
       "    <tr>\n",
       "      <th>2</th>\n",
       "      <td>1</td>\n",
       "      <td>1</td>\n",
       "      <td>550870107001</td>\n",
       "      <td>1</td>\n",
       "    </tr>\n",
       "    <tr>\n",
       "      <th>3</th>\n",
       "      <td>1</td>\n",
       "      <td>1</td>\n",
       "      <td>550870107003</td>\n",
       "      <td>1</td>\n",
       "    </tr>\n",
       "    <tr>\n",
       "      <th>4</th>\n",
       "      <td>1</td>\n",
       "      <td>1</td>\n",
       "      <td>550870107004</td>\n",
       "      <td>1</td>\n",
       "    </tr>\n",
       "    <tr>\n",
       "      <th>5</th>\n",
       "      <td>1</td>\n",
       "      <td>1</td>\n",
       "      <td>550870108001</td>\n",
       "      <td>4</td>\n",
       "    </tr>\n",
       "    <tr>\n",
       "      <th>6</th>\n",
       "      <td>1</td>\n",
       "      <td>1</td>\n",
       "      <td>550870108002</td>\n",
       "      <td>5</td>\n",
       "    </tr>\n",
       "    <tr>\n",
       "      <th>7</th>\n",
       "      <td>1</td>\n",
       "      <td>1</td>\n",
       "      <td>550870109002</td>\n",
       "      <td>1</td>\n",
       "    </tr>\n",
       "    <tr>\n",
       "      <th>8</th>\n",
       "      <td>1</td>\n",
       "      <td>1</td>\n",
       "      <td>550870110022</td>\n",
       "      <td>1</td>\n",
       "    </tr>\n",
       "    <tr>\n",
       "      <th>9</th>\n",
       "      <td>1</td>\n",
       "      <td>1</td>\n",
       "      <td>550870125031</td>\n",
       "      <td>5</td>\n",
       "    </tr>\n",
       "  </tbody>\n",
       "</table>\n",
       "</div>"
      ],
      "text/plain": [
       "   uid  day         GEOID  Count\n",
       "0    1    1  550870103001      1\n",
       "1    1    1  550870106021      1\n",
       "2    1    1  550870107001      1\n",
       "3    1    1  550870107003      1\n",
       "4    1    1  550870107004      1\n",
       "5    1    1  550870108001      4\n",
       "6    1    1  550870108002      5\n",
       "7    1    1  550870109002      1\n",
       "8    1    1  550870110022      1\n",
       "9    1    1  550870125031      5"
      ]
     },
     "execution_count": 38,
     "metadata": {},
     "output_type": "execute_result"
    }
   ],
   "source": [
    "#Grouped\n",
    "grouped_counts = joined_gdf.groupby(['uid', 'day','GEOID']).size().reset_index()\n",
    "rename = {0 : 'Count'}\n",
    "grouped_counts = grouped_counts.rename(columns = rename)\n",
    "grouped_counts.head(10)"
   ]
  },
  {
   "cell_type": "code",
   "execution_count": 39,
   "id": "8af1e6ef",
   "metadata": {},
   "outputs": [
    {
     "name": "stdout",
     "output_type": "stream",
     "text": [
      "(3526025, 5)\n"
     ]
    },
    {
     "data": {
      "text/html": [
       "<div>\n",
       "<style scoped>\n",
       "    .dataframe tbody tr th:only-of-type {\n",
       "        vertical-align: middle;\n",
       "    }\n",
       "\n",
       "    .dataframe tbody tr th {\n",
       "        vertical-align: top;\n",
       "    }\n",
       "\n",
       "    .dataframe thead th {\n",
       "        text-align: right;\n",
       "    }\n",
       "</style>\n",
       "<table border=\"1\" class=\"dataframe\">\n",
       "  <thead>\n",
       "    <tr style=\"text-align: right;\">\n",
       "      <th></th>\n",
       "      <th>uid</th>\n",
       "      <th>day</th>\n",
       "      <th>GEOID</th>\n",
       "      <th>County</th>\n",
       "      <th>Count</th>\n",
       "    </tr>\n",
       "  </thead>\n",
       "  <tbody>\n",
       "    <tr>\n",
       "      <th>0</th>\n",
       "      <td>1</td>\n",
       "      <td>1</td>\n",
       "      <td>550870103001</td>\n",
       "      <td>55087</td>\n",
       "      <td>1</td>\n",
       "    </tr>\n",
       "    <tr>\n",
       "      <th>1</th>\n",
       "      <td>1</td>\n",
       "      <td>1</td>\n",
       "      <td>550870106021</td>\n",
       "      <td>55087</td>\n",
       "      <td>1</td>\n",
       "    </tr>\n",
       "    <tr>\n",
       "      <th>2</th>\n",
       "      <td>1</td>\n",
       "      <td>1</td>\n",
       "      <td>550870107001</td>\n",
       "      <td>55087</td>\n",
       "      <td>1</td>\n",
       "    </tr>\n",
       "    <tr>\n",
       "      <th>3</th>\n",
       "      <td>1</td>\n",
       "      <td>1</td>\n",
       "      <td>550870107003</td>\n",
       "      <td>55087</td>\n",
       "      <td>1</td>\n",
       "    </tr>\n",
       "    <tr>\n",
       "      <th>4</th>\n",
       "      <td>1</td>\n",
       "      <td>1</td>\n",
       "      <td>550870107004</td>\n",
       "      <td>55087</td>\n",
       "      <td>1</td>\n",
       "    </tr>\n",
       "  </tbody>\n",
       "</table>\n",
       "</div>"
      ],
      "text/plain": [
       "   uid  day         GEOID County  Count\n",
       "0    1    1  550870103001  55087      1\n",
       "1    1    1  550870106021  55087      1\n",
       "2    1    1  550870107001  55087      1\n",
       "3    1    1  550870107003  55087      1\n",
       "4    1    1  550870107004  55087      1"
      ]
     },
     "execution_count": 39,
     "metadata": {},
     "output_type": "execute_result"
    }
   ],
   "source": [
    "grouped_counts.insert(3, \"County\", grouped_counts['GEOID'].str[:5]) #State + county is a five digit code\n",
    "\n",
    "#One individual has about 30 unique locations\n",
    "print(grouped_counts.shape)\n",
    "grouped_counts.head(5)"
   ]
  },
  {
   "cell_type": "code",
   "execution_count": 40,
   "id": "df868ec4",
   "metadata": {},
   "outputs": [
    {
     "name": "stdout",
     "output_type": "stream",
     "text": [
      "10000\n"
     ]
    }
   ],
   "source": [
    "unique_id = grouped_counts['uid'].unique().tolist()\n",
    "print(len(unique_id))"
   ]
  },
  {
   "cell_type": "markdown",
   "id": "101c44ef",
   "metadata": {},
   "source": [
    "# DP Noise"
   ]
  },
  {
   "cell_type": "code",
   "execution_count": 41,
   "id": "c6d4a715",
   "metadata": {},
   "outputs": [
    {
     "name": "stdout",
     "output_type": "stream",
     "text": [
      "0\n",
      "1\n",
      "2\n",
      "3\n",
      "4\n",
      "5\n",
      "6\n"
     ]
    }
   ],
   "source": [
    "import opendp.prelude as dp\n",
    "dp.enable_features(\"contrib\")\n",
    "\n",
    "#The Loop\n",
    "privacy_budget = [0.8, 0.5, 0.3, 0.1, 0.05, 0.01, 0.005]\n",
    "name = ['P8','P5','P3','P1','P05','P01','P005']\n",
    "\n",
    "# Ensure the 'Count' column is float before applying DP noise\n",
    "grouped_counts['Count'] = grouped_counts['Count'].astype(int).copy()\n",
    "\n",
    "for i in range(len(privacy_budget)):\n",
    "    print(i)\n",
    "    epsilon = privacy_budget[i] #Privacy budget\n",
    "    sensitivity = 1\n",
    "    scale = sensitivity / epsilon\n",
    "    \n",
    "    # Create the Laplace mechanism\n",
    "    laplace_mechanism = dp.m.make_laplace(\n",
    "        dp.atom_domain(T=int), dp.absolute_distance(T=int), scale)\n",
    "    \n",
    "    #Define the Laplace function\n",
    "    def apply_dp_noise(count):\n",
    "        return laplace_mechanism(count)\n",
    "    \n",
    "    #Name for the new column\n",
    "    text = name[i]\n",
    "    \n",
    "    grouped_counts[f'Count_{text}'] = grouped_counts['Count'].apply(lambda x: max(laplace_mechanism(x), 0))\n",
    "    "
   ]
  },
  {
   "cell_type": "code",
   "execution_count": 42,
   "id": "cdca8174",
   "metadata": {},
   "outputs": [
    {
     "data": {
      "text/html": [
       "<div>\n",
       "<style scoped>\n",
       "    .dataframe tbody tr th:only-of-type {\n",
       "        vertical-align: middle;\n",
       "    }\n",
       "\n",
       "    .dataframe tbody tr th {\n",
       "        vertical-align: top;\n",
       "    }\n",
       "\n",
       "    .dataframe thead th {\n",
       "        text-align: right;\n",
       "    }\n",
       "</style>\n",
       "<table border=\"1\" class=\"dataframe\">\n",
       "  <thead>\n",
       "    <tr style=\"text-align: right;\">\n",
       "      <th></th>\n",
       "      <th>uid</th>\n",
       "      <th>day</th>\n",
       "      <th>GEOID</th>\n",
       "      <th>County</th>\n",
       "      <th>Count</th>\n",
       "      <th>Count_P8</th>\n",
       "      <th>Count_P5</th>\n",
       "      <th>Count_P3</th>\n",
       "      <th>Count_P1</th>\n",
       "      <th>Count_P05</th>\n",
       "      <th>Count_P01</th>\n",
       "      <th>Count_P005</th>\n",
       "    </tr>\n",
       "  </thead>\n",
       "  <tbody>\n",
       "    <tr>\n",
       "      <th>0</th>\n",
       "      <td>1</td>\n",
       "      <td>1</td>\n",
       "      <td>550870103001</td>\n",
       "      <td>55087</td>\n",
       "      <td>1</td>\n",
       "      <td>1</td>\n",
       "      <td>4</td>\n",
       "      <td>1</td>\n",
       "      <td>1</td>\n",
       "      <td>0</td>\n",
       "      <td>0</td>\n",
       "      <td>0</td>\n",
       "    </tr>\n",
       "    <tr>\n",
       "      <th>1</th>\n",
       "      <td>1</td>\n",
       "      <td>1</td>\n",
       "      <td>550870106021</td>\n",
       "      <td>55087</td>\n",
       "      <td>1</td>\n",
       "      <td>2</td>\n",
       "      <td>0</td>\n",
       "      <td>12</td>\n",
       "      <td>0</td>\n",
       "      <td>41</td>\n",
       "      <td>2</td>\n",
       "      <td>0</td>\n",
       "    </tr>\n",
       "    <tr>\n",
       "      <th>2</th>\n",
       "      <td>1</td>\n",
       "      <td>1</td>\n",
       "      <td>550870107001</td>\n",
       "      <td>55087</td>\n",
       "      <td>1</td>\n",
       "      <td>5</td>\n",
       "      <td>0</td>\n",
       "      <td>0</td>\n",
       "      <td>11</td>\n",
       "      <td>8</td>\n",
       "      <td>0</td>\n",
       "      <td>0</td>\n",
       "    </tr>\n",
       "    <tr>\n",
       "      <th>3</th>\n",
       "      <td>1</td>\n",
       "      <td>1</td>\n",
       "      <td>550870107003</td>\n",
       "      <td>55087</td>\n",
       "      <td>1</td>\n",
       "      <td>3</td>\n",
       "      <td>4</td>\n",
       "      <td>0</td>\n",
       "      <td>2</td>\n",
       "      <td>48</td>\n",
       "      <td>45</td>\n",
       "      <td>375</td>\n",
       "    </tr>\n",
       "    <tr>\n",
       "      <th>4</th>\n",
       "      <td>1</td>\n",
       "      <td>1</td>\n",
       "      <td>550870107004</td>\n",
       "      <td>55087</td>\n",
       "      <td>1</td>\n",
       "      <td>2</td>\n",
       "      <td>4</td>\n",
       "      <td>2</td>\n",
       "      <td>10</td>\n",
       "      <td>0</td>\n",
       "      <td>0</td>\n",
       "      <td>0</td>\n",
       "    </tr>\n",
       "    <tr>\n",
       "      <th>5</th>\n",
       "      <td>1</td>\n",
       "      <td>1</td>\n",
       "      <td>550870108001</td>\n",
       "      <td>55087</td>\n",
       "      <td>4</td>\n",
       "      <td>4</td>\n",
       "      <td>2</td>\n",
       "      <td>8</td>\n",
       "      <td>0</td>\n",
       "      <td>0</td>\n",
       "      <td>0</td>\n",
       "      <td>28</td>\n",
       "    </tr>\n",
       "    <tr>\n",
       "      <th>6</th>\n",
       "      <td>1</td>\n",
       "      <td>1</td>\n",
       "      <td>550870108002</td>\n",
       "      <td>55087</td>\n",
       "      <td>5</td>\n",
       "      <td>6</td>\n",
       "      <td>8</td>\n",
       "      <td>16</td>\n",
       "      <td>6</td>\n",
       "      <td>61</td>\n",
       "      <td>0</td>\n",
       "      <td>75</td>\n",
       "    </tr>\n",
       "    <tr>\n",
       "      <th>7</th>\n",
       "      <td>1</td>\n",
       "      <td>1</td>\n",
       "      <td>550870109002</td>\n",
       "      <td>55087</td>\n",
       "      <td>1</td>\n",
       "      <td>0</td>\n",
       "      <td>2</td>\n",
       "      <td>2</td>\n",
       "      <td>10</td>\n",
       "      <td>70</td>\n",
       "      <td>40</td>\n",
       "      <td>159</td>\n",
       "    </tr>\n",
       "    <tr>\n",
       "      <th>8</th>\n",
       "      <td>1</td>\n",
       "      <td>1</td>\n",
       "      <td>550870110022</td>\n",
       "      <td>55087</td>\n",
       "      <td>1</td>\n",
       "      <td>1</td>\n",
       "      <td>2</td>\n",
       "      <td>8</td>\n",
       "      <td>0</td>\n",
       "      <td>0</td>\n",
       "      <td>0</td>\n",
       "      <td>0</td>\n",
       "    </tr>\n",
       "    <tr>\n",
       "      <th>9</th>\n",
       "      <td>1</td>\n",
       "      <td>1</td>\n",
       "      <td>550870125031</td>\n",
       "      <td>55087</td>\n",
       "      <td>5</td>\n",
       "      <td>5</td>\n",
       "      <td>4</td>\n",
       "      <td>3</td>\n",
       "      <td>4</td>\n",
       "      <td>0</td>\n",
       "      <td>116</td>\n",
       "      <td>0</td>\n",
       "    </tr>\n",
       "  </tbody>\n",
       "</table>\n",
       "</div>"
      ],
      "text/plain": [
       "   uid  day         GEOID County  Count  Count_P8  Count_P5  Count_P3  \\\n",
       "0    1    1  550870103001  55087      1         1         4         1   \n",
       "1    1    1  550870106021  55087      1         2         0        12   \n",
       "2    1    1  550870107001  55087      1         5         0         0   \n",
       "3    1    1  550870107003  55087      1         3         4         0   \n",
       "4    1    1  550870107004  55087      1         2         4         2   \n",
       "5    1    1  550870108001  55087      4         4         2         8   \n",
       "6    1    1  550870108002  55087      5         6         8        16   \n",
       "7    1    1  550870109002  55087      1         0         2         2   \n",
       "8    1    1  550870110022  55087      1         1         2         8   \n",
       "9    1    1  550870125031  55087      5         5         4         3   \n",
       "\n",
       "   Count_P1  Count_P05  Count_P01  Count_P005  \n",
       "0         1          0          0           0  \n",
       "1         0         41          2           0  \n",
       "2        11          8          0           0  \n",
       "3         2         48         45         375  \n",
       "4        10          0          0           0  \n",
       "5         0          0          0          28  \n",
       "6         6         61          0          75  \n",
       "7        10         70         40         159  \n",
       "8         0          0          0           0  \n",
       "9         4          0        116           0  "
      ]
     },
     "execution_count": 42,
     "metadata": {},
     "output_type": "execute_result"
    }
   ],
   "source": [
    "grouped_counts.head(10)"
   ]
  },
  {
   "cell_type": "markdown",
   "id": "d6301f89",
   "metadata": {},
   "source": [
    "#"
   ]
  },
  {
   "cell_type": "markdown",
   "id": "2e118245",
   "metadata": {},
   "source": [
    "# Home Location"
   ]
  },
  {
   "cell_type": "code",
   "execution_count": 44,
   "id": "64c857c6",
   "metadata": {},
   "outputs": [
    {
     "name": "stdout",
     "output_type": "stream",
     "text": [
      "(10000, 3)\n"
     ]
    },
    {
     "data": {
      "text/html": [
       "<div>\n",
       "<style scoped>\n",
       "    .dataframe tbody tr th:only-of-type {\n",
       "        vertical-align: middle;\n",
       "    }\n",
       "\n",
       "    .dataframe tbody tr th {\n",
       "        vertical-align: top;\n",
       "    }\n",
       "\n",
       "    .dataframe thead th {\n",
       "        text-align: right;\n",
       "    }\n",
       "</style>\n",
       "<table border=\"1\" class=\"dataframe\">\n",
       "  <thead>\n",
       "    <tr style=\"text-align: right;\">\n",
       "      <th></th>\n",
       "      <th>uid</th>\n",
       "      <th>lat</th>\n",
       "      <th>lng</th>\n",
       "    </tr>\n",
       "  </thead>\n",
       "  <tbody>\n",
       "    <tr>\n",
       "      <th>0</th>\n",
       "      <td>1</td>\n",
       "      <td>44.249624</td>\n",
       "      <td>-88.409313</td>\n",
       "    </tr>\n",
       "    <tr>\n",
       "      <th>1</th>\n",
       "      <td>2</td>\n",
       "      <td>44.265812</td>\n",
       "      <td>-88.481455</td>\n",
       "    </tr>\n",
       "    <tr>\n",
       "      <th>2</th>\n",
       "      <td>3</td>\n",
       "      <td>45.304181</td>\n",
       "      <td>-89.677755</td>\n",
       "    </tr>\n",
       "    <tr>\n",
       "      <th>3</th>\n",
       "      <td>4</td>\n",
       "      <td>44.289490</td>\n",
       "      <td>-88.547518</td>\n",
       "    </tr>\n",
       "    <tr>\n",
       "      <th>4</th>\n",
       "      <td>5</td>\n",
       "      <td>42.737984</td>\n",
       "      <td>-87.795110</td>\n",
       "    </tr>\n",
       "  </tbody>\n",
       "</table>\n",
       "</div>"
      ],
      "text/plain": [
       "   uid        lat        lng\n",
       "0    1  44.249624 -88.409313\n",
       "1    2  44.265812 -88.481455\n",
       "2    3  45.304181 -89.677755\n",
       "3    4  44.289490 -88.547518\n",
       "4    5  42.737984 -87.795110"
      ]
     },
     "execution_count": 44,
     "metadata": {},
     "output_type": "execute_result"
    }
   ],
   "source": [
    "home = pd.read_csv(\"Home_location_4Week_10000_WI_realpop.csv\")\n",
    "home = home.drop(columns = 'Unnamed: 0')\n",
    "print(home.shape)\n",
    "home.head()"
   ]
  },
  {
   "cell_type": "code",
   "execution_count": 45,
   "id": "148a739b",
   "metadata": {},
   "outputs": [
    {
     "data": {
      "text/html": [
       "<div>\n",
       "<style scoped>\n",
       "    .dataframe tbody tr th:only-of-type {\n",
       "        vertical-align: middle;\n",
       "    }\n",
       "\n",
       "    .dataframe tbody tr th {\n",
       "        vertical-align: top;\n",
       "    }\n",
       "\n",
       "    .dataframe thead th {\n",
       "        text-align: right;\n",
       "    }\n",
       "</style>\n",
       "<table border=\"1\" class=\"dataframe\">\n",
       "  <thead>\n",
       "    <tr style=\"text-align: right;\">\n",
       "      <th></th>\n",
       "      <th>uid</th>\n",
       "      <th>lat</th>\n",
       "      <th>lng</th>\n",
       "      <th>geometry</th>\n",
       "    </tr>\n",
       "  </thead>\n",
       "  <tbody>\n",
       "    <tr>\n",
       "      <th>0</th>\n",
       "      <td>1</td>\n",
       "      <td>44.249624</td>\n",
       "      <td>-88.409313</td>\n",
       "      <td>POINT (-88.40931 44.24962)</td>\n",
       "    </tr>\n",
       "    <tr>\n",
       "      <th>1</th>\n",
       "      <td>2</td>\n",
       "      <td>44.265812</td>\n",
       "      <td>-88.481455</td>\n",
       "      <td>POINT (-88.48146 44.26581)</td>\n",
       "    </tr>\n",
       "    <tr>\n",
       "      <th>2</th>\n",
       "      <td>3</td>\n",
       "      <td>45.304181</td>\n",
       "      <td>-89.677755</td>\n",
       "      <td>POINT (-89.67775 45.30418)</td>\n",
       "    </tr>\n",
       "    <tr>\n",
       "      <th>3</th>\n",
       "      <td>4</td>\n",
       "      <td>44.289490</td>\n",
       "      <td>-88.547518</td>\n",
       "      <td>POINT (-88.54752 44.28949)</td>\n",
       "    </tr>\n",
       "    <tr>\n",
       "      <th>4</th>\n",
       "      <td>5</td>\n",
       "      <td>42.737984</td>\n",
       "      <td>-87.795110</td>\n",
       "      <td>POINT (-87.79511 42.73798)</td>\n",
       "    </tr>\n",
       "  </tbody>\n",
       "</table>\n",
       "</div>"
      ],
      "text/plain": [
       "   uid        lat        lng                    geometry\n",
       "0    1  44.249624 -88.409313  POINT (-88.40931 44.24962)\n",
       "1    2  44.265812 -88.481455  POINT (-88.48146 44.26581)\n",
       "2    3  45.304181 -89.677755  POINT (-89.67775 45.30418)\n",
       "3    4  44.289490 -88.547518  POINT (-88.54752 44.28949)\n",
       "4    5  42.737984 -87.795110  POINT (-87.79511 42.73798)"
      ]
     },
     "execution_count": 45,
     "metadata": {},
     "output_type": "execute_result"
    }
   ],
   "source": [
    "# Convert latitude/longitude into Point geometry\n",
    "geometry = [Point(xy) for xy in zip(home[\"lng\"], home[\"lat\"])] #Convert coordinate to points\n",
    "\n",
    "# Create a GeoDataFrame with the same CRS as the Census Tract shapefile\n",
    "home_points_gdf = gpd.GeoDataFrame(home, geometry=geometry, crs=\"EPSG:4326\")\n",
    "\n",
    "home_points_gdf.head()  # Check that geometry was created correctly"
   ]
  },
  {
   "cell_type": "code",
   "execution_count": 46,
   "id": "4682a297",
   "metadata": {},
   "outputs": [
    {
     "name": "stdout",
     "output_type": "stream",
     "text": [
      "Tracts CRS: EPSG:4326\n",
      "Points CRS: EPSG:4326\n"
     ]
    }
   ],
   "source": [
    "print(\"Tracts CRS:\", tracts.crs)\n",
    "print(\"Points CRS:\", home_points_gdf.crs)"
   ]
  },
  {
   "cell_type": "code",
   "execution_count": 47,
   "id": "fe417693",
   "metadata": {},
   "outputs": [
    {
     "name": "stdout",
     "output_type": "stream",
     "text": [
      "67\n"
     ]
    },
    {
     "data": {
      "text/html": [
       "<div>\n",
       "<style scoped>\n",
       "    .dataframe tbody tr th:only-of-type {\n",
       "        vertical-align: middle;\n",
       "    }\n",
       "\n",
       "    .dataframe tbody tr th {\n",
       "        vertical-align: top;\n",
       "    }\n",
       "\n",
       "    .dataframe thead th {\n",
       "        text-align: right;\n",
       "    }\n",
       "</style>\n",
       "<table border=\"1\" class=\"dataframe\">\n",
       "  <thead>\n",
       "    <tr style=\"text-align: right;\">\n",
       "      <th></th>\n",
       "      <th>GEOID</th>\n",
       "      <th>geometry</th>\n",
       "      <th>County</th>\n",
       "    </tr>\n",
       "  </thead>\n",
       "  <tbody>\n",
       "    <tr>\n",
       "      <th>0</th>\n",
       "      <td>551332016003</td>\n",
       "      <td>POLYGON ((-88.19888 42.93020, -88.19884 42.930...</td>\n",
       "      <td>55133</td>\n",
       "    </tr>\n",
       "    <tr>\n",
       "      <th>1</th>\n",
       "      <td>551332015043</td>\n",
       "      <td>POLYGON ((-88.08879 42.92421, -88.08866 42.924...</td>\n",
       "      <td>55133</td>\n",
       "    </tr>\n",
       "    <tr>\n",
       "      <th>2</th>\n",
       "      <td>551332025004</td>\n",
       "      <td>POLYGON ((-88.22182 43.00307, -88.22180 43.003...</td>\n",
       "      <td>55133</td>\n",
       "    </tr>\n",
       "  </tbody>\n",
       "</table>\n",
       "</div>"
      ],
      "text/plain": [
       "          GEOID                                           geometry County\n",
       "0  551332016003  POLYGON ((-88.19888 42.93020, -88.19884 42.930...  55133\n",
       "1  551332015043  POLYGON ((-88.08879 42.92421, -88.08866 42.924...  55133\n",
       "2  551332025004  POLYGON ((-88.22182 43.00307, -88.22180 43.003...  55133"
      ]
     },
     "execution_count": 47,
     "metadata": {},
     "output_type": "execute_result"
    }
   ],
   "source": [
    "print(len(tracts['County'].unique().tolist()))\n",
    "tracts.head(3)"
   ]
  },
  {
   "cell_type": "code",
   "execution_count": 48,
   "id": "45be8f9b",
   "metadata": {
    "scrolled": true
   },
   "outputs": [
    {
     "name": "stdout",
     "output_type": "stream",
     "text": [
      "(10000, 7)\n"
     ]
    },
    {
     "data": {
      "text/html": [
       "<div>\n",
       "<style scoped>\n",
       "    .dataframe tbody tr th:only-of-type {\n",
       "        vertical-align: middle;\n",
       "    }\n",
       "\n",
       "    .dataframe tbody tr th {\n",
       "        vertical-align: top;\n",
       "    }\n",
       "\n",
       "    .dataframe thead th {\n",
       "        text-align: right;\n",
       "    }\n",
       "</style>\n",
       "<table border=\"1\" class=\"dataframe\">\n",
       "  <thead>\n",
       "    <tr style=\"text-align: right;\">\n",
       "      <th></th>\n",
       "      <th>uid</th>\n",
       "      <th>lat</th>\n",
       "      <th>lng</th>\n",
       "      <th>geometry</th>\n",
       "      <th>index_right</th>\n",
       "      <th>GEOID</th>\n",
       "      <th>County</th>\n",
       "    </tr>\n",
       "  </thead>\n",
       "  <tbody>\n",
       "    <tr>\n",
       "      <th>0</th>\n",
       "      <td>1</td>\n",
       "      <td>44.249624</td>\n",
       "      <td>-88.409313</td>\n",
       "      <td>POINT (-88.40931 44.24962)</td>\n",
       "      <td>4080</td>\n",
       "      <td>550870108002</td>\n",
       "      <td>55087</td>\n",
       "    </tr>\n",
       "    <tr>\n",
       "      <th>1</th>\n",
       "      <td>2</td>\n",
       "      <td>44.265812</td>\n",
       "      <td>-88.481455</td>\n",
       "      <td>POINT (-88.48146 44.26581)</td>\n",
       "      <td>3980</td>\n",
       "      <td>550870125062</td>\n",
       "      <td>55087</td>\n",
       "    </tr>\n",
       "    <tr>\n",
       "      <th>2</th>\n",
       "      <td>3</td>\n",
       "      <td>45.304181</td>\n",
       "      <td>-89.677755</td>\n",
       "      <td>POINT (-89.67775 45.30418)</td>\n",
       "      <td>1020</td>\n",
       "      <td>550699607001</td>\n",
       "      <td>55069</td>\n",
       "    </tr>\n",
       "  </tbody>\n",
       "</table>\n",
       "</div>"
      ],
      "text/plain": [
       "   uid        lat        lng                    geometry  index_right  \\\n",
       "0    1  44.249624 -88.409313  POINT (-88.40931 44.24962)         4080   \n",
       "1    2  44.265812 -88.481455  POINT (-88.48146 44.26581)         3980   \n",
       "2    3  45.304181 -89.677755  POINT (-89.67775 45.30418)         1020   \n",
       "\n",
       "          GEOID County  \n",
       "0  550870108002  55087  \n",
       "1  550870125062  55087  \n",
       "2  550699607001  55069  "
      ]
     },
     "execution_count": 48,
     "metadata": {},
     "output_type": "execute_result"
    }
   ],
   "source": [
    "home_joined_gdf = gpd.sjoin(home_points_gdf, tracts, how=\"left\", predicate=\"within\")\n",
    "print(home_joined_gdf.shape)\n",
    "home_joined_gdf.head(3)"
   ]
  },
  {
   "cell_type": "code",
   "execution_count": 49,
   "id": "ffaa76c1",
   "metadata": {},
   "outputs": [
    {
     "data": {
      "text/html": [
       "<div>\n",
       "<style scoped>\n",
       "    .dataframe tbody tr th:only-of-type {\n",
       "        vertical-align: middle;\n",
       "    }\n",
       "\n",
       "    .dataframe tbody tr th {\n",
       "        vertical-align: top;\n",
       "    }\n",
       "\n",
       "    .dataframe thead th {\n",
       "        text-align: right;\n",
       "    }\n",
       "</style>\n",
       "<table border=\"1\" class=\"dataframe\">\n",
       "  <thead>\n",
       "    <tr style=\"text-align: right;\">\n",
       "      <th></th>\n",
       "      <th>uid</th>\n",
       "      <th>lat</th>\n",
       "      <th>lng</th>\n",
       "      <th>geometry</th>\n",
       "      <th>index_right</th>\n",
       "      <th>GEOID</th>\n",
       "      <th>County</th>\n",
       "      <th>home_geoid</th>\n",
       "    </tr>\n",
       "  </thead>\n",
       "  <tbody>\n",
       "    <tr>\n",
       "      <th>0</th>\n",
       "      <td>1</td>\n",
       "      <td>44.249624</td>\n",
       "      <td>-88.409313</td>\n",
       "      <td>POINT (-88.40931 44.24962)</td>\n",
       "      <td>4080</td>\n",
       "      <td>550870108002</td>\n",
       "      <td>55087</td>\n",
       "      <td>55087</td>\n",
       "    </tr>\n",
       "    <tr>\n",
       "      <th>1</th>\n",
       "      <td>2</td>\n",
       "      <td>44.265812</td>\n",
       "      <td>-88.481455</td>\n",
       "      <td>POINT (-88.48146 44.26581)</td>\n",
       "      <td>3980</td>\n",
       "      <td>550870125062</td>\n",
       "      <td>55087</td>\n",
       "      <td>55087</td>\n",
       "    </tr>\n",
       "    <tr>\n",
       "      <th>2</th>\n",
       "      <td>3</td>\n",
       "      <td>45.304181</td>\n",
       "      <td>-89.677755</td>\n",
       "      <td>POINT (-89.67775 45.30418)</td>\n",
       "      <td>1020</td>\n",
       "      <td>550699607001</td>\n",
       "      <td>55069</td>\n",
       "      <td>55069</td>\n",
       "    </tr>\n",
       "  </tbody>\n",
       "</table>\n",
       "</div>"
      ],
      "text/plain": [
       "   uid        lat        lng                    geometry  index_right  \\\n",
       "0    1  44.249624 -88.409313  POINT (-88.40931 44.24962)         4080   \n",
       "1    2  44.265812 -88.481455  POINT (-88.48146 44.26581)         3980   \n",
       "2    3  45.304181 -89.677755  POINT (-89.67775 45.30418)         1020   \n",
       "\n",
       "          GEOID County home_geoid  \n",
       "0  550870108002  55087      55087  \n",
       "1  550870125062  55087      55087  \n",
       "2  550699607001  55069      55069  "
      ]
     },
     "execution_count": 49,
     "metadata": {},
     "output_type": "execute_result"
    }
   ],
   "source": [
    "#home geoid at the county level\n",
    "home_joined_gdf['home_geoid'] = home_joined_gdf['GEOID'].str[:5] \n",
    "home_joined_gdf.head(3)"
   ]
  },
  {
   "cell_type": "code",
   "execution_count": 50,
   "id": "34cd9c78",
   "metadata": {},
   "outputs": [
    {
     "name": "stdout",
     "output_type": "stream",
     "text": [
      "67\n"
     ]
    }
   ],
   "source": [
    "print(len(home_joined_gdf['home_geoid'].unique().tolist()))"
   ]
  },
  {
   "cell_type": "markdown",
   "id": "1009829a",
   "metadata": {},
   "source": [
    "### This is where home list is computed!!! Important!!!"
   ]
  },
  {
   "cell_type": "code",
   "execution_count": 51,
   "id": "0c231813",
   "metadata": {},
   "outputs": [
    {
     "data": {
      "text/plain": [
       "10000"
      ]
     },
     "execution_count": 51,
     "metadata": {},
     "output_type": "execute_result"
    }
   ],
   "source": [
    "#Home list------------------------------------------------!!------------!!-----------\n",
    "home_list = home_joined_gdf['home_geoid'].tolist()\n",
    "len(home_list)"
   ]
  },
  {
   "cell_type": "code",
   "execution_count": 52,
   "id": "51273437",
   "metadata": {},
   "outputs": [
    {
     "data": {
      "text/plain": [
       "'550870108002'"
      ]
     },
     "execution_count": 52,
     "metadata": {},
     "output_type": "execute_result"
    }
   ],
   "source": [
    "home = home_joined_gdf[home_joined_gdf['uid'] == 1]['GEOID'][0]\n",
    "home"
   ]
  },
  {
   "cell_type": "code",
   "execution_count": 53,
   "id": "474a93bf",
   "metadata": {},
   "outputs": [
    {
     "data": {
      "text/html": [
       "<div>\n",
       "<style scoped>\n",
       "    .dataframe tbody tr th:only-of-type {\n",
       "        vertical-align: middle;\n",
       "    }\n",
       "\n",
       "    .dataframe tbody tr th {\n",
       "        vertical-align: top;\n",
       "    }\n",
       "\n",
       "    .dataframe thead th {\n",
       "        text-align: right;\n",
       "    }\n",
       "</style>\n",
       "<table border=\"1\" class=\"dataframe\">\n",
       "  <thead>\n",
       "    <tr style=\"text-align: right;\">\n",
       "      <th></th>\n",
       "      <th>GEOID</th>\n",
       "      <th>pop2020</th>\n",
       "    </tr>\n",
       "  </thead>\n",
       "  <tbody>\n",
       "    <tr>\n",
       "      <th>3106</th>\n",
       "      <td>06037</td>\n",
       "      <td>9989165.0</td>\n",
       "    </tr>\n",
       "    <tr>\n",
       "      <th>3107</th>\n",
       "      <td>46113</td>\n",
       "      <td>14309.0</td>\n",
       "    </tr>\n",
       "    <tr>\n",
       "      <th>3108</th>\n",
       "      <td>51515</td>\n",
       "      <td>6599.0</td>\n",
       "    </tr>\n",
       "  </tbody>\n",
       "</table>\n",
       "</div>"
      ],
      "text/plain": [
       "      GEOID    pop2020\n",
       "3106  06037  9989165.0\n",
       "3107  46113    14309.0\n",
       "3108  51515     6599.0"
      ]
     },
     "execution_count": 53,
     "metadata": {},
     "output_type": "execute_result"
    }
   ],
   "source": [
    "us_shape_file = pd.read_csv(\"../../Data/us_shapefile_county.csv\")\n",
    "\n",
    "#rename column\n",
    "rename = {\"FIPS code\" : \"GEOID\"}\n",
    "us_shape_file = us_shape_file.rename(columns = rename)\n",
    "us_shape_file[\"GEOID\"] = us_shape_file[\"GEOID\"].apply(lambda x: f\"{int(x):05d}\")\n",
    "us_shape_file = us_shape_file[['GEOID','pop2020']].copy()\n",
    "us_shape_file.tail(3)"
   ]
  },
  {
   "cell_type": "code",
   "execution_count": 54,
   "id": "563de838",
   "metadata": {},
   "outputs": [
    {
     "data": {
      "text/html": [
       "<div>\n",
       "<style scoped>\n",
       "    .dataframe tbody tr th:only-of-type {\n",
       "        vertical-align: middle;\n",
       "    }\n",
       "\n",
       "    .dataframe tbody tr th {\n",
       "        vertical-align: top;\n",
       "    }\n",
       "\n",
       "    .dataframe thead th {\n",
       "        text-align: right;\n",
       "    }\n",
       "</style>\n",
       "<table border=\"1\" class=\"dataframe\">\n",
       "  <thead>\n",
       "    <tr style=\"text-align: right;\">\n",
       "      <th></th>\n",
       "      <th>GEOID</th>\n",
       "      <th>Count</th>\n",
       "    </tr>\n",
       "  </thead>\n",
       "  <tbody>\n",
       "    <tr>\n",
       "      <th>0</th>\n",
       "      <td>55001</td>\n",
       "      <td>24</td>\n",
       "    </tr>\n",
       "    <tr>\n",
       "      <th>1</th>\n",
       "      <td>55003</td>\n",
       "      <td>31</td>\n",
       "    </tr>\n",
       "    <tr>\n",
       "      <th>2</th>\n",
       "      <td>55005</td>\n",
       "      <td>93</td>\n",
       "    </tr>\n",
       "  </tbody>\n",
       "</table>\n",
       "</div>"
      ],
      "text/plain": [
       "   GEOID  Count\n",
       "0  55001     24\n",
       "1  55003     31\n",
       "2  55005     93"
      ]
     },
     "execution_count": 54,
     "metadata": {},
     "output_type": "execute_result"
    }
   ],
   "source": [
    "home_groped= home_joined_gdf.groupby('home_geoid').size().reset_index(name='Count')\n",
    "rename = {'home_geoid' :'GEOID'}\n",
    "home_groped = home_groped.rename(columns = rename)\n",
    "home_groped.head(3)"
   ]
  },
  {
   "cell_type": "code",
   "execution_count": 55,
   "id": "a965dc8b",
   "metadata": {},
   "outputs": [
    {
     "data": {
      "text/html": [
       "<div>\n",
       "<style scoped>\n",
       "    .dataframe tbody tr th:only-of-type {\n",
       "        vertical-align: middle;\n",
       "    }\n",
       "\n",
       "    .dataframe tbody tr th {\n",
       "        vertical-align: top;\n",
       "    }\n",
       "\n",
       "    .dataframe thead th {\n",
       "        text-align: right;\n",
       "    }\n",
       "</style>\n",
       "<table border=\"1\" class=\"dataframe\">\n",
       "  <thead>\n",
       "    <tr style=\"text-align: right;\">\n",
       "      <th></th>\n",
       "      <th>GEOID</th>\n",
       "      <th>pop2020</th>\n",
       "      <th>Count</th>\n",
       "    </tr>\n",
       "  </thead>\n",
       "  <tbody>\n",
       "    <tr>\n",
       "      <th>0</th>\n",
       "      <td>55011</td>\n",
       "      <td>13320.0</td>\n",
       "      <td>17</td>\n",
       "    </tr>\n",
       "    <tr>\n",
       "      <th>1</th>\n",
       "      <td>55099</td>\n",
       "      <td>14015.0</td>\n",
       "      <td>22</td>\n",
       "    </tr>\n",
       "    <tr>\n",
       "      <th>2</th>\n",
       "      <td>55107</td>\n",
       "      <td>14168.0</td>\n",
       "      <td>20</td>\n",
       "    </tr>\n",
       "  </tbody>\n",
       "</table>\n",
       "</div>"
      ],
      "text/plain": [
       "   GEOID  pop2020  Count\n",
       "0  55011  13320.0     17\n",
       "1  55099  14015.0     22\n",
       "2  55107  14168.0     20"
      ]
     },
     "execution_count": 55,
     "metadata": {},
     "output_type": "execute_result"
    }
   ],
   "source": [
    "home_merged = pd.merge(us_shape_file, home_groped, on = 'GEOID', how = 'inner')\n",
    "home_merged.head(3)"
   ]
  },
  {
   "cell_type": "code",
   "execution_count": 56,
   "id": "e1c84473",
   "metadata": {},
   "outputs": [
    {
     "data": {
      "image/png": "[encoded data removed]",
      "text/plain": [
       "<Figure size 640x480 with 1 Axes>"
      ]
     },
     "metadata": {},
     "output_type": "display_data"
    }
   ],
   "source": [
    "home_merged['log_pop2021'] = np.log10(home_merged['pop2020'] + 1)\n",
    "home_merged['log_Count'] = np.log10(home_merged['Count'] + 1)\n",
    "\n",
    "import matplotlib.pyplot as plt\n",
    "\n",
    "plt.scatter(home_merged['log_pop2021'], home_merged['log_Count'], color='blue')\n",
    "#plt.scatter(home_merged['pop2021'], home_merged['Count'], color='blue')\n",
    "plt.xlabel('Log10(County Population)')\n",
    "plt.ylabel('Log10(Number of Home Locations)')\n",
    "plt.title('Log-Log Relationship: Population vs. Home Locations')\n",
    "plt.grid(True)\n",
    "plt.show()"
   ]
  },
  {
   "cell_type": "markdown",
   "id": "2fdba82e",
   "metadata": {},
   "source": [
    "### Test if it is a linear relationship"
   ]
  },
  {
   "cell_type": "code",
   "execution_count": 57,
   "id": "6037ae7c",
   "metadata": {},
   "outputs": [
    {
     "name": "stdout",
     "output_type": "stream",
     "text": [
      "R² score: 0.9602762930201532\n",
      "Estimated slope (β₁): 0.0021224375763957866\n",
      "Estimated intercept (β₀): -36.40852305499587\n"
     ]
    }
   ],
   "source": [
    "from sklearn.linear_model import LinearRegression\n",
    "\n",
    "# Reshape X to 2D\n",
    "X = home_merged[['pop2020']]  # double brackets = 2D DataFrame\n",
    "y = home_merged['Count']\n",
    "\n",
    "model = LinearRegression()\n",
    "model.fit(X, y)\n",
    "\n",
    "r_squared = model.score(X, y)\n",
    "print(\"R² score:\", r_squared)\n",
    "\n",
    "slope = model.coef_[0]\n",
    "intercept = model.intercept_\n",
    "\n",
    "print(f\"Estimated slope (β₁): {slope}\")\n",
    "print(f\"Estimated intercept (β₀): {intercept}\")"
   ]
  },
  {
   "cell_type": "markdown",
   "id": "454a6234",
   "metadata": {},
   "source": [
    "#"
   ]
  },
  {
   "cell_type": "markdown",
   "id": "a7e20d94",
   "metadata": {},
   "source": [
    "# The Loop"
   ]
  },
  {
   "cell_type": "code",
   "execution_count": 58,
   "id": "2978f295",
   "metadata": {},
   "outputs": [
    {
     "name": "stdout",
     "output_type": "stream",
     "text": [
      "(3526025, 12)\n"
     ]
    },
    {
     "data": {
      "text/html": [
       "<div>\n",
       "<style scoped>\n",
       "    .dataframe tbody tr th:only-of-type {\n",
       "        vertical-align: middle;\n",
       "    }\n",
       "\n",
       "    .dataframe tbody tr th {\n",
       "        vertical-align: top;\n",
       "    }\n",
       "\n",
       "    .dataframe thead th {\n",
       "        text-align: right;\n",
       "    }\n",
       "</style>\n",
       "<table border=\"1\" class=\"dataframe\">\n",
       "  <thead>\n",
       "    <tr style=\"text-align: right;\">\n",
       "      <th></th>\n",
       "      <th>uid</th>\n",
       "      <th>day</th>\n",
       "      <th>GEOID</th>\n",
       "      <th>County</th>\n",
       "      <th>Count</th>\n",
       "      <th>Count_P8</th>\n",
       "      <th>Count_P5</th>\n",
       "      <th>Count_P3</th>\n",
       "      <th>Count_P1</th>\n",
       "      <th>Count_P05</th>\n",
       "      <th>Count_P01</th>\n",
       "      <th>Count_P005</th>\n",
       "    </tr>\n",
       "  </thead>\n",
       "  <tbody>\n",
       "    <tr>\n",
       "      <th>0</th>\n",
       "      <td>1</td>\n",
       "      <td>1</td>\n",
       "      <td>550870103001</td>\n",
       "      <td>55087</td>\n",
       "      <td>1</td>\n",
       "      <td>1</td>\n",
       "      <td>4</td>\n",
       "      <td>1</td>\n",
       "      <td>1</td>\n",
       "      <td>0</td>\n",
       "      <td>0</td>\n",
       "      <td>0</td>\n",
       "    </tr>\n",
       "    <tr>\n",
       "      <th>1</th>\n",
       "      <td>1</td>\n",
       "      <td>1</td>\n",
       "      <td>550870106021</td>\n",
       "      <td>55087</td>\n",
       "      <td>1</td>\n",
       "      <td>2</td>\n",
       "      <td>0</td>\n",
       "      <td>12</td>\n",
       "      <td>0</td>\n",
       "      <td>41</td>\n",
       "      <td>2</td>\n",
       "      <td>0</td>\n",
       "    </tr>\n",
       "    <tr>\n",
       "      <th>2</th>\n",
       "      <td>1</td>\n",
       "      <td>1</td>\n",
       "      <td>550870107001</td>\n",
       "      <td>55087</td>\n",
       "      <td>1</td>\n",
       "      <td>5</td>\n",
       "      <td>0</td>\n",
       "      <td>0</td>\n",
       "      <td>11</td>\n",
       "      <td>8</td>\n",
       "      <td>0</td>\n",
       "      <td>0</td>\n",
       "    </tr>\n",
       "    <tr>\n",
       "      <th>3</th>\n",
       "      <td>1</td>\n",
       "      <td>1</td>\n",
       "      <td>550870107003</td>\n",
       "      <td>55087</td>\n",
       "      <td>1</td>\n",
       "      <td>3</td>\n",
       "      <td>4</td>\n",
       "      <td>0</td>\n",
       "      <td>2</td>\n",
       "      <td>48</td>\n",
       "      <td>45</td>\n",
       "      <td>375</td>\n",
       "    </tr>\n",
       "    <tr>\n",
       "      <th>4</th>\n",
       "      <td>1</td>\n",
       "      <td>1</td>\n",
       "      <td>550870107004</td>\n",
       "      <td>55087</td>\n",
       "      <td>1</td>\n",
       "      <td>2</td>\n",
       "      <td>4</td>\n",
       "      <td>2</td>\n",
       "      <td>10</td>\n",
       "      <td>0</td>\n",
       "      <td>0</td>\n",
       "      <td>0</td>\n",
       "    </tr>\n",
       "  </tbody>\n",
       "</table>\n",
       "</div>"
      ],
      "text/plain": [
       "   uid  day         GEOID County  Count  Count_P8  Count_P5  Count_P3  \\\n",
       "0    1    1  550870103001  55087      1         1         4         1   \n",
       "1    1    1  550870106021  55087      1         2         0        12   \n",
       "2    1    1  550870107001  55087      1         5         0         0   \n",
       "3    1    1  550870107003  55087      1         3         4         0   \n",
       "4    1    1  550870107004  55087      1         2         4         2   \n",
       "\n",
       "   Count_P1  Count_P05  Count_P01  Count_P005  \n",
       "0         1          0          0           0  \n",
       "1         0         41          2           0  \n",
       "2        11          8          0           0  \n",
       "3         2         48         45         375  \n",
       "4        10          0          0           0  "
      ]
     },
     "execution_count": 58,
     "metadata": {},
     "output_type": "execute_result"
    }
   ],
   "source": [
    "print(grouped_counts.shape)\n",
    "grouped_counts.head(5)"
   ]
  },
  {
   "cell_type": "markdown",
   "id": "2e79261c",
   "metadata": {},
   "source": [
    "### Assign home locaton to each individual"
   ]
  },
  {
   "cell_type": "code",
   "execution_count": 59,
   "id": "eba16a0b",
   "metadata": {},
   "outputs": [
    {
     "name": "stdout",
     "output_type": "stream",
     "text": [
      "0\n",
      "4000\n",
      "8000\n"
     ]
    }
   ],
   "source": [
    "# Enpty Data Frame\n",
    "ori_des_df = pd.DataFrame()\n",
    "person_id = grouped_counts[\"uid\"].unique().tolist()\n",
    "\n",
    "#The Loop\n",
    "for i in range(len(person_id)):\n",
    "    \n",
    "    if i % 4000 == 0:\n",
    "        print(i)\n",
    "    \n",
    "    #Reset_index: This makes sure that everytime we do the subset, index start with 1\n",
    "    person = grouped_counts[grouped_counts['uid'] == person_id[i]].reset_index().copy()\n",
    "    person = person.drop(columns = ['index']) #since it create a separate column of index, we drop it!\n",
    "    \n",
    "    #Use existing data to find home location\n",
    "    Origin = home_list[i]\n",
    "    \n",
    "    #Insert Origin, shift county to the right as 'Destination'\n",
    "    person.insert(3, \"Origin\", Origin)\n",
    "    \n",
    "    #rename column\n",
    "    rename = {'County': 'Destination'}\n",
    "    person = person.rename(columns = rename)\n",
    "    \n",
    "    #Concat the result\n",
    "    #Note that each row are count for one census block, convert them into origin and destinaion\n",
    "    ori_des_df = pd.concat([ori_des_df, person], axis = 0)"
   ]
  },
  {
   "cell_type": "code",
   "execution_count": 60,
   "id": "d2f7cecc",
   "metadata": {},
   "outputs": [
    {
     "name": "stdout",
     "output_type": "stream",
     "text": [
      "(3526025, 13)\n"
     ]
    },
    {
     "data": {
      "text/html": [
       "<div>\n",
       "<style scoped>\n",
       "    .dataframe tbody tr th:only-of-type {\n",
       "        vertical-align: middle;\n",
       "    }\n",
       "\n",
       "    .dataframe tbody tr th {\n",
       "        vertical-align: top;\n",
       "    }\n",
       "\n",
       "    .dataframe thead th {\n",
       "        text-align: right;\n",
       "    }\n",
       "</style>\n",
       "<table border=\"1\" class=\"dataframe\">\n",
       "  <thead>\n",
       "    <tr style=\"text-align: right;\">\n",
       "      <th></th>\n",
       "      <th>uid</th>\n",
       "      <th>day</th>\n",
       "      <th>GEOID</th>\n",
       "      <th>Origin</th>\n",
       "      <th>Destination</th>\n",
       "      <th>Count</th>\n",
       "      <th>Count_P8</th>\n",
       "      <th>Count_P5</th>\n",
       "      <th>Count_P3</th>\n",
       "      <th>Count_P1</th>\n",
       "      <th>Count_P05</th>\n",
       "      <th>Count_P01</th>\n",
       "      <th>Count_P005</th>\n",
       "    </tr>\n",
       "  </thead>\n",
       "  <tbody>\n",
       "    <tr>\n",
       "      <th>0</th>\n",
       "      <td>1</td>\n",
       "      <td>1</td>\n",
       "      <td>550870103001</td>\n",
       "      <td>55087</td>\n",
       "      <td>55087</td>\n",
       "      <td>1</td>\n",
       "      <td>1</td>\n",
       "      <td>4</td>\n",
       "      <td>1</td>\n",
       "      <td>1</td>\n",
       "      <td>0</td>\n",
       "      <td>0</td>\n",
       "      <td>0</td>\n",
       "    </tr>\n",
       "    <tr>\n",
       "      <th>1</th>\n",
       "      <td>1</td>\n",
       "      <td>1</td>\n",
       "      <td>550870106021</td>\n",
       "      <td>55087</td>\n",
       "      <td>55087</td>\n",
       "      <td>1</td>\n",
       "      <td>2</td>\n",
       "      <td>0</td>\n",
       "      <td>12</td>\n",
       "      <td>0</td>\n",
       "      <td>41</td>\n",
       "      <td>2</td>\n",
       "      <td>0</td>\n",
       "    </tr>\n",
       "    <tr>\n",
       "      <th>2</th>\n",
       "      <td>1</td>\n",
       "      <td>1</td>\n",
       "      <td>550870107001</td>\n",
       "      <td>55087</td>\n",
       "      <td>55087</td>\n",
       "      <td>1</td>\n",
       "      <td>5</td>\n",
       "      <td>0</td>\n",
       "      <td>0</td>\n",
       "      <td>11</td>\n",
       "      <td>8</td>\n",
       "      <td>0</td>\n",
       "      <td>0</td>\n",
       "    </tr>\n",
       "  </tbody>\n",
       "</table>\n",
       "</div>"
      ],
      "text/plain": [
       "   uid  day         GEOID Origin Destination  Count  Count_P8  Count_P5  \\\n",
       "0    1    1  550870103001  55087       55087      1         1         4   \n",
       "1    1    1  550870106021  55087       55087      1         2         0   \n",
       "2    1    1  550870107001  55087       55087      1         5         0   \n",
       "\n",
       "   Count_P3  Count_P1  Count_P05  Count_P01  Count_P005  \n",
       "0         1         1          0          0           0  \n",
       "1        12         0         41          2           0  \n",
       "2         0        11          8          0           0  "
      ]
     },
     "execution_count": 60,
     "metadata": {},
     "output_type": "execute_result"
    }
   ],
   "source": [
    "print(ori_des_df.shape)\n",
    "ori_des_df.head(3)\n",
    "#ori_des_df.to_excel(\"ori_des_df.xlsx\")"
   ]
  },
  {
   "cell_type": "code",
   "execution_count": 62,
   "id": "f964c3d7",
   "metadata": {},
   "outputs": [],
   "source": [
    "ori_des_df = ori_des_df[ori_des_df['Origin'].isin(E_wi_index)]\n",
    "ori_des_df = ori_des_df[ori_des_df['Destination'].isin(E_wi_index)]"
   ]
  },
  {
   "cell_type": "code",
   "execution_count": 63,
   "id": "16e0f2c7",
   "metadata": {},
   "outputs": [
    {
     "data": {
      "text/plain": [
       "(3526025, 13)"
      ]
     },
     "execution_count": 63,
     "metadata": {},
     "output_type": "execute_result"
    }
   ],
   "source": [
    "ori_des_df.shape"
   ]
  },
  {
   "cell_type": "markdown",
   "id": "2ad9fc6b",
   "metadata": {},
   "source": [
    "# Computing-Weight-Matrix"
   ]
  },
  {
   "cell_type": "markdown",
   "id": "c06d23b6",
   "metadata": {},
   "source": [
    "### Average Matrix Epsilon"
   ]
  },
  {
   "cell_type": "code",
   "execution_count": 67,
   "id": "09df4adb",
   "metadata": {},
   "outputs": [],
   "source": [
    "def avg_mt_epsilon(Count):\n",
    "    \n",
    "    '''\n",
    "    Calculating average mobility matrix for each day (1–30).\n",
    "    This returns a dictionay of Daily Matrix\n",
    "    '''\n",
    "    \n",
    "    Matrix_dict = {}\n",
    "\n",
    "    for i in range(30):\n",
    "        n = i + 1\n",
    "        df = ori_des_df[ori_des_df['day'] == n]\n",
    "        \n",
    "        county_group = df.groupby(['Origin', 'Destination'])[Count].sum().reset_index()\n",
    "\n",
    "        count_Matrix = county_group.pivot_table(index='Origin', \n",
    "                                                columns='Destination', \n",
    "                                                values= Count, \n",
    "                                                fill_value=0)\n",
    "        \n",
    "        #This is a new line of code added by ChatGTP: sort index in accending order\n",
    "        count_Matrix = count_Matrix.sort_index().sort_index(axis=1)\n",
    "\n",
    "        origin_list = count_Matrix.index.tolist()\n",
    "        destination_list = count_Matrix.columns.tolist()\n",
    "        #This is just to ensure if the row index and column index are in the same orde\n",
    "        #As well as to ensure they also equals to the initial SEIR condition county order\n",
    "        #If nothing goes wrong the loop will not print anything\n",
    "\n",
    "        if origin_list != destination_list:\n",
    "            print(f'Day {n}: origin list ≠ destination list')\n",
    "\n",
    "        if origin_list != E_wi_index:\n",
    "            print(f'Day {n}: origin list ≠ SEIR initial condition list')\n",
    "\n",
    "        Matrix = count_Matrix.reset_index(drop=True)\n",
    "        Matrix_dict[n] = Matrix\n",
    "\n",
    "    return Matrix_dict"
   ]
  },
  {
   "cell_type": "markdown",
   "id": "f3fdf5a7",
   "metadata": {},
   "source": [
    "### Daily Average Matrix"
   ]
  },
  {
   "cell_type": "code",
   "execution_count": 68,
   "id": "953e70bf",
   "metadata": {},
   "outputs": [],
   "source": [
    "def daily_avg_wtmt(Matrix_dict):\n",
    "    \n",
    "    '''\n",
    "    This function compute the daily average mobility matrix\n",
    "    '''\n",
    "    total_visit = Matrix_dict[1].copy()\n",
    "    mt_length = len(total_visit.columns)\n",
    "    \n",
    "    for i in range(1, 30):\n",
    "        n = i + 1 #n therefore starts from 2\n",
    "        #print(n)\n",
    "        \n",
    "        if n % 10 == 0:\n",
    "            print(n)\n",
    "            \n",
    "        total_visit += Matrix_dict[n]\n",
    "        \n",
    "    daily_avg_visit = total_visit/30\n",
    "    \n",
    "    divisor = [daily_avg_visit.iloc[i].sum() for i in range(mt_length)]\n",
    "    average_wt_mt = daily_avg_visit.div(divisor, axis=0)\n",
    "    \n",
    "    return average_wt_mt"
   ]
  },
  {
   "cell_type": "markdown",
   "id": "fe4edbfd",
   "metadata": {},
   "source": [
    "# Saving the Weight Matrix"
   ]
  },
  {
   "cell_type": "code",
   "execution_count": 101,
   "id": "7fba0995",
   "metadata": {},
   "outputs": [
    {
     "data": {
      "text/html": [
       "<div>\n",
       "<style scoped>\n",
       "    .dataframe tbody tr th:only-of-type {\n",
       "        vertical-align: middle;\n",
       "    }\n",
       "\n",
       "    .dataframe tbody tr th {\n",
       "        vertical-align: top;\n",
       "    }\n",
       "\n",
       "    .dataframe thead th {\n",
       "        text-align: right;\n",
       "    }\n",
       "</style>\n",
       "<table border=\"1\" class=\"dataframe\">\n",
       "  <thead>\n",
       "    <tr style=\"text-align: right;\">\n",
       "      <th>Destination</th>\n",
       "      <th>55001</th>\n",
       "      <th>55003</th>\n",
       "      <th>55005</th>\n",
       "      <th>55007</th>\n",
       "      <th>55009</th>\n",
       "      <th>55011</th>\n",
       "      <th>55013</th>\n",
       "      <th>55015</th>\n",
       "      <th>55017</th>\n",
       "      <th>55019</th>\n",
       "      <th>...</th>\n",
       "      <th>55123</th>\n",
       "      <th>55125</th>\n",
       "      <th>55127</th>\n",
       "      <th>55129</th>\n",
       "      <th>55131</th>\n",
       "      <th>55133</th>\n",
       "      <th>55135</th>\n",
       "      <th>55137</th>\n",
       "      <th>55139</th>\n",
       "      <th>55141</th>\n",
       "    </tr>\n",
       "  </thead>\n",
       "  <tbody>\n",
       "    <tr>\n",
       "      <th>0</th>\n",
       "      <td>155</td>\n",
       "      <td>0</td>\n",
       "      <td>0</td>\n",
       "      <td>0</td>\n",
       "      <td>21</td>\n",
       "      <td>0</td>\n",
       "      <td>0</td>\n",
       "      <td>0</td>\n",
       "      <td>0</td>\n",
       "      <td>3</td>\n",
       "      <td>...</td>\n",
       "      <td>7</td>\n",
       "      <td>2</td>\n",
       "      <td>1</td>\n",
       "      <td>0</td>\n",
       "      <td>0</td>\n",
       "      <td>7</td>\n",
       "      <td>13</td>\n",
       "      <td>3</td>\n",
       "      <td>6</td>\n",
       "      <td>26</td>\n",
       "    </tr>\n",
       "    <tr>\n",
       "      <th>1</th>\n",
       "      <td>0</td>\n",
       "      <td>260</td>\n",
       "      <td>0</td>\n",
       "      <td>38</td>\n",
       "      <td>7</td>\n",
       "      <td>0</td>\n",
       "      <td>0</td>\n",
       "      <td>0</td>\n",
       "      <td>2</td>\n",
       "      <td>1</td>\n",
       "      <td>...</td>\n",
       "      <td>1</td>\n",
       "      <td>2</td>\n",
       "      <td>0</td>\n",
       "      <td>0</td>\n",
       "      <td>0</td>\n",
       "      <td>17</td>\n",
       "      <td>3</td>\n",
       "      <td>0</td>\n",
       "      <td>1</td>\n",
       "      <td>2</td>\n",
       "    </tr>\n",
       "    <tr>\n",
       "      <th>2</th>\n",
       "      <td>1</td>\n",
       "      <td>1</td>\n",
       "      <td>1037</td>\n",
       "      <td>7</td>\n",
       "      <td>5</td>\n",
       "      <td>6</td>\n",
       "      <td>20</td>\n",
       "      <td>8</td>\n",
       "      <td>36</td>\n",
       "      <td>5</td>\n",
       "      <td>...</td>\n",
       "      <td>7</td>\n",
       "      <td>5</td>\n",
       "      <td>0</td>\n",
       "      <td>57</td>\n",
       "      <td>0</td>\n",
       "      <td>6</td>\n",
       "      <td>9</td>\n",
       "      <td>0</td>\n",
       "      <td>7</td>\n",
       "      <td>4</td>\n",
       "    </tr>\n",
       "  </tbody>\n",
       "</table>\n",
       "<p>3 rows × 67 columns</p>\n",
       "</div>"
      ],
      "text/plain": [
       "Destination  55001  55003  55005  55007  55009  55011  55013  55015  55017  \\\n",
       "0              155      0      0      0     21      0      0      0      0   \n",
       "1                0    260      0     38      7      0      0      0      2   \n",
       "2                1      1   1037      7      5      6     20      8     36   \n",
       "\n",
       "Destination  55019  ...  55123  55125  55127  55129  55131  55133  55135  \\\n",
       "0                3  ...      7      2      1      0      0      7     13   \n",
       "1                1  ...      1      2      0      0      0     17      3   \n",
       "2                5  ...      7      5      0     57      0      6      9   \n",
       "\n",
       "Destination  55137  55139  55141  \n",
       "0                3      6     26  \n",
       "1                0      1      2  \n",
       "2                0      7      4  \n",
       "\n",
       "[3 rows x 67 columns]"
      ]
     },
     "execution_count": 101,
     "metadata": {},
     "output_type": "execute_result"
    }
   ],
   "source": [
    "Matrix_dict = avg_mt_epsilon('Count')\n",
    "Matrix_dict[1].head(3)"
   ]
  },
  {
   "cell_type": "code",
   "execution_count": 102,
   "id": "0f4d2935",
   "metadata": {},
   "outputs": [
    {
     "name": "stdout",
     "output_type": "stream",
     "text": [
      "10\n",
      "20\n",
      "30\n"
     ]
    },
    {
     "data": {
      "text/html": [
       "<div>\n",
       "<style scoped>\n",
       "    .dataframe tbody tr th:only-of-type {\n",
       "        vertical-align: middle;\n",
       "    }\n",
       "\n",
       "    .dataframe tbody tr th {\n",
       "        vertical-align: top;\n",
       "    }\n",
       "\n",
       "    .dataframe thead th {\n",
       "        text-align: right;\n",
       "    }\n",
       "</style>\n",
       "<table border=\"1\" class=\"dataframe\">\n",
       "  <thead>\n",
       "    <tr style=\"text-align: right;\">\n",
       "      <th>Destination</th>\n",
       "      <th>55001</th>\n",
       "      <th>55003</th>\n",
       "      <th>55005</th>\n",
       "      <th>55007</th>\n",
       "      <th>55009</th>\n",
       "      <th>55011</th>\n",
       "      <th>55013</th>\n",
       "      <th>55015</th>\n",
       "      <th>55017</th>\n",
       "      <th>55019</th>\n",
       "      <th>...</th>\n",
       "      <th>55123</th>\n",
       "      <th>55125</th>\n",
       "      <th>55127</th>\n",
       "      <th>55129</th>\n",
       "      <th>55131</th>\n",
       "      <th>55133</th>\n",
       "      <th>55135</th>\n",
       "      <th>55137</th>\n",
       "      <th>55139</th>\n",
       "      <th>55141</th>\n",
       "    </tr>\n",
       "  </thead>\n",
       "  <tbody>\n",
       "    <tr>\n",
       "      <th>0</th>\n",
       "      <td>0.176975</td>\n",
       "      <td>0.000000</td>\n",
       "      <td>0.001174</td>\n",
       "      <td>0.000000</td>\n",
       "      <td>0.064289</td>\n",
       "      <td>0.000090</td>\n",
       "      <td>0.000181</td>\n",
       "      <td>0.007946</td>\n",
       "      <td>0.001354</td>\n",
       "      <td>0.001986</td>\n",
       "      <td>...</td>\n",
       "      <td>0.012009</td>\n",
       "      <td>0.001354</td>\n",
       "      <td>0.003521</td>\n",
       "      <td>0.000361</td>\n",
       "      <td>0.002980</td>\n",
       "      <td>0.027178</td>\n",
       "      <td>0.020587</td>\n",
       "      <td>0.006230</td>\n",
       "      <td>0.023476</td>\n",
       "      <td>0.061400</td>\n",
       "    </tr>\n",
       "    <tr>\n",
       "      <th>1</th>\n",
       "      <td>0.001713</td>\n",
       "      <td>0.473764</td>\n",
       "      <td>0.018222</td>\n",
       "      <td>0.034731</td>\n",
       "      <td>0.021578</td>\n",
       "      <td>0.000343</td>\n",
       "      <td>0.003151</td>\n",
       "      <td>0.001918</td>\n",
       "      <td>0.008015</td>\n",
       "      <td>0.002398</td>\n",
       "      <td>...</td>\n",
       "      <td>0.001028</td>\n",
       "      <td>0.003357</td>\n",
       "      <td>0.002192</td>\n",
       "      <td>0.001713</td>\n",
       "      <td>0.002535</td>\n",
       "      <td>0.029251</td>\n",
       "      <td>0.005480</td>\n",
       "      <td>0.001165</td>\n",
       "      <td>0.008974</td>\n",
       "      <td>0.006371</td>\n",
       "    </tr>\n",
       "    <tr>\n",
       "      <th>2</th>\n",
       "      <td>0.001426</td>\n",
       "      <td>0.002897</td>\n",
       "      <td>0.473799</td>\n",
       "      <td>0.002529</td>\n",
       "      <td>0.006507</td>\n",
       "      <td>0.002989</td>\n",
       "      <td>0.008393</td>\n",
       "      <td>0.004461</td>\n",
       "      <td>0.038767</td>\n",
       "      <td>0.003012</td>\n",
       "      <td>...</td>\n",
       "      <td>0.004162</td>\n",
       "      <td>0.000943</td>\n",
       "      <td>0.004047</td>\n",
       "      <td>0.027316</td>\n",
       "      <td>0.001633</td>\n",
       "      <td>0.009703</td>\n",
       "      <td>0.004231</td>\n",
       "      <td>0.001081</td>\n",
       "      <td>0.007864</td>\n",
       "      <td>0.005679</td>\n",
       "    </tr>\n",
       "  </tbody>\n",
       "</table>\n",
       "<p>3 rows × 67 columns</p>\n",
       "</div>"
      ],
      "text/plain": [
       "Destination     55001     55003     55005     55007     55009     55011  \\\n",
       "0            0.176975  0.000000  0.001174  0.000000  0.064289  0.000090   \n",
       "1            0.001713  0.473764  0.018222  0.034731  0.021578  0.000343   \n",
       "2            0.001426  0.002897  0.473799  0.002529  0.006507  0.002989   \n",
       "\n",
       "Destination     55013     55015     55017     55019  ...     55123     55125  \\\n",
       "0            0.000181  0.007946  0.001354  0.001986  ...  0.012009  0.001354   \n",
       "1            0.003151  0.001918  0.008015  0.002398  ...  0.001028  0.003357   \n",
       "2            0.008393  0.004461  0.038767  0.003012  ...  0.004162  0.000943   \n",
       "\n",
       "Destination     55127     55129     55131     55133     55135     55137  \\\n",
       "0            0.003521  0.000361  0.002980  0.027178  0.020587  0.006230   \n",
       "1            0.002192  0.001713  0.002535  0.029251  0.005480  0.001165   \n",
       "2            0.004047  0.027316  0.001633  0.009703  0.004231  0.001081   \n",
       "\n",
       "Destination     55139     55141  \n",
       "0            0.023476  0.061400  \n",
       "1            0.008974  0.006371  \n",
       "2            0.007864  0.005679  \n",
       "\n",
       "[3 rows x 67 columns]"
      ]
     },
     "execution_count": 102,
     "metadata": {},
     "output_type": "execute_result"
    }
   ],
   "source": [
    "daily_avg = daily_avg_wtmt(Matrix_dict)\n",
    "daily_avg.head(3)"
   ]
  },
  {
   "cell_type": "code",
   "execution_count": 103,
   "id": "bfbff2ef",
   "metadata": {},
   "outputs": [
    {
     "name": "stdout",
     "output_type": "stream",
     "text": [
      "Mean: 0.42448859472037204\n",
      "Median: 0.36489652961053703\n",
      "Min: 0.14626945786366077\n",
      "Max: 0.867181631351428\n"
     ]
    }
   ],
   "source": [
    "# Calculations\n",
    "import statistics\n",
    "\n",
    "average_wt_mt_np = daily_avg.to_numpy()\n",
    "Pii_skmob = [average_wt_mt_np[i][i] for i in range(67)]\n",
    "\n",
    "\n",
    "data = Pii_skmob \n",
    "mean_value = sum(data) / len(data)  # Mean\n",
    "median_value = statistics.median(data)  # Median\n",
    "min_value = min(data)  # Min\n",
    "max_value = max(data)  # Max\n",
    "\n",
    "# Output\n",
    "print(f\"Mean: {mean_value}\")\n",
    "print(f\"Median: {median_value}\")\n",
    "print(f\"Min: {min_value}\")\n",
    "print(f\"Max: {max_value}\")"
   ]
  },
  {
   "cell_type": "code",
   "execution_count": 100,
   "id": "e4a8efb3",
   "metadata": {},
   "outputs": [],
   "source": [
    "#daily_avg.to_csv(\"WI_ori_indi.csv\")"
   ]
  },
  {
   "cell_type": "markdown",
   "id": "b9a6c00a",
   "metadata": {},
   "source": [
    "# Compares it to the Original"
   ]
  },
  {
   "cell_type": "code",
   "execution_count": 104,
   "id": "fec8dc6c",
   "metadata": {},
   "outputs": [
    {
     "data": {
      "image/png": "[encoded data removed]",
      "text/plain": [
       "<Figure size 640x480 with 1 Axes>"
      ]
     },
     "metadata": {},
     "output_type": "display_data"
    }
   ],
   "source": [
    "import numpy as np\n",
    "import seaborn as sns\n",
    "import matplotlib.pyplot as plt\n",
    "\n",
    "# Create KDE plot\n",
    "sns.kdeplot(Pii_ori, label=\"Real Matrix\", fill=True)\n",
    "sns.kdeplot(Pii_skmob, label=\"Skmob Generated Matrix\", fill=True)\n",
    "\n",
    "# Labels and legend\n",
    "plt.xlabel(\"Value\")\n",
    "plt.ylabel(\"Density\")\n",
    "plt.title(\"Density Distribution of Pii\")\n",
    "plt.legend()\n",
    "\n",
    "#Lables and legend\n",
    "#plt.savefig(\"Pii_Comparison.png\", dpi=300, bbox_inches='tight')\n",
    "\n",
    "# Show plot\n",
    "plt.show()\n"
   ]
  },
  {
   "cell_type": "code",
   "execution_count": null,
   "id": "a060f87c",
   "metadata": {},
   "outputs": [],
   "source": []
  }
 ],
 "metadata": {
  "kernelspec": {
   "display_name": "Python 3 (ipykernel)",
   "language": "python",
   "name": "python3"
  },
  "language_info": {
   "codemirror_mode": {
    "name": "ipython",
    "version": 3
   },
   "file_extension": ".py",
   "mimetype": "text/x-python",
   "name": "python",
   "nbconvert_exporter": "python",
   "pygments_lexer": "ipython3",
   "version": "3.11.5"
  }
 },
 "nbformat": 4,
 "nbformat_minor": 5
}
