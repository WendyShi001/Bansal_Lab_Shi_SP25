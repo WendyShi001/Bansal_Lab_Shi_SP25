{
 "cells": [
  {
   "cell_type": "markdown",
   "id": "795b34f9",
   "metadata": {},
   "source": [
    "<h1><center> Metapopulation Model with SIR <br><br> \n",
    "<center> NetworkX Application<br><br> \n",
    "Wendy Shi</center></center>"
   ]
  },
  {
   "cell_type": "markdown",
   "id": "658f5c16",
   "metadata": {},
   "source": [
    "# Table of Content"
   ]
  },
  {
   "cell_type": "markdown",
   "id": "dd3f39cb",
   "metadata": {},
   "source": [
    "1. [Seeding Events](#Seeding-Events)\n",
    "2. [Node Dictionary](#Node-Dictionary)\n",
    "3. [US Shape File](#US-Shape-File)\n",
    "4. [One simulation](#One-simulation)\n",
    "5. [20 Simulation](#20-Simulation)\n",
    "\n"
   ]
  },
  {
   "cell_type": "markdown",
   "id": "bb3c630d",
   "metadata": {},
   "source": [
    "# Preparation"
   ]
  },
  {
   "cell_type": "code",
   "execution_count": 1,
   "id": "e5833d69",
   "metadata": {},
   "outputs": [],
   "source": [
    "#Preparation\n",
    "import pandas as pd\n",
    "import numpy as np\n",
    "import matplotlib.pyplot as plt\n",
    "from scipy.integrate import odeint\n",
    "from scipy.interpolate import interp1d\n",
    "import scipy.stats as stats"
   ]
  },
  {
   "cell_type": "markdown",
   "id": "a3737406",
   "metadata": {},
   "source": [
    "# Seeding Events"
   ]
  },
  {
   "cell_type": "code",
   "execution_count": 2,
   "id": "f9359ca6",
   "metadata": {},
   "outputs": [
    {
     "name": "stdout",
     "output_type": "stream",
     "text": [
      "(2327, 5)\n"
     ]
    },
    {
     "data": {
      "text/html": [
       "<div>\n",
       "<style scoped>\n",
       "    .dataframe tbody tr th:only-of-type {\n",
       "        vertical-align: middle;\n",
       "    }\n",
       "\n",
       "    .dataframe tbody tr th {\n",
       "        vertical-align: top;\n",
       "    }\n",
       "\n",
       "    .dataframe thead th {\n",
       "        text-align: right;\n",
       "    }\n",
       "</style>\n",
       "<table border=\"1\" class=\"dataframe\">\n",
       "  <thead>\n",
       "    <tr style=\"text-align: right;\">\n",
       "      <th></th>\n",
       "      <th>S</th>\n",
       "      <th>E</th>\n",
       "      <th>I</th>\n",
       "      <th>R</th>\n",
       "      <th>index</th>\n",
       "    </tr>\n",
       "  </thead>\n",
       "  <tbody>\n",
       "    <tr>\n",
       "      <th>0</th>\n",
       "      <td>58877</td>\n",
       "      <td>0</td>\n",
       "      <td>0</td>\n",
       "      <td>0</td>\n",
       "      <td>0</td>\n",
       "    </tr>\n",
       "    <tr>\n",
       "      <th>1</th>\n",
       "      <td>233140</td>\n",
       "      <td>0</td>\n",
       "      <td>0</td>\n",
       "      <td>0</td>\n",
       "      <td>1</td>\n",
       "    </tr>\n",
       "    <tr>\n",
       "      <th>2</th>\n",
       "      <td>25180</td>\n",
       "      <td>0</td>\n",
       "      <td>0</td>\n",
       "      <td>0</td>\n",
       "      <td>2</td>\n",
       "    </tr>\n",
       "  </tbody>\n",
       "</table>\n",
       "</div>"
      ],
      "text/plain": [
       "        S  E  I  R  index\n",
       "0   58877  0  0  0      0\n",
       "1  233140  0  0  0      1\n",
       "2   25180  0  0  0      2"
      ]
     },
     "execution_count": 2,
     "metadata": {},
     "output_type": "execute_result"
    }
   ],
   "source": [
    "column_names = ['S', 'E', 'I', 'R']\n",
    "Seeding = pd.read_csv(\"../../Data/seed_1503_seed_corrected_undereporting_CDC_corrected_v3.txt\",\n",
    "                     delimiter=' ',\n",
    "                      names=column_names)\n",
    "Seeding['index'] = range(len(Seeding))\n",
    "print(Seeding.shape)\n",
    "Seeding.head(3)"
   ]
  },
  {
   "cell_type": "code",
   "execution_count": 3,
   "id": "44510428",
   "metadata": {},
   "outputs": [
    {
     "data": {
      "text/plain": [
       "[58877, 233140, 25180]"
      ]
     },
     "execution_count": 3,
     "metadata": {},
     "output_type": "execute_result"
    }
   ],
   "source": [
    "multiplier = Seeding[\"S\"].tolist()\n",
    "multiplier[:3]"
   ]
  },
  {
   "cell_type": "markdown",
   "id": "58af2859",
   "metadata": {},
   "source": [
    "# Node Dictionary"
   ]
  },
  {
   "cell_type": "code",
   "execution_count": 4,
   "id": "0edcd2e0",
   "metadata": {},
   "outputs": [
    {
     "name": "stdout",
     "output_type": "stream",
     "text": [
      "(2327, 3)\n"
     ]
    },
    {
     "data": {
      "text/html": [
       "<div>\n",
       "<style scoped>\n",
       "    .dataframe tbody tr th:only-of-type {\n",
       "        vertical-align: middle;\n",
       "    }\n",
       "\n",
       "    .dataframe tbody tr th {\n",
       "        vertical-align: top;\n",
       "    }\n",
       "\n",
       "    .dataframe thead th {\n",
       "        text-align: right;\n",
       "    }\n",
       "</style>\n",
       "<table border=\"1\" class=\"dataframe\">\n",
       "  <thead>\n",
       "    <tr style=\"text-align: right;\">\n",
       "      <th></th>\n",
       "      <th>index</th>\n",
       "      <th>GEO_ID</th>\n",
       "      <th>State Code</th>\n",
       "    </tr>\n",
       "  </thead>\n",
       "  <tbody>\n",
       "    <tr>\n",
       "      <th>0</th>\n",
       "      <td>0</td>\n",
       "      <td>01001</td>\n",
       "      <td>01</td>\n",
       "    </tr>\n",
       "    <tr>\n",
       "      <th>1</th>\n",
       "      <td>1</td>\n",
       "      <td>01003</td>\n",
       "      <td>01</td>\n",
       "    </tr>\n",
       "    <tr>\n",
       "      <th>2</th>\n",
       "      <td>2</td>\n",
       "      <td>01005</td>\n",
       "      <td>01</td>\n",
       "    </tr>\n",
       "  </tbody>\n",
       "</table>\n",
       "</div>"
      ],
      "text/plain": [
       "   index GEO_ID State Code\n",
       "0      0  01001         01\n",
       "1      1  01003         01\n",
       "2      2  01005         01"
      ]
     },
     "execution_count": 4,
     "metadata": {},
     "output_type": "execute_result"
    }
   ],
   "source": [
    "node_dict = pd.read_csv(\"../../Data/nodes_considered.csv\")\n",
    "node_dict[\"GEO_ID\"] = node_dict[\"GEO_ID\"].apply(lambda x: f\"{int(x):05d}\")\n",
    "node_dict[\"State Code\"] = node_dict[\"GEO_ID\"].str[:2]\n",
    "print(node_dict.shape)\n",
    "node_dict.head(3)"
   ]
  },
  {
   "cell_type": "code",
   "execution_count": 8,
   "id": "eff0ef17",
   "metadata": {},
   "outputs": [
    {
     "name": "stdout",
     "output_type": "stream",
     "text": [
      "(67, 7)\n"
     ]
    },
    {
     "data": {
      "text/html": [
       "<div>\n",
       "<style scoped>\n",
       "    .dataframe tbody tr th:only-of-type {\n",
       "        vertical-align: middle;\n",
       "    }\n",
       "\n",
       "    .dataframe tbody tr th {\n",
       "        vertical-align: top;\n",
       "    }\n",
       "\n",
       "    .dataframe thead th {\n",
       "        text-align: right;\n",
       "    }\n",
       "</style>\n",
       "<table border=\"1\" class=\"dataframe\">\n",
       "  <thead>\n",
       "    <tr style=\"text-align: right;\">\n",
       "      <th></th>\n",
       "      <th>index</th>\n",
       "      <th>GEOID</th>\n",
       "      <th>State Code</th>\n",
       "      <th>S</th>\n",
       "      <th>E</th>\n",
       "      <th>I</th>\n",
       "      <th>R</th>\n",
       "    </tr>\n",
       "  </thead>\n",
       "  <tbody>\n",
       "    <tr>\n",
       "      <th>0</th>\n",
       "      <td>2245</td>\n",
       "      <td>55001</td>\n",
       "      <td>55</td>\n",
       "      <td>20673</td>\n",
       "      <td>0</td>\n",
       "      <td>0</td>\n",
       "      <td>0</td>\n",
       "    </tr>\n",
       "    <tr>\n",
       "      <th>1</th>\n",
       "      <td>2246</td>\n",
       "      <td>55003</td>\n",
       "      <td>55</td>\n",
       "      <td>15977</td>\n",
       "      <td>0</td>\n",
       "      <td>0</td>\n",
       "      <td>0</td>\n",
       "    </tr>\n",
       "    <tr>\n",
       "      <th>2</th>\n",
       "      <td>2247</td>\n",
       "      <td>55005</td>\n",
       "      <td>55</td>\n",
       "      <td>46643</td>\n",
       "      <td>0</td>\n",
       "      <td>0</td>\n",
       "      <td>0</td>\n",
       "    </tr>\n",
       "  </tbody>\n",
       "</table>\n",
       "</div>"
      ],
      "text/plain": [
       "   index  GEOID State Code      S  E  I  R\n",
       "0   2245  55001         55  20673  0  0  0\n",
       "1   2246  55003         55  15977  0  0  0\n",
       "2   2247  55005         55  46643  0  0  0"
      ]
     },
     "execution_count": 8,
     "metadata": {},
     "output_type": "execute_result"
    }
   ],
   "source": [
    "WI = node_dict[node_dict[\"State Code\"] == '55']\n",
    "WI_SEIR = pd.merge(WI, Seeding, on = 'index', how = 'inner')\n",
    "#IL_SEIR = IL_SEIR.drop(columns=['index']) #Drop the index when merging SEIR and New York GEOID\n",
    "\n",
    "rename = {'GEO_ID' : 'GEOID'}\n",
    "WI_SEIR = WI_SEIR.rename(columns = rename)\n",
    "\n",
    "print(WI_SEIR.shape)\n",
    "WI_SEIR.head(3)"
   ]
  },
  {
   "cell_type": "markdown",
   "id": "f4717207",
   "metadata": {},
   "source": [
    "# Safegraph Data"
   ]
  },
  {
   "cell_type": "code",
   "execution_count": 9,
   "id": "fd780ac2",
   "metadata": {},
   "outputs": [],
   "source": [
    "#Open the 12 weight matrix\n",
    "index = WI_SEIR['index'].tolist()\n",
    "pop_list = WI_SEIR['S'].tolist()\n",
    "\n",
    "#retrieve data\n",
    "column_names = ['origin', 'destination', 'count', 'weight']\n",
    "for i in range(12):\n",
    "    n = i +1\n",
    "    \n",
    "    df = pd.read_csv(f\"../../Data/monthly_matrix_sd_county_month{n}_county.txt\", \n",
    "                     delimiter=' ', names=column_names)\n",
    "    \n",
    "    #Making sure all origin and destination are states in New York\n",
    "    df = df[(df['origin'].isin(index)) & (df['destination'].isin(index))]\n",
    "    \n",
    "    # Store the modified DataFrame\n",
    "    globals()[f'wt_mt{n}'] = df"
   ]
  },
  {
   "cell_type": "code",
   "execution_count": 10,
   "id": "fb443f71",
   "metadata": {},
   "outputs": [
    {
     "data": {
      "text/html": [
       "<div>\n",
       "<style scoped>\n",
       "    .dataframe tbody tr th:only-of-type {\n",
       "        vertical-align: middle;\n",
       "    }\n",
       "\n",
       "    .dataframe tbody tr th {\n",
       "        vertical-align: top;\n",
       "    }\n",
       "\n",
       "    .dataframe thead th {\n",
       "        text-align: right;\n",
       "    }\n",
       "</style>\n",
       "<table border=\"1\" class=\"dataframe\">\n",
       "  <thead>\n",
       "    <tr style=\"text-align: right;\">\n",
       "      <th></th>\n",
       "      <th>origin</th>\n",
       "      <th>destination</th>\n",
       "      <th>count</th>\n",
       "      <th>weight</th>\n",
       "    </tr>\n",
       "  </thead>\n",
       "  <tbody>\n",
       "    <tr>\n",
       "      <th>307170</th>\n",
       "      <td>2245</td>\n",
       "      <td>2255</td>\n",
       "      <td>12</td>\n",
       "      <td>0.034272</td>\n",
       "    </tr>\n",
       "    <tr>\n",
       "      <th>307171</th>\n",
       "      <td>2246</td>\n",
       "      <td>2255</td>\n",
       "      <td>12</td>\n",
       "      <td>0.001201</td>\n",
       "    </tr>\n",
       "    <tr>\n",
       "      <th>307172</th>\n",
       "      <td>2247</td>\n",
       "      <td>2255</td>\n",
       "      <td>12</td>\n",
       "      <td>0.000652</td>\n",
       "    </tr>\n",
       "  </tbody>\n",
       "</table>\n",
       "</div>"
      ],
      "text/plain": [
       "        origin  destination  count    weight\n",
       "307170    2245         2255     12  0.034272\n",
       "307171    2246         2255     12  0.001201\n",
       "307172    2247         2255     12  0.000652"
      ]
     },
     "execution_count": 10,
     "metadata": {},
     "output_type": "execute_result"
    }
   ],
   "source": [
    "wt_mt12.head(3)"
   ]
  },
  {
   "cell_type": "code",
   "execution_count": 11,
   "id": "873bcbce",
   "metadata": {},
   "outputs": [],
   "source": [
    "#Turn each data into a matrix\n",
    "#Transform the dataframe to a matrix with pivot table\n",
    "for i in range(12):\n",
    "    n = i+1\n",
    "    matrix = globals()[f'wt_mt{n}'].pivot_table(index='origin', \n",
    "                                                columns='destination', \n",
    "                                                values= 'weight', fill_value=0)\n",
    "    matrix = matrix.reset_index()\n",
    "    matrix = matrix.drop(columns = [\"origin\"]) #drop the origin column\n",
    "    globals()[f'matrix{n}'] = matrix"
   ]
  },
  {
   "cell_type": "code",
   "execution_count": 12,
   "id": "f638b15a",
   "metadata": {},
   "outputs": [],
   "source": [
    "for i in range(12):\n",
    "    n = i +1\n",
    "    count_df = globals()[f'matrix{n}'].multiply(pop_list, axis=0)\n",
    "    globals()[f'count_df{n}'] = count_df"
   ]
  },
  {
   "cell_type": "code",
   "execution_count": 13,
   "id": "5c582d9d",
   "metadata": {},
   "outputs": [
    {
     "name": "stdout",
     "output_type": "stream",
     "text": [
      "(67, 67)\n"
     ]
    },
    {
     "data": {
      "text/html": [
       "<div>\n",
       "<style scoped>\n",
       "    .dataframe tbody tr th:only-of-type {\n",
       "        vertical-align: middle;\n",
       "    }\n",
       "\n",
       "    .dataframe tbody tr th {\n",
       "        vertical-align: top;\n",
       "    }\n",
       "\n",
       "    .dataframe thead th {\n",
       "        text-align: right;\n",
       "    }\n",
       "</style>\n",
       "<table border=\"1\" class=\"dataframe\">\n",
       "  <thead>\n",
       "    <tr style=\"text-align: right;\">\n",
       "      <th>destination</th>\n",
       "      <th>2245</th>\n",
       "      <th>2246</th>\n",
       "      <th>2247</th>\n",
       "      <th>2248</th>\n",
       "      <th>2249</th>\n",
       "      <th>2250</th>\n",
       "      <th>2251</th>\n",
       "      <th>2252</th>\n",
       "      <th>2253</th>\n",
       "      <th>2254</th>\n",
       "      <th>...</th>\n",
       "      <th>2302</th>\n",
       "      <th>2303</th>\n",
       "      <th>2304</th>\n",
       "      <th>2305</th>\n",
       "      <th>2306</th>\n",
       "      <th>2307</th>\n",
       "      <th>2308</th>\n",
       "      <th>2309</th>\n",
       "      <th>2310</th>\n",
       "      <th>2311</th>\n",
       "    </tr>\n",
       "  </thead>\n",
       "  <tbody>\n",
       "    <tr>\n",
       "      <th>0</th>\n",
       "      <td>9673.052937</td>\n",
       "      <td>8.162328</td>\n",
       "      <td>11.796554</td>\n",
       "      <td>7.871987</td>\n",
       "      <td>29.497926</td>\n",
       "      <td>9.365685</td>\n",
       "      <td>4.140227</td>\n",
       "      <td>20.037157</td>\n",
       "      <td>16.107175</td>\n",
       "      <td>13.515416</td>\n",
       "      <td>...</td>\n",
       "      <td>16.688009</td>\n",
       "      <td>18.905401</td>\n",
       "      <td>30.417285</td>\n",
       "      <td>8.967933</td>\n",
       "      <td>43.130300</td>\n",
       "      <td>97.217495</td>\n",
       "      <td>20.322076</td>\n",
       "      <td>303.240211</td>\n",
       "      <td>39.198856</td>\n",
       "      <td>998.110083</td>\n",
       "    </tr>\n",
       "    <tr>\n",
       "      <th>1</th>\n",
       "      <td>9.692306</td>\n",
       "      <td>8948.435975</td>\n",
       "      <td>50.944432</td>\n",
       "      <td>637.053110</td>\n",
       "      <td>39.071210</td>\n",
       "      <td>12.899256</td>\n",
       "      <td>16.518552</td>\n",
       "      <td>8.791647</td>\n",
       "      <td>21.782982</td>\n",
       "      <td>16.239812</td>\n",
       "      <td>...</td>\n",
       "      <td>11.174757</td>\n",
       "      <td>25.936058</td>\n",
       "      <td>21.006382</td>\n",
       "      <td>25.351507</td>\n",
       "      <td>16.347968</td>\n",
       "      <td>26.914088</td>\n",
       "      <td>15.072267</td>\n",
       "      <td>10.543590</td>\n",
       "      <td>22.697896</td>\n",
       "      <td>22.162232</td>\n",
       "    </tr>\n",
       "    <tr>\n",
       "      <th>2</th>\n",
       "      <td>14.266333</td>\n",
       "      <td>34.881470</td>\n",
       "      <td>31867.957956</td>\n",
       "      <td>44.420664</td>\n",
       "      <td>32.901986</td>\n",
       "      <td>25.263702</td>\n",
       "      <td>136.922895</td>\n",
       "      <td>10.649669</td>\n",
       "      <td>621.815089</td>\n",
       "      <td>34.045350</td>\n",
       "      <td>...</td>\n",
       "      <td>14.809613</td>\n",
       "      <td>15.404075</td>\n",
       "      <td>14.404283</td>\n",
       "      <td>796.772864</td>\n",
       "      <td>17.406194</td>\n",
       "      <td>28.563917</td>\n",
       "      <td>13.661593</td>\n",
       "      <td>12.295461</td>\n",
       "      <td>16.628103</td>\n",
       "      <td>29.817047</td>\n",
       "    </tr>\n",
       "  </tbody>\n",
       "</table>\n",
       "<p>3 rows × 67 columns</p>\n",
       "</div>"
      ],
      "text/plain": [
       "destination         2245         2246          2247        2248       2249  \\\n",
       "0            9673.052937     8.162328     11.796554    7.871987  29.497926   \n",
       "1               9.692306  8948.435975     50.944432  637.053110  39.071210   \n",
       "2              14.266333    34.881470  31867.957956   44.420664  32.901986   \n",
       "\n",
       "destination       2250        2251       2252        2253       2254  ...  \\\n",
       "0             9.365685    4.140227  20.037157   16.107175  13.515416  ...   \n",
       "1            12.899256   16.518552   8.791647   21.782982  16.239812  ...   \n",
       "2            25.263702  136.922895  10.649669  621.815089  34.045350  ...   \n",
       "\n",
       "destination       2302       2303       2304        2305       2306  \\\n",
       "0            16.688009  18.905401  30.417285    8.967933  43.130300   \n",
       "1            11.174757  25.936058  21.006382   25.351507  16.347968   \n",
       "2            14.809613  15.404075  14.404283  796.772864  17.406194   \n",
       "\n",
       "destination       2307       2308        2309       2310        2311  \n",
       "0            97.217495  20.322076  303.240211  39.198856  998.110083  \n",
       "1            26.914088  15.072267   10.543590  22.697896   22.162232  \n",
       "2            28.563917  13.661593   12.295461  16.628103   29.817047  \n",
       "\n",
       "[3 rows x 67 columns]"
      ]
     },
     "execution_count": 13,
     "metadata": {},
     "output_type": "execute_result"
    }
   ],
   "source": [
    "average_count_df = sum(globals()[f'count_df{i}'] for i in range(1, 13)) / 12\n",
    "print(average_count_df.shape)\n",
    "average_count_df.head(3)"
   ]
  },
  {
   "cell_type": "code",
   "execution_count": 14,
   "id": "4abcf9e0",
   "metadata": {},
   "outputs": [
    {
     "data": {
      "text/html": [
       "<div>\n",
       "<style scoped>\n",
       "    .dataframe tbody tr th:only-of-type {\n",
       "        vertical-align: middle;\n",
       "    }\n",
       "\n",
       "    .dataframe tbody tr th {\n",
       "        vertical-align: top;\n",
       "    }\n",
       "\n",
       "    .dataframe thead th {\n",
       "        text-align: right;\n",
       "    }\n",
       "</style>\n",
       "<table border=\"1\" class=\"dataframe\">\n",
       "  <thead>\n",
       "    <tr style=\"text-align: right;\">\n",
       "      <th>destination</th>\n",
       "      <th>2245</th>\n",
       "      <th>2246</th>\n",
       "      <th>2247</th>\n",
       "      <th>2248</th>\n",
       "      <th>2249</th>\n",
       "      <th>2250</th>\n",
       "      <th>2251</th>\n",
       "      <th>2252</th>\n",
       "      <th>2253</th>\n",
       "      <th>2254</th>\n",
       "      <th>...</th>\n",
       "      <th>2302</th>\n",
       "      <th>2303</th>\n",
       "      <th>2304</th>\n",
       "      <th>2305</th>\n",
       "      <th>2306</th>\n",
       "      <th>2307</th>\n",
       "      <th>2308</th>\n",
       "      <th>2309</th>\n",
       "      <th>2310</th>\n",
       "      <th>2311</th>\n",
       "    </tr>\n",
       "  </thead>\n",
       "  <tbody>\n",
       "    <tr>\n",
       "      <th>0</th>\n",
       "      <td>0.616262</td>\n",
       "      <td>0.000520</td>\n",
       "      <td>0.000752</td>\n",
       "      <td>0.000502</td>\n",
       "      <td>0.001879</td>\n",
       "      <td>0.000597</td>\n",
       "      <td>0.000264</td>\n",
       "      <td>0.001277</td>\n",
       "      <td>0.001026</td>\n",
       "      <td>0.000861</td>\n",
       "      <td>...</td>\n",
       "      <td>0.001063</td>\n",
       "      <td>0.001204</td>\n",
       "      <td>0.001938</td>\n",
       "      <td>0.000571</td>\n",
       "      <td>0.002748</td>\n",
       "      <td>0.006194</td>\n",
       "      <td>0.001295</td>\n",
       "      <td>0.019319</td>\n",
       "      <td>0.002497</td>\n",
       "      <td>0.063589</td>\n",
       "    </tr>\n",
       "    <tr>\n",
       "      <th>1</th>\n",
       "      <td>0.000855</td>\n",
       "      <td>0.789798</td>\n",
       "      <td>0.004496</td>\n",
       "      <td>0.056227</td>\n",
       "      <td>0.003448</td>\n",
       "      <td>0.001139</td>\n",
       "      <td>0.001458</td>\n",
       "      <td>0.000776</td>\n",
       "      <td>0.001923</td>\n",
       "      <td>0.001433</td>\n",
       "      <td>...</td>\n",
       "      <td>0.000986</td>\n",
       "      <td>0.002289</td>\n",
       "      <td>0.001854</td>\n",
       "      <td>0.002238</td>\n",
       "      <td>0.001443</td>\n",
       "      <td>0.002375</td>\n",
       "      <td>0.001330</td>\n",
       "      <td>0.000931</td>\n",
       "      <td>0.002003</td>\n",
       "      <td>0.001956</td>\n",
       "    </tr>\n",
       "    <tr>\n",
       "      <th>2</th>\n",
       "      <td>0.000376</td>\n",
       "      <td>0.000918</td>\n",
       "      <td>0.838874</td>\n",
       "      <td>0.001169</td>\n",
       "      <td>0.000866</td>\n",
       "      <td>0.000665</td>\n",
       "      <td>0.003604</td>\n",
       "      <td>0.000280</td>\n",
       "      <td>0.016368</td>\n",
       "      <td>0.000896</td>\n",
       "      <td>...</td>\n",
       "      <td>0.000390</td>\n",
       "      <td>0.000405</td>\n",
       "      <td>0.000379</td>\n",
       "      <td>0.020974</td>\n",
       "      <td>0.000458</td>\n",
       "      <td>0.000752</td>\n",
       "      <td>0.000360</td>\n",
       "      <td>0.000324</td>\n",
       "      <td>0.000438</td>\n",
       "      <td>0.000785</td>\n",
       "    </tr>\n",
       "  </tbody>\n",
       "</table>\n",
       "<p>3 rows × 67 columns</p>\n",
       "</div>"
      ],
      "text/plain": [
       "destination      2245      2246      2247      2248      2249      2250  \\\n",
       "0            0.616262  0.000520  0.000752  0.000502  0.001879  0.000597   \n",
       "1            0.000855  0.789798  0.004496  0.056227  0.003448  0.001139   \n",
       "2            0.000376  0.000918  0.838874  0.001169  0.000866  0.000665   \n",
       "\n",
       "destination      2251      2252      2253      2254  ...      2302      2303  \\\n",
       "0            0.000264  0.001277  0.001026  0.000861  ...  0.001063  0.001204   \n",
       "1            0.001458  0.000776  0.001923  0.001433  ...  0.000986  0.002289   \n",
       "2            0.003604  0.000280  0.016368  0.000896  ...  0.000390  0.000405   \n",
       "\n",
       "destination      2304      2305      2306      2307      2308      2309  \\\n",
       "0            0.001938  0.000571  0.002748  0.006194  0.001295  0.019319   \n",
       "1            0.001854  0.002238  0.001443  0.002375  0.001330  0.000931   \n",
       "2            0.000379  0.020974  0.000458  0.000752  0.000360  0.000324   \n",
       "\n",
       "destination      2310      2311  \n",
       "0            0.002497  0.063589  \n",
       "1            0.002003  0.001956  \n",
       "2            0.000438  0.000785  \n",
       "\n",
       "[3 rows x 67 columns]"
      ]
     },
     "execution_count": 14,
     "metadata": {},
     "output_type": "execute_result"
    }
   ],
   "source": [
    "#Turn count to weight\n",
    "divisor = [average_count_df.iloc[i].sum() for i in range(67)]\n",
    "average_wt_mt = average_count_df.div(divisor, axis=0)\n",
    "average_wt_mt.head(3)"
   ]
  },
  {
   "cell_type": "code",
   "execution_count": 15,
   "id": "1d1754df",
   "metadata": {},
   "outputs": [],
   "source": [
    "ori_array = average_wt_mt.to_numpy()"
   ]
  },
  {
   "cell_type": "markdown",
   "id": "673a1299",
   "metadata": {},
   "source": [
    "# US Shape File"
   ]
  },
  {
   "cell_type": "code",
   "execution_count": 16,
   "id": "4c60f2f2",
   "metadata": {},
   "outputs": [
    {
     "data": {
      "text/html": [
       "<div>\n",
       "<style scoped>\n",
       "    .dataframe tbody tr th:only-of-type {\n",
       "        vertical-align: middle;\n",
       "    }\n",
       "\n",
       "    .dataframe tbody tr th {\n",
       "        vertical-align: top;\n",
       "    }\n",
       "\n",
       "    .dataframe thead th {\n",
       "        text-align: right;\n",
       "    }\n",
       "</style>\n",
       "<table border=\"1\" class=\"dataframe\">\n",
       "  <thead>\n",
       "    <tr style=\"text-align: right;\">\n",
       "      <th></th>\n",
       "      <th>NAME</th>\n",
       "      <th>State</th>\n",
       "      <th>GEOID</th>\n",
       "      <th>pop2020</th>\n",
       "    </tr>\n",
       "  </thead>\n",
       "  <tbody>\n",
       "    <tr>\n",
       "      <th>3106</th>\n",
       "      <td>Los Angeles</td>\n",
       "      <td>California</td>\n",
       "      <td>06037</td>\n",
       "      <td>9989165.0</td>\n",
       "    </tr>\n",
       "    <tr>\n",
       "      <th>3107</th>\n",
       "      <td>Shannon</td>\n",
       "      <td>South Dakota</td>\n",
       "      <td>46113</td>\n",
       "      <td>14309.0</td>\n",
       "    </tr>\n",
       "    <tr>\n",
       "      <th>3108</th>\n",
       "      <td>Bedford</td>\n",
       "      <td>Virginia</td>\n",
       "      <td>51515</td>\n",
       "      <td>6599.0</td>\n",
       "    </tr>\n",
       "  </tbody>\n",
       "</table>\n",
       "</div>"
      ],
      "text/plain": [
       "             NAME         State  GEOID    pop2020\n",
       "3106  Los Angeles    California  06037  9989165.0\n",
       "3107      Shannon  South Dakota  46113    14309.0\n",
       "3108      Bedford      Virginia  51515     6599.0"
      ]
     },
     "execution_count": 16,
     "metadata": {},
     "output_type": "execute_result"
    }
   ],
   "source": [
    "us_shape_file = pd.read_csv(\"../../Data/us_shapefile_county.csv\")\n",
    "\n",
    "us_shape_file = us_shape_file[['NAME', 'State_1', 'FIPS code', 'pop2020']].copy()\n",
    "rename = {'State_1' : 'State'}\n",
    "us_shape_file = us_shape_file.rename(columns = rename)\n",
    "\n",
    "us_shape_file[\"FIPS code\"] = us_shape_file[\"FIPS code\"].apply(lambda x: f\"{int(x):05d}\")\n",
    "\n",
    "#rename column\n",
    "rename = {\"FIPS code\" : \"GEOID\"}\n",
    "us_shape_file = us_shape_file.rename(columns = rename)\n",
    "us_shape_file.tail(3)"
   ]
  },
  {
   "cell_type": "code",
   "execution_count": 18,
   "id": "afbf09d6",
   "metadata": {},
   "outputs": [
    {
     "name": "stdout",
     "output_type": "stream",
     "text": [
      "(72, 4)\n"
     ]
    },
    {
     "data": {
      "text/html": [
       "<div>\n",
       "<style scoped>\n",
       "    .dataframe tbody tr th:only-of-type {\n",
       "        vertical-align: middle;\n",
       "    }\n",
       "\n",
       "    .dataframe tbody tr th {\n",
       "        vertical-align: top;\n",
       "    }\n",
       "\n",
       "    .dataframe thead th {\n",
       "        text-align: right;\n",
       "    }\n",
       "</style>\n",
       "<table border=\"1\" class=\"dataframe\">\n",
       "  <thead>\n",
       "    <tr style=\"text-align: right;\">\n",
       "      <th></th>\n",
       "      <th>NAME</th>\n",
       "      <th>State</th>\n",
       "      <th>GEOID</th>\n",
       "      <th>pop2020</th>\n",
       "    </tr>\n",
       "  </thead>\n",
       "  <tbody>\n",
       "    <tr>\n",
       "      <th>263</th>\n",
       "      <td>Menominee</td>\n",
       "      <td>Wisconsin</td>\n",
       "      <td>55078</td>\n",
       "      <td>4255.0</td>\n",
       "    </tr>\n",
       "    <tr>\n",
       "      <th>283</th>\n",
       "      <td>Florence</td>\n",
       "      <td>Wisconsin</td>\n",
       "      <td>55037</td>\n",
       "      <td>4556.0</td>\n",
       "    </tr>\n",
       "    <tr>\n",
       "      <th>400</th>\n",
       "      <td>Iron</td>\n",
       "      <td>Wisconsin</td>\n",
       "      <td>55051</td>\n",
       "      <td>6128.0</td>\n",
       "    </tr>\n",
       "  </tbody>\n",
       "</table>\n",
       "</div>"
      ],
      "text/plain": [
       "          NAME      State  GEOID  pop2020\n",
       "263  Menominee  Wisconsin  55078   4255.0\n",
       "283   Florence  Wisconsin  55037   4556.0\n",
       "400       Iron  Wisconsin  55051   6128.0"
      ]
     },
     "execution_count": 18,
     "metadata": {},
     "output_type": "execute_result"
    }
   ],
   "source": [
    "WI_name= us_shape_file[us_shape_file['State'] == \"Wisconsin\"].copy()\n",
    "print(WI_name.shape)\n",
    "WI_name.head(3)"
   ]
  },
  {
   "cell_type": "code",
   "execution_count": 19,
   "id": "47843d7c",
   "metadata": {},
   "outputs": [
    {
     "name": "stdout",
     "output_type": "stream",
     "text": [
      "(67, 10)\n"
     ]
    },
    {
     "data": {
      "text/html": [
       "<div>\n",
       "<style scoped>\n",
       "    .dataframe tbody tr th:only-of-type {\n",
       "        vertical-align: middle;\n",
       "    }\n",
       "\n",
       "    .dataframe tbody tr th {\n",
       "        vertical-align: top;\n",
       "    }\n",
       "\n",
       "    .dataframe thead th {\n",
       "        text-align: right;\n",
       "    }\n",
       "</style>\n",
       "<table border=\"1\" class=\"dataframe\">\n",
       "  <thead>\n",
       "    <tr style=\"text-align: right;\">\n",
       "      <th></th>\n",
       "      <th>index</th>\n",
       "      <th>GEOID</th>\n",
       "      <th>State Code</th>\n",
       "      <th>S</th>\n",
       "      <th>E</th>\n",
       "      <th>I</th>\n",
       "      <th>R</th>\n",
       "      <th>NAME</th>\n",
       "      <th>State</th>\n",
       "      <th>pop2020</th>\n",
       "    </tr>\n",
       "  </thead>\n",
       "  <tbody>\n",
       "    <tr>\n",
       "      <th>0</th>\n",
       "      <td>2245</td>\n",
       "      <td>55001</td>\n",
       "      <td>55</td>\n",
       "      <td>20673</td>\n",
       "      <td>0</td>\n",
       "      <td>0</td>\n",
       "      <td>0</td>\n",
       "      <td>Adams</td>\n",
       "      <td>Wisconsin</td>\n",
       "      <td>20673.0</td>\n",
       "    </tr>\n",
       "    <tr>\n",
       "      <th>1</th>\n",
       "      <td>2246</td>\n",
       "      <td>55003</td>\n",
       "      <td>55</td>\n",
       "      <td>15977</td>\n",
       "      <td>0</td>\n",
       "      <td>0</td>\n",
       "      <td>0</td>\n",
       "      <td>Ashland</td>\n",
       "      <td>Wisconsin</td>\n",
       "      <td>15977.0</td>\n",
       "    </tr>\n",
       "    <tr>\n",
       "      <th>2</th>\n",
       "      <td>2247</td>\n",
       "      <td>55005</td>\n",
       "      <td>55</td>\n",
       "      <td>46643</td>\n",
       "      <td>0</td>\n",
       "      <td>0</td>\n",
       "      <td>0</td>\n",
       "      <td>Barron</td>\n",
       "      <td>Wisconsin</td>\n",
       "      <td>46643.0</td>\n",
       "    </tr>\n",
       "  </tbody>\n",
       "</table>\n",
       "</div>"
      ],
      "text/plain": [
       "   index  GEOID State Code      S  E  I  R     NAME      State  pop2020\n",
       "0   2245  55001         55  20673  0  0  0    Adams  Wisconsin  20673.0\n",
       "1   2246  55003         55  15977  0  0  0  Ashland  Wisconsin  15977.0\n",
       "2   2247  55005         55  46643  0  0  0   Barron  Wisconsin  46643.0"
      ]
     },
     "execution_count": 19,
     "metadata": {},
     "output_type": "execute_result"
    }
   ],
   "source": [
    "WI_SEIR_name = WI_SEIR.merge(WI_name, on = 'GEOID', how = 'left')\n",
    "WI_SEIR_list = WI_SEIR_name['GEOID'].tolist() #The GEOID as what is appeares in the dataframe\n",
    "\n",
    "print(WI_SEIR_name.shape)\n",
    "WI_SEIR_name.head(3)"
   ]
  },
  {
   "cell_type": "code",
   "execution_count": 20,
   "id": "b3f9d739",
   "metadata": {},
   "outputs": [],
   "source": [
    "WI_SEIR_name.to_excel(\"WI_SEIR_name.xlsx\")"
   ]
  },
  {
   "cell_type": "markdown",
   "id": "842892a8",
   "metadata": {},
   "source": [
    "# Retrieve Data"
   ]
  },
  {
   "cell_type": "code",
   "execution_count": 22,
   "id": "ec91456c",
   "metadata": {},
   "outputs": [
    {
     "data": {
      "text/html": [
       "<div>\n",
       "<style scoped>\n",
       "    .dataframe tbody tr th:only-of-type {\n",
       "        vertical-align: middle;\n",
       "    }\n",
       "\n",
       "    .dataframe tbody tr th {\n",
       "        vertical-align: top;\n",
       "    }\n",
       "\n",
       "    .dataframe thead th {\n",
       "        text-align: right;\n",
       "    }\n",
       "</style>\n",
       "<table border=\"1\" class=\"dataframe\">\n",
       "  <thead>\n",
       "    <tr style=\"text-align: right;\">\n",
       "      <th></th>\n",
       "      <th>55001</th>\n",
       "      <th>55003</th>\n",
       "      <th>55005</th>\n",
       "      <th>55007</th>\n",
       "      <th>55009</th>\n",
       "      <th>55011</th>\n",
       "      <th>55013</th>\n",
       "      <th>55015</th>\n",
       "      <th>55017</th>\n",
       "      <th>55019</th>\n",
       "      <th>...</th>\n",
       "      <th>55123</th>\n",
       "      <th>55125</th>\n",
       "      <th>55127</th>\n",
       "      <th>55129</th>\n",
       "      <th>55131</th>\n",
       "      <th>55133</th>\n",
       "      <th>55135</th>\n",
       "      <th>55137</th>\n",
       "      <th>55139</th>\n",
       "      <th>55141</th>\n",
       "    </tr>\n",
       "  </thead>\n",
       "  <tbody>\n",
       "    <tr>\n",
       "      <th>0</th>\n",
       "      <td>0.176975</td>\n",
       "      <td>0.000000</td>\n",
       "      <td>0.001174</td>\n",
       "      <td>0.000000</td>\n",
       "      <td>0.064289</td>\n",
       "      <td>0.000090</td>\n",
       "      <td>0.000181</td>\n",
       "      <td>0.007946</td>\n",
       "      <td>0.001354</td>\n",
       "      <td>0.001986</td>\n",
       "      <td>...</td>\n",
       "      <td>0.012009</td>\n",
       "      <td>0.001354</td>\n",
       "      <td>0.003521</td>\n",
       "      <td>0.000361</td>\n",
       "      <td>0.002980</td>\n",
       "      <td>0.027178</td>\n",
       "      <td>0.020587</td>\n",
       "      <td>0.006230</td>\n",
       "      <td>0.023476</td>\n",
       "      <td>0.061400</td>\n",
       "    </tr>\n",
       "    <tr>\n",
       "      <th>1</th>\n",
       "      <td>0.001713</td>\n",
       "      <td>0.473764</td>\n",
       "      <td>0.018222</td>\n",
       "      <td>0.034731</td>\n",
       "      <td>0.021578</td>\n",
       "      <td>0.000343</td>\n",
       "      <td>0.003151</td>\n",
       "      <td>0.001918</td>\n",
       "      <td>0.008015</td>\n",
       "      <td>0.002398</td>\n",
       "      <td>...</td>\n",
       "      <td>0.001028</td>\n",
       "      <td>0.003357</td>\n",
       "      <td>0.002192</td>\n",
       "      <td>0.001713</td>\n",
       "      <td>0.002535</td>\n",
       "      <td>0.029251</td>\n",
       "      <td>0.005480</td>\n",
       "      <td>0.001165</td>\n",
       "      <td>0.008974</td>\n",
       "      <td>0.006371</td>\n",
       "    </tr>\n",
       "    <tr>\n",
       "      <th>2</th>\n",
       "      <td>0.001426</td>\n",
       "      <td>0.002897</td>\n",
       "      <td>0.473799</td>\n",
       "      <td>0.002529</td>\n",
       "      <td>0.006507</td>\n",
       "      <td>0.002989</td>\n",
       "      <td>0.008393</td>\n",
       "      <td>0.004461</td>\n",
       "      <td>0.038767</td>\n",
       "      <td>0.003012</td>\n",
       "      <td>...</td>\n",
       "      <td>0.004162</td>\n",
       "      <td>0.000943</td>\n",
       "      <td>0.004047</td>\n",
       "      <td>0.027316</td>\n",
       "      <td>0.001633</td>\n",
       "      <td>0.009703</td>\n",
       "      <td>0.004231</td>\n",
       "      <td>0.001081</td>\n",
       "      <td>0.007864</td>\n",
       "      <td>0.005679</td>\n",
       "    </tr>\n",
       "  </tbody>\n",
       "</table>\n",
       "<p>3 rows × 67 columns</p>\n",
       "</div>"
      ],
      "text/plain": [
       "      55001     55003     55005     55007     55009     55011     55013  \\\n",
       "0  0.176975  0.000000  0.001174  0.000000  0.064289  0.000090  0.000181   \n",
       "1  0.001713  0.473764  0.018222  0.034731  0.021578  0.000343  0.003151   \n",
       "2  0.001426  0.002897  0.473799  0.002529  0.006507  0.002989  0.008393   \n",
       "\n",
       "      55015     55017     55019  ...     55123     55125     55127     55129  \\\n",
       "0  0.007946  0.001354  0.001986  ...  0.012009  0.001354  0.003521  0.000361   \n",
       "1  0.001918  0.008015  0.002398  ...  0.001028  0.003357  0.002192  0.001713   \n",
       "2  0.004461  0.038767  0.003012  ...  0.004162  0.000943  0.004047  0.027316   \n",
       "\n",
       "      55131     55133     55135     55137     55139     55141  \n",
       "0  0.002980  0.027178  0.020587  0.006230  0.023476  0.061400  \n",
       "1  0.002535  0.029251  0.005480  0.001165  0.008974  0.006371  \n",
       "2  0.001633  0.009703  0.004231  0.001081  0.007864  0.005679  \n",
       "\n",
       "[3 rows x 67 columns]"
      ]
     },
     "execution_count": 22,
     "metadata": {},
     "output_type": "execute_result"
    }
   ],
   "source": [
    "#Original matrix for comparison\n",
    "matrix = pd.read_csv(\"WI_Data/Aggregate/WI_ori_agg.csv\")\n",
    "matrix = matrix.drop(columns = 'Unnamed: 0')\n",
    "matrix.head(3)"
   ]
  },
  {
   "cell_type": "code",
   "execution_count": 24,
   "id": "80b67894",
   "metadata": {},
   "outputs": [
    {
     "name": "stdout",
     "output_type": "stream",
     "text": [
      "SEIR county list = Weight Matrix County List?: True\n"
     ]
    },
    {
     "data": {
      "text/plain": [
       "0.1769751693002257"
      ]
     },
     "execution_count": 24,
     "metadata": {},
     "output_type": "execute_result"
    }
   ],
   "source": [
    "matrix_county_list = matrix.columns.tolist()\n",
    "print(f'SEIR county list = Weight Matrix County List?: {matrix_county_list == WI_SEIR_list}') #Proceed when see Yes\n",
    "\n",
    "array = matrix.to_numpy() #The most important step!! Turning pandas dataframe to a numpy array\n",
    "array[0][0]"
   ]
  },
  {
   "cell_type": "markdown",
   "id": "4467fe89",
   "metadata": {},
   "source": [
    "# One simulation"
   ]
  },
  {
   "cell_type": "code",
   "execution_count": 25,
   "id": "39ba02e2",
   "metadata": {},
   "outputs": [],
   "source": [
    "def stochastic_SIR(y, l, array):\n",
    "    \n",
    "    # y is the list that contains the initial condition of S_i, I_i, R_i\n",
    "    S = y[:l]  # a five element list\n",
    "    E = y[l:l+l]\n",
    "    I = y[l+l:l+l+l]  # a five element list\n",
    "    R = y[l+l+l:]  # the rest elements\n",
    "    \n",
    "    t = 0\n",
    "    time_series = [(t, S.copy(), E.copy(), I.copy(), R.copy())]\n",
    "    \n",
    "    #l = len(S)\n",
    "    \n",
    "    # Define each element of N\n",
    "    N = [S[i] + E[i] + I[i] + R[i] for i in range(l)]\n",
    "    \n",
    "    # Define N_hat\n",
    "    N_hat = [array[i][i] * N[i] for i in range(l)]\n",
    "    for i in range(l):\n",
    "        for j in range(l):\n",
    "            if i != j:\n",
    "                N_hat[i] += array[j][i] * N[j]\n",
    "    \n",
    "    #print(N_hat)\n",
    "    \n",
    "    # Run the loop ------------------------------------\n",
    "    t_max = 50\n",
    "    #while any(i > 0 for i in I) and t < t_max: #time stamp loop--\n",
    "    while t < t_max:\n",
    "        \n",
    "        #Define value for beta\n",
    "        if t < 25: \n",
    "            beta = 3.5\n",
    "        else: \n",
    "            beta = 1.7\n",
    "        \n",
    "        for i in range(l): #node loop------\n",
    "            \n",
    "            # Define I_hat for all nodes\n",
    "            I_hat = [array[i][i] * I[i] for i in range(l)]\n",
    "            for j in range(l):\n",
    "                if i != j:\n",
    "                    I_hat[i] += array[j][i] * I[j]\n",
    "            \n",
    "            # Calculate lambda\n",
    "            lmda = beta * (array[i][i] ** 2) * I[i] / N_hat[i]\n",
    "            for j in range(l):\n",
    "                if i != j:\n",
    "                    lmda += (beta * array[i][i] * array[j][i] * I[j] / N_hat[i]) + (beta * array[i][j] * I_hat[j] / N_hat[j])\n",
    "            \n",
    "            #Newly added term, having b equals to 3.5 and largrer sample of nodes makes lamda larger than 1\n",
    "            lmda_new = min(lmda,1)\n",
    "            \n",
    "            #Check again to see if you can improve the model-------------\n",
    "            new_exposed = np.random.binomial(S[i], lmda_new)*1\n",
    "            new_infected = np.random.binomial(E[i], 0.2703)*1\n",
    "            new_recovered = np.random.binomial(I[i], 0.2448)*1 \n",
    "            \n",
    "            # Update S, I, R for node i\n",
    "            S[i] -= new_exposed\n",
    "            E[i] += new_exposed - new_infected\n",
    "            I[i] += new_infected - new_recovered\n",
    "            R[i] += new_recovered\n",
    "        \n",
    "        # Store the results (make copies to avoid overwriting)\n",
    "        time_series.append((t, S.copy(), E.copy(), I.copy(), R.copy()))\n",
    "        \n",
    "        # Increment time (optional)\n",
    "        t += 1\n",
    "        #print(f\"Time: {t}, S: {S}, I: {I}, R: {R}\")\n",
    "        if t % 10 == 0:\n",
    "            print(t)\n",
    "    \n",
    "    return time_series"
   ]
  },
  {
   "cell_type": "markdown",
   "id": "ee9a18cc",
   "metadata": {},
   "source": [
    "# Applying for the function\n",
    "### Original Array: Safegraph"
   ]
  },
  {
   "cell_type": "code",
   "execution_count": 21,
   "id": "48feda53",
   "metadata": {},
   "outputs": [],
   "source": [
    "#NY_SEIR = pd.read_excel(\"NY_SEIR.xlsx\")\n",
    "#NY_SEIR = NY_SEIR.drop(columns = 'Unnamed: 0')\n",
    "#NY_SEIR.iloc[15:20]"
   ]
  },
  {
   "cell_type": "code",
   "execution_count": 27,
   "id": "5907a70c",
   "metadata": {},
   "outputs": [
    {
     "name": "stdout",
     "output_type": "stream",
     "text": [
      "67 67 67 67\n"
     ]
    }
   ],
   "source": [
    "#Define initial condition\n",
    "S0 = WI_SEIR[\"S\"].tolist()  \n",
    "E0 = WI_SEIR[\"E\"].tolist()  \n",
    "I0 = WI_SEIR[\"I\"].tolist()   \n",
    "R0 = WI_SEIR[\"R\"].tolist()\n",
    "initial_conditions = S0 + E0 + I0 + R0 #this is the y (?): Yup!\n",
    "print(len(S0),len(E0),len(I0), len(R0))"
   ]
  },
  {
   "cell_type": "code",
   "execution_count": 29,
   "id": "6a8384ff",
   "metadata": {},
   "outputs": [
    {
     "name": "stdout",
     "output_type": "stream",
     "text": [
      "10\n",
      "20\n",
      "30\n",
      "40\n",
      "50\n"
     ]
    }
   ],
   "source": [
    "#first simulation\n",
    "time_series = stochastic_SIR(initial_conditions, 67, ori_array)"
   ]
  },
  {
   "cell_type": "code",
   "execution_count": 30,
   "id": "d1b95e6b",
   "metadata": {},
   "outputs": [],
   "source": [
    "times, S_values, E_values, I_values, R_values = zip(*time_series)\n",
    "\n",
    "S_list = list(zip(*S_values))\n",
    "for i, S in enumerate(S_list):\n",
    "    globals()[f'S{i}'] = S\n",
    "    \n",
    "E_list = list(zip(*E_values))\n",
    "for i, E in enumerate(E_list):\n",
    "    globals()[f'E{i}'] = E\n",
    "    \n",
    "I_list = list(zip(*I_values))\n",
    "for i, I in enumerate(I_list):\n",
    "    globals()[f'I{i}'] = I\n",
    "    \n",
    "R_list = list(zip(*R_values))\n",
    "for i, R in enumerate(R_list):\n",
    "    globals()[f'R{i}'] = R"
   ]
  },
  {
   "cell_type": "markdown",
   "id": "c22eefa5",
   "metadata": {},
   "source": [
    "<br>\n",
    "\n",
    "- **globals()** is a built-in function in Python that returns a dictionary representing the current global symbol table. The global symbol table contains all the global variables in the program. When you do globals()[f'S{i}'] = s, you're dynamically creating a new global variable with a name like S1, S2, etc., and assigning it the value s. In this case, f'S{i}' generates the variable name as a string, and s is the corresponding value from the list.\n",
    "\n",
    "<br>\n",
    "\n",
    "- **enumerate()** is a built-in Python function that allows you to loop over an iterable (like a list, tuple, or string) while also keeping track of the index of each element.When used like enumerate(S_list, start=1), it returns pairs of (index, value), where index starts at 1 and increases by 1 for each iteration, while value is the corresponding item from the list. The start=1 parameter means that the counting will begin at 1 instead of the default 0."
   ]
  },
  {
   "cell_type": "markdown",
   "id": "41c24174",
   "metadata": {},
   "source": [
    "# Visualization: One Loop"
   ]
  },
  {
   "cell_type": "code",
   "execution_count": 32,
   "id": "5a15778b",
   "metadata": {},
   "outputs": [
    {
     "data": {
      "image/png": "[encoded data removed]",
      "text/plain": [
       "<Figure size 1000x600 with 1 Axes>"
      ]
     },
     "metadata": {},
     "output_type": "display_data"
    }
   ],
   "source": [
    "plt.figure(figsize=(10,6))\n",
    "\n",
    "plt.plot(times, I4, label='Brown, pop = 268,741')\n",
    "plt.plot(times, I12, label='Dane (Seed), pop = 562,306')\n",
    "plt.plot(times, I18, label='Fond du Lac, pop = 104,076')\n",
    "plt.plot(times, I28, label='La Crosse, pop = 120,852')\n",
    "plt.plot(times, I46, label='Racine, pop = 197,440')\n",
    "\n",
    "plt.xlabel('Time')\n",
    "plt.ylabel('Total Infected Population')\n",
    "plt.legend()\n",
    "#plt.savefig(\"CA_SEIR_Example.png\", dpi=300, bbox_inches='tight')\n",
    "\n",
    "plt.show()\n",
    "\n"
   ]
  },
  {
   "cell_type": "markdown",
   "id": "95c2ee7d",
   "metadata": {},
   "source": [
    "### Scikit Mobility Original matrix"
   ]
  },
  {
   "cell_type": "code",
   "execution_count": 33,
   "id": "0b36320e",
   "metadata": {},
   "outputs": [
    {
     "data": {
      "text/plain": [
       "0.7897979303544032"
      ]
     },
     "execution_count": 33,
     "metadata": {},
     "output_type": "execute_result"
    }
   ],
   "source": [
    "ori_array[1][1]"
   ]
  },
  {
   "cell_type": "code",
   "execution_count": 34,
   "id": "2722e246",
   "metadata": {},
   "outputs": [
    {
     "data": {
      "text/plain": [
       "0.4737635292505822"
      ]
     },
     "execution_count": 34,
     "metadata": {},
     "output_type": "execute_result"
    }
   ],
   "source": [
    "array[1][1]"
   ]
  },
  {
   "cell_type": "code",
   "execution_count": 36,
   "id": "8ac958c2",
   "metadata": {
    "scrolled": true
   },
   "outputs": [
    {
     "name": "stdout",
     "output_type": "stream",
     "text": [
      "10\n",
      "20\n",
      "30\n",
      "40\n",
      "50\n"
     ]
    }
   ],
   "source": [
    "time_series = stochastic_SIR(initial_conditions, 67, array)"
   ]
  },
  {
   "cell_type": "code",
   "execution_count": 40,
   "id": "8bda4a6f",
   "metadata": {},
   "outputs": [],
   "source": [
    "times, S_values, E_values, I_values, R_values = zip(*time_series)\n",
    "\n",
    "S_list = list(zip(*S_values))\n",
    "for i, S in enumerate(S_list):\n",
    "    globals()[f'S{i}'] = S\n",
    "    \n",
    "E_list = list(zip(*E_values))\n",
    "for i, E in enumerate(E_list):\n",
    "    globals()[f'E{i}'] = E\n",
    "    \n",
    "I_list = list(zip(*I_values))\n",
    "for i, I in enumerate(I_list):\n",
    "    globals()[f'I{i}'] = I\n",
    "    \n",
    "R_list = list(zip(*R_values))\n",
    "for i, R in enumerate(R_list):\n",
    "    globals()[f'R{i}'] = R"
   ]
  },
  {
   "cell_type": "code",
   "execution_count": 41,
   "id": "8e6560a9",
   "metadata": {},
   "outputs": [
    {
     "data": {
      "image/png": "[encoded data removed]",
      "text/plain": [
       "<Figure size 1000x600 with 1 Axes>"
      ]
     },
     "metadata": {},
     "output_type": "display_data"
    }
   ],
   "source": [
    "plt.figure(figsize=(10,6))\n",
    "\n",
    "plt.plot(times, I4, label='Brown, pop = 268,741')\n",
    "plt.plot(times, I12, label='Dane (Seed), pop = 562,306')\n",
    "plt.plot(times, I18, label='Fond du Lac, pop = 104,076')\n",
    "plt.plot(times, I28, label='La Crosse, pop = 120,852')\n",
    "plt.plot(times, I46, label='Racine, pop = 197,440')\n",
    "\n",
    "plt.xlabel('Time')\n",
    "plt.ylabel('Total Infected Population')\n",
    "plt.legend()\n",
    "#plt.savefig(\"CA_SEIR_Example.png\", dpi=300, bbox_inches='tight')\n",
    "\n",
    "plt.show()\n"
   ]
  },
  {
   "cell_type": "markdown",
   "id": "33cbabe8",
   "metadata": {},
   "source": [
    "# 20 Simulation"
   ]
  },
  {
   "cell_type": "code",
   "execution_count": 84,
   "id": "e5decfe8",
   "metadata": {},
   "outputs": [
    {
     "data": {
      "text/plain": [
       "0.11146956407845"
      ]
     },
     "execution_count": 84,
     "metadata": {},
     "output_type": "execute_result"
    }
   ],
   "source": [
    "matrix = pd.read_csv(\"WI_Data/Individual/WI_P005_indi.csv\")\n",
    "matrix = matrix.drop(columns = 'Unnamed: 0')\n",
    "matrix.head(3)\n",
    "\n",
    "array = matrix.to_numpy() #The most important step!! Turning pandas dataframe to a numpy array\n",
    "array[0][0]"
   ]
  },
  {
   "cell_type": "code",
   "execution_count": 85,
   "id": "1d2c71cb",
   "metadata": {},
   "outputs": [
    {
     "name": "stdout",
     "output_type": "stream",
     "text": [
      "10\n",
      "20\n",
      "30\n",
      "40\n",
      "50\n",
      "Simulation 0 Finished!!!-------------------------------\n",
      "10\n",
      "20\n",
      "30\n",
      "40\n",
      "50\n",
      "Simulation 1 Finished!!!-------------------------------\n",
      "10\n",
      "20\n",
      "30\n",
      "40\n",
      "50\n",
      "Simulation 2 Finished!!!-------------------------------\n",
      "10\n",
      "20\n",
      "30\n",
      "40\n",
      "50\n",
      "Simulation 3 Finished!!!-------------------------------\n",
      "10\n",
      "20\n",
      "30\n",
      "40\n",
      "50\n",
      "Simulation 4 Finished!!!-------------------------------\n",
      "10\n",
      "20\n",
      "30\n",
      "40\n",
      "50\n",
      "Simulation 5 Finished!!!-------------------------------\n",
      "10\n",
      "20\n",
      "30\n",
      "40\n",
      "50\n",
      "Simulation 6 Finished!!!-------------------------------\n",
      "10\n",
      "20\n",
      "30\n",
      "40\n",
      "50\n",
      "Simulation 7 Finished!!!-------------------------------\n",
      "10\n",
      "20\n",
      "30\n",
      "40\n",
      "50\n",
      "Simulation 8 Finished!!!-------------------------------\n",
      "10\n",
      "20\n",
      "30\n",
      "40\n",
      "50\n",
      "Simulation 9 Finished!!!-------------------------------\n",
      "10\n",
      "20\n",
      "30\n",
      "40\n",
      "50\n",
      "Simulation 10 Finished!!!-------------------------------\n",
      "10\n",
      "20\n",
      "30\n",
      "40\n",
      "50\n",
      "Simulation 11 Finished!!!-------------------------------\n",
      "10\n",
      "20\n",
      "30\n",
      "40\n",
      "50\n",
      "Simulation 12 Finished!!!-------------------------------\n",
      "10\n",
      "20\n",
      "30\n",
      "40\n",
      "50\n",
      "Simulation 13 Finished!!!-------------------------------\n",
      "10\n",
      "20\n",
      "30\n",
      "40\n",
      "50\n",
      "Simulation 14 Finished!!!-------------------------------\n",
      "10\n",
      "20\n",
      "30\n",
      "40\n",
      "50\n",
      "Simulation 15 Finished!!!-------------------------------\n",
      "10\n",
      "20\n",
      "30\n",
      "40\n",
      "50\n",
      "Simulation 16 Finished!!!-------------------------------\n",
      "10\n",
      "20\n",
      "30\n",
      "40\n",
      "50\n",
      "Simulation 17 Finished!!!-------------------------------\n",
      "10\n",
      "20\n",
      "30\n",
      "40\n",
      "50\n",
      "Simulation 18 Finished!!!-------------------------------\n",
      "10\n",
      "20\n",
      "30\n",
      "40\n",
      "50\n",
      "Simulation 19 Finished!!!-------------------------------\n"
     ]
    }
   ],
   "source": [
    "all_simulations = []\n",
    "\n",
    "for sim in range(20):\n",
    "    \n",
    "    S0 = IL_SEIR[\"S\"].tolist()  \n",
    "    E0 = IL_SEIR[\"E\"].tolist()  \n",
    "    I0 = IL_SEIR[\"I\"].tolist()   \n",
    "    R0 = IL_SEIR[\"R\"].tolist()\n",
    "    initial_conditions = S0 + E0 + I0 + R0 #this is the y (?): Yup!\n",
    "\n",
    "    result = stochastic_SIR(initial_conditions, 67, array)\n",
    "    print(\"Simulation\", sim, \"Finished!!!-------------------------------\")\n",
    "    \n",
    "    all_simulations.append(result)"
   ]
  },
  {
   "cell_type": "code",
   "execution_count": 86,
   "id": "d5a11205",
   "metadata": {},
   "outputs": [],
   "source": [
    "import pickle\n",
    "\n",
    "with open('20_simulations_P005_WI_indi.pkl', 'wb') as f:\n",
    "    pickle.dump(all_simulations, f)"
   ]
  },
  {
   "cell_type": "code",
   "execution_count": 110,
   "id": "249b9955",
   "metadata": {},
   "outputs": [],
   "source": []
  }
 ],
 "metadata": {
  "kernelspec": {
   "display_name": "Python 3 (ipykernel)",
   "language": "python",
   "name": "python3"
  },
  "language_info": {
   "codemirror_mode": {
    "name": "ipython",
    "version": 3
   },
   "file_extension": ".py",
   "mimetype": "text/x-python",
   "name": "python",
   "nbconvert_exporter": "python",
   "pygments_lexer": "ipython3",
   "version": "3.11.5"
  }
 },
 "nbformat": 4,
 "nbformat_minor": 5
}
