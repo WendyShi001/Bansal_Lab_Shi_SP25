{
 "cells": [
  {
   "cell_type": "markdown",
   "id": "805cf925",
   "metadata": {},
   "source": [
    "<h1><center> Visualization <br><br>\n",
    "    <center> Wendy Shi"
   ]
  },
  {
   "cell_type": "markdown",
   "id": "b77fec99",
   "metadata": {},
   "source": [
    "## TOC"
   ]
  },
  {
   "cell_type": "markdown",
   "id": "7beac35d",
   "metadata": {},
   "source": [
    "- [Preparation](#Preparation)\n",
    "- [Home Location](#Home-location)"
   ]
  },
  {
   "cell_type": "markdown",
   "id": "fd1eafbd",
   "metadata": {},
   "source": [
    "# Preparation"
   ]
  },
  {
   "cell_type": "code",
   "execution_count": 1,
   "id": "fc95423e",
   "metadata": {},
   "outputs": [],
   "source": [
    "#skmob\n",
    "import skmob\n",
    "import geopandas as gpd\n",
    "from skmob.models.epr import DensityEPR\n",
    "from skmob.measures.individual import home_location\n",
    "from skmob.measures.individual import jump_lengths\n",
    "\n",
    "#standard\n",
    "import pandas as pd\n",
    "import numpy as np\n",
    "import matplotlib.pyplot as plt\n",
    "from scipy.integrate import odeint\n",
    "from scipy.interpolate import interp1d\n",
    "import scipy.stats as stats\n",
    "\n",
    "#visualization\n",
    "import seaborn as sns\n",
    "\n",
    "#Geopandas related\n",
    "import fiona\n",
    "from shapely.geometry import shape"
   ]
  },
  {
   "cell_type": "markdown",
   "id": "1b0b8fae",
   "metadata": {},
   "source": [
    "## Subsetting"
   ]
  },
  {
   "cell_type": "code",
   "execution_count": 2,
   "id": "d5fb0bf7",
   "metadata": {},
   "outputs": [
    {
     "data": {
      "text/html": [
       "<div>\n",
       "<style scoped>\n",
       "    .dataframe tbody tr th:only-of-type {\n",
       "        vertical-align: middle;\n",
       "    }\n",
       "\n",
       "    .dataframe tbody tr th {\n",
       "        vertical-align: top;\n",
       "    }\n",
       "\n",
       "    .dataframe thead th {\n",
       "        text-align: right;\n",
       "    }\n",
       "</style>\n",
       "<table border=\"1\" class=\"dataframe\">\n",
       "  <thead>\n",
       "    <tr style=\"text-align: right;\">\n",
       "      <th></th>\n",
       "      <th>index</th>\n",
       "      <th>GEOID</th>\n",
       "      <th>State</th>\n",
       "    </tr>\n",
       "  </thead>\n",
       "  <tbody>\n",
       "    <tr>\n",
       "      <th>0</th>\n",
       "      <td>0</td>\n",
       "      <td>01001</td>\n",
       "      <td>01</td>\n",
       "    </tr>\n",
       "    <tr>\n",
       "      <th>1</th>\n",
       "      <td>1</td>\n",
       "      <td>01003</td>\n",
       "      <td>01</td>\n",
       "    </tr>\n",
       "    <tr>\n",
       "      <th>2</th>\n",
       "      <td>2</td>\n",
       "      <td>01005</td>\n",
       "      <td>01</td>\n",
       "    </tr>\n",
       "  </tbody>\n",
       "</table>\n",
       "</div>"
      ],
      "text/plain": [
       "   index  GEOID State\n",
       "0      0  01001    01\n",
       "1      1  01003    01\n",
       "2      2  01005    01"
      ]
     },
     "execution_count": 2,
     "metadata": {},
     "output_type": "execute_result"
    }
   ],
   "source": [
    "#Load data\n",
    "node_dict = pd.read_csv(\"../../Data/nodes_considered.csv\")\n",
    "\n",
    "#Standardize GEOID\n",
    "node_dict[\"GEO_ID\"] = node_dict[\"GEO_ID\"].apply(lambda x: f\"{int(x):05d}\") #turn GEOID into 6 digit format\n",
    "\n",
    "#rename column\n",
    "rename = {'GEO_ID' : 'GEOID'}\n",
    "node_dict = node_dict.rename(columns = rename)\n",
    "\n",
    "#State ID: Add a new column\n",
    "node_dict['State'] = node_dict['GEOID'].str[:2]\n",
    "node_dict.head(3)"
   ]
  },
  {
   "cell_type": "code",
   "execution_count": 4,
   "id": "6c2f1ad3",
   "metadata": {},
   "outputs": [
    {
     "name": "stdout",
     "output_type": "stream",
     "text": [
      "(67, 3)\n"
     ]
    },
    {
     "data": {
      "text/html": [
       "<div>\n",
       "<style scoped>\n",
       "    .dataframe tbody tr th:only-of-type {\n",
       "        vertical-align: middle;\n",
       "    }\n",
       "\n",
       "    .dataframe tbody tr th {\n",
       "        vertical-align: top;\n",
       "    }\n",
       "\n",
       "    .dataframe thead th {\n",
       "        text-align: right;\n",
       "    }\n",
       "</style>\n",
       "<table border=\"1\" class=\"dataframe\">\n",
       "  <thead>\n",
       "    <tr style=\"text-align: right;\">\n",
       "      <th></th>\n",
       "      <th>index</th>\n",
       "      <th>GEOID</th>\n",
       "      <th>State</th>\n",
       "    </tr>\n",
       "  </thead>\n",
       "  <tbody>\n",
       "    <tr>\n",
       "      <th>2245</th>\n",
       "      <td>2245</td>\n",
       "      <td>55001</td>\n",
       "      <td>55</td>\n",
       "    </tr>\n",
       "    <tr>\n",
       "      <th>2246</th>\n",
       "      <td>2246</td>\n",
       "      <td>55003</td>\n",
       "      <td>55</td>\n",
       "    </tr>\n",
       "    <tr>\n",
       "      <th>2247</th>\n",
       "      <td>2247</td>\n",
       "      <td>55005</td>\n",
       "      <td>55</td>\n",
       "    </tr>\n",
       "  </tbody>\n",
       "</table>\n",
       "</div>"
      ],
      "text/plain": [
       "      index  GEOID State\n",
       "2245   2245  55001    55\n",
       "2246   2246  55003    55\n",
       "2247   2247  55005    55"
      ]
     },
     "execution_count": 4,
     "metadata": {},
     "output_type": "execute_result"
    }
   ],
   "source": [
    "#print out the number of States that we want\n",
    "WI = node_dict[node_dict['State'] == '55']\n",
    "print(WI.shape)\n",
    "WI.head(3)"
   ]
  },
  {
   "cell_type": "markdown",
   "id": "58a78c9b",
   "metadata": {},
   "source": [
    "## US Shape File"
   ]
  },
  {
   "cell_type": "code",
   "execution_count": 5,
   "id": "282de014",
   "metadata": {},
   "outputs": [
    {
     "data": {
      "text/html": [
       "<div>\n",
       "<style scoped>\n",
       "    .dataframe tbody tr th:only-of-type {\n",
       "        vertical-align: middle;\n",
       "    }\n",
       "\n",
       "    .dataframe tbody tr th {\n",
       "        vertical-align: top;\n",
       "    }\n",
       "\n",
       "    .dataframe thead th {\n",
       "        text-align: right;\n",
       "    }\n",
       "</style>\n",
       "<table border=\"1\" class=\"dataframe\">\n",
       "  <thead>\n",
       "    <tr style=\"text-align: right;\">\n",
       "      <th></th>\n",
       "      <th>GEO_ID</th>\n",
       "      <th>STATE</th>\n",
       "      <th>COUNTY</th>\n",
       "      <th>NAME</th>\n",
       "      <th>LSAD</th>\n",
       "      <th>CENSUSAREA</th>\n",
       "      <th>State_1</th>\n",
       "      <th>Alpha code</th>\n",
       "      <th>Region</th>\n",
       "      <th>Division</th>\n",
       "      <th>CDC region</th>\n",
       "      <th>FIPS code</th>\n",
       "      <th>2013 code</th>\n",
       "      <th>U/R</th>\n",
       "      <th>pop2020</th>\n",
       "      <th>pop2021</th>\n",
       "    </tr>\n",
       "  </thead>\n",
       "  <tbody>\n",
       "    <tr>\n",
       "      <th>0</th>\n",
       "      <td>48301</td>\n",
       "      <td>48</td>\n",
       "      <td>301</td>\n",
       "      <td>Loving</td>\n",
       "      <td>County</td>\n",
       "      <td>668.925</td>\n",
       "      <td>Texas</td>\n",
       "      <td>TX</td>\n",
       "      <td>South</td>\n",
       "      <td>West South Central</td>\n",
       "      <td>6.0</td>\n",
       "      <td>48301</td>\n",
       "      <td>6</td>\n",
       "      <td>R</td>\n",
       "      <td>67.0</td>\n",
       "      <td>57.0</td>\n",
       "    </tr>\n",
       "    <tr>\n",
       "      <th>1</th>\n",
       "      <td>48269</td>\n",
       "      <td>48</td>\n",
       "      <td>269</td>\n",
       "      <td>King</td>\n",
       "      <td>County</td>\n",
       "      <td>910.872</td>\n",
       "      <td>Texas</td>\n",
       "      <td>TX</td>\n",
       "      <td>South</td>\n",
       "      <td>West South Central</td>\n",
       "      <td>6.0</td>\n",
       "      <td>48269</td>\n",
       "      <td>6</td>\n",
       "      <td>R</td>\n",
       "      <td>270.0</td>\n",
       "      <td>258.0</td>\n",
       "    </tr>\n",
       "    <tr>\n",
       "      <th>2</th>\n",
       "      <td>48261</td>\n",
       "      <td>48</td>\n",
       "      <td>261</td>\n",
       "      <td>Kenedy</td>\n",
       "      <td>County</td>\n",
       "      <td>1458.329</td>\n",
       "      <td>Texas</td>\n",
       "      <td>TX</td>\n",
       "      <td>South</td>\n",
       "      <td>West South Central</td>\n",
       "      <td>6.0</td>\n",
       "      <td>48261</td>\n",
       "      <td>5</td>\n",
       "      <td>R</td>\n",
       "      <td>346.0</td>\n",
       "      <td>340.0</td>\n",
       "    </tr>\n",
       "  </tbody>\n",
       "</table>\n",
       "</div>"
      ],
      "text/plain": [
       "   GEO_ID  STATE  COUNTY    NAME    LSAD  CENSUSAREA State_1 Alpha code  \\\n",
       "0   48301     48     301  Loving  County     668.925   Texas         TX   \n",
       "1   48269     48     269    King  County     910.872   Texas         TX   \n",
       "2   48261     48     261  Kenedy  County    1458.329   Texas         TX   \n",
       "\n",
       "  Region            Division  CDC region  FIPS code  2013 code U/R  pop2020  \\\n",
       "0  South  West South Central         6.0      48301          6   R     67.0   \n",
       "1  South  West South Central         6.0      48269          6   R    270.0   \n",
       "2  South  West South Central         6.0      48261          5   R    346.0   \n",
       "\n",
       "   pop2021  \n",
       "0     57.0  \n",
       "1    258.0  \n",
       "2    340.0  "
      ]
     },
     "execution_count": 5,
     "metadata": {},
     "output_type": "execute_result"
    }
   ],
   "source": [
    "shape_file = pd.read_csv(\"../../Data/us_shapefile_county.csv\")\n",
    "shape_file.head(3)"
   ]
  },
  {
   "cell_type": "code",
   "execution_count": 7,
   "id": "a399d8b0",
   "metadata": {},
   "outputs": [
    {
     "name": "stdout",
     "output_type": "stream",
     "text": [
      "(72, 16)\n"
     ]
    },
    {
     "data": {
      "text/html": [
       "<div>\n",
       "<style scoped>\n",
       "    .dataframe tbody tr th:only-of-type {\n",
       "        vertical-align: middle;\n",
       "    }\n",
       "\n",
       "    .dataframe tbody tr th {\n",
       "        vertical-align: top;\n",
       "    }\n",
       "\n",
       "    .dataframe thead th {\n",
       "        text-align: right;\n",
       "    }\n",
       "</style>\n",
       "<table border=\"1\" class=\"dataframe\">\n",
       "  <thead>\n",
       "    <tr style=\"text-align: right;\">\n",
       "      <th></th>\n",
       "      <th>GEO_ID</th>\n",
       "      <th>STATE</th>\n",
       "      <th>COUNTY</th>\n",
       "      <th>NAME</th>\n",
       "      <th>LSAD</th>\n",
       "      <th>CENSUSAREA</th>\n",
       "      <th>State_1</th>\n",
       "      <th>Alpha code</th>\n",
       "      <th>Region</th>\n",
       "      <th>Division</th>\n",
       "      <th>CDC region</th>\n",
       "      <th>FIPS code</th>\n",
       "      <th>2013 code</th>\n",
       "      <th>U/R</th>\n",
       "      <th>pop2020</th>\n",
       "      <th>pop2021</th>\n",
       "    </tr>\n",
       "  </thead>\n",
       "  <tbody>\n",
       "    <tr>\n",
       "      <th>263</th>\n",
       "      <td>55078</td>\n",
       "      <td>55</td>\n",
       "      <td>78</td>\n",
       "      <td>Menominee</td>\n",
       "      <td>County</td>\n",
       "      <td>357.608</td>\n",
       "      <td>Wisconsin</td>\n",
       "      <td>WI</td>\n",
       "      <td>Midwest</td>\n",
       "      <td>East North Central</td>\n",
       "      <td>5.0</td>\n",
       "      <td>55078</td>\n",
       "      <td>5</td>\n",
       "      <td>R</td>\n",
       "      <td>4255.0</td>\n",
       "      <td>4289.0</td>\n",
       "    </tr>\n",
       "    <tr>\n",
       "      <th>283</th>\n",
       "      <td>55037</td>\n",
       "      <td>55</td>\n",
       "      <td>37</td>\n",
       "      <td>Florence</td>\n",
       "      <td>County</td>\n",
       "      <td>488.195</td>\n",
       "      <td>Wisconsin</td>\n",
       "      <td>WI</td>\n",
       "      <td>Midwest</td>\n",
       "      <td>East North Central</td>\n",
       "      <td>5.0</td>\n",
       "      <td>55037</td>\n",
       "      <td>5</td>\n",
       "      <td>R</td>\n",
       "      <td>4556.0</td>\n",
       "      <td>4593.0</td>\n",
       "    </tr>\n",
       "    <tr>\n",
       "      <th>400</th>\n",
       "      <td>55051</td>\n",
       "      <td>55</td>\n",
       "      <td>51</td>\n",
       "      <td>Iron</td>\n",
       "      <td>County</td>\n",
       "      <td>758.174</td>\n",
       "      <td>Wisconsin</td>\n",
       "      <td>WI</td>\n",
       "      <td>Midwest</td>\n",
       "      <td>East North Central</td>\n",
       "      <td>5.0</td>\n",
       "      <td>55051</td>\n",
       "      <td>6</td>\n",
       "      <td>R</td>\n",
       "      <td>6128.0</td>\n",
       "      <td>6178.0</td>\n",
       "    </tr>\n",
       "  </tbody>\n",
       "</table>\n",
       "</div>"
      ],
      "text/plain": [
       "     GEO_ID  STATE  COUNTY       NAME    LSAD  CENSUSAREA    State_1  \\\n",
       "263   55078     55      78  Menominee  County     357.608  Wisconsin   \n",
       "283   55037     55      37   Florence  County     488.195  Wisconsin   \n",
       "400   55051     55      51       Iron  County     758.174  Wisconsin   \n",
       "\n",
       "    Alpha code   Region            Division  CDC region  FIPS code  2013 code  \\\n",
       "263         WI  Midwest  East North Central         5.0      55078          5   \n",
       "283         WI  Midwest  East North Central         5.0      55037          5   \n",
       "400         WI  Midwest  East North Central         5.0      55051          6   \n",
       "\n",
       "    U/R  pop2020  pop2021  \n",
       "263   R   4255.0   4289.0  \n",
       "283   R   4556.0   4593.0  \n",
       "400   R   6128.0   6178.0  "
      ]
     },
     "execution_count": 7,
     "metadata": {},
     "output_type": "execute_result"
    }
   ],
   "source": [
    "#Check how many state does NY has in total\n",
    "WI_sub = shape_file[shape_file['State_1'] == 'Wisconsin']\n",
    "print(WI_sub.shape)\n",
    "WI_sub.head(3)"
   ]
  },
  {
   "cell_type": "code",
   "execution_count": 9,
   "id": "b808e6cc",
   "metadata": {},
   "outputs": [
    {
     "name": "stdout",
     "output_type": "stream",
     "text": [
      "(67, 6)\n"
     ]
    },
    {
     "data": {
      "text/html": [
       "<div>\n",
       "<style scoped>\n",
       "    .dataframe tbody tr th:only-of-type {\n",
       "        vertical-align: middle;\n",
       "    }\n",
       "\n",
       "    .dataframe tbody tr th {\n",
       "        vertical-align: top;\n",
       "    }\n",
       "\n",
       "    .dataframe thead th {\n",
       "        text-align: right;\n",
       "    }\n",
       "</style>\n",
       "<table border=\"1\" class=\"dataframe\">\n",
       "  <thead>\n",
       "    <tr style=\"text-align: right;\">\n",
       "      <th></th>\n",
       "      <th>GEOID</th>\n",
       "      <th>NAME</th>\n",
       "      <th>LSAD</th>\n",
       "      <th>STATE</th>\n",
       "      <th>State_1</th>\n",
       "      <th>pop2020</th>\n",
       "    </tr>\n",
       "  </thead>\n",
       "  <tbody>\n",
       "    <tr>\n",
       "      <th>926</th>\n",
       "      <td>55011</td>\n",
       "      <td>Buffalo</td>\n",
       "      <td>County</td>\n",
       "      <td>55</td>\n",
       "      <td>Wisconsin</td>\n",
       "      <td>13320.0</td>\n",
       "    </tr>\n",
       "    <tr>\n",
       "      <th>964</th>\n",
       "      <td>55099</td>\n",
       "      <td>Price</td>\n",
       "      <td>County</td>\n",
       "      <td>55</td>\n",
       "      <td>Wisconsin</td>\n",
       "      <td>14015.0</td>\n",
       "    </tr>\n",
       "    <tr>\n",
       "      <th>980</th>\n",
       "      <td>55107</td>\n",
       "      <td>Rusk</td>\n",
       "      <td>County</td>\n",
       "      <td>55</td>\n",
       "      <td>Wisconsin</td>\n",
       "      <td>14168.0</td>\n",
       "    </tr>\n",
       "    <tr>\n",
       "      <th>1062</th>\n",
       "      <td>55077</td>\n",
       "      <td>Marquette</td>\n",
       "      <td>County</td>\n",
       "      <td>55</td>\n",
       "      <td>Wisconsin</td>\n",
       "      <td>15584.0</td>\n",
       "    </tr>\n",
       "    <tr>\n",
       "      <th>1084</th>\n",
       "      <td>55003</td>\n",
       "      <td>Ashland</td>\n",
       "      <td>County</td>\n",
       "      <td>55</td>\n",
       "      <td>Wisconsin</td>\n",
       "      <td>15977.0</td>\n",
       "    </tr>\n",
       "  </tbody>\n",
       "</table>\n",
       "</div>"
      ],
      "text/plain": [
       "      GEOID       NAME    LSAD  STATE    State_1  pop2020\n",
       "926   55011    Buffalo  County     55  Wisconsin  13320.0\n",
       "964   55099      Price  County     55  Wisconsin  14015.0\n",
       "980   55107       Rusk  County     55  Wisconsin  14168.0\n",
       "1062  55077  Marquette  County     55  Wisconsin  15584.0\n",
       "1084  55003    Ashland  County     55  Wisconsin  15977.0"
      ]
     },
     "execution_count": 9,
     "metadata": {},
     "output_type": "execute_result"
    }
   ],
   "source": [
    "WI_name_id_pop = shape_file[(shape_file[\"STATE\"] == 55) & (shape_file[\"pop2020\"] > 11000)] \n",
    "\n",
    "rename = {\"GEO_ID\" : \"GEOID\"}\n",
    "WI_name_id_pop = WI_name_id_pop.rename(columns = rename)\n",
    "WI_name_id_pop = WI_name_id_pop[['GEOID', 'NAME','LSAD','STATE','State_1','pop2020']]\n",
    "WI_name_id_pop['GEOID'] = WI_name_id_pop['GEOID'].apply(lambda x: f\"{int(x):05d}\") \n",
    "print(IL_name_id_pop.shape)\n",
    "WI_name_id_pop.head()"
   ]
  },
  {
   "cell_type": "code",
   "execution_count": 10,
   "id": "196773f4",
   "metadata": {},
   "outputs": [
    {
     "name": "stdout",
     "output_type": "stream",
     "text": [
      "<class 'pandas.core.frame.DataFrame'>\n",
      "Index: 67 entries, 926 to 3050\n",
      "Data columns (total 6 columns):\n",
      " #   Column   Non-Null Count  Dtype  \n",
      "---  ------   --------------  -----  \n",
      " 0   GEOID    67 non-null     object \n",
      " 1   NAME     67 non-null     object \n",
      " 2   LSAD     67 non-null     object \n",
      " 3   STATE    67 non-null     int64  \n",
      " 4   State_1  67 non-null     object \n",
      " 5   pop2020  67 non-null     float64\n",
      "dtypes: float64(1), int64(1), object(4)\n",
      "memory usage: 3.7+ KB\n"
     ]
    }
   ],
   "source": [
    "WI_name_id_pop.info()"
   ]
  },
  {
   "cell_type": "code",
   "execution_count": 21,
   "id": "ea0a4760",
   "metadata": {},
   "outputs": [
    {
     "name": "stdout",
     "output_type": "stream",
     "text": [
      "67\n"
     ]
    }
   ],
   "source": [
    "WI_name_id_pop['GEOID'] = IL_name_id_pop['GEOID'].astype(str)\n",
    "#This is the subsetting list!!!-----county list include county of pop less than 11,000---\n",
    "county_list = WI_name_id_pop['GEOID'].tolist() \n",
    "print(len(county_list))"
   ]
  },
  {
   "cell_type": "markdown",
   "id": "360ef5e3",
   "metadata": {},
   "source": [
    "#"
   ]
  },
  {
   "cell_type": "markdown",
   "id": "e00a56a3",
   "metadata": {},
   "source": [
    "# Population Districts \n",
    "- Tracts, Block Groups and Blocks"
   ]
  },
  {
   "cell_type": "markdown",
   "id": "4dc0049d",
   "metadata": {},
   "source": [
    "## Census Block Group"
   ]
  },
  {
   "cell_type": "code",
   "execution_count": 22,
   "id": "7a2fe817",
   "metadata": {},
   "outputs": [
    {
     "data": {
      "text/html": [
       "<div>\n",
       "<style scoped>\n",
       "    .dataframe tbody tr th:only-of-type {\n",
       "        vertical-align: middle;\n",
       "    }\n",
       "\n",
       "    .dataframe tbody tr th {\n",
       "        vertical-align: top;\n",
       "    }\n",
       "\n",
       "    .dataframe thead th {\n",
       "        text-align: right;\n",
       "    }\n",
       "</style>\n",
       "<table border=\"1\" class=\"dataframe\">\n",
       "  <thead>\n",
       "    <tr style=\"text-align: right;\">\n",
       "      <th></th>\n",
       "      <th>STATEFP</th>\n",
       "      <th>COUNTYFP</th>\n",
       "      <th>TRACTCE</th>\n",
       "      <th>BLKGRPCE</th>\n",
       "      <th>GEOID</th>\n",
       "      <th>NAMELSAD</th>\n",
       "      <th>MTFCC</th>\n",
       "      <th>FUNCSTAT</th>\n",
       "      <th>ALAND</th>\n",
       "      <th>AWATER</th>\n",
       "      <th>INTPTLAT</th>\n",
       "      <th>INTPTLON</th>\n",
       "      <th>geometry</th>\n",
       "    </tr>\n",
       "  </thead>\n",
       "  <tbody>\n",
       "    <tr>\n",
       "      <th>0</th>\n",
       "      <td>55</td>\n",
       "      <td>133</td>\n",
       "      <td>201600</td>\n",
       "      <td>3</td>\n",
       "      <td>551332016003</td>\n",
       "      <td>Block Group 3</td>\n",
       "      <td>G5030</td>\n",
       "      <td>S</td>\n",
       "      <td>10228980</td>\n",
       "      <td>48334</td>\n",
       "      <td>+42.9513525</td>\n",
       "      <td>-088.1709505</td>\n",
       "      <td>POLYGON ((-88.19888 42.93020, -88.19884 42.930...</td>\n",
       "    </tr>\n",
       "    <tr>\n",
       "      <th>1</th>\n",
       "      <td>55</td>\n",
       "      <td>133</td>\n",
       "      <td>201504</td>\n",
       "      <td>3</td>\n",
       "      <td>551332015043</td>\n",
       "      <td>Block Group 3</td>\n",
       "      <td>G5030</td>\n",
       "      <td>S</td>\n",
       "      <td>1420056</td>\n",
       "      <td>3228</td>\n",
       "      <td>+42.9237883</td>\n",
       "      <td>-088.0768096</td>\n",
       "      <td>POLYGON ((-88.08879 42.92421, -88.08866 42.924...</td>\n",
       "    </tr>\n",
       "    <tr>\n",
       "      <th>2</th>\n",
       "      <td>55</td>\n",
       "      <td>133</td>\n",
       "      <td>202500</td>\n",
       "      <td>4</td>\n",
       "      <td>551332025004</td>\n",
       "      <td>Block Group 4</td>\n",
       "      <td>G5030</td>\n",
       "      <td>S</td>\n",
       "      <td>325017</td>\n",
       "      <td>0</td>\n",
       "      <td>+43.0040900</td>\n",
       "      <td>-088.2169267</td>\n",
       "      <td>POLYGON ((-88.22182 43.00307, -88.22180 43.003...</td>\n",
       "    </tr>\n",
       "  </tbody>\n",
       "</table>\n",
       "</div>"
      ],
      "text/plain": [
       "  STATEFP COUNTYFP TRACTCE BLKGRPCE         GEOID       NAMELSAD  MTFCC  \\\n",
       "0      55      133  201600        3  551332016003  Block Group 3  G5030   \n",
       "1      55      133  201504        3  551332015043  Block Group 3  G5030   \n",
       "2      55      133  202500        4  551332025004  Block Group 4  G5030   \n",
       "\n",
       "  FUNCSTAT     ALAND  AWATER     INTPTLAT      INTPTLON  \\\n",
       "0        S  10228980   48334  +42.9513525  -088.1709505   \n",
       "1        S   1420056    3228  +42.9237883  -088.0768096   \n",
       "2        S    325017       0  +43.0040900  -088.2169267   \n",
       "\n",
       "                                            geometry  \n",
       "0  POLYGON ((-88.19888 42.93020, -88.19884 42.930...  \n",
       "1  POLYGON ((-88.08879 42.92421, -88.08866 42.924...  \n",
       "2  POLYGON ((-88.22182 43.00307, -88.22180 43.003...  "
      ]
     },
     "execution_count": 22,
     "metadata": {},
     "output_type": "execute_result"
    }
   ],
   "source": [
    "data = []\n",
    "\n",
    "with fiona.open(\"tl_2020_55_bg/tl_2020_55_bg.shp\") as src:\n",
    "    for feature in src:\n",
    "        row = dict(feature['properties'])        # convert to dict\n",
    "        row['geometry'] = shape(feature['geometry'])  # shapely geometry\n",
    "        data.append(row)\n",
    "\n",
    "il_bg_df = pd.DataFrame(data)\n",
    "\n",
    "il_bg_sf = gpd.GeoDataFrame(il_bg_df, geometry='geometry')\n",
    "il_bg_sf.head(3) "
   ]
  },
  {
   "cell_type": "code",
   "execution_count": 13,
   "id": "fc82a5e4",
   "metadata": {
    "scrolled": true
   },
   "outputs": [],
   "source": [
    "#url = \"https://www2.census.gov/geo/tiger/TIGER2021/BG/tl_2021_35_bg.zip\"\n",
    "#ny_bg_sf = gpd.read_file(url)\n",
    "#print(ny_bg_sf.columns)\n",
    "#print(ny_bg_sf.shape)\n",
    "#ny_bg_sf.head(1) "
   ]
  },
  {
   "cell_type": "markdown",
   "id": "f341d09e",
   "metadata": {},
   "source": [
    "## Test: Accquiring Census Block Group Population Data\n",
    "\n",
    "### Instruction generated by ChatGTP:\n",
    "\n",
    "- For New York census block group population data specifically, you can follow these steps:\n",
    "\n",
    "- Go to https://data.census.gov/\n",
    "- In the search bar, type \"population\"\n",
    "- Under \"Geography,\" select \"Block Group\"\n",
    "- Then select \"Washington\" as the state\n",
    "- Choose the counties and block groups you're interested in\n",
    "- Select the appropriate ACS 5-Year Estimates table (the latest available would be best)\n",
    "\n",
    "For population data specifically, look for table B01003 \"Total Population\" which gives you the basic population count.\n",
    "\n",
    "If you want to get Decennial Census Data, Do the same thing and look for Decennial Census, look for P1 Data"
   ]
  },
  {
   "cell_type": "code",
   "execution_count": 23,
   "id": "4322eaec",
   "metadata": {},
   "outputs": [
    {
     "name": "stdout",
     "output_type": "stream",
     "text": [
      "(4691, 5)\n"
     ]
    },
    {
     "data": {
      "text/html": [
       "<div>\n",
       "<style scoped>\n",
       "    .dataframe tbody tr th:only-of-type {\n",
       "        vertical-align: middle;\n",
       "    }\n",
       "\n",
       "    .dataframe tbody tr th {\n",
       "        vertical-align: top;\n",
       "    }\n",
       "\n",
       "    .dataframe thead th {\n",
       "        text-align: right;\n",
       "    }\n",
       "</style>\n",
       "<table border=\"1\" class=\"dataframe\">\n",
       "  <thead>\n",
       "    <tr style=\"text-align: right;\">\n",
       "      <th></th>\n",
       "      <th>GEO_ID</th>\n",
       "      <th>NAME</th>\n",
       "      <th>B01003_001E</th>\n",
       "      <th>B01003_001M</th>\n",
       "      <th>Unnamed: 4</th>\n",
       "    </tr>\n",
       "  </thead>\n",
       "  <tbody>\n",
       "    <tr>\n",
       "      <th>2</th>\n",
       "      <td>1500000US550019501002</td>\n",
       "      <td>Block Group 2, Census Tract 9501, Adams County...</td>\n",
       "      <td>731</td>\n",
       "      <td>147</td>\n",
       "      <td>NaN</td>\n",
       "    </tr>\n",
       "    <tr>\n",
       "      <th>3</th>\n",
       "      <td>1500000US550019501003</td>\n",
       "      <td>Block Group 3, Census Tract 9501, Adams County...</td>\n",
       "      <td>494</td>\n",
       "      <td>113</td>\n",
       "      <td>NaN</td>\n",
       "    </tr>\n",
       "    <tr>\n",
       "      <th>4</th>\n",
       "      <td>1500000US550019501004</td>\n",
       "      <td>Block Group 4, Census Tract 9501, Adams County...</td>\n",
       "      <td>611</td>\n",
       "      <td>143</td>\n",
       "      <td>NaN</td>\n",
       "    </tr>\n",
       "  </tbody>\n",
       "</table>\n",
       "</div>"
      ],
      "text/plain": [
       "                  GEO_ID                                               NAME  \\\n",
       "2  1500000US550019501002  Block Group 2, Census Tract 9501, Adams County...   \n",
       "3  1500000US550019501003  Block Group 3, Census Tract 9501, Adams County...   \n",
       "4  1500000US550019501004  Block Group 4, Census Tract 9501, Adams County...   \n",
       "\n",
       "  B01003_001E B01003_001M  Unnamed: 4  \n",
       "2         731         147         NaN  \n",
       "3         494         113         NaN  \n",
       "4         611         143         NaN  "
      ]
     },
     "execution_count": 23,
     "metadata": {},
     "output_type": "execute_result"
    }
   ],
   "source": [
    "bg_pop_raw = pd.read_csv(\"ACSDT5Y2020/ACSDT5Y2020.B01003-Data.csv\")\n",
    "bg_pop_raw = bg_pop_raw.drop(index=[0, 1]) #Drop the first row: first row is the total state population\n",
    "print(bg_pop_raw.shape)\n",
    "bg_pop_raw.head(3)"
   ]
  },
  {
   "cell_type": "code",
   "execution_count": 24,
   "id": "77e73ba7",
   "metadata": {},
   "outputs": [],
   "source": [
    "#After inspect the dataframe, we can observe that there's also state level population included\n",
    "#So we drop them\n",
    "#bg_pop = bg_pop_raw.iloc[39:].copy()\n",
    "#bg_pop.head(3)\n",
    "bg_pop = bg_pop_raw"
   ]
  },
  {
   "cell_type": "code",
   "execution_count": 25,
   "id": "66e4162b",
   "metadata": {},
   "outputs": [
    {
     "data": {
      "text/html": [
       "<div>\n",
       "<style scoped>\n",
       "    .dataframe tbody tr th:only-of-type {\n",
       "        vertical-align: middle;\n",
       "    }\n",
       "\n",
       "    .dataframe tbody tr th {\n",
       "        vertical-align: top;\n",
       "    }\n",
       "\n",
       "    .dataframe thead th {\n",
       "        text-align: right;\n",
       "    }\n",
       "</style>\n",
       "<table border=\"1\" class=\"dataframe\">\n",
       "  <thead>\n",
       "    <tr style=\"text-align: right;\">\n",
       "      <th></th>\n",
       "      <th>GEO_ID</th>\n",
       "      <th>Population</th>\n",
       "    </tr>\n",
       "  </thead>\n",
       "  <tbody>\n",
       "    <tr>\n",
       "      <th>2</th>\n",
       "      <td>1500000US550019501002</td>\n",
       "      <td>731</td>\n",
       "    </tr>\n",
       "    <tr>\n",
       "      <th>3</th>\n",
       "      <td>1500000US550019501003</td>\n",
       "      <td>494</td>\n",
       "    </tr>\n",
       "    <tr>\n",
       "      <th>4</th>\n",
       "      <td>1500000US550019501004</td>\n",
       "      <td>611</td>\n",
       "    </tr>\n",
       "  </tbody>\n",
       "</table>\n",
       "</div>"
      ],
      "text/plain": [
       "                  GEO_ID Population\n",
       "2  1500000US550019501002        731\n",
       "3  1500000US550019501003        494\n",
       "4  1500000US550019501004        611"
      ]
     },
     "execution_count": 25,
     "metadata": {},
     "output_type": "execute_result"
    }
   ],
   "source": [
    "bg_pop = bg_pop[['GEO_ID', 'B01003_001E']].copy()\n",
    "rename = {'B01003_001E' : 'Population'}\n",
    "bg_pop  = bg_pop.rename(columns = rename)\n",
    "bg_pop.head(3)"
   ]
  },
  {
   "cell_type": "code",
   "execution_count": 26,
   "id": "0c9f37d8",
   "metadata": {},
   "outputs": [
    {
     "name": "stdout",
     "output_type": "stream",
     "text": [
      "5805843\n"
     ]
    }
   ],
   "source": [
    "bg_pop['Population'] = bg_pop['Population'].astype(int)\n",
    "sum_value = bg_pop['Population'].sum()\n",
    "print(sum_value)"
   ]
  },
  {
   "cell_type": "code",
   "execution_count": 27,
   "id": "4bae5de2",
   "metadata": {},
   "outputs": [
    {
     "data": {
      "text/html": [
       "<div>\n",
       "<style scoped>\n",
       "    .dataframe tbody tr th:only-of-type {\n",
       "        vertical-align: middle;\n",
       "    }\n",
       "\n",
       "    .dataframe tbody tr th {\n",
       "        vertical-align: top;\n",
       "    }\n",
       "\n",
       "    .dataframe thead th {\n",
       "        text-align: right;\n",
       "    }\n",
       "</style>\n",
       "<table border=\"1\" class=\"dataframe\">\n",
       "  <thead>\n",
       "    <tr style=\"text-align: right;\">\n",
       "      <th></th>\n",
       "      <th>GEO_ID</th>\n",
       "      <th>Population</th>\n",
       "      <th>GEOID</th>\n",
       "    </tr>\n",
       "  </thead>\n",
       "  <tbody>\n",
       "    <tr>\n",
       "      <th>2</th>\n",
       "      <td>1500000US550019501002</td>\n",
       "      <td>731</td>\n",
       "      <td>550019501002</td>\n",
       "    </tr>\n",
       "    <tr>\n",
       "      <th>3</th>\n",
       "      <td>1500000US550019501003</td>\n",
       "      <td>494</td>\n",
       "      <td>550019501003</td>\n",
       "    </tr>\n",
       "    <tr>\n",
       "      <th>4</th>\n",
       "      <td>1500000US550019501004</td>\n",
       "      <td>611</td>\n",
       "      <td>550019501004</td>\n",
       "    </tr>\n",
       "  </tbody>\n",
       "</table>\n",
       "</div>"
      ],
      "text/plain": [
       "                  GEO_ID  Population         GEOID\n",
       "2  1500000US550019501002         731  550019501002\n",
       "3  1500000US550019501003         494  550019501003\n",
       "4  1500000US550019501004         611  550019501004"
      ]
     },
     "execution_count": 27,
     "metadata": {},
     "output_type": "execute_result"
    }
   ],
   "source": [
    "bg_pop['GEOID'] = bg_pop['GEO_ID'].str[-12:]\n",
    "bg_pop.head(3)"
   ]
  },
  {
   "cell_type": "code",
   "execution_count": 28,
   "id": "730d2e8e",
   "metadata": {},
   "outputs": [
    {
     "name": "stdout",
     "output_type": "stream",
     "text": [
      "<class 'pandas.core.frame.DataFrame'>\n",
      "RangeIndex: 4691 entries, 2 to 4692\n",
      "Data columns (total 3 columns):\n",
      " #   Column      Non-Null Count  Dtype \n",
      "---  ------      --------------  ----- \n",
      " 0   GEO_ID      4691 non-null   object\n",
      " 1   Population  4691 non-null   int64 \n",
      " 2   GEOID       4691 non-null   object\n",
      "dtypes: int64(1), object(2)\n",
      "memory usage: 110.1+ KB\n"
     ]
    }
   ],
   "source": [
    "bg_pop.info()"
   ]
  },
  {
   "cell_type": "code",
   "execution_count": 29,
   "id": "a80d5852",
   "metadata": {},
   "outputs": [
    {
     "name": "stdout",
     "output_type": "stream",
     "text": [
      "(4654, 3)\n"
     ]
    },
    {
     "data": {
      "text/html": [
       "<div>\n",
       "<style scoped>\n",
       "    .dataframe tbody tr th:only-of-type {\n",
       "        vertical-align: middle;\n",
       "    }\n",
       "\n",
       "    .dataframe tbody tr th {\n",
       "        vertical-align: top;\n",
       "    }\n",
       "\n",
       "    .dataframe thead th {\n",
       "        text-align: right;\n",
       "    }\n",
       "</style>\n",
       "<table border=\"1\" class=\"dataframe\">\n",
       "  <thead>\n",
       "    <tr style=\"text-align: right;\">\n",
       "      <th></th>\n",
       "      <th>GEOID</th>\n",
       "      <th>Population</th>\n",
       "      <th>COUNTY</th>\n",
       "    </tr>\n",
       "  </thead>\n",
       "  <tbody>\n",
       "    <tr>\n",
       "      <th>2</th>\n",
       "      <td>550019501002</td>\n",
       "      <td>731</td>\n",
       "      <td>55001</td>\n",
       "    </tr>\n",
       "    <tr>\n",
       "      <th>3</th>\n",
       "      <td>550019501003</td>\n",
       "      <td>494</td>\n",
       "      <td>55001</td>\n",
       "    </tr>\n",
       "    <tr>\n",
       "      <th>4</th>\n",
       "      <td>550019501004</td>\n",
       "      <td>611</td>\n",
       "      <td>55001</td>\n",
       "    </tr>\n",
       "    <tr>\n",
       "      <th>5</th>\n",
       "      <td>550019502011</td>\n",
       "      <td>513</td>\n",
       "      <td>55001</td>\n",
       "    </tr>\n",
       "    <tr>\n",
       "      <th>6</th>\n",
       "      <td>550019502012</td>\n",
       "      <td>711</td>\n",
       "      <td>55001</td>\n",
       "    </tr>\n",
       "  </tbody>\n",
       "</table>\n",
       "</div>"
      ],
      "text/plain": [
       "          GEOID  Population COUNTY\n",
       "2  550019501002         731  55001\n",
       "3  550019501003         494  55001\n",
       "4  550019501004         611  55001\n",
       "5  550019502011         513  55001\n",
       "6  550019502012         711  55001"
      ]
     },
     "execution_count": 29,
     "metadata": {},
     "output_type": "execute_result"
    }
   ],
   "source": [
    "bg_pop = bg_pop[['GEOID', 'Population']].copy()\n",
    "bg_pop['COUNTY'] = bg_pop['GEOID'].str[:5]\n",
    "bg_pop_new = bg_pop[bg_pop['COUNTY'].isin(county_list)]\n",
    "print(bg_pop_new.shape)\n",
    "bg_pop_new.head()"
   ]
  },
  {
   "cell_type": "code",
   "execution_count": 30,
   "id": "e6a7513f",
   "metadata": {},
   "outputs": [
    {
     "name": "stdout",
     "output_type": "stream",
     "text": [
      "67\n"
     ]
    }
   ],
   "source": [
    "print(len(bg_pop_new['COUNTY'].unique()))"
   ]
  },
  {
   "cell_type": "markdown",
   "id": "f4a63bcf",
   "metadata": {},
   "source": [
    "## Merge Data"
   ]
  },
  {
   "cell_type": "code",
   "execution_count": 31,
   "id": "a85b17f9",
   "metadata": {},
   "outputs": [
    {
     "name": "stdout",
     "output_type": "stream",
     "text": [
      "(4654, 15)\n"
     ]
    },
    {
     "data": {
      "text/html": [
       "<div>\n",
       "<style scoped>\n",
       "    .dataframe tbody tr th:only-of-type {\n",
       "        vertical-align: middle;\n",
       "    }\n",
       "\n",
       "    .dataframe tbody tr th {\n",
       "        vertical-align: top;\n",
       "    }\n",
       "\n",
       "    .dataframe thead th {\n",
       "        text-align: right;\n",
       "    }\n",
       "</style>\n",
       "<table border=\"1\" class=\"dataframe\">\n",
       "  <thead>\n",
       "    <tr style=\"text-align: right;\">\n",
       "      <th></th>\n",
       "      <th>STATEFP</th>\n",
       "      <th>COUNTYFP</th>\n",
       "      <th>TRACTCE</th>\n",
       "      <th>BLKGRPCE</th>\n",
       "      <th>GEOID</th>\n",
       "      <th>NAMELSAD</th>\n",
       "      <th>MTFCC</th>\n",
       "      <th>FUNCSTAT</th>\n",
       "      <th>ALAND</th>\n",
       "      <th>AWATER</th>\n",
       "      <th>INTPTLAT</th>\n",
       "      <th>INTPTLON</th>\n",
       "      <th>geometry</th>\n",
       "      <th>Population</th>\n",
       "      <th>COUNTY</th>\n",
       "    </tr>\n",
       "  </thead>\n",
       "  <tbody>\n",
       "    <tr>\n",
       "      <th>0</th>\n",
       "      <td>55</td>\n",
       "      <td>133</td>\n",
       "      <td>201600</td>\n",
       "      <td>3</td>\n",
       "      <td>551332016003</td>\n",
       "      <td>Block Group 3</td>\n",
       "      <td>G5030</td>\n",
       "      <td>S</td>\n",
       "      <td>10228980</td>\n",
       "      <td>48334</td>\n",
       "      <td>+42.9513525</td>\n",
       "      <td>-088.1709505</td>\n",
       "      <td>POLYGON ((-88.19888 42.93020, -88.19884 42.930...</td>\n",
       "      <td>1987</td>\n",
       "      <td>55133</td>\n",
       "    </tr>\n",
       "    <tr>\n",
       "      <th>1</th>\n",
       "      <td>55</td>\n",
       "      <td>133</td>\n",
       "      <td>201504</td>\n",
       "      <td>3</td>\n",
       "      <td>551332015043</td>\n",
       "      <td>Block Group 3</td>\n",
       "      <td>G5030</td>\n",
       "      <td>S</td>\n",
       "      <td>1420056</td>\n",
       "      <td>3228</td>\n",
       "      <td>+42.9237883</td>\n",
       "      <td>-088.0768096</td>\n",
       "      <td>POLYGON ((-88.08879 42.92421, -88.08866 42.924...</td>\n",
       "      <td>1805</td>\n",
       "      <td>55133</td>\n",
       "    </tr>\n",
       "    <tr>\n",
       "      <th>2</th>\n",
       "      <td>55</td>\n",
       "      <td>133</td>\n",
       "      <td>202500</td>\n",
       "      <td>4</td>\n",
       "      <td>551332025004</td>\n",
       "      <td>Block Group 4</td>\n",
       "      <td>G5030</td>\n",
       "      <td>S</td>\n",
       "      <td>325017</td>\n",
       "      <td>0</td>\n",
       "      <td>+43.0040900</td>\n",
       "      <td>-088.2169267</td>\n",
       "      <td>POLYGON ((-88.22182 43.00307, -88.22180 43.003...</td>\n",
       "      <td>764</td>\n",
       "      <td>55133</td>\n",
       "    </tr>\n",
       "  </tbody>\n",
       "</table>\n",
       "</div>"
      ],
      "text/plain": [
       "  STATEFP COUNTYFP TRACTCE BLKGRPCE         GEOID       NAMELSAD  MTFCC  \\\n",
       "0      55      133  201600        3  551332016003  Block Group 3  G5030   \n",
       "1      55      133  201504        3  551332015043  Block Group 3  G5030   \n",
       "2      55      133  202500        4  551332025004  Block Group 4  G5030   \n",
       "\n",
       "  FUNCSTAT     ALAND  AWATER     INTPTLAT      INTPTLON  \\\n",
       "0        S  10228980   48334  +42.9513525  -088.1709505   \n",
       "1        S   1420056    3228  +42.9237883  -088.0768096   \n",
       "2        S    325017       0  +43.0040900  -088.2169267   \n",
       "\n",
       "                                            geometry  Population COUNTY  \n",
       "0  POLYGON ((-88.19888 42.93020, -88.19884 42.930...        1987  55133  \n",
       "1  POLYGON ((-88.08879 42.92421, -88.08866 42.924...        1805  55133  \n",
       "2  POLYGON ((-88.22182 43.00307, -88.22180 43.003...         764  55133  "
      ]
     },
     "execution_count": 31,
     "metadata": {},
     "output_type": "execute_result"
    }
   ],
   "source": [
    "tessellation = pd.merge(il_bg_sf, bg_pop_new, on = 'GEOID', how = 'inner')\n",
    "print(tessellation.shape)\n",
    "tessellation.head(3)"
   ]
  },
  {
   "cell_type": "code",
   "execution_count": 32,
   "id": "e83b0a54",
   "metadata": {},
   "outputs": [
    {
     "data": {
      "text/plain": [
       "67"
      ]
     },
     "execution_count": 32,
     "metadata": {},
     "output_type": "execute_result"
    }
   ],
   "source": [
    "len(tessellation['COUNTYFP'].unique())"
   ]
  },
  {
   "cell_type": "code",
   "execution_count": 37,
   "id": "0d4c0e35",
   "metadata": {},
   "outputs": [],
   "source": [
    "#county_list = tessellation['COUNTYFP'].unique().tolist()#\n",
    "#county_list"
   ]
  },
  {
   "cell_type": "markdown",
   "id": "63bdb8d7",
   "metadata": {},
   "source": [
    "#"
   ]
  },
  {
   "cell_type": "markdown",
   "id": "bd3d5ce3",
   "metadata": {},
   "source": [
    "# Individual Trajectory Generation"
   ]
  },
  {
   "cell_type": "code",
   "execution_count": 33,
   "id": "ba65fbcf",
   "metadata": {},
   "outputs": [
    {
     "name": "stdout",
     "output_type": "stream",
     "text": [
      "<class 'geopandas.geodataframe.GeoDataFrame'>\n",
      "Index: 4634 entries, 0 to 4653\n",
      "Data columns (total 3 columns):\n",
      " #   Column      Non-Null Count  Dtype   \n",
      "---  ------      --------------  -----   \n",
      " 0   GEOID       4634 non-null   object  \n",
      " 1   Population  4634 non-null   int64   \n",
      " 2   geometry    4634 non-null   geometry\n",
      "dtypes: geometry(1), int64(1), object(1)\n",
      "memory usage: 144.8+ KB\n",
      "None\n"
     ]
    },
    {
     "data": {
      "text/html": [
       "<div>\n",
       "<style scoped>\n",
       "    .dataframe tbody tr th:only-of-type {\n",
       "        vertical-align: middle;\n",
       "    }\n",
       "\n",
       "    .dataframe tbody tr th {\n",
       "        vertical-align: top;\n",
       "    }\n",
       "\n",
       "    .dataframe thead th {\n",
       "        text-align: right;\n",
       "    }\n",
       "</style>\n",
       "<table border=\"1\" class=\"dataframe\">\n",
       "  <thead>\n",
       "    <tr style=\"text-align: right;\">\n",
       "      <th></th>\n",
       "      <th>GEOID</th>\n",
       "      <th>Population</th>\n",
       "      <th>geometry</th>\n",
       "    </tr>\n",
       "  </thead>\n",
       "  <tbody>\n",
       "    <tr>\n",
       "      <th>0</th>\n",
       "      <td>551332016003</td>\n",
       "      <td>1987</td>\n",
       "      <td>POLYGON ((-88.19888 42.93020, -88.19884 42.930...</td>\n",
       "    </tr>\n",
       "    <tr>\n",
       "      <th>1</th>\n",
       "      <td>551332015043</td>\n",
       "      <td>1805</td>\n",
       "      <td>POLYGON ((-88.08879 42.92421, -88.08866 42.924...</td>\n",
       "    </tr>\n",
       "    <tr>\n",
       "      <th>2</th>\n",
       "      <td>551332025004</td>\n",
       "      <td>764</td>\n",
       "      <td>POLYGON ((-88.22182 43.00307, -88.22180 43.003...</td>\n",
       "    </tr>\n",
       "  </tbody>\n",
       "</table>\n",
       "</div>"
      ],
      "text/plain": [
       "          GEOID  Population                                           geometry\n",
       "0  551332016003        1987  POLYGON ((-88.19888 42.93020, -88.19884 42.930...\n",
       "1  551332015043        1805  POLYGON ((-88.08879 42.92421, -88.08866 42.924...\n",
       "2  551332025004         764  POLYGON ((-88.22182 43.00307, -88.22180 43.003..."
      ]
     },
     "execution_count": 33,
     "metadata": {},
     "output_type": "execute_result"
    }
   ],
   "source": [
    "tessellation = tessellation[['GEOID', 'Population', 'geometry']].copy()\n",
    "tessellation = tessellation.loc[tessellation['Population'] != 0].copy()\n",
    "print(tessellation.info())\n",
    "tessellation.head(3)"
   ]
  },
  {
   "cell_type": "markdown",
   "id": "32d954ee",
   "metadata": {},
   "source": [
    "## Density EPR"
   ]
  },
  {
   "cell_type": "code",
   "execution_count": 34,
   "id": "ab1f49b6",
   "metadata": {},
   "outputs": [
    {
     "data": {
      "image/svg+xml": [
       "<svg xmlns=\"http://www.w3.org/2000/svg\" xmlns:xlink=\"http://www.w3.org/1999/xlink\" width=\"100.0\" height=\"100.0\" viewBox=\"-91.82117147999999 44.904125519999994 0.17694395999998846 0.13993996000000664\" preserveAspectRatio=\"xMinYMin meet\"><g transform=\"matrix(1,0,0,-1,0,89.948191)\"><path fill-rule=\"evenodd\" fill=\"#66cc99\" stroke=\"#555555\" stroke-width=\"0.0035388791999997693\" opacity=\"0.6\" d=\"M -91.81451299999999,44.944168999999995 L -91.814499,44.944278999999995 L -91.814497,44.944365999999995 L -91.814448,44.944432 L -91.81434499999999,44.944565999999995 L -91.814216,44.944711 L -91.814111,44.944841 L -91.81389,44.945205 L -91.813729,44.945614 L -91.81371,44.945848 L -91.813709,44.948494 L -91.813709,44.950218 L -91.81372999999999,44.951864 L -91.813778,44.955624 L -91.813822,44.957485999999996 L -91.813829,44.958237 L -91.813824,44.958456999999996 L -91.813919,44.958455 L -91.814178,44.958625 L -91.814261,44.958895999999996 L -91.814275,44.959046 L -91.814064,44.958706 L -91.813823,44.958489 L -91.813285,44.95852 L -91.81128299999999,44.958495 L -91.80824799999999,44.958487999999996 L -91.808049,44.958487999999996 L -91.805906,44.958473 L -91.801531,44.958466 L -91.800197,44.958467 L -91.798463,44.958458 L -91.79665399999999,44.958448999999995 L -91.796247,44.958448999999995 L -91.79406,44.958447 L -91.785692,44.958478 L -91.78313,44.958456999999996 L -91.777886,44.958406 L -91.77551299999999,44.958396 L -91.773429,44.95838 L -91.77281699999999,44.958375 L -91.769187,44.958346 L -91.768384,44.95834 L -91.768397,44.9615 L -91.76841399999999,44.965461999999995 L -91.76841499999999,44.965803 L -91.768559,44.966631 L -91.76898,44.966685 L -91.772241,44.966729 L -91.77252999999999,44.966739 L -91.772701,44.966798999999995 L -91.772815,44.96684 L -91.77294499999999,44.966916 L -91.772947,44.967231 L -91.772954,44.968461999999995 L -91.772967,44.970518 L -91.772973,44.97195 L -91.772993,44.972843999999995 L -91.77296199999999,44.972843999999995 L -91.771717,44.972828 L -91.77147099999999,44.972818 L -91.765299,44.97273 L -91.76460499999999,44.972721 L -91.75506999999999,44.972591 L -91.75445599999999,44.972583 L -91.753422,44.972573 L -91.742989,44.972474999999996 L -91.742988,44.972491999999995 L -91.740679,44.97248 L -91.738929,44.972479 L -91.736919,44.972477 L -91.735474,44.972476 L -91.73304,44.972477999999995 L -91.731577,44.972479 L -91.722636,44.972417 L -91.71991,44.972398 L -91.715998,44.972353 L -91.71361499999999,44.972352 L -91.711912,44.972342999999995 L -91.71040099999999,44.972304 L -91.709448,44.972282 L -91.70750000000001,44.972237 L -91.70482899999999,44.972169 L -91.702364,44.972089 L -91.70184499999999,44.972037 L -91.70187299999999,44.974173 L -91.70186799999999,44.975909 L -91.701813,44.976628 L -91.701707,44.977126 L -91.701471,44.97779 L -91.701287,44.978435999999995 L -91.700992,44.979417999999995 L -91.70094399999999,44.97958 L -91.700865,44.980004 L -91.70091599999999,44.980318 L -91.701768,44.982386 L -91.70205299999999,44.982737 L -91.70252099999999,44.982941 L -91.70314499999999,44.983016 L -91.70376999999999,44.983035 L -91.704785,44.983036999999996 L -91.705681,44.983044 L -91.70764799999999,44.983059999999995 L -91.710172,44.983101 L -91.710692,44.983194 L -91.71095199999999,44.983379 L -91.711263,44.983619999999995 L -91.71318199999999,44.986095999999996 L -91.713285,44.986391 L -91.713231,44.986816 L -91.71310000000001,44.987165999999995 L -91.71247199999999,44.988402 L -91.71239299999999,44.988678 L -91.712366,44.988974 L -91.712361,44.990266999999996 L -91.712361,44.990296 L -91.712364,44.990804999999995 L -91.712369,44.993956999999995 L -91.71237099999999,44.994881 L -91.71239299999999,44.99576 L -91.71241599999999,44.997719 L -91.712406,44.998247 L -91.71239899999999,44.998418 L -91.712378,44.998961 L -91.71235899999999,44.999427 L -91.711829,44.999438 L -91.709147,44.999489 L -91.70893199999999,44.999488 L -91.70895399999999,45.000588 L -91.709177,45.000600000000006 L -91.709993,45.000642 L -91.71217999999999,45.000571 L -91.712355,45.000572 L -91.712355,45.000721 L -91.712355,45.000828 L -91.71235399999999,45.000943 L -91.712369,45.001256 L -91.71237599999999,45.002683999999995 L -91.71237599999999,45.002762 L -91.712383,45.004357 L -91.712385,45.004689 L -91.712385,45.004736 L -91.7124,45.007903999999996 L -91.71236999999999,45.009029 L -91.712004,45.009710999999996 L -91.711664,45.01019 L -91.711193,45.010928 L -91.711035,45.011351999999995 L -91.710912,45.012150999999996 L -91.71090199999999,45.012218 L -91.711081,45.013399 L -91.71170000000001,45.01562 L -91.711801,45.015983 L -91.71239299999999,45.018364 L -91.71267499999999,45.019638 L -91.71279299999999,45.022981 L -91.712794,45.023032 L -91.71288899999999,45.026039999999995 L -91.712943,45.030316 L -91.712991,45.034839999999996 L -91.713045,45.037512 L -91.712389,45.037510999999995 L -91.706792,45.037416 L -91.705759,45.037395 L -91.705348,45.037351 L -91.704447,45.037212 L -91.704116,45.037171 L -91.70376399999999,45.037121 L -91.70343799999999,45.037062 L -91.703149,45.036988 L -91.702867,45.036888999999995 L -91.702266,45.036651 L -91.70197499999999,45.036567 L -91.70167099999999,45.03651 L -91.70136699999999,45.036483999999994 L -91.701047,45.036487 L -91.700683,45.036504 L -91.700262,45.036536999999996 L -91.699848,45.036561999999996 L -91.69948,45.036595 L -91.698859,45.036677 L -91.69852,45.036711 L -91.698162,45.036733 L -91.697784,45.036739999999995 L -91.697425,45.036739 L -91.697099,45.036727 L -91.696136,45.03667 L -91.69577799999999,45.036629999999995 L -91.695335,45.036569 L -91.694277,45.036395 L -91.693242,45.036232 L -91.69233299999999,45.036105 L -91.69143299999999,45.035954 L -91.690516,45.035726 L -91.690029,45.035576999999996 L -91.689528,45.035413 L -91.689038,45.035236 L -91.68858499999999,45.035061999999996 L -91.68816699999999,45.034895 L -91.68776,45.034738 L -91.687353,45.034603999999995 L -91.68694099999999,45.034493 L -91.686539,45.034403 L -91.68614199999999,45.034344999999995 L -91.68575299999999,45.034324999999995 L -91.685334,45.034348 L -91.684462,45.034419 L -91.684058,45.034468 L -91.683358,45.034572 L -91.683039,45.034605 L -91.682681,45.034622 L -91.682261,45.034619 L -91.68184099999999,45.034589 L -91.681432,45.034555 L -91.68072599999999,45.034453 L -91.680408,45.034400999999995 L -91.680071,45.03436 L -91.679704,45.034327999999995 L -91.679304,45.034301 L -91.678507,45.034258 L -91.67780499999999,45.034191 L -91.677447,45.034116999999995 L -91.677037,45.034042 L -91.676135,45.033854 L -91.6748,45.033556999999995 L -91.67438899999999,45.03348 L -91.674,45.033432999999995 L -91.673649,45.033435999999995 L -91.67335299999999,45.033443999999996 L -91.67309499999999,45.03344 L -91.671973,45.033429 L -91.671927,45.033429999999996 L -91.670676,45.033449 L -91.66969399999999,45.033473 L -91.668252,45.033559 L -91.667236,45.033612 L -91.66620499999999,45.033643999999995 L -91.665263,45.033662 L -91.664569,45.03366 L -91.664276,45.033636 L -91.66399799999999,45.033573999999994 L -91.66370599999999,45.033471 L -91.66301299999999,45.033196 L -91.66259,45.03302 L -91.661757,45.032664 L -91.661148,45.032413 L -91.660888,45.032295 L -91.66038999999999,45.032709999999994 L -91.660101,45.033097 L -91.65968199999999,45.033685999999996 L -91.65965399999999,45.034185 L -91.659652,45.034811999999995 L -91.65959699999999,45.035309999999996 L -91.65943899999999,45.035771 L -91.65875199999999,45.037163 L -91.65800999999999,45.037149 L -91.657736,45.037144 L -91.654764,45.037115 L -91.654428,45.037113999999995 L -91.65251699999999,45.037106 L -91.651483,45.037085 L -91.651482,45.036941999999996 L -91.651477,45.036195 L -91.651468,45.034861 L -91.65143599999999,45.032475999999996 L -91.651393,45.029942 L -91.65139099999999,45.02983 L -91.65138999999999,45.029781 L -91.651389,45.029695 L -91.651369,45.028597999999995 L -91.65136799999999,45.028546 L -91.65136799999999,45.028526 L -91.65124899999999,45.021493 L -91.65124399999999,45.021198 L -91.65126099999999,45.018919 L -91.65126,45.018874 L -91.65126,45.018842 L -91.65126,45.018831 L -91.651258,45.018691 L -91.65125499999999,45.0185 L -91.65125499999999,45.01847 L -91.651253,45.01836 L -91.651134,45.009138 L -91.651133,45.009088999999996 L -91.65113099999999,45.008879 L -91.651127,45.008606 L -91.65112599999999,45.008525999999996 L -91.651119,45.007974999999995 L -91.651117,45.007833999999995 L -91.651027,45.000825999999996 L -91.651016,44.999961 L -91.651021,44.988158 L -91.651021,44.987024 L -91.651021,44.986984 L -91.651018,44.986604 L -91.651017,44.986526999999995 L -91.651017,44.986504 L -91.65098499999999,44.982872 L -91.650984,44.982651 L -91.650983,44.982530999999994 L -91.650981,44.982391 L -91.650981,44.982336 L -91.650966,44.980604 L -91.65090000000001,44.972958 L -91.650908,44.972015 L -91.65091,44.971821 L -91.65100199999999,44.961625999999995 L -91.651005,44.961402 L -91.65100000000001,44.957952999999996 L -91.65099599999999,44.954623 L -91.65099599999999,44.954608 L -91.650995,44.954319 L -91.650995,44.954184 L -91.651095,44.950022999999995 L -91.65100199999999,44.944238999999996 L -91.651018,44.943079 L -91.65102,44.942944 L -91.651022,44.942827 L -91.651062,44.939927 L -91.65106399999999,44.939766999999996 L -91.651068,44.939535 L -91.65106899999999,44.939461 L -91.651067,44.9394 L -91.650781,44.931686 L -91.650791,44.928672999999996 L -91.650791,44.928650999999995 L -91.65733999999999,44.928608 L -91.662571,44.928559 L -91.662955,44.928557 L -91.66701499999999,44.928531 L -91.67117999999999,44.928492999999996 L -91.672288,44.928487999999994 L -91.67314999999999,44.928484 L -91.67555399999999,44.928481999999995 L -91.676429,44.928481 L -91.67705099999999,44.928481999999995 L -91.67745699999999,44.928481999999995 L -91.680854,44.928484999999995 L -91.682329,44.928486 L -91.683728,44.928487 L -91.685784,44.928486 L -91.687062,44.928484999999995 L -91.693998,44.928483 L -91.695348,44.928498 L -91.69630599999999,44.928528 L -91.69689799999999,44.92845 L -91.697459,44.928253999999995 L -91.698256,44.928118999999995 L -91.69878399999999,44.928083 L -91.70030799999999,44.928090999999995 L -91.70053899999999,44.928148 L -91.70169299999999,44.928436 L -91.702641,44.928529 L -91.702962,44.928553 L -91.70516099999999,44.928534 L -91.706491,44.928532 L -91.70750699999999,44.928537999999996 L -91.708568,44.928576 L -91.709688,44.928627 L -91.71015799999999,44.928633999999995 L -91.710477,44.928638 L -91.712111,44.928613 L -91.71334,44.928577999999995 L -91.71454899999999,44.928529 L -91.71548,44.928481 L -91.715936,44.928346999999995 L -91.716488,44.928087 L -91.71712199999999,44.927943 L -91.71761099999999,44.92798 L -91.71839299999999,44.928225 L -91.71887,44.928401 L -91.71936699999999,44.928508 L -91.720252,44.928554 L -91.722499,44.928608999999994 L -91.723485,44.928616 L -91.72496699999999,44.928602 L -91.725888,44.928596999999996 L -91.725893,44.92861 L -91.727547,44.928615 L -91.729818,44.928622999999995 L -91.734848,44.92864 L -91.73559,44.928649 L -91.736797,44.928664 L -91.74197199999999,44.928726 L -91.744079,44.92876 L -91.744475,44.928636 L -91.744695,44.928309 L -91.744675,44.927717 L -91.74470000000001,44.92633 L -91.74468,44.925473 L -91.744738,44.925405 L -91.744647,44.924322 L -91.74465,44.923327 L -91.744671,44.921124 L -91.744672,44.921001 L -91.74468499999999,44.919582999999996 L -91.744677,44.918315 L -91.744682,44.917215 L -91.744682,44.917106 L -91.744688,44.915850999999996 L -91.744715,44.914715 L -91.74471199999999,44.914204999999995 L -91.744705,44.913937999999995 L -91.74470199999999,44.913847 L -91.744653,44.913042 L -91.744514,44.911245 L -91.74446499999999,44.910678999999995 L -91.74452699999999,44.91068 L -91.747002,44.910714 L -91.75294699999999,44.91083 L -91.755766,44.910897999999996 L -91.761816,44.91112 L -91.765828,44.911252999999995 L -91.76777799999999,44.911296 L -91.76870699999999,44.911336999999996 L -91.76929899999999,44.911432 L -91.770012,44.911570999999995 L -91.771529,44.911704 L -91.772247,44.911746 L -91.77272599999999,44.911772 L -91.775871,44.911944 L -91.776361,44.911971 L -91.777063,44.912014 L -91.777745,44.912087 L -91.777992,44.912155999999996 L -91.778401,44.912368 L -91.78026799999999,44.913455 L -91.78145099999999,44.914125 L -91.78300899999999,44.914907 L -91.783031,44.914921 L -91.783518,44.914997 L -91.78524,44.915003999999996 L -91.78780599999999,44.915026 L -91.78854299999999,44.915034999999996 L -91.789755,44.91505 L -91.791328,44.915082 L -91.792929,44.915062 L -91.793244,44.91515 L -91.793396,44.915192999999995 L -91.79346799999999,44.915136 L -91.794016,44.915152 L -91.797418,44.915169999999996 L -91.802926,44.915237 L -91.80556899999999,44.915285 L -91.80560299999999,44.915285999999995 L -91.810233,44.915352 L -91.813724,44.915397 L -91.81377599999999,44.916052 L -91.813707,44.919177 L -91.813673,44.921549 L -91.813661,44.926123 L -91.813653,44.928455 L -91.81367,44.930668999999995 L -91.813676,44.932372 L -91.813681,44.933761999999994 L -91.813688,44.935627 L -91.81369199999999,44.936766 L -91.813709,44.940003 L -91.813704,44.940616999999996 L -91.813677,44.941736 L -91.813704,44.943222 L -91.813734,44.943455 L -91.813813,44.943608 L -91.813825,44.943616999999996 L -91.814015,44.94377 L -91.81432099999999,44.943937999999996 L -91.81442799999999,44.943971999999995 L -91.814618,44.944030999999995 L -91.81451299999999,44.944168999999995 z\" /></g></svg>"
      ],
      "text/plain": [
       "<POLYGON ((-91.815 44.944, -91.814 44.944, -91.814 44.944, -91.814 44.944, -...>"
      ]
     },
     "execution_count": 34,
     "metadata": {},
     "output_type": "execute_result"
    }
   ],
   "source": [
    "tessellation.iloc[6,2]"
   ]
  },
  {
   "cell_type": "markdown",
   "id": "9e0bb2d5",
   "metadata": {},
   "source": [
    "### This Takes 3 hours to run"
   ]
  },
  {
   "cell_type": "code",
   "execution_count": 41,
   "id": "e917ec79",
   "metadata": {},
   "outputs": [
    {
     "name": "stderr",
     "output_type": "stream",
     "text": [
      "/Users/wendyshi2001/anaconda3/envs/skmob/lib/python3.9/site-packages/geopandas/geoseries.py:574: FutureWarning: the convert_dtype parameter is deprecated and will be removed in a future version.  Do ``ser.astype(object).apply()`` instead if you want ``convert_dtype=False``.\n",
      "  result = super().apply(func, convert_dtype=convert_dtype, args=args, **kwargs)\n",
      "  0%|                                                 | 0/10000 [00:00<?, ?it/s]/Users/wendyshi2001/anaconda3/envs/skmob/lib/python3.9/site-packages/skmob/models/gravity.py:43: RuntimeWarning: divide by zero encountered in power\n",
      "  return np.power(x, exponent)\n",
      "100%|█████████████████████████████████████| 10000/10000 [15:20<00:00, 10.87it/s]\n"
     ]
    }
   ],
   "source": [
    "start_time = pd.to_datetime('2020/03/01 00:00:00')\n",
    "end_time = pd.to_datetime('2020/03/30 23:59:59')\n",
    "depr = DensityEPR()\n",
    "tdf = depr.generate(start_time, \n",
    "                    end_time, \n",
    "                    tessellation, \n",
    "                    relevance_column='Population', #Take population into account\n",
    "                    n_agents=10000, \n",
    "                    show_progress=True)"
   ]
  },
  {
   "cell_type": "code",
   "execution_count": 42,
   "id": "81f5c6c9",
   "metadata": {},
   "outputs": [],
   "source": [
    "tdf.to_csv(\"WI_4Week_10000_realpop.csv\")"
   ]
  },
  {
   "cell_type": "markdown",
   "id": "6a08713d",
   "metadata": {},
   "source": [
    "#"
   ]
  },
  {
   "cell_type": "markdown",
   "id": "ce9a9466",
   "metadata": {},
   "source": [
    "#"
   ]
  },
  {
   "cell_type": "markdown",
   "id": "14b18ce2",
   "metadata": {},
   "source": [
    "# Visualizations"
   ]
  },
  {
   "cell_type": "code",
   "execution_count": 43,
   "id": "849ba117",
   "metadata": {},
   "outputs": [
    {
     "name": "stdout",
     "output_type": "stream",
     "text": [
      "(441, 4)\n"
     ]
    },
    {
     "data": {
      "text/html": [
       "<div>\n",
       "<style scoped>\n",
       "    .dataframe tbody tr th:only-of-type {\n",
       "        vertical-align: middle;\n",
       "    }\n",
       "\n",
       "    .dataframe tbody tr th {\n",
       "        vertical-align: top;\n",
       "    }\n",
       "\n",
       "    .dataframe thead th {\n",
       "        text-align: right;\n",
       "    }\n",
       "</style>\n",
       "<table border=\"1\" class=\"dataframe\">\n",
       "  <thead>\n",
       "    <tr style=\"text-align: right;\">\n",
       "      <th></th>\n",
       "      <th>uid</th>\n",
       "      <th>datetime</th>\n",
       "      <th>lat</th>\n",
       "      <th>lng</th>\n",
       "    </tr>\n",
       "  </thead>\n",
       "  <tbody>\n",
       "    <tr>\n",
       "      <th>0</th>\n",
       "      <td>4</td>\n",
       "      <td>2020-03-01 00:00:00.000000</td>\n",
       "      <td>44.043499</td>\n",
       "      <td>-88.613107</td>\n",
       "    </tr>\n",
       "    <tr>\n",
       "      <th>1</th>\n",
       "      <td>4</td>\n",
       "      <td>2020-03-01 01:14:14.842100</td>\n",
       "      <td>44.289490</td>\n",
       "      <td>-88.547518</td>\n",
       "    </tr>\n",
       "    <tr>\n",
       "      <th>2</th>\n",
       "      <td>4</td>\n",
       "      <td>2020-03-01 01:34:23.841519</td>\n",
       "      <td>44.043499</td>\n",
       "      <td>-88.613107</td>\n",
       "    </tr>\n",
       "    <tr>\n",
       "      <th>3</th>\n",
       "      <td>4</td>\n",
       "      <td>2020-03-01 03:29:00.257586</td>\n",
       "      <td>44.289490</td>\n",
       "      <td>-88.547518</td>\n",
       "    </tr>\n",
       "    <tr>\n",
       "      <th>4</th>\n",
       "      <td>4</td>\n",
       "      <td>2020-03-01 04:18:40.196134</td>\n",
       "      <td>44.307562</td>\n",
       "      <td>-88.586690</td>\n",
       "    </tr>\n",
       "  </tbody>\n",
       "</table>\n",
       "</div>"
      ],
      "text/plain": [
       "   uid                   datetime        lat        lng\n",
       "0    4 2020-03-01 00:00:00.000000  44.043499 -88.613107\n",
       "1    4 2020-03-01 01:14:14.842100  44.289490 -88.547518\n",
       "2    4 2020-03-01 01:34:23.841519  44.043499 -88.613107\n",
       "3    4 2020-03-01 03:29:00.257586  44.289490 -88.547518\n",
       "4    4 2020-03-01 04:18:40.196134  44.307562 -88.586690"
      ]
     },
     "execution_count": 43,
     "metadata": {},
     "output_type": "execute_result"
    }
   ],
   "source": [
    "#data = ditras_tdf\n",
    "data = tdf\n",
    "person1 = data[data[\"uid\"] == 4].copy().reset_index()\n",
    "person1 = person1.drop(columns = 'index')\n",
    "print(person1.shape)\n",
    "person1.head(5)"
   ]
  },
  {
   "cell_type": "code",
   "execution_count": 44,
   "id": "7df0a4aa",
   "metadata": {
    "scrolled": true
   },
   "outputs": [
    {
     "data": {
      "text/html": [
       "<div style=\"width:100%;\"><div style=\"position:relative;width:100%;height:0;padding-bottom:60%;\"><span style=\"color:#565656\">Make this Notebook Trusted to load map: File -> Trust Notebook</span><iframe srcdoc=\"&lt;!DOCTYPE html&gt;\n",
       "&lt;html&gt;\n",
       "&lt;head&gt;\n",
       "    \n",
       "    &lt;meta http-equiv=&quot;content-type&quot; content=&quot;text/html; charset=UTF-8&quot; /&gt;\n",
       "    \n",
       "        &lt;script&gt;\n",
       "            L_NO_TOUCH = false;\n",
       "            L_DISABLE_3D = false;\n",
       "        &lt;/script&gt;\n",
       "    \n",
       "    &lt;style&gt;html, body {width: 100%;height: 100%;margin: 0;padding: 0;}&lt;/style&gt;\n",
       "    &lt;style&gt;#map {position:absolute;top:0;bottom:0;right:0;left:0;}&lt;/style&gt;\n",
       "    &lt;script src=&quot;https://cdn.jsdelivr.net/npm/leaflet@1.9.3/dist/leaflet.js&quot;&gt;&lt;/script&gt;\n",
       "    &lt;script src=&quot;https://code.jquery.com/jquery-3.7.1.min.js&quot;&gt;&lt;/script&gt;\n",
       "    &lt;script src=&quot;https://cdn.jsdelivr.net/npm/bootstrap@5.2.2/dist/js/bootstrap.bundle.min.js&quot;&gt;&lt;/script&gt;\n",
       "    &lt;script src=&quot;https://cdnjs.cloudflare.com/ajax/libs/Leaflet.awesome-markers/2.0.2/leaflet.awesome-markers.js&quot;&gt;&lt;/script&gt;\n",
       "    &lt;link rel=&quot;stylesheet&quot; href=&quot;https://cdn.jsdelivr.net/npm/leaflet@1.9.3/dist/leaflet.css&quot;/&gt;\n",
       "    &lt;link rel=&quot;stylesheet&quot; href=&quot;https://cdn.jsdelivr.net/npm/bootstrap@5.2.2/dist/css/bootstrap.min.css&quot;/&gt;\n",
       "    &lt;link rel=&quot;stylesheet&quot; href=&quot;https://netdna.bootstrapcdn.com/bootstrap/3.0.0/css/bootstrap-glyphicons.css&quot;/&gt;\n",
       "    &lt;link rel=&quot;stylesheet&quot; href=&quot;https://cdn.jsdelivr.net/npm/@fortawesome/fontawesome-free@6.2.0/css/all.min.css&quot;/&gt;\n",
       "    &lt;link rel=&quot;stylesheet&quot; href=&quot;https://cdnjs.cloudflare.com/ajax/libs/Leaflet.awesome-markers/2.0.2/leaflet.awesome-markers.css&quot;/&gt;\n",
       "    &lt;link rel=&quot;stylesheet&quot; href=&quot;https://cdn.jsdelivr.net/gh/python-visualization/folium/folium/templates/leaflet.awesome.rotate.min.css&quot;/&gt;\n",
       "    \n",
       "            &lt;meta name=&quot;viewport&quot; content=&quot;width=device-width,\n",
       "                initial-scale=1.0, maximum-scale=1.0, user-scalable=no&quot; /&gt;\n",
       "            &lt;style&gt;\n",
       "                #map_15c41a9b48a7e12bb620210ca531319c {\n",
       "                    position: relative;\n",
       "                    width: 100.0%;\n",
       "                    height: 100.0%;\n",
       "                    left: 0.0%;\n",
       "                    top: 0.0%;\n",
       "                }\n",
       "                .leaflet-container { font-size: 1rem; }\n",
       "            &lt;/style&gt;\n",
       "        \n",
       "&lt;/head&gt;\n",
       "&lt;body&gt;\n",
       "    \n",
       "    \n",
       "            &lt;div class=&quot;folium-map&quot; id=&quot;map_15c41a9b48a7e12bb620210ca531319c&quot; &gt;&lt;/div&gt;\n",
       "        \n",
       "&lt;/body&gt;\n",
       "&lt;script&gt;\n",
       "    \n",
       "    \n",
       "            var map_15c41a9b48a7e12bb620210ca531319c = L.map(\n",
       "                &quot;map_15c41a9b48a7e12bb620210ca531319c&quot;,\n",
       "                {\n",
       "                    center: [44.25297566331549, -88.53762517205861],\n",
       "                    crs: L.CRS.EPSG3857,\n",
       "                    ...{\n",
       "  &quot;zoom&quot;: 12,\n",
       "  &quot;zoomControl&quot;: true,\n",
       "  &quot;preferCanvas&quot;: false,\n",
       "}\n",
       "\n",
       "                }\n",
       "            );\n",
       "            L.control.scale().addTo(map_15c41a9b48a7e12bb620210ca531319c);\n",
       "\n",
       "            \n",
       "\n",
       "        \n",
       "    \n",
       "            var tile_layer_a81d28ec6b23e95ceee4258e2b8c9a90 = L.tileLayer(\n",
       "                &quot;https://tile.openstreetmap.org/{z}/{x}/{y}.png&quot;,\n",
       "                {\n",
       "  &quot;minZoom&quot;: 0,\n",
       "  &quot;maxZoom&quot;: 19,\n",
       "  &quot;maxNativeZoom&quot;: 19,\n",
       "  &quot;noWrap&quot;: false,\n",
       "  &quot;attribution&quot;: &quot;\\u0026copy; \\u003ca href=\\&quot;https://www.openstreetmap.org/copyright\\&quot;\\u003eOpenStreetMap\\u003c/a\\u003e contributors&quot;,\n",
       "  &quot;subdomains&quot;: &quot;abc&quot;,\n",
       "  &quot;detectRetina&quot;: false,\n",
       "  &quot;tms&quot;: false,\n",
       "  &quot;opacity&quot;: 1,\n",
       "}\n",
       "\n",
       "            );\n",
       "        \n",
       "    \n",
       "            tile_layer_a81d28ec6b23e95ceee4258e2b8c9a90.addTo(map_15c41a9b48a7e12bb620210ca531319c);\n",
       "        \n",
       "    \n",
       "        function geo_json_6e7e72060e69eee4062c196d13972aa2_styler(feature) {\n",
       "            switch(feature.id) {\n",
       "                default:\n",
       "                    return {&quot;color&quot;: &quot;#EF0096&quot;, &quot;dashArray&quot;: &quot;0, 0&quot;, &quot;opacity&quot;: 0.9, &quot;weight&quot;: 3};\n",
       "            }\n",
       "        }\n",
       "\n",
       "        function geo_json_6e7e72060e69eee4062c196d13972aa2_onEachFeature(feature, layer) {\n",
       "            layer.on({\n",
       "            });\n",
       "        };\n",
       "        var geo_json_6e7e72060e69eee4062c196d13972aa2 = L.geoJson(null, {\n",
       "                onEachFeature: geo_json_6e7e72060e69eee4062c196d13972aa2_onEachFeature,\n",
       "            \n",
       "                style: geo_json_6e7e72060e69eee4062c196d13972aa2_styler,\n",
       "            ...{\n",
       "}\n",
       "        });\n",
       "\n",
       "        function geo_json_6e7e72060e69eee4062c196d13972aa2_add (data) {\n",
       "            geo_json_6e7e72060e69eee4062c196d13972aa2\n",
       "                .addData(data);\n",
       "        }\n",
       "            geo_json_6e7e72060e69eee4062c196d13972aa2_add({&quot;features&quot;: [{&quot;geometry&quot;: {&quot;coordinates&quot;: [[-88.613107, 44.043499], [-88.547518, 44.28949], [-88.613107, 44.043499], [-88.547518, 44.28949], [-88.58669, 44.307562], [-88.613107, 44.043499], [-88.58669, 44.307562], [-88.52695, 44.258503], [-88.58669, 44.307562], [-88.613107, 44.043499], [-88.58669, 44.307562], [-88.613107, 44.043499], [-88.594021, 44.039821], [-88.547518, 44.28949], [-88.519295, 44.282891], [-88.48158, 44.251309], [-88.461184, 44.252976], [-88.547518, 44.28949], [-88.519295, 44.282891], [-88.547518, 44.28949], [-88.519295, 44.282891], [-88.52695, 44.258503], [-88.519295, 44.282891], [-88.537625, 44.320328], [-88.58669, 44.307562], [-88.547518, 44.28949], [-88.519295, 44.282891], [-88.58669, 44.307562], [-88.52695, 44.258503], [-88.461184, 44.252976], [-88.537625, 44.320328], [-88.547518, 44.28949], [-88.537625, 44.320328], [-88.547518, 44.28949], [-88.613107, 44.043499], [-88.795411, 44.291557], [-88.58669, 44.307562], [-88.519295, 44.282891], [-88.477967, 43.956077], [-88.594021, 44.039821], [-88.598458, 44.023689], [-88.577233, 44.021945], [-88.547518, 44.28949], [-88.58669, 44.307562], [-88.594021, 44.039821], [-88.519295, 44.282891], [-88.506649, 44.232223], [-88.594021, 44.039821], [-88.613107, 44.043499], [-88.58669, 44.307562], [-88.519295, 44.282891], [-88.547518, 44.28949], [-88.613107, 44.043499], [-88.547518, 44.28949], [-88.598458, 44.023689], [-88.592554, 44.014513], [-88.547518, 44.28949], [-88.52695, 44.258503], [-88.420806, 44.283932], [-88.410258, 44.283813], [-88.613107, 44.043499], [-88.519295, 44.282891], [-88.330365, 44.234226], [-88.547518, 44.28949], [-88.48158, 44.251309], [-88.519295, 44.282891], [-88.430863, 44.285768], [-88.42578, 44.293193], [-88.400353, 44.308821], [-88.547518, 44.28949], [-88.519295, 44.282891], [-88.461184, 44.252976], [-88.547518, 44.28949], [-88.48158, 44.251309], [-88.419887, 44.223401], [-88.461184, 44.252976], [-88.425591, 44.276646], [-88.594021, 44.039821], [-88.691432, 44.088498], [-88.547518, 44.28949], [-88.613107, 44.043499], [-88.52695, 44.258503], [-88.280157, 44.291904], [-88.52695, 44.258503], [-88.547518, 44.28949], [-88.477967, 43.956077], [-88.540074, 44.029369], [-88.519295, 44.282891], [-88.547518, 44.28949], [-88.480019, 44.193767], [-88.458302, 44.212126], [-88.449841, 44.203995], [-88.58669, 44.307562], [-88.52695, 44.258503], [-88.613107, 44.043499], [-88.624065, 44.02133], [-88.547518, 44.28949], [-88.345821, 44.250478], [-88.519295, 44.282891], [-88.613107, 44.043499], [-88.539997, 44.017584], [-88.532566, 44.026513], [-88.795411, 44.291557], [-89.600347, 44.844411], [-89.6899, 44.898176], [-88.461184, 44.252976], [-88.52695, 44.258503], [-88.598458, 44.023689], [-88.547518, 44.28949], [-88.539997, 44.017584], [-88.477967, 43.956077], [-88.461184, 44.252976], [-88.435732, 44.203115], [-88.539997, 44.017584], [-88.529511, 44.021326], [-88.539997, 44.017584], [-88.598458, 44.023689], [-88.58669, 44.307562], [-88.429849, 44.212812], [-88.434157, 44.208284], [-88.400353, 44.308821], [-88.52695, 44.258503], [-88.398476, 44.240623], [-88.395641, 44.235086], [-88.795411, 44.291557], [-88.519295, 44.282891], [-88.613107, 44.043499], [-87.71048, 43.751452], [-88.58669, 44.307562], [-88.428621, 44.546644], [-88.594021, 44.039821], [-88.519295, 44.282891], [-88.453629, 44.273571], [-88.519295, 44.282891], [-88.329011, 44.183476], [-88.613107, 44.043499], [-88.633331, 44.049199], [-88.453629, 44.273571], [-88.434157, 44.208284], [-88.547518, 44.28949], [-88.330365, 44.234226], [-88.613107, 44.043499], [-88.624065, 44.02133], [-88.565963, 44.047589], [-88.594021, 44.039821], [-88.548755, 44.008402], [-88.548719, 44.003861], [-88.529511, 44.021326], [-88.453629, 44.273571], [-88.577233, 44.021945], [-88.795411, 44.291557], [-88.477967, 43.956077], [-88.752527, 44.020678], [-88.574384, 44.003315], [-88.594021, 44.039821], [-88.477967, 43.956077], [-88.461184, 44.252976], [-88.594021, 44.039821], [-88.48158, 44.251309], [-88.475338, 44.236544], [-88.428621, 44.546644], [-88.547518, 44.28949], [-88.691432, 44.088498], [-88.795411, 44.291557], [-88.428621, 44.546644], [-88.52695, 44.258503], [-88.280157, 44.291904], [-88.449841, 44.203995], [-88.398476, 44.240623], [-88.391363, 44.230452], [-88.519295, 44.282891], [-88.52695, 44.258503], [-88.519295, 44.282891], [-88.795411, 44.291557], [-88.58669, 44.307562], [-88.594021, 44.039821], [-88.430863, 44.285768], [-88.752527, 44.020678], [-88.574384, 44.003315], [-88.548719, 44.003861], [-88.613107, 44.043499], [-88.691432, 44.088498], [-88.594021, 44.039821], [-88.52695, 44.258503], [-88.301368, 44.249437], [-88.624065, 44.02133], [-88.434157, 44.208284], [-88.547518, 44.28949], [-88.519295, 44.282891], [-88.48158, 44.251309], [-88.419887, 44.223401], [-88.519295, 44.282891], [-88.480019, 44.193767], [-88.458302, 44.212126], [-88.461184, 44.252976], [-88.594021, 44.039821], [-88.4616, 44.015536], [-88.507236, 44.184646], [-88.547518, 44.28949], [-88.330365, 44.234226], [-88.52695, 44.258503], [-88.795411, 44.291557], [-88.265558, 42.966557], [-88.52695, 44.258503], [-88.594021, 44.039821], [-88.547518, 44.28949], [-88.441212, 44.28433], [-88.58669, 44.307562], [-88.532566, 44.026513], [-88.613107, 44.043499], [-88.624065, 44.02133], [-88.598458, 44.023689], [-88.566334, 44.021941], [-88.547518, 44.28949], [-88.52695, 44.258503], [-88.547518, 44.28949], [-88.598458, 44.023689], [-88.52695, 44.258503], [-88.519295, 44.282891], [-88.506046, 44.298571], [-88.360328, 44.264937], [-88.752527, 44.020678], [-88.58669, 44.307562], [-88.428621, 44.546644], [-88.613107, 44.043499], [-88.594021, 44.039821], [-88.795411, 44.291557], [-88.774862, 44.382451], [-88.795411, 44.291557], [-88.58669, 44.307562], [-88.795411, 44.291557], [-88.547518, 44.28949], [-88.537625, 44.320328], [-88.429849, 44.212812], [-88.4616, 44.015536], [-88.507236, 44.184646], [-88.594021, 44.039821], [-88.752527, 44.020678], [-88.301368, 44.249437], [-88.425591, 44.276646], [-88.547518, 44.28949], [-88.613107, 44.043499], [-88.598458, 44.023689], [-88.577233, 44.021945], [-88.633331, 44.049199], [-88.594021, 44.039821], [-88.613107, 44.043499], [-88.574384, 44.003315], [-88.419887, 44.223401], [-88.540074, 44.029369], [-88.477967, 43.956077], [-88.395641, 44.235086], [-88.381674, 44.215776], [-88.540074, 44.029369], [-88.52695, 44.258503], [-88.613107, 44.043499], [-88.410258, 44.283813], [-88.430863, 44.285768], [-88.48158, 44.251309], [-88.547518, 44.28949], [-88.795411, 44.291557], [-88.828682, 44.206684], [-88.477967, 43.956077], [-88.330365, 44.234226], [-88.547518, 44.28949], [-88.613107, 44.043499], [-88.400353, 44.308821], [-88.441181, 44.277093], [-88.434157, 44.208284], [-88.42578, 44.293193], [-88.40275, 44.266214], [-88.461184, 44.252976], [-88.453629, 44.273571], [-88.795411, 44.291557], [-88.537625, 44.320328], [-88.594021, 44.039821], [-88.624065, 44.02133], [-88.547518, 44.28949], [-88.613107, 44.043499], [-88.598458, 44.023689], [-88.577233, 44.021945], [-88.52695, 44.258503], [-88.519295, 44.282891], [-88.506046, 44.298571], [-88.477967, 43.956077], [-88.519295, 44.282891], [-88.58669, 44.307562], [-88.795411, 44.291557], [-88.58669, 44.307562], [-88.795411, 44.291557], [-88.613107, 44.043499], [-88.547518, 44.28949], [-88.519295, 44.282891], [-88.461184, 44.252976], [-88.391363, 44.230452], [-88.461184, 44.252976], [-88.540074, 44.029369], [-88.410258, 44.283813], [-88.410705, 44.290937], [-88.423286, 44.269404], [-88.598458, 44.023689], [-88.522476, 44.009837], [-88.613107, 44.043499], [-88.419887, 44.223401], [-88.425591, 44.276646], [-88.752527, 44.020678], [-88.330365, 44.234226], [-88.537625, 44.320328], [-88.547518, 44.28949], [-88.519295, 44.282891], [-88.331133, 44.275034], [-88.537625, 44.320328], [-88.572928, 44.430661], [-88.598458, 44.023689], [-88.547518, 44.28949], [-88.613107, 44.043499], [-88.52695, 44.258503], [-88.434157, 44.208284], [-88.548719, 44.003861], [-88.434157, 44.208284], [-88.419887, 44.223401], [-88.547518, 44.28949], [-88.430863, 44.285768], [-88.691432, 44.088498], [-88.598458, 44.023689], [-88.574384, 44.003315], [-88.547518, 44.28949], [-88.348033, 44.267209], [-88.301368, 44.249437], [-88.506649, 44.232223], [-88.424437, 44.197416], [-88.429567, 44.182229], [-88.547518, 44.28949], [-88.565963, 44.047589], [-88.529511, 44.021326], [-88.519295, 44.282891], [-88.265558, 42.966557], [-88.260121, 42.997055], [-88.795411, 44.291557], [-88.537625, 44.320328], [-88.449737, 43.865186], [-88.547518, 44.28949], [-88.519295, 44.282891], [-88.691432, 44.088498], [-88.594021, 44.039821], [-88.540074, 44.029369], [-88.532575, 44.030135], [-88.598458, 44.023689], [-88.633331, 44.049199], [-88.535082, 44.04737], [-88.54822, 44.046238], [-88.537625, 44.320328], [-88.439136, 44.388738], [-88.429567, 44.182229], [-88.795411, 44.291557], [-88.547518, 44.28949], [-88.434157, 44.208284], [-88.453629, 44.273571], [-88.441131, 44.293406], [-88.547518, 44.28949], [-89.486139, 43.035519], [-88.532566, 44.026513], [-89.6899, 44.898176], [-88.594021, 44.039821], [-88.458302, 44.212126], [-88.425591, 44.276646], [-88.432387, 44.276928], [-88.594021, 44.039821], [-88.458302, 44.212126], [-88.358597, 44.231002], [-88.331463, 44.250944], [-88.52695, 44.258503], [-88.419887, 44.223401], [-88.477967, 43.956077], [-88.706979, 43.207145], [-88.613107, 44.043499], [-88.461184, 44.252976], [-88.52695, 44.258503], [-88.537625, 44.320328], [-88.613107, 44.043499], [-88.572928, 44.430661], [-88.477967, 43.956077], [-88.522476, 44.009837], [-88.613107, 44.043499], [-88.425591, 44.276646], [-88.547518, 44.28949], [-88.519295, 44.282891], [-88.453629, 44.273571], [-88.438621, 44.248798], [-88.613107, 44.043499], [-88.548719, 44.003861], [-88.51935, 44.02892], [-88.410705, 44.290937], [-88.52695, 44.258503], [-88.624065, 44.02133], [-88.540074, 44.029369], [-87.71048, 43.751452], [-88.301368, 44.249437], [-88.430863, 44.285768], [-88.52695, 44.258503], [-88.301368, 44.249437], [-88.519295, 44.282891], [-88.535082, 44.04737], [-88.598458, 44.023689], [-88.537625, 44.320328], [-88.507236, 44.184646], [-88.425591, 44.276646], [-88.795411, 44.291557], [-88.572928, 44.430661], [-88.628671, 44.338621], [-88.613107, 44.043499], [-88.552666, 44.07841], [-88.575793, 44.014317], [-88.613107, 44.043499], [-88.449737, 43.865186], [-88.752527, 44.020678], [-88.461184, 44.252976], [-88.613107, 44.043499], [-88.628671, 44.338621], [-88.598357, 44.269658], [-88.420806, 44.283932], [-88.795411, 44.291557], [-88.547518, 44.28949], [-88.52695, 44.258503], [-88.455129, 44.293058], [-88.453629, 44.273571], [-88.522476, 44.009837], [-88.52695, 44.258503], [-88.390011, 44.25421], [-88.547518, 44.28949], [-88.398476, 44.240623], [-88.265558, 42.966557], [-88.594021, 44.039821], [-88.565963, 44.047589], [-88.598458, 44.023689], [-88.613107, 44.043499], [-88.547518, 44.28949], [-88.477967, 43.956077], [-88.547518, 44.28949], [-88.519295, 44.282891], [-88.52695, 44.258503]], &quot;type&quot;: &quot;LineString&quot;}, &quot;id&quot;: &quot;0&quot;, &quot;type&quot;: &quot;Feature&quot;}], &quot;type&quot;: &quot;FeatureCollection&quot;});\n",
       "\n",
       "        \n",
       "    \n",
       "            geo_json_6e7e72060e69eee4062c196d13972aa2.addTo(map_15c41a9b48a7e12bb620210ca531319c);\n",
       "        \n",
       "    \n",
       "            var marker_450e690e7cd427c1bc7d34aad50e2bc5 = L.marker(\n",
       "                [44.04349922359751, -88.6131067473193],\n",
       "                {\n",
       "}\n",
       "            ).addTo(map_15c41a9b48a7e12bb620210ca531319c);\n",
       "        \n",
       "    \n",
       "            var icon_d82245f769446c387206af9c8204be2d = L.AwesomeMarkers.icon(\n",
       "                {\n",
       "  &quot;markerColor&quot;: &quot;green&quot;,\n",
       "  &quot;iconColor&quot;: &quot;white&quot;,\n",
       "  &quot;icon&quot;: &quot;info-sign&quot;,\n",
       "  &quot;prefix&quot;: &quot;glyphicon&quot;,\n",
       "  &quot;extraClasses&quot;: &quot;fa-rotate-0&quot;,\n",
       "}\n",
       "            );\n",
       "            marker_450e690e7cd427c1bc7d34aad50e2bc5.setIcon(icon_d82245f769446c387206af9c8204be2d);\n",
       "        \n",
       "    \n",
       "        var popup_30af7022e0ca9cc7f723fa6d3196d1e3 = L.popup({\n",
       "  &quot;maxWidth&quot;: 300,\n",
       "});\n",
       "\n",
       "        \n",
       "            \n",
       "                var html_45428296a39d9fea19f3bc27f2826e3a = $(`&lt;div id=&quot;html_45428296a39d9fea19f3bc27f2826e3a&quot; style=&quot;width: 100.0%; height: 100.0%;&quot;&gt;&lt;i&gt;Start&lt;/i&gt;&lt;BR&gt;2020/03/01 00:00&lt;BR&gt;Coord: &lt;a href=&quot;https://www.google.co.uk/maps/place/44.04349922359751,-88.6131067473193&quot; target=&quot;_blank&quot;&gt;44.0435, -88.6131&lt;/a&gt;&lt;/div&gt;`)[0];\n",
       "                popup_30af7022e0ca9cc7f723fa6d3196d1e3.setContent(html_45428296a39d9fea19f3bc27f2826e3a);\n",
       "            \n",
       "        \n",
       "\n",
       "        marker_450e690e7cd427c1bc7d34aad50e2bc5.bindPopup(popup_30af7022e0ca9cc7f723fa6d3196d1e3)\n",
       "        ;\n",
       "\n",
       "        \n",
       "    \n",
       "    \n",
       "            var marker_c7f6ef58e0724303690f4c7a9f59e104 = L.marker(\n",
       "                [44.258502589477, -88.52694985223442],\n",
       "                {\n",
       "}\n",
       "            ).addTo(map_15c41a9b48a7e12bb620210ca531319c);\n",
       "        \n",
       "    \n",
       "            var icon_53ae1e6d7a259a4dbd2c61319b1fe808 = L.AwesomeMarkers.icon(\n",
       "                {\n",
       "  &quot;markerColor&quot;: &quot;red&quot;,\n",
       "  &quot;iconColor&quot;: &quot;white&quot;,\n",
       "  &quot;icon&quot;: &quot;info-sign&quot;,\n",
       "  &quot;prefix&quot;: &quot;glyphicon&quot;,\n",
       "  &quot;extraClasses&quot;: &quot;fa-rotate-0&quot;,\n",
       "}\n",
       "            );\n",
       "            marker_c7f6ef58e0724303690f4c7a9f59e104.setIcon(icon_53ae1e6d7a259a4dbd2c61319b1fe808);\n",
       "        \n",
       "    \n",
       "        var popup_affcdc88cc5fac185b9aad921fcd1438 = L.popup({\n",
       "  &quot;maxWidth&quot;: 300,\n",
       "});\n",
       "\n",
       "        \n",
       "            \n",
       "                var html_907908d27a61949d56db3bbd7babddaa = $(`&lt;div id=&quot;html_907908d27a61949d56db3bbd7babddaa&quot; style=&quot;width: 100.0%; height: 100.0%;&quot;&gt;&lt;i&gt;End&lt;/i&gt;&lt;BR&gt;2020/03/30 23:45&lt;BR&gt;Coord: &lt;a href=&quot;https://www.google.co.uk/maps/place/44.258502589477,-88.52694985223442&quot; target=&quot;_blank&quot;&gt;44.2585, -88.5269&lt;/a&gt;&lt;/div&gt;`)[0];\n",
       "                popup_affcdc88cc5fac185b9aad921fcd1438.setContent(html_907908d27a61949d56db3bbd7babddaa);\n",
       "            \n",
       "        \n",
       "\n",
       "        marker_c7f6ef58e0724303690f4c7a9f59e104.bindPopup(popup_affcdc88cc5fac185b9aad921fcd1438)\n",
       "        ;\n",
       "\n",
       "        \n",
       "    \n",
       "&lt;/script&gt;\n",
       "&lt;/html&gt;\" style=\"position:absolute;width:100%;height:100%;left:0;top:0;border:none !important;\" allowfullscreen webkitallowfullscreen mozallowfullscreen></iframe></div></div>"
      ],
      "text/plain": [
       "<folium.folium.Map at 0x2a2823d90>"
      ]
     },
     "execution_count": 44,
     "metadata": {},
     "output_type": "execute_result"
    }
   ],
   "source": [
    "plotting_data = skmob.TrajDataFrame(person1, latitude='lat', datetime='datetime', user_id='uid')\n",
    "\n",
    "plotting_data.plot_trajectory(\n",
    "    zoom=12,\n",
    "    weight=3,\n",
    "    opacity=0.9,\n",
    "    max_users = 1,\n",
    "    max_points=None, #trajectories will be down-sampled to have at most `max_points` points.\n",
    "    tiles='OpenStreetMap'  # Built-in tile set, no attribution needed\n",
    ")"
   ]
  },
  {
   "cell_type": "markdown",
   "id": "8378d849",
   "metadata": {},
   "source": [
    "#"
   ]
  },
  {
   "cell_type": "markdown",
   "id": "ad4506f6",
   "metadata": {},
   "source": [
    "# Home location"
   ]
  },
  {
   "cell_type": "code",
   "execution_count": 45,
   "id": "fd593594",
   "metadata": {},
   "outputs": [
    {
     "name": "stdout",
     "output_type": "stream",
     "text": [
      "(4690626, 4)\n"
     ]
    },
    {
     "data": {
      "text/html": [
       "<div>\n",
       "<style scoped>\n",
       "    .dataframe tbody tr th:only-of-type {\n",
       "        vertical-align: middle;\n",
       "    }\n",
       "\n",
       "    .dataframe tbody tr th {\n",
       "        vertical-align: top;\n",
       "    }\n",
       "\n",
       "    .dataframe thead th {\n",
       "        text-align: right;\n",
       "    }\n",
       "</style>\n",
       "<table border=\"1\" class=\"dataframe\">\n",
       "  <thead>\n",
       "    <tr style=\"text-align: right;\">\n",
       "      <th></th>\n",
       "      <th>uid</th>\n",
       "      <th>datetime</th>\n",
       "      <th>lat</th>\n",
       "      <th>lng</th>\n",
       "    </tr>\n",
       "  </thead>\n",
       "  <tbody>\n",
       "    <tr>\n",
       "      <th>0</th>\n",
       "      <td>1</td>\n",
       "      <td>2020-03-01 00:00:00.000000</td>\n",
       "      <td>44.249624</td>\n",
       "      <td>-88.409313</td>\n",
       "    </tr>\n",
       "    <tr>\n",
       "      <th>1</th>\n",
       "      <td>1</td>\n",
       "      <td>2020-03-01 00:28:14.055734</td>\n",
       "      <td>44.247095</td>\n",
       "      <td>-88.418595</td>\n",
       "    </tr>\n",
       "    <tr>\n",
       "      <th>2</th>\n",
       "      <td>1</td>\n",
       "      <td>2020-03-01 00:59:01.440932</td>\n",
       "      <td>44.249624</td>\n",
       "      <td>-88.409313</td>\n",
       "    </tr>\n",
       "    <tr>\n",
       "      <th>3</th>\n",
       "      <td>1</td>\n",
       "      <td>2020-03-01 01:23:36.368069</td>\n",
       "      <td>44.247095</td>\n",
       "      <td>-88.418595</td>\n",
       "    </tr>\n",
       "    <tr>\n",
       "      <th>4</th>\n",
       "      <td>1</td>\n",
       "      <td>2020-03-01 01:52:29.430108</td>\n",
       "      <td>44.249055</td>\n",
       "      <td>-88.427641</td>\n",
       "    </tr>\n",
       "  </tbody>\n",
       "</table>\n",
       "</div>"
      ],
      "text/plain": [
       "   uid                   datetime        lat        lng\n",
       "0    1 2020-03-01 00:00:00.000000  44.249624 -88.409313\n",
       "1    1 2020-03-01 00:28:14.055734  44.247095 -88.418595\n",
       "2    1 2020-03-01 00:59:01.440932  44.249624 -88.409313\n",
       "3    1 2020-03-01 01:23:36.368069  44.247095 -88.418595\n",
       "4    1 2020-03-01 01:52:29.430108  44.249055 -88.427641"
      ]
     },
     "execution_count": 45,
     "metadata": {},
     "output_type": "execute_result"
    }
   ],
   "source": [
    "# now create a TrajDataFrame from the pandas DataFrame\n",
    "#tdf = skmob.TrajDataFrame(data, latitude='lat', datetime='datetime', user_id='uid')\n",
    "print(tdf.shape)\n",
    "tdf.head(5)"
   ]
  },
  {
   "cell_type": "code",
   "execution_count": 46,
   "id": "201fb128",
   "metadata": {},
   "outputs": [
    {
     "name": "stderr",
     "output_type": "stream",
     "text": [
      "100%|███████████████████████████████████| 10000/10000 [00:06<00:00, 1530.08it/s]\n"
     ]
    },
    {
     "data": {
      "text/html": [
       "<div>\n",
       "<style scoped>\n",
       "    .dataframe tbody tr th:only-of-type {\n",
       "        vertical-align: middle;\n",
       "    }\n",
       "\n",
       "    .dataframe tbody tr th {\n",
       "        vertical-align: top;\n",
       "    }\n",
       "\n",
       "    .dataframe thead th {\n",
       "        text-align: right;\n",
       "    }\n",
       "</style>\n",
       "<table border=\"1\" class=\"dataframe\">\n",
       "  <thead>\n",
       "    <tr style=\"text-align: right;\">\n",
       "      <th></th>\n",
       "      <th>uid</th>\n",
       "      <th>lat</th>\n",
       "      <th>lng</th>\n",
       "    </tr>\n",
       "  </thead>\n",
       "  <tbody>\n",
       "    <tr>\n",
       "      <th>0</th>\n",
       "      <td>1</td>\n",
       "      <td>44.249624</td>\n",
       "      <td>-88.409313</td>\n",
       "    </tr>\n",
       "    <tr>\n",
       "      <th>1</th>\n",
       "      <td>2</td>\n",
       "      <td>44.265812</td>\n",
       "      <td>-88.481455</td>\n",
       "    </tr>\n",
       "    <tr>\n",
       "      <th>2</th>\n",
       "      <td>3</td>\n",
       "      <td>45.304181</td>\n",
       "      <td>-89.677755</td>\n",
       "    </tr>\n",
       "    <tr>\n",
       "      <th>3</th>\n",
       "      <td>4</td>\n",
       "      <td>44.289490</td>\n",
       "      <td>-88.547518</td>\n",
       "    </tr>\n",
       "    <tr>\n",
       "      <th>4</th>\n",
       "      <td>5</td>\n",
       "      <td>42.737984</td>\n",
       "      <td>-87.795110</td>\n",
       "    </tr>\n",
       "  </tbody>\n",
       "</table>\n",
       "</div>"
      ],
      "text/plain": [
       "   uid        lat        lng\n",
       "0    1  44.249624 -88.409313\n",
       "1    2  44.265812 -88.481455\n",
       "2    3  45.304181 -89.677755\n",
       "3    4  44.289490 -88.547518\n",
       "4    5  42.737984 -87.795110"
      ]
     },
     "execution_count": 46,
     "metadata": {},
     "output_type": "execute_result"
    }
   ],
   "source": [
    "hl_df = home_location(tdf)\n",
    "hl_df.head(5)"
   ]
  },
  {
   "cell_type": "code",
   "execution_count": 47,
   "id": "6e3a0518",
   "metadata": {},
   "outputs": [],
   "source": [
    "hl_df.to_csv(\"Home_location_4Week_10000_WI_realpop.csv\")"
   ]
  },
  {
   "cell_type": "code",
   "execution_count": null,
   "id": "fac5df0a",
   "metadata": {},
   "outputs": [],
   "source": []
  }
 ],
 "metadata": {
  "kernelspec": {
   "display_name": "Python (skmob)",
   "language": "python",
   "name": "skmob"
  },
  "language_info": {
   "codemirror_mode": {
    "name": "ipython",
    "version": 3
   },
   "file_extension": ".py",
   "mimetype": "text/x-python",
   "name": "python",
   "nbconvert_exporter": "python",
   "pygments_lexer": "ipython3",
   "version": "3.9.21"
  }
 },
 "nbformat": 4,
 "nbformat_minor": 5
}
