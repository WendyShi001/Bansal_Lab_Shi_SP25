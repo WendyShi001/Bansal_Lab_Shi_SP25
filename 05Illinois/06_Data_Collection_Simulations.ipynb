{
 "cells": [
  {
   "cell_type": "markdown",
   "id": "795b34f9",
   "metadata": {},
   "source": [
    "<h1><center> Metapopulation Model with SIR <br><br> \n",
    "<center> NetworkX Application<br><br> \n",
    "Wendy Shi</center></center>"
   ]
  },
  {
   "cell_type": "markdown",
   "id": "658f5c16",
   "metadata": {},
   "source": [
    "# Table of Content"
   ]
  },
  {
   "cell_type": "markdown",
   "id": "dd3f39cb",
   "metadata": {},
   "source": [
    "1. [Seeding Events](#Seeding-Events)\n",
    "2. [Node Dictionary](#Node-Dictionary)\n",
    "3. [US Shape File](#US-Shape-File)\n",
    "4. [One simulation](#One-simulation)\n",
    "5. [20 Simulation](#20-Simulation)\n",
    "\n"
   ]
  },
  {
   "cell_type": "markdown",
   "id": "bb3c630d",
   "metadata": {},
   "source": [
    "# Preparation"
   ]
  },
  {
   "cell_type": "code",
   "execution_count": 1,
   "id": "e5833d69",
   "metadata": {},
   "outputs": [],
   "source": [
    "#Preparation\n",
    "import pandas as pd\n",
    "import numpy as np\n",
    "import matplotlib.pyplot as plt\n",
    "from scipy.integrate import odeint\n",
    "from scipy.interpolate import interp1d\n",
    "import scipy.stats as stats"
   ]
  },
  {
   "cell_type": "markdown",
   "id": "a3737406",
   "metadata": {},
   "source": [
    "# Seeding Events"
   ]
  },
  {
   "cell_type": "code",
   "execution_count": 34,
   "id": "f9359ca6",
   "metadata": {},
   "outputs": [
    {
     "name": "stdout",
     "output_type": "stream",
     "text": [
      "(2327, 5)\n"
     ]
    },
    {
     "data": {
      "text/html": [
       "<div>\n",
       "<style scoped>\n",
       "    .dataframe tbody tr th:only-of-type {\n",
       "        vertical-align: middle;\n",
       "    }\n",
       "\n",
       "    .dataframe tbody tr th {\n",
       "        vertical-align: top;\n",
       "    }\n",
       "\n",
       "    .dataframe thead th {\n",
       "        text-align: right;\n",
       "    }\n",
       "</style>\n",
       "<table border=\"1\" class=\"dataframe\">\n",
       "  <thead>\n",
       "    <tr style=\"text-align: right;\">\n",
       "      <th></th>\n",
       "      <th>S</th>\n",
       "      <th>E</th>\n",
       "      <th>I</th>\n",
       "      <th>R</th>\n",
       "      <th>index</th>\n",
       "    </tr>\n",
       "  </thead>\n",
       "  <tbody>\n",
       "    <tr>\n",
       "      <th>0</th>\n",
       "      <td>58877</td>\n",
       "      <td>0</td>\n",
       "      <td>0</td>\n",
       "      <td>0</td>\n",
       "      <td>0</td>\n",
       "    </tr>\n",
       "    <tr>\n",
       "      <th>1</th>\n",
       "      <td>233140</td>\n",
       "      <td>0</td>\n",
       "      <td>0</td>\n",
       "      <td>0</td>\n",
       "      <td>1</td>\n",
       "    </tr>\n",
       "    <tr>\n",
       "      <th>2</th>\n",
       "      <td>25180</td>\n",
       "      <td>0</td>\n",
       "      <td>0</td>\n",
       "      <td>0</td>\n",
       "      <td>2</td>\n",
       "    </tr>\n",
       "  </tbody>\n",
       "</table>\n",
       "</div>"
      ],
      "text/plain": [
       "        S  E  I  R  index\n",
       "0   58877  0  0  0      0\n",
       "1  233140  0  0  0      1\n",
       "2   25180  0  0  0      2"
      ]
     },
     "execution_count": 34,
     "metadata": {},
     "output_type": "execute_result"
    }
   ],
   "source": [
    "column_names = ['S', 'E', 'I', 'R']\n",
    "Seeding = pd.read_csv(\"../../Data/seed_1503_seed_corrected_undereporting_CDC_corrected_v3.txt\",\n",
    "                     delimiter=' ',\n",
    "                      names=column_names)\n",
    "Seeding['index'] = range(len(Seeding))\n",
    "print(Seeding.shape)\n",
    "Seeding.head(3)"
   ]
  },
  {
   "cell_type": "code",
   "execution_count": 35,
   "id": "44510428",
   "metadata": {},
   "outputs": [
    {
     "data": {
      "text/plain": [
       "[58877, 233140, 25180]"
      ]
     },
     "execution_count": 35,
     "metadata": {},
     "output_type": "execute_result"
    }
   ],
   "source": [
    "multiplier = Seeding[\"S\"].tolist()\n",
    "multiplier[:3]"
   ]
  },
  {
   "cell_type": "markdown",
   "id": "58af2859",
   "metadata": {},
   "source": [
    "# Node Dictionary"
   ]
  },
  {
   "cell_type": "code",
   "execution_count": 36,
   "id": "0edcd2e0",
   "metadata": {},
   "outputs": [
    {
     "name": "stdout",
     "output_type": "stream",
     "text": [
      "(2327, 3)\n"
     ]
    },
    {
     "data": {
      "text/html": [
       "<div>\n",
       "<style scoped>\n",
       "    .dataframe tbody tr th:only-of-type {\n",
       "        vertical-align: middle;\n",
       "    }\n",
       "\n",
       "    .dataframe tbody tr th {\n",
       "        vertical-align: top;\n",
       "    }\n",
       "\n",
       "    .dataframe thead th {\n",
       "        text-align: right;\n",
       "    }\n",
       "</style>\n",
       "<table border=\"1\" class=\"dataframe\">\n",
       "  <thead>\n",
       "    <tr style=\"text-align: right;\">\n",
       "      <th></th>\n",
       "      <th>index</th>\n",
       "      <th>GEO_ID</th>\n",
       "      <th>State Code</th>\n",
       "    </tr>\n",
       "  </thead>\n",
       "  <tbody>\n",
       "    <tr>\n",
       "      <th>0</th>\n",
       "      <td>0</td>\n",
       "      <td>01001</td>\n",
       "      <td>01</td>\n",
       "    </tr>\n",
       "    <tr>\n",
       "      <th>1</th>\n",
       "      <td>1</td>\n",
       "      <td>01003</td>\n",
       "      <td>01</td>\n",
       "    </tr>\n",
       "    <tr>\n",
       "      <th>2</th>\n",
       "      <td>2</td>\n",
       "      <td>01005</td>\n",
       "      <td>01</td>\n",
       "    </tr>\n",
       "  </tbody>\n",
       "</table>\n",
       "</div>"
      ],
      "text/plain": [
       "   index GEO_ID State Code\n",
       "0      0  01001         01\n",
       "1      1  01003         01\n",
       "2      2  01005         01"
      ]
     },
     "execution_count": 36,
     "metadata": {},
     "output_type": "execute_result"
    }
   ],
   "source": [
    "node_dict = pd.read_csv(\"../../Data/nodes_considered.csv\")\n",
    "node_dict[\"GEO_ID\"] = node_dict[\"GEO_ID\"].apply(lambda x: f\"{int(x):05d}\")\n",
    "node_dict[\"State Code\"] = node_dict[\"GEO_ID\"].str[:2]\n",
    "print(node_dict.shape)\n",
    "node_dict.head(3)"
   ]
  },
  {
   "cell_type": "code",
   "execution_count": 37,
   "id": "eff0ef17",
   "metadata": {},
   "outputs": [
    {
     "name": "stdout",
     "output_type": "stream",
     "text": [
      "(86, 7)\n"
     ]
    },
    {
     "data": {
      "text/html": [
       "<div>\n",
       "<style scoped>\n",
       "    .dataframe tbody tr th:only-of-type {\n",
       "        vertical-align: middle;\n",
       "    }\n",
       "\n",
       "    .dataframe tbody tr th {\n",
       "        vertical-align: top;\n",
       "    }\n",
       "\n",
       "    .dataframe thead th {\n",
       "        text-align: right;\n",
       "    }\n",
       "</style>\n",
       "<table border=\"1\" class=\"dataframe\">\n",
       "  <thead>\n",
       "    <tr style=\"text-align: right;\">\n",
       "      <th></th>\n",
       "      <th>index</th>\n",
       "      <th>GEOID</th>\n",
       "      <th>State Code</th>\n",
       "      <th>S</th>\n",
       "      <th>E</th>\n",
       "      <th>I</th>\n",
       "      <th>R</th>\n",
       "    </tr>\n",
       "  </thead>\n",
       "  <tbody>\n",
       "    <tr>\n",
       "      <th>0</th>\n",
       "      <td>450</td>\n",
       "      <td>17001</td>\n",
       "      <td>17</td>\n",
       "      <td>65530</td>\n",
       "      <td>0</td>\n",
       "      <td>0</td>\n",
       "      <td>0</td>\n",
       "    </tr>\n",
       "    <tr>\n",
       "      <th>1</th>\n",
       "      <td>451</td>\n",
       "      <td>17005</td>\n",
       "      <td>17</td>\n",
       "      <td>16663</td>\n",
       "      <td>0</td>\n",
       "      <td>0</td>\n",
       "      <td>0</td>\n",
       "    </tr>\n",
       "    <tr>\n",
       "      <th>2</th>\n",
       "      <td>452</td>\n",
       "      <td>17007</td>\n",
       "      <td>17</td>\n",
       "      <td>53326</td>\n",
       "      <td>0</td>\n",
       "      <td>0</td>\n",
       "      <td>0</td>\n",
       "    </tr>\n",
       "  </tbody>\n",
       "</table>\n",
       "</div>"
      ],
      "text/plain": [
       "   index  GEOID State Code      S  E  I  R\n",
       "0    450  17001         17  65530  0  0  0\n",
       "1    451  17005         17  16663  0  0  0\n",
       "2    452  17007         17  53326  0  0  0"
      ]
     },
     "execution_count": 37,
     "metadata": {},
     "output_type": "execute_result"
    }
   ],
   "source": [
    "IL = node_dict[node_dict[\"State Code\"] == '17']\n",
    "IL_SEIR = pd.merge(IL, Seeding, on = 'index', how = 'inner')\n",
    "#IL_SEIR = IL_SEIR.drop(columns=['index']) #Drop the index when merging SEIR and New York GEOID\n",
    "\n",
    "rename = {'GEO_ID' : 'GEOID'}\n",
    "IL_SEIR = IL_SEIR.rename(columns = rename)\n",
    "\n",
    "print(IL_SEIR.shape)\n",
    "IL_SEIR.head(3)"
   ]
  },
  {
   "cell_type": "markdown",
   "id": "f4717207",
   "metadata": {},
   "source": [
    "# Safegraph Data"
   ]
  },
  {
   "cell_type": "code",
   "execution_count": 43,
   "id": "fd780ac2",
   "metadata": {},
   "outputs": [],
   "source": [
    "#Open the 12 weight matrix\n",
    "index = IL_SEIR['index'].tolist()\n",
    "pop_list = IL_SEIR['S'].tolist()\n",
    "\n",
    "#retrieve data\n",
    "column_names = ['origin', 'destination', 'count', 'weight']\n",
    "for i in range(12):\n",
    "    n = i +1\n",
    "    \n",
    "    df = pd.read_csv(f\"../../Data/monthly_matrix_sd_county_month{n}_county.txt\", \n",
    "                     delimiter=' ', names=column_names)\n",
    "    \n",
    "    #Making sure all origin and destination are states in New York\n",
    "    df = df[(df['origin'].isin(index)) & (df['destination'].isin(index))]\n",
    "    \n",
    "    # Store the modified DataFrame\n",
    "    globals()[f'wt_mt{n}'] = df"
   ]
  },
  {
   "cell_type": "code",
   "execution_count": 44,
   "id": "fb443f71",
   "metadata": {},
   "outputs": [
    {
     "data": {
      "text/html": [
       "<div>\n",
       "<style scoped>\n",
       "    .dataframe tbody tr th:only-of-type {\n",
       "        vertical-align: middle;\n",
       "    }\n",
       "\n",
       "    .dataframe tbody tr th {\n",
       "        vertical-align: top;\n",
       "    }\n",
       "\n",
       "    .dataframe thead th {\n",
       "        text-align: right;\n",
       "    }\n",
       "</style>\n",
       "<table border=\"1\" class=\"dataframe\">\n",
       "  <thead>\n",
       "    <tr style=\"text-align: right;\">\n",
       "      <th></th>\n",
       "      <th>origin</th>\n",
       "      <th>destination</th>\n",
       "      <th>count</th>\n",
       "      <th>weight</th>\n",
       "    </tr>\n",
       "  </thead>\n",
       "  <tbody>\n",
       "    <tr>\n",
       "      <th>867199</th>\n",
       "      <td>450</td>\n",
       "      <td>452</td>\n",
       "      <td>12</td>\n",
       "      <td>0.000087</td>\n",
       "    </tr>\n",
       "    <tr>\n",
       "      <th>867200</th>\n",
       "      <td>452</td>\n",
       "      <td>452</td>\n",
       "      <td>12</td>\n",
       "      <td>0.537017</td>\n",
       "    </tr>\n",
       "    <tr>\n",
       "      <th>867201</th>\n",
       "      <td>453</td>\n",
       "      <td>452</td>\n",
       "      <td>12</td>\n",
       "      <td>0.000875</td>\n",
       "    </tr>\n",
       "  </tbody>\n",
       "</table>\n",
       "</div>"
      ],
      "text/plain": [
       "        origin  destination  count    weight\n",
       "867199     450          452     12  0.000087\n",
       "867200     452          452     12  0.537017\n",
       "867201     453          452     12  0.000875"
      ]
     },
     "execution_count": 44,
     "metadata": {},
     "output_type": "execute_result"
    }
   ],
   "source": [
    "wt_mt12.head(3)"
   ]
  },
  {
   "cell_type": "code",
   "execution_count": 45,
   "id": "873bcbce",
   "metadata": {},
   "outputs": [],
   "source": [
    "#Turn each data into a matrix\n",
    "#Transform the dataframe to a matrix with pivot table\n",
    "for i in range(12):\n",
    "    n = i+1\n",
    "    matrix = globals()[f'wt_mt{n}'].pivot_table(index='origin', \n",
    "                                                columns='destination', \n",
    "                                                values= 'weight', fill_value=0)\n",
    "    matrix = matrix.reset_index()\n",
    "    matrix = matrix.drop(columns = [\"origin\"]) #drop the origin column\n",
    "    globals()[f'matrix{n}'] = matrix"
   ]
  },
  {
   "cell_type": "code",
   "execution_count": 46,
   "id": "f638b15a",
   "metadata": {},
   "outputs": [],
   "source": [
    "for i in range(12):\n",
    "    n = i +1\n",
    "    count_df = globals()[f'matrix{n}'].multiply(pop_list, axis=0)\n",
    "    globals()[f'count_df{n}'] = count_df"
   ]
  },
  {
   "cell_type": "code",
   "execution_count": 47,
   "id": "5c582d9d",
   "metadata": {},
   "outputs": [
    {
     "name": "stdout",
     "output_type": "stream",
     "text": [
      "(86, 86)\n"
     ]
    },
    {
     "data": {
      "text/html": [
       "<div>\n",
       "<style scoped>\n",
       "    .dataframe tbody tr th:only-of-type {\n",
       "        vertical-align: middle;\n",
       "    }\n",
       "\n",
       "    .dataframe tbody tr th {\n",
       "        vertical-align: top;\n",
       "    }\n",
       "\n",
       "    .dataframe thead th {\n",
       "        text-align: right;\n",
       "    }\n",
       "</style>\n",
       "<table border=\"1\" class=\"dataframe\">\n",
       "  <thead>\n",
       "    <tr style=\"text-align: right;\">\n",
       "      <th>destination</th>\n",
       "      <th>450</th>\n",
       "      <th>451</th>\n",
       "      <th>452</th>\n",
       "      <th>453</th>\n",
       "      <th>454</th>\n",
       "      <th>455</th>\n",
       "      <th>456</th>\n",
       "      <th>457</th>\n",
       "      <th>458</th>\n",
       "      <th>459</th>\n",
       "      <th>...</th>\n",
       "      <th>526</th>\n",
       "      <th>527</th>\n",
       "      <th>528</th>\n",
       "      <th>529</th>\n",
       "      <th>530</th>\n",
       "      <th>531</th>\n",
       "      <th>532</th>\n",
       "      <th>533</th>\n",
       "      <th>534</th>\n",
       "      <th>535</th>\n",
       "    </tr>\n",
       "  </thead>\n",
       "  <tbody>\n",
       "    <tr>\n",
       "      <th>0</th>\n",
       "      <td>52111.933459</td>\n",
       "      <td>10.720519</td>\n",
       "      <td>6.337626</td>\n",
       "      <td>8.520464</td>\n",
       "      <td>12.337215</td>\n",
       "      <td>54.889411</td>\n",
       "      <td>27.811519</td>\n",
       "      <td>11.127344</td>\n",
       "      <td>6.966946</td>\n",
       "      <td>3.261686</td>\n",
       "      <td>...</td>\n",
       "      <td>7.19764</td>\n",
       "      <td>21.241370</td>\n",
       "      <td>7.850215</td>\n",
       "      <td>6.916519</td>\n",
       "      <td>6.683061</td>\n",
       "      <td>13.186394</td>\n",
       "      <td>27.665742</td>\n",
       "      <td>11.574378</td>\n",
       "      <td>9.637898</td>\n",
       "      <td>11.253416</td>\n",
       "    </tr>\n",
       "    <tr>\n",
       "      <th>1</th>\n",
       "      <td>10.425786</td>\n",
       "      <td>8254.570877</td>\n",
       "      <td>1.281018</td>\n",
       "      <td>3.985297</td>\n",
       "      <td>1.361914</td>\n",
       "      <td>7.133835</td>\n",
       "      <td>14.836756</td>\n",
       "      <td>13.552659</td>\n",
       "      <td>10.917038</td>\n",
       "      <td>8.781372</td>\n",
       "      <td>...</td>\n",
       "      <td>2.29854</td>\n",
       "      <td>5.491941</td>\n",
       "      <td>22.132376</td>\n",
       "      <td>12.731866</td>\n",
       "      <td>7.636642</td>\n",
       "      <td>7.626253</td>\n",
       "      <td>8.669282</td>\n",
       "      <td>16.602062</td>\n",
       "      <td>7.626894</td>\n",
       "      <td>6.972749</td>\n",
       "    </tr>\n",
       "    <tr>\n",
       "      <th>2</th>\n",
       "      <td>13.997021</td>\n",
       "      <td>3.667755</td>\n",
       "      <td>28612.151251</td>\n",
       "      <td>25.055111</td>\n",
       "      <td>18.401346</td>\n",
       "      <td>3.729596</td>\n",
       "      <td>40.846615</td>\n",
       "      <td>5.096730</td>\n",
       "      <td>6.468429</td>\n",
       "      <td>2.384429</td>\n",
       "      <td>...</td>\n",
       "      <td>3.11652</td>\n",
       "      <td>6.184460</td>\n",
       "      <td>1.815156</td>\n",
       "      <td>1.375360</td>\n",
       "      <td>2.195027</td>\n",
       "      <td>39.005533</td>\n",
       "      <td>77.033460</td>\n",
       "      <td>7.937531</td>\n",
       "      <td>10283.803765</td>\n",
       "      <td>12.073622</td>\n",
       "    </tr>\n",
       "  </tbody>\n",
       "</table>\n",
       "<p>3 rows × 86 columns</p>\n",
       "</div>"
      ],
      "text/plain": [
       "destination           450          451           452        453        454  \\\n",
       "0            52111.933459    10.720519      6.337626   8.520464  12.337215   \n",
       "1               10.425786  8254.570877      1.281018   3.985297   1.361914   \n",
       "2               13.997021     3.667755  28612.151251  25.055111  18.401346   \n",
       "\n",
       "destination        455        456        457        458       459  ...  \\\n",
       "0            54.889411  27.811519  11.127344   6.966946  3.261686  ...   \n",
       "1             7.133835  14.836756  13.552659  10.917038  8.781372  ...   \n",
       "2             3.729596  40.846615   5.096730   6.468429  2.384429  ...   \n",
       "\n",
       "destination      526        527        528        529       530        531  \\\n",
       "0            7.19764  21.241370   7.850215   6.916519  6.683061  13.186394   \n",
       "1            2.29854   5.491941  22.132376  12.731866  7.636642   7.626253   \n",
       "2            3.11652   6.184460   1.815156   1.375360  2.195027  39.005533   \n",
       "\n",
       "destination        532        533           534        535  \n",
       "0            27.665742  11.574378      9.637898  11.253416  \n",
       "1             8.669282  16.602062      7.626894   6.972749  \n",
       "2            77.033460   7.937531  10283.803765  12.073622  \n",
       "\n",
       "[3 rows x 86 columns]"
      ]
     },
     "execution_count": 47,
     "metadata": {},
     "output_type": "execute_result"
    }
   ],
   "source": [
    "average_count_df = sum(globals()[f'count_df{i}'] for i in range(1, 13)) / 12\n",
    "print(average_count_df.shape)\n",
    "average_count_df.head(3)"
   ]
  },
  {
   "cell_type": "code",
   "execution_count": 48,
   "id": "4abcf9e0",
   "metadata": {},
   "outputs": [
    {
     "data": {
      "text/html": [
       "<div>\n",
       "<style scoped>\n",
       "    .dataframe tbody tr th:only-of-type {\n",
       "        vertical-align: middle;\n",
       "    }\n",
       "\n",
       "    .dataframe tbody tr th {\n",
       "        vertical-align: top;\n",
       "    }\n",
       "\n",
       "    .dataframe thead th {\n",
       "        text-align: right;\n",
       "    }\n",
       "</style>\n",
       "<table border=\"1\" class=\"dataframe\">\n",
       "  <thead>\n",
       "    <tr style=\"text-align: right;\">\n",
       "      <th>destination</th>\n",
       "      <th>450</th>\n",
       "      <th>451</th>\n",
       "      <th>452</th>\n",
       "      <th>453</th>\n",
       "      <th>454</th>\n",
       "      <th>455</th>\n",
       "      <th>456</th>\n",
       "      <th>457</th>\n",
       "      <th>458</th>\n",
       "      <th>459</th>\n",
       "      <th>...</th>\n",
       "      <th>526</th>\n",
       "      <th>527</th>\n",
       "      <th>528</th>\n",
       "      <th>529</th>\n",
       "      <th>530</th>\n",
       "      <th>531</th>\n",
       "      <th>532</th>\n",
       "      <th>533</th>\n",
       "      <th>534</th>\n",
       "      <th>535</th>\n",
       "    </tr>\n",
       "  </thead>\n",
       "  <tbody>\n",
       "    <tr>\n",
       "      <th>0</th>\n",
       "      <td>0.954115</td>\n",
       "      <td>0.000196</td>\n",
       "      <td>0.000116</td>\n",
       "      <td>0.000156</td>\n",
       "      <td>0.000226</td>\n",
       "      <td>0.001005</td>\n",
       "      <td>0.000509</td>\n",
       "      <td>0.000204</td>\n",
       "      <td>0.000128</td>\n",
       "      <td>0.000060</td>\n",
       "      <td>...</td>\n",
       "      <td>0.000132</td>\n",
       "      <td>0.000389</td>\n",
       "      <td>0.000144</td>\n",
       "      <td>0.000127</td>\n",
       "      <td>0.000122</td>\n",
       "      <td>0.000241</td>\n",
       "      <td>0.000507</td>\n",
       "      <td>0.000212</td>\n",
       "      <td>0.000176</td>\n",
       "      <td>0.000206</td>\n",
       "    </tr>\n",
       "    <tr>\n",
       "      <th>1</th>\n",
       "      <td>0.000830</td>\n",
       "      <td>0.656912</td>\n",
       "      <td>0.000102</td>\n",
       "      <td>0.000317</td>\n",
       "      <td>0.000108</td>\n",
       "      <td>0.000568</td>\n",
       "      <td>0.001181</td>\n",
       "      <td>0.001079</td>\n",
       "      <td>0.000869</td>\n",
       "      <td>0.000699</td>\n",
       "      <td>...</td>\n",
       "      <td>0.000183</td>\n",
       "      <td>0.000437</td>\n",
       "      <td>0.001761</td>\n",
       "      <td>0.001013</td>\n",
       "      <td>0.000608</td>\n",
       "      <td>0.000607</td>\n",
       "      <td>0.000690</td>\n",
       "      <td>0.001321</td>\n",
       "      <td>0.000607</td>\n",
       "      <td>0.000555</td>\n",
       "    </tr>\n",
       "    <tr>\n",
       "      <th>2</th>\n",
       "      <td>0.000316</td>\n",
       "      <td>0.000083</td>\n",
       "      <td>0.646386</td>\n",
       "      <td>0.000566</td>\n",
       "      <td>0.000416</td>\n",
       "      <td>0.000084</td>\n",
       "      <td>0.000923</td>\n",
       "      <td>0.000115</td>\n",
       "      <td>0.000146</td>\n",
       "      <td>0.000054</td>\n",
       "      <td>...</td>\n",
       "      <td>0.000070</td>\n",
       "      <td>0.000140</td>\n",
       "      <td>0.000041</td>\n",
       "      <td>0.000031</td>\n",
       "      <td>0.000050</td>\n",
       "      <td>0.000881</td>\n",
       "      <td>0.001740</td>\n",
       "      <td>0.000179</td>\n",
       "      <td>0.232325</td>\n",
       "      <td>0.000273</td>\n",
       "    </tr>\n",
       "  </tbody>\n",
       "</table>\n",
       "<p>3 rows × 86 columns</p>\n",
       "</div>"
      ],
      "text/plain": [
       "destination       450       451       452       453       454       455  \\\n",
       "0            0.954115  0.000196  0.000116  0.000156  0.000226  0.001005   \n",
       "1            0.000830  0.656912  0.000102  0.000317  0.000108  0.000568   \n",
       "2            0.000316  0.000083  0.646386  0.000566  0.000416  0.000084   \n",
       "\n",
       "destination       456       457       458       459  ...       526       527  \\\n",
       "0            0.000509  0.000204  0.000128  0.000060  ...  0.000132  0.000389   \n",
       "1            0.001181  0.001079  0.000869  0.000699  ...  0.000183  0.000437   \n",
       "2            0.000923  0.000115  0.000146  0.000054  ...  0.000070  0.000140   \n",
       "\n",
       "destination       528       529       530       531       532       533  \\\n",
       "0            0.000144  0.000127  0.000122  0.000241  0.000507  0.000212   \n",
       "1            0.001761  0.001013  0.000608  0.000607  0.000690  0.001321   \n",
       "2            0.000041  0.000031  0.000050  0.000881  0.001740  0.000179   \n",
       "\n",
       "destination       534       535  \n",
       "0            0.000176  0.000206  \n",
       "1            0.000607  0.000555  \n",
       "2            0.232325  0.000273  \n",
       "\n",
       "[3 rows x 86 columns]"
      ]
     },
     "execution_count": 48,
     "metadata": {},
     "output_type": "execute_result"
    }
   ],
   "source": [
    "#Turn count to weight\n",
    "divisor = [average_count_df.iloc[i].sum() for i in range(86)]\n",
    "average_wt_mt = average_count_df.div(divisor, axis=0)\n",
    "average_wt_mt.head(3)"
   ]
  },
  {
   "cell_type": "code",
   "execution_count": 49,
   "id": "1d1754df",
   "metadata": {},
   "outputs": [],
   "source": [
    "ori_array = average_wt_mt.to_numpy()"
   ]
  },
  {
   "cell_type": "markdown",
   "id": "673a1299",
   "metadata": {},
   "source": [
    "# US Shape File"
   ]
  },
  {
   "cell_type": "code",
   "execution_count": 7,
   "id": "4c60f2f2",
   "metadata": {},
   "outputs": [
    {
     "data": {
      "text/html": [
       "<div>\n",
       "<style scoped>\n",
       "    .dataframe tbody tr th:only-of-type {\n",
       "        vertical-align: middle;\n",
       "    }\n",
       "\n",
       "    .dataframe tbody tr th {\n",
       "        vertical-align: top;\n",
       "    }\n",
       "\n",
       "    .dataframe thead th {\n",
       "        text-align: right;\n",
       "    }\n",
       "</style>\n",
       "<table border=\"1\" class=\"dataframe\">\n",
       "  <thead>\n",
       "    <tr style=\"text-align: right;\">\n",
       "      <th></th>\n",
       "      <th>NAME</th>\n",
       "      <th>State</th>\n",
       "      <th>GEOID</th>\n",
       "      <th>pop2020</th>\n",
       "    </tr>\n",
       "  </thead>\n",
       "  <tbody>\n",
       "    <tr>\n",
       "      <th>3106</th>\n",
       "      <td>Los Angeles</td>\n",
       "      <td>California</td>\n",
       "      <td>06037</td>\n",
       "      <td>9989165.0</td>\n",
       "    </tr>\n",
       "    <tr>\n",
       "      <th>3107</th>\n",
       "      <td>Shannon</td>\n",
       "      <td>South Dakota</td>\n",
       "      <td>46113</td>\n",
       "      <td>14309.0</td>\n",
       "    </tr>\n",
       "    <tr>\n",
       "      <th>3108</th>\n",
       "      <td>Bedford</td>\n",
       "      <td>Virginia</td>\n",
       "      <td>51515</td>\n",
       "      <td>6599.0</td>\n",
       "    </tr>\n",
       "  </tbody>\n",
       "</table>\n",
       "</div>"
      ],
      "text/plain": [
       "             NAME         State  GEOID    pop2020\n",
       "3106  Los Angeles    California  06037  9989165.0\n",
       "3107      Shannon  South Dakota  46113    14309.0\n",
       "3108      Bedford      Virginia  51515     6599.0"
      ]
     },
     "execution_count": 7,
     "metadata": {},
     "output_type": "execute_result"
    }
   ],
   "source": [
    "us_shape_file = pd.read_csv(\"../../Data/us_shapefile_county.csv\")\n",
    "\n",
    "us_shape_file = us_shape_file[['NAME', 'State_1', 'FIPS code', 'pop2020']].copy()\n",
    "rename = {'State_1' : 'State'}\n",
    "us_shape_file = us_shape_file.rename(columns = rename)\n",
    "\n",
    "us_shape_file[\"FIPS code\"] = us_shape_file[\"FIPS code\"].apply(lambda x: f\"{int(x):05d}\")\n",
    "\n",
    "#rename column\n",
    "rename = {\"FIPS code\" : \"GEOID\"}\n",
    "us_shape_file = us_shape_file.rename(columns = rename)\n",
    "us_shape_file.tail(3)"
   ]
  },
  {
   "cell_type": "code",
   "execution_count": 10,
   "id": "afbf09d6",
   "metadata": {},
   "outputs": [
    {
     "name": "stdout",
     "output_type": "stream",
     "text": [
      "(102, 4)\n"
     ]
    },
    {
     "data": {
      "text/html": [
       "<div>\n",
       "<style scoped>\n",
       "    .dataframe tbody tr th:only-of-type {\n",
       "        vertical-align: middle;\n",
       "    }\n",
       "\n",
       "    .dataframe tbody tr th {\n",
       "        vertical-align: top;\n",
       "    }\n",
       "\n",
       "    .dataframe thead th {\n",
       "        text-align: right;\n",
       "    }\n",
       "</style>\n",
       "<table border=\"1\" class=\"dataframe\">\n",
       "  <thead>\n",
       "    <tr style=\"text-align: right;\">\n",
       "      <th></th>\n",
       "      <th>NAME</th>\n",
       "      <th>State</th>\n",
       "      <th>GEOID</th>\n",
       "      <th>pop2020</th>\n",
       "    </tr>\n",
       "  </thead>\n",
       "  <tbody>\n",
       "    <tr>\n",
       "      <th>217</th>\n",
       "      <td>Hardin</td>\n",
       "      <td>Illinois</td>\n",
       "      <td>17069</td>\n",
       "      <td>3634.0</td>\n",
       "    </tr>\n",
       "    <tr>\n",
       "      <th>226</th>\n",
       "      <td>Pope</td>\n",
       "      <td>Illinois</td>\n",
       "      <td>17151</td>\n",
       "      <td>3744.0</td>\n",
       "    </tr>\n",
       "    <tr>\n",
       "      <th>268</th>\n",
       "      <td>Calhoun</td>\n",
       "      <td>Illinois</td>\n",
       "      <td>17013</td>\n",
       "      <td>4411.0</td>\n",
       "    </tr>\n",
       "  </tbody>\n",
       "</table>\n",
       "</div>"
      ],
      "text/plain": [
       "        NAME     State  GEOID  pop2020\n",
       "217   Hardin  Illinois  17069   3634.0\n",
       "226     Pope  Illinois  17151   3744.0\n",
       "268  Calhoun  Illinois  17013   4411.0"
      ]
     },
     "execution_count": 10,
     "metadata": {},
     "output_type": "execute_result"
    }
   ],
   "source": [
    "IL_name= us_shape_file[us_shape_file['State'] == \"Illinois\"].copy()\n",
    "print(IL_name.shape)\n",
    "IL_name.head(3)"
   ]
  },
  {
   "cell_type": "code",
   "execution_count": 11,
   "id": "47843d7c",
   "metadata": {},
   "outputs": [
    {
     "name": "stdout",
     "output_type": "stream",
     "text": [
      "(86, 9)\n"
     ]
    },
    {
     "data": {
      "text/html": [
       "<div>\n",
       "<style scoped>\n",
       "    .dataframe tbody tr th:only-of-type {\n",
       "        vertical-align: middle;\n",
       "    }\n",
       "\n",
       "    .dataframe tbody tr th {\n",
       "        vertical-align: top;\n",
       "    }\n",
       "\n",
       "    .dataframe thead th {\n",
       "        text-align: right;\n",
       "    }\n",
       "</style>\n",
       "<table border=\"1\" class=\"dataframe\">\n",
       "  <thead>\n",
       "    <tr style=\"text-align: right;\">\n",
       "      <th></th>\n",
       "      <th>GEOID</th>\n",
       "      <th>State Code</th>\n",
       "      <th>S</th>\n",
       "      <th>E</th>\n",
       "      <th>I</th>\n",
       "      <th>R</th>\n",
       "      <th>NAME</th>\n",
       "      <th>State</th>\n",
       "      <th>pop2020</th>\n",
       "    </tr>\n",
       "  </thead>\n",
       "  <tbody>\n",
       "    <tr>\n",
       "      <th>0</th>\n",
       "      <td>17001</td>\n",
       "      <td>17</td>\n",
       "      <td>65530</td>\n",
       "      <td>0</td>\n",
       "      <td>0</td>\n",
       "      <td>0</td>\n",
       "      <td>Adams</td>\n",
       "      <td>Illinois</td>\n",
       "      <td>65530.0</td>\n",
       "    </tr>\n",
       "    <tr>\n",
       "      <th>1</th>\n",
       "      <td>17005</td>\n",
       "      <td>17</td>\n",
       "      <td>16663</td>\n",
       "      <td>0</td>\n",
       "      <td>0</td>\n",
       "      <td>0</td>\n",
       "      <td>Bond</td>\n",
       "      <td>Illinois</td>\n",
       "      <td>16663.0</td>\n",
       "    </tr>\n",
       "    <tr>\n",
       "      <th>2</th>\n",
       "      <td>17007</td>\n",
       "      <td>17</td>\n",
       "      <td>53326</td>\n",
       "      <td>0</td>\n",
       "      <td>0</td>\n",
       "      <td>0</td>\n",
       "      <td>Boone</td>\n",
       "      <td>Illinois</td>\n",
       "      <td>53326.0</td>\n",
       "    </tr>\n",
       "  </tbody>\n",
       "</table>\n",
       "</div>"
      ],
      "text/plain": [
       "   GEOID State Code      S  E  I  R   NAME     State  pop2020\n",
       "0  17001         17  65530  0  0  0  Adams  Illinois  65530.0\n",
       "1  17005         17  16663  0  0  0   Bond  Illinois  16663.0\n",
       "2  17007         17  53326  0  0  0  Boone  Illinois  53326.0"
      ]
     },
     "execution_count": 11,
     "metadata": {},
     "output_type": "execute_result"
    }
   ],
   "source": [
    "IL_SEIR_name = IL_SEIR.merge(IL_name, on = 'GEOID', how = 'left')\n",
    "IL_SEIR_list = IL_SEIR_name['GEOID'].tolist() #The GEOID as what is appeares in the dataframe\n",
    "\n",
    "print(IL_SEIR_name.shape)\n",
    "IL_SEIR_name.head(3)"
   ]
  },
  {
   "cell_type": "code",
   "execution_count": 17,
   "id": "b3f9d739",
   "metadata": {},
   "outputs": [],
   "source": [
    "IL_SEIR_name.to_excel(\"IL_SEIR_name.xlsx\")"
   ]
  },
  {
   "cell_type": "markdown",
   "id": "842892a8",
   "metadata": {},
   "source": [
    "# Retrieve Data"
   ]
  },
  {
   "cell_type": "code",
   "execution_count": 18,
   "id": "ec91456c",
   "metadata": {},
   "outputs": [
    {
     "data": {
      "text/html": [
       "<div>\n",
       "<style scoped>\n",
       "    .dataframe tbody tr th:only-of-type {\n",
       "        vertical-align: middle;\n",
       "    }\n",
       "\n",
       "    .dataframe tbody tr th {\n",
       "        vertical-align: top;\n",
       "    }\n",
       "\n",
       "    .dataframe thead th {\n",
       "        text-align: right;\n",
       "    }\n",
       "</style>\n",
       "<table border=\"1\" class=\"dataframe\">\n",
       "  <thead>\n",
       "    <tr style=\"text-align: right;\">\n",
       "      <th></th>\n",
       "      <th>17001</th>\n",
       "      <th>17005</th>\n",
       "      <th>17007</th>\n",
       "      <th>17011</th>\n",
       "      <th>17015</th>\n",
       "      <th>17017</th>\n",
       "      <th>17019</th>\n",
       "      <th>17021</th>\n",
       "      <th>17023</th>\n",
       "      <th>17025</th>\n",
       "      <th>...</th>\n",
       "      <th>17185</th>\n",
       "      <th>17187</th>\n",
       "      <th>17189</th>\n",
       "      <th>17191</th>\n",
       "      <th>17193</th>\n",
       "      <th>17195</th>\n",
       "      <th>17197</th>\n",
       "      <th>17199</th>\n",
       "      <th>17201</th>\n",
       "      <th>17203</th>\n",
       "    </tr>\n",
       "  </thead>\n",
       "  <tbody>\n",
       "    <tr>\n",
       "      <th>0</th>\n",
       "      <td>0.844666</td>\n",
       "      <td>0.000223</td>\n",
       "      <td>0.000160</td>\n",
       "      <td>0.000160</td>\n",
       "      <td>0.000000</td>\n",
       "      <td>0.000511</td>\n",
       "      <td>0.000383</td>\n",
       "      <td>0.000096</td>\n",
       "      <td>0.000351</td>\n",
       "      <td>0.001053</td>\n",
       "      <td>...</td>\n",
       "      <td>0.000096</td>\n",
       "      <td>0.000128</td>\n",
       "      <td>0.000096</td>\n",
       "      <td>0.0000</td>\n",
       "      <td>0.0</td>\n",
       "      <td>0.000638</td>\n",
       "      <td>0.007690</td>\n",
       "      <td>0.002617</td>\n",
       "      <td>0.005074</td>\n",
       "      <td>0.000000</td>\n",
       "    </tr>\n",
       "    <tr>\n",
       "      <th>1</th>\n",
       "      <td>0.000133</td>\n",
       "      <td>0.298000</td>\n",
       "      <td>0.000000</td>\n",
       "      <td>0.000000</td>\n",
       "      <td>0.000000</td>\n",
       "      <td>0.001467</td>\n",
       "      <td>0.034000</td>\n",
       "      <td>0.012000</td>\n",
       "      <td>0.000133</td>\n",
       "      <td>0.001733</td>\n",
       "      <td>...</td>\n",
       "      <td>0.000000</td>\n",
       "      <td>0.000267</td>\n",
       "      <td>0.000800</td>\n",
       "      <td>0.0028</td>\n",
       "      <td>0.0</td>\n",
       "      <td>0.003733</td>\n",
       "      <td>0.012400</td>\n",
       "      <td>0.016667</td>\n",
       "      <td>0.001733</td>\n",
       "      <td>0.001067</td>\n",
       "    </tr>\n",
       "    <tr>\n",
       "      <th>2</th>\n",
       "      <td>0.000000</td>\n",
       "      <td>0.000000</td>\n",
       "      <td>0.403862</td>\n",
       "      <td>0.000105</td>\n",
       "      <td>0.001679</td>\n",
       "      <td>0.000000</td>\n",
       "      <td>0.002624</td>\n",
       "      <td>0.000000</td>\n",
       "      <td>0.000000</td>\n",
       "      <td>0.000000</td>\n",
       "      <td>...</td>\n",
       "      <td>0.000000</td>\n",
       "      <td>0.004723</td>\n",
       "      <td>0.000000</td>\n",
       "      <td>0.0000</td>\n",
       "      <td>0.0</td>\n",
       "      <td>0.004198</td>\n",
       "      <td>0.021935</td>\n",
       "      <td>0.000000</td>\n",
       "      <td>0.158795</td>\n",
       "      <td>0.000000</td>\n",
       "    </tr>\n",
       "  </tbody>\n",
       "</table>\n",
       "<p>3 rows × 86 columns</p>\n",
       "</div>"
      ],
      "text/plain": [
       "      17001     17005     17007     17011     17015     17017     17019  \\\n",
       "0  0.844666  0.000223  0.000160  0.000160  0.000000  0.000511  0.000383   \n",
       "1  0.000133  0.298000  0.000000  0.000000  0.000000  0.001467  0.034000   \n",
       "2  0.000000  0.000000  0.403862  0.000105  0.001679  0.000000  0.002624   \n",
       "\n",
       "      17021     17023     17025  ...     17185     17187     17189   17191  \\\n",
       "0  0.000096  0.000351  0.001053  ...  0.000096  0.000128  0.000096  0.0000   \n",
       "1  0.012000  0.000133  0.001733  ...  0.000000  0.000267  0.000800  0.0028   \n",
       "2  0.000000  0.000000  0.000000  ...  0.000000  0.004723  0.000000  0.0000   \n",
       "\n",
       "   17193     17195     17197     17199     17201     17203  \n",
       "0    0.0  0.000638  0.007690  0.002617  0.005074  0.000000  \n",
       "1    0.0  0.003733  0.012400  0.016667  0.001733  0.001067  \n",
       "2    0.0  0.004198  0.021935  0.000000  0.158795  0.000000  \n",
       "\n",
       "[3 rows x 86 columns]"
      ]
     },
     "execution_count": 18,
     "metadata": {},
     "output_type": "execute_result"
    }
   ],
   "source": [
    "#Original matrix for comparison\n",
    "matrix = pd.read_csv(\"IL_Data/Aggregate/IL_ori_agg.csv\")\n",
    "matrix = matrix.drop(columns = 'Unnamed: 0')\n",
    "matrix.head(3)"
   ]
  },
  {
   "cell_type": "code",
   "execution_count": 19,
   "id": "80b67894",
   "metadata": {},
   "outputs": [
    {
     "name": "stdout",
     "output_type": "stream",
     "text": [
      "SEIR county list = Weight Matrix County List?: True\n"
     ]
    },
    {
     "data": {
      "text/plain": [
       "0.8446663901209355"
      ]
     },
     "execution_count": 19,
     "metadata": {},
     "output_type": "execute_result"
    }
   ],
   "source": [
    "matrix_county_list = matrix.columns.tolist()\n",
    "print(f'SEIR county list = Weight Matrix County List?: {matrix_county_list == IL_SEIR_list}') #Proceed when see Yes\n",
    "\n",
    "array = matrix.to_numpy() #The most important step!! Turning pandas dataframe to a numpy array\n",
    "array[0][0]"
   ]
  },
  {
   "cell_type": "markdown",
   "id": "4467fe89",
   "metadata": {},
   "source": [
    "# One simulation"
   ]
  },
  {
   "cell_type": "code",
   "execution_count": 20,
   "id": "39ba02e2",
   "metadata": {},
   "outputs": [],
   "source": [
    "def stochastic_SIR(y, l, array):\n",
    "    \n",
    "    # y is the list that contains the initial condition of S_i, I_i, R_i\n",
    "    S = y[:l]  # a five element list\n",
    "    E = y[l:l+l]\n",
    "    I = y[l+l:l+l+l]  # a five element list\n",
    "    R = y[l+l+l:]  # the rest elements\n",
    "    \n",
    "    t = 0\n",
    "    time_series = [(t, S.copy(), E.copy(), I.copy(), R.copy())]\n",
    "    \n",
    "    #l = len(S)\n",
    "    \n",
    "    # Define each element of N\n",
    "    N = [S[i] + E[i] + I[i] + R[i] for i in range(l)]\n",
    "    \n",
    "    # Define N_hat\n",
    "    N_hat = [array[i][i] * N[i] for i in range(l)]\n",
    "    for i in range(l):\n",
    "        for j in range(l):\n",
    "            if i != j:\n",
    "                N_hat[i] += array[j][i] * N[j]\n",
    "    \n",
    "    #print(N_hat)\n",
    "    \n",
    "    # Run the loop ------------------------------------\n",
    "    t_max = 50\n",
    "    #while any(i > 0 for i in I) and t < t_max: #time stamp loop--\n",
    "    while t < t_max:\n",
    "        \n",
    "        #Define value for beta\n",
    "        if t < 25: \n",
    "            beta = 3.5\n",
    "        else: \n",
    "            beta = 1.7\n",
    "        \n",
    "        for i in range(l): #node loop------\n",
    "            \n",
    "            # Define I_hat for all nodes\n",
    "            I_hat = [array[i][i] * I[i] for i in range(l)]\n",
    "            for j in range(l):\n",
    "                if i != j:\n",
    "                    I_hat[i] += array[j][i] * I[j]\n",
    "            \n",
    "            # Calculate lambda\n",
    "            lmda = beta * (array[i][i] ** 2) * I[i] / N_hat[i]\n",
    "            for j in range(l):\n",
    "                if i != j:\n",
    "                    lmda += (beta * array[i][i] * array[j][i] * I[j] / N_hat[i]) + (beta * array[i][j] * I_hat[j] / N_hat[j])\n",
    "            \n",
    "            #Newly added term, having b equals to 3.5 and largrer sample of nodes makes lamda larger than 1\n",
    "            lmda_new = min(lmda,1)\n",
    "            \n",
    "            #Check again to see if you can improve the model-------------\n",
    "            new_exposed = np.random.binomial(S[i], lmda_new)*1\n",
    "            new_infected = np.random.binomial(E[i], 0.2703)*1\n",
    "            new_recovered = np.random.binomial(I[i], 0.2448)*1 \n",
    "            \n",
    "            # Update S, I, R for node i\n",
    "            S[i] -= new_exposed\n",
    "            E[i] += new_exposed - new_infected\n",
    "            I[i] += new_infected - new_recovered\n",
    "            R[i] += new_recovered\n",
    "        \n",
    "        # Store the results (make copies to avoid overwriting)\n",
    "        time_series.append((t, S.copy(), E.copy(), I.copy(), R.copy()))\n",
    "        \n",
    "        # Increment time (optional)\n",
    "        t += 1\n",
    "        #print(f\"Time: {t}, S: {S}, I: {I}, R: {R}\")\n",
    "        if t % 10 == 0:\n",
    "            print(t)\n",
    "    \n",
    "    return time_series"
   ]
  },
  {
   "cell_type": "markdown",
   "id": "ee9a18cc",
   "metadata": {},
   "source": [
    "# Applying for the function\n",
    "### Original Array"
   ]
  },
  {
   "cell_type": "code",
   "execution_count": 21,
   "id": "48feda53",
   "metadata": {},
   "outputs": [],
   "source": [
    "#NY_SEIR = pd.read_excel(\"NY_SEIR.xlsx\")\n",
    "#NY_SEIR = NY_SEIR.drop(columns = 'Unnamed: 0')\n",
    "#NY_SEIR.iloc[15:20]"
   ]
  },
  {
   "cell_type": "code",
   "execution_count": 22,
   "id": "5907a70c",
   "metadata": {},
   "outputs": [
    {
     "name": "stdout",
     "output_type": "stream",
     "text": [
      "86 86 86 86\n"
     ]
    }
   ],
   "source": [
    "#Define initial condition\n",
    "S0 = AZ_SEIR[\"S\"].tolist()  \n",
    "E0 = AZ_SEIR[\"E\"].tolist()  \n",
    "I0 = AZ_SEIR[\"I\"].tolist()   \n",
    "R0 = AZ_SEIR[\"R\"].tolist()\n",
    "initial_conditions = S0 + E0 + I0 + R0 #this is the y (?): Yup!\n",
    "print(len(S0),len(E0),len(I0), len(R0))"
   ]
  },
  {
   "cell_type": "code",
   "execution_count": 53,
   "id": "6a8384ff",
   "metadata": {},
   "outputs": [
    {
     "name": "stdout",
     "output_type": "stream",
     "text": [
      "10\n",
      "20\n",
      "30\n",
      "40\n",
      "50\n"
     ]
    }
   ],
   "source": [
    "#first simulation\n",
    "time_series = stochastic_SIR(initial_conditions, 86, ori_array)"
   ]
  },
  {
   "cell_type": "code",
   "execution_count": 54,
   "id": "d1b95e6b",
   "metadata": {},
   "outputs": [],
   "source": [
    "times, S_values, E_values, I_values, R_values = zip(*time_series)\n",
    "\n",
    "S_list = list(zip(*S_values))\n",
    "for i, S in enumerate(S_list):\n",
    "    globals()[f'S{i}'] = S\n",
    "    \n",
    "E_list = list(zip(*E_values))\n",
    "for i, E in enumerate(E_list):\n",
    "    globals()[f'E{i}'] = E\n",
    "    \n",
    "I_list = list(zip(*I_values))\n",
    "for i, I in enumerate(I_list):\n",
    "    globals()[f'I{i}'] = I\n",
    "    \n",
    "R_list = list(zip(*R_values))\n",
    "for i, R in enumerate(R_list):\n",
    "    globals()[f'R{i}'] = R"
   ]
  },
  {
   "cell_type": "markdown",
   "id": "c22eefa5",
   "metadata": {},
   "source": [
    "<br>\n",
    "\n",
    "- **globals()** is a built-in function in Python that returns a dictionary representing the current global symbol table. The global symbol table contains all the global variables in the program. When you do globals()[f'S{i}'] = s, you're dynamically creating a new global variable with a name like S1, S2, etc., and assigning it the value s. In this case, f'S{i}' generates the variable name as a string, and s is the corresponding value from the list.\n",
    "\n",
    "<br>\n",
    "\n",
    "- **enumerate()** is a built-in Python function that allows you to loop over an iterable (like a list, tuple, or string) while also keeping track of the index of each element.When used like enumerate(S_list, start=1), it returns pairs of (index, value), where index starts at 1 and increases by 1 for each iteration, while value is the corresponding item from the list. The start=1 parameter means that the counting will begin at 1 instead of the default 0."
   ]
  },
  {
   "cell_type": "markdown",
   "id": "41c24174",
   "metadata": {},
   "source": [
    "# Visualization: One Loop"
   ]
  },
  {
   "cell_type": "code",
   "execution_count": 55,
   "id": "5a15778b",
   "metadata": {},
   "outputs": [
    {
     "data": {
      "image/png": "[encoded data removed]",
      "text/plain": [
       "<Figure size 1000x600 with 1 Axes>"
      ]
     },
     "metadata": {},
     "output_type": "display_data"
    }
   ],
   "source": [
    "plt.figure(figsize=(10,6))\n",
    "\n",
    "plt.plot(times, I17, label='DuPage, pop = 931,153')\n",
    "plt.plot(times, I34, label='Kane (Seed), pop = 516,155')\n",
    "plt.plot(times, I38, label='Lake, pop = 713,217')\n",
    "plt.plot(times, I46, label='McLean, pop = 170,870')\n",
    "plt.plot(times, I82, label='Will, pop = 695,903')\n",
    "\n",
    "plt.xlabel('Time')\n",
    "plt.ylabel('Total Infected Population')\n",
    "plt.legend()\n",
    "#plt.savefig(\"CA_SEIR_Example.png\", dpi=300, bbox_inches='tight')\n",
    "\n",
    "plt.show()\n",
    "\n"
   ]
  },
  {
   "cell_type": "markdown",
   "id": "95c2ee7d",
   "metadata": {},
   "source": [
    "### Scikit Mobility Original matrix"
   ]
  },
  {
   "cell_type": "code",
   "execution_count": 63,
   "id": "0b36320e",
   "metadata": {},
   "outputs": [
    {
     "data": {
      "text/plain": [
       "0.6569115924295615"
      ]
     },
     "execution_count": 63,
     "metadata": {},
     "output_type": "execute_result"
    }
   ],
   "source": [
    "ori_array[1][1]"
   ]
  },
  {
   "cell_type": "code",
   "execution_count": 64,
   "id": "2722e246",
   "metadata": {},
   "outputs": [
    {
     "data": {
      "text/plain": [
       "0.298"
      ]
     },
     "execution_count": 64,
     "metadata": {},
     "output_type": "execute_result"
    }
   ],
   "source": [
    "array[1][1]"
   ]
  },
  {
   "cell_type": "code",
   "execution_count": 65,
   "id": "8ac958c2",
   "metadata": {
    "scrolled": true
   },
   "outputs": [
    {
     "name": "stdout",
     "output_type": "stream",
     "text": [
      "10\n",
      "20\n",
      "30\n",
      "40\n",
      "50\n"
     ]
    }
   ],
   "source": [
    "time_series = stochastic_SIR(initial_conditions, 86, array)"
   ]
  },
  {
   "cell_type": "code",
   "execution_count": 57,
   "id": "8bda4a6f",
   "metadata": {},
   "outputs": [],
   "source": [
    "times, S_values, E_values, I_values, R_values = zip(*time_series)\n",
    "\n",
    "S_list = list(zip(*S_values))\n",
    "for i, S in enumerate(S_list):\n",
    "    globals()[f'S{i}'] = S\n",
    "    \n",
    "E_list = list(zip(*E_values))\n",
    "for i, E in enumerate(E_list):\n",
    "    globals()[f'E{i}'] = E\n",
    "    \n",
    "I_list = list(zip(*I_values))\n",
    "for i, I in enumerate(I_list):\n",
    "    globals()[f'I{i}'] = I\n",
    "    \n",
    "R_list = list(zip(*R_values))\n",
    "for i, R in enumerate(R_list):\n",
    "    globals()[f'R{i}'] = R"
   ]
  },
  {
   "cell_type": "code",
   "execution_count": 66,
   "id": "8e6560a9",
   "metadata": {},
   "outputs": [
    {
     "data": {
      "image/png": "[encoded data removed]",
      "text/plain": [
       "<Figure size 1000x600 with 1 Axes>"
      ]
     },
     "metadata": {},
     "output_type": "display_data"
    }
   ],
   "source": [
    "plt.figure(figsize=(10,6))\n",
    "\n",
    "plt.plot(times, I17, label='DuPage, pop = 931,153')\n",
    "plt.plot(times, I34, label='Kane (Seed), pop = 516,155')\n",
    "plt.plot(times, I38, label='Lake, pop = 713,217')\n",
    "plt.plot(times, I46, label='McLean, pop = 170,870')\n",
    "plt.plot(times, I82, label='Will, pop = 695,903')\n",
    "\n",
    "plt.xlabel('Time')\n",
    "plt.ylabel('Total Infected Population')\n",
    "plt.legend()\n",
    "#plt.savefig(\"CA_SEIR_Example.png\", dpi=300, bbox_inches='tight')\n",
    "\n",
    "plt.show()\n"
   ]
  },
  {
   "cell_type": "markdown",
   "id": "33cbabe8",
   "metadata": {},
   "source": [
    "# 20 Simulation"
   ]
  },
  {
   "cell_type": "code",
   "execution_count": 151,
   "id": "e5decfe8",
   "metadata": {},
   "outputs": [
    {
     "data": {
      "text/plain": [
       "0.8446663901209355"
      ]
     },
     "execution_count": 151,
     "metadata": {},
     "output_type": "execute_result"
    }
   ],
   "source": [
    "matrix = pd.read_csv(\"IL_Data/Aggregate/IL_ori_agg.csv\")\n",
    "matrix = matrix.drop(columns = 'Unnamed: 0')\n",
    "matrix.head(3)\n",
    "\n",
    "array = matrix.to_numpy() #The most important step!! Turning pandas dataframe to a numpy array\n",
    "array[0][0]"
   ]
  },
  {
   "cell_type": "code",
   "execution_count": 152,
   "id": "1d2c71cb",
   "metadata": {},
   "outputs": [
    {
     "name": "stdout",
     "output_type": "stream",
     "text": [
      "10\n",
      "20\n",
      "30\n",
      "40\n",
      "50\n",
      "Simulation 0 Finished!!!-------------------------------\n",
      "10\n",
      "20\n",
      "30\n",
      "40\n",
      "50\n",
      "Simulation 1 Finished!!!-------------------------------\n",
      "10\n",
      "20\n",
      "30\n",
      "40\n",
      "50\n",
      "Simulation 2 Finished!!!-------------------------------\n",
      "10\n",
      "20\n",
      "30\n",
      "40\n",
      "50\n",
      "Simulation 3 Finished!!!-------------------------------\n",
      "10\n",
      "20\n",
      "30\n",
      "40\n",
      "50\n",
      "Simulation 4 Finished!!!-------------------------------\n",
      "10\n",
      "20\n",
      "30\n",
      "40\n",
      "50\n",
      "Simulation 5 Finished!!!-------------------------------\n",
      "10\n",
      "20\n",
      "30\n",
      "40\n",
      "50\n",
      "Simulation 6 Finished!!!-------------------------------\n",
      "10\n",
      "20\n",
      "30\n",
      "40\n",
      "50\n",
      "Simulation 7 Finished!!!-------------------------------\n",
      "10\n",
      "20\n",
      "30\n",
      "40\n",
      "50\n",
      "Simulation 8 Finished!!!-------------------------------\n",
      "10\n",
      "20\n",
      "30\n",
      "40\n",
      "50\n",
      "Simulation 9 Finished!!!-------------------------------\n",
      "10\n",
      "20\n",
      "30\n",
      "40\n",
      "50\n",
      "Simulation 10 Finished!!!-------------------------------\n",
      "10\n",
      "20\n",
      "30\n",
      "40\n",
      "50\n",
      "Simulation 11 Finished!!!-------------------------------\n",
      "10\n",
      "20\n",
      "30\n",
      "40\n",
      "50\n",
      "Simulation 12 Finished!!!-------------------------------\n",
      "10\n",
      "20\n",
      "30\n",
      "40\n",
      "50\n",
      "Simulation 13 Finished!!!-------------------------------\n",
      "10\n",
      "20\n",
      "30\n",
      "40\n",
      "50\n",
      "Simulation 14 Finished!!!-------------------------------\n",
      "10\n",
      "20\n",
      "30\n",
      "40\n",
      "50\n",
      "Simulation 15 Finished!!!-------------------------------\n",
      "10\n",
      "20\n",
      "30\n",
      "40\n",
      "50\n",
      "Simulation 16 Finished!!!-------------------------------\n",
      "10\n",
      "20\n",
      "30\n",
      "40\n",
      "50\n",
      "Simulation 17 Finished!!!-------------------------------\n",
      "10\n",
      "20\n",
      "30\n",
      "40\n",
      "50\n",
      "Simulation 18 Finished!!!-------------------------------\n",
      "10\n",
      "20\n",
      "30\n",
      "40\n",
      "50\n",
      "Simulation 19 Finished!!!-------------------------------\n"
     ]
    }
   ],
   "source": [
    "all_simulations = []\n",
    "\n",
    "for sim in range(20):\n",
    "    \n",
    "    S0 = IL_SEIR[\"S\"].tolist()  \n",
    "    E0 = IL_SEIR[\"E\"].tolist()  \n",
    "    I0 = IL_SEIR[\"I\"].tolist()   \n",
    "    R0 = IL_SEIR[\"R\"].tolist()\n",
    "    initial_conditions = S0 + E0 + I0 + R0 #this is the y (?): Yup!\n",
    "\n",
    "    result = stochastic_SIR(initial_conditions, 86, array)\n",
    "    print(\"Simulation\", sim, \"Finished!!!-------------------------------\")\n",
    "    \n",
    "    all_simulations.append(result)"
   ]
  },
  {
   "cell_type": "code",
   "execution_count": 153,
   "id": "d5a11205",
   "metadata": {},
   "outputs": [],
   "source": [
    "import pickle\n",
    "\n",
    "with open('20_simulations_ori_IL_agg.pkl', 'wb') as f:\n",
    "    pickle.dump(all_simulations, f)"
   ]
  },
  {
   "cell_type": "code",
   "execution_count": 110,
   "id": "249b9955",
   "metadata": {},
   "outputs": [],
   "source": []
  }
 ],
 "metadata": {
  "kernelspec": {
   "display_name": "Python 3 (ipykernel)",
   "language": "python",
   "name": "python3"
  },
  "language_info": {
   "codemirror_mode": {
    "name": "ipython",
    "version": 3
   },
   "file_extension": ".py",
   "mimetype": "text/x-python",
   "name": "python",
   "nbconvert_exporter": "python",
   "pygments_lexer": "ipython3",
   "version": "3.11.5"
  }
 },
 "nbformat": 4,
 "nbformat_minor": 5
}
