{
 "cells": [
  {
   "cell_type": "markdown",
   "id": "805cf925",
   "metadata": {},
   "source": [
    "<h1><center> Visualization <br><br>\n",
    "    <center> Wendy Shi"
   ]
  },
  {
   "cell_type": "markdown",
   "id": "b77fec99",
   "metadata": {},
   "source": [
    "## TOC"
   ]
  },
  {
   "cell_type": "markdown",
   "id": "7beac35d",
   "metadata": {},
   "source": [
    "- [Preparation](#Preparation)\n",
    "- [Home Location](#Home-location)"
   ]
  },
  {
   "cell_type": "markdown",
   "id": "fd1eafbd",
   "metadata": {},
   "source": [
    "# Preparation"
   ]
  },
  {
   "cell_type": "code",
   "execution_count": 1,
   "id": "fc95423e",
   "metadata": {},
   "outputs": [],
   "source": [
    "#skmob\n",
    "import skmob\n",
    "import geopandas as gpd\n",
    "from skmob.models.epr import DensityEPR\n",
    "from skmob.measures.individual import home_location\n",
    "from skmob.measures.individual import jump_lengths\n",
    "\n",
    "#standard\n",
    "import pandas as pd\n",
    "import numpy as np\n",
    "import matplotlib.pyplot as plt\n",
    "from scipy.integrate import odeint\n",
    "from scipy.interpolate import interp1d\n",
    "import scipy.stats as stats\n",
    "\n",
    "#visualization\n",
    "import seaborn as sns\n",
    "\n",
    "#Geopandas related\n",
    "import fiona\n",
    "from shapely.geometry import shape"
   ]
  },
  {
   "cell_type": "markdown",
   "id": "1b0b8fae",
   "metadata": {},
   "source": [
    "## Subsetting"
   ]
  },
  {
   "cell_type": "code",
   "execution_count": 2,
   "id": "d5fb0bf7",
   "metadata": {},
   "outputs": [
    {
     "data": {
      "text/html": [
       "<div>\n",
       "<style scoped>\n",
       "    .dataframe tbody tr th:only-of-type {\n",
       "        vertical-align: middle;\n",
       "    }\n",
       "\n",
       "    .dataframe tbody tr th {\n",
       "        vertical-align: top;\n",
       "    }\n",
       "\n",
       "    .dataframe thead th {\n",
       "        text-align: right;\n",
       "    }\n",
       "</style>\n",
       "<table border=\"1\" class=\"dataframe\">\n",
       "  <thead>\n",
       "    <tr style=\"text-align: right;\">\n",
       "      <th></th>\n",
       "      <th>index</th>\n",
       "      <th>GEOID</th>\n",
       "      <th>State</th>\n",
       "    </tr>\n",
       "  </thead>\n",
       "  <tbody>\n",
       "    <tr>\n",
       "      <th>0</th>\n",
       "      <td>0</td>\n",
       "      <td>01001</td>\n",
       "      <td>01</td>\n",
       "    </tr>\n",
       "    <tr>\n",
       "      <th>1</th>\n",
       "      <td>1</td>\n",
       "      <td>01003</td>\n",
       "      <td>01</td>\n",
       "    </tr>\n",
       "    <tr>\n",
       "      <th>2</th>\n",
       "      <td>2</td>\n",
       "      <td>01005</td>\n",
       "      <td>01</td>\n",
       "    </tr>\n",
       "  </tbody>\n",
       "</table>\n",
       "</div>"
      ],
      "text/plain": [
       "   index  GEOID State\n",
       "0      0  01001    01\n",
       "1      1  01003    01\n",
       "2      2  01005    01"
      ]
     },
     "execution_count": 2,
     "metadata": {},
     "output_type": "execute_result"
    }
   ],
   "source": [
    "#Load data\n",
    "node_dict = pd.read_csv(\"../../Data/nodes_considered.csv\")\n",
    "\n",
    "#Standardize GEOID\n",
    "node_dict[\"GEO_ID\"] = node_dict[\"GEO_ID\"].apply(lambda x: f\"{int(x):05d}\") #turn GEOID into 6 digit format\n",
    "\n",
    "#rename column\n",
    "rename = {'GEO_ID' : 'GEOID'}\n",
    "node_dict = node_dict.rename(columns = rename)\n",
    "\n",
    "#State ID: Add a new column\n",
    "node_dict['State'] = node_dict['GEOID'].str[:2]\n",
    "node_dict.head(3)"
   ]
  },
  {
   "cell_type": "code",
   "execution_count": 11,
   "id": "6c2f1ad3",
   "metadata": {},
   "outputs": [
    {
     "name": "stdout",
     "output_type": "stream",
     "text": [
      "(86, 3)\n"
     ]
    },
    {
     "data": {
      "text/html": [
       "<div>\n",
       "<style scoped>\n",
       "    .dataframe tbody tr th:only-of-type {\n",
       "        vertical-align: middle;\n",
       "    }\n",
       "\n",
       "    .dataframe tbody tr th {\n",
       "        vertical-align: top;\n",
       "    }\n",
       "\n",
       "    .dataframe thead th {\n",
       "        text-align: right;\n",
       "    }\n",
       "</style>\n",
       "<table border=\"1\" class=\"dataframe\">\n",
       "  <thead>\n",
       "    <tr style=\"text-align: right;\">\n",
       "      <th></th>\n",
       "      <th>index</th>\n",
       "      <th>GEOID</th>\n",
       "      <th>State</th>\n",
       "    </tr>\n",
       "  </thead>\n",
       "  <tbody>\n",
       "    <tr>\n",
       "      <th>450</th>\n",
       "      <td>450</td>\n",
       "      <td>17001</td>\n",
       "      <td>17</td>\n",
       "    </tr>\n",
       "    <tr>\n",
       "      <th>451</th>\n",
       "      <td>451</td>\n",
       "      <td>17005</td>\n",
       "      <td>17</td>\n",
       "    </tr>\n",
       "    <tr>\n",
       "      <th>452</th>\n",
       "      <td>452</td>\n",
       "      <td>17007</td>\n",
       "      <td>17</td>\n",
       "    </tr>\n",
       "  </tbody>\n",
       "</table>\n",
       "</div>"
      ],
      "text/plain": [
       "     index  GEOID State\n",
       "450    450  17001    17\n",
       "451    451  17005    17\n",
       "452    452  17007    17"
      ]
     },
     "execution_count": 11,
     "metadata": {},
     "output_type": "execute_result"
    }
   ],
   "source": [
    "#print out the number of States that we want\n",
    "IL = node_dict[node_dict['State'] == '17']\n",
    "print(AZ.shape)\n",
    "IL.head(3)"
   ]
  },
  {
   "cell_type": "markdown",
   "id": "58a78c9b",
   "metadata": {},
   "source": [
    "## US Shape File"
   ]
  },
  {
   "cell_type": "code",
   "execution_count": 12,
   "id": "282de014",
   "metadata": {},
   "outputs": [
    {
     "data": {
      "text/html": [
       "<div>\n",
       "<style scoped>\n",
       "    .dataframe tbody tr th:only-of-type {\n",
       "        vertical-align: middle;\n",
       "    }\n",
       "\n",
       "    .dataframe tbody tr th {\n",
       "        vertical-align: top;\n",
       "    }\n",
       "\n",
       "    .dataframe thead th {\n",
       "        text-align: right;\n",
       "    }\n",
       "</style>\n",
       "<table border=\"1\" class=\"dataframe\">\n",
       "  <thead>\n",
       "    <tr style=\"text-align: right;\">\n",
       "      <th></th>\n",
       "      <th>GEO_ID</th>\n",
       "      <th>STATE</th>\n",
       "      <th>COUNTY</th>\n",
       "      <th>NAME</th>\n",
       "      <th>LSAD</th>\n",
       "      <th>CENSUSAREA</th>\n",
       "      <th>State_1</th>\n",
       "      <th>Alpha code</th>\n",
       "      <th>Region</th>\n",
       "      <th>Division</th>\n",
       "      <th>CDC region</th>\n",
       "      <th>FIPS code</th>\n",
       "      <th>2013 code</th>\n",
       "      <th>U/R</th>\n",
       "      <th>pop2020</th>\n",
       "      <th>pop2021</th>\n",
       "    </tr>\n",
       "  </thead>\n",
       "  <tbody>\n",
       "    <tr>\n",
       "      <th>0</th>\n",
       "      <td>48301</td>\n",
       "      <td>48</td>\n",
       "      <td>301</td>\n",
       "      <td>Loving</td>\n",
       "      <td>County</td>\n",
       "      <td>668.925</td>\n",
       "      <td>Texas</td>\n",
       "      <td>TX</td>\n",
       "      <td>South</td>\n",
       "      <td>West South Central</td>\n",
       "      <td>6.0</td>\n",
       "      <td>48301</td>\n",
       "      <td>6</td>\n",
       "      <td>R</td>\n",
       "      <td>67.0</td>\n",
       "      <td>57.0</td>\n",
       "    </tr>\n",
       "    <tr>\n",
       "      <th>1</th>\n",
       "      <td>48269</td>\n",
       "      <td>48</td>\n",
       "      <td>269</td>\n",
       "      <td>King</td>\n",
       "      <td>County</td>\n",
       "      <td>910.872</td>\n",
       "      <td>Texas</td>\n",
       "      <td>TX</td>\n",
       "      <td>South</td>\n",
       "      <td>West South Central</td>\n",
       "      <td>6.0</td>\n",
       "      <td>48269</td>\n",
       "      <td>6</td>\n",
       "      <td>R</td>\n",
       "      <td>270.0</td>\n",
       "      <td>258.0</td>\n",
       "    </tr>\n",
       "    <tr>\n",
       "      <th>2</th>\n",
       "      <td>48261</td>\n",
       "      <td>48</td>\n",
       "      <td>261</td>\n",
       "      <td>Kenedy</td>\n",
       "      <td>County</td>\n",
       "      <td>1458.329</td>\n",
       "      <td>Texas</td>\n",
       "      <td>TX</td>\n",
       "      <td>South</td>\n",
       "      <td>West South Central</td>\n",
       "      <td>6.0</td>\n",
       "      <td>48261</td>\n",
       "      <td>5</td>\n",
       "      <td>R</td>\n",
       "      <td>346.0</td>\n",
       "      <td>340.0</td>\n",
       "    </tr>\n",
       "  </tbody>\n",
       "</table>\n",
       "</div>"
      ],
      "text/plain": [
       "   GEO_ID  STATE  COUNTY    NAME    LSAD  CENSUSAREA State_1 Alpha code  \\\n",
       "0   48301     48     301  Loving  County     668.925   Texas         TX   \n",
       "1   48269     48     269    King  County     910.872   Texas         TX   \n",
       "2   48261     48     261  Kenedy  County    1458.329   Texas         TX   \n",
       "\n",
       "  Region            Division  CDC region  FIPS code  2013 code U/R  pop2020  \\\n",
       "0  South  West South Central         6.0      48301          6   R     67.0   \n",
       "1  South  West South Central         6.0      48269          6   R    270.0   \n",
       "2  South  West South Central         6.0      48261          5   R    346.0   \n",
       "\n",
       "   pop2021  \n",
       "0     57.0  \n",
       "1    258.0  \n",
       "2    340.0  "
      ]
     },
     "execution_count": 12,
     "metadata": {},
     "output_type": "execute_result"
    }
   ],
   "source": [
    "shape_file = pd.read_csv(\"../../Data/us_shapefile_county.csv\")\n",
    "shape_file.head(3)"
   ]
  },
  {
   "cell_type": "code",
   "execution_count": 13,
   "id": "a399d8b0",
   "metadata": {},
   "outputs": [
    {
     "name": "stdout",
     "output_type": "stream",
     "text": [
      "(102, 16)\n"
     ]
    },
    {
     "data": {
      "text/html": [
       "<div>\n",
       "<style scoped>\n",
       "    .dataframe tbody tr th:only-of-type {\n",
       "        vertical-align: middle;\n",
       "    }\n",
       "\n",
       "    .dataframe tbody tr th {\n",
       "        vertical-align: top;\n",
       "    }\n",
       "\n",
       "    .dataframe thead th {\n",
       "        text-align: right;\n",
       "    }\n",
       "</style>\n",
       "<table border=\"1\" class=\"dataframe\">\n",
       "  <thead>\n",
       "    <tr style=\"text-align: right;\">\n",
       "      <th></th>\n",
       "      <th>GEO_ID</th>\n",
       "      <th>STATE</th>\n",
       "      <th>COUNTY</th>\n",
       "      <th>NAME</th>\n",
       "      <th>LSAD</th>\n",
       "      <th>CENSUSAREA</th>\n",
       "      <th>State_1</th>\n",
       "      <th>Alpha code</th>\n",
       "      <th>Region</th>\n",
       "      <th>Division</th>\n",
       "      <th>CDC region</th>\n",
       "      <th>FIPS code</th>\n",
       "      <th>2013 code</th>\n",
       "      <th>U/R</th>\n",
       "      <th>pop2020</th>\n",
       "      <th>pop2021</th>\n",
       "    </tr>\n",
       "  </thead>\n",
       "  <tbody>\n",
       "    <tr>\n",
       "      <th>217</th>\n",
       "      <td>17069</td>\n",
       "      <td>17</td>\n",
       "      <td>69</td>\n",
       "      <td>Hardin</td>\n",
       "      <td>County</td>\n",
       "      <td>177.528</td>\n",
       "      <td>Illinois</td>\n",
       "      <td>IL</td>\n",
       "      <td>Midwest</td>\n",
       "      <td>East North Central</td>\n",
       "      <td>5.0</td>\n",
       "      <td>17069</td>\n",
       "      <td>6</td>\n",
       "      <td>R</td>\n",
       "      <td>3634.0</td>\n",
       "      <td>3650.0</td>\n",
       "    </tr>\n",
       "    <tr>\n",
       "      <th>226</th>\n",
       "      <td>17151</td>\n",
       "      <td>17</td>\n",
       "      <td>151</td>\n",
       "      <td>Pope</td>\n",
       "      <td>County</td>\n",
       "      <td>368.770</td>\n",
       "      <td>Illinois</td>\n",
       "      <td>IL</td>\n",
       "      <td>Midwest</td>\n",
       "      <td>East North Central</td>\n",
       "      <td>5.0</td>\n",
       "      <td>17151</td>\n",
       "      <td>6</td>\n",
       "      <td>R</td>\n",
       "      <td>3744.0</td>\n",
       "      <td>3779.0</td>\n",
       "    </tr>\n",
       "    <tr>\n",
       "      <th>268</th>\n",
       "      <td>17013</td>\n",
       "      <td>17</td>\n",
       "      <td>13</td>\n",
       "      <td>Calhoun</td>\n",
       "      <td>County</td>\n",
       "      <td>253.825</td>\n",
       "      <td>Illinois</td>\n",
       "      <td>IL</td>\n",
       "      <td>Midwest</td>\n",
       "      <td>East North Central</td>\n",
       "      <td>5.0</td>\n",
       "      <td>17013</td>\n",
       "      <td>2</td>\n",
       "      <td>U</td>\n",
       "      <td>4411.0</td>\n",
       "      <td>4369.0</td>\n",
       "    </tr>\n",
       "  </tbody>\n",
       "</table>\n",
       "</div>"
      ],
      "text/plain": [
       "     GEO_ID  STATE  COUNTY     NAME    LSAD  CENSUSAREA   State_1 Alpha code  \\\n",
       "217   17069     17      69   Hardin  County     177.528  Illinois         IL   \n",
       "226   17151     17     151     Pope  County     368.770  Illinois         IL   \n",
       "268   17013     17      13  Calhoun  County     253.825  Illinois         IL   \n",
       "\n",
       "      Region            Division  CDC region  FIPS code  2013 code U/R  \\\n",
       "217  Midwest  East North Central         5.0      17069          6   R   \n",
       "226  Midwest  East North Central         5.0      17151          6   R   \n",
       "268  Midwest  East North Central         5.0      17013          2   U   \n",
       "\n",
       "     pop2020  pop2021  \n",
       "217   3634.0   3650.0  \n",
       "226   3744.0   3779.0  \n",
       "268   4411.0   4369.0  "
      ]
     },
     "execution_count": 13,
     "metadata": {},
     "output_type": "execute_result"
    }
   ],
   "source": [
    "#Check how many state does NY has in total\n",
    "AZ_sub = shape_file[shape_file['State_1'] == 'Illinois']\n",
    "print(AZ_sub.shape)\n",
    "AZ_sub.head(3)"
   ]
  },
  {
   "cell_type": "code",
   "execution_count": 15,
   "id": "b808e6cc",
   "metadata": {},
   "outputs": [
    {
     "name": "stdout",
     "output_type": "stream",
     "text": [
      "(86, 6)\n"
     ]
    },
    {
     "data": {
      "text/html": [
       "<div>\n",
       "<style scoped>\n",
       "    .dataframe tbody tr th:only-of-type {\n",
       "        vertical-align: middle;\n",
       "    }\n",
       "\n",
       "    .dataframe tbody tr th {\n",
       "        vertical-align: top;\n",
       "    }\n",
       "\n",
       "    .dataframe thead th {\n",
       "        text-align: right;\n",
       "    }\n",
       "</style>\n",
       "<table border=\"1\" class=\"dataframe\">\n",
       "  <thead>\n",
       "    <tr style=\"text-align: right;\">\n",
       "      <th></th>\n",
       "      <th>GEOID</th>\n",
       "      <th>NAME</th>\n",
       "      <th>LSAD</th>\n",
       "      <th>STATE</th>\n",
       "      <th>State_1</th>\n",
       "      <th>pop2020</th>\n",
       "    </tr>\n",
       "  </thead>\n",
       "  <tbody>\n",
       "    <tr>\n",
       "      <th>795</th>\n",
       "      <td>17185</td>\n",
       "      <td>Wabash</td>\n",
       "      <td>County</td>\n",
       "      <td>17</td>\n",
       "      <td>Illinois</td>\n",
       "      <td>11316.0</td>\n",
       "    </tr>\n",
       "    <tr>\n",
       "      <th>822</th>\n",
       "      <td>17123</td>\n",
       "      <td>Marshall</td>\n",
       "      <td>County</td>\n",
       "      <td>17</td>\n",
       "      <td>Illinois</td>\n",
       "      <td>11691.0</td>\n",
       "    </tr>\n",
       "    <tr>\n",
       "      <th>832</th>\n",
       "      <td>17061</td>\n",
       "      <td>Greene</td>\n",
       "      <td>County</td>\n",
       "      <td>17</td>\n",
       "      <td>Illinois</td>\n",
       "      <td>11915.0</td>\n",
       "    </tr>\n",
       "    <tr>\n",
       "      <th>861</th>\n",
       "      <td>17129</td>\n",
       "      <td>Menard</td>\n",
       "      <td>County</td>\n",
       "      <td>17</td>\n",
       "      <td>Illinois</td>\n",
       "      <td>12265.0</td>\n",
       "    </tr>\n",
       "    <tr>\n",
       "      <th>903</th>\n",
       "      <td>17017</td>\n",
       "      <td>Cass</td>\n",
       "      <td>County</td>\n",
       "      <td>17</td>\n",
       "      <td>Illinois</td>\n",
       "      <td>12956.0</td>\n",
       "    </tr>\n",
       "  </tbody>\n",
       "</table>\n",
       "</div>"
      ],
      "text/plain": [
       "     GEOID      NAME    LSAD  STATE   State_1  pop2020\n",
       "795  17185    Wabash  County     17  Illinois  11316.0\n",
       "822  17123  Marshall  County     17  Illinois  11691.0\n",
       "832  17061    Greene  County     17  Illinois  11915.0\n",
       "861  17129    Menard  County     17  Illinois  12265.0\n",
       "903  17017      Cass  County     17  Illinois  12956.0"
      ]
     },
     "execution_count": 15,
     "metadata": {},
     "output_type": "execute_result"
    }
   ],
   "source": [
    "IL_name_id_pop = shape_file[(shape_file[\"STATE\"] == 17) & (shape_file[\"pop2020\"] > 11000)] \n",
    "\n",
    "rename = {\"GEO_ID\" : \"GEOID\"}\n",
    "IL_name_id_pop = IL_name_id_pop.rename(columns = rename)\n",
    "IL_name_id_pop = IL_name_id_pop[['GEOID', 'NAME','LSAD','STATE','State_1','pop2020']]\n",
    "AZ_name_id_pop['GEOID'] = IL_name_id_pop['GEOID'].apply(lambda x: f\"{int(x):05d}\") \n",
    "print(IL_name_id_pop.shape)\n",
    "IL_name_id_pop.head()"
   ]
  },
  {
   "cell_type": "code",
   "execution_count": 16,
   "id": "196773f4",
   "metadata": {},
   "outputs": [
    {
     "name": "stdout",
     "output_type": "stream",
     "text": [
      "<class 'pandas.core.frame.DataFrame'>\n",
      "Index: 86 entries, 795 to 3105\n",
      "Data columns (total 6 columns):\n",
      " #   Column   Non-Null Count  Dtype  \n",
      "---  ------   --------------  -----  \n",
      " 0   GEOID    86 non-null     int64  \n",
      " 1   NAME     86 non-null     object \n",
      " 2   LSAD     86 non-null     object \n",
      " 3   STATE    86 non-null     int64  \n",
      " 4   State_1  86 non-null     object \n",
      " 5   pop2020  86 non-null     float64\n",
      "dtypes: float64(1), int64(2), object(3)\n",
      "memory usage: 4.7+ KB\n"
     ]
    }
   ],
   "source": [
    "IL_name_id_pop.info()"
   ]
  },
  {
   "cell_type": "code",
   "execution_count": 17,
   "id": "ea0a4760",
   "metadata": {},
   "outputs": [
    {
     "name": "stdout",
     "output_type": "stream",
     "text": [
      "86\n"
     ]
    }
   ],
   "source": [
    "IL_name_id_pop['GEOID'] = IL_name_id_pop['GEOID'].astype(str)\n",
    "#This is the subsetting list!!!-----county list include county of pop less than 11,000---\n",
    "county_list = IL_name_id_pop['GEOID'].tolist() \n",
    "print(len(county_list))"
   ]
  },
  {
   "cell_type": "markdown",
   "id": "360ef5e3",
   "metadata": {},
   "source": [
    "#"
   ]
  },
  {
   "cell_type": "markdown",
   "id": "e00a56a3",
   "metadata": {},
   "source": [
    "# Population Districts \n",
    "- Tracts, Block Groups and Blocks"
   ]
  },
  {
   "cell_type": "markdown",
   "id": "4dc0049d",
   "metadata": {},
   "source": [
    "## Census Block Group"
   ]
  },
  {
   "cell_type": "code",
   "execution_count": 21,
   "id": "7a2fe817",
   "metadata": {},
   "outputs": [
    {
     "data": {
      "text/html": [
       "<div>\n",
       "<style scoped>\n",
       "    .dataframe tbody tr th:only-of-type {\n",
       "        vertical-align: middle;\n",
       "    }\n",
       "\n",
       "    .dataframe tbody tr th {\n",
       "        vertical-align: top;\n",
       "    }\n",
       "\n",
       "    .dataframe thead th {\n",
       "        text-align: right;\n",
       "    }\n",
       "</style>\n",
       "<table border=\"1\" class=\"dataframe\">\n",
       "  <thead>\n",
       "    <tr style=\"text-align: right;\">\n",
       "      <th></th>\n",
       "      <th>STATEFP</th>\n",
       "      <th>COUNTYFP</th>\n",
       "      <th>TRACTCE</th>\n",
       "      <th>BLKGRPCE</th>\n",
       "      <th>GEOID</th>\n",
       "      <th>NAMELSAD</th>\n",
       "      <th>MTFCC</th>\n",
       "      <th>FUNCSTAT</th>\n",
       "      <th>ALAND</th>\n",
       "      <th>AWATER</th>\n",
       "      <th>INTPTLAT</th>\n",
       "      <th>INTPTLON</th>\n",
       "      <th>geometry</th>\n",
       "    </tr>\n",
       "  </thead>\n",
       "  <tbody>\n",
       "    <tr>\n",
       "      <th>0</th>\n",
       "      <td>17</td>\n",
       "      <td>043</td>\n",
       "      <td>841316</td>\n",
       "      <td>1</td>\n",
       "      <td>170438413161</td>\n",
       "      <td>Block Group 1</td>\n",
       "      <td>G5030</td>\n",
       "      <td>S</td>\n",
       "      <td>3149456</td>\n",
       "      <td>85825</td>\n",
       "      <td>+41.9776901</td>\n",
       "      <td>-088.1968528</td>\n",
       "      <td>POLYGON ((-88.20740 41.98733, -88.20728 41.987...</td>\n",
       "    </tr>\n",
       "    <tr>\n",
       "      <th>1</th>\n",
       "      <td>17</td>\n",
       "      <td>043</td>\n",
       "      <td>841403</td>\n",
       "      <td>1</td>\n",
       "      <td>170438414031</td>\n",
       "      <td>Block Group 1</td>\n",
       "      <td>G5030</td>\n",
       "      <td>S</td>\n",
       "      <td>1286384</td>\n",
       "      <td>7410</td>\n",
       "      <td>+41.8646714</td>\n",
       "      <td>-088.1510559</td>\n",
       "      <td>POLYGON ((-88.16152 41.87110, -88.16150 41.871...</td>\n",
       "    </tr>\n",
       "    <tr>\n",
       "      <th>2</th>\n",
       "      <td>17</td>\n",
       "      <td>039</td>\n",
       "      <td>971400</td>\n",
       "      <td>1</td>\n",
       "      <td>170399714001</td>\n",
       "      <td>Block Group 1</td>\n",
       "      <td>G5030</td>\n",
       "      <td>S</td>\n",
       "      <td>119380410</td>\n",
       "      <td>2350925</td>\n",
       "      <td>+40.2200603</td>\n",
       "      <td>-088.6970357</td>\n",
       "      <td>POLYGON ((-88.74649 40.22437, -88.74647 40.226...</td>\n",
       "    </tr>\n",
       "  </tbody>\n",
       "</table>\n",
       "</div>"
      ],
      "text/plain": [
       "  STATEFP COUNTYFP TRACTCE BLKGRPCE         GEOID       NAMELSAD  MTFCC  \\\n",
       "0      17      043  841316        1  170438413161  Block Group 1  G5030   \n",
       "1      17      043  841403        1  170438414031  Block Group 1  G5030   \n",
       "2      17      039  971400        1  170399714001  Block Group 1  G5030   \n",
       "\n",
       "  FUNCSTAT      ALAND   AWATER     INTPTLAT      INTPTLON  \\\n",
       "0        S    3149456    85825  +41.9776901  -088.1968528   \n",
       "1        S    1286384     7410  +41.8646714  -088.1510559   \n",
       "2        S  119380410  2350925  +40.2200603  -088.6970357   \n",
       "\n",
       "                                            geometry  \n",
       "0  POLYGON ((-88.20740 41.98733, -88.20728 41.987...  \n",
       "1  POLYGON ((-88.16152 41.87110, -88.16150 41.871...  \n",
       "2  POLYGON ((-88.74649 40.22437, -88.74647 40.226...  "
      ]
     },
     "execution_count": 21,
     "metadata": {},
     "output_type": "execute_result"
    }
   ],
   "source": [
    "data = []\n",
    "\n",
    "with fiona.open(\"tl_2020_17_bg/tl_2020_17_bg.shp\") as src:\n",
    "    for feature in src:\n",
    "        row = dict(feature['properties'])        # convert to dict\n",
    "        row['geometry'] = shape(feature['geometry'])  # shapely geometry\n",
    "        data.append(row)\n",
    "\n",
    "il_bg_df = pd.DataFrame(data)\n",
    "\n",
    "il_bg_sf = gpd.GeoDataFrame(il_bg_df, geometry='geometry')\n",
    "il_bg_sf.head(3) "
   ]
  },
  {
   "cell_type": "code",
   "execution_count": 10,
   "id": "fc82a5e4",
   "metadata": {
    "scrolled": true
   },
   "outputs": [],
   "source": [
    "#url = \"https://www2.census.gov/geo/tiger/TIGER2021/BG/tl_2021_35_bg.zip\"\n",
    "#ny_bg_sf = gpd.read_file(url)\n",
    "#print(ny_bg_sf.columns)\n",
    "#print(ny_bg_sf.shape)\n",
    "#ny_bg_sf.head(1) "
   ]
  },
  {
   "cell_type": "markdown",
   "id": "f341d09e",
   "metadata": {},
   "source": [
    "## Test: Accquiring Census Block Group Population Data\n",
    "\n",
    "### Instruction generated by ChatGTP:\n",
    "\n",
    "- For New York census block group population data specifically, you can follow these steps:\n",
    "\n",
    "- Go to https://data.census.gov/\n",
    "- In the search bar, type \"population\"\n",
    "- Under \"Geography,\" select \"Block Group\"\n",
    "- Then select \"Washington\" as the state\n",
    "- Choose the counties and block groups you're interested in\n",
    "- Select the appropriate ACS 5-Year Estimates table (the latest available would be best)\n",
    "\n",
    "For population data specifically, look for table B01003 \"Total Population\" which gives you the basic population count.\n",
    "\n",
    "If you want to get Decennial Census Data, Do the same thing and look for Decennial Census, look for P1 Data"
   ]
  },
  {
   "cell_type": "code",
   "execution_count": 22,
   "id": "4322eaec",
   "metadata": {},
   "outputs": [
    {
     "name": "stdout",
     "output_type": "stream",
     "text": [
      "(9897, 5)\n"
     ]
    },
    {
     "data": {
      "text/html": [
       "<div>\n",
       "<style scoped>\n",
       "    .dataframe tbody tr th:only-of-type {\n",
       "        vertical-align: middle;\n",
       "    }\n",
       "\n",
       "    .dataframe tbody tr th {\n",
       "        vertical-align: top;\n",
       "    }\n",
       "\n",
       "    .dataframe thead th {\n",
       "        text-align: right;\n",
       "    }\n",
       "</style>\n",
       "<table border=\"1\" class=\"dataframe\">\n",
       "  <thead>\n",
       "    <tr style=\"text-align: right;\">\n",
       "      <th></th>\n",
       "      <th>GEO_ID</th>\n",
       "      <th>NAME</th>\n",
       "      <th>B01003_001E</th>\n",
       "      <th>B01003_001M</th>\n",
       "      <th>Unnamed: 4</th>\n",
       "    </tr>\n",
       "  </thead>\n",
       "  <tbody>\n",
       "    <tr>\n",
       "      <th>2</th>\n",
       "      <td>1500000US170010001002</td>\n",
       "      <td>Block Group 2, Census Tract 1, Adams County, I...</td>\n",
       "      <td>717</td>\n",
       "      <td>321</td>\n",
       "      <td>NaN</td>\n",
       "    </tr>\n",
       "    <tr>\n",
       "      <th>3</th>\n",
       "      <td>1500000US170010001003</td>\n",
       "      <td>Block Group 3, Census Tract 1, Adams County, I...</td>\n",
       "      <td>648</td>\n",
       "      <td>203</td>\n",
       "      <td>NaN</td>\n",
       "    </tr>\n",
       "    <tr>\n",
       "      <th>4</th>\n",
       "      <td>1500000US170010001004</td>\n",
       "      <td>Block Group 4, Census Tract 1, Adams County, I...</td>\n",
       "      <td>1002</td>\n",
       "      <td>332</td>\n",
       "      <td>NaN</td>\n",
       "    </tr>\n",
       "  </tbody>\n",
       "</table>\n",
       "</div>"
      ],
      "text/plain": [
       "                  GEO_ID                                               NAME  \\\n",
       "2  1500000US170010001002  Block Group 2, Census Tract 1, Adams County, I...   \n",
       "3  1500000US170010001003  Block Group 3, Census Tract 1, Adams County, I...   \n",
       "4  1500000US170010001004  Block Group 4, Census Tract 1, Adams County, I...   \n",
       "\n",
       "  B01003_001E B01003_001M  Unnamed: 4  \n",
       "2         717         321         NaN  \n",
       "3         648         203         NaN  \n",
       "4        1002         332         NaN  "
      ]
     },
     "execution_count": 22,
     "metadata": {},
     "output_type": "execute_result"
    }
   ],
   "source": [
    "bg_pop_raw = pd.read_csv(\"ACSDT5Y2020/ACSDT5Y2020.B01003-Data.csv\")\n",
    "bg_pop_raw = bg_pop_raw.drop(index=[0, 1]) #Drop the first row: first row is the total state population\n",
    "print(bg_pop_raw.shape)\n",
    "bg_pop_raw.head(3)"
   ]
  },
  {
   "cell_type": "code",
   "execution_count": 28,
   "id": "77e73ba7",
   "metadata": {},
   "outputs": [],
   "source": [
    "#After inspect the dataframe, we can observe that there's also state level population included\n",
    "#So we drop them\n",
    "#bg_pop = bg_pop_raw.iloc[39:].copy()\n",
    "#bg_pop.head(3)\n",
    "bg_pop = bg_pop_raw"
   ]
  },
  {
   "cell_type": "code",
   "execution_count": 29,
   "id": "66e4162b",
   "metadata": {},
   "outputs": [
    {
     "data": {
      "text/html": [
       "<div>\n",
       "<style scoped>\n",
       "    .dataframe tbody tr th:only-of-type {\n",
       "        vertical-align: middle;\n",
       "    }\n",
       "\n",
       "    .dataframe tbody tr th {\n",
       "        vertical-align: top;\n",
       "    }\n",
       "\n",
       "    .dataframe thead th {\n",
       "        text-align: right;\n",
       "    }\n",
       "</style>\n",
       "<table border=\"1\" class=\"dataframe\">\n",
       "  <thead>\n",
       "    <tr style=\"text-align: right;\">\n",
       "      <th></th>\n",
       "      <th>GEO_ID</th>\n",
       "      <th>Population</th>\n",
       "    </tr>\n",
       "  </thead>\n",
       "  <tbody>\n",
       "    <tr>\n",
       "      <th>2</th>\n",
       "      <td>1500000US170010001002</td>\n",
       "      <td>717</td>\n",
       "    </tr>\n",
       "    <tr>\n",
       "      <th>3</th>\n",
       "      <td>1500000US170010001003</td>\n",
       "      <td>648</td>\n",
       "    </tr>\n",
       "    <tr>\n",
       "      <th>4</th>\n",
       "      <td>1500000US170010001004</td>\n",
       "      <td>1002</td>\n",
       "    </tr>\n",
       "  </tbody>\n",
       "</table>\n",
       "</div>"
      ],
      "text/plain": [
       "                  GEO_ID Population\n",
       "2  1500000US170010001002        717\n",
       "3  1500000US170010001003        648\n",
       "4  1500000US170010001004       1002"
      ]
     },
     "execution_count": 29,
     "metadata": {},
     "output_type": "execute_result"
    }
   ],
   "source": [
    "bg_pop = bg_pop[['GEO_ID', 'B01003_001E']].copy()\n",
    "rename = {'B01003_001E' : 'Population'}\n",
    "bg_pop  = bg_pop.rename(columns = rename)\n",
    "bg_pop.head(3)"
   ]
  },
  {
   "cell_type": "code",
   "execution_count": 30,
   "id": "0c9f37d8",
   "metadata": {},
   "outputs": [
    {
     "name": "stdout",
     "output_type": "stream",
     "text": [
      "12715022\n"
     ]
    }
   ],
   "source": [
    "bg_pop['Population'] = bg_pop['Population'].astype(int)\n",
    "sum_value = bg_pop['Population'].sum()\n",
    "print(sum_value)"
   ]
  },
  {
   "cell_type": "code",
   "execution_count": 31,
   "id": "4bae5de2",
   "metadata": {},
   "outputs": [
    {
     "data": {
      "text/html": [
       "<div>\n",
       "<style scoped>\n",
       "    .dataframe tbody tr th:only-of-type {\n",
       "        vertical-align: middle;\n",
       "    }\n",
       "\n",
       "    .dataframe tbody tr th {\n",
       "        vertical-align: top;\n",
       "    }\n",
       "\n",
       "    .dataframe thead th {\n",
       "        text-align: right;\n",
       "    }\n",
       "</style>\n",
       "<table border=\"1\" class=\"dataframe\">\n",
       "  <thead>\n",
       "    <tr style=\"text-align: right;\">\n",
       "      <th></th>\n",
       "      <th>GEO_ID</th>\n",
       "      <th>Population</th>\n",
       "      <th>GEOID</th>\n",
       "    </tr>\n",
       "  </thead>\n",
       "  <tbody>\n",
       "    <tr>\n",
       "      <th>2</th>\n",
       "      <td>1500000US170010001002</td>\n",
       "      <td>717</td>\n",
       "      <td>170010001002</td>\n",
       "    </tr>\n",
       "    <tr>\n",
       "      <th>3</th>\n",
       "      <td>1500000US170010001003</td>\n",
       "      <td>648</td>\n",
       "      <td>170010001003</td>\n",
       "    </tr>\n",
       "    <tr>\n",
       "      <th>4</th>\n",
       "      <td>1500000US170010001004</td>\n",
       "      <td>1002</td>\n",
       "      <td>170010001004</td>\n",
       "    </tr>\n",
       "  </tbody>\n",
       "</table>\n",
       "</div>"
      ],
      "text/plain": [
       "                  GEO_ID  Population         GEOID\n",
       "2  1500000US170010001002         717  170010001002\n",
       "3  1500000US170010001003         648  170010001003\n",
       "4  1500000US170010001004        1002  170010001004"
      ]
     },
     "execution_count": 31,
     "metadata": {},
     "output_type": "execute_result"
    }
   ],
   "source": [
    "bg_pop['GEOID'] = bg_pop['GEO_ID'].str[-12:]\n",
    "bg_pop.head(3)"
   ]
  },
  {
   "cell_type": "code",
   "execution_count": 32,
   "id": "730d2e8e",
   "metadata": {},
   "outputs": [
    {
     "name": "stdout",
     "output_type": "stream",
     "text": [
      "<class 'pandas.core.frame.DataFrame'>\n",
      "RangeIndex: 9897 entries, 2 to 9898\n",
      "Data columns (total 3 columns):\n",
      " #   Column      Non-Null Count  Dtype \n",
      "---  ------      --------------  ----- \n",
      " 0   GEO_ID      9897 non-null   object\n",
      " 1   Population  9897 non-null   int64 \n",
      " 2   GEOID       9897 non-null   object\n",
      "dtypes: int64(1), object(2)\n",
      "memory usage: 232.1+ KB\n"
     ]
    }
   ],
   "source": [
    "bg_pop.info()"
   ]
  },
  {
   "cell_type": "code",
   "execution_count": 33,
   "id": "a80d5852",
   "metadata": {},
   "outputs": [
    {
     "name": "stdout",
     "output_type": "stream",
     "text": [
      "(9776, 3)\n"
     ]
    },
    {
     "data": {
      "text/html": [
       "<div>\n",
       "<style scoped>\n",
       "    .dataframe tbody tr th:only-of-type {\n",
       "        vertical-align: middle;\n",
       "    }\n",
       "\n",
       "    .dataframe tbody tr th {\n",
       "        vertical-align: top;\n",
       "    }\n",
       "\n",
       "    .dataframe thead th {\n",
       "        text-align: right;\n",
       "    }\n",
       "</style>\n",
       "<table border=\"1\" class=\"dataframe\">\n",
       "  <thead>\n",
       "    <tr style=\"text-align: right;\">\n",
       "      <th></th>\n",
       "      <th>GEOID</th>\n",
       "      <th>Population</th>\n",
       "      <th>COUNTY</th>\n",
       "    </tr>\n",
       "  </thead>\n",
       "  <tbody>\n",
       "    <tr>\n",
       "      <th>2</th>\n",
       "      <td>170010001002</td>\n",
       "      <td>717</td>\n",
       "      <td>17001</td>\n",
       "    </tr>\n",
       "    <tr>\n",
       "      <th>3</th>\n",
       "      <td>170010001003</td>\n",
       "      <td>648</td>\n",
       "      <td>17001</td>\n",
       "    </tr>\n",
       "    <tr>\n",
       "      <th>4</th>\n",
       "      <td>170010001004</td>\n",
       "      <td>1002</td>\n",
       "      <td>17001</td>\n",
       "    </tr>\n",
       "    <tr>\n",
       "      <th>5</th>\n",
       "      <td>170010001005</td>\n",
       "      <td>1098</td>\n",
       "      <td>17001</td>\n",
       "    </tr>\n",
       "    <tr>\n",
       "      <th>6</th>\n",
       "      <td>170010002011</td>\n",
       "      <td>1037</td>\n",
       "      <td>17001</td>\n",
       "    </tr>\n",
       "  </tbody>\n",
       "</table>\n",
       "</div>"
      ],
      "text/plain": [
       "          GEOID  Population COUNTY\n",
       "2  170010001002         717  17001\n",
       "3  170010001003         648  17001\n",
       "4  170010001004        1002  17001\n",
       "5  170010001005        1098  17001\n",
       "6  170010002011        1037  17001"
      ]
     },
     "execution_count": 33,
     "metadata": {},
     "output_type": "execute_result"
    }
   ],
   "source": [
    "bg_pop = bg_pop[['GEOID', 'Population']].copy()\n",
    "bg_pop['COUNTY'] = bg_pop['GEOID'].str[:5]\n",
    "bg_pop_new = bg_pop[bg_pop['COUNTY'].isin(county_list)]\n",
    "print(bg_pop_new.shape)\n",
    "bg_pop_new.head()"
   ]
  },
  {
   "cell_type": "code",
   "execution_count": 34,
   "id": "e6a7513f",
   "metadata": {},
   "outputs": [
    {
     "name": "stdout",
     "output_type": "stream",
     "text": [
      "86\n"
     ]
    }
   ],
   "source": [
    "print(len(bg_pop_new['COUNTY'].unique()))"
   ]
  },
  {
   "cell_type": "markdown",
   "id": "f4a63bcf",
   "metadata": {},
   "source": [
    "## Merge Data"
   ]
  },
  {
   "cell_type": "code",
   "execution_count": 35,
   "id": "a85b17f9",
   "metadata": {},
   "outputs": [
    {
     "name": "stdout",
     "output_type": "stream",
     "text": [
      "(9776, 15)\n"
     ]
    },
    {
     "data": {
      "text/html": [
       "<div>\n",
       "<style scoped>\n",
       "    .dataframe tbody tr th:only-of-type {\n",
       "        vertical-align: middle;\n",
       "    }\n",
       "\n",
       "    .dataframe tbody tr th {\n",
       "        vertical-align: top;\n",
       "    }\n",
       "\n",
       "    .dataframe thead th {\n",
       "        text-align: right;\n",
       "    }\n",
       "</style>\n",
       "<table border=\"1\" class=\"dataframe\">\n",
       "  <thead>\n",
       "    <tr style=\"text-align: right;\">\n",
       "      <th></th>\n",
       "      <th>STATEFP</th>\n",
       "      <th>COUNTYFP</th>\n",
       "      <th>TRACTCE</th>\n",
       "      <th>BLKGRPCE</th>\n",
       "      <th>GEOID</th>\n",
       "      <th>NAMELSAD</th>\n",
       "      <th>MTFCC</th>\n",
       "      <th>FUNCSTAT</th>\n",
       "      <th>ALAND</th>\n",
       "      <th>AWATER</th>\n",
       "      <th>INTPTLAT</th>\n",
       "      <th>INTPTLON</th>\n",
       "      <th>geometry</th>\n",
       "      <th>Population</th>\n",
       "      <th>COUNTY</th>\n",
       "    </tr>\n",
       "  </thead>\n",
       "  <tbody>\n",
       "    <tr>\n",
       "      <th>0</th>\n",
       "      <td>17</td>\n",
       "      <td>043</td>\n",
       "      <td>841316</td>\n",
       "      <td>1</td>\n",
       "      <td>170438413161</td>\n",
       "      <td>Block Group 1</td>\n",
       "      <td>G5030</td>\n",
       "      <td>S</td>\n",
       "      <td>3149456</td>\n",
       "      <td>85825</td>\n",
       "      <td>+41.9776901</td>\n",
       "      <td>-088.1968528</td>\n",
       "      <td>POLYGON ((-88.20740 41.98733, -88.20728 41.987...</td>\n",
       "      <td>1508</td>\n",
       "      <td>17043</td>\n",
       "    </tr>\n",
       "    <tr>\n",
       "      <th>1</th>\n",
       "      <td>17</td>\n",
       "      <td>043</td>\n",
       "      <td>841403</td>\n",
       "      <td>1</td>\n",
       "      <td>170438414031</td>\n",
       "      <td>Block Group 1</td>\n",
       "      <td>G5030</td>\n",
       "      <td>S</td>\n",
       "      <td>1286384</td>\n",
       "      <td>7410</td>\n",
       "      <td>+41.8646714</td>\n",
       "      <td>-088.1510559</td>\n",
       "      <td>POLYGON ((-88.16152 41.87110, -88.16150 41.871...</td>\n",
       "      <td>1497</td>\n",
       "      <td>17043</td>\n",
       "    </tr>\n",
       "    <tr>\n",
       "      <th>2</th>\n",
       "      <td>17</td>\n",
       "      <td>039</td>\n",
       "      <td>971400</td>\n",
       "      <td>1</td>\n",
       "      <td>170399714001</td>\n",
       "      <td>Block Group 1</td>\n",
       "      <td>G5030</td>\n",
       "      <td>S</td>\n",
       "      <td>119380410</td>\n",
       "      <td>2350925</td>\n",
       "      <td>+40.2200603</td>\n",
       "      <td>-088.6970357</td>\n",
       "      <td>POLYGON ((-88.74649 40.22437, -88.74647 40.226...</td>\n",
       "      <td>1114</td>\n",
       "      <td>17039</td>\n",
       "    </tr>\n",
       "  </tbody>\n",
       "</table>\n",
       "</div>"
      ],
      "text/plain": [
       "  STATEFP COUNTYFP TRACTCE BLKGRPCE         GEOID       NAMELSAD  MTFCC  \\\n",
       "0      17      043  841316        1  170438413161  Block Group 1  G5030   \n",
       "1      17      043  841403        1  170438414031  Block Group 1  G5030   \n",
       "2      17      039  971400        1  170399714001  Block Group 1  G5030   \n",
       "\n",
       "  FUNCSTAT      ALAND   AWATER     INTPTLAT      INTPTLON  \\\n",
       "0        S    3149456    85825  +41.9776901  -088.1968528   \n",
       "1        S    1286384     7410  +41.8646714  -088.1510559   \n",
       "2        S  119380410  2350925  +40.2200603  -088.6970357   \n",
       "\n",
       "                                            geometry  Population COUNTY  \n",
       "0  POLYGON ((-88.20740 41.98733, -88.20728 41.987...        1508  17043  \n",
       "1  POLYGON ((-88.16152 41.87110, -88.16150 41.871...        1497  17043  \n",
       "2  POLYGON ((-88.74649 40.22437, -88.74647 40.226...        1114  17039  "
      ]
     },
     "execution_count": 35,
     "metadata": {},
     "output_type": "execute_result"
    }
   ],
   "source": [
    "tessellation = pd.merge(il_bg_sf, bg_pop_new, on = 'GEOID', how = 'inner')\n",
    "print(tessellation.shape)\n",
    "tessellation.head(3)"
   ]
  },
  {
   "cell_type": "code",
   "execution_count": 36,
   "id": "e83b0a54",
   "metadata": {},
   "outputs": [
    {
     "data": {
      "text/plain": [
       "86"
      ]
     },
     "execution_count": 36,
     "metadata": {},
     "output_type": "execute_result"
    }
   ],
   "source": [
    "len(tessellation['COUNTYFP'].unique())"
   ]
  },
  {
   "cell_type": "code",
   "execution_count": 37,
   "id": "0d4c0e35",
   "metadata": {},
   "outputs": [],
   "source": [
    "#county_list = tessellation['COUNTYFP'].unique().tolist()#\n",
    "#county_list"
   ]
  },
  {
   "cell_type": "markdown",
   "id": "63bdb8d7",
   "metadata": {},
   "source": [
    "#"
   ]
  },
  {
   "cell_type": "markdown",
   "id": "bd3d5ce3",
   "metadata": {},
   "source": [
    "# Individual Trajectory Generation"
   ]
  },
  {
   "cell_type": "code",
   "execution_count": 39,
   "id": "ba65fbcf",
   "metadata": {},
   "outputs": [
    {
     "name": "stdout",
     "output_type": "stream",
     "text": [
      "<class 'geopandas.geodataframe.GeoDataFrame'>\n",
      "Index: 9762 entries, 0 to 9775\n",
      "Data columns (total 3 columns):\n",
      " #   Column      Non-Null Count  Dtype   \n",
      "---  ------      --------------  -----   \n",
      " 0   GEOID       9762 non-null   object  \n",
      " 1   Population  9762 non-null   int64   \n",
      " 2   geometry    9762 non-null   geometry\n",
      "dtypes: geometry(1), int64(1), object(1)\n",
      "memory usage: 305.1+ KB\n",
      "None\n"
     ]
    },
    {
     "data": {
      "text/html": [
       "<div>\n",
       "<style scoped>\n",
       "    .dataframe tbody tr th:only-of-type {\n",
       "        vertical-align: middle;\n",
       "    }\n",
       "\n",
       "    .dataframe tbody tr th {\n",
       "        vertical-align: top;\n",
       "    }\n",
       "\n",
       "    .dataframe thead th {\n",
       "        text-align: right;\n",
       "    }\n",
       "</style>\n",
       "<table border=\"1\" class=\"dataframe\">\n",
       "  <thead>\n",
       "    <tr style=\"text-align: right;\">\n",
       "      <th></th>\n",
       "      <th>GEOID</th>\n",
       "      <th>Population</th>\n",
       "      <th>geometry</th>\n",
       "    </tr>\n",
       "  </thead>\n",
       "  <tbody>\n",
       "    <tr>\n",
       "      <th>0</th>\n",
       "      <td>170438413161</td>\n",
       "      <td>1508</td>\n",
       "      <td>POLYGON ((-88.20740 41.98733, -88.20728 41.987...</td>\n",
       "    </tr>\n",
       "    <tr>\n",
       "      <th>1</th>\n",
       "      <td>170438414031</td>\n",
       "      <td>1497</td>\n",
       "      <td>POLYGON ((-88.16152 41.87110, -88.16150 41.871...</td>\n",
       "    </tr>\n",
       "    <tr>\n",
       "      <th>2</th>\n",
       "      <td>170399714001</td>\n",
       "      <td>1114</td>\n",
       "      <td>POLYGON ((-88.74649 40.22437, -88.74647 40.226...</td>\n",
       "    </tr>\n",
       "  </tbody>\n",
       "</table>\n",
       "</div>"
      ],
      "text/plain": [
       "          GEOID  Population                                           geometry\n",
       "0  170438413161        1508  POLYGON ((-88.20740 41.98733, -88.20728 41.987...\n",
       "1  170438414031        1497  POLYGON ((-88.16152 41.87110, -88.16150 41.871...\n",
       "2  170399714001        1114  POLYGON ((-88.74649 40.22437, -88.74647 40.226..."
      ]
     },
     "execution_count": 39,
     "metadata": {},
     "output_type": "execute_result"
    }
   ],
   "source": [
    "tessellation = tessellation[['GEOID', 'Population', 'geometry']].copy()\n",
    "tessellation = tessellation.loc[tessellation['Population'] != 0].copy()\n",
    "print(tessellation.info())\n",
    "tessellation.head(3)"
   ]
  },
  {
   "cell_type": "markdown",
   "id": "32d954ee",
   "metadata": {},
   "source": [
    "## Density EPR"
   ]
  },
  {
   "cell_type": "code",
   "execution_count": 40,
   "id": "ab1f49b6",
   "metadata": {},
   "outputs": [
    {
     "data": {
      "image/svg+xml": [
       "<svg xmlns=\"http://www.w3.org/2000/svg\" xmlns:xlink=\"http://www.w3.org/1999/xlink\" width=\"100.0\" height=\"100.0\" viewBox=\"-89.15508544 40.14228256 0.20205287999999655 0.1484038800000036\" preserveAspectRatio=\"xMinYMin meet\"><g transform=\"matrix(1,0,0,-1,0,80.432969)\"><path fill-rule=\"evenodd\" fill=\"#66cc99\" stroke=\"#555555\" stroke-width=\"0.004041057599999931\" opacity=\"0.6\" d=\"M -89.14760199999999,40.210184999999996 L -89.14726399999999,40.210193 L -89.145648,40.21018 L -89.14483899999999,40.210183 L -89.14296999999999,40.210173999999995 L -89.141267,40.210164999999996 L -89.138719,40.210125999999995 L -89.137109,40.210119 L -89.134749,40.210093 L -89.134557,40.210091 L -89.12982199999999,40.210056 L -89.12800899999999,40.210052 L -89.127642,40.210059 L -89.127421,40.21008 L -89.126986,40.210136999999996 L -89.126841,40.210147 L -89.126622,40.210152 L -89.12554399999999,40.210149 L -89.125261,40.210144 L -89.124937,40.210128999999995 L -89.124929,40.209922 L -89.12491399999999,40.208745 L -89.124286,40.208752 L -89.12051799999999,40.208825 L -89.120077,40.208844 L -89.119496,40.208895999999996 L -89.118765,40.208919 L -89.116283,40.208956 L -89.115059,40.208976 L -89.111961,40.209027999999996 L -89.110636,40.209044 L -89.11030199999999,40.209057 L -89.11022299999999,40.209027999999996 L -89.110147,40.208981 L -89.110145,40.209159 L -89.11014399999999,40.20952 L -89.110159,40.210026 L -89.11015499999999,40.210314 L -89.10987399999999,40.210322 L -89.107672,40.210373 L -89.10548,40.210432 L -89.105374,40.210434 L -89.10094099999999,40.210533 L -89.10071599999999,40.210539 L -89.098748,40.210589999999996 L -89.09848199999999,40.210595 L -89.097274,40.210618 L -89.09508199999999,40.210682 L -89.092895,40.210732 L -89.08962199999999,40.210801 L -89.08564199999999,40.210896 L -89.085433,40.210895 L -89.084667,40.210922 L -89.08247,40.210969 L -89.080788,40.211014 L -89.080637,40.211014999999996 L -89.079906,40.211036 L -89.076982,40.211103 L -89.075884,40.211133 L -89.074052,40.211169999999996 L -89.07222,40.211214 L -89.070754,40.211242999999996 L -89.069439,40.211273999999996 L -89.06917299999999,40.211287999999996 L -89.066632,40.211349999999996 L -89.065388,40.211374 L -89.063203,40.211431999999995 L -89.06210899999999,40.211467 L -89.057358,40.211572 L -89.053343,40.211673 L -89.051155,40.211725 L -89.05006,40.211756 L -89.047941,40.211805999999996 L -89.047833,40.211811999999995 L -89.047722,40.211811 L -89.04663099999999,40.211827 L -89.043126,40.211855 L -89.041575,40.211866 L -89.04048,40.211877 L -89.038287,40.211887999999995 L -89.036828,40.211903 L -89.035365,40.211912 L -89.032431,40.211943999999995 L -89.03096599999999,40.211963999999995 L -89.02927799999999,40.211977999999995 L -89.029204,40.211984 L -89.02913099999999,40.211995 L -89.029061,40.212013 L -89.02892299999999,40.212081 L -89.028942,40.212531999999996 L -89.02894599999999,40.21653 L -89.02893499999999,40.219443 L -89.02892399999999,40.220169999999996 L -89.028909,40.22199 L -89.02889499999999,40.222716 L -89.02890000000001,40.223518999999996 L -89.028908,40.223592 L -89.02891199999999,40.223737 L -89.028908,40.22381 L -89.02889599999999,40.223881999999996 L -89.028868,40.223949999999995 L -89.028829,40.224011999999995 L -89.028685,40.224154999999996 L -89.028674,40.224166 L -89.028626,40.224222999999995 L -89.028582,40.224294 L -89.028559,40.224353 L -89.02853999999999,40.224497 L -89.028556,40.225173 L -89.02857499999999,40.225955 L -89.02861899999999,40.228142 L -89.028649,40.230325 L -89.028674,40.231199 L -89.028706,40.231553999999996 L -89.02877,40.231553 L -89.02879399999999,40.231758 L -89.02884399999999,40.233793999999996 L -89.02887799999999,40.234885999999996 L -89.028914,40.236709999999995 L -89.028925,40.237437 L -89.028978,40.239618 L -89.02896799999999,40.239762 L -89.028972,40.239906999999995 L -89.02899,40.240199 L -89.029001,40.240635 L -89.02899099999999,40.24078 L -89.028973,40.240925 L -89.028948,40.241068 L -89.02888899999999,40.241354 L -89.028851,40.241641 L -89.028847,40.241786999999995 L -89.02884999999999,40.242152999999995 L -89.028899,40.243609 L -89.02894099999999,40.2447 L -89.02899099999999,40.245794 L -89.029032,40.246521 L -89.02910299999999,40.247608 L -89.02913199999999,40.248701 L -89.029174,40.250884 L -89.029195,40.252336 L -89.02921599999999,40.253208 L -89.02922199999999,40.253364999999995 L -89.029237,40.253495 L -89.029252,40.254219 L -89.029257,40.254428 L -89.02937299999999,40.258948 L -89.02939599999999,40.259676 L -89.029405,40.260183 L -89.029477,40.261849999999995 L -89.02957699999999,40.262865 L -89.029614,40.263152999999996 L -89.02962199999999,40.263297 L -89.029612,40.263580999999995 L -89.029617,40.263728 L -89.029645,40.263797 L -89.029662,40.263815 L -89.029697,40.26385 L -89.029759,40.263887 L -89.02981,40.263937 L -89.029838,40.264001 L -89.029839,40.264072999999996 L -89.02982999999999,40.264145 L -89.02971099999999,40.264714999999995 L -89.029674,40.264931 L -89.029668,40.265004 L -89.02966599999999,40.26515 L -89.02970499999999,40.266458 L -89.029721,40.266821 L -89.029719,40.26792 L -89.03278999999999,40.267914999999995 L -89.033884,40.267914 L -89.03403,40.26792 L -89.03413599999999,40.267947 L -89.034221,40.267998 L -89.034279,40.268059 L -89.03430499999999,40.268135 L -89.034324,40.268252 L -89.03608799999999,40.268285 L -89.039733,40.26833 L -89.04301099999999,40.268384 L -89.043595,40.268389 L -89.043746,40.268391 L -89.043863,40.268391 L -89.04406999999999,40.271797 L -89.044084,40.271867 L -89.044119,40.271929 L -89.044178,40.271969 L -89.04424499999999,40.271992 L -89.044315,40.271997 L -89.044386,40.271988 L -89.04453199999999,40.271986999999996 L -89.044894,40.272002 L -89.04525799999999,40.272011 L -89.04671499999999,40.272026 L -89.048543,40.272056 L -89.049668,40.272068999999995 L -89.050883,40.272084 L -89.052554,40.272104 L -89.053282,40.272110999999995 L -89.054011,40.272107 L -89.055836,40.272076999999996 L -89.056929,40.272054 L -89.058019,40.27202 L -89.058441,40.272016 L -89.05848399999999,40.273444999999995 L -89.058577,40.275262999999995 L -89.058589,40.275689 L -89.05870499999999,40.277946 L -89.058751,40.278673 L -89.058824,40.280125 L -89.05885599999999,40.28085 L -89.058846,40.280923 L -89.058818,40.280992 L -89.058768,40.281045999999996 L -89.058711,40.281093 L -89.05869899999999,40.281096999999995 L -89.057073,40.281461 L -89.056659,40.281552999999995 L -89.05594099999999,40.281706 L -89.055444,40.281819 L -89.055306,40.281869 L -89.055238,40.281901 L -89.055178,40.281946 L -89.055127,40.281998 L -89.055092,40.282061999999996 L -89.055065,40.282129999999995 L -89.05500099999999,40.282342 L -89.05496699999999,40.282405 L -89.05493899999999,40.282472 L -89.054858,40.282593999999996 L -89.054811,40.282646 L -89.054757,40.282695 L -89.054695,40.282733 L -89.05462899999999,40.282767 L -89.05442699999999,40.282849 L -89.05429699999999,40.282916 L -89.05424,40.282962999999995 L -89.05419599999999,40.283021999999995 L -89.054163,40.283088 L -89.054154,40.283125 L -89.052067,40.283159 L -89.051339,40.283127 L -89.048828,40.283069 L -89.04430099999999,40.282987 L -89.04239299999999,40.282951 L -89.040696,40.28292 L -89.03969599999999,40.282902 L -89.039373,40.282928 L -89.034711,40.282796999999995 L -89.03470899999999,40.282731 L -89.02805099999999,40.282728 L -89.028025,40.282728 L -89.018168,40.28265 L -89.017371,40.282665 L -89.016061,40.282688 L -89.01604499999999,40.282688 L -89.015603,40.282697999999996 L -89.01270000000001,40.282668 L -89.006704,40.282618 L -89.000164,40.282542 L -88.99671599999999,40.282613999999995 L -88.996697,40.282613999999995 L -88.977952,40.283203 L -88.977392,40.283192 L -88.977372,40.282292 L -88.97709499999999,40.27295 L -88.977057,40.271853 L -88.977021,40.26995 L -88.977008,40.267759999999996 L -88.977021,40.267029 L -88.97708899999999,40.264843 L -88.977096,40.264638 L -88.977145,40.262958 L -88.97719599999999,40.261496 L -88.977217,40.260765 L -88.977218,40.260709 L -88.97723099999999,40.260039 L -88.97722999999999,40.259744999999995 L -88.977228,40.259425 L -88.97718499999999,40.258379999999995 L -88.976991,40.255879 L -88.97697,40.25557 L -88.976958,40.255382999999995 L -88.976897,40.254661 L -88.97685899999999,40.253909 L -88.976852,40.25355 L -88.97681399999999,40.252621 L -88.976787,40.251889999999996 L -88.976777,40.251284 L -88.97677399999999,40.251090999999995 L -88.97674699999999,40.250333 L -88.976734,40.249862 L -88.976726,40.249555 L -88.976699,40.24751 L -88.97667899999999,40.246454 L -88.97664499999999,40.245498999999995 L -88.976638,40.244619 L -88.976584,40.242446 L -88.976557,40.241558999999995 L -88.97654399999999,40.240252999999996 L -88.976523,40.239731 L -88.97647599999999,40.239284 L -88.976449,40.239095 L -88.976434,40.23889 L -88.97634699999999,40.238454 L -88.976308,40.238299 L -88.976143,40.237697999999995 L -88.976085,40.237542999999995 L -88.976027,40.237407999999995 L -88.97594,40.237175 L -88.975872,40.23701 L -88.97575599999999,40.236768 L -88.975568,40.236413 L -88.975465,40.236205999999996 L -88.975365,40.236041 L -88.97526599999999,40.235895 L -88.975172,40.235741999999995 L -88.97484899999999,40.235282 L -88.97475999999999,40.235163 L -88.974662,40.23505 L -88.974497,40.234840999999996 L -88.974265,40.234578 L -88.973883,40.234173999999996 L -88.97338099999999,40.233695 L -88.973027,40.233402999999996 L -88.972915,40.233315 L -88.97264899999999,40.233104 L -88.972387,40.232915 L -88.972241,40.23282 L -88.97210299999999,40.232718 L -88.97187699999999,40.232586 L -88.97175999999999,40.232506 L -88.971569,40.232395 L -88.971068,40.232092 L -88.97098799999999,40.232036 L -88.97090299999999,40.231983 L -88.970547,40.231791 L -88.970411,40.231708999999995 L -88.97027399999999,40.231634 L -88.96994699999999,40.231432999999996 L -88.969788,40.231338 L -88.969459,40.231123 L -88.969206,40.230944 L -88.96889499999999,40.230715 L -88.968773,40.230616999999995 L -88.968651,40.230528 L -88.968397,40.230323 L -88.968153,40.230111 L -88.96802,40.229985 L -88.96794799999999,40.229907 L -88.96785,40.229817 L -88.96743,40.229375999999995 L -88.967192,40.229096 L -88.96696899999999,40.22882 L -88.96688999999999,40.228722 L -88.966802,40.228595 L -88.966715,40.228459 L -88.96663199999999,40.228336 L -88.966464,40.228083999999996 L -88.96641199999999,40.228006 L -88.96634399999999,40.227891 L -88.96629399999999,40.227805 L -88.96621499999999,40.227671 L -88.965969,40.227167 L -88.965913,40.22703 L -88.965862,40.226918999999995 L -88.96570799999999,40.226532 L -88.965656,40.226389999999995 L -88.96559599999999,40.226227 L -88.965536,40.226017 L -88.96548399999999,40.225835 L -88.965434,40.225611 L -88.96540999999999,40.225473 L -88.965338,40.225099 L -88.965323,40.224995 L -88.96526399999999,40.224714 L -88.965199,40.224337999999996 L -88.965182,40.224221 L -88.965141,40.223942 L -88.964895,40.222468 L -88.964781,40.221671 L -88.9646,40.220406 L -88.96449,40.219525999999995 L -88.96417799999999,40.217299 L -88.964086,40.216674999999995 L -88.964062,40.216541 L -88.96396999999999,40.216007999999995 L -88.963865,40.215485 L -88.963734,40.214769 L -88.96366499999999,40.214400000000005 L -88.963588,40.214099 L -88.963478,40.213746 L -88.963419,40.213597 L -88.96324299999999,40.213235999999995 L -88.96302899999999,40.212874 L -88.96229199999999,40.211784 L -88.9621,40.211459999999995 L -88.96195999999999,40.211195 L -88.961835,40.210907 L -88.96169499999999,40.210487 L -88.961607,40.210097 L -88.96155499999999,40.209787 L -88.961511,40.209463 L -88.9614,40.208726 L -88.961305,40.208012 L -88.961106,40.206685 L -88.960966,40.205303 L -88.960866,40.204575999999996 L -88.960759,40.203852 L -88.96066499999999,40.203136 L -88.96063699999999,40.202768999999996 L -88.96060399999999,40.202034999999995 L -88.960601,40.201521 L -88.960607,40.20079 L -88.96060399999999,40.199326 L -88.960611,40.198743 L -88.960607,40.196549999999995 L -88.960613,40.192656 L -88.960607,40.189926 L -88.960605,40.18924 L -88.960601,40.184154 L -88.96060399999999,40.181961 L -88.960601,40.180504 L -88.96060399999999,40.179777 L -88.960641,40.17905 L -88.960769,40.178334 L -88.960979,40.177641 L -88.961083,40.177368 L -88.961202,40.177101 L -88.961366,40.176776 L -88.96150999999999,40.176525 L -88.961781,40.176093 L -88.96203899999999,40.175742 L -88.962226,40.175517 L -88.962518,40.175196 L -88.962717,40.174987 L -88.96255099999999,40.174837 L -88.962476,40.174689 L -88.962149,40.174346 L -88.96187499999999,40.174071999999995 L -88.961574,40.173761999999996 L -88.961337,40.173508 L -88.961191,40.173319 L -88.961066,40.173148 L -88.960957,40.172937999999995 L -88.960798,40.17261 L -88.960713,40.172359 L -88.960611,40.172140999999996 L -88.96054199999999,40.171732 L -88.96052399999999,40.171448999999996 L -88.960521,40.171236 L -88.96052,40.170255 L -88.96052,40.169683 L -88.960516,40.169357999999995 L -88.960858,40.169360999999995 L -88.961243,40.169354 L -88.961263,40.169353 L -88.962079,40.169326 L -88.96300099999999,40.1693 L -88.963658,40.169291 L -88.964306,40.169273 L -88.965276,40.169249 L -88.966527,40.169208 L -88.96928299999999,40.169137 L -88.969956,40.169124 L -88.97003,40.169123 L -88.97011599999999,40.169121 L -88.970118,40.168935999999995 L -88.970128,40.167971 L -88.970135,40.166427999999996 L -88.970123,40.165932 L -88.970107,40.165721 L -88.97005399999999,40.165439 L -88.970029,40.165298 L -88.970016,40.165084 L -88.970007,40.164014 L -88.970005,40.163529 L -88.97000899999999,40.16308 L -88.970011,40.162831 L -88.97000799999999,40.162619 L -88.970012,40.162557 L -88.97000899999999,40.162264 L -88.970018,40.162119 L -88.970073,40.16169 L -88.970097,40.161476 L -88.970112,40.161121 L -88.970125,40.160484 L -88.970123,40.159999 L -88.970128,40.159918 L -88.97012099999999,40.158999 L -88.970118,40.158823 L -88.970109,40.158235999999995 L -88.970113,40.158038 L -88.970203,40.158027 L -88.970292,40.158027 L -88.970699,40.158010999999995 L -88.971144,40.158001 L -88.971904,40.157986 L -88.972504,40.157972 L -88.973287,40.157954 L -88.97384,40.157936 L -88.974762,40.15791 L -88.97551299999999,40.157900000000005 L -88.97576099999999,40.157897 L -88.97616099999999,40.157885 L -88.976163,40.157816 L -88.976165,40.157755 L -88.97616699999999,40.157689999999995 L -88.97616099999999,40.157392 L -88.976162,40.157177999999995 L -88.976153,40.15668 L -88.976143,40.156538999999995 L -88.97604299999999,40.155975999999995 L -88.97599799999999,40.155622 L -88.97594,40.154917 L -88.975914,40.154429 L -88.975901,40.154361 L -88.975856,40.154295999999995 L -88.975782,40.154247999999995 L -88.97569299999999,40.154219999999995 L -88.975601,40.154216999999996 L -88.97545799999999,40.154207 L -88.97541199999999,40.154205999999995 L -88.975031,40.154218 L -88.974986,40.154216999999996 L -88.97487799999999,40.154213 L -88.974847,40.154212 L -88.97466299999999,40.154191999999995 L -88.974594,40.15418 L -88.974392,40.154143999999995 L -88.974218,40.154097 L -88.97404999999999,40.154041 L -88.973889,40.153974999999996 L -88.973734,40.153898999999996 L -88.97358799999999,40.153813 L -88.973518,40.153766999999995 L -88.973316,40.153621 L -88.97312,40.15347 L -88.972922,40.153326 L -88.97285,40.153281 L -88.972697,40.153205 L -88.972534,40.153138999999996 L -88.97228199999999,40.153051 L -88.97188799999999,40.152923 L -88.971288,40.152713 L -88.971024,40.152620999999996 L -88.97089,40.152570999999995 L -88.970867,40.152561999999996 L -88.970621,40.152445 L -88.97071199999999,40.152425 L -88.970794,40.152401 L -88.970952,40.152341 L -88.971434,40.152141 L -88.971676,40.152038 L -88.972471,40.151674 L -88.972871,40.151496 L -88.973012,40.151407999999996 L -88.973075,40.151357 L -88.973185,40.151244999999996 L -88.973233,40.151185 L -88.973359,40.150997 L -88.97384,40.150314 L -88.97408,40.149989999999995 L -88.974245,40.149766 L -88.97444999999999,40.149848999999996 L -88.97457,40.149888 L -88.97494999999999,40.150037 L -88.975028,40.150071 L -88.97583999999999,40.150403999999995 L -88.976258,40.150576 L -88.976569,40.150704 L -88.976946,40.150856 L -88.977302,40.150999 L -88.978194,40.151362999999996 L -88.978347,40.151421 L -88.9786,40.151531999999996 L -88.979733,40.151992 L -88.980513,40.152308999999995 L -88.98112599999999,40.152561999999996 L -88.98141799999999,40.152678 L -88.981782,40.152822 L -88.982265,40.153006 L -88.98236,40.15304 L -88.982609,40.153130999999995 L -88.982863,40.153214 L -88.98312299999999,40.153287999999996 L -88.983299,40.153331 L -88.983477,40.153369 L -88.98375,40.15341 L -88.984049,40.153466 L -88.984202,40.153495 L -88.98468299999999,40.153600000000004 L -88.98496399999999,40.15365 L -88.985461,40.153739 L -88.98598799999999,40.153833 L -88.98616899999999,40.15386 L -88.986442,40.153893 L -88.986813,40.153928 L -88.987202,40.153949999999995 L -88.98745799999999,40.153954 L -88.987629,40.153953 L -88.98789699999999,40.153939 L -88.990101,40.153891 L -88.990602,40.153883 L -88.99074,40.153881 L -88.992234,40.153853 L -88.995657,40.153783 L -88.996026,40.153777 L -88.996118,40.153772 L -88.998137,40.153735999999995 L -89.002288,40.153650999999996 L -89.002704,40.153644 L -89.00330699999999,40.153635 L -89.00349299999999,40.153628 L -89.00423099999999,40.153613 L -89.005431,40.153594999999996 L -89.01125499999999,40.153472 L -89.012382,40.153456 L -89.01276299999999,40.153448 L -89.013151,40.153448 L -89.01339399999999,40.153445 L -89.014197,40.15342 L -89.01616,40.153378 L -89.017397,40.153352999999996 L -89.017662,40.153345 L -89.01946199999999,40.153344 L -89.02165199999999,40.153296999999995 L -89.022098,40.153286 L -89.023111,40.153261 L -89.02458,40.15323 L -89.026039,40.153191 L -89.02641899999999,40.153182 L -89.027014,40.153169 L -89.02887799999999,40.153127 L -89.02889499999999,40.153127 L -89.029095,40.153124 L -89.03101799999999,40.153102 L -89.03174299999999,40.153076 L -89.03322299999999,40.15305 L -89.033655,40.153034999999996 L -89.034694,40.153014 L -89.036152,40.152978999999995 L -89.04178,40.152868 L -89.04193699999999,40.152868 L -89.042991,40.152846 L -89.044786,40.152809 L -89.04625,40.152784 L -89.047843,40.15275 L -89.049487,40.152727 L -89.05386399999999,40.15264 L -89.05513599999999,40.152617 L -89.055328,40.152612999999995 L -89.05677299999999,40.152592 L -89.059675,40.152539999999995 L -89.061847,40.152494999999995 L -89.062097,40.152493 L -89.065798,40.152426 L -89.06664599999999,40.152411 L -89.07100899999999,40.152336999999996 L -89.071738,40.152329 L -89.07320299999999,40.152301 L -89.074658,40.152277999999995 L -89.07902899999999,40.152198 L -89.08231099999999,40.152145999999995 L -89.083767,40.152113 L -89.085865,40.152076 L -89.087553,40.152044 L -89.08863799999999,40.152018999999996 L -89.088858,40.152014 L -89.088926,40.152009 L -89.089226,40.151983 L -89.089592,40.151984 L -89.09022399999999,40.151973 L -89.090468,40.151964 L -89.090684,40.151962 L -89.091382,40.151942999999996 L -89.091527,40.151941 L -89.091734,40.151939999999996 L -89.092691,40.151917999999995 L -89.09280199999999,40.151917999999995 L -89.094158,40.151894 L -89.09541,40.151872 L -89.098428,40.151818 L -89.10018,40.151779 L -89.101754,40.151714999999996 L -89.10320999999999,40.151647 L -89.10406599999999,40.151603 L -89.104303,40.151590999999996 L -89.104522,40.151584 L -89.10459499999999,40.151585999999995 L -89.10514599999999,40.151574 L -89.105862,40.151557 L -89.10605699999999,40.151553 L -89.10826999999999,40.151537 L -89.10896799999999,40.151531999999996 L -89.109337,40.151534 L -89.10947499999999,40.151529 L -89.110469,40.15153 L -89.110689,40.151528 L -89.11171399999999,40.151523 L -89.116638,40.151499 L -89.119717,40.151478 L -89.122851,40.151461999999995 L -89.12431199999999,40.151451 L -89.124459,40.151455999999996 L -89.124651,40.151455999999996 L -89.127286,40.151441 L -89.13377,40.151405 L -89.13393099999999,40.151402999999995 L -89.13467299999999,40.151401 L -89.13559699999999,40.151398 L -89.137998,40.151384 L -89.13947,40.15137 L -89.140841,40.151361 L -89.142399,40.151351999999996 L -89.14312699999999,40.151340999999995 L -89.143423,40.151331 L -89.14349399999999,40.151322 L -89.14495199999999,40.151244999999996 L -89.14611,40.151140999999996 L -89.14627899999999,40.151120999999996 L -89.14627899999999,40.151509 L -89.14628599999999,40.151863 L -89.146329,40.153932 L -89.14635299999999,40.155187 L -89.146366,40.155775 L -89.146388,40.156845 L -89.14640399999999,40.157665 L -89.146422,40.158896 L -89.14643199999999,40.160188 L -89.146445,40.160613 L -89.14647599999999,40.162034999999996 L -89.14648199999999,40.162515 L -89.14648199999999,40.162529 L -89.14649,40.163101 L -89.146504,40.163747 L -89.146507,40.164105 L -89.14652799999999,40.165555999999995 L -89.14652799999999,40.165568 L -89.146531,40.165655 L -89.146532,40.165695 L -89.146552,40.166149999999995 L -89.146554,40.166198 L -89.146598,40.167423 L -89.146614,40.16844 L -89.146643,40.169452 L -89.14666799999999,40.170394 L -89.146709,40.171980999999995 L -89.146743,40.173271 L -89.146783,40.174907 L -89.146795,40.175461 L -89.146808,40.175878999999995 L -89.146806,40.175941 L -89.146838,40.177409999999995 L -89.146839,40.177434999999996 L -89.14684,40.177503 L -89.146866,40.178177999999996 L -89.14689399999999,40.17942 L -89.146897,40.179815999999995 L -89.14689399999999,40.180051 L -89.14689299999999,40.180096 L -89.146889,40.180287 L -89.1469,40.180665999999995 L -89.146902,40.180735 L -89.146903,40.180783 L -89.14697,40.183068 L -89.147003,40.184298 L -89.147013,40.18495 L -89.147061,40.18687 L -89.147075,40.187082 L -89.147126,40.187509999999996 L -89.147143,40.187718 L -89.147149,40.188002999999995 L -89.147142,40.188168999999995 L -89.147122,40.188649 L -89.14711899999999,40.189011 L -89.147183,40.191731 L -89.147198,40.192533999999995 L -89.14724,40.194863 L -89.147251,40.195377 L -89.147258,40.195671999999995 L -89.147303,40.197263 L -89.14731599999999,40.198035999999995 L -89.147328,40.198518 L -89.147335,40.199045999999996 L -89.14735,40.199366 L -89.14736099999999,40.199697 L -89.147373,40.200161 L -89.14739,40.200813 L -89.147395,40.201423999999996 L -89.147408,40.201833 L -89.147408,40.201848 L -89.147431,40.202644 L -89.147448,40.203569 L -89.147488,40.204972999999995 L -89.147503,40.206005999999995 L -89.14752399999999,40.2068 L -89.147539,40.207662 L -89.14757399999999,40.209272 L -89.14757399999999,40.209286999999996 L -89.147594,40.209716 L -89.147596,40.210001 L -89.147601,40.210159999999995 L -89.14760199999999,40.210184999999996 z\" /></g></svg>"
      ],
      "text/plain": [
       "<POLYGON ((-89.148 40.21, -89.147 40.21, -89.146 40.21, -89.145 40.21, -89.1...>"
      ]
     },
     "execution_count": 40,
     "metadata": {},
     "output_type": "execute_result"
    }
   ],
   "source": [
    "tessellation.iloc[6,2]"
   ]
  },
  {
   "cell_type": "markdown",
   "id": "9e0bb2d5",
   "metadata": {},
   "source": [
    "### This Takes 3 hours to run"
   ]
  },
  {
   "cell_type": "code",
   "execution_count": 48,
   "id": "e917ec79",
   "metadata": {},
   "outputs": [
    {
     "name": "stderr",
     "output_type": "stream",
     "text": [
      "/Users/wendyshi2001/anaconda3/envs/skmob/lib/python3.9/site-packages/geopandas/geoseries.py:574: FutureWarning: the convert_dtype parameter is deprecated and will be removed in a future version.  Do ``ser.astype(object).apply()`` instead if you want ``convert_dtype=False``.\n",
      "  result = super().apply(func, convert_dtype=convert_dtype, args=args, **kwargs)\n",
      "  0%|                                                 | 0/10000 [00:00<?, ?it/s]/Users/wendyshi2001/anaconda3/envs/skmob/lib/python3.9/site-packages/skmob/models/gravity.py:43: RuntimeWarning: divide by zero encountered in power\n",
      "  return np.power(x, exponent)\n",
      "100%|█████████████████████████████████████| 10000/10000 [29:25<00:00,  5.67it/s]\n"
     ]
    }
   ],
   "source": [
    "start_time = pd.to_datetime('2020/03/01 00:00:00')\n",
    "end_time = pd.to_datetime('2020/03/30 23:59:59')\n",
    "depr = DensityEPR()\n",
    "tdf = depr.generate(start_time, \n",
    "                    end_time, \n",
    "                    tessellation, \n",
    "                    relevance_column='Population', #Take population into account\n",
    "                    n_agents=10000, \n",
    "                    show_progress=True)"
   ]
  },
  {
   "cell_type": "code",
   "execution_count": 49,
   "id": "81f5c6c9",
   "metadata": {},
   "outputs": [],
   "source": [
    "tdf.to_csv(\"IL_4Week_10000_realpop.csv\")"
   ]
  },
  {
   "cell_type": "markdown",
   "id": "6a08713d",
   "metadata": {},
   "source": [
    "#"
   ]
  },
  {
   "cell_type": "markdown",
   "id": "ce9a9466",
   "metadata": {},
   "source": [
    "#"
   ]
  },
  {
   "cell_type": "markdown",
   "id": "14b18ce2",
   "metadata": {},
   "source": [
    "# Visualizations"
   ]
  },
  {
   "cell_type": "code",
   "execution_count": 50,
   "id": "849ba117",
   "metadata": {},
   "outputs": [
    {
     "name": "stdout",
     "output_type": "stream",
     "text": [
      "(474, 4)\n"
     ]
    },
    {
     "data": {
      "text/html": [
       "<div>\n",
       "<style scoped>\n",
       "    .dataframe tbody tr th:only-of-type {\n",
       "        vertical-align: middle;\n",
       "    }\n",
       "\n",
       "    .dataframe tbody tr th {\n",
       "        vertical-align: top;\n",
       "    }\n",
       "\n",
       "    .dataframe thead th {\n",
       "        text-align: right;\n",
       "    }\n",
       "</style>\n",
       "<table border=\"1\" class=\"dataframe\">\n",
       "  <thead>\n",
       "    <tr style=\"text-align: right;\">\n",
       "      <th></th>\n",
       "      <th>uid</th>\n",
       "      <th>datetime</th>\n",
       "      <th>lat</th>\n",
       "      <th>lng</th>\n",
       "    </tr>\n",
       "  </thead>\n",
       "  <tbody>\n",
       "    <tr>\n",
       "      <th>0</th>\n",
       "      <td>5</td>\n",
       "      <td>2020-03-01 00:00:00.000000</td>\n",
       "      <td>41.896776</td>\n",
       "      <td>-87.753807</td>\n",
       "    </tr>\n",
       "    <tr>\n",
       "      <th>1</th>\n",
       "      <td>5</td>\n",
       "      <td>2020-03-01 00:56:03.010841</td>\n",
       "      <td>41.831380</td>\n",
       "      <td>-87.789194</td>\n",
       "    </tr>\n",
       "    <tr>\n",
       "      <th>2</th>\n",
       "      <td>5</td>\n",
       "      <td>2020-03-01 01:48:36.009937</td>\n",
       "      <td>41.896776</td>\n",
       "      <td>-87.753807</td>\n",
       "    </tr>\n",
       "    <tr>\n",
       "      <th>3</th>\n",
       "      <td>5</td>\n",
       "      <td>2020-03-01 02:22:07.963113</td>\n",
       "      <td>41.831380</td>\n",
       "      <td>-87.789194</td>\n",
       "    </tr>\n",
       "    <tr>\n",
       "      <th>4</th>\n",
       "      <td>5</td>\n",
       "      <td>2020-03-01 12:22:39.560320</td>\n",
       "      <td>41.835829</td>\n",
       "      <td>-87.789680</td>\n",
       "    </tr>\n",
       "  </tbody>\n",
       "</table>\n",
       "</div>"
      ],
      "text/plain": [
       "   uid                   datetime        lat        lng\n",
       "0    5 2020-03-01 00:00:00.000000  41.896776 -87.753807\n",
       "1    5 2020-03-01 00:56:03.010841  41.831380 -87.789194\n",
       "2    5 2020-03-01 01:48:36.009937  41.896776 -87.753807\n",
       "3    5 2020-03-01 02:22:07.963113  41.831380 -87.789194\n",
       "4    5 2020-03-01 12:22:39.560320  41.835829 -87.789680"
      ]
     },
     "execution_count": 50,
     "metadata": {},
     "output_type": "execute_result"
    }
   ],
   "source": [
    "#data = ditras_tdf\n",
    "data = tdf\n",
    "person1 = data[data[\"uid\"] == 5].copy().reset_index()\n",
    "person1 = person1.drop(columns = 'index')\n",
    "print(person1.shape)\n",
    "person1.head(5)"
   ]
  },
  {
   "cell_type": "code",
   "execution_count": 51,
   "id": "7df0a4aa",
   "metadata": {},
   "outputs": [
    {
     "data": {
      "text/html": [
       "<div style=\"width:100%;\"><div style=\"position:relative;width:100%;height:0;padding-bottom:60%;\"><span style=\"color:#565656\">Make this Notebook Trusted to load map: File -> Trust Notebook</span><iframe srcdoc=\"&lt;!DOCTYPE html&gt;\n",
       "&lt;html&gt;\n",
       "&lt;head&gt;\n",
       "    \n",
       "    &lt;meta http-equiv=&quot;content-type&quot; content=&quot;text/html; charset=UTF-8&quot; /&gt;\n",
       "    \n",
       "        &lt;script&gt;\n",
       "            L_NO_TOUCH = false;\n",
       "            L_DISABLE_3D = false;\n",
       "        &lt;/script&gt;\n",
       "    \n",
       "    &lt;style&gt;html, body {width: 100%;height: 100%;margin: 0;padding: 0;}&lt;/style&gt;\n",
       "    &lt;style&gt;#map {position:absolute;top:0;bottom:0;right:0;left:0;}&lt;/style&gt;\n",
       "    &lt;script src=&quot;https://cdn.jsdelivr.net/npm/leaflet@1.9.3/dist/leaflet.js&quot;&gt;&lt;/script&gt;\n",
       "    &lt;script src=&quot;https://code.jquery.com/jquery-3.7.1.min.js&quot;&gt;&lt;/script&gt;\n",
       "    &lt;script src=&quot;https://cdn.jsdelivr.net/npm/bootstrap@5.2.2/dist/js/bootstrap.bundle.min.js&quot;&gt;&lt;/script&gt;\n",
       "    &lt;script src=&quot;https://cdnjs.cloudflare.com/ajax/libs/Leaflet.awesome-markers/2.0.2/leaflet.awesome-markers.js&quot;&gt;&lt;/script&gt;\n",
       "    &lt;link rel=&quot;stylesheet&quot; href=&quot;https://cdn.jsdelivr.net/npm/leaflet@1.9.3/dist/leaflet.css&quot;/&gt;\n",
       "    &lt;link rel=&quot;stylesheet&quot; href=&quot;https://cdn.jsdelivr.net/npm/bootstrap@5.2.2/dist/css/bootstrap.min.css&quot;/&gt;\n",
       "    &lt;link rel=&quot;stylesheet&quot; href=&quot;https://netdna.bootstrapcdn.com/bootstrap/3.0.0/css/bootstrap-glyphicons.css&quot;/&gt;\n",
       "    &lt;link rel=&quot;stylesheet&quot; href=&quot;https://cdn.jsdelivr.net/npm/@fortawesome/fontawesome-free@6.2.0/css/all.min.css&quot;/&gt;\n",
       "    &lt;link rel=&quot;stylesheet&quot; href=&quot;https://cdnjs.cloudflare.com/ajax/libs/Leaflet.awesome-markers/2.0.2/leaflet.awesome-markers.css&quot;/&gt;\n",
       "    &lt;link rel=&quot;stylesheet&quot; href=&quot;https://cdn.jsdelivr.net/gh/python-visualization/folium/folium/templates/leaflet.awesome.rotate.min.css&quot;/&gt;\n",
       "    \n",
       "            &lt;meta name=&quot;viewport&quot; content=&quot;width=device-width,\n",
       "                initial-scale=1.0, maximum-scale=1.0, user-scalable=no&quot; /&gt;\n",
       "            &lt;style&gt;\n",
       "                #map_913f792b820e1609ce42563e6ce4cf03 {\n",
       "                    position: relative;\n",
       "                    width: 100.0%;\n",
       "                    height: 100.0%;\n",
       "                    left: 0.0%;\n",
       "                    top: 0.0%;\n",
       "                }\n",
       "                .leaflet-container { font-size: 1rem; }\n",
       "            &lt;/style&gt;\n",
       "        \n",
       "&lt;/head&gt;\n",
       "&lt;body&gt;\n",
       "    \n",
       "    \n",
       "            &lt;div class=&quot;folium-map&quot; id=&quot;map_913f792b820e1609ce42563e6ce4cf03&quot; &gt;&lt;/div&gt;\n",
       "        \n",
       "&lt;/body&gt;\n",
       "&lt;script&gt;\n",
       "    \n",
       "    \n",
       "            var map_913f792b820e1609ce42563e6ce4cf03 = L.map(\n",
       "                &quot;map_913f792b820e1609ce42563e6ce4cf03&quot;,\n",
       "                {\n",
       "                    center: [41.89677614818368, -87.78967965279274],\n",
       "                    crs: L.CRS.EPSG3857,\n",
       "                    ...{\n",
       "  &quot;zoom&quot;: 12,\n",
       "  &quot;zoomControl&quot;: true,\n",
       "  &quot;preferCanvas&quot;: false,\n",
       "}\n",
       "\n",
       "                }\n",
       "            );\n",
       "            L.control.scale().addTo(map_913f792b820e1609ce42563e6ce4cf03);\n",
       "\n",
       "            \n",
       "\n",
       "        \n",
       "    \n",
       "            var tile_layer_34f13b4815bb95ab4617c06333e9d0f3 = L.tileLayer(\n",
       "                &quot;https://tile.openstreetmap.org/{z}/{x}/{y}.png&quot;,\n",
       "                {\n",
       "  &quot;minZoom&quot;: 0,\n",
       "  &quot;maxZoom&quot;: 19,\n",
       "  &quot;maxNativeZoom&quot;: 19,\n",
       "  &quot;noWrap&quot;: false,\n",
       "  &quot;attribution&quot;: &quot;\\u0026copy; \\u003ca href=\\&quot;https://www.openstreetmap.org/copyright\\&quot;\\u003eOpenStreetMap\\u003c/a\\u003e contributors&quot;,\n",
       "  &quot;subdomains&quot;: &quot;abc&quot;,\n",
       "  &quot;detectRetina&quot;: false,\n",
       "  &quot;tms&quot;: false,\n",
       "  &quot;opacity&quot;: 1,\n",
       "}\n",
       "\n",
       "            );\n",
       "        \n",
       "    \n",
       "            tile_layer_34f13b4815bb95ab4617c06333e9d0f3.addTo(map_913f792b820e1609ce42563e6ce4cf03);\n",
       "        \n",
       "    \n",
       "        function geo_json_3f079088be98b08906809c6bc82ea29d_styler(feature) {\n",
       "            switch(feature.id) {\n",
       "                default:\n",
       "                    return {&quot;color&quot;: &quot;#008169&quot;, &quot;dashArray&quot;: &quot;0, 0&quot;, &quot;opacity&quot;: 0.9, &quot;weight&quot;: 3};\n",
       "            }\n",
       "        }\n",
       "\n",
       "        function geo_json_3f079088be98b08906809c6bc82ea29d_onEachFeature(feature, layer) {\n",
       "            layer.on({\n",
       "            });\n",
       "        };\n",
       "        var geo_json_3f079088be98b08906809c6bc82ea29d = L.geoJson(null, {\n",
       "                onEachFeature: geo_json_3f079088be98b08906809c6bc82ea29d_onEachFeature,\n",
       "            \n",
       "                style: geo_json_3f079088be98b08906809c6bc82ea29d_styler,\n",
       "            ...{\n",
       "}\n",
       "        });\n",
       "\n",
       "        function geo_json_3f079088be98b08906809c6bc82ea29d_add (data) {\n",
       "            geo_json_3f079088be98b08906809c6bc82ea29d\n",
       "                .addData(data);\n",
       "        }\n",
       "            geo_json_3f079088be98b08906809c6bc82ea29d_add({&quot;features&quot;: [{&quot;geometry&quot;: {&quot;coordinates&quot;: [[-87.753807, 41.896776], [-87.789194, 41.83138], [-87.753807, 41.896776], [-87.789194, 41.83138], [-87.78968, 41.835829], [-87.753807, 41.896776], [-87.789194, 41.83138], [-87.753807, 41.896776], [-87.789194, 41.83138], [-87.78968, 41.835829], [-88.731959, 41.955936], [-87.78968, 41.835829], [-87.955098, 41.900701], [-87.959249, 41.909559], [-87.753807, 41.896776], [-88.731959, 41.955936], [-87.789194, 41.83138], [-87.786651, 41.83951], [-87.789194, 41.83138], [-87.78968, 41.835829], [-88.731959, 41.955936], [-88.784814, 41.942188], [-88.731959, 41.955936], [-88.784814, 41.942188], [-87.789194, 41.83138], [-87.78968, 41.835829], [-87.781746, 41.834141], [-87.814984, 41.823976], [-87.78968, 41.835829], [-87.959249, 41.909559], [-87.78968, 41.835829], [-88.784814, 41.942188], [-88.769683, 41.949274], [-88.784814, 41.942188], [-87.78968, 41.835829], [-87.789194, 41.83138], [-87.78968, 41.835829], [-87.789194, 41.83138], [-88.731959, 41.955936], [-87.78968, 41.835829], [-87.786651, 41.83951], [-87.774792, 41.833942], [-87.768408, 41.783525], [-87.781746, 41.834141], [-87.959249, 41.909559], [-87.753807, 41.896776], [-87.750136, 41.896803], [-88.731959, 41.955936], [-88.701748, 41.975075], [-89.14296, 42.112378], [-89.063155, 42.259003], [-87.789194, 41.83138], [-88.731959, 41.955936], [-88.784814, 41.942188], [-87.789194, 41.83138], [-87.781746, 41.834141], [-87.814984, 41.823976], [-87.753807, 41.896776], [-87.750136, 41.896803], [-87.750643, 41.89315], [-87.722362, 41.893566], [-87.685732, 41.941302], [-87.78968, 41.835829], [-87.786651, 41.83951], [-87.78968, 41.835829], [-87.781746, 41.834141], [-87.727452, 41.860661], [-87.781746, 41.834141], [-87.78968, 41.835829], [-87.718913, 41.816201], [-87.974516, 41.749345], [-88.240202, 41.719814], [-87.959249, 41.909559], [-87.789194, 41.83138], [-87.785166, 41.827467], [-87.785175, 41.823281], [-87.718917, 41.856411], [-88.731959, 41.955936], [-87.78968, 41.835829], [-87.657214, 41.966317], [-87.753807, 41.896776], [-87.761506, 41.896711], [-87.811606, 41.936196], [-88.784814, 41.942188], [-87.789194, 41.83138], [-87.78968, 41.835829], [-87.789194, 41.83138], [-87.786651, 41.83951], [-88.731959, 41.955936], [-87.753807, 41.896776], [-87.781746, 41.834141], [-87.750643, 41.89315], [-88.240202, 41.719814], [-88.115669, 41.694821], [-87.714921, 41.830981], [-87.718676, 41.835678], [-87.955098, 41.900701], [-87.722362, 41.893566], [-87.750136, 41.896803], [-87.959249, 41.909559], [-87.827884, 41.975918], [-88.731959, 41.955936], [-88.724534, 41.970875], [-88.731959, 41.955936], [-87.827884, 41.975918], [-87.797043, 41.972183], [-87.774519, 41.992592], [-88.784814, 41.942188], [-87.753807, 41.896776], [-87.959249, 41.909559], [-87.814984, 41.823976], [-87.789194, 41.83138], [-88.115669, 41.694821], [-88.731959, 41.955936], [-87.959249, 41.909559], [-87.685732, 41.941302], [-87.786651, 41.83951], [-87.78104, 41.848945], [-87.768408, 41.783525], [-87.924404, 42.033702], [-87.930437, 42.012511], [-87.728316, 41.675031], [-87.724284, 41.682092], [-87.789194, 41.83138], [-87.797043, 41.972183], [-87.753807, 41.896776], [-88.048442, 41.79092], [-87.959249, 41.909559], [-87.656448, 41.761401], [-87.789194, 41.83138], [-87.959249, 41.909559], [-88.048442, 41.79092], [-88.240202, 41.719814], [-87.789194, 41.83138], [-87.790635, 41.841451], [-87.753807, 41.896776], [-87.78968, 41.835829], [-87.753807, 41.896776], [-87.786651, 41.83951], [-88.784814, 41.942188], [-87.774519, 41.992592], [-87.753807, 41.896776], [-88.784814, 41.942188], [-87.753807, 41.896776], [-88.731959, 41.955936], [-88.784814, 41.942188], [-87.750643, 41.89315], [-87.781746, 41.834141], [-87.790635, 41.841451], [-87.718917, 41.856411], [-87.781746, 41.834141], [-88.115669, 41.694821], [-87.774519, 41.992592], [-87.827884, 41.975918], [-87.789194, 41.83138], [-87.795886, 41.775595], [-87.78968, 41.835829], [-88.240202, 41.719814], [-88.239889, 41.761333], [-87.78968, 41.835829], [-87.781746, 41.834141], [-87.930437, 42.012511], [-87.753807, 41.896776], [-87.78968, 41.835829], [-87.781746, 41.834141], [-87.680928, 41.945009], [-87.753807, 41.896776], [-88.701748, 41.975075], [-87.974516, 41.749345], [-87.959249, 41.909559], [-87.78968, 41.835829], [-87.685732, 41.941302], [-87.78968, 41.835829], [-88.002294, 41.922059], [-87.999817, 41.92392], [-87.685732, 41.941302], [-87.974516, 41.749345], [-87.989147, 41.769777], [-88.784814, 41.942188], [-87.959249, 41.909559], [-87.680928, 41.945009], [-87.78968, 41.835829], [-88.731959, 41.955936], [-88.740233, 41.955164], [-88.731959, 41.955936], [-89.063155, 42.259003], [-89.06245, 42.264266], [-89.083405, 42.245791], [-88.990025, 42.275113], [-87.753807, 41.896776], [-87.652453, 41.968217], [-87.78968, 41.835829], [-87.785166, 41.827467], [-88.239889, 41.761333], [-87.718913, 41.816201], [-87.724284, 41.682092], [-87.710081, 41.693249], [-88.769683, 41.949274], [-87.789194, 41.83138], [-87.853745, 41.898724], [-87.959249, 41.909559], [-87.78968, 41.835829], [-88.731959, 41.955936], [-87.959249, 41.909559], [-87.753807, 41.896776], [-87.750218, 41.900473], [-88.731959, 41.955936], [-87.989147, 41.769777], [-87.789194, 41.83138], [-87.959249, 41.909559], [-87.929111, 41.950606], [-87.78968, 41.835829], [-87.814984, 41.823976], [-87.959249, 41.909559], [-88.097191, 41.899444], [-88.040604, 41.98319], [-87.959249, 41.909559], [-88.048442, 41.79092], [-87.821281, 42.023065], [-89.063155, 42.259003], [-87.959249, 41.909559], [-87.821281, 42.023065], [-87.789194, 41.83138], [-87.78968, 41.835829], [-87.959249, 41.909559], [-87.78968, 41.835829], [-87.974516, 41.749345], [-87.724284, 41.682092], [-88.731959, 41.955936], [-87.827884, 41.975918], [-87.753807, 41.896776], [-87.789194, 41.83138], [-87.724284, 41.682092], [-87.789194, 41.83138], [-87.801305, 41.888588], [-88.784814, 41.942188], [-87.789194, 41.83138], [-89.063155, 42.259003], [-87.781746, 41.834141], [-88.731959, 41.955936], [-88.75589, 41.948016], [-88.759646, 41.939979], [-87.989147, 41.769777], [-87.789194, 41.83138], [-88.731959, 41.955936], [-87.959249, 41.909559], [-87.798797, 41.859612], [-87.785166, 41.827467], [-87.724284, 41.682092], [-87.781746, 41.834141], [-87.789194, 41.83138], [-87.78968, 41.835829], [-87.750218, 41.900473], [-87.955098, 41.900701], [-88.731959, 41.955936], [-88.048442, 41.79092], [-87.680928, 41.945009], [-87.814984, 41.823976], [-89.063155, 42.259003], [-87.789194, 41.83138], [-87.666694, 41.834455], [-87.755638, 41.862142], [-87.814984, 41.823976], [-87.878706, 41.87225], [-87.939992, 42.078854], [-87.724284, 41.682092], [-87.753807, 41.896776], [-87.657214, 41.966317], [-87.685732, 41.941302], [-87.750643, 41.89315], [-87.753807, 41.896776], [-88.759646, 41.939979], [-88.769748, 41.934231], [-88.781909, 41.931414], [-87.789194, 41.83138], [-87.750356, 41.83703], [-87.789194, 41.83138], [-87.781746, 41.834141], [-87.989147, 41.769777], [-87.964876, 41.756886], [-87.724284, 41.682092], [-87.789194, 41.83138], [-87.666814, 42.000858], [-87.663014, 42.001536], [-88.784814, 41.942188], [-88.769863, 41.943275], [-88.784814, 41.942188], [-88.769683, 41.949274], [-87.750218, 41.900473], [-87.955098, 41.900701], [-88.701748, 41.975075], [-87.821281, 42.023065], [-87.714921, 41.830981], [-87.718676, 41.835678], [-87.789194, 41.83138], [-87.78968, 41.835829], [-87.821281, 42.023065], [-88.759646, 41.939979], [-87.814984, 41.823976], [-87.774167, 41.823431], [-87.821281, 42.023065], [-87.789194, 41.83138], [-87.780333, 41.828343], [-88.731959, 41.955936], [-88.678557, 41.975579], [-89.628542, 42.303663], [-88.784814, 41.942188], [-88.115669, 41.694821], [-88.781909, 41.931414], [-88.240202, 41.719814], [-87.78968, 41.835829], [-88.769863, 41.943275], [-87.781746, 41.834141], [-87.812781, 41.688191], [-87.789194, 41.83138], [-87.959249, 41.909559], [-87.821281, 42.023065], [-87.789194, 41.83138], [-88.784814, 41.942188], [-88.75589, 41.948016], [-87.955098, 41.900701], [-87.93505, 41.888333], [-87.944978, 41.875679], [-87.78968, 41.835829], [-87.779967, 41.854445], [-87.795886, 41.775595], [-87.708429, 41.808954], [-88.040604, 41.98319], [-87.780333, 41.828343], [-87.78968, 41.835829], [-87.753807, 41.896776], [-87.78968, 41.835829], [-87.786651, 41.83951], [-87.753807, 41.896776], [-88.769683, 41.949274], [-87.781746, 41.834141], [-87.685732, 41.941302], [-87.811606, 41.936196], [-88.731959, 41.955936], [-87.781746, 41.834141], [-87.789194, 41.83138], [-87.768408, 41.783525], [-87.793688, 41.781137], [-88.731959, 41.955936], [-87.944978, 41.875679], [-87.789194, 41.83138], [-88.257741, 41.720348], [-87.789194, 41.83138], [-88.990025, 42.275113], [-87.710081, 41.693249], [-87.821281, 42.023065], [-87.959249, 41.909559], [-88.731959, 41.955936], [-88.740233, 41.955164], [-87.78968, 41.835829], [-88.781909, 41.931414], [-87.974516, 41.749345], [-88.784814, 41.942188], [-88.731959, 41.955936], [-87.789194, 41.83138], [-87.78968, 41.835829], [-87.774792, 41.833942], [-87.663014, 42.001536], [-87.78968, 41.835829], [-88.731959, 41.955936], [-87.853745, 41.898724], [-87.753807, 41.896776], [-87.78968, 41.835829], [-87.789194, 41.83138], [-87.753807, 41.896776], [-88.678557, 41.975579], [-88.115669, 41.694821], [-88.086277, 41.637585], [-87.685732, 41.941302], [-87.750356, 41.83703], [-87.756008, 41.83736], [-87.786651, 41.83951], [-87.75218, 41.696281], [-87.821281, 42.023065], [-88.731959, 41.955936], [-87.959249, 41.909559], [-87.789194, 41.83138], [-87.955098, 41.900701], [-88.701748, 41.975075], [-87.789194, 41.83138], [-88.731959, 41.955936], [-87.78968, 41.835829], [-87.789194, 41.83138], [-88.781909, 41.931414], [-89.063155, 42.259003], [-87.718676, 41.835678], [-87.753807, 41.896776], [-87.722362, 41.893566], [-87.695423, 41.999452], [-87.753807, 41.896776], [-87.757494, 41.904245], [-87.721982, 41.900881], [-87.789194, 41.83138], [-88.731959, 41.955936], [-88.781909, 41.931414], [-88.777016, 41.944118], [-87.827884, 41.975918], [-88.784814, 41.942188], [-87.955098, 41.900701], [-87.78968, 41.835829], [-88.781909, 41.931414], [-87.786651, 41.83951], [-87.788204, 41.846459], [-87.718913, 41.816201], [-87.78968, 41.835829], [-87.974516, 41.749345], [-87.790635, 41.841451], [-88.040604, 41.98319], [-88.781909, 41.931414], [-89.063155, 42.259003], [-87.722362, 41.893566], [-87.78968, 41.835829], [-87.670296, 41.964304], [-87.853993, 42.098535], [-87.793688, 41.781137], [-87.789194, 41.83138], [-87.680928, 41.945009], [-88.740233, 41.955164], [-88.75589, 41.948016], [-88.740233, 41.955164], [-87.959249, 41.909559], [-87.666694, 41.834455], [-87.698804, 41.82793], [-87.78968, 41.835829], [-87.974516, 41.749345], [-88.781909, 41.931414], [-87.753807, 41.896776], [-87.721982, 41.900881], [-87.789194, 41.83138], [-87.811606, 41.936196], [-88.784814, 41.942188], [-88.048442, 41.79092], [-87.685732, 41.941302], [-87.722362, 41.893566], [-87.666694, 41.834455], [-87.638405, 41.812712], [-88.990025, 42.275113], [-89.005742, 42.278906], [-89.023088, 42.258934], [-87.718917, 41.856411], [-87.789194, 41.83138], [-87.750643, 41.89315], [-88.784814, 41.942188], [-87.724284, 41.682092], [-87.657214, 41.966317], [-87.789194, 41.83138], [-87.724284, 41.682092], [-87.959249, 41.909559], [-87.81449, 41.970724], [-87.802326, 41.966583], [-87.753807, 41.896776], [-87.959249, 41.909559], [-87.753807, 41.896776], [-87.742955, 41.884164], [-87.793862, 41.898979], [-87.788864, 41.903747], [-87.853993, 42.098535], [-88.731959, 41.955936], [-87.789194, 41.83138], [-87.78968, 41.835829], [-87.789194, 41.83138], [-87.827884, 41.975918], [-87.721982, 41.900881], [-87.827884, 41.975918], [-87.802326, 41.966583], [-87.814984, 41.823976], [-87.657214, 41.966317], [-87.930437, 42.012511], [-88.054489, 42.002671]], &quot;type&quot;: &quot;LineString&quot;}, &quot;id&quot;: &quot;0&quot;, &quot;type&quot;: &quot;Feature&quot;}], &quot;type&quot;: &quot;FeatureCollection&quot;});\n",
       "\n",
       "        \n",
       "    \n",
       "            geo_json_3f079088be98b08906809c6bc82ea29d.addTo(map_913f792b820e1609ce42563e6ce4cf03);\n",
       "        \n",
       "    \n",
       "            var marker_3a1122c2c2037c32ff167c8bc7324e00 = L.marker(\n",
       "                [41.89677614818368, -87.75380717439927],\n",
       "                {\n",
       "}\n",
       "            ).addTo(map_913f792b820e1609ce42563e6ce4cf03);\n",
       "        \n",
       "    \n",
       "            var icon_81e640b8e657f620a610cdf716447077 = L.AwesomeMarkers.icon(\n",
       "                {\n",
       "  &quot;markerColor&quot;: &quot;green&quot;,\n",
       "  &quot;iconColor&quot;: &quot;white&quot;,\n",
       "  &quot;icon&quot;: &quot;info-sign&quot;,\n",
       "  &quot;prefix&quot;: &quot;glyphicon&quot;,\n",
       "  &quot;extraClasses&quot;: &quot;fa-rotate-0&quot;,\n",
       "}\n",
       "            );\n",
       "            marker_3a1122c2c2037c32ff167c8bc7324e00.setIcon(icon_81e640b8e657f620a610cdf716447077);\n",
       "        \n",
       "    \n",
       "        var popup_0d11bafc9750e23bd9468990a3433321 = L.popup({\n",
       "  &quot;maxWidth&quot;: 300,\n",
       "});\n",
       "\n",
       "        \n",
       "            \n",
       "                var html_eb90ba578cbc588d3103b19ec9bdfe36 = $(`&lt;div id=&quot;html_eb90ba578cbc588d3103b19ec9bdfe36&quot; style=&quot;width: 100.0%; height: 100.0%;&quot;&gt;&lt;i&gt;Start&lt;/i&gt;&lt;BR&gt;2020/03/01 00:00&lt;BR&gt;Coord: &lt;a href=&quot;https://www.google.co.uk/maps/place/41.89677614818368,-87.75380717439927&quot; target=&quot;_blank&quot;&gt;41.8968, -87.7538&lt;/a&gt;&lt;/div&gt;`)[0];\n",
       "                popup_0d11bafc9750e23bd9468990a3433321.setContent(html_eb90ba578cbc588d3103b19ec9bdfe36);\n",
       "            \n",
       "        \n",
       "\n",
       "        marker_3a1122c2c2037c32ff167c8bc7324e00.bindPopup(popup_0d11bafc9750e23bd9468990a3433321)\n",
       "        ;\n",
       "\n",
       "        \n",
       "    \n",
       "    \n",
       "            var marker_27e4854706694cdfbdca0aa850997004 = L.marker(\n",
       "                [42.00267068491344, -88.05448865242705],\n",
       "                {\n",
       "}\n",
       "            ).addTo(map_913f792b820e1609ce42563e6ce4cf03);\n",
       "        \n",
       "    \n",
       "            var icon_9032501e83bc6fc3c35963442060a406 = L.AwesomeMarkers.icon(\n",
       "                {\n",
       "  &quot;markerColor&quot;: &quot;red&quot;,\n",
       "  &quot;iconColor&quot;: &quot;white&quot;,\n",
       "  &quot;icon&quot;: &quot;info-sign&quot;,\n",
       "  &quot;prefix&quot;: &quot;glyphicon&quot;,\n",
       "  &quot;extraClasses&quot;: &quot;fa-rotate-0&quot;,\n",
       "}\n",
       "            );\n",
       "            marker_27e4854706694cdfbdca0aa850997004.setIcon(icon_9032501e83bc6fc3c35963442060a406);\n",
       "        \n",
       "    \n",
       "        var popup_7233280730cfce900cdf2725b74bc5f6 = L.popup({\n",
       "  &quot;maxWidth&quot;: 300,\n",
       "});\n",
       "\n",
       "        \n",
       "            \n",
       "                var html_d0198ae00c47db04f3b0640c7f8c9503 = $(`&lt;div id=&quot;html_d0198ae00c47db04f3b0640c7f8c9503&quot; style=&quot;width: 100.0%; height: 100.0%;&quot;&gt;&lt;i&gt;End&lt;/i&gt;&lt;BR&gt;2020/03/30 23:39&lt;BR&gt;Coord: &lt;a href=&quot;https://www.google.co.uk/maps/place/42.00267068491344,-88.05448865242705&quot; target=&quot;_blank&quot;&gt;42.0027, -88.0545&lt;/a&gt;&lt;/div&gt;`)[0];\n",
       "                popup_7233280730cfce900cdf2725b74bc5f6.setContent(html_d0198ae00c47db04f3b0640c7f8c9503);\n",
       "            \n",
       "        \n",
       "\n",
       "        marker_27e4854706694cdfbdca0aa850997004.bindPopup(popup_7233280730cfce900cdf2725b74bc5f6)\n",
       "        ;\n",
       "\n",
       "        \n",
       "    \n",
       "&lt;/script&gt;\n",
       "&lt;/html&gt;\" style=\"position:absolute;width:100%;height:100%;left:0;top:0;border:none !important;\" allowfullscreen webkitallowfullscreen mozallowfullscreen></iframe></div></div>"
      ],
      "text/plain": [
       "<folium.folium.Map at 0x6c1e48d00>"
      ]
     },
     "execution_count": 51,
     "metadata": {},
     "output_type": "execute_result"
    }
   ],
   "source": [
    "plotting_data = skmob.TrajDataFrame(person1, latitude='lat', datetime='datetime', user_id='uid')\n",
    "\n",
    "plotting_data.plot_trajectory(\n",
    "    zoom=12,\n",
    "    weight=3,\n",
    "    opacity=0.9,\n",
    "    max_users = 1,\n",
    "    max_points=None, #trajectories will be down-sampled to have at most `max_points` points.\n",
    "    tiles='OpenStreetMap'  # Built-in tile set, no attribution needed\n",
    ")"
   ]
  },
  {
   "cell_type": "markdown",
   "id": "8378d849",
   "metadata": {},
   "source": [
    "#"
   ]
  },
  {
   "cell_type": "markdown",
   "id": "ad4506f6",
   "metadata": {},
   "source": [
    "# Home location"
   ]
  },
  {
   "cell_type": "code",
   "execution_count": 55,
   "id": "fd593594",
   "metadata": {},
   "outputs": [
    {
     "name": "stdout",
     "output_type": "stream",
     "text": [
      "(4697462, 4)\n"
     ]
    },
    {
     "data": {
      "text/html": [
       "<div>\n",
       "<style scoped>\n",
       "    .dataframe tbody tr th:only-of-type {\n",
       "        vertical-align: middle;\n",
       "    }\n",
       "\n",
       "    .dataframe tbody tr th {\n",
       "        vertical-align: top;\n",
       "    }\n",
       "\n",
       "    .dataframe thead th {\n",
       "        text-align: right;\n",
       "    }\n",
       "</style>\n",
       "<table border=\"1\" class=\"dataframe\">\n",
       "  <thead>\n",
       "    <tr style=\"text-align: right;\">\n",
       "      <th></th>\n",
       "      <th>uid</th>\n",
       "      <th>datetime</th>\n",
       "      <th>lat</th>\n",
       "      <th>lng</th>\n",
       "    </tr>\n",
       "  </thead>\n",
       "  <tbody>\n",
       "    <tr>\n",
       "      <th>0</th>\n",
       "      <td>1</td>\n",
       "      <td>2020-03-01 00:00:00.000000</td>\n",
       "      <td>41.797640</td>\n",
       "      <td>-89.701132</td>\n",
       "    </tr>\n",
       "    <tr>\n",
       "      <th>1</th>\n",
       "      <td>1</td>\n",
       "      <td>2020-03-01 08:36:57.339869</td>\n",
       "      <td>41.792552</td>\n",
       "      <td>-89.700469</td>\n",
       "    </tr>\n",
       "    <tr>\n",
       "      <th>2</th>\n",
       "      <td>1</td>\n",
       "      <td>2020-03-01 09:14:04.636129</td>\n",
       "      <td>41.797640</td>\n",
       "      <td>-89.701132</td>\n",
       "    </tr>\n",
       "    <tr>\n",
       "      <th>3</th>\n",
       "      <td>1</td>\n",
       "      <td>2020-03-01 10:33:32.341722</td>\n",
       "      <td>41.792552</td>\n",
       "      <td>-89.700469</td>\n",
       "    </tr>\n",
       "    <tr>\n",
       "      <th>4</th>\n",
       "      <td>1</td>\n",
       "      <td>2020-03-01 17:08:49.213984</td>\n",
       "      <td>41.790875</td>\n",
       "      <td>-89.708589</td>\n",
       "    </tr>\n",
       "  </tbody>\n",
       "</table>\n",
       "</div>"
      ],
      "text/plain": [
       "   uid                   datetime        lat        lng\n",
       "0    1 2020-03-01 00:00:00.000000  41.797640 -89.701132\n",
       "1    1 2020-03-01 08:36:57.339869  41.792552 -89.700469\n",
       "2    1 2020-03-01 09:14:04.636129  41.797640 -89.701132\n",
       "3    1 2020-03-01 10:33:32.341722  41.792552 -89.700469\n",
       "4    1 2020-03-01 17:08:49.213984  41.790875 -89.708589"
      ]
     },
     "execution_count": 55,
     "metadata": {},
     "output_type": "execute_result"
    }
   ],
   "source": [
    "# now create a TrajDataFrame from the pandas DataFrame\n",
    "#tdf = skmob.TrajDataFrame(data, latitude='lat', datetime='datetime', user_id='uid')\n",
    "print(tdf.shape)\n",
    "tdf.head(5)"
   ]
  },
  {
   "cell_type": "code",
   "execution_count": 56,
   "id": "201fb128",
   "metadata": {},
   "outputs": [
    {
     "name": "stderr",
     "output_type": "stream",
     "text": [
      "100%|███████████████████████████████████| 10000/10000 [00:06<00:00, 1640.38it/s]\n"
     ]
    },
    {
     "data": {
      "text/html": [
       "<div>\n",
       "<style scoped>\n",
       "    .dataframe tbody tr th:only-of-type {\n",
       "        vertical-align: middle;\n",
       "    }\n",
       "\n",
       "    .dataframe tbody tr th {\n",
       "        vertical-align: top;\n",
       "    }\n",
       "\n",
       "    .dataframe thead th {\n",
       "        text-align: right;\n",
       "    }\n",
       "</style>\n",
       "<table border=\"1\" class=\"dataframe\">\n",
       "  <thead>\n",
       "    <tr style=\"text-align: right;\">\n",
       "      <th></th>\n",
       "      <th>uid</th>\n",
       "      <th>lat</th>\n",
       "      <th>lng</th>\n",
       "    </tr>\n",
       "  </thead>\n",
       "  <tbody>\n",
       "    <tr>\n",
       "      <th>0</th>\n",
       "      <td>1</td>\n",
       "      <td>41.792552</td>\n",
       "      <td>-89.700469</td>\n",
       "    </tr>\n",
       "    <tr>\n",
       "      <th>1</th>\n",
       "      <td>2</td>\n",
       "      <td>38.882036</td>\n",
       "      <td>-90.098574</td>\n",
       "    </tr>\n",
       "    <tr>\n",
       "      <th>2</th>\n",
       "      <td>3</td>\n",
       "      <td>40.082724</td>\n",
       "      <td>-88.328817</td>\n",
       "    </tr>\n",
       "    <tr>\n",
       "      <th>3</th>\n",
       "      <td>4</td>\n",
       "      <td>42.006063</td>\n",
       "      <td>-88.163496</td>\n",
       "    </tr>\n",
       "    <tr>\n",
       "      <th>4</th>\n",
       "      <td>5</td>\n",
       "      <td>41.831380</td>\n",
       "      <td>-87.789194</td>\n",
       "    </tr>\n",
       "  </tbody>\n",
       "</table>\n",
       "</div>"
      ],
      "text/plain": [
       "   uid        lat        lng\n",
       "0    1  41.792552 -89.700469\n",
       "1    2  38.882036 -90.098574\n",
       "2    3  40.082724 -88.328817\n",
       "3    4  42.006063 -88.163496\n",
       "4    5  41.831380 -87.789194"
      ]
     },
     "execution_count": 56,
     "metadata": {},
     "output_type": "execute_result"
    }
   ],
   "source": [
    "hl_df = home_location(tdf)\n",
    "hl_df.head(5)"
   ]
  },
  {
   "cell_type": "code",
   "execution_count": 57,
   "id": "6e3a0518",
   "metadata": {},
   "outputs": [],
   "source": [
    "hl_df.to_csv(\"Home_location_4Week_10000_IL_realpop.csv\")"
   ]
  },
  {
   "cell_type": "code",
   "execution_count": null,
   "id": "fac5df0a",
   "metadata": {},
   "outputs": [],
   "source": []
  }
 ],
 "metadata": {
  "kernelspec": {
   "display_name": "Python (skmob)",
   "language": "python",
   "name": "skmob"
  },
  "language_info": {
   "codemirror_mode": {
    "name": "ipython",
    "version": 3
   },
   "file_extension": ".py",
   "mimetype": "text/x-python",
   "name": "python",
   "nbconvert_exporter": "python",
   "pygments_lexer": "ipython3",
   "version": "3.9.21"
  }
 },
 "nbformat": 4,
 "nbformat_minor": 5
}
