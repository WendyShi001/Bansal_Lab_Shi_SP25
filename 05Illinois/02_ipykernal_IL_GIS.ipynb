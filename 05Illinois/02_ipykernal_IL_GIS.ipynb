{
 "cells": [
  {
   "cell_type": "markdown",
   "id": "fd44766c",
   "metadata": {},
   "source": [
    "<h1><center> Individual Data Noise Creation <br><br> \n",
    "<center> Scikit Mobility and DB Noise<br><br> \n",
    "Wendy Shi</center></center>"
   ]
  },
  {
   "cell_type": "markdown",
   "id": "1778640b",
   "metadata": {},
   "source": [
    "# TOC\n",
    "\n",
    "- [County Level FIP](#County-Level-FIP-Code)\n",
    "- [Individual Data](#Individual-Data)\n",
    "- [Census Tract Shape File](#Census-Tract-Shape-File)\n",
    "- [Grouping](#Groupping)\n",
    "    - [DP Noise](#DP-Noise)\n",
    "    - [Home Location](#Home-Location)\n",
    "- [Computing Weight Matrix](#Computing-Weight-Matrix)"
   ]
  },
  {
   "cell_type": "markdown",
   "id": "eac9293b",
   "metadata": {},
   "source": [
    "# Preparation"
   ]
  },
  {
   "cell_type": "code",
   "execution_count": 1,
   "id": "ed6fb248",
   "metadata": {},
   "outputs": [],
   "source": [
    "#Preparation\n",
    "import pandas as pd\n",
    "import numpy as np\n",
    "import matplotlib.pyplot as plt\n",
    "import statistics"
   ]
  },
  {
   "cell_type": "markdown",
   "id": "e37482b3",
   "metadata": {},
   "source": [
    "# County Level FIP Code"
   ]
  },
  {
   "cell_type": "code",
   "execution_count": 2,
   "id": "bdd8c9bb",
   "metadata": {},
   "outputs": [
    {
     "name": "stdout",
     "output_type": "stream",
     "text": [
      "(2327, 4)\n"
     ]
    },
    {
     "data": {
      "text/html": [
       "<div>\n",
       "<style scoped>\n",
       "    .dataframe tbody tr th:only-of-type {\n",
       "        vertical-align: middle;\n",
       "    }\n",
       "\n",
       "    .dataframe tbody tr th {\n",
       "        vertical-align: top;\n",
       "    }\n",
       "\n",
       "    .dataframe thead th {\n",
       "        text-align: right;\n",
       "    }\n",
       "</style>\n",
       "<table border=\"1\" class=\"dataframe\">\n",
       "  <thead>\n",
       "    <tr style=\"text-align: right;\">\n",
       "      <th></th>\n",
       "      <th>S</th>\n",
       "      <th>E</th>\n",
       "      <th>I</th>\n",
       "      <th>R</th>\n",
       "    </tr>\n",
       "  </thead>\n",
       "  <tbody>\n",
       "    <tr>\n",
       "      <th>2324</th>\n",
       "      <td>42158</td>\n",
       "      <td>0</td>\n",
       "      <td>0</td>\n",
       "      <td>0</td>\n",
       "    </tr>\n",
       "    <tr>\n",
       "      <th>2325</th>\n",
       "      <td>23347</td>\n",
       "      <td>0</td>\n",
       "      <td>0</td>\n",
       "      <td>0</td>\n",
       "    </tr>\n",
       "    <tr>\n",
       "      <th>2326</th>\n",
       "      <td>20441</td>\n",
       "      <td>0</td>\n",
       "      <td>0</td>\n",
       "      <td>0</td>\n",
       "    </tr>\n",
       "  </tbody>\n",
       "</table>\n",
       "</div>"
      ],
      "text/plain": [
       "          S  E  I  R\n",
       "2324  42158  0  0  0\n",
       "2325  23347  0  0  0\n",
       "2326  20441  0  0  0"
      ]
     },
     "execution_count": 2,
     "metadata": {},
     "output_type": "execute_result"
    }
   ],
   "source": [
    "column_names = ['S', 'E', 'I', 'R']\n",
    "Seeding = pd.read_csv(\"../../Data/seed_1503_seed_corrected_undereporting_CDC_corrected_v3.txt\",\n",
    "                     delimiter=' ',\n",
    "                      names=column_names)\n",
    "print(Seeding.shape)\n",
    "Seeding.tail(3)"
   ]
  },
  {
   "cell_type": "code",
   "execution_count": 3,
   "id": "8253f72c",
   "metadata": {},
   "outputs": [
    {
     "name": "stdout",
     "output_type": "stream",
     "text": [
      "(2327, 1)\n"
     ]
    },
    {
     "data": {
      "text/html": [
       "<div>\n",
       "<style scoped>\n",
       "    .dataframe tbody tr th:only-of-type {\n",
       "        vertical-align: middle;\n",
       "    }\n",
       "\n",
       "    .dataframe tbody tr th {\n",
       "        vertical-align: top;\n",
       "    }\n",
       "\n",
       "    .dataframe thead th {\n",
       "        text-align: right;\n",
       "    }\n",
       "</style>\n",
       "<table border=\"1\" class=\"dataframe\">\n",
       "  <thead>\n",
       "    <tr style=\"text-align: right;\">\n",
       "      <th></th>\n",
       "      <th>GEO_ID</th>\n",
       "    </tr>\n",
       "  </thead>\n",
       "  <tbody>\n",
       "    <tr>\n",
       "      <th>2324</th>\n",
       "      <td>56037</td>\n",
       "    </tr>\n",
       "    <tr>\n",
       "      <th>2325</th>\n",
       "      <td>56039</td>\n",
       "    </tr>\n",
       "    <tr>\n",
       "      <th>2326</th>\n",
       "      <td>56041</td>\n",
       "    </tr>\n",
       "  </tbody>\n",
       "</table>\n",
       "</div>"
      ],
      "text/plain": [
       "      GEO_ID\n",
       "2324   56037\n",
       "2325   56039\n",
       "2326   56041"
      ]
     },
     "execution_count": 3,
     "metadata": {},
     "output_type": "execute_result"
    }
   ],
   "source": [
    "node_dict = pd.read_csv(\"../../Data/nodes_considered.csv\")\n",
    "node_dict = node_dict.drop(columns = ['index'])\n",
    "print(node_dict.shape)\n",
    "node_dict.tail(3)"
   ]
  },
  {
   "cell_type": "code",
   "execution_count": 4,
   "id": "8e20bb11",
   "metadata": {},
   "outputs": [
    {
     "data": {
      "text/html": [
       "<div>\n",
       "<style scoped>\n",
       "    .dataframe tbody tr th:only-of-type {\n",
       "        vertical-align: middle;\n",
       "    }\n",
       "\n",
       "    .dataframe tbody tr th {\n",
       "        vertical-align: top;\n",
       "    }\n",
       "\n",
       "    .dataframe thead th {\n",
       "        text-align: right;\n",
       "    }\n",
       "</style>\n",
       "<table border=\"1\" class=\"dataframe\">\n",
       "  <thead>\n",
       "    <tr style=\"text-align: right;\">\n",
       "      <th></th>\n",
       "      <th>GEO_ID</th>\n",
       "      <th>Population</th>\n",
       "    </tr>\n",
       "  </thead>\n",
       "  <tbody>\n",
       "    <tr>\n",
       "      <th>2322</th>\n",
       "      <td>56029</td>\n",
       "      <td>29656</td>\n",
       "    </tr>\n",
       "    <tr>\n",
       "      <th>2323</th>\n",
       "      <td>56033</td>\n",
       "      <td>30996</td>\n",
       "    </tr>\n",
       "    <tr>\n",
       "      <th>2324</th>\n",
       "      <td>56037</td>\n",
       "      <td>42158</td>\n",
       "    </tr>\n",
       "    <tr>\n",
       "      <th>2325</th>\n",
       "      <td>56039</td>\n",
       "      <td>23347</td>\n",
       "    </tr>\n",
       "    <tr>\n",
       "      <th>2326</th>\n",
       "      <td>56041</td>\n",
       "      <td>20441</td>\n",
       "    </tr>\n",
       "  </tbody>\n",
       "</table>\n",
       "</div>"
      ],
      "text/plain": [
       "      GEO_ID  Population\n",
       "2322   56029       29656\n",
       "2323   56033       30996\n",
       "2324   56037       42158\n",
       "2325   56039       23347\n",
       "2326   56041       20441"
      ]
     },
     "execution_count": 4,
     "metadata": {},
     "output_type": "execute_result"
    }
   ],
   "source": [
    "node_dict['Population'] = Seeding['S']\n",
    "node_dict.tail(5)"
   ]
  },
  {
   "cell_type": "code",
   "execution_count": 5,
   "id": "b92abd1b",
   "metadata": {},
   "outputs": [
    {
     "name": "stdout",
     "output_type": "stream",
     "text": [
      "(2327, 2)\n"
     ]
    },
    {
     "data": {
      "text/html": [
       "<div>\n",
       "<style scoped>\n",
       "    .dataframe tbody tr th:only-of-type {\n",
       "        vertical-align: middle;\n",
       "    }\n",
       "\n",
       "    .dataframe tbody tr th {\n",
       "        vertical-align: top;\n",
       "    }\n",
       "\n",
       "    .dataframe thead th {\n",
       "        text-align: right;\n",
       "    }\n",
       "</style>\n",
       "<table border=\"1\" class=\"dataframe\">\n",
       "  <thead>\n",
       "    <tr style=\"text-align: right;\">\n",
       "      <th></th>\n",
       "      <th>GEOID</th>\n",
       "      <th>Population</th>\n",
       "    </tr>\n",
       "  </thead>\n",
       "  <tbody>\n",
       "    <tr>\n",
       "      <th>0</th>\n",
       "      <td>01001</td>\n",
       "      <td>58877</td>\n",
       "    </tr>\n",
       "    <tr>\n",
       "      <th>1</th>\n",
       "      <td>01003</td>\n",
       "      <td>233140</td>\n",
       "    </tr>\n",
       "    <tr>\n",
       "      <th>2</th>\n",
       "      <td>01005</td>\n",
       "      <td>25180</td>\n",
       "    </tr>\n",
       "  </tbody>\n",
       "</table>\n",
       "</div>"
      ],
      "text/plain": [
       "   GEOID  Population\n",
       "0  01001       58877\n",
       "1  01003      233140\n",
       "2  01005       25180"
      ]
     },
     "execution_count": 5,
     "metadata": {},
     "output_type": "execute_result"
    }
   ],
   "source": [
    "#Check if node dictionary size equals to size of E, and see if they all have population larger than 11,000\n",
    "desired = node_dict[node_dict['Population'] > 11000]\n",
    "print(desired.shape)\n",
    "\n",
    "node_dict[\"GEO_ID\"] = node_dict[\"GEO_ID\"].apply(lambda x: f\"{int(x):05d}\")\n",
    "\n",
    "#rename column\n",
    "rename = {'GEO_ID' : 'GEOID'}\n",
    "node_dict = node_dict.rename(columns = rename)\n",
    "node_dict.head(3)"
   ]
  },
  {
   "cell_type": "code",
   "execution_count": 6,
   "id": "99825a6e",
   "metadata": {
    "scrolled": true
   },
   "outputs": [
    {
     "data": {
      "text/html": [
       "<div>\n",
       "<style scoped>\n",
       "    .dataframe tbody tr th:only-of-type {\n",
       "        vertical-align: middle;\n",
       "    }\n",
       "\n",
       "    .dataframe tbody tr th {\n",
       "        vertical-align: top;\n",
       "    }\n",
       "\n",
       "    .dataframe thead th {\n",
       "        text-align: right;\n",
       "    }\n",
       "</style>\n",
       "<table border=\"1\" class=\"dataframe\">\n",
       "  <thead>\n",
       "    <tr style=\"text-align: right;\">\n",
       "      <th></th>\n",
       "      <th>GEOID</th>\n",
       "      <th>Population</th>\n",
       "      <th>state</th>\n",
       "      <th>index</th>\n",
       "    </tr>\n",
       "  </thead>\n",
       "  <tbody>\n",
       "    <tr>\n",
       "      <th>0</th>\n",
       "      <td>01001</td>\n",
       "      <td>58877</td>\n",
       "      <td>01</td>\n",
       "      <td>0</td>\n",
       "    </tr>\n",
       "    <tr>\n",
       "      <th>1</th>\n",
       "      <td>01003</td>\n",
       "      <td>233140</td>\n",
       "      <td>01</td>\n",
       "      <td>1</td>\n",
       "    </tr>\n",
       "    <tr>\n",
       "      <th>2</th>\n",
       "      <td>01005</td>\n",
       "      <td>25180</td>\n",
       "      <td>01</td>\n",
       "      <td>2</td>\n",
       "    </tr>\n",
       "  </tbody>\n",
       "</table>\n",
       "</div>"
      ],
      "text/plain": [
       "   GEOID  Population state  index\n",
       "0  01001       58877    01      0\n",
       "1  01003      233140    01      1\n",
       "2  01005       25180    01      2"
      ]
     },
     "execution_count": 6,
     "metadata": {},
     "output_type": "execute_result"
    }
   ],
   "source": [
    "node_dict['state'] = node_dict['GEOID'].str[:2]\n",
    "node_dict['index'] = range(len(node_dict))\n",
    "node_dict.head(3)"
   ]
  },
  {
   "cell_type": "code",
   "execution_count": 34,
   "id": "5902ae60",
   "metadata": {},
   "outputs": [
    {
     "name": "stdout",
     "output_type": "stream",
     "text": [
      "(86, 4)\n"
     ]
    },
    {
     "data": {
      "text/html": [
       "<div>\n",
       "<style scoped>\n",
       "    .dataframe tbody tr th:only-of-type {\n",
       "        vertical-align: middle;\n",
       "    }\n",
       "\n",
       "    .dataframe tbody tr th {\n",
       "        vertical-align: top;\n",
       "    }\n",
       "\n",
       "    .dataframe thead th {\n",
       "        text-align: right;\n",
       "    }\n",
       "</style>\n",
       "<table border=\"1\" class=\"dataframe\">\n",
       "  <thead>\n",
       "    <tr style=\"text-align: right;\">\n",
       "      <th></th>\n",
       "      <th>GEOID</th>\n",
       "      <th>Population</th>\n",
       "      <th>state</th>\n",
       "      <th>index</th>\n",
       "    </tr>\n",
       "  </thead>\n",
       "  <tbody>\n",
       "    <tr>\n",
       "      <th>450</th>\n",
       "      <td>17001</td>\n",
       "      <td>65530</td>\n",
       "      <td>17</td>\n",
       "      <td>450</td>\n",
       "    </tr>\n",
       "    <tr>\n",
       "      <th>451</th>\n",
       "      <td>17005</td>\n",
       "      <td>16663</td>\n",
       "      <td>17</td>\n",
       "      <td>451</td>\n",
       "    </tr>\n",
       "    <tr>\n",
       "      <th>452</th>\n",
       "      <td>17007</td>\n",
       "      <td>53326</td>\n",
       "      <td>17</td>\n",
       "      <td>452</td>\n",
       "    </tr>\n",
       "  </tbody>\n",
       "</table>\n",
       "</div>"
      ],
      "text/plain": [
       "     GEOID  Population state  index\n",
       "450  17001       65530    17    450\n",
       "451  17005       16663    17    451\n",
       "452  17007       53326    17    452"
      ]
     },
     "execution_count": 34,
     "metadata": {},
     "output_type": "execute_result"
    }
   ],
   "source": [
    "illinois = node_dict[node_dict['state'] == '17']\n",
    "\n",
    "#Index list--------------This is the one that check if weight matrix is in the same order as SEIR initial condition\n",
    "E_il_index = illinois['GEOID'].to_list()\n",
    "\n",
    "#Population list\n",
    "pop_list = illinois['Population'].tolist()\n",
    "\n",
    "#Print the dataset\n",
    "print(illinois.shape)\n",
    "illinois.head(3)"
   ]
  },
  {
   "cell_type": "code",
   "execution_count": 8,
   "id": "fb09c22e",
   "metadata": {},
   "outputs": [
    {
     "name": "stdout",
     "output_type": "stream",
     "text": [
      "[450, 451, 452, 453, 454, 455, 456, 457, 458, 459, 460, 461, 462, 463, 464, 465, 466, 467, 468, 469, 470, 471, 472, 473, 474, 475, 476, 477, 478, 479, 480, 481, 482, 483, 484, 485, 486, 487, 488, 489, 490, 491, 492, 493, 494, 495, 496, 497, 498, 499, 500, 501, 502, 503, 504, 505, 506, 507, 508, 509, 510, 511, 512, 513, 514, 515, 516, 517, 518, 519, 520, 521, 522, 523, 524, 525, 526, 527, 528, 529, 530, 531, 532, 533, 534, 535]\n"
     ]
    }
   ],
   "source": [
    "index = arizona['index'].tolist()\n",
    "print(index)"
   ]
  },
  {
   "cell_type": "markdown",
   "id": "bd221031",
   "metadata": {},
   "source": [
    "# Original Matrix for reference"
   ]
  },
  {
   "cell_type": "code",
   "execution_count": 9,
   "id": "7acc6ce1",
   "metadata": {},
   "outputs": [],
   "source": [
    "#Open the 12 weight matrix\n",
    "column_names = ['origin', 'destination', 'count', 'weight']\n",
    "for i in range(12):\n",
    "    n = i +1\n",
    "    \n",
    "    df = pd.read_csv(f\"../../Data/monthly_matrix_sd_county_month{n}_county.txt\", \n",
    "                     delimiter=' ', names=column_names)\n",
    "    \n",
    "    #Making sure all origin and destination are states in New York\n",
    "    df = df[(df['origin'].isin(index)) & (df['destination'].isin(index))]\n",
    "    \n",
    "    # Store the modified DataFrame\n",
    "    globals()[f'wt_mt{n}'] = df"
   ]
  },
  {
   "cell_type": "code",
   "execution_count": 10,
   "id": "22cd2d7b",
   "metadata": {},
   "outputs": [
    {
     "data": {
      "text/html": [
       "<div>\n",
       "<style scoped>\n",
       "    .dataframe tbody tr th:only-of-type {\n",
       "        vertical-align: middle;\n",
       "    }\n",
       "\n",
       "    .dataframe tbody tr th {\n",
       "        vertical-align: top;\n",
       "    }\n",
       "\n",
       "    .dataframe thead th {\n",
       "        text-align: right;\n",
       "    }\n",
       "</style>\n",
       "<table border=\"1\" class=\"dataframe\">\n",
       "  <thead>\n",
       "    <tr style=\"text-align: right;\">\n",
       "      <th></th>\n",
       "      <th>origin</th>\n",
       "      <th>destination</th>\n",
       "      <th>count</th>\n",
       "      <th>weight</th>\n",
       "    </tr>\n",
       "  </thead>\n",
       "  <tbody>\n",
       "    <tr>\n",
       "      <th>867199</th>\n",
       "      <td>450</td>\n",
       "      <td>452</td>\n",
       "      <td>12</td>\n",
       "      <td>0.000087</td>\n",
       "    </tr>\n",
       "    <tr>\n",
       "      <th>867200</th>\n",
       "      <td>452</td>\n",
       "      <td>452</td>\n",
       "      <td>12</td>\n",
       "      <td>0.537017</td>\n",
       "    </tr>\n",
       "    <tr>\n",
       "      <th>867201</th>\n",
       "      <td>453</td>\n",
       "      <td>452</td>\n",
       "      <td>12</td>\n",
       "      <td>0.000875</td>\n",
       "    </tr>\n",
       "  </tbody>\n",
       "</table>\n",
       "</div>"
      ],
      "text/plain": [
       "        origin  destination  count    weight\n",
       "867199     450          452     12  0.000087\n",
       "867200     452          452     12  0.537017\n",
       "867201     453          452     12  0.000875"
      ]
     },
     "execution_count": 10,
     "metadata": {},
     "output_type": "execute_result"
    }
   ],
   "source": [
    "wt_mt12.head(3)"
   ]
  },
  {
   "cell_type": "code",
   "execution_count": 11,
   "id": "dcc4694b",
   "metadata": {},
   "outputs": [],
   "source": [
    "#Turn each data into a matrix\n",
    "#Transform the dataframe to a matrix with pivot table\n",
    "for i in range(12):\n",
    "    n = i+1\n",
    "    matrix = globals()[f'wt_mt{n}'].pivot_table(index='origin', \n",
    "                                                columns='destination', \n",
    "                                                values= 'weight', fill_value=0)\n",
    "    matrix = matrix.reset_index()\n",
    "    matrix = matrix.drop(columns = [\"origin\"]) #drop the origin column\n",
    "    globals()[f'matrix{n}'] = matrix"
   ]
  },
  {
   "cell_type": "code",
   "execution_count": 12,
   "id": "8a2559b0",
   "metadata": {},
   "outputs": [],
   "source": [
    "for i in range(12):\n",
    "    n = i +1\n",
    "    count_df = globals()[f'matrix{n}'].multiply(pop_list, axis=0)\n",
    "    globals()[f'count_df{n}'] = count_df"
   ]
  },
  {
   "cell_type": "code",
   "execution_count": 18,
   "id": "005f1200",
   "metadata": {},
   "outputs": [
    {
     "name": "stdout",
     "output_type": "stream",
     "text": [
      "(86, 86)\n"
     ]
    },
    {
     "data": {
      "text/html": [
       "<div>\n",
       "<style scoped>\n",
       "    .dataframe tbody tr th:only-of-type {\n",
       "        vertical-align: middle;\n",
       "    }\n",
       "\n",
       "    .dataframe tbody tr th {\n",
       "        vertical-align: top;\n",
       "    }\n",
       "\n",
       "    .dataframe thead th {\n",
       "        text-align: right;\n",
       "    }\n",
       "</style>\n",
       "<table border=\"1\" class=\"dataframe\">\n",
       "  <thead>\n",
       "    <tr style=\"text-align: right;\">\n",
       "      <th>destination</th>\n",
       "      <th>450</th>\n",
       "      <th>451</th>\n",
       "      <th>452</th>\n",
       "      <th>453</th>\n",
       "      <th>454</th>\n",
       "      <th>455</th>\n",
       "      <th>456</th>\n",
       "      <th>457</th>\n",
       "      <th>458</th>\n",
       "      <th>459</th>\n",
       "      <th>...</th>\n",
       "      <th>526</th>\n",
       "      <th>527</th>\n",
       "      <th>528</th>\n",
       "      <th>529</th>\n",
       "      <th>530</th>\n",
       "      <th>531</th>\n",
       "      <th>532</th>\n",
       "      <th>533</th>\n",
       "      <th>534</th>\n",
       "      <th>535</th>\n",
       "    </tr>\n",
       "  </thead>\n",
       "  <tbody>\n",
       "    <tr>\n",
       "      <th>0</th>\n",
       "      <td>52111.933459</td>\n",
       "      <td>10.720519</td>\n",
       "      <td>6.337626</td>\n",
       "      <td>8.520464</td>\n",
       "      <td>12.337215</td>\n",
       "      <td>54.889411</td>\n",
       "      <td>27.811519</td>\n",
       "      <td>11.127344</td>\n",
       "      <td>6.966946</td>\n",
       "      <td>3.261686</td>\n",
       "      <td>...</td>\n",
       "      <td>7.19764</td>\n",
       "      <td>21.241370</td>\n",
       "      <td>7.850215</td>\n",
       "      <td>6.916519</td>\n",
       "      <td>6.683061</td>\n",
       "      <td>13.186394</td>\n",
       "      <td>27.665742</td>\n",
       "      <td>11.574378</td>\n",
       "      <td>9.637898</td>\n",
       "      <td>11.253416</td>\n",
       "    </tr>\n",
       "    <tr>\n",
       "      <th>1</th>\n",
       "      <td>10.425786</td>\n",
       "      <td>8254.570877</td>\n",
       "      <td>1.281018</td>\n",
       "      <td>3.985297</td>\n",
       "      <td>1.361914</td>\n",
       "      <td>7.133835</td>\n",
       "      <td>14.836756</td>\n",
       "      <td>13.552659</td>\n",
       "      <td>10.917038</td>\n",
       "      <td>8.781372</td>\n",
       "      <td>...</td>\n",
       "      <td>2.29854</td>\n",
       "      <td>5.491941</td>\n",
       "      <td>22.132376</td>\n",
       "      <td>12.731866</td>\n",
       "      <td>7.636642</td>\n",
       "      <td>7.626253</td>\n",
       "      <td>8.669282</td>\n",
       "      <td>16.602062</td>\n",
       "      <td>7.626894</td>\n",
       "      <td>6.972749</td>\n",
       "    </tr>\n",
       "    <tr>\n",
       "      <th>2</th>\n",
       "      <td>13.997021</td>\n",
       "      <td>3.667755</td>\n",
       "      <td>28612.151251</td>\n",
       "      <td>25.055111</td>\n",
       "      <td>18.401346</td>\n",
       "      <td>3.729596</td>\n",
       "      <td>40.846615</td>\n",
       "      <td>5.096730</td>\n",
       "      <td>6.468429</td>\n",
       "      <td>2.384429</td>\n",
       "      <td>...</td>\n",
       "      <td>3.11652</td>\n",
       "      <td>6.184460</td>\n",
       "      <td>1.815156</td>\n",
       "      <td>1.375360</td>\n",
       "      <td>2.195027</td>\n",
       "      <td>39.005533</td>\n",
       "      <td>77.033460</td>\n",
       "      <td>7.937531</td>\n",
       "      <td>10283.803765</td>\n",
       "      <td>12.073622</td>\n",
       "    </tr>\n",
       "  </tbody>\n",
       "</table>\n",
       "<p>3 rows × 86 columns</p>\n",
       "</div>"
      ],
      "text/plain": [
       "destination           450          451           452        453        454  \\\n",
       "0            52111.933459    10.720519      6.337626   8.520464  12.337215   \n",
       "1               10.425786  8254.570877      1.281018   3.985297   1.361914   \n",
       "2               13.997021     3.667755  28612.151251  25.055111  18.401346   \n",
       "\n",
       "destination        455        456        457        458       459  ...  \\\n",
       "0            54.889411  27.811519  11.127344   6.966946  3.261686  ...   \n",
       "1             7.133835  14.836756  13.552659  10.917038  8.781372  ...   \n",
       "2             3.729596  40.846615   5.096730   6.468429  2.384429  ...   \n",
       "\n",
       "destination      526        527        528        529       530        531  \\\n",
       "0            7.19764  21.241370   7.850215   6.916519  6.683061  13.186394   \n",
       "1            2.29854   5.491941  22.132376  12.731866  7.636642   7.626253   \n",
       "2            3.11652   6.184460   1.815156   1.375360  2.195027  39.005533   \n",
       "\n",
       "destination        532        533           534        535  \n",
       "0            27.665742  11.574378      9.637898  11.253416  \n",
       "1             8.669282  16.602062      7.626894   6.972749  \n",
       "2            77.033460   7.937531  10283.803765  12.073622  \n",
       "\n",
       "[3 rows x 86 columns]"
      ]
     },
     "execution_count": 18,
     "metadata": {},
     "output_type": "execute_result"
    }
   ],
   "source": [
    "average_count_df = sum(globals()[f'count_df{i}'] for i in range(1, 13)) / 12\n",
    "print(average_count_df.shape)\n",
    "average_count_df.head(3)"
   ]
  },
  {
   "cell_type": "code",
   "execution_count": 22,
   "id": "f9174c2b",
   "metadata": {},
   "outputs": [
    {
     "data": {
      "text/html": [
       "<div>\n",
       "<style scoped>\n",
       "    .dataframe tbody tr th:only-of-type {\n",
       "        vertical-align: middle;\n",
       "    }\n",
       "\n",
       "    .dataframe tbody tr th {\n",
       "        vertical-align: top;\n",
       "    }\n",
       "\n",
       "    .dataframe thead th {\n",
       "        text-align: right;\n",
       "    }\n",
       "</style>\n",
       "<table border=\"1\" class=\"dataframe\">\n",
       "  <thead>\n",
       "    <tr style=\"text-align: right;\">\n",
       "      <th>destination</th>\n",
       "      <th>450</th>\n",
       "      <th>451</th>\n",
       "      <th>452</th>\n",
       "      <th>453</th>\n",
       "      <th>454</th>\n",
       "      <th>455</th>\n",
       "      <th>456</th>\n",
       "      <th>457</th>\n",
       "      <th>458</th>\n",
       "      <th>459</th>\n",
       "      <th>...</th>\n",
       "      <th>526</th>\n",
       "      <th>527</th>\n",
       "      <th>528</th>\n",
       "      <th>529</th>\n",
       "      <th>530</th>\n",
       "      <th>531</th>\n",
       "      <th>532</th>\n",
       "      <th>533</th>\n",
       "      <th>534</th>\n",
       "      <th>535</th>\n",
       "    </tr>\n",
       "  </thead>\n",
       "  <tbody>\n",
       "    <tr>\n",
       "      <th>0</th>\n",
       "      <td>0.954115</td>\n",
       "      <td>0.000196</td>\n",
       "      <td>0.000116</td>\n",
       "      <td>0.000156</td>\n",
       "      <td>0.000226</td>\n",
       "      <td>0.001005</td>\n",
       "      <td>0.000509</td>\n",
       "      <td>0.000204</td>\n",
       "      <td>0.000128</td>\n",
       "      <td>0.000060</td>\n",
       "      <td>...</td>\n",
       "      <td>0.000132</td>\n",
       "      <td>0.000389</td>\n",
       "      <td>0.000144</td>\n",
       "      <td>0.000127</td>\n",
       "      <td>0.000122</td>\n",
       "      <td>0.000241</td>\n",
       "      <td>0.000507</td>\n",
       "      <td>0.000212</td>\n",
       "      <td>0.000176</td>\n",
       "      <td>0.000206</td>\n",
       "    </tr>\n",
       "    <tr>\n",
       "      <th>1</th>\n",
       "      <td>0.000830</td>\n",
       "      <td>0.656912</td>\n",
       "      <td>0.000102</td>\n",
       "      <td>0.000317</td>\n",
       "      <td>0.000108</td>\n",
       "      <td>0.000568</td>\n",
       "      <td>0.001181</td>\n",
       "      <td>0.001079</td>\n",
       "      <td>0.000869</td>\n",
       "      <td>0.000699</td>\n",
       "      <td>...</td>\n",
       "      <td>0.000183</td>\n",
       "      <td>0.000437</td>\n",
       "      <td>0.001761</td>\n",
       "      <td>0.001013</td>\n",
       "      <td>0.000608</td>\n",
       "      <td>0.000607</td>\n",
       "      <td>0.000690</td>\n",
       "      <td>0.001321</td>\n",
       "      <td>0.000607</td>\n",
       "      <td>0.000555</td>\n",
       "    </tr>\n",
       "    <tr>\n",
       "      <th>2</th>\n",
       "      <td>0.000316</td>\n",
       "      <td>0.000083</td>\n",
       "      <td>0.646386</td>\n",
       "      <td>0.000566</td>\n",
       "      <td>0.000416</td>\n",
       "      <td>0.000084</td>\n",
       "      <td>0.000923</td>\n",
       "      <td>0.000115</td>\n",
       "      <td>0.000146</td>\n",
       "      <td>0.000054</td>\n",
       "      <td>...</td>\n",
       "      <td>0.000070</td>\n",
       "      <td>0.000140</td>\n",
       "      <td>0.000041</td>\n",
       "      <td>0.000031</td>\n",
       "      <td>0.000050</td>\n",
       "      <td>0.000881</td>\n",
       "      <td>0.001740</td>\n",
       "      <td>0.000179</td>\n",
       "      <td>0.232325</td>\n",
       "      <td>0.000273</td>\n",
       "    </tr>\n",
       "  </tbody>\n",
       "</table>\n",
       "<p>3 rows × 86 columns</p>\n",
       "</div>"
      ],
      "text/plain": [
       "destination       450       451       452       453       454       455  \\\n",
       "0            0.954115  0.000196  0.000116  0.000156  0.000226  0.001005   \n",
       "1            0.000830  0.656912  0.000102  0.000317  0.000108  0.000568   \n",
       "2            0.000316  0.000083  0.646386  0.000566  0.000416  0.000084   \n",
       "\n",
       "destination       456       457       458       459  ...       526       527  \\\n",
       "0            0.000509  0.000204  0.000128  0.000060  ...  0.000132  0.000389   \n",
       "1            0.001181  0.001079  0.000869  0.000699  ...  0.000183  0.000437   \n",
       "2            0.000923  0.000115  0.000146  0.000054  ...  0.000070  0.000140   \n",
       "\n",
       "destination       528       529       530       531       532       533  \\\n",
       "0            0.000144  0.000127  0.000122  0.000241  0.000507  0.000212   \n",
       "1            0.001761  0.001013  0.000608  0.000607  0.000690  0.001321   \n",
       "2            0.000041  0.000031  0.000050  0.000881  0.001740  0.000179   \n",
       "\n",
       "destination       534       535  \n",
       "0            0.000176  0.000206  \n",
       "1            0.000607  0.000555  \n",
       "2            0.232325  0.000273  \n",
       "\n",
       "[3 rows x 86 columns]"
      ]
     },
     "execution_count": 22,
     "metadata": {},
     "output_type": "execute_result"
    }
   ],
   "source": [
    "#Turn count to weight\n",
    "divisor = [average_count_df.iloc[i].sum() for i in range(86)]\n",
    "average_wt_mt = average_count_df.div(divisor, axis=0)\n",
    "average_wt_mt.head(3)"
   ]
  },
  {
   "cell_type": "code",
   "execution_count": 23,
   "id": "c5022125",
   "metadata": {},
   "outputs": [],
   "source": [
    "average_wt_mt_np = average_wt_mt.to_numpy()"
   ]
  },
  {
   "cell_type": "code",
   "execution_count": 24,
   "id": "77231a7f",
   "metadata": {},
   "outputs": [
    {
     "data": {
      "text/plain": [
       "0.9541149998180912"
      ]
     },
     "execution_count": 24,
     "metadata": {},
     "output_type": "execute_result"
    }
   ],
   "source": [
    "average_wt_mt_np[0][0]"
   ]
  },
  {
   "cell_type": "code",
   "execution_count": 25,
   "id": "e477a7b0",
   "metadata": {},
   "outputs": [],
   "source": [
    "Pii_ori = [average_wt_mt_np[i][i] for i in range(86)]"
   ]
  },
  {
   "cell_type": "code",
   "execution_count": 26,
   "id": "c05e1d72",
   "metadata": {},
   "outputs": [
    {
     "name": "stdout",
     "output_type": "stream",
     "text": [
      "Mean: 0.7760935908779321\n",
      "Median: 0.7854916371876541\n",
      "Min: 0.5844284585042088\n",
      "Max: 0.9541149998180912\n",
      "Length of the list: 86\n"
     ]
    }
   ],
   "source": [
    "data = Pii_ori \n",
    "mean_value = sum(data) / len(data)  # Mean\n",
    "median_value = statistics.median(data)  # Median\n",
    "min_value = min(data)  # Min\n",
    "max_value = max(data)  # Max\n",
    "\n",
    "# Output\n",
    "print(f\"Mean: {mean_value}\")\n",
    "print(f\"Median: {median_value}\")\n",
    "print(f\"Min: {min_value}\")\n",
    "print(f\"Max: {max_value}\")\n",
    "print(f\"Length of the list: {len(Pii_ori)}\")"
   ]
  },
  {
   "cell_type": "markdown",
   "id": "1b5d57f4",
   "metadata": {},
   "source": [
    "# Individual Data"
   ]
  },
  {
   "cell_type": "markdown",
   "id": "1a90d7f3",
   "metadata": {},
   "source": [
    "## Different Layers of Census Data\n",
    "\n",
    "- State (2 digit)\n",
    "- County (5 digit)\n",
    "- Census Tracts (4 digits)\n",
    "- Census Block Groups\n",
    "- Census tracts"
   ]
  },
  {
   "cell_type": "code",
   "execution_count": 27,
   "id": "66114035",
   "metadata": {},
   "outputs": [
    {
     "name": "stdout",
     "output_type": "stream",
     "text": [
      "(4697462, 4)\n"
     ]
    },
    {
     "data": {
      "text/html": [
       "<div>\n",
       "<style scoped>\n",
       "    .dataframe tbody tr th:only-of-type {\n",
       "        vertical-align: middle;\n",
       "    }\n",
       "\n",
       "    .dataframe tbody tr th {\n",
       "        vertical-align: top;\n",
       "    }\n",
       "\n",
       "    .dataframe thead th {\n",
       "        text-align: right;\n",
       "    }\n",
       "</style>\n",
       "<table border=\"1\" class=\"dataframe\">\n",
       "  <thead>\n",
       "    <tr style=\"text-align: right;\">\n",
       "      <th></th>\n",
       "      <th>uid</th>\n",
       "      <th>datetime</th>\n",
       "      <th>lat</th>\n",
       "      <th>lng</th>\n",
       "    </tr>\n",
       "  </thead>\n",
       "  <tbody>\n",
       "    <tr>\n",
       "      <th>0</th>\n",
       "      <td>1</td>\n",
       "      <td>2020-03-01 00:00:00.000000</td>\n",
       "      <td>41.797640</td>\n",
       "      <td>-89.701132</td>\n",
       "    </tr>\n",
       "    <tr>\n",
       "      <th>1</th>\n",
       "      <td>1</td>\n",
       "      <td>2020-03-01 08:36:57.339869</td>\n",
       "      <td>41.792552</td>\n",
       "      <td>-89.700469</td>\n",
       "    </tr>\n",
       "    <tr>\n",
       "      <th>2</th>\n",
       "      <td>1</td>\n",
       "      <td>2020-03-01 09:14:04.636129</td>\n",
       "      <td>41.797640</td>\n",
       "      <td>-89.701132</td>\n",
       "    </tr>\n",
       "    <tr>\n",
       "      <th>3</th>\n",
       "      <td>1</td>\n",
       "      <td>2020-03-01 10:33:32.341722</td>\n",
       "      <td>41.792552</td>\n",
       "      <td>-89.700469</td>\n",
       "    </tr>\n",
       "    <tr>\n",
       "      <th>4</th>\n",
       "      <td>1</td>\n",
       "      <td>2020-03-01 17:08:49.213984</td>\n",
       "      <td>41.790875</td>\n",
       "      <td>-89.708589</td>\n",
       "    </tr>\n",
       "  </tbody>\n",
       "</table>\n",
       "</div>"
      ],
      "text/plain": [
       "   uid                    datetime        lat        lng\n",
       "0    1  2020-03-01 00:00:00.000000  41.797640 -89.701132\n",
       "1    1  2020-03-01 08:36:57.339869  41.792552 -89.700469\n",
       "2    1  2020-03-01 09:14:04.636129  41.797640 -89.701132\n",
       "3    1  2020-03-01 10:33:32.341722  41.792552 -89.700469\n",
       "4    1  2020-03-01 17:08:49.213984  41.790875 -89.708589"
      ]
     },
     "execution_count": 27,
     "metadata": {},
     "output_type": "execute_result"
    }
   ],
   "source": [
    "data = pd.read_csv(\"IL_4Week_10000_realpop.csv\")\n",
    "data = data.drop(columns = 'Unnamed: 0')\n",
    "print(data.shape)\n",
    "data.head()"
   ]
  },
  {
   "cell_type": "code",
   "execution_count": 28,
   "id": "c4fc41d0",
   "metadata": {},
   "outputs": [],
   "source": [
    "indi_visit_list = []\n",
    "for i in range(10000):\n",
    "    id_num = i+1\n",
    "    #if i % 4000 == 0:\n",
    "    #    print(i)\n",
    "    indi_sub = data[data['uid'] == id_num]\n",
    "    length = len(indi_sub)\n",
    "    indi_visit_list.append(length)"
   ]
  },
  {
   "cell_type": "code",
   "execution_count": 29,
   "id": "eff5e607",
   "metadata": {},
   "outputs": [
    {
     "data": {
      "image/png": "[encoded data removed]",
      "text/plain": [
       "<Figure size 640x480 with 1 Axes>"
      ]
     },
     "metadata": {},
     "output_type": "display_data"
    },
    {
     "name": "stdout",
     "output_type": "stream",
     "text": [
      "Min: 317\n",
      "5%: 404.0\n",
      "Median: 470.0\n",
      "95%: 532.0\n",
      "Max: 599\n"
     ]
    }
   ],
   "source": [
    "import seaborn as sns\n",
    "import matplotlib.pyplot as plt\n",
    "\n",
    "sns.kdeplot(indi_visit_list, fill=True)\n",
    "plt.xlabel('Total visit')\n",
    "plt.ylabel('Density')\n",
    "plt.title('Density Plot')\n",
    "plt.show()\n",
    "\n",
    "min_val = np.min(indi_visit_list)\n",
    "P5 = np.percentile(indi_visit_list, 5)\n",
    "median = np.median(indi_visit_list)\n",
    "P95 = np.percentile(indi_visit_list, 95)\n",
    "max_val = np.max(indi_visit_list)\n",
    "\n",
    "print(f\"Min: {min_val}\")\n",
    "print(f\"5%: {P5}\")\n",
    "print(f\"Median: {median}\")\n",
    "print(f\"95%: {P95}\")\n",
    "print(f\"Max: {max_val}\")"
   ]
  },
  {
   "cell_type": "markdown",
   "id": "e0330a82",
   "metadata": {},
   "source": [
    "# Census Tract Shape File"
   ]
  },
  {
   "cell_type": "markdown",
   "id": "40c271c9",
   "metadata": {},
   "source": [
    "https://www.census.gov/geographies/mapping-files/time-series/geo/tiger-line-file.html\n",
    "- Go to Data\n",
    "- Mapping file\n",
    "- TIGER/Line Geodatabases (GIS)\n",
    "\n",
    "\n",
    "Here's the county level shape file:\n",
    "https://www.census.gov/geographies/mapping-files/time-series/geo/carto-boundary-file.html"
   ]
  },
  {
   "cell_type": "code",
   "execution_count": 30,
   "id": "2ccabdff",
   "metadata": {},
   "outputs": [],
   "source": [
    "#Note that geopandas only works in ipykernel environment\n",
    "import geopandas as gpd\n",
    "from shapely.geometry import Point\n",
    "from shapely.wkt import loads"
   ]
  },
  {
   "cell_type": "markdown",
   "id": "dbd72bc1",
   "metadata": {},
   "source": [
    "## trying census block group this time!"
   ]
  },
  {
   "cell_type": "code",
   "execution_count": 31,
   "id": "aeabba46",
   "metadata": {},
   "outputs": [
    {
     "name": "stdout",
     "output_type": "stream",
     "text": [
      "Index(['GEOID', 'geometry'], dtype='object')\n",
      "(9898, 2)\n"
     ]
    },
    {
     "data": {
      "text/html": [
       "<div>\n",
       "<style scoped>\n",
       "    .dataframe tbody tr th:only-of-type {\n",
       "        vertical-align: middle;\n",
       "    }\n",
       "\n",
       "    .dataframe tbody tr th {\n",
       "        vertical-align: top;\n",
       "    }\n",
       "\n",
       "    .dataframe thead th {\n",
       "        text-align: right;\n",
       "    }\n",
       "</style>\n",
       "<table border=\"1\" class=\"dataframe\">\n",
       "  <thead>\n",
       "    <tr style=\"text-align: right;\">\n",
       "      <th></th>\n",
       "      <th>GEOID</th>\n",
       "      <th>geometry</th>\n",
       "    </tr>\n",
       "  </thead>\n",
       "  <tbody>\n",
       "    <tr>\n",
       "      <th>0</th>\n",
       "      <td>170438413161</td>\n",
       "      <td>POLYGON ((-88.20740 41.98733, -88.20728 41.987...</td>\n",
       "    </tr>\n",
       "  </tbody>\n",
       "</table>\n",
       "</div>"
      ],
      "text/plain": [
       "          GEOID                                           geometry\n",
       "0  170438413161  POLYGON ((-88.20740 41.98733, -88.20728 41.987..."
      ]
     },
     "execution_count": 31,
     "metadata": {},
     "output_type": "execute_result"
    }
   ],
   "source": [
    "#url = \"https://www2.census.gov/geo/tiger/TIGER2020/BG/tl_2020_53_bg.zip\"\n",
    "#tracts = gpd.read_file(url)[[\"GEOID\", \"geometry\"]]\n",
    "tracts = gpd.read_file(\"tl_2020_17_bg/tl_2020_17_bg.shp\")[[\"GEOID\", \"geometry\"]]\n",
    "print(tracts.columns)\n",
    "print(tracts.shape)\n",
    "tracts.head(1) "
   ]
  },
  {
   "cell_type": "code",
   "execution_count": 35,
   "id": "094284f0",
   "metadata": {},
   "outputs": [
    {
     "name": "stdout",
     "output_type": "stream",
     "text": [
      "(9777, 3)\n"
     ]
    },
    {
     "data": {
      "text/html": [
       "<div>\n",
       "<style scoped>\n",
       "    .dataframe tbody tr th:only-of-type {\n",
       "        vertical-align: middle;\n",
       "    }\n",
       "\n",
       "    .dataframe tbody tr th {\n",
       "        vertical-align: top;\n",
       "    }\n",
       "\n",
       "    .dataframe thead th {\n",
       "        text-align: right;\n",
       "    }\n",
       "</style>\n",
       "<table border=\"1\" class=\"dataframe\">\n",
       "  <thead>\n",
       "    <tr style=\"text-align: right;\">\n",
       "      <th></th>\n",
       "      <th>GEOID</th>\n",
       "      <th>geometry</th>\n",
       "      <th>County</th>\n",
       "    </tr>\n",
       "  </thead>\n",
       "  <tbody>\n",
       "    <tr>\n",
       "      <th>0</th>\n",
       "      <td>170438413161</td>\n",
       "      <td>POLYGON ((-88.20740 41.98733, -88.20728 41.987...</td>\n",
       "      <td>17043</td>\n",
       "    </tr>\n",
       "    <tr>\n",
       "      <th>1</th>\n",
       "      <td>170438414031</td>\n",
       "      <td>POLYGON ((-88.16152 41.87110, -88.16150 41.871...</td>\n",
       "      <td>17043</td>\n",
       "    </tr>\n",
       "    <tr>\n",
       "      <th>2</th>\n",
       "      <td>170399714001</td>\n",
       "      <td>POLYGON ((-88.74649 40.22437, -88.74647 40.226...</td>\n",
       "      <td>17039</td>\n",
       "    </tr>\n",
       "  </tbody>\n",
       "</table>\n",
       "</div>"
      ],
      "text/plain": [
       "          GEOID                                           geometry County\n",
       "0  170438413161  POLYGON ((-88.20740 41.98733, -88.20728 41.987...  17043\n",
       "1  170438414031  POLYGON ((-88.16152 41.87110, -88.16150 41.871...  17043\n",
       "2  170399714001  POLYGON ((-88.74649 40.22437, -88.74647 40.226...  17039"
      ]
     },
     "execution_count": 35,
     "metadata": {},
     "output_type": "execute_result"
    }
   ],
   "source": [
    "#Maing sure the shape file that we use to perform Geospacial join are all in countis of interest\n",
    "tracts['County'] = tracts['GEOID'].str[:5].copy()\n",
    "tracts = tracts[tracts['County'].isin(E_il_index)]\n",
    "print(tracts.shape)\n",
    "tracts.head(3)"
   ]
  },
  {
   "cell_type": "code",
   "execution_count": 36,
   "id": "3d610447",
   "metadata": {},
   "outputs": [
    {
     "data": {
      "text/plain": [
       "86"
      ]
     },
     "execution_count": 36,
     "metadata": {},
     "output_type": "execute_result"
    }
   ],
   "source": [
    "len(tracts['County'].unique().tolist())"
   ]
  },
  {
   "cell_type": "code",
   "execution_count": 37,
   "id": "2b6b75f3",
   "metadata": {},
   "outputs": [
    {
     "data": {
      "text/plain": [
       "['17']"
      ]
     },
     "execution_count": 37,
     "metadata": {},
     "output_type": "execute_result"
    }
   ],
   "source": [
    "#To test if they are all New York Data\n",
    "test = tracts.copy()\n",
    "test['state'] = test['GEOID'].str[:2]\n",
    "unique_state = test['state'].unique().tolist()\n",
    "unique_state"
   ]
  },
  {
   "cell_type": "code",
   "execution_count": 38,
   "id": "e6b1ecd1",
   "metadata": {},
   "outputs": [
    {
     "data": {
      "image/svg+xml": [
       "<svg xmlns=\"http://www.w3.org/2000/svg\" xmlns:xlink=\"http://www.w3.org/1999/xlink\" width=\"100.0\" height=\"100.0\" viewBox=\"-88.47944772 41.17723828 0.14511744000000704 0.11464044000000229\" preserveAspectRatio=\"xMinYMin meet\"><g transform=\"matrix(1,0,0,-1,0,82.469117)\"><path fill-rule=\"evenodd\" fill=\"#66cc99\" stroke=\"#555555\" stroke-width=\"0.0029023488000001407\" opacity=\"0.6\" d=\"M -88.47407299999999,41.239788 L -88.47338099999999,41.239816 L -88.467967,41.239959999999996 L -88.465924,41.240013 L -88.464627,41.240047 L -88.459316,41.240173999999996 L -88.45755,41.24022 L -88.45759,41.241307 L -88.45781799999999,41.245802 L -88.457821,41.245928 L -88.45785599999999,41.247296999999996 L -88.457883,41.248383 L -88.45794099999999,41.249614 L -88.457989,41.250628 L -88.458013,41.25132 L -88.458134,41.254751999999996 L -88.45814899999999,41.255413 L -88.458182,41.256442 L -88.45832,41.260391 L -88.458359,41.262146 L -88.458376,41.262906 L -88.458461,41.265139 L -88.45846,41.265415 L -88.45845899999999,41.26584 L -88.458362,41.266155999999995 L -88.458185,41.266425999999996 L -88.457994,41.266788999999996 L -88.45794699999999,41.267032 L -88.457945,41.267137 L -88.45794,41.267438 L -88.45793499999999,41.267793 L -88.457929,41.268192 L -88.457951,41.269148 L -88.457866,41.269261 L -88.457641,41.269296 L -88.457242,41.269301 L -88.456969,41.269307999999995 L -88.454387,41.269369999999995 L -88.452017,41.269439 L -88.44890199999999,41.269515999999996 L -88.445405,41.269624 L -88.444103,41.269659999999995 L -88.439182,41.269791 L -88.43918599999999,41.270773 L -88.43927699999999,41.272161 L -88.439301,41.273039 L -88.43932099999999,41.273772 L -88.439335,41.275168 L -88.43936699999999,41.275619 L -88.439436,41.276601 L -88.43945099999999,41.276883 L -88.439409,41.276969 L -88.439289,41.277055 L -88.439116,41.27709 L -88.43745799999999,41.277097999999995 L -88.434246,41.277164 L -88.43262299999999,41.277197 L -88.43009699999999,41.277255 L -88.429958,41.277283 L -88.429856,41.277356 L -88.429814,41.277448 L -88.4298,41.277606 L -88.429859,41.279112 L -88.4299,41.281797999999995 L -88.429889,41.282371999999995 L -88.42988799999999,41.282416999999995 L -88.429887,41.282458999999996 L -88.429884,41.282643 L -88.429851,41.283122 L -88.429762,41.283817 L -88.42961199999999,41.284638 L -88.427854,41.284676999999995 L -88.42775999999999,41.284679 L -88.427666,41.284681 L -88.426976,41.284696 L -88.424965,41.284738999999995 L -88.42482799999999,41.284742 L -88.421463,41.284831 L -88.420357,41.28485 L -88.41973999999999,41.284873999999995 L -88.417113,41.284945 L -88.413231,41.285031 L -88.410349,41.285098 L -88.40610699999999,41.285198 L -88.40515099999999,41.285219999999995 L -88.39975199999999,41.28535 L -88.39516499999999,41.285444999999996 L -88.39041999999999,41.285542 L -88.385942,41.28565 L -88.38170699999999,41.285717999999996 L -88.380837,41.285736 L -88.375114,41.285862 L -88.37364,41.285889999999995 L -88.371325,41.285934 L -88.36711299999999,41.286093 L -88.366404,41.286097 L -88.36429799999999,41.286108999999996 L -88.363365,41.286114 L -88.362619,41.286122999999996 L -88.362257,41.286127 L -88.362229,41.286127 L -88.36218,41.286128 L -88.360514,41.286148 L -88.360266,41.286151 L -88.360145,41.286152 L -88.360025,41.286153999999996 L -88.359479,41.286159999999995 L -88.35795399999999,41.286192 L -88.352105,41.286311999999995 L -88.351152,41.286333 L -88.346288,41.286446 L -88.343313,41.286497999999995 L -88.34299,41.286504 L -88.34297199999999,41.285785 L -88.342945,41.284704 L -88.342899,41.282041 L -88.34285299999999,41.279796999999995 L -88.342807,41.278045999999996 L -88.34277999999999,41.277052999999995 L -88.342674,41.272135 L -88.34263,41.270965 L -88.342563,41.268088999999996 L -88.342513,41.265626 L -88.342477,41.264579 L -88.34243099999999,41.26327 L -88.342389,41.261448 L -88.342382,41.261283 L -88.34236899999999,41.260732 L -88.34228999999999,41.257585999999996 L -88.34228499999999,41.257422 L -88.342249,41.256281 L -88.34222899999999,41.255269999999996 L -88.342202,41.253969999999995 L -88.342103,41.250321 L -88.342073,41.249266999999996 L -88.34204,41.248152 L -88.34201,41.247153 L -88.341994,41.246672 L -88.341965,41.245771 L -88.341916,41.244236 L -88.341899,41.243752 L -88.34187999999999,41.243218999999996 L -88.34187899999999,41.243179 L -88.341875,41.243069999999996 L -88.341869,41.242914999999996 L -88.341864,41.242761 L -88.341864,41.242498 L -88.341826,41.241538 L -88.341791,41.240476 L -88.341827,41.240286999999995 L -88.34193499999999,41.24003 L -88.342033,41.239737999999996 L -88.34205299999999,41.239525 L -88.342024,41.239276 L -88.341889,41.23898 L -88.341769,41.238617 L -88.34173899999999,41.238324999999996 L -88.341743,41.238119 L -88.341779,41.237947999999996 L -88.341897,41.237812999999996 L -88.342159,41.237634 L -88.342506,41.237265 L -88.34262199999999,41.237027 L -88.342601,41.236802 L -88.342479,41.236354 L -88.342315,41.236174 L -88.34205299999999,41.235994 L -88.341841,41.235833 L -88.341718,41.235718999999996 L -88.34165,41.235549999999996 L -88.341647,41.235493999999996 L -88.3416,41.234687 L -88.341546,41.232422 L -88.341453,41.229852 L -88.34144599999999,41.229543 L -88.341442,41.229318 L -88.341425,41.228564999999996 L -88.341391,41.227486999999996 L -88.34136699999999,41.226729 L -88.34134999999999,41.226245 L -88.34129899999999,41.224914 L -88.341229,41.222713999999996 L -88.3412,41.221261999999996 L -88.34118,41.220735999999995 L -88.341116,41.218927 L -88.341048,41.216907 L -88.340982,41.214681999999996 L -88.34088,41.212057 L -88.34079,41.20939 L -88.340734,41.207628 L -88.340715,41.206728 L -88.340661,41.205466 L -88.34048899999999,41.200748 L -88.34043799999999,41.199447 L -88.340437,41.199422 L -88.340401,41.198516999999995 L -88.34032499999999,41.197213 L -88.34027999999999,41.196504 L -88.340278,41.196475 L -88.34019699999999,41.195167 L -88.340079,41.193573 L -88.340018,41.192406999999996 L -88.339997,41.192007 L -88.339913,41.190151 L -88.339839,41.188716 L -88.33981899999999,41.188333 L -88.339738,41.186292 L -88.339705,41.185161 L -88.33983099999999,41.185157 L -88.33986499999999,41.185156 L -88.339972,41.185151999999995 L -88.34132799999999,41.185112 L -88.343353,41.18506 L -88.345074,41.185026 L -88.34848,41.184937999999995 L -88.349797,41.184906999999995 L -88.35054799999999,41.184889 L -88.35157,41.184864 L -88.353904,41.184827 L -88.35514599999999,41.184793 L -88.35609099999999,41.184773 L -88.35613599999999,41.184771999999995 L -88.357069,41.184751999999996 L -88.357309,41.184737 L -88.35792,41.184698999999995 L -88.358013,41.184678 L -88.358918,41.184472 L -88.359077,41.184453 L -88.359422,41.184408999999995 L -88.359481,41.184408 L -88.362147,41.184368 L -88.364184,41.184324 L -88.37005599999999,41.184225999999995 L -88.372137,41.184182 L -88.37389,41.184157 L -88.375074,41.184131 L -88.37834,41.184061 L -88.379607,41.184031999999995 L -88.379924,41.184022 L -88.38123399999999,41.183983 L -88.381361,41.183979 L -88.3867,41.183823 L -88.389208,41.183733 L -88.39072399999999,41.183693 L -88.39564899999999,41.183538999999996 L -88.396382,41.183519 L -88.397522,41.183485999999995 L -88.398322,41.183465 L -88.39844599999999,41.183462 L -88.39857099999999,41.183459 L -88.399773,41.183428 L -88.401489,41.183381999999995 L -88.403424,41.183324999999996 L -88.405808,41.183265 L -88.407226,41.183222 L -88.411857,41.183113999999996 L -88.412987,41.183091999999995 L -88.414287,41.183063 L -88.415973,41.183011 L -88.416651,41.18299 L -88.41884,41.182964 L -88.42170899999999,41.182900000000004 L -88.42772,41.182795 L -88.428495,41.182781999999996 L -88.430106,41.182762 L -88.430274,41.182759999999995 L -88.430678,41.182752 L -88.431069,41.182744 L -88.432835,41.182700000000004 L -88.434468,41.182665 L -88.43472899999999,41.182659 L -88.434978,41.182654 L -88.435232,41.182643 L -88.435898,41.182612999999996 L -88.43594,41.183394 L -88.435957,41.184204 L -88.435969,41.184733 L -88.435975,41.185019 L -88.436133,41.189326 L -88.43623099999999,41.191246 L -88.436285,41.19244 L -88.43633299999999,41.193512999999996 L -88.43636599999999,41.194218 L -88.436374,41.194654 L -88.436476,41.197105 L -88.444267,41.196908 L -88.444796,41.196895 L -88.448122,41.196813999999996 L -88.45152,41.196719 L -88.452771,41.196684 L -88.453538,41.196663 L -88.455776,41.196614 L -88.45951199999999,41.196511 L -88.462846,41.196433 L -88.464627,41.196391 L -88.469596,41.196259 L -88.47067299999999,41.196239 L -88.47219799999999,41.196211 L -88.472263,41.197745999999995 L -88.47237799999999,41.20019 L -88.472489,41.202397999999995 L -88.472517,41.203058999999996 L -88.472572,41.204339999999995 L -88.472574,41.204395999999996 L -88.472577,41.204451 L -88.47258,41.204505999999995 L -88.472582,41.204561999999996 L -88.472585,41.204634999999996 L -88.472657,41.206843 L -88.47269,41.20751 L -88.472706,41.207834 L -88.472768,41.209061999999996 L -88.472816,41.210539999999995 L -88.472842,41.210718 L -88.47296,41.213074999999996 L -88.472972,41.213415 L -88.473053,41.215753 L -88.473089,41.21653 L -88.473111,41.216983 L -88.47313799999999,41.217558 L -88.473186,41.218636 L -88.473282,41.221213999999996 L -88.47330199999999,41.221764 L -88.47341899999999,41.224368 L -88.473433,41.224689 L -88.473447,41.225242 L -88.473539,41.227098999999995 L -88.473643,41.229476999999996 L -88.473753,41.232152 L -88.47385,41.234314 L -88.473935,41.236159 L -88.47401599999999,41.237876 L -88.47407299999999,41.239788 z M -88.438262,41.240553999999996 L -88.43822399999999,41.239477 L -88.43803799999999,41.234924 L -88.43803299999999,41.234809 L -88.43799399999999,41.233896 L -88.437969,41.233272 L -88.437957,41.232959 L -88.43788599999999,41.231221 L -88.437805,41.228712 L -88.43777399999999,41.227374999999995 L -88.43777,41.227225999999995 L -88.437589,41.227142 L -88.437542,41.227132999999995 L -88.437399,41.227125 L -88.43735199999999,41.227126 L -88.437163,41.227151 L -88.436934,41.227202999999996 L -88.436849,41.227233999999996 L -88.436734,41.227298 L -88.436663,41.227345 L -88.436635,41.227374 L -88.43661499999999,41.227405999999995 L -88.43659,41.227475 L -88.436583,41.227545 L -88.436618,41.227610999999996 L -88.436664,41.227674 L -88.436692,41.227702 L -88.436712,41.227734999999996 L -88.43673799999999,41.227803 L -88.436746,41.22791 L -88.436731,41.227962999999995 L -88.436702,41.227990999999996 L -88.436664,41.228012 L -88.436498,41.228083999999996 L -88.436454,41.228097 L -88.436414,41.228117 L -88.43638,41.228142 L -88.43623199999999,41.228282 L -88.435992,41.228547999999996 L -88.43573699999999,41.22893 L -88.43570000000001,41.229034 L -88.435661,41.229316999999995 L -88.435665,41.229352 L -88.435728,41.229561 L -88.435828,41.229762 L -88.435848,41.229794 L -88.43595499999999,41.229912999999996 L -88.436059,41.229986 L -88.43618099999999,41.230042999999995 L -88.436268,41.230073 L -88.436314,41.230081999999996 L -88.436408,41.230093 L -88.436883,41.230131 L -88.436928,41.230142 L -88.436971,41.230159 L -88.437045,41.230204 L -88.437071,41.230233999999996 L -88.437089,41.230267 L -88.4371,41.230301 L -88.437088,41.23048 L -88.43707599999999,41.23055 L -88.43706399999999,41.230585 L -88.437043,41.230616999999995 L -88.43696,41.230703 L -88.43692399999999,41.230726 L -88.436878,41.230737 L -88.43683,41.23074 L -88.436161,41.230719 L -88.43611399999999,41.230723999999995 L -88.436027,41.230754 L -88.43598899999999,41.230775 L -88.43593,41.230830999999995 L -88.43590999999999,41.230863 L -88.435881,41.230931 L -88.435886,41.231037 L -88.435947,41.231172 L -88.435983,41.231238 L -88.43604599999999,41.231334 L -88.436095,41.231434 L -88.436165,41.231528 L -88.436587,41.232279999999996 L -88.43665299999999,41.232488 L -88.43667099999999,41.232558 L -88.436661,41.232628999999996 L -88.436618,41.232839 L -88.436589,41.232907 L -88.43651799999999,41.233000000000004 L -88.436505,41.233033999999996 L -88.436452,41.233132999999995 L -88.43627699999999,41.233426 L -88.436199,41.233516 L -88.436037,41.233592 L -88.435994,41.233608 L -88.435807,41.233639 L -88.43575899999999,41.233641 L -88.43552,41.233629 L -88.435474,41.233618 L -88.43538699999999,41.23359 L -88.43530299999999,41.233556 L -88.43522399999999,41.233515 L -88.43515599999999,41.233466 L -88.435042,41.233401 L -88.435001,41.233382 L -88.43486299999999,41.233353 L -88.434815,41.233351 L -88.434767,41.233354999999996 L -88.43462699999999,41.23338 L -88.43458299999999,41.233394 L -88.434473,41.233463 L -88.434389,41.233497 L -88.434314,41.233542 L -88.43427299999999,41.23356 L -88.434084,41.233585999999995 L -88.43394099999999,41.233585 L -88.43389599999999,41.233573 L -88.433708,41.233464 L -88.433679,41.233435 L -88.433661,41.233402 L -88.433568,41.232943999999996 L -88.433549,41.232911 L -88.43343899999999,41.232794999999996 L -88.433399,41.232776 L -88.43326599999999,41.232735999999996 L -88.433219,41.232728 L -88.433123,41.232729 L -88.432981,41.232744 L -88.432889,41.232763 L -88.432672,41.232836999999996 L -88.43248799999999,41.232876 L -88.432394,41.232887999999996 L -88.432346,41.23289 L -88.432158,41.232864 L -88.431823,41.23288 L -88.431687,41.232912999999996 L -88.431454,41.232948 L -88.431407,41.232949 L -88.431314,41.232929 L -88.431286,41.232935 L -88.430848,41.232890999999995 L -88.430559,41.232938999999995 L -88.42986599999999,41.233145 L -88.42953299999999,41.233225999999995 L -88.42858799999999,41.233292999999996 L -88.428444,41.23336 L -88.428359,41.23346 L -88.42818799999999,41.233605 L -88.427843,41.233757 L -88.427728,41.23383 L -88.427663,41.233869 L -88.42763599999999,41.233897999999996 L -88.427528,41.234055999999995 L -88.427492,41.234120999999995 L -88.42747299999999,41.234190999999996 L -88.42747,41.234227 L -88.427495,41.234294999999996 L -88.427573,41.234425 L -88.427641,41.234519999999996 L -88.427657,41.234553 L -88.427689,41.234729 L -88.427685,41.234764999999996 L -88.42766999999999,41.234798999999995 L -88.42764799999999,41.234829999999995 L -88.42757399999999,41.234874999999995 L -88.427533,41.234894 L -88.4274,41.234933 L -88.427261,41.234961999999996 L -88.427071,41.234971 L -88.426975,41.234971 L -88.42688,41.234964 L -88.425855,41.234798999999995 L -88.425617,41.234784 L -88.42533,41.234792999999996 L -88.424477,41.234876 L -88.424292,41.234913 L -88.424066,41.234969 L -88.423656,41.235063 L -88.42361299999999,41.235078 L -88.42334199999999,41.235223 L -88.42324599999999,41.235302 L -88.42321799999999,41.235330999999995 L -88.423144,41.235423 L -88.423054,41.235547 L -88.42302699999999,41.235577 L -88.42296499999999,41.235631 L -88.422938,41.235661 L -88.422805,41.2357 L -88.42275699999999,41.235706 L -88.422568,41.235692 L -88.422445,41.235637 L -88.42240799999999,41.235614 L -88.422384,41.235583999999996 L -88.422342,41.235482 L -88.422343,41.235231999999996 L -88.422316,41.234984 L -88.422269,41.234921 L -88.422179,41.234839 L -88.42213699999999,41.234821 L -88.42209199999999,41.234809 L -88.422045,41.234801999999995 L -88.42190099999999,41.234801999999995 L -88.421853,41.234806999999996 L -88.421809,41.234821 L -88.42177099999999,41.234843 L -88.421678,41.234922999999995 L -88.421582,41.235047 L -88.421543,41.235110999999996 L -88.421511,41.235178 L -88.42150099999999,41.235212 L -88.421433,41.235344 L -88.42137199999999,41.23544 L -88.421159,41.235583 L -88.421112,41.235592 L -88.421064,41.235593 L -88.420969,41.235583999999996 L -88.42087599999999,41.235569 L -88.420592,41.235538999999996 L -88.420304,41.235535999999996 L -88.420264,41.235555999999995 L -88.420118,41.235648 L -88.420007,41.235763 L -88.419986,41.235794999999996 L -88.41986399999999,41.236213 L -88.419822,41.236277 L -88.419769,41.236335 L -88.419524,41.236504 L -88.41940199999999,41.236613999999996 L -88.419296,41.236774 L -88.419214,41.236861 L -88.419181,41.236886999999996 L -88.41905799999999,41.236941 L -88.41901399999999,41.236956 L -88.418976,41.236978 L -88.418795,41.237123 L -88.418798,41.237254 L -88.418807,41.237556999999995 L -88.418818,41.237963 L -88.418832,41.238431 L -88.418897,41.239677 L -88.418928,41.240266999999996 L -88.41893499999999,41.240397 L -88.41891,41.240641 L -88.418931,41.241202 L -88.420053,41.241172999999996 L -88.42139499999999,41.241139 L -88.422028,41.241126 L -88.42272799999999,41.24111 L -88.422741,41.241419 L -88.422752,41.241696 L -88.423433,41.241932 L -88.423676,41.242016 L -88.423743,41.242044 L -88.424099,41.242194 L -88.424162,41.242221 L -88.42481,41.242495 L -88.425159,41.242642 L -88.42549799999999,41.242681999999995 L -88.42656099999999,41.242675 L -88.426763,41.242641 L -88.426769,41.242630999999996 L -88.426812,41.242564 L -88.426808,41.241856 L -88.426807,41.241557 L -88.42680399999999,41.241018 L -88.42744499999999,41.241003 L -88.42808699999999,41.240988 L -88.428163,41.240987 L -88.429267,41.240961999999996 L -88.430407,41.240936 L -88.431007,41.240922 L -88.431276,41.240916 L -88.43187499999999,41.240902 L -88.433433,41.240866 L -88.433875,41.240857 L -88.43826899999999,41.240744 L -88.438262,41.240553999999996 z\" /></g></svg>"
      ],
      "text/plain": [
       "<POLYGON ((-88.474 41.24, -88.473 41.24, -88.468 41.24, -88.466 41.24, -88.4...>"
      ]
     },
     "execution_count": 38,
     "metadata": {},
     "output_type": "execute_result"
    }
   ],
   "source": [
    "tracts.iloc[11,1]"
   ]
  },
  {
   "cell_type": "markdown",
   "id": "4ce7605d",
   "metadata": {},
   "source": [
    "## Individual trajectory data"
   ]
  },
  {
   "cell_type": "code",
   "execution_count": 39,
   "id": "a7f1e99a",
   "metadata": {
    "scrolled": true
   },
   "outputs": [
    {
     "name": "stdout",
     "output_type": "stream",
     "text": [
      "(4697462, 4)\n"
     ]
    },
    {
     "data": {
      "text/html": [
       "<div>\n",
       "<style scoped>\n",
       "    .dataframe tbody tr th:only-of-type {\n",
       "        vertical-align: middle;\n",
       "    }\n",
       "\n",
       "    .dataframe tbody tr th {\n",
       "        vertical-align: top;\n",
       "    }\n",
       "\n",
       "    .dataframe thead th {\n",
       "        text-align: right;\n",
       "    }\n",
       "</style>\n",
       "<table border=\"1\" class=\"dataframe\">\n",
       "  <thead>\n",
       "    <tr style=\"text-align: right;\">\n",
       "      <th></th>\n",
       "      <th>uid</th>\n",
       "      <th>datetime</th>\n",
       "      <th>lat</th>\n",
       "      <th>lng</th>\n",
       "    </tr>\n",
       "  </thead>\n",
       "  <tbody>\n",
       "    <tr>\n",
       "      <th>0</th>\n",
       "      <td>1</td>\n",
       "      <td>2020-03-01 00:00:00.000000</td>\n",
       "      <td>41.797640</td>\n",
       "      <td>-89.701132</td>\n",
       "    </tr>\n",
       "    <tr>\n",
       "      <th>1</th>\n",
       "      <td>1</td>\n",
       "      <td>2020-03-01 08:36:57.339869</td>\n",
       "      <td>41.792552</td>\n",
       "      <td>-89.700469</td>\n",
       "    </tr>\n",
       "    <tr>\n",
       "      <th>2</th>\n",
       "      <td>1</td>\n",
       "      <td>2020-03-01 09:14:04.636129</td>\n",
       "      <td>41.797640</td>\n",
       "      <td>-89.701132</td>\n",
       "    </tr>\n",
       "    <tr>\n",
       "      <th>3</th>\n",
       "      <td>1</td>\n",
       "      <td>2020-03-01 10:33:32.341722</td>\n",
       "      <td>41.792552</td>\n",
       "      <td>-89.700469</td>\n",
       "    </tr>\n",
       "    <tr>\n",
       "      <th>4</th>\n",
       "      <td>1</td>\n",
       "      <td>2020-03-01 17:08:49.213984</td>\n",
       "      <td>41.790875</td>\n",
       "      <td>-89.708589</td>\n",
       "    </tr>\n",
       "  </tbody>\n",
       "</table>\n",
       "</div>"
      ],
      "text/plain": [
       "   uid                    datetime        lat        lng\n",
       "0    1  2020-03-01 00:00:00.000000  41.797640 -89.701132\n",
       "1    1  2020-03-01 08:36:57.339869  41.792552 -89.700469\n",
       "2    1  2020-03-01 09:14:04.636129  41.797640 -89.701132\n",
       "3    1  2020-03-01 10:33:32.341722  41.792552 -89.700469\n",
       "4    1  2020-03-01 17:08:49.213984  41.790875 -89.708589"
      ]
     },
     "execution_count": 39,
     "metadata": {},
     "output_type": "execute_result"
    }
   ],
   "source": [
    "print(data.shape)\n",
    "data.head()"
   ]
  },
  {
   "cell_type": "markdown",
   "id": "b99a34aa",
   "metadata": {},
   "source": [
    "### This takes 5-8 seconds"
   ]
  },
  {
   "cell_type": "code",
   "execution_count": 40,
   "id": "afe71936",
   "metadata": {},
   "outputs": [
    {
     "data": {
      "text/html": [
       "<div>\n",
       "<style scoped>\n",
       "    .dataframe tbody tr th:only-of-type {\n",
       "        vertical-align: middle;\n",
       "    }\n",
       "\n",
       "    .dataframe tbody tr th {\n",
       "        vertical-align: top;\n",
       "    }\n",
       "\n",
       "    .dataframe thead th {\n",
       "        text-align: right;\n",
       "    }\n",
       "</style>\n",
       "<table border=\"1\" class=\"dataframe\">\n",
       "  <thead>\n",
       "    <tr style=\"text-align: right;\">\n",
       "      <th></th>\n",
       "      <th>uid</th>\n",
       "      <th>datetime</th>\n",
       "      <th>lat</th>\n",
       "      <th>lng</th>\n",
       "      <th>geometry</th>\n",
       "    </tr>\n",
       "  </thead>\n",
       "  <tbody>\n",
       "    <tr>\n",
       "      <th>0</th>\n",
       "      <td>1</td>\n",
       "      <td>2020-03-01 00:00:00.000000</td>\n",
       "      <td>41.797640</td>\n",
       "      <td>-89.701132</td>\n",
       "      <td>POINT (-89.70113 41.79764)</td>\n",
       "    </tr>\n",
       "    <tr>\n",
       "      <th>1</th>\n",
       "      <td>1</td>\n",
       "      <td>2020-03-01 08:36:57.339869</td>\n",
       "      <td>41.792552</td>\n",
       "      <td>-89.700469</td>\n",
       "      <td>POINT (-89.70047 41.79255)</td>\n",
       "    </tr>\n",
       "    <tr>\n",
       "      <th>2</th>\n",
       "      <td>1</td>\n",
       "      <td>2020-03-01 09:14:04.636129</td>\n",
       "      <td>41.797640</td>\n",
       "      <td>-89.701132</td>\n",
       "      <td>POINT (-89.70113 41.79764)</td>\n",
       "    </tr>\n",
       "    <tr>\n",
       "      <th>3</th>\n",
       "      <td>1</td>\n",
       "      <td>2020-03-01 10:33:32.341722</td>\n",
       "      <td>41.792552</td>\n",
       "      <td>-89.700469</td>\n",
       "      <td>POINT (-89.70047 41.79255)</td>\n",
       "    </tr>\n",
       "    <tr>\n",
       "      <th>4</th>\n",
       "      <td>1</td>\n",
       "      <td>2020-03-01 17:08:49.213984</td>\n",
       "      <td>41.790875</td>\n",
       "      <td>-89.708589</td>\n",
       "      <td>POINT (-89.70859 41.79088)</td>\n",
       "    </tr>\n",
       "  </tbody>\n",
       "</table>\n",
       "</div>"
      ],
      "text/plain": [
       "   uid                    datetime        lat        lng  \\\n",
       "0    1  2020-03-01 00:00:00.000000  41.797640 -89.701132   \n",
       "1    1  2020-03-01 08:36:57.339869  41.792552 -89.700469   \n",
       "2    1  2020-03-01 09:14:04.636129  41.797640 -89.701132   \n",
       "3    1  2020-03-01 10:33:32.341722  41.792552 -89.700469   \n",
       "4    1  2020-03-01 17:08:49.213984  41.790875 -89.708589   \n",
       "\n",
       "                     geometry  \n",
       "0  POINT (-89.70113 41.79764)  \n",
       "1  POINT (-89.70047 41.79255)  \n",
       "2  POINT (-89.70113 41.79764)  \n",
       "3  POINT (-89.70047 41.79255)  \n",
       "4  POINT (-89.70859 41.79088)  "
      ]
     },
     "execution_count": 40,
     "metadata": {},
     "output_type": "execute_result"
    }
   ],
   "source": [
    "# Convert latitude/longitude into Point geometry\n",
    "geometry = [Point(xy) for xy in zip(data[\"lng\"], data[\"lat\"])] #Convert coordinate to points\n",
    "\n",
    "# Create a GeoDataFrame with the same CRS as the Census Tract shapefile\n",
    "points_gdf = gpd.GeoDataFrame(data, geometry=geometry, crs=\"EPSG:4326\")\n",
    "\n",
    "points_gdf.head() # Check that geometry was created correctly"
   ]
  },
  {
   "cell_type": "code",
   "execution_count": 41,
   "id": "5796ff5e",
   "metadata": {},
   "outputs": [
    {
     "data": {
      "text/html": [
       "<div>\n",
       "<style scoped>\n",
       "    .dataframe tbody tr th:only-of-type {\n",
       "        vertical-align: middle;\n",
       "    }\n",
       "\n",
       "    .dataframe tbody tr th {\n",
       "        vertical-align: top;\n",
       "    }\n",
       "\n",
       "    .dataframe thead th {\n",
       "        text-align: right;\n",
       "    }\n",
       "</style>\n",
       "<table border=\"1\" class=\"dataframe\">\n",
       "  <thead>\n",
       "    <tr style=\"text-align: right;\">\n",
       "      <th></th>\n",
       "      <th>GEOID</th>\n",
       "      <th>geometry</th>\n",
       "      <th>County</th>\n",
       "    </tr>\n",
       "  </thead>\n",
       "  <tbody>\n",
       "    <tr>\n",
       "      <th>0</th>\n",
       "      <td>170438413161</td>\n",
       "      <td>POLYGON ((-88.20740 41.98733, -88.20728 41.987...</td>\n",
       "      <td>17043</td>\n",
       "    </tr>\n",
       "    <tr>\n",
       "      <th>1</th>\n",
       "      <td>170438414031</td>\n",
       "      <td>POLYGON ((-88.16152 41.87110, -88.16150 41.871...</td>\n",
       "      <td>17043</td>\n",
       "    </tr>\n",
       "    <tr>\n",
       "      <th>2</th>\n",
       "      <td>170399714001</td>\n",
       "      <td>POLYGON ((-88.74649 40.22437, -88.74647 40.226...</td>\n",
       "      <td>17039</td>\n",
       "    </tr>\n",
       "    <tr>\n",
       "      <th>3</th>\n",
       "      <td>170399715003</td>\n",
       "      <td>POLYGON ((-88.96666 40.12775, -88.96645 40.127...</td>\n",
       "      <td>17039</td>\n",
       "    </tr>\n",
       "    <tr>\n",
       "      <th>4</th>\n",
       "      <td>170399715002</td>\n",
       "      <td>POLYGON ((-88.96348 40.21375, -88.96332 40.213...</td>\n",
       "      <td>17039</td>\n",
       "    </tr>\n",
       "  </tbody>\n",
       "</table>\n",
       "</div>"
      ],
      "text/plain": [
       "          GEOID                                           geometry County\n",
       "0  170438413161  POLYGON ((-88.20740 41.98733, -88.20728 41.987...  17043\n",
       "1  170438414031  POLYGON ((-88.16152 41.87110, -88.16150 41.871...  17043\n",
       "2  170399714001  POLYGON ((-88.74649 40.22437, -88.74647 40.226...  17039\n",
       "3  170399715003  POLYGON ((-88.96666 40.12775, -88.96645 40.127...  17039\n",
       "4  170399715002  POLYGON ((-88.96348 40.21375, -88.96332 40.213...  17039"
      ]
     },
     "execution_count": 41,
     "metadata": {},
     "output_type": "execute_result"
    }
   ],
   "source": [
    "# Convert Census Tract shapefile to the same CRS as the points\n",
    "# This is to make sure both data use EPSG:4326\n",
    "tracts = tracts.to_crs(points_gdf.crs)\n",
    "tracts.head()"
   ]
  },
  {
   "cell_type": "code",
   "execution_count": 42,
   "id": "8a322112",
   "metadata": {},
   "outputs": [
    {
     "name": "stdout",
     "output_type": "stream",
     "text": [
      "Tracts CRS: EPSG:4326\n",
      "Points CRS: EPSG:4326\n"
     ]
    }
   ],
   "source": [
    "#Proceed when we see the same CRS value\n",
    "print(\"Tracts CRS:\", tracts.crs)\n",
    "print(\"Points CRS:\", points_gdf.crs)"
   ]
  },
  {
   "cell_type": "markdown",
   "id": "56219f0a",
   "metadata": {},
   "source": [
    "## This takes three seconds"
   ]
  },
  {
   "cell_type": "code",
   "execution_count": 43,
   "id": "a7d053d6",
   "metadata": {},
   "outputs": [
    {
     "name": "stdout",
     "output_type": "stream",
     "text": [
      "86\n"
     ]
    },
    {
     "data": {
      "text/html": [
       "<div>\n",
       "<style scoped>\n",
       "    .dataframe tbody tr th:only-of-type {\n",
       "        vertical-align: middle;\n",
       "    }\n",
       "\n",
       "    .dataframe tbody tr th {\n",
       "        vertical-align: top;\n",
       "    }\n",
       "\n",
       "    .dataframe thead th {\n",
       "        text-align: right;\n",
       "    }\n",
       "</style>\n",
       "<table border=\"1\" class=\"dataframe\">\n",
       "  <thead>\n",
       "    <tr style=\"text-align: right;\">\n",
       "      <th></th>\n",
       "      <th>GEOID</th>\n",
       "      <th>geometry</th>\n",
       "      <th>County</th>\n",
       "    </tr>\n",
       "  </thead>\n",
       "  <tbody>\n",
       "    <tr>\n",
       "      <th>0</th>\n",
       "      <td>170438413161</td>\n",
       "      <td>POLYGON ((-88.20740 41.98733, -88.20728 41.987...</td>\n",
       "      <td>17043</td>\n",
       "    </tr>\n",
       "  </tbody>\n",
       "</table>\n",
       "</div>"
      ],
      "text/plain": [
       "          GEOID                                           geometry County\n",
       "0  170438413161  POLYGON ((-88.20740 41.98733, -88.20728 41.987...  17043"
      ]
     },
     "execution_count": 43,
     "metadata": {},
     "output_type": "execute_result"
    }
   ],
   "source": [
    "print(len(tracts['County'].unique().tolist()))\n",
    "tracts.head(1)"
   ]
  },
  {
   "cell_type": "code",
   "execution_count": 44,
   "id": "f1ed51ad",
   "metadata": {},
   "outputs": [
    {
     "name": "stdout",
     "output_type": "stream",
     "text": [
      "(4697462, 8)\n"
     ]
    },
    {
     "data": {
      "text/html": [
       "<div>\n",
       "<style scoped>\n",
       "    .dataframe tbody tr th:only-of-type {\n",
       "        vertical-align: middle;\n",
       "    }\n",
       "\n",
       "    .dataframe tbody tr th {\n",
       "        vertical-align: top;\n",
       "    }\n",
       "\n",
       "    .dataframe thead th {\n",
       "        text-align: right;\n",
       "    }\n",
       "</style>\n",
       "<table border=\"1\" class=\"dataframe\">\n",
       "  <thead>\n",
       "    <tr style=\"text-align: right;\">\n",
       "      <th></th>\n",
       "      <th>uid</th>\n",
       "      <th>datetime</th>\n",
       "      <th>lat</th>\n",
       "      <th>lng</th>\n",
       "      <th>geometry</th>\n",
       "      <th>index_right</th>\n",
       "      <th>GEOID</th>\n",
       "      <th>County</th>\n",
       "    </tr>\n",
       "  </thead>\n",
       "  <tbody>\n",
       "    <tr>\n",
       "      <th>0</th>\n",
       "      <td>1</td>\n",
       "      <td>2020-03-01 00:00:00.000000</td>\n",
       "      <td>41.797640</td>\n",
       "      <td>-89.701132</td>\n",
       "      <td>POINT (-89.70113 41.79764)</td>\n",
       "      <td>172.0</td>\n",
       "      <td>171950011013</td>\n",
       "      <td>17195</td>\n",
       "    </tr>\n",
       "    <tr>\n",
       "      <th>1</th>\n",
       "      <td>1</td>\n",
       "      <td>2020-03-01 08:36:57.339869</td>\n",
       "      <td>41.792552</td>\n",
       "      <td>-89.700469</td>\n",
       "      <td>POINT (-89.70047 41.79255)</td>\n",
       "      <td>173.0</td>\n",
       "      <td>171950011021</td>\n",
       "      <td>17195</td>\n",
       "    </tr>\n",
       "    <tr>\n",
       "      <th>2</th>\n",
       "      <td>1</td>\n",
       "      <td>2020-03-01 09:14:04.636129</td>\n",
       "      <td>41.797640</td>\n",
       "      <td>-89.701132</td>\n",
       "      <td>POINT (-89.70113 41.79764)</td>\n",
       "      <td>172.0</td>\n",
       "      <td>171950011013</td>\n",
       "      <td>17195</td>\n",
       "    </tr>\n",
       "  </tbody>\n",
       "</table>\n",
       "</div>"
      ],
      "text/plain": [
       "   uid                    datetime        lat        lng  \\\n",
       "0    1  2020-03-01 00:00:00.000000  41.797640 -89.701132   \n",
       "1    1  2020-03-01 08:36:57.339869  41.792552 -89.700469   \n",
       "2    1  2020-03-01 09:14:04.636129  41.797640 -89.701132   \n",
       "\n",
       "                     geometry  index_right         GEOID County  \n",
       "0  POINT (-89.70113 41.79764)        172.0  171950011013  17195  \n",
       "1  POINT (-89.70047 41.79255)        173.0  171950011021  17195  \n",
       "2  POINT (-89.70113 41.79764)        172.0  171950011013  17195  "
      ]
     },
     "execution_count": 44,
     "metadata": {},
     "output_type": "execute_result"
    }
   ],
   "source": [
    "#Perform spacial join\n",
    "joined_gdf = gpd.sjoin(points_gdf, tracts, how=\"left\", predicate=\"within\")\n",
    "print(joined_gdf.shape)\n",
    "joined_gdf.head(3)"
   ]
  },
  {
   "cell_type": "code",
   "execution_count": 45,
   "id": "a0338ef4",
   "metadata": {
    "scrolled": true
   },
   "outputs": [
    {
     "data": {
      "text/html": [
       "<div>\n",
       "<style scoped>\n",
       "    .dataframe tbody tr th:only-of-type {\n",
       "        vertical-align: middle;\n",
       "    }\n",
       "\n",
       "    .dataframe tbody tr th {\n",
       "        vertical-align: top;\n",
       "    }\n",
       "\n",
       "    .dataframe thead th {\n",
       "        text-align: right;\n",
       "    }\n",
       "</style>\n",
       "<table border=\"1\" class=\"dataframe\">\n",
       "  <thead>\n",
       "    <tr style=\"text-align: right;\">\n",
       "      <th></th>\n",
       "      <th>uid</th>\n",
       "      <th>datetime</th>\n",
       "      <th>lat</th>\n",
       "      <th>lng</th>\n",
       "      <th>geometry</th>\n",
       "      <th>index_right</th>\n",
       "      <th>GEOID</th>\n",
       "      <th>County</th>\n",
       "      <th>day</th>\n",
       "    </tr>\n",
       "  </thead>\n",
       "  <tbody>\n",
       "    <tr>\n",
       "      <th>4697459</th>\n",
       "      <td>10000</td>\n",
       "      <td>2020-03-30 21:35:25.536404</td>\n",
       "      <td>41.732221</td>\n",
       "      <td>-88.125365</td>\n",
       "      <td>POINT (-88.12537 41.73222)</td>\n",
       "      <td>6693.0</td>\n",
       "      <td>170438462013</td>\n",
       "      <td>17043</td>\n",
       "      <td>30</td>\n",
       "    </tr>\n",
       "    <tr>\n",
       "      <th>4697460</th>\n",
       "      <td>10000</td>\n",
       "      <td>2020-03-30 21:56:24.106234</td>\n",
       "      <td>41.687375</td>\n",
       "      <td>-88.155449</td>\n",
       "      <td>POINT (-88.15545 41.68737)</td>\n",
       "      <td>9784.0</td>\n",
       "      <td>171978803151</td>\n",
       "      <td>17197</td>\n",
       "      <td>30</td>\n",
       "    </tr>\n",
       "    <tr>\n",
       "      <th>4697461</th>\n",
       "      <td>10000</td>\n",
       "      <td>2020-03-30 22:48:07.645805</td>\n",
       "      <td>41.694510</td>\n",
       "      <td>-88.082609</td>\n",
       "      <td>POINT (-88.08261 41.69451)</td>\n",
       "      <td>4635.0</td>\n",
       "      <td>171978801152</td>\n",
       "      <td>17197</td>\n",
       "      <td>30</td>\n",
       "    </tr>\n",
       "  </tbody>\n",
       "</table>\n",
       "</div>"
      ],
      "text/plain": [
       "           uid                   datetime        lat        lng  \\\n",
       "4697459  10000 2020-03-30 21:35:25.536404  41.732221 -88.125365   \n",
       "4697460  10000 2020-03-30 21:56:24.106234  41.687375 -88.155449   \n",
       "4697461  10000 2020-03-30 22:48:07.645805  41.694510 -88.082609   \n",
       "\n",
       "                           geometry  index_right         GEOID County  day  \n",
       "4697459  POINT (-88.12537 41.73222)       6693.0  170438462013  17043   30  \n",
       "4697460  POINT (-88.15545 41.68737)       9784.0  171978803151  17197   30  \n",
       "4697461  POINT (-88.08261 41.69451)       4635.0  171978801152  17197   30  "
      ]
     },
     "execution_count": 45,
     "metadata": {},
     "output_type": "execute_result"
    }
   ],
   "source": [
    "joined_gdf['datetime'] = pd.to_datetime(joined_gdf['datetime'])\n",
    "joined_gdf['day'] = joined_gdf['datetime'].dt.day\n",
    "joined_gdf.tail(3)"
   ]
  },
  {
   "cell_type": "code",
   "execution_count": 46,
   "id": "79b8a285",
   "metadata": {},
   "outputs": [
    {
     "name": "stdout",
     "output_type": "stream",
     "text": [
      "86\n"
     ]
    }
   ],
   "source": [
    "joined_gdf = joined_gdf[~(joined_gdf['County'].isna())].copy()\n",
    "print(len(joined_gdf['County'].unique().tolist()))"
   ]
  },
  {
   "cell_type": "markdown",
   "id": "435b4a23",
   "metadata": {},
   "source": [
    "# Groupping"
   ]
  },
  {
   "cell_type": "markdown",
   "id": "64f2b0c4",
   "metadata": {},
   "source": [
    "## Here's Where to add noise"
   ]
  },
  {
   "cell_type": "code",
   "execution_count": 47,
   "id": "fe3f3595",
   "metadata": {},
   "outputs": [
    {
     "data": {
      "text/html": [
       "<div>\n",
       "<style scoped>\n",
       "    .dataframe tbody tr th:only-of-type {\n",
       "        vertical-align: middle;\n",
       "    }\n",
       "\n",
       "    .dataframe tbody tr th {\n",
       "        vertical-align: top;\n",
       "    }\n",
       "\n",
       "    .dataframe thead th {\n",
       "        text-align: right;\n",
       "    }\n",
       "</style>\n",
       "<table border=\"1\" class=\"dataframe\">\n",
       "  <thead>\n",
       "    <tr style=\"text-align: right;\">\n",
       "      <th></th>\n",
       "      <th>uid</th>\n",
       "      <th>day</th>\n",
       "      <th>GEOID</th>\n",
       "      <th>Count</th>\n",
       "    </tr>\n",
       "  </thead>\n",
       "  <tbody>\n",
       "    <tr>\n",
       "      <th>0</th>\n",
       "      <td>1</td>\n",
       "      <td>1</td>\n",
       "      <td>171950010003</td>\n",
       "      <td>1</td>\n",
       "    </tr>\n",
       "    <tr>\n",
       "      <th>1</th>\n",
       "      <td>1</td>\n",
       "      <td>1</td>\n",
       "      <td>171950011013</td>\n",
       "      <td>4</td>\n",
       "    </tr>\n",
       "    <tr>\n",
       "      <th>2</th>\n",
       "      <td>1</td>\n",
       "      <td>1</td>\n",
       "      <td>171950011021</td>\n",
       "      <td>4</td>\n",
       "    </tr>\n",
       "    <tr>\n",
       "      <th>3</th>\n",
       "      <td>1</td>\n",
       "      <td>1</td>\n",
       "      <td>171950012003</td>\n",
       "      <td>1</td>\n",
       "    </tr>\n",
       "    <tr>\n",
       "      <th>4</th>\n",
       "      <td>1</td>\n",
       "      <td>2</td>\n",
       "      <td>171950009001</td>\n",
       "      <td>1</td>\n",
       "    </tr>\n",
       "    <tr>\n",
       "      <th>5</th>\n",
       "      <td>1</td>\n",
       "      <td>2</td>\n",
       "      <td>171950010001</td>\n",
       "      <td>2</td>\n",
       "    </tr>\n",
       "    <tr>\n",
       "      <th>6</th>\n",
       "      <td>1</td>\n",
       "      <td>2</td>\n",
       "      <td>171950010002</td>\n",
       "      <td>1</td>\n",
       "    </tr>\n",
       "    <tr>\n",
       "      <th>7</th>\n",
       "      <td>1</td>\n",
       "      <td>2</td>\n",
       "      <td>171950010003</td>\n",
       "      <td>4</td>\n",
       "    </tr>\n",
       "    <tr>\n",
       "      <th>8</th>\n",
       "      <td>1</td>\n",
       "      <td>2</td>\n",
       "      <td>171950011011</td>\n",
       "      <td>1</td>\n",
       "    </tr>\n",
       "    <tr>\n",
       "      <th>9</th>\n",
       "      <td>1</td>\n",
       "      <td>2</td>\n",
       "      <td>171950011021</td>\n",
       "      <td>3</td>\n",
       "    </tr>\n",
       "  </tbody>\n",
       "</table>\n",
       "</div>"
      ],
      "text/plain": [
       "   uid  day         GEOID  Count\n",
       "0    1    1  171950010003      1\n",
       "1    1    1  171950011013      4\n",
       "2    1    1  171950011021      4\n",
       "3    1    1  171950012003      1\n",
       "4    1    2  171950009001      1\n",
       "5    1    2  171950010001      2\n",
       "6    1    2  171950010002      1\n",
       "7    1    2  171950010003      4\n",
       "8    1    2  171950011011      1\n",
       "9    1    2  171950011021      3"
      ]
     },
     "execution_count": 47,
     "metadata": {},
     "output_type": "execute_result"
    }
   ],
   "source": [
    "#Grouped\n",
    "grouped_counts = joined_gdf.groupby(['uid', 'day','GEOID']).size().reset_index()\n",
    "rename = {0 : 'Count'}\n",
    "grouped_counts = grouped_counts.rename(columns = rename)\n",
    "grouped_counts.head(10)"
   ]
  },
  {
   "cell_type": "code",
   "execution_count": 48,
   "id": "8af1e6ef",
   "metadata": {},
   "outputs": [
    {
     "name": "stdout",
     "output_type": "stream",
     "text": [
      "(3601184, 5)\n"
     ]
    },
    {
     "data": {
      "text/html": [
       "<div>\n",
       "<style scoped>\n",
       "    .dataframe tbody tr th:only-of-type {\n",
       "        vertical-align: middle;\n",
       "    }\n",
       "\n",
       "    .dataframe tbody tr th {\n",
       "        vertical-align: top;\n",
       "    }\n",
       "\n",
       "    .dataframe thead th {\n",
       "        text-align: right;\n",
       "    }\n",
       "</style>\n",
       "<table border=\"1\" class=\"dataframe\">\n",
       "  <thead>\n",
       "    <tr style=\"text-align: right;\">\n",
       "      <th></th>\n",
       "      <th>uid</th>\n",
       "      <th>day</th>\n",
       "      <th>GEOID</th>\n",
       "      <th>County</th>\n",
       "      <th>Count</th>\n",
       "    </tr>\n",
       "  </thead>\n",
       "  <tbody>\n",
       "    <tr>\n",
       "      <th>0</th>\n",
       "      <td>1</td>\n",
       "      <td>1</td>\n",
       "      <td>171950010003</td>\n",
       "      <td>17195</td>\n",
       "      <td>1</td>\n",
       "    </tr>\n",
       "    <tr>\n",
       "      <th>1</th>\n",
       "      <td>1</td>\n",
       "      <td>1</td>\n",
       "      <td>171950011013</td>\n",
       "      <td>17195</td>\n",
       "      <td>4</td>\n",
       "    </tr>\n",
       "    <tr>\n",
       "      <th>2</th>\n",
       "      <td>1</td>\n",
       "      <td>1</td>\n",
       "      <td>171950011021</td>\n",
       "      <td>17195</td>\n",
       "      <td>4</td>\n",
       "    </tr>\n",
       "    <tr>\n",
       "      <th>3</th>\n",
       "      <td>1</td>\n",
       "      <td>1</td>\n",
       "      <td>171950012003</td>\n",
       "      <td>17195</td>\n",
       "      <td>1</td>\n",
       "    </tr>\n",
       "    <tr>\n",
       "      <th>4</th>\n",
       "      <td>1</td>\n",
       "      <td>2</td>\n",
       "      <td>171950009001</td>\n",
       "      <td>17195</td>\n",
       "      <td>1</td>\n",
       "    </tr>\n",
       "  </tbody>\n",
       "</table>\n",
       "</div>"
      ],
      "text/plain": [
       "   uid  day         GEOID County  Count\n",
       "0    1    1  171950010003  17195      1\n",
       "1    1    1  171950011013  17195      4\n",
       "2    1    1  171950011021  17195      4\n",
       "3    1    1  171950012003  17195      1\n",
       "4    1    2  171950009001  17195      1"
      ]
     },
     "execution_count": 48,
     "metadata": {},
     "output_type": "execute_result"
    }
   ],
   "source": [
    "grouped_counts.insert(3, \"County\", grouped_counts['GEOID'].str[:5]) #State + county is a five digit code\n",
    "\n",
    "#One individual has about 30 unique locations\n",
    "print(grouped_counts.shape)\n",
    "grouped_counts.head(5)"
   ]
  },
  {
   "cell_type": "code",
   "execution_count": 49,
   "id": "df868ec4",
   "metadata": {},
   "outputs": [
    {
     "name": "stdout",
     "output_type": "stream",
     "text": [
      "10000\n"
     ]
    }
   ],
   "source": [
    "unique_id = grouped_counts['uid'].unique().tolist()\n",
    "print(len(unique_id))"
   ]
  },
  {
   "cell_type": "markdown",
   "id": "101c44ef",
   "metadata": {},
   "source": [
    "# DP Noise"
   ]
  },
  {
   "cell_type": "code",
   "execution_count": 50,
   "id": "c6d4a715",
   "metadata": {},
   "outputs": [
    {
     "name": "stdout",
     "output_type": "stream",
     "text": [
      "0\n",
      "1\n",
      "2\n",
      "3\n",
      "4\n",
      "5\n",
      "6\n"
     ]
    }
   ],
   "source": [
    "import opendp.prelude as dp\n",
    "dp.enable_features(\"contrib\")\n",
    "\n",
    "#The Loop\n",
    "privacy_budget = [0.8, 0.5, 0.3, 0.1, 0.05, 0.01, 0.005]\n",
    "name = ['P8','P5','P3','P1','P05','P01','P005']\n",
    "\n",
    "# Ensure the 'Count' column is float before applying DP noise\n",
    "grouped_counts['Count'] = grouped_counts['Count'].astype(int).copy()\n",
    "\n",
    "for i in range(len(privacy_budget)):\n",
    "    print(i)\n",
    "    epsilon = privacy_budget[i] #Privacy budget\n",
    "    sensitivity = 1\n",
    "    scale = sensitivity / epsilon\n",
    "    \n",
    "    # Create the Laplace mechanism\n",
    "    laplace_mechanism = dp.m.make_laplace(\n",
    "        dp.atom_domain(T=int), dp.absolute_distance(T=int), scale)\n",
    "    \n",
    "    #Define the Laplace function\n",
    "    def apply_dp_noise(count):\n",
    "        return laplace_mechanism(count)\n",
    "    \n",
    "    #Name for the new column\n",
    "    text = name[i]\n",
    "    \n",
    "    grouped_counts[f'Count_{text}'] = grouped_counts['Count'].apply(lambda x: max(laplace_mechanism(x), 0))\n",
    "    "
   ]
  },
  {
   "cell_type": "code",
   "execution_count": 51,
   "id": "cdca8174",
   "metadata": {},
   "outputs": [
    {
     "data": {
      "text/html": [
       "<div>\n",
       "<style scoped>\n",
       "    .dataframe tbody tr th:only-of-type {\n",
       "        vertical-align: middle;\n",
       "    }\n",
       "\n",
       "    .dataframe tbody tr th {\n",
       "        vertical-align: top;\n",
       "    }\n",
       "\n",
       "    .dataframe thead th {\n",
       "        text-align: right;\n",
       "    }\n",
       "</style>\n",
       "<table border=\"1\" class=\"dataframe\">\n",
       "  <thead>\n",
       "    <tr style=\"text-align: right;\">\n",
       "      <th></th>\n",
       "      <th>uid</th>\n",
       "      <th>day</th>\n",
       "      <th>GEOID</th>\n",
       "      <th>County</th>\n",
       "      <th>Count</th>\n",
       "      <th>Count_P8</th>\n",
       "      <th>Count_P5</th>\n",
       "      <th>Count_P3</th>\n",
       "      <th>Count_P1</th>\n",
       "      <th>Count_P05</th>\n",
       "      <th>Count_P01</th>\n",
       "      <th>Count_P005</th>\n",
       "    </tr>\n",
       "  </thead>\n",
       "  <tbody>\n",
       "    <tr>\n",
       "      <th>0</th>\n",
       "      <td>1</td>\n",
       "      <td>1</td>\n",
       "      <td>171950010003</td>\n",
       "      <td>17195</td>\n",
       "      <td>1</td>\n",
       "      <td>2</td>\n",
       "      <td>1</td>\n",
       "      <td>15</td>\n",
       "      <td>6</td>\n",
       "      <td>142</td>\n",
       "      <td>11</td>\n",
       "      <td>0</td>\n",
       "    </tr>\n",
       "    <tr>\n",
       "      <th>1</th>\n",
       "      <td>1</td>\n",
       "      <td>1</td>\n",
       "      <td>171950011013</td>\n",
       "      <td>17195</td>\n",
       "      <td>4</td>\n",
       "      <td>5</td>\n",
       "      <td>5</td>\n",
       "      <td>4</td>\n",
       "      <td>17</td>\n",
       "      <td>51</td>\n",
       "      <td>41</td>\n",
       "      <td>0</td>\n",
       "    </tr>\n",
       "    <tr>\n",
       "      <th>2</th>\n",
       "      <td>1</td>\n",
       "      <td>1</td>\n",
       "      <td>171950011021</td>\n",
       "      <td>17195</td>\n",
       "      <td>4</td>\n",
       "      <td>3</td>\n",
       "      <td>5</td>\n",
       "      <td>0</td>\n",
       "      <td>0</td>\n",
       "      <td>0</td>\n",
       "      <td>33</td>\n",
       "      <td>0</td>\n",
       "    </tr>\n",
       "    <tr>\n",
       "      <th>3</th>\n",
       "      <td>1</td>\n",
       "      <td>1</td>\n",
       "      <td>171950012003</td>\n",
       "      <td>17195</td>\n",
       "      <td>1</td>\n",
       "      <td>0</td>\n",
       "      <td>2</td>\n",
       "      <td>0</td>\n",
       "      <td>11</td>\n",
       "      <td>6</td>\n",
       "      <td>99</td>\n",
       "      <td>81</td>\n",
       "    </tr>\n",
       "    <tr>\n",
       "      <th>4</th>\n",
       "      <td>1</td>\n",
       "      <td>2</td>\n",
       "      <td>171950009001</td>\n",
       "      <td>17195</td>\n",
       "      <td>1</td>\n",
       "      <td>0</td>\n",
       "      <td>0</td>\n",
       "      <td>0</td>\n",
       "      <td>7</td>\n",
       "      <td>27</td>\n",
       "      <td>212</td>\n",
       "      <td>82</td>\n",
       "    </tr>\n",
       "    <tr>\n",
       "      <th>5</th>\n",
       "      <td>1</td>\n",
       "      <td>2</td>\n",
       "      <td>171950010001</td>\n",
       "      <td>17195</td>\n",
       "      <td>2</td>\n",
       "      <td>4</td>\n",
       "      <td>0</td>\n",
       "      <td>11</td>\n",
       "      <td>0</td>\n",
       "      <td>18</td>\n",
       "      <td>63</td>\n",
       "      <td>95</td>\n",
       "    </tr>\n",
       "    <tr>\n",
       "      <th>6</th>\n",
       "      <td>1</td>\n",
       "      <td>2</td>\n",
       "      <td>171950010002</td>\n",
       "      <td>17195</td>\n",
       "      <td>1</td>\n",
       "      <td>2</td>\n",
       "      <td>2</td>\n",
       "      <td>0</td>\n",
       "      <td>3</td>\n",
       "      <td>0</td>\n",
       "      <td>0</td>\n",
       "      <td>0</td>\n",
       "    </tr>\n",
       "    <tr>\n",
       "      <th>7</th>\n",
       "      <td>1</td>\n",
       "      <td>2</td>\n",
       "      <td>171950010003</td>\n",
       "      <td>17195</td>\n",
       "      <td>4</td>\n",
       "      <td>4</td>\n",
       "      <td>3</td>\n",
       "      <td>0</td>\n",
       "      <td>18</td>\n",
       "      <td>3</td>\n",
       "      <td>6</td>\n",
       "      <td>0</td>\n",
       "    </tr>\n",
       "    <tr>\n",
       "      <th>8</th>\n",
       "      <td>1</td>\n",
       "      <td>2</td>\n",
       "      <td>171950011011</td>\n",
       "      <td>17195</td>\n",
       "      <td>1</td>\n",
       "      <td>0</td>\n",
       "      <td>0</td>\n",
       "      <td>0</td>\n",
       "      <td>0</td>\n",
       "      <td>7</td>\n",
       "      <td>95</td>\n",
       "      <td>0</td>\n",
       "    </tr>\n",
       "    <tr>\n",
       "      <th>9</th>\n",
       "      <td>1</td>\n",
       "      <td>2</td>\n",
       "      <td>171950011021</td>\n",
       "      <td>17195</td>\n",
       "      <td>3</td>\n",
       "      <td>2</td>\n",
       "      <td>9</td>\n",
       "      <td>4</td>\n",
       "      <td>38</td>\n",
       "      <td>46</td>\n",
       "      <td>160</td>\n",
       "      <td>0</td>\n",
       "    </tr>\n",
       "  </tbody>\n",
       "</table>\n",
       "</div>"
      ],
      "text/plain": [
       "   uid  day         GEOID County  Count  Count_P8  Count_P5  Count_P3  \\\n",
       "0    1    1  171950010003  17195      1         2         1        15   \n",
       "1    1    1  171950011013  17195      4         5         5         4   \n",
       "2    1    1  171950011021  17195      4         3         5         0   \n",
       "3    1    1  171950012003  17195      1         0         2         0   \n",
       "4    1    2  171950009001  17195      1         0         0         0   \n",
       "5    1    2  171950010001  17195      2         4         0        11   \n",
       "6    1    2  171950010002  17195      1         2         2         0   \n",
       "7    1    2  171950010003  17195      4         4         3         0   \n",
       "8    1    2  171950011011  17195      1         0         0         0   \n",
       "9    1    2  171950011021  17195      3         2         9         4   \n",
       "\n",
       "   Count_P1  Count_P05  Count_P01  Count_P005  \n",
       "0         6        142         11           0  \n",
       "1        17         51         41           0  \n",
       "2         0          0         33           0  \n",
       "3        11          6         99          81  \n",
       "4         7         27        212          82  \n",
       "5         0         18         63          95  \n",
       "6         3          0          0           0  \n",
       "7        18          3          6           0  \n",
       "8         0          7         95           0  \n",
       "9        38         46        160           0  "
      ]
     },
     "execution_count": 51,
     "metadata": {},
     "output_type": "execute_result"
    }
   ],
   "source": [
    "grouped_counts.head(10)"
   ]
  },
  {
   "cell_type": "markdown",
   "id": "d6301f89",
   "metadata": {},
   "source": [
    "#"
   ]
  },
  {
   "cell_type": "markdown",
   "id": "2e118245",
   "metadata": {},
   "source": [
    "# Home Location"
   ]
  },
  {
   "cell_type": "code",
   "execution_count": 53,
   "id": "64c857c6",
   "metadata": {},
   "outputs": [
    {
     "name": "stdout",
     "output_type": "stream",
     "text": [
      "(10000, 3)\n"
     ]
    },
    {
     "data": {
      "text/html": [
       "<div>\n",
       "<style scoped>\n",
       "    .dataframe tbody tr th:only-of-type {\n",
       "        vertical-align: middle;\n",
       "    }\n",
       "\n",
       "    .dataframe tbody tr th {\n",
       "        vertical-align: top;\n",
       "    }\n",
       "\n",
       "    .dataframe thead th {\n",
       "        text-align: right;\n",
       "    }\n",
       "</style>\n",
       "<table border=\"1\" class=\"dataframe\">\n",
       "  <thead>\n",
       "    <tr style=\"text-align: right;\">\n",
       "      <th></th>\n",
       "      <th>uid</th>\n",
       "      <th>lat</th>\n",
       "      <th>lng</th>\n",
       "    </tr>\n",
       "  </thead>\n",
       "  <tbody>\n",
       "    <tr>\n",
       "      <th>0</th>\n",
       "      <td>1</td>\n",
       "      <td>41.792552</td>\n",
       "      <td>-89.700469</td>\n",
       "    </tr>\n",
       "    <tr>\n",
       "      <th>1</th>\n",
       "      <td>2</td>\n",
       "      <td>38.882036</td>\n",
       "      <td>-90.098574</td>\n",
       "    </tr>\n",
       "    <tr>\n",
       "      <th>2</th>\n",
       "      <td>3</td>\n",
       "      <td>40.082724</td>\n",
       "      <td>-88.328817</td>\n",
       "    </tr>\n",
       "    <tr>\n",
       "      <th>3</th>\n",
       "      <td>4</td>\n",
       "      <td>42.006063</td>\n",
       "      <td>-88.163496</td>\n",
       "    </tr>\n",
       "    <tr>\n",
       "      <th>4</th>\n",
       "      <td>5</td>\n",
       "      <td>41.831380</td>\n",
       "      <td>-87.789194</td>\n",
       "    </tr>\n",
       "  </tbody>\n",
       "</table>\n",
       "</div>"
      ],
      "text/plain": [
       "   uid        lat        lng\n",
       "0    1  41.792552 -89.700469\n",
       "1    2  38.882036 -90.098574\n",
       "2    3  40.082724 -88.328817\n",
       "3    4  42.006063 -88.163496\n",
       "4    5  41.831380 -87.789194"
      ]
     },
     "execution_count": 53,
     "metadata": {},
     "output_type": "execute_result"
    }
   ],
   "source": [
    "home = pd.read_csv(\"Home_location_4Week_10000_IL_realpop.csv\")\n",
    "home = home.drop(columns = 'Unnamed: 0')\n",
    "print(home.shape)\n",
    "home.head()"
   ]
  },
  {
   "cell_type": "code",
   "execution_count": 54,
   "id": "148a739b",
   "metadata": {},
   "outputs": [
    {
     "data": {
      "text/html": [
       "<div>\n",
       "<style scoped>\n",
       "    .dataframe tbody tr th:only-of-type {\n",
       "        vertical-align: middle;\n",
       "    }\n",
       "\n",
       "    .dataframe tbody tr th {\n",
       "        vertical-align: top;\n",
       "    }\n",
       "\n",
       "    .dataframe thead th {\n",
       "        text-align: right;\n",
       "    }\n",
       "</style>\n",
       "<table border=\"1\" class=\"dataframe\">\n",
       "  <thead>\n",
       "    <tr style=\"text-align: right;\">\n",
       "      <th></th>\n",
       "      <th>uid</th>\n",
       "      <th>lat</th>\n",
       "      <th>lng</th>\n",
       "      <th>geometry</th>\n",
       "    </tr>\n",
       "  </thead>\n",
       "  <tbody>\n",
       "    <tr>\n",
       "      <th>0</th>\n",
       "      <td>1</td>\n",
       "      <td>41.792552</td>\n",
       "      <td>-89.700469</td>\n",
       "      <td>POINT (-89.70047 41.79255)</td>\n",
       "    </tr>\n",
       "    <tr>\n",
       "      <th>1</th>\n",
       "      <td>2</td>\n",
       "      <td>38.882036</td>\n",
       "      <td>-90.098574</td>\n",
       "      <td>POINT (-90.09857 38.88204)</td>\n",
       "    </tr>\n",
       "    <tr>\n",
       "      <th>2</th>\n",
       "      <td>3</td>\n",
       "      <td>40.082724</td>\n",
       "      <td>-88.328817</td>\n",
       "      <td>POINT (-88.32882 40.08272)</td>\n",
       "    </tr>\n",
       "    <tr>\n",
       "      <th>3</th>\n",
       "      <td>4</td>\n",
       "      <td>42.006063</td>\n",
       "      <td>-88.163496</td>\n",
       "      <td>POINT (-88.16350 42.00606)</td>\n",
       "    </tr>\n",
       "    <tr>\n",
       "      <th>4</th>\n",
       "      <td>5</td>\n",
       "      <td>41.831380</td>\n",
       "      <td>-87.789194</td>\n",
       "      <td>POINT (-87.78919 41.83138)</td>\n",
       "    </tr>\n",
       "  </tbody>\n",
       "</table>\n",
       "</div>"
      ],
      "text/plain": [
       "   uid        lat        lng                    geometry\n",
       "0    1  41.792552 -89.700469  POINT (-89.70047 41.79255)\n",
       "1    2  38.882036 -90.098574  POINT (-90.09857 38.88204)\n",
       "2    3  40.082724 -88.328817  POINT (-88.32882 40.08272)\n",
       "3    4  42.006063 -88.163496  POINT (-88.16350 42.00606)\n",
       "4    5  41.831380 -87.789194  POINT (-87.78919 41.83138)"
      ]
     },
     "execution_count": 54,
     "metadata": {},
     "output_type": "execute_result"
    }
   ],
   "source": [
    "# Convert latitude/longitude into Point geometry\n",
    "geometry = [Point(xy) for xy in zip(home[\"lng\"], home[\"lat\"])] #Convert coordinate to points\n",
    "\n",
    "# Create a GeoDataFrame with the same CRS as the Census Tract shapefile\n",
    "home_points_gdf = gpd.GeoDataFrame(home, geometry=geometry, crs=\"EPSG:4326\")\n",
    "\n",
    "home_points_gdf.head()  # Check that geometry was created correctly"
   ]
  },
  {
   "cell_type": "code",
   "execution_count": 55,
   "id": "4682a297",
   "metadata": {},
   "outputs": [
    {
     "name": "stdout",
     "output_type": "stream",
     "text": [
      "Tracts CRS: EPSG:4326\n",
      "Points CRS: EPSG:4326\n"
     ]
    }
   ],
   "source": [
    "print(\"Tracts CRS:\", tracts.crs)\n",
    "print(\"Points CRS:\", home_points_gdf.crs)"
   ]
  },
  {
   "cell_type": "code",
   "execution_count": 56,
   "id": "fe417693",
   "metadata": {},
   "outputs": [
    {
     "name": "stdout",
     "output_type": "stream",
     "text": [
      "86\n"
     ]
    },
    {
     "data": {
      "text/html": [
       "<div>\n",
       "<style scoped>\n",
       "    .dataframe tbody tr th:only-of-type {\n",
       "        vertical-align: middle;\n",
       "    }\n",
       "\n",
       "    .dataframe tbody tr th {\n",
       "        vertical-align: top;\n",
       "    }\n",
       "\n",
       "    .dataframe thead th {\n",
       "        text-align: right;\n",
       "    }\n",
       "</style>\n",
       "<table border=\"1\" class=\"dataframe\">\n",
       "  <thead>\n",
       "    <tr style=\"text-align: right;\">\n",
       "      <th></th>\n",
       "      <th>GEOID</th>\n",
       "      <th>geometry</th>\n",
       "      <th>County</th>\n",
       "    </tr>\n",
       "  </thead>\n",
       "  <tbody>\n",
       "    <tr>\n",
       "      <th>0</th>\n",
       "      <td>170438413161</td>\n",
       "      <td>POLYGON ((-88.20740 41.98733, -88.20728 41.987...</td>\n",
       "      <td>17043</td>\n",
       "    </tr>\n",
       "    <tr>\n",
       "      <th>1</th>\n",
       "      <td>170438414031</td>\n",
       "      <td>POLYGON ((-88.16152 41.87110, -88.16150 41.871...</td>\n",
       "      <td>17043</td>\n",
       "    </tr>\n",
       "    <tr>\n",
       "      <th>2</th>\n",
       "      <td>170399714001</td>\n",
       "      <td>POLYGON ((-88.74649 40.22437, -88.74647 40.226...</td>\n",
       "      <td>17039</td>\n",
       "    </tr>\n",
       "  </tbody>\n",
       "</table>\n",
       "</div>"
      ],
      "text/plain": [
       "          GEOID                                           geometry County\n",
       "0  170438413161  POLYGON ((-88.20740 41.98733, -88.20728 41.987...  17043\n",
       "1  170438414031  POLYGON ((-88.16152 41.87110, -88.16150 41.871...  17043\n",
       "2  170399714001  POLYGON ((-88.74649 40.22437, -88.74647 40.226...  17039"
      ]
     },
     "execution_count": 56,
     "metadata": {},
     "output_type": "execute_result"
    }
   ],
   "source": [
    "print(len(tracts['County'].unique().tolist()))\n",
    "tracts.head(3)"
   ]
  },
  {
   "cell_type": "code",
   "execution_count": 57,
   "id": "45be8f9b",
   "metadata": {
    "scrolled": true
   },
   "outputs": [
    {
     "name": "stdout",
     "output_type": "stream",
     "text": [
      "(10000, 7)\n"
     ]
    },
    {
     "data": {
      "text/html": [
       "<div>\n",
       "<style scoped>\n",
       "    .dataframe tbody tr th:only-of-type {\n",
       "        vertical-align: middle;\n",
       "    }\n",
       "\n",
       "    .dataframe tbody tr th {\n",
       "        vertical-align: top;\n",
       "    }\n",
       "\n",
       "    .dataframe thead th {\n",
       "        text-align: right;\n",
       "    }\n",
       "</style>\n",
       "<table border=\"1\" class=\"dataframe\">\n",
       "  <thead>\n",
       "    <tr style=\"text-align: right;\">\n",
       "      <th></th>\n",
       "      <th>uid</th>\n",
       "      <th>lat</th>\n",
       "      <th>lng</th>\n",
       "      <th>geometry</th>\n",
       "      <th>index_right</th>\n",
       "      <th>GEOID</th>\n",
       "      <th>County</th>\n",
       "    </tr>\n",
       "  </thead>\n",
       "  <tbody>\n",
       "    <tr>\n",
       "      <th>0</th>\n",
       "      <td>1</td>\n",
       "      <td>41.792552</td>\n",
       "      <td>-89.700469</td>\n",
       "      <td>POINT (-89.70047 41.79255)</td>\n",
       "      <td>173</td>\n",
       "      <td>171950011021</td>\n",
       "      <td>17195</td>\n",
       "    </tr>\n",
       "    <tr>\n",
       "      <th>1</th>\n",
       "      <td>2</td>\n",
       "      <td>38.882036</td>\n",
       "      <td>-90.098574</td>\n",
       "      <td>POINT (-90.09857 38.88204)</td>\n",
       "      <td>2270</td>\n",
       "      <td>171194013001</td>\n",
       "      <td>17119</td>\n",
       "    </tr>\n",
       "    <tr>\n",
       "      <th>2</th>\n",
       "      <td>3</td>\n",
       "      <td>40.082724</td>\n",
       "      <td>-88.328817</td>\n",
       "      <td>POINT (-88.32882 40.08272)</td>\n",
       "      <td>2333</td>\n",
       "      <td>170190012052</td>\n",
       "      <td>17019</td>\n",
       "    </tr>\n",
       "  </tbody>\n",
       "</table>\n",
       "</div>"
      ],
      "text/plain": [
       "   uid        lat        lng                    geometry  index_right  \\\n",
       "0    1  41.792552 -89.700469  POINT (-89.70047 41.79255)          173   \n",
       "1    2  38.882036 -90.098574  POINT (-90.09857 38.88204)         2270   \n",
       "2    3  40.082724 -88.328817  POINT (-88.32882 40.08272)         2333   \n",
       "\n",
       "          GEOID County  \n",
       "0  171950011021  17195  \n",
       "1  171194013001  17119  \n",
       "2  170190012052  17019  "
      ]
     },
     "execution_count": 57,
     "metadata": {},
     "output_type": "execute_result"
    }
   ],
   "source": [
    "home_joined_gdf = gpd.sjoin(home_points_gdf, tracts, how=\"left\", predicate=\"within\")\n",
    "print(home_joined_gdf.shape)\n",
    "home_joined_gdf.head(3)"
   ]
  },
  {
   "cell_type": "code",
   "execution_count": 58,
   "id": "ffaa76c1",
   "metadata": {},
   "outputs": [
    {
     "data": {
      "text/html": [
       "<div>\n",
       "<style scoped>\n",
       "    .dataframe tbody tr th:only-of-type {\n",
       "        vertical-align: middle;\n",
       "    }\n",
       "\n",
       "    .dataframe tbody tr th {\n",
       "        vertical-align: top;\n",
       "    }\n",
       "\n",
       "    .dataframe thead th {\n",
       "        text-align: right;\n",
       "    }\n",
       "</style>\n",
       "<table border=\"1\" class=\"dataframe\">\n",
       "  <thead>\n",
       "    <tr style=\"text-align: right;\">\n",
       "      <th></th>\n",
       "      <th>uid</th>\n",
       "      <th>lat</th>\n",
       "      <th>lng</th>\n",
       "      <th>geometry</th>\n",
       "      <th>index_right</th>\n",
       "      <th>GEOID</th>\n",
       "      <th>County</th>\n",
       "      <th>home_geoid</th>\n",
       "    </tr>\n",
       "  </thead>\n",
       "  <tbody>\n",
       "    <tr>\n",
       "      <th>0</th>\n",
       "      <td>1</td>\n",
       "      <td>41.792552</td>\n",
       "      <td>-89.700469</td>\n",
       "      <td>POINT (-89.70047 41.79255)</td>\n",
       "      <td>173</td>\n",
       "      <td>171950011021</td>\n",
       "      <td>17195</td>\n",
       "      <td>17195</td>\n",
       "    </tr>\n",
       "    <tr>\n",
       "      <th>1</th>\n",
       "      <td>2</td>\n",
       "      <td>38.882036</td>\n",
       "      <td>-90.098574</td>\n",
       "      <td>POINT (-90.09857 38.88204)</td>\n",
       "      <td>2270</td>\n",
       "      <td>171194013001</td>\n",
       "      <td>17119</td>\n",
       "      <td>17119</td>\n",
       "    </tr>\n",
       "    <tr>\n",
       "      <th>2</th>\n",
       "      <td>3</td>\n",
       "      <td>40.082724</td>\n",
       "      <td>-88.328817</td>\n",
       "      <td>POINT (-88.32882 40.08272)</td>\n",
       "      <td>2333</td>\n",
       "      <td>170190012052</td>\n",
       "      <td>17019</td>\n",
       "      <td>17019</td>\n",
       "    </tr>\n",
       "  </tbody>\n",
       "</table>\n",
       "</div>"
      ],
      "text/plain": [
       "   uid        lat        lng                    geometry  index_right  \\\n",
       "0    1  41.792552 -89.700469  POINT (-89.70047 41.79255)          173   \n",
       "1    2  38.882036 -90.098574  POINT (-90.09857 38.88204)         2270   \n",
       "2    3  40.082724 -88.328817  POINT (-88.32882 40.08272)         2333   \n",
       "\n",
       "          GEOID County home_geoid  \n",
       "0  171950011021  17195      17195  \n",
       "1  171194013001  17119      17119  \n",
       "2  170190012052  17019      17019  "
      ]
     },
     "execution_count": 58,
     "metadata": {},
     "output_type": "execute_result"
    }
   ],
   "source": [
    "#home geoid at the county level\n",
    "home_joined_gdf['home_geoid'] = home_joined_gdf['GEOID'].str[:5] \n",
    "home_joined_gdf.head(3)"
   ]
  },
  {
   "cell_type": "code",
   "execution_count": 59,
   "id": "34cd9c78",
   "metadata": {},
   "outputs": [
    {
     "name": "stdout",
     "output_type": "stream",
     "text": [
      "86\n"
     ]
    }
   ],
   "source": [
    "print(len(home_joined_gdf['home_geoid'].unique().tolist()))"
   ]
  },
  {
   "cell_type": "markdown",
   "id": "1009829a",
   "metadata": {},
   "source": [
    "### This is where home list is computed!!! Important!!!"
   ]
  },
  {
   "cell_type": "code",
   "execution_count": 60,
   "id": "0c231813",
   "metadata": {},
   "outputs": [
    {
     "data": {
      "text/plain": [
       "10000"
      ]
     },
     "execution_count": 60,
     "metadata": {},
     "output_type": "execute_result"
    }
   ],
   "source": [
    "#Home list------------------------------------------------!!------------!!-----------\n",
    "home_list = home_joined_gdf['home_geoid'].tolist()\n",
    "len(home_list)"
   ]
  },
  {
   "cell_type": "code",
   "execution_count": 61,
   "id": "51273437",
   "metadata": {},
   "outputs": [
    {
     "data": {
      "text/plain": [
       "'171950011021'"
      ]
     },
     "execution_count": 61,
     "metadata": {},
     "output_type": "execute_result"
    }
   ],
   "source": [
    "home = home_joined_gdf[home_joined_gdf['uid'] == 1]['GEOID'][0]\n",
    "home"
   ]
  },
  {
   "cell_type": "code",
   "execution_count": 62,
   "id": "474a93bf",
   "metadata": {},
   "outputs": [
    {
     "data": {
      "text/html": [
       "<div>\n",
       "<style scoped>\n",
       "    .dataframe tbody tr th:only-of-type {\n",
       "        vertical-align: middle;\n",
       "    }\n",
       "\n",
       "    .dataframe tbody tr th {\n",
       "        vertical-align: top;\n",
       "    }\n",
       "\n",
       "    .dataframe thead th {\n",
       "        text-align: right;\n",
       "    }\n",
       "</style>\n",
       "<table border=\"1\" class=\"dataframe\">\n",
       "  <thead>\n",
       "    <tr style=\"text-align: right;\">\n",
       "      <th></th>\n",
       "      <th>GEOID</th>\n",
       "      <th>pop2020</th>\n",
       "    </tr>\n",
       "  </thead>\n",
       "  <tbody>\n",
       "    <tr>\n",
       "      <th>3106</th>\n",
       "      <td>06037</td>\n",
       "      <td>9989165.0</td>\n",
       "    </tr>\n",
       "    <tr>\n",
       "      <th>3107</th>\n",
       "      <td>46113</td>\n",
       "      <td>14309.0</td>\n",
       "    </tr>\n",
       "    <tr>\n",
       "      <th>3108</th>\n",
       "      <td>51515</td>\n",
       "      <td>6599.0</td>\n",
       "    </tr>\n",
       "  </tbody>\n",
       "</table>\n",
       "</div>"
      ],
      "text/plain": [
       "      GEOID    pop2020\n",
       "3106  06037  9989165.0\n",
       "3107  46113    14309.0\n",
       "3108  51515     6599.0"
      ]
     },
     "execution_count": 62,
     "metadata": {},
     "output_type": "execute_result"
    }
   ],
   "source": [
    "us_shape_file = pd.read_csv(\"../../Data/us_shapefile_county.csv\")\n",
    "\n",
    "#rename column\n",
    "rename = {\"FIPS code\" : \"GEOID\"}\n",
    "us_shape_file = us_shape_file.rename(columns = rename)\n",
    "us_shape_file[\"GEOID\"] = us_shape_file[\"GEOID\"].apply(lambda x: f\"{int(x):05d}\")\n",
    "us_shape_file = us_shape_file[['GEOID','pop2020']].copy()\n",
    "us_shape_file.tail(3)"
   ]
  },
  {
   "cell_type": "code",
   "execution_count": 63,
   "id": "563de838",
   "metadata": {},
   "outputs": [
    {
     "data": {
      "text/html": [
       "<div>\n",
       "<style scoped>\n",
       "    .dataframe tbody tr th:only-of-type {\n",
       "        vertical-align: middle;\n",
       "    }\n",
       "\n",
       "    .dataframe tbody tr th {\n",
       "        vertical-align: top;\n",
       "    }\n",
       "\n",
       "    .dataframe thead th {\n",
       "        text-align: right;\n",
       "    }\n",
       "</style>\n",
       "<table border=\"1\" class=\"dataframe\">\n",
       "  <thead>\n",
       "    <tr style=\"text-align: right;\">\n",
       "      <th></th>\n",
       "      <th>GEOID</th>\n",
       "      <th>Count</th>\n",
       "    </tr>\n",
       "  </thead>\n",
       "  <tbody>\n",
       "    <tr>\n",
       "      <th>0</th>\n",
       "      <td>17001</td>\n",
       "      <td>67</td>\n",
       "    </tr>\n",
       "    <tr>\n",
       "      <th>1</th>\n",
       "      <td>17005</td>\n",
       "      <td>16</td>\n",
       "    </tr>\n",
       "    <tr>\n",
       "      <th>2</th>\n",
       "      <td>17007</td>\n",
       "      <td>20</td>\n",
       "    </tr>\n",
       "  </tbody>\n",
       "</table>\n",
       "</div>"
      ],
      "text/plain": [
       "   GEOID  Count\n",
       "0  17001     67\n",
       "1  17005     16\n",
       "2  17007     20"
      ]
     },
     "execution_count": 63,
     "metadata": {},
     "output_type": "execute_result"
    }
   ],
   "source": [
    "home_groped= home_joined_gdf.groupby('home_geoid').size().reset_index(name='Count')\n",
    "rename = {'home_geoid' :'GEOID'}\n",
    "home_groped = home_groped.rename(columns = rename)\n",
    "home_groped.head(3)"
   ]
  },
  {
   "cell_type": "code",
   "execution_count": 64,
   "id": "a965dc8b",
   "metadata": {},
   "outputs": [
    {
     "data": {
      "text/html": [
       "<div>\n",
       "<style scoped>\n",
       "    .dataframe tbody tr th:only-of-type {\n",
       "        vertical-align: middle;\n",
       "    }\n",
       "\n",
       "    .dataframe tbody tr th {\n",
       "        vertical-align: top;\n",
       "    }\n",
       "\n",
       "    .dataframe thead th {\n",
       "        text-align: right;\n",
       "    }\n",
       "</style>\n",
       "<table border=\"1\" class=\"dataframe\">\n",
       "  <thead>\n",
       "    <tr style=\"text-align: right;\">\n",
       "      <th></th>\n",
       "      <th>GEOID</th>\n",
       "      <th>pop2020</th>\n",
       "      <th>Count</th>\n",
       "    </tr>\n",
       "  </thead>\n",
       "  <tbody>\n",
       "    <tr>\n",
       "      <th>0</th>\n",
       "      <td>17185</td>\n",
       "      <td>11316.0</td>\n",
       "      <td>15</td>\n",
       "    </tr>\n",
       "    <tr>\n",
       "      <th>1</th>\n",
       "      <td>17123</td>\n",
       "      <td>11691.0</td>\n",
       "      <td>4</td>\n",
       "    </tr>\n",
       "    <tr>\n",
       "      <th>2</th>\n",
       "      <td>17061</td>\n",
       "      <td>11915.0</td>\n",
       "      <td>14</td>\n",
       "    </tr>\n",
       "  </tbody>\n",
       "</table>\n",
       "</div>"
      ],
      "text/plain": [
       "   GEOID  pop2020  Count\n",
       "0  17185  11316.0     15\n",
       "1  17123  11691.0      4\n",
       "2  17061  11915.0     14"
      ]
     },
     "execution_count": 64,
     "metadata": {},
     "output_type": "execute_result"
    }
   ],
   "source": [
    "home_merged = pd.merge(us_shape_file, home_groped, on = 'GEOID', how = 'inner')\n",
    "home_merged.head(3)"
   ]
  },
  {
   "cell_type": "code",
   "execution_count": 65,
   "id": "e1c84473",
   "metadata": {},
   "outputs": [
    {
     "data": {
      "image/png": "[encoded data removed]",
      "text/plain": [
       "<Figure size 640x480 with 1 Axes>"
      ]
     },
     "metadata": {},
     "output_type": "display_data"
    }
   ],
   "source": [
    "home_merged['log_pop2021'] = np.log10(home_merged['pop2020'] + 1)\n",
    "home_merged['log_Count'] = np.log10(home_merged['Count'] + 1)\n",
    "\n",
    "import matplotlib.pyplot as plt\n",
    "\n",
    "plt.scatter(home_merged['log_pop2021'], home_merged['log_Count'], color='blue')\n",
    "#plt.scatter(home_merged['pop2021'], home_merged['Count'], color='blue')\n",
    "plt.xlabel('Log10(County Population)')\n",
    "plt.ylabel('Log10(Number of Home Locations)')\n",
    "plt.title('Log-Log Relationship: Population vs. Home Locations')\n",
    "plt.grid(True)\n",
    "plt.show()"
   ]
  },
  {
   "cell_type": "markdown",
   "id": "2fdba82e",
   "metadata": {},
   "source": [
    "### Test if it is a linear relationship"
   ]
  },
  {
   "cell_type": "code",
   "execution_count": 68,
   "id": "6037ae7c",
   "metadata": {},
   "outputs": [
    {
     "name": "stdout",
     "output_type": "stream",
     "text": [
      "R² score: 0.9951779361055701\n",
      "Estimated slope (β₁): 0.0008370985963810678\n",
      "Estimated intercept (β₀): -7.231314261220831\n"
     ]
    }
   ],
   "source": [
    "from sklearn.linear_model import LinearRegression\n",
    "\n",
    "# Reshape X to 2D\n",
    "X = home_merged[['pop2020']]  # double brackets = 2D DataFrame\n",
    "y = home_merged['Count']\n",
    "\n",
    "model = LinearRegression()\n",
    "model.fit(X, y)\n",
    "\n",
    "r_squared = model.score(X, y)\n",
    "print(\"R² score:\", r_squared)\n",
    "\n",
    "slope = model.coef_[0]\n",
    "intercept = model.intercept_\n",
    "\n",
    "print(f\"Estimated slope (β₁): {slope}\")\n",
    "print(f\"Estimated intercept (β₀): {intercept}\")"
   ]
  },
  {
   "cell_type": "markdown",
   "id": "454a6234",
   "metadata": {},
   "source": [
    "#"
   ]
  },
  {
   "cell_type": "markdown",
   "id": "a7e20d94",
   "metadata": {},
   "source": [
    "# The Loop"
   ]
  },
  {
   "cell_type": "code",
   "execution_count": 69,
   "id": "2978f295",
   "metadata": {},
   "outputs": [
    {
     "name": "stdout",
     "output_type": "stream",
     "text": [
      "(3601184, 12)\n"
     ]
    },
    {
     "data": {
      "text/html": [
       "<div>\n",
       "<style scoped>\n",
       "    .dataframe tbody tr th:only-of-type {\n",
       "        vertical-align: middle;\n",
       "    }\n",
       "\n",
       "    .dataframe tbody tr th {\n",
       "        vertical-align: top;\n",
       "    }\n",
       "\n",
       "    .dataframe thead th {\n",
       "        text-align: right;\n",
       "    }\n",
       "</style>\n",
       "<table border=\"1\" class=\"dataframe\">\n",
       "  <thead>\n",
       "    <tr style=\"text-align: right;\">\n",
       "      <th></th>\n",
       "      <th>uid</th>\n",
       "      <th>day</th>\n",
       "      <th>GEOID</th>\n",
       "      <th>County</th>\n",
       "      <th>Count</th>\n",
       "      <th>Count_P8</th>\n",
       "      <th>Count_P5</th>\n",
       "      <th>Count_P3</th>\n",
       "      <th>Count_P1</th>\n",
       "      <th>Count_P05</th>\n",
       "      <th>Count_P01</th>\n",
       "      <th>Count_P005</th>\n",
       "    </tr>\n",
       "  </thead>\n",
       "  <tbody>\n",
       "    <tr>\n",
       "      <th>0</th>\n",
       "      <td>1</td>\n",
       "      <td>1</td>\n",
       "      <td>171950010003</td>\n",
       "      <td>17195</td>\n",
       "      <td>1</td>\n",
       "      <td>2</td>\n",
       "      <td>1</td>\n",
       "      <td>15</td>\n",
       "      <td>6</td>\n",
       "      <td>142</td>\n",
       "      <td>11</td>\n",
       "      <td>0</td>\n",
       "    </tr>\n",
       "    <tr>\n",
       "      <th>1</th>\n",
       "      <td>1</td>\n",
       "      <td>1</td>\n",
       "      <td>171950011013</td>\n",
       "      <td>17195</td>\n",
       "      <td>4</td>\n",
       "      <td>5</td>\n",
       "      <td>5</td>\n",
       "      <td>4</td>\n",
       "      <td>17</td>\n",
       "      <td>51</td>\n",
       "      <td>41</td>\n",
       "      <td>0</td>\n",
       "    </tr>\n",
       "    <tr>\n",
       "      <th>2</th>\n",
       "      <td>1</td>\n",
       "      <td>1</td>\n",
       "      <td>171950011021</td>\n",
       "      <td>17195</td>\n",
       "      <td>4</td>\n",
       "      <td>3</td>\n",
       "      <td>5</td>\n",
       "      <td>0</td>\n",
       "      <td>0</td>\n",
       "      <td>0</td>\n",
       "      <td>33</td>\n",
       "      <td>0</td>\n",
       "    </tr>\n",
       "    <tr>\n",
       "      <th>3</th>\n",
       "      <td>1</td>\n",
       "      <td>1</td>\n",
       "      <td>171950012003</td>\n",
       "      <td>17195</td>\n",
       "      <td>1</td>\n",
       "      <td>0</td>\n",
       "      <td>2</td>\n",
       "      <td>0</td>\n",
       "      <td>11</td>\n",
       "      <td>6</td>\n",
       "      <td>99</td>\n",
       "      <td>81</td>\n",
       "    </tr>\n",
       "    <tr>\n",
       "      <th>4</th>\n",
       "      <td>1</td>\n",
       "      <td>2</td>\n",
       "      <td>171950009001</td>\n",
       "      <td>17195</td>\n",
       "      <td>1</td>\n",
       "      <td>0</td>\n",
       "      <td>0</td>\n",
       "      <td>0</td>\n",
       "      <td>7</td>\n",
       "      <td>27</td>\n",
       "      <td>212</td>\n",
       "      <td>82</td>\n",
       "    </tr>\n",
       "  </tbody>\n",
       "</table>\n",
       "</div>"
      ],
      "text/plain": [
       "   uid  day         GEOID County  Count  Count_P8  Count_P5  Count_P3  \\\n",
       "0    1    1  171950010003  17195      1         2         1        15   \n",
       "1    1    1  171950011013  17195      4         5         5         4   \n",
       "2    1    1  171950011021  17195      4         3         5         0   \n",
       "3    1    1  171950012003  17195      1         0         2         0   \n",
       "4    1    2  171950009001  17195      1         0         0         0   \n",
       "\n",
       "   Count_P1  Count_P05  Count_P01  Count_P005  \n",
       "0         6        142         11           0  \n",
       "1        17         51         41           0  \n",
       "2         0          0         33           0  \n",
       "3        11          6         99          81  \n",
       "4         7         27        212          82  "
      ]
     },
     "execution_count": 69,
     "metadata": {},
     "output_type": "execute_result"
    }
   ],
   "source": [
    "print(grouped_counts.shape)\n",
    "grouped_counts.head(5)"
   ]
  },
  {
   "cell_type": "markdown",
   "id": "2e79261c",
   "metadata": {},
   "source": [
    "### Assign home locaton to each individual"
   ]
  },
  {
   "cell_type": "code",
   "execution_count": 70,
   "id": "eba16a0b",
   "metadata": {},
   "outputs": [
    {
     "name": "stdout",
     "output_type": "stream",
     "text": [
      "0\n",
      "4000\n",
      "8000\n"
     ]
    }
   ],
   "source": [
    "# Enpty Data Frame\n",
    "ori_des_df = pd.DataFrame()\n",
    "person_id = grouped_counts[\"uid\"].unique().tolist()\n",
    "\n",
    "#The Loop\n",
    "for i in range(len(person_id)):\n",
    "    \n",
    "    if i % 4000 == 0:\n",
    "        print(i)\n",
    "    \n",
    "    #Reset_index: This makes sure that everytime we do the subset, index start with 1\n",
    "    person = grouped_counts[grouped_counts['uid'] == person_id[i]].reset_index().copy()\n",
    "    person = person.drop(columns = ['index']) #since it create a separate column of index, we drop it!\n",
    "    \n",
    "    #Use existing data to find home location\n",
    "    Origin = home_list[i]\n",
    "    \n",
    "    #Insert Origin, shift county to the right as 'Destination'\n",
    "    person.insert(3, \"Origin\", Origin)\n",
    "    \n",
    "    #rename column\n",
    "    rename = {'County': 'Destination'}\n",
    "    person = person.rename(columns = rename)\n",
    "    \n",
    "    #Concat the result\n",
    "    #Note that each row are count for one census block, convert them into origin and destinaion\n",
    "    ori_des_df = pd.concat([ori_des_df, person], axis = 0)"
   ]
  },
  {
   "cell_type": "code",
   "execution_count": 71,
   "id": "d2f7cecc",
   "metadata": {},
   "outputs": [
    {
     "name": "stdout",
     "output_type": "stream",
     "text": [
      "(3601184, 13)\n"
     ]
    },
    {
     "data": {
      "text/html": [
       "<div>\n",
       "<style scoped>\n",
       "    .dataframe tbody tr th:only-of-type {\n",
       "        vertical-align: middle;\n",
       "    }\n",
       "\n",
       "    .dataframe tbody tr th {\n",
       "        vertical-align: top;\n",
       "    }\n",
       "\n",
       "    .dataframe thead th {\n",
       "        text-align: right;\n",
       "    }\n",
       "</style>\n",
       "<table border=\"1\" class=\"dataframe\">\n",
       "  <thead>\n",
       "    <tr style=\"text-align: right;\">\n",
       "      <th></th>\n",
       "      <th>uid</th>\n",
       "      <th>day</th>\n",
       "      <th>GEOID</th>\n",
       "      <th>Origin</th>\n",
       "      <th>Destination</th>\n",
       "      <th>Count</th>\n",
       "      <th>Count_P8</th>\n",
       "      <th>Count_P5</th>\n",
       "      <th>Count_P3</th>\n",
       "      <th>Count_P1</th>\n",
       "      <th>Count_P05</th>\n",
       "      <th>Count_P01</th>\n",
       "      <th>Count_P005</th>\n",
       "    </tr>\n",
       "  </thead>\n",
       "  <tbody>\n",
       "    <tr>\n",
       "      <th>0</th>\n",
       "      <td>1</td>\n",
       "      <td>1</td>\n",
       "      <td>171950010003</td>\n",
       "      <td>17195</td>\n",
       "      <td>17195</td>\n",
       "      <td>1</td>\n",
       "      <td>2</td>\n",
       "      <td>1</td>\n",
       "      <td>15</td>\n",
       "      <td>6</td>\n",
       "      <td>142</td>\n",
       "      <td>11</td>\n",
       "      <td>0</td>\n",
       "    </tr>\n",
       "    <tr>\n",
       "      <th>1</th>\n",
       "      <td>1</td>\n",
       "      <td>1</td>\n",
       "      <td>171950011013</td>\n",
       "      <td>17195</td>\n",
       "      <td>17195</td>\n",
       "      <td>4</td>\n",
       "      <td>5</td>\n",
       "      <td>5</td>\n",
       "      <td>4</td>\n",
       "      <td>17</td>\n",
       "      <td>51</td>\n",
       "      <td>41</td>\n",
       "      <td>0</td>\n",
       "    </tr>\n",
       "    <tr>\n",
       "      <th>2</th>\n",
       "      <td>1</td>\n",
       "      <td>1</td>\n",
       "      <td>171950011021</td>\n",
       "      <td>17195</td>\n",
       "      <td>17195</td>\n",
       "      <td>4</td>\n",
       "      <td>3</td>\n",
       "      <td>5</td>\n",
       "      <td>0</td>\n",
       "      <td>0</td>\n",
       "      <td>0</td>\n",
       "      <td>33</td>\n",
       "      <td>0</td>\n",
       "    </tr>\n",
       "  </tbody>\n",
       "</table>\n",
       "</div>"
      ],
      "text/plain": [
       "   uid  day         GEOID Origin Destination  Count  Count_P8  Count_P5  \\\n",
       "0    1    1  171950010003  17195       17195      1         2         1   \n",
       "1    1    1  171950011013  17195       17195      4         5         5   \n",
       "2    1    1  171950011021  17195       17195      4         3         5   \n",
       "\n",
       "   Count_P3  Count_P1  Count_P05  Count_P01  Count_P005  \n",
       "0        15         6        142         11           0  \n",
       "1         4        17         51         41           0  \n",
       "2         0         0          0         33           0  "
      ]
     },
     "execution_count": 71,
     "metadata": {},
     "output_type": "execute_result"
    }
   ],
   "source": [
    "print(ori_des_df.shape)\n",
    "ori_des_df.head(3)\n",
    "#ori_des_df.to_excel(\"ori_des_df.xlsx\")"
   ]
  },
  {
   "cell_type": "code",
   "execution_count": 72,
   "id": "f964c3d7",
   "metadata": {},
   "outputs": [],
   "source": [
    "ori_des_df = ori_des_df[ori_des_df['Origin'].isin(E_il_index)]\n",
    "ori_des_df = ori_des_df[ori_des_df['Destination'].isin(E_il_index)]"
   ]
  },
  {
   "cell_type": "code",
   "execution_count": 73,
   "id": "16e0f2c7",
   "metadata": {},
   "outputs": [
    {
     "data": {
      "text/plain": [
       "(3601184, 13)"
      ]
     },
     "execution_count": 73,
     "metadata": {},
     "output_type": "execute_result"
    }
   ],
   "source": [
    "ori_des_df.shape"
   ]
  },
  {
   "cell_type": "markdown",
   "id": "2ad9fc6b",
   "metadata": {},
   "source": [
    "# Computing-Weight-Matrix"
   ]
  },
  {
   "cell_type": "markdown",
   "id": "c06d23b6",
   "metadata": {},
   "source": [
    "### Average Matrix Epsilon"
   ]
  },
  {
   "cell_type": "code",
   "execution_count": 77,
   "id": "09df4adb",
   "metadata": {},
   "outputs": [],
   "source": [
    "def avg_mt_epsilon(Count):\n",
    "    \n",
    "    '''\n",
    "    Calculating average mobility matrix for each day (1–30).\n",
    "    This returns a dictionay of Daily Matrix\n",
    "    '''\n",
    "    \n",
    "    Matrix_dict = {}\n",
    "\n",
    "    for i in range(30):\n",
    "        n = i + 1\n",
    "        df = ori_des_df[ori_des_df['day'] == n]\n",
    "        \n",
    "        county_group = df.groupby(['Origin', 'Destination'])[Count].sum().reset_index()\n",
    "\n",
    "        count_Matrix = county_group.pivot_table(index='Origin', \n",
    "                                                columns='Destination', \n",
    "                                                values= Count, \n",
    "                                                fill_value=0)\n",
    "        \n",
    "        #This is a new line of code added by ChatGTP: sort index in accending order\n",
    "        count_Matrix = count_Matrix.sort_index().sort_index(axis=1)\n",
    "\n",
    "        origin_list = count_Matrix.index.tolist()\n",
    "        destination_list = count_Matrix.columns.tolist()\n",
    "        #This is just to ensure if the row index and column index are in the same orde\n",
    "        #As well as to ensure they also equals to the initial SEIR condition county order\n",
    "        #If nothing goes wrong the loop will not print anything\n",
    "\n",
    "        if origin_list != destination_list:\n",
    "            print(f'Day {n}: origin list ≠ destination list')\n",
    "\n",
    "        if origin_list != E_il_index:\n",
    "            print(f'Day {n}: origin list ≠ SEIR initial condition list')\n",
    "\n",
    "        Matrix = count_Matrix.reset_index(drop=True)\n",
    "        Matrix_dict[n] = Matrix\n",
    "\n",
    "    return Matrix_dict"
   ]
  },
  {
   "cell_type": "markdown",
   "id": "f3fdf5a7",
   "metadata": {},
   "source": [
    "### Daily Average Matrix"
   ]
  },
  {
   "cell_type": "code",
   "execution_count": 78,
   "id": "953e70bf",
   "metadata": {},
   "outputs": [],
   "source": [
    "def daily_avg_wtmt(Matrix_dict):\n",
    "    \n",
    "    '''\n",
    "    This function compute the daily average mobility matrix\n",
    "    '''\n",
    "    total_visit = Matrix_dict[1].copy()\n",
    "    mt_length = len(total_visit.columns)\n",
    "    \n",
    "    for i in range(1, 30):\n",
    "        n = i + 1 #n therefore starts from 2\n",
    "        #print(n)\n",
    "        \n",
    "        if n % 10 == 0:\n",
    "            print(n)\n",
    "            \n",
    "        total_visit += Matrix_dict[n]\n",
    "        \n",
    "    daily_avg_visit = total_visit/30\n",
    "    \n",
    "    divisor = [daily_avg_visit.iloc[i].sum() for i in range(mt_length)]\n",
    "    average_wt_mt = daily_avg_visit.div(divisor, axis=0)\n",
    "    \n",
    "    return average_wt_mt"
   ]
  },
  {
   "cell_type": "markdown",
   "id": "fe4edbfd",
   "metadata": {},
   "source": [
    "# Saving the Weight Matrix"
   ]
  },
  {
   "cell_type": "code",
   "execution_count": 124,
   "id": "7fba0995",
   "metadata": {},
   "outputs": [
    {
     "data": {
      "text/html": [
       "<div>\n",
       "<style scoped>\n",
       "    .dataframe tbody tr th:only-of-type {\n",
       "        vertical-align: middle;\n",
       "    }\n",
       "\n",
       "    .dataframe tbody tr th {\n",
       "        vertical-align: top;\n",
       "    }\n",
       "\n",
       "    .dataframe thead th {\n",
       "        text-align: right;\n",
       "    }\n",
       "</style>\n",
       "<table border=\"1\" class=\"dataframe\">\n",
       "  <thead>\n",
       "    <tr style=\"text-align: right;\">\n",
       "      <th>Destination</th>\n",
       "      <th>17001</th>\n",
       "      <th>17005</th>\n",
       "      <th>17007</th>\n",
       "      <th>17011</th>\n",
       "      <th>17015</th>\n",
       "      <th>17017</th>\n",
       "      <th>17019</th>\n",
       "      <th>17021</th>\n",
       "      <th>17023</th>\n",
       "      <th>17025</th>\n",
       "      <th>...</th>\n",
       "      <th>17185</th>\n",
       "      <th>17187</th>\n",
       "      <th>17189</th>\n",
       "      <th>17191</th>\n",
       "      <th>17193</th>\n",
       "      <th>17195</th>\n",
       "      <th>17197</th>\n",
       "      <th>17199</th>\n",
       "      <th>17201</th>\n",
       "      <th>17203</th>\n",
       "    </tr>\n",
       "  </thead>\n",
       "  <tbody>\n",
       "    <tr>\n",
       "      <th>0</th>\n",
       "      <td>21002</td>\n",
       "      <td>0</td>\n",
       "      <td>0</td>\n",
       "      <td>0</td>\n",
       "      <td>0</td>\n",
       "      <td>0</td>\n",
       "      <td>0</td>\n",
       "      <td>0</td>\n",
       "      <td>30</td>\n",
       "      <td>0</td>\n",
       "      <td>...</td>\n",
       "      <td>0</td>\n",
       "      <td>0</td>\n",
       "      <td>0</td>\n",
       "      <td>0</td>\n",
       "      <td>0</td>\n",
       "      <td>0</td>\n",
       "      <td>224</td>\n",
       "      <td>31</td>\n",
       "      <td>23</td>\n",
       "      <td>0</td>\n",
       "    </tr>\n",
       "    <tr>\n",
       "      <th>1</th>\n",
       "      <td>0</td>\n",
       "      <td>2650</td>\n",
       "      <td>0</td>\n",
       "      <td>0</td>\n",
       "      <td>0</td>\n",
       "      <td>159</td>\n",
       "      <td>602</td>\n",
       "      <td>0</td>\n",
       "      <td>0</td>\n",
       "      <td>0</td>\n",
       "      <td>...</td>\n",
       "      <td>0</td>\n",
       "      <td>14</td>\n",
       "      <td>16</td>\n",
       "      <td>278</td>\n",
       "      <td>0</td>\n",
       "      <td>0</td>\n",
       "      <td>0</td>\n",
       "      <td>151</td>\n",
       "      <td>0</td>\n",
       "      <td>0</td>\n",
       "    </tr>\n",
       "    <tr>\n",
       "      <th>2</th>\n",
       "      <td>0</td>\n",
       "      <td>0</td>\n",
       "      <td>4959</td>\n",
       "      <td>0</td>\n",
       "      <td>0</td>\n",
       "      <td>0</td>\n",
       "      <td>0</td>\n",
       "      <td>0</td>\n",
       "      <td>0</td>\n",
       "      <td>0</td>\n",
       "      <td>...</td>\n",
       "      <td>0</td>\n",
       "      <td>0</td>\n",
       "      <td>0</td>\n",
       "      <td>0</td>\n",
       "      <td>0</td>\n",
       "      <td>10</td>\n",
       "      <td>0</td>\n",
       "      <td>0</td>\n",
       "      <td>1317</td>\n",
       "      <td>0</td>\n",
       "    </tr>\n",
       "  </tbody>\n",
       "</table>\n",
       "<p>3 rows × 86 columns</p>\n",
       "</div>"
      ],
      "text/plain": [
       "Destination  17001  17005  17007  17011  17015  17017  17019  17021  17023  \\\n",
       "0            21002      0      0      0      0      0      0      0     30   \n",
       "1                0   2650      0      0      0    159    602      0      0   \n",
       "2                0      0   4959      0      0      0      0      0      0   \n",
       "\n",
       "Destination  17025  ...  17185  17187  17189  17191  17193  17195  17197  \\\n",
       "0                0  ...      0      0      0      0      0      0    224   \n",
       "1                0  ...      0     14     16    278      0      0      0   \n",
       "2                0  ...      0      0      0      0      0     10      0   \n",
       "\n",
       "Destination  17199  17201  17203  \n",
       "0               31     23      0  \n",
       "1              151      0      0  \n",
       "2                0   1317      0  \n",
       "\n",
       "[3 rows x 86 columns]"
      ]
     },
     "execution_count": 124,
     "metadata": {},
     "output_type": "execute_result"
    }
   ],
   "source": [
    "Matrix_dict = avg_mt_epsilon('Count_P01')\n",
    "Matrix_dict[1].head(3)"
   ]
  },
  {
   "cell_type": "code",
   "execution_count": 125,
   "id": "0f4d2935",
   "metadata": {},
   "outputs": [
    {
     "name": "stdout",
     "output_type": "stream",
     "text": [
      "10\n",
      "20\n",
      "30\n"
     ]
    },
    {
     "data": {
      "text/html": [
       "<div>\n",
       "<style scoped>\n",
       "    .dataframe tbody tr th:only-of-type {\n",
       "        vertical-align: middle;\n",
       "    }\n",
       "\n",
       "    .dataframe tbody tr th {\n",
       "        vertical-align: top;\n",
       "    }\n",
       "\n",
       "    .dataframe thead th {\n",
       "        text-align: right;\n",
       "    }\n",
       "</style>\n",
       "<table border=\"1\" class=\"dataframe\">\n",
       "  <thead>\n",
       "    <tr style=\"text-align: right;\">\n",
       "      <th>Destination</th>\n",
       "      <th>17001</th>\n",
       "      <th>17005</th>\n",
       "      <th>17007</th>\n",
       "      <th>17011</th>\n",
       "      <th>17015</th>\n",
       "      <th>17017</th>\n",
       "      <th>17019</th>\n",
       "      <th>17021</th>\n",
       "      <th>17023</th>\n",
       "      <th>17025</th>\n",
       "      <th>...</th>\n",
       "      <th>17185</th>\n",
       "      <th>17187</th>\n",
       "      <th>17189</th>\n",
       "      <th>17191</th>\n",
       "      <th>17193</th>\n",
       "      <th>17195</th>\n",
       "      <th>17197</th>\n",
       "      <th>17199</th>\n",
       "      <th>17201</th>\n",
       "      <th>17203</th>\n",
       "    </tr>\n",
       "  </thead>\n",
       "  <tbody>\n",
       "    <tr>\n",
       "      <th>0</th>\n",
       "      <td>0.816621</td>\n",
       "      <td>0.000112</td>\n",
       "      <td>0.000335</td>\n",
       "      <td>0.000150</td>\n",
       "      <td>0.000000</td>\n",
       "      <td>0.000236</td>\n",
       "      <td>0.000363</td>\n",
       "      <td>0.000000</td>\n",
       "      <td>0.000620</td>\n",
       "      <td>0.000974</td>\n",
       "      <td>...</td>\n",
       "      <td>0.000265</td>\n",
       "      <td>0.000160</td>\n",
       "      <td>0.000065</td>\n",
       "      <td>0.000000</td>\n",
       "      <td>0.0</td>\n",
       "      <td>0.000707</td>\n",
       "      <td>0.008662</td>\n",
       "      <td>0.002205</td>\n",
       "      <td>0.006261</td>\n",
       "      <td>0.000000</td>\n",
       "    </tr>\n",
       "    <tr>\n",
       "      <th>1</th>\n",
       "      <td>0.000320</td>\n",
       "      <td>0.229580</td>\n",
       "      <td>0.000000</td>\n",
       "      <td>0.000000</td>\n",
       "      <td>0.000000</td>\n",
       "      <td>0.000742</td>\n",
       "      <td>0.041888</td>\n",
       "      <td>0.012379</td>\n",
       "      <td>0.000753</td>\n",
       "      <td>0.001620</td>\n",
       "      <td>...</td>\n",
       "      <td>0.000000</td>\n",
       "      <td>0.000231</td>\n",
       "      <td>0.000422</td>\n",
       "      <td>0.004592</td>\n",
       "      <td>0.0</td>\n",
       "      <td>0.005499</td>\n",
       "      <td>0.011997</td>\n",
       "      <td>0.019377</td>\n",
       "      <td>0.000882</td>\n",
       "      <td>0.000793</td>\n",
       "    </tr>\n",
       "    <tr>\n",
       "      <th>2</th>\n",
       "      <td>0.000000</td>\n",
       "      <td>0.000000</td>\n",
       "      <td>0.313272</td>\n",
       "      <td>0.000037</td>\n",
       "      <td>0.000517</td>\n",
       "      <td>0.000000</td>\n",
       "      <td>0.001514</td>\n",
       "      <td>0.000000</td>\n",
       "      <td>0.000000</td>\n",
       "      <td>0.000000</td>\n",
       "      <td>...</td>\n",
       "      <td>0.000000</td>\n",
       "      <td>0.003326</td>\n",
       "      <td>0.000000</td>\n",
       "      <td>0.000000</td>\n",
       "      <td>0.0</td>\n",
       "      <td>0.005706</td>\n",
       "      <td>0.018471</td>\n",
       "      <td>0.000000</td>\n",
       "      <td>0.182612</td>\n",
       "      <td>0.000000</td>\n",
       "    </tr>\n",
       "  </tbody>\n",
       "</table>\n",
       "<p>3 rows × 86 columns</p>\n",
       "</div>"
      ],
      "text/plain": [
       "Destination     17001     17005     17007     17011     17015     17017  \\\n",
       "0            0.816621  0.000112  0.000335  0.000150  0.000000  0.000236   \n",
       "1            0.000320  0.229580  0.000000  0.000000  0.000000  0.000742   \n",
       "2            0.000000  0.000000  0.313272  0.000037  0.000517  0.000000   \n",
       "\n",
       "Destination     17019     17021     17023     17025  ...     17185     17187  \\\n",
       "0            0.000363  0.000000  0.000620  0.000974  ...  0.000265  0.000160   \n",
       "1            0.041888  0.012379  0.000753  0.001620  ...  0.000000  0.000231   \n",
       "2            0.001514  0.000000  0.000000  0.000000  ...  0.000000  0.003326   \n",
       "\n",
       "Destination     17189     17191  17193     17195     17197     17199  \\\n",
       "0            0.000065  0.000000    0.0  0.000707  0.008662  0.002205   \n",
       "1            0.000422  0.004592    0.0  0.005499  0.011997  0.019377   \n",
       "2            0.000000  0.000000    0.0  0.005706  0.018471  0.000000   \n",
       "\n",
       "Destination     17201     17203  \n",
       "0            0.006261  0.000000  \n",
       "1            0.000882  0.000793  \n",
       "2            0.182612  0.000000  \n",
       "\n",
       "[3 rows x 86 columns]"
      ]
     },
     "execution_count": 125,
     "metadata": {},
     "output_type": "execute_result"
    }
   ],
   "source": [
    "daily_avg = daily_avg_wtmt(Matrix_dict)\n",
    "daily_avg.head(3)"
   ]
  },
  {
   "cell_type": "code",
   "execution_count": 126,
   "id": "bfbff2ef",
   "metadata": {},
   "outputs": [
    {
     "name": "stdout",
     "output_type": "stream",
     "text": [
      "Mean: 0.3834043424204318\n",
      "Median: 0.36356179699002145\n",
      "Min: 0.06465511613636067\n",
      "Max: 0.8884514614608756\n"
     ]
    }
   ],
   "source": [
    "# Calculations\n",
    "import statistics\n",
    "\n",
    "average_wt_mt_np = daily_avg.to_numpy()\n",
    "Pii_skmob = [average_wt_mt_np[i][i] for i in range(86)]\n",
    "\n",
    "\n",
    "data = Pii_skmob \n",
    "mean_value = sum(data) / len(data)  # Mean\n",
    "median_value = statistics.median(data)  # Median\n",
    "min_value = min(data)  # Min\n",
    "max_value = max(data)  # Max\n",
    "\n",
    "# Output\n",
    "print(f\"Mean: {mean_value}\")\n",
    "print(f\"Median: {median_value}\")\n",
    "print(f\"Min: {min_value}\")\n",
    "print(f\"Max: {max_value}\")"
   ]
  },
  {
   "cell_type": "code",
   "execution_count": 122,
   "id": "e4a8efb3",
   "metadata": {},
   "outputs": [],
   "source": [
    "daily_avg.to_csv(\"AZ_P01_indi.csv\")"
   ]
  },
  {
   "cell_type": "markdown",
   "id": "b9a6c00a",
   "metadata": {},
   "source": [
    "# Compares it to the Original"
   ]
  },
  {
   "cell_type": "code",
   "execution_count": 123,
   "id": "fec8dc6c",
   "metadata": {},
   "outputs": [
    {
     "data": {
      "image/png": "[encoded data removed]",
      "text/plain": [
       "<Figure size 640x480 with 1 Axes>"
      ]
     },
     "metadata": {},
     "output_type": "display_data"
    }
   ],
   "source": [
    "import numpy as np\n",
    "import seaborn as sns\n",
    "import matplotlib.pyplot as plt\n",
    "\n",
    "# Create KDE plot\n",
    "sns.kdeplot(Pii_ori, label=\"Real Matrix\", fill=True)\n",
    "sns.kdeplot(Pii_skmob, label=\"Skmob Generated Matrix\", fill=True)\n",
    "\n",
    "# Labels and legend\n",
    "plt.xlabel(\"Value\")\n",
    "plt.ylabel(\"Density\")\n",
    "plt.title(\"Density Distribution of Pii\")\n",
    "plt.legend()\n",
    "\n",
    "#Lables and legend\n",
    "#plt.savefig(\"Pii_Comparison.png\", dpi=300, bbox_inches='tight')\n",
    "\n",
    "# Show plot\n",
    "plt.show()\n"
   ]
  },
  {
   "cell_type": "code",
   "execution_count": null,
   "id": "a060f87c",
   "metadata": {},
   "outputs": [],
   "source": []
  }
 ],
 "metadata": {
  "kernelspec": {
   "display_name": "Python 3 (ipykernel)",
   "language": "python",
   "name": "python3"
  },
  "language_info": {
   "codemirror_mode": {
    "name": "ipython",
    "version": 3
   },
   "file_extension": ".py",
   "mimetype": "text/x-python",
   "name": "python",
   "nbconvert_exporter": "python",
   "pygments_lexer": "ipython3",
   "version": "3.11.5"
  }
 },
 "nbformat": 4,
 "nbformat_minor": 5
}
