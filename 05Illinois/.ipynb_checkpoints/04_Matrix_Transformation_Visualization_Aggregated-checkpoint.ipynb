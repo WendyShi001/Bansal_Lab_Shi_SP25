{
 "cells": [
  {
   "cell_type": "markdown",
   "id": "795b34f9",
   "metadata": {},
   "source": [
    "<h1><center> Arrival Time Visualization <br><br> \n",
    "<center> Differential Privacy Application<br><br> \n",
    "Wendy Shi</center></center>"
   ]
  },
  {
   "cell_type": "markdown",
   "id": "ef62e039",
   "metadata": {},
   "source": [
    "# TOC\n",
    "\n",
    "- [Pii](#P_ii)\n",
    "- [Pij](#Pij-visualization,-box-plot)\n",
    "- [Number of links being zeros](#Count-the-total-number-of-zeros)"
   ]
  },
  {
   "cell_type": "markdown",
   "id": "bb3c630d",
   "metadata": {},
   "source": [
    "# Preparation"
   ]
  },
  {
   "cell_type": "code",
   "execution_count": 1,
   "id": "e5833d69",
   "metadata": {},
   "outputs": [],
   "source": [
    "#Preparation\n",
    "import pandas as pd\n",
    "import numpy as np\n",
    "import matplotlib.pyplot as plt\n",
    "from scipy.integrate import odeint\n",
    "from scipy.interpolate import interp1d\n",
    "import scipy.stats as stats\n",
    "import statistics"
   ]
  },
  {
   "cell_type": "markdown",
   "id": "166f9981",
   "metadata": {},
   "source": [
    "# Original weight matrix"
   ]
  },
  {
   "cell_type": "code",
   "execution_count": 4,
   "id": "a957176e",
   "metadata": {},
   "outputs": [],
   "source": [
    "Ori_mt = pd.read_csv(\"IL_Data/Aggregate/IL_ori_agg.csv\")\n",
    "Ori_mt = Ori_mt.drop(columns = 'Unnamed: 0')\n",
    "\n",
    "P5_mt = pd.read_csv(\"IL_Data/Aggregate/IL_P5_agg.csv\")\n",
    "P5_mt = P5_mt.drop(columns = 'Unnamed: 0')\n",
    "\n",
    "P1_mt = pd.read_csv(\"IL_Data/Aggregate/IL_P1_agg.csv\")\n",
    "P1_mt = P1_mt.drop(columns = 'Unnamed: 0')\n",
    "\n",
    "P05_mt = pd.read_csv(\"IL_Data/Aggregate/IL_P05_agg.csv\")\n",
    "P05_mt = P05_mt.drop(columns = 'Unnamed: 0')\n",
    "\n",
    "P01_mt = pd.read_csv(\"IL_Data/Aggregate/IL_P01_agg.csv\")\n",
    "P01_mt = P01_mt.drop(columns = 'Unnamed: 0')\n",
    "\n",
    "P005_mt = pd.read_csv(\"IL_Data/Aggregate/IL_P005_agg.csv\")\n",
    "P005_mt = P005_mt.drop(columns = 'Unnamed: 0')"
   ]
  },
  {
   "cell_type": "code",
   "execution_count": 5,
   "id": "4d249898",
   "metadata": {},
   "outputs": [
    {
     "data": {
      "text/html": [
       "<div>\n",
       "<style scoped>\n",
       "    .dataframe tbody tr th:only-of-type {\n",
       "        vertical-align: middle;\n",
       "    }\n",
       "\n",
       "    .dataframe tbody tr th {\n",
       "        vertical-align: top;\n",
       "    }\n",
       "\n",
       "    .dataframe thead th {\n",
       "        text-align: right;\n",
       "    }\n",
       "</style>\n",
       "<table border=\"1\" class=\"dataframe\">\n",
       "  <thead>\n",
       "    <tr style=\"text-align: right;\">\n",
       "      <th></th>\n",
       "      <th>17001</th>\n",
       "      <th>17005</th>\n",
       "      <th>17007</th>\n",
       "      <th>17011</th>\n",
       "      <th>17015</th>\n",
       "      <th>17017</th>\n",
       "      <th>17019</th>\n",
       "      <th>17021</th>\n",
       "      <th>17023</th>\n",
       "      <th>17025</th>\n",
       "      <th>...</th>\n",
       "      <th>17185</th>\n",
       "      <th>17187</th>\n",
       "      <th>17189</th>\n",
       "      <th>17191</th>\n",
       "      <th>17193</th>\n",
       "      <th>17195</th>\n",
       "      <th>17197</th>\n",
       "      <th>17199</th>\n",
       "      <th>17201</th>\n",
       "      <th>17203</th>\n",
       "    </tr>\n",
       "  </thead>\n",
       "  <tbody>\n",
       "    <tr>\n",
       "      <th>0</th>\n",
       "      <td>0.601417</td>\n",
       "      <td>0.000000</td>\n",
       "      <td>0.000000</td>\n",
       "      <td>0.004102</td>\n",
       "      <td>0.000000</td>\n",
       "      <td>0.004134</td>\n",
       "      <td>0.005038</td>\n",
       "      <td>0.003736</td>\n",
       "      <td>0.0</td>\n",
       "      <td>0.002433</td>\n",
       "      <td>...</td>\n",
       "      <td>0.0</td>\n",
       "      <td>0.000000</td>\n",
       "      <td>0.000000</td>\n",
       "      <td>0.002778</td>\n",
       "      <td>0.000000</td>\n",
       "      <td>0.003251</td>\n",
       "      <td>0.002648</td>\n",
       "      <td>0.005243</td>\n",
       "      <td>0.010044</td>\n",
       "      <td>0.005544</td>\n",
       "    </tr>\n",
       "    <tr>\n",
       "      <th>1</th>\n",
       "      <td>0.000000</td>\n",
       "      <td>0.251498</td>\n",
       "      <td>0.001117</td>\n",
       "      <td>0.006652</td>\n",
       "      <td>0.000000</td>\n",
       "      <td>0.010663</td>\n",
       "      <td>0.028029</td>\n",
       "      <td>0.000000</td>\n",
       "      <td>0.0</td>\n",
       "      <td>0.003910</td>\n",
       "      <td>...</td>\n",
       "      <td>0.0</td>\n",
       "      <td>0.001980</td>\n",
       "      <td>0.002539</td>\n",
       "      <td>0.000305</td>\n",
       "      <td>0.004113</td>\n",
       "      <td>0.000000</td>\n",
       "      <td>0.018229</td>\n",
       "      <td>0.020920</td>\n",
       "      <td>0.000000</td>\n",
       "      <td>0.002945</td>\n",
       "    </tr>\n",
       "    <tr>\n",
       "      <th>2</th>\n",
       "      <td>0.000220</td>\n",
       "      <td>0.027279</td>\n",
       "      <td>0.288842</td>\n",
       "      <td>0.000000</td>\n",
       "      <td>0.008914</td>\n",
       "      <td>0.000000</td>\n",
       "      <td>0.010113</td>\n",
       "      <td>0.000000</td>\n",
       "      <td>0.0</td>\n",
       "      <td>0.024565</td>\n",
       "      <td>...</td>\n",
       "      <td>0.0</td>\n",
       "      <td>0.001956</td>\n",
       "      <td>0.000083</td>\n",
       "      <td>0.000000</td>\n",
       "      <td>0.008170</td>\n",
       "      <td>0.000000</td>\n",
       "      <td>0.000000</td>\n",
       "      <td>0.000000</td>\n",
       "      <td>0.116212</td>\n",
       "      <td>0.000000</td>\n",
       "    </tr>\n",
       "  </tbody>\n",
       "</table>\n",
       "<p>3 rows × 86 columns</p>\n",
       "</div>"
      ],
      "text/plain": [
       "      17001     17005     17007     17011     17015     17017     17019  \\\n",
       "0  0.601417  0.000000  0.000000  0.004102  0.000000  0.004134  0.005038   \n",
       "1  0.000000  0.251498  0.001117  0.006652  0.000000  0.010663  0.028029   \n",
       "2  0.000220  0.027279  0.288842  0.000000  0.008914  0.000000  0.010113   \n",
       "\n",
       "      17021  17023     17025  ...  17185     17187     17189     17191  \\\n",
       "0  0.003736    0.0  0.002433  ...    0.0  0.000000  0.000000  0.002778   \n",
       "1  0.000000    0.0  0.003910  ...    0.0  0.001980  0.002539  0.000305   \n",
       "2  0.000000    0.0  0.024565  ...    0.0  0.001956  0.000083  0.000000   \n",
       "\n",
       "      17193     17195     17197     17199     17201     17203  \n",
       "0  0.000000  0.003251  0.002648  0.005243  0.010044  0.005544  \n",
       "1  0.004113  0.000000  0.018229  0.020920  0.000000  0.002945  \n",
       "2  0.008170  0.000000  0.000000  0.000000  0.116212  0.000000  \n",
       "\n",
       "[3 rows x 86 columns]"
      ]
     },
     "execution_count": 5,
     "metadata": {},
     "output_type": "execute_result"
    }
   ],
   "source": [
    "P01_mt.head(3)"
   ]
  },
  {
   "cell_type": "code",
   "execution_count": 7,
   "id": "dd8736c9",
   "metadata": {},
   "outputs": [],
   "source": [
    "Original_np = Ori_mt.to_numpy()\n",
    "P5_np = P5_mt.to_numpy()\n",
    "P1_np = P1_mt.to_numpy()\n",
    "P05_np = P05_mt.to_numpy()\n",
    "P01_np = P01_mt.to_numpy()\n",
    "P005_np = P005_mt.to_numpy()"
   ]
  },
  {
   "cell_type": "markdown",
   "id": "89e45559",
   "metadata": {},
   "source": [
    "# P_ii"
   ]
  },
  {
   "cell_type": "code",
   "execution_count": 9,
   "id": "558bc8e9",
   "metadata": {},
   "outputs": [],
   "source": [
    "ori_list = [Original_np[i][i] for i in range(86)]\n",
    "P5_list = [P5_np[i][i] for i in range(86)]\n",
    "P1_list = [P1_np[i][i] for i in range(86)]\n",
    "P05_list = [P05_np[i][i] for i in range(86)]\n",
    "P01_list = [P01_np[i][i] for i in range(86)]\n",
    "P005_list = [P005_np[i][i] for i in range(86)]"
   ]
  },
  {
   "cell_type": "code",
   "execution_count": 53,
   "id": "4871673f",
   "metadata": {},
   "outputs": [
    {
     "data": {
      "image/png": "[encoded data removed]",
      "text/plain": [
       "<Figure size 800x600 with 1 Axes>"
      ]
     },
     "metadata": {},
     "output_type": "display_data"
    }
   ],
   "source": [
    "import seaborn as sns\n",
    "import matplotlib.pyplot as plt\n",
    "\n",
    "# Combining data into a list of lists\n",
    "data = [ori_list, P5_list, P1_list, P05_list, P01_list, P005_list]\n",
    "\n",
    "color = sns.color_palette(\"Spectral\", n_colors=6)\n",
    "\n",
    "# Plotting with Seaborn\n",
    "plt.figure(figsize=(8, 6))\n",
    "sns.boxplot(data=data, palette=color, saturation=0.7, showfliers=False)\n",
    "\n",
    "# Adding labels and title\n",
    "plt.xticks([0, 1, 2, 3, 4, 5], ['Original', '0.5', '0.1', '0.05', '0.01','0.005'])\n",
    "plt.title(\"Pii for all county in Illinois (CDP)\")\n",
    "plt.ylabel(\"Pii\")\n",
    "plt.xlabel(\"Epsilon\")\n",
    "\n",
    "# Save plot\n",
    "plt.savefig(\"Pii_staying_agg_IL.png\", dpi=300, bbox_inches='tight')\n",
    "\n",
    "# Display the plot\n",
    "plt.show()\n"
   ]
  },
  {
   "cell_type": "code",
   "execution_count": 14,
   "id": "15aa7a35",
   "metadata": {},
   "outputs": [
    {
     "data": {
      "image/png": "[encoded data removed]",
      "text/plain": [
       "<Figure size 1000x600 with 1 Axes>"
      ]
     },
     "metadata": {},
     "output_type": "display_data"
    }
   ],
   "source": [
    "import seaborn as sns\n",
    "import matplotlib.pyplot as plt\n",
    "\n",
    "# Combining data into a list of lists\n",
    "#data = [ori_list, P5_list, P1_list, P05_list, P01_list, P005_list, P001_list]\n",
    "data = [ori_list, P5_list, P1_list, P05_list, P01_list]\n",
    "labels = ['Original', '0.5', '0.1', '0.05', '0.01']\n",
    "\n",
    "# Generate a color palette\n",
    "color = sns.color_palette(\"Spectral\", n_colors=5)\n",
    "\n",
    "# Plotting with Seaborn\n",
    "plt.figure(figsize=(10, 6))\n",
    "\n",
    "# Loop through datasets to plot their density\n",
    "for i, dataset in enumerate(data):\n",
    "    sns.kdeplot(dataset, label=labels[i], color=color[i], fill=True, alpha=0.5)\n",
    "\n",
    "# Adding labels and title\n",
    "plt.title(\"Density Plot for P_ii for all county in Washington State\", fontsize=16)\n",
    "plt.xlabel(\"P_ii\", fontsize=12)\n",
    "plt.ylabel(\"Density\", fontsize=12)\n",
    "\n",
    "# Adding a legend\n",
    "plt.legend(title=\"Epsilon\", fontsize=10, title_fontsize=12)\n",
    "\n",
    "# Save plot (optional)\n",
    "#plt.savefig(\"Pii_Density_Plot_all_agg.png\", dpi=300, bbox_inches='tight')\n",
    "\n",
    "# Display the plot\n",
    "plt.show()"
   ]
  },
  {
   "cell_type": "markdown",
   "id": "1e309989",
   "metadata": {},
   "source": [
    "# Pij visualization, box plot"
   ]
  },
  {
   "cell_type": "code",
   "execution_count": 15,
   "id": "04a1f87e",
   "metadata": {},
   "outputs": [],
   "source": [
    "import math"
   ]
  },
  {
   "cell_type": "code",
   "execution_count": 18,
   "id": "24055a14",
   "metadata": {},
   "outputs": [],
   "source": [
    "def outflow_wt(matrix):\n",
    "    \n",
    "    '''\n",
    "    This function defines mean out flow rate by county\n",
    "    '''\n",
    "    \n",
    "    P_ij_list = []\n",
    "    \n",
    "    for i in range(86):\n",
    "        #all outflow weight list every county\n",
    "        working_list = []\n",
    "        for j in range(86):\n",
    "            if i != j:\n",
    "                working_list.append(matrix[i][j])\n",
    "                \n",
    "        average =np.mean(working_list)        \n",
    "        P_ij_list.append(average)\n",
    "        \n",
    "    return(P_ij_list)"
   ]
  },
  {
   "cell_type": "code",
   "execution_count": 19,
   "id": "8c8a94e7",
   "metadata": {},
   "outputs": [],
   "source": [
    "def outflow_wt_all(matrix):\n",
    "    \n",
    "    '''\n",
    "    \n",
    "    This function defines all outflow rate\n",
    "    \n",
    "    '''\n",
    "    \n",
    "    P_ij = []\n",
    "    \n",
    "    for i in range(86):\n",
    "        for j in range(86):\n",
    "            if i != j:\n",
    "                P_ij.append(matrix[i][j])\n",
    "                \n",
    "    return(P_ij)"
   ]
  },
  {
   "cell_type": "code",
   "execution_count": 20,
   "id": "13e06f7d",
   "metadata": {},
   "outputs": [],
   "source": [
    "def out_stat(data):\n",
    "    \n",
    "    series = pd.Series(data)\n",
    "    \n",
    "    #This print summary statistics\n",
    "    minimum = series.min()\n",
    "    point25 = series.quantile(0.25)\n",
    "    median = series.median()\n",
    "    point75 = series.quantile(0.75)\n",
    "    maximum = series.max()\n",
    "     \n",
    "    #This print the summary statistcis    \n",
    "    out_list = [minimum, point25, median, point75, maximum]\n",
    "    print(out_list)\n",
    "    \n",
    "    #This only takes the first 75% of the data\n",
    "    plotting_data = [i for i in data if i < point75]\n",
    "    \n",
    "    return(plotting_data)"
   ]
  },
  {
   "cell_type": "code",
   "execution_count": 21,
   "id": "f6fe1fc2",
   "metadata": {},
   "outputs": [],
   "source": [
    "import math"
   ]
  },
  {
   "cell_type": "code",
   "execution_count": 22,
   "id": "f27eec58",
   "metadata": {
    "scrolled": true
   },
   "outputs": [
    {
     "name": "stdout",
     "output_type": "stream",
     "text": [
      "7310\n"
     ]
    }
   ],
   "source": [
    "out_ori = outflow_wt_all(Original_np)\n",
    "print(len(out_ori))\n",
    "#ori_75 = out_stat(out_ori)"
   ]
  },
  {
   "cell_type": "code",
   "execution_count": 23,
   "id": "0727ef4c",
   "metadata": {},
   "outputs": [
    {
     "name": "stdout",
     "output_type": "stream",
     "text": [
      "5273\n"
     ]
    }
   ],
   "source": [
    "log_ori = [math.log(x) for x in out_ori if x != 0]\n",
    "print(len(log_ori))"
   ]
  },
  {
   "cell_type": "code",
   "execution_count": 24,
   "id": "3afa592c",
   "metadata": {},
   "outputs": [
    {
     "name": "stdout",
     "output_type": "stream",
     "text": [
      "5653\n"
     ]
    }
   ],
   "source": [
    "out_P5 = outflow_wt_all(P5_np)\n",
    "log_P5 = [math.log(x) for x in out_P5 if x != 0]\n",
    "print(len(log_P5))"
   ]
  },
  {
   "cell_type": "code",
   "execution_count": 25,
   "id": "7ad75874",
   "metadata": {},
   "outputs": [
    {
     "name": "stdout",
     "output_type": "stream",
     "text": [
      "5230\n"
     ]
    }
   ],
   "source": [
    "out_P1 = outflow_wt_all(P1_np)\n",
    "log_P1 = [math.log(x) for x in out_P1 if x != 0]\n",
    "print(len(log_P1))"
   ]
  },
  {
   "cell_type": "code",
   "execution_count": 26,
   "id": "afb38c6b",
   "metadata": {},
   "outputs": [
    {
     "name": "stdout",
     "output_type": "stream",
     "text": [
      "4904\n"
     ]
    }
   ],
   "source": [
    "out_P05 = outflow_wt_all(P05_np)\n",
    "log_P05 = [math.log(x) for x in out_P05 if x != 0]\n",
    "print(len(log_P05))"
   ]
  },
  {
   "cell_type": "code",
   "execution_count": 27,
   "id": "2d1cc780",
   "metadata": {},
   "outputs": [
    {
     "name": "stdout",
     "output_type": "stream",
     "text": [
      "4313\n"
     ]
    }
   ],
   "source": [
    "out_P01 = outflow_wt_all(P01_np)\n",
    "log_P01 = [math.log(x) for x in out_P01 if x != 0]\n",
    "print(len(log_P01))"
   ]
  },
  {
   "cell_type": "code",
   "execution_count": 28,
   "id": "c8d2589f",
   "metadata": {},
   "outputs": [
    {
     "name": "stdout",
     "output_type": "stream",
     "text": [
      "4158\n"
     ]
    }
   ],
   "source": [
    "out_P005 = outflow_wt_all(P005_np)\n",
    "log_P005 = [math.log(x) for x in out_P005 if x != 0]\n",
    "print(len(log_P005))"
   ]
  },
  {
   "cell_type": "code",
   "execution_count": 30,
   "id": "58e476da",
   "metadata": {},
   "outputs": [],
   "source": [
    "#out_P001 = outflow_wt_all(P001_np)\n",
    "#log_P001 = [math.log(x) for x in out_P001 if x != 0]\n",
    "#print(len(log_P001))"
   ]
  },
  {
   "cell_type": "code",
   "execution_count": 52,
   "id": "1788c34e",
   "metadata": {},
   "outputs": [
    {
     "data": {
      "image/png": "[encoded data removed]",
      "text/plain": [
       "<Figure size 800x600 with 1 Axes>"
      ]
     },
     "metadata": {},
     "output_type": "display_data"
    }
   ],
   "source": [
    "import seaborn as sns\n",
    "import matplotlib.pyplot as plt\n",
    "\n",
    "# Combining data into a list of lists\n",
    "data = [log_ori, log_P5, log_P1, log_P05, log_P01, log_P005]\n",
    "\n",
    "color = sns.color_palette(\"Spectral\", n_colors=6)\n",
    "\n",
    "# Plotting with Seaborn\n",
    "plt.figure(figsize=(8, 6))\n",
    "sns.boxplot(data=data, palette=color, saturation=0.7, showfliers=False)\n",
    "\n",
    "# Adding labels and title\n",
    "plt.xticks([0, 1, 2, 3, 4, 5], \n",
    "           ['Original', '0.5','0.1','0.05','0.01', '0.005'])\n",
    "\n",
    "plt.title(\"Logged outflow weight for all county in Illinois (CDP)\")\n",
    "plt.ylabel(\"Logged outflow weight\")\n",
    "plt.xlabel(\"Epsilon\")\n",
    "\n",
    "# Save plot\n",
    "plt.savefig(\"Pij_outflow_logged_no_outlier_IL_agg.png\", dpi=300, bbox_inches='tight')\n",
    "\n",
    "# Display the plot\n",
    "plt.show()\n"
   ]
  },
  {
   "cell_type": "markdown",
   "id": "4cffebec",
   "metadata": {},
   "source": [
    "# Count the total number of zeros"
   ]
  },
  {
   "cell_type": "code",
   "execution_count": 36,
   "id": "df88087d",
   "metadata": {},
   "outputs": [],
   "source": [
    "#outflow zero\n",
    "def outflow_zero(matrix):\n",
    "    P_ij_zero = []\n",
    "    \n",
    "    for i in range(86):\n",
    "        #all outflow weight list every county\n",
    "        working_list = []\n",
    "        for j in range(86):\n",
    "            if i != j and matrix[i][j] == 0:\n",
    "                P_ij_zero.append((i,j))\n",
    "    \n",
    "    return(P_ij_zero)"
   ]
  },
  {
   "cell_type": "code",
   "execution_count": 37,
   "id": "a13f351a",
   "metadata": {},
   "outputs": [],
   "source": [
    "total_links = 86*86"
   ]
  },
  {
   "cell_type": "code",
   "execution_count": 38,
   "id": "b07de8cc",
   "metadata": {},
   "outputs": [
    {
     "data": {
      "text/plain": [
       "2037"
      ]
     },
     "execution_count": 38,
     "metadata": {},
     "output_type": "execute_result"
    }
   ],
   "source": [
    "zero_ori = outflow_zero(Original_np)\n",
    "len(zero_ori)"
   ]
  },
  {
   "cell_type": "code",
   "execution_count": 39,
   "id": "c53bbc52",
   "metadata": {},
   "outputs": [
    {
     "data": {
      "text/plain": [
       "1657"
      ]
     },
     "execution_count": 39,
     "metadata": {},
     "output_type": "execute_result"
    }
   ],
   "source": [
    "zero_P5 = outflow_zero(P5_np)\n",
    "len(zero_P5)"
   ]
  },
  {
   "cell_type": "code",
   "execution_count": 40,
   "id": "389d93bc",
   "metadata": {},
   "outputs": [
    {
     "data": {
      "text/plain": [
       "2080"
      ]
     },
     "execution_count": 40,
     "metadata": {},
     "output_type": "execute_result"
    }
   ],
   "source": [
    "zero_P1 = outflow_zero(P1_np)\n",
    "len(zero_P1)"
   ]
  },
  {
   "cell_type": "code",
   "execution_count": 41,
   "id": "95d6792d",
   "metadata": {},
   "outputs": [
    {
     "data": {
      "text/plain": [
       "2406"
      ]
     },
     "execution_count": 41,
     "metadata": {},
     "output_type": "execute_result"
    }
   ],
   "source": [
    "zero_P05 = outflow_zero(P05_np)\n",
    "len(zero_P05)"
   ]
  },
  {
   "cell_type": "code",
   "execution_count": 42,
   "id": "d57d5834",
   "metadata": {},
   "outputs": [
    {
     "data": {
      "text/plain": [
       "2997"
      ]
     },
     "execution_count": 42,
     "metadata": {},
     "output_type": "execute_result"
    }
   ],
   "source": [
    "zero_P01 = outflow_zero(P01_np)\n",
    "len(zero_P01)"
   ]
  },
  {
   "cell_type": "code",
   "execution_count": 43,
   "id": "85765b18",
   "metadata": {},
   "outputs": [
    {
     "data": {
      "text/plain": [
       "3152"
      ]
     },
     "execution_count": 43,
     "metadata": {},
     "output_type": "execute_result"
    }
   ],
   "source": [
    "zero_P005 = outflow_zero(P005_np)\n",
    "len(zero_P005)"
   ]
  },
  {
   "cell_type": "code",
   "execution_count": 45,
   "id": "aa570b44",
   "metadata": {},
   "outputs": [],
   "source": [
    "#zero_P001 = outflow_zero(P001_np)\n",
    "#len(zero_P001)"
   ]
  },
  {
   "cell_type": "code",
   "execution_count": 51,
   "id": "348bd84a",
   "metadata": {},
   "outputs": [
    {
     "data": {
      "image/png": "[encoded data removed]",
      "text/plain": [
       "<Figure size 1000x600 with 1 Axes>"
      ]
     },
     "metadata": {},
     "output_type": "display_data"
    }
   ],
   "source": [
    "import seaborn as sns\n",
    "import matplotlib.pyplot as plt\n",
    "import pandas as pd\n",
    "\n",
    "# Data preparation\n",
    "data = [len(zero_ori)/total_links, \n",
    "        len(zero_P5)/total_links, \n",
    "        len(zero_P1)/total_links, \n",
    "        len(zero_P05)/total_links, \n",
    "        len(zero_P01)/total_links,\n",
    "       len(zero_P005)/total_links,\n",
    "       ]\n",
    "labels = ['Original', '0.5', '0.1', '0.05', '0.01', '0.005']\n",
    "\n",
    "# Generate a color palette\n",
    "color = sns.color_palette(\"Spectral\", n_colors= 6)\n",
    "\n",
    "# Create a DataFrame for easier handling\n",
    "df = pd.DataFrame({'Epsilon': labels, 'Number of Zero': data})\n",
    "\n",
    "# Plotting\n",
    "plt.figure(figsize=(10, 6))\n",
    "barplot = sns.barplot(x='Epsilon', y='Number of Zero', palette=color, data=df)\n",
    "\n",
    "# Adding labels and title\n",
    "plt.title(\"Proportion of links being zero in Illinois (CDP)\", fontsize=16)\n",
    "plt.xlabel(\"Epsilon\", fontsize=12)\n",
    "plt.ylabel(\"Proportion of Zero\", fontsize=12)\n",
    "\n",
    "# Add data labels on each bar\n",
    "for i, bar in enumerate(barplot.patches):\n",
    "    bar_height = bar.get_height()\n",
    "    plt.text(\n",
    "        bar.get_x() + bar.get_width() / 2,  # x-coordinate\n",
    "        bar_height*1.005,  # y-coordinate slightly above the bar\n",
    "        f'{bar_height:.3f}',  # Data label\n",
    "        ha='center', va='bottom', fontsize=10, color='black'\n",
    "    )\n",
    "\n",
    "# Save plot (optional)\n",
    "plt.savefig(\"Proportion_of_Zero_agg_IL.png\", dpi=300, bbox_inches='tight')\n",
    "\n",
    "# Display the plot\n",
    "plt.show()\n"
   ]
  },
  {
   "cell_type": "code",
   "execution_count": null,
   "id": "05864d72",
   "metadata": {},
   "outputs": [],
   "source": []
  }
 ],
 "metadata": {
  "kernelspec": {
   "display_name": "Python 3 (ipykernel)",
   "language": "python",
   "name": "python3"
  },
  "language_info": {
   "codemirror_mode": {
    "name": "ipython",
    "version": 3
   },
   "file_extension": ".py",
   "mimetype": "text/x-python",
   "name": "python",
   "nbconvert_exporter": "python",
   "pygments_lexer": "ipython3",
   "version": "3.11.5"
  }
 },
 "nbformat": 4,
 "nbformat_minor": 5
}
