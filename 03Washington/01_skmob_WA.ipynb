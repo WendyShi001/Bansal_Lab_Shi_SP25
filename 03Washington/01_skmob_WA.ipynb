{
 "cells": [
  {
   "cell_type": "markdown",
   "id": "805cf925",
   "metadata": {},
   "source": [
    "<h1><center> Visualization <br><br>\n",
    "    <center> Wendy Shi"
   ]
  },
  {
   "cell_type": "markdown",
   "id": "b77fec99",
   "metadata": {},
   "source": [
    "## TOC"
   ]
  },
  {
   "cell_type": "markdown",
   "id": "7beac35d",
   "metadata": {},
   "source": [
    "- [Preparation](#Preparation)\n",
    "- [Census Block Group Shape File](#Census-Block-Group-Shape-File)\n",
    "- [Individual Trajectory Generation](#Individual-Trajectory-Generation)\n",
    "- [Home Location](#Home-location)"
   ]
  },
  {
   "cell_type": "markdown",
   "id": "fd1eafbd",
   "metadata": {},
   "source": [
    "# Preparation"
   ]
  },
  {
   "cell_type": "code",
   "execution_count": 75,
   "id": "fc95423e",
   "metadata": {},
   "outputs": [],
   "source": [
    "#skmob\n",
    "import skmob\n",
    "import geopandas as gpd\n",
    "from skmob.models.epr import DensityEPR\n",
    "from skmob.measures.individual import home_location\n",
    "from skmob.measures.individual import jump_lengths\n",
    "\n",
    "#standard\n",
    "import pandas as pd\n",
    "import numpy as np\n",
    "import matplotlib.pyplot as plt\n",
    "from scipy.integrate import odeint\n",
    "from scipy.interpolate import interp1d\n",
    "import scipy.stats as stats\n",
    "\n",
    "#visualization\n",
    "import seaborn as sns\n",
    "\n",
    "#Geopandas related\n",
    "import fiona\n",
    "from shapely.geometry import shape"
   ]
  },
  {
   "cell_type": "markdown",
   "id": "1b0b8fae",
   "metadata": {},
   "source": [
    "## Subsetting"
   ]
  },
  {
   "cell_type": "code",
   "execution_count": 76,
   "id": "d5fb0bf7",
   "metadata": {},
   "outputs": [
    {
     "data": {
      "text/html": [
       "<div>\n",
       "<style scoped>\n",
       "    .dataframe tbody tr th:only-of-type {\n",
       "        vertical-align: middle;\n",
       "    }\n",
       "\n",
       "    .dataframe tbody tr th {\n",
       "        vertical-align: top;\n",
       "    }\n",
       "\n",
       "    .dataframe thead th {\n",
       "        text-align: right;\n",
       "    }\n",
       "</style>\n",
       "<table border=\"1\" class=\"dataframe\">\n",
       "  <thead>\n",
       "    <tr style=\"text-align: right;\">\n",
       "      <th></th>\n",
       "      <th>index</th>\n",
       "      <th>GEOID</th>\n",
       "      <th>State</th>\n",
       "    </tr>\n",
       "  </thead>\n",
       "  <tbody>\n",
       "    <tr>\n",
       "      <th>0</th>\n",
       "      <td>0</td>\n",
       "      <td>01001</td>\n",
       "      <td>01</td>\n",
       "    </tr>\n",
       "    <tr>\n",
       "      <th>1</th>\n",
       "      <td>1</td>\n",
       "      <td>01003</td>\n",
       "      <td>01</td>\n",
       "    </tr>\n",
       "    <tr>\n",
       "      <th>2</th>\n",
       "      <td>2</td>\n",
       "      <td>01005</td>\n",
       "      <td>01</td>\n",
       "    </tr>\n",
       "  </tbody>\n",
       "</table>\n",
       "</div>"
      ],
      "text/plain": [
       "   index  GEOID State\n",
       "0      0  01001    01\n",
       "1      1  01003    01\n",
       "2      2  01005    01"
      ]
     },
     "execution_count": 76,
     "metadata": {},
     "output_type": "execute_result"
    }
   ],
   "source": [
    "#Load data\n",
    "node_dict = pd.read_csv(\"../../Data/nodes_considered.csv\")\n",
    "\n",
    "#Standardize GEOID\n",
    "node_dict[\"GEO_ID\"] = node_dict[\"GEO_ID\"].apply(lambda x: f\"{int(x):05d}\") #turn GEOID into 6 digit format\n",
    "\n",
    "#rename column\n",
    "rename = {'GEO_ID' : 'GEOID'}\n",
    "node_dict = node_dict.rename(columns = rename)\n",
    "\n",
    "#State ID: Add a new column\n",
    "node_dict['State'] = node_dict['GEOID'].str[:2]\n",
    "node_dict.head(3)"
   ]
  },
  {
   "cell_type": "code",
   "execution_count": 77,
   "id": "6c2f1ad3",
   "metadata": {},
   "outputs": [
    {
     "name": "stdout",
     "output_type": "stream",
     "text": [
      "(34, 3)\n"
     ]
    },
    {
     "data": {
      "text/html": [
       "<div>\n",
       "<style scoped>\n",
       "    .dataframe tbody tr th:only-of-type {\n",
       "        vertical-align: middle;\n",
       "    }\n",
       "\n",
       "    .dataframe tbody tr th {\n",
       "        vertical-align: top;\n",
       "    }\n",
       "\n",
       "    .dataframe thead th {\n",
       "        text-align: right;\n",
       "    }\n",
       "</style>\n",
       "<table border=\"1\" class=\"dataframe\">\n",
       "  <thead>\n",
       "    <tr style=\"text-align: right;\">\n",
       "      <th></th>\n",
       "      <th>index</th>\n",
       "      <th>GEOID</th>\n",
       "      <th>State</th>\n",
       "    </tr>\n",
       "  </thead>\n",
       "  <tbody>\n",
       "    <tr>\n",
       "      <th>2169</th>\n",
       "      <td>2169</td>\n",
       "      <td>53001</td>\n",
       "      <td>53</td>\n",
       "    </tr>\n",
       "    <tr>\n",
       "      <th>2170</th>\n",
       "      <td>2170</td>\n",
       "      <td>53003</td>\n",
       "      <td>53</td>\n",
       "    </tr>\n",
       "    <tr>\n",
       "      <th>2171</th>\n",
       "      <td>2171</td>\n",
       "      <td>53005</td>\n",
       "      <td>53</td>\n",
       "    </tr>\n",
       "  </tbody>\n",
       "</table>\n",
       "</div>"
      ],
      "text/plain": [
       "      index  GEOID State\n",
       "2169   2169  53001    53\n",
       "2170   2170  53003    53\n",
       "2171   2171  53005    53"
      ]
     },
     "execution_count": 77,
     "metadata": {},
     "output_type": "execute_result"
    }
   ],
   "source": [
    "#print out the number of States that we want\n",
    "WA = node_dict[node_dict['State'] == '53']\n",
    "print(WA.shape)\n",
    "WA.head(3)"
   ]
  },
  {
   "cell_type": "markdown",
   "id": "58a78c9b",
   "metadata": {},
   "source": [
    "## US Shape File"
   ]
  },
  {
   "cell_type": "code",
   "execution_count": 78,
   "id": "282de014",
   "metadata": {},
   "outputs": [
    {
     "data": {
      "text/html": [
       "<div>\n",
       "<style scoped>\n",
       "    .dataframe tbody tr th:only-of-type {\n",
       "        vertical-align: middle;\n",
       "    }\n",
       "\n",
       "    .dataframe tbody tr th {\n",
       "        vertical-align: top;\n",
       "    }\n",
       "\n",
       "    .dataframe thead th {\n",
       "        text-align: right;\n",
       "    }\n",
       "</style>\n",
       "<table border=\"1\" class=\"dataframe\">\n",
       "  <thead>\n",
       "    <tr style=\"text-align: right;\">\n",
       "      <th></th>\n",
       "      <th>GEO_ID</th>\n",
       "      <th>STATE</th>\n",
       "      <th>COUNTY</th>\n",
       "      <th>NAME</th>\n",
       "      <th>LSAD</th>\n",
       "      <th>CENSUSAREA</th>\n",
       "      <th>State_1</th>\n",
       "      <th>Alpha code</th>\n",
       "      <th>Region</th>\n",
       "      <th>Division</th>\n",
       "      <th>CDC region</th>\n",
       "      <th>FIPS code</th>\n",
       "      <th>2013 code</th>\n",
       "      <th>U/R</th>\n",
       "      <th>pop2020</th>\n",
       "      <th>pop2021</th>\n",
       "    </tr>\n",
       "  </thead>\n",
       "  <tbody>\n",
       "    <tr>\n",
       "      <th>0</th>\n",
       "      <td>48301</td>\n",
       "      <td>48</td>\n",
       "      <td>301</td>\n",
       "      <td>Loving</td>\n",
       "      <td>County</td>\n",
       "      <td>668.925</td>\n",
       "      <td>Texas</td>\n",
       "      <td>TX</td>\n",
       "      <td>South</td>\n",
       "      <td>West South Central</td>\n",
       "      <td>6.0</td>\n",
       "      <td>48301</td>\n",
       "      <td>6</td>\n",
       "      <td>R</td>\n",
       "      <td>67.0</td>\n",
       "      <td>57.0</td>\n",
       "    </tr>\n",
       "    <tr>\n",
       "      <th>1</th>\n",
       "      <td>48269</td>\n",
       "      <td>48</td>\n",
       "      <td>269</td>\n",
       "      <td>King</td>\n",
       "      <td>County</td>\n",
       "      <td>910.872</td>\n",
       "      <td>Texas</td>\n",
       "      <td>TX</td>\n",
       "      <td>South</td>\n",
       "      <td>West South Central</td>\n",
       "      <td>6.0</td>\n",
       "      <td>48269</td>\n",
       "      <td>6</td>\n",
       "      <td>R</td>\n",
       "      <td>270.0</td>\n",
       "      <td>258.0</td>\n",
       "    </tr>\n",
       "    <tr>\n",
       "      <th>2</th>\n",
       "      <td>48261</td>\n",
       "      <td>48</td>\n",
       "      <td>261</td>\n",
       "      <td>Kenedy</td>\n",
       "      <td>County</td>\n",
       "      <td>1458.329</td>\n",
       "      <td>Texas</td>\n",
       "      <td>TX</td>\n",
       "      <td>South</td>\n",
       "      <td>West South Central</td>\n",
       "      <td>6.0</td>\n",
       "      <td>48261</td>\n",
       "      <td>5</td>\n",
       "      <td>R</td>\n",
       "      <td>346.0</td>\n",
       "      <td>340.0</td>\n",
       "    </tr>\n",
       "  </tbody>\n",
       "</table>\n",
       "</div>"
      ],
      "text/plain": [
       "   GEO_ID  STATE  COUNTY    NAME    LSAD  CENSUSAREA State_1 Alpha code  \\\n",
       "0   48301     48     301  Loving  County     668.925   Texas         TX   \n",
       "1   48269     48     269    King  County     910.872   Texas         TX   \n",
       "2   48261     48     261  Kenedy  County    1458.329   Texas         TX   \n",
       "\n",
       "  Region            Division  CDC region  FIPS code  2013 code U/R  pop2020  \\\n",
       "0  South  West South Central         6.0      48301          6   R     67.0   \n",
       "1  South  West South Central         6.0      48269          6   R    270.0   \n",
       "2  South  West South Central         6.0      48261          5   R    346.0   \n",
       "\n",
       "   pop2021  \n",
       "0     57.0  \n",
       "1    258.0  \n",
       "2    340.0  "
      ]
     },
     "execution_count": 78,
     "metadata": {},
     "output_type": "execute_result"
    }
   ],
   "source": [
    "shape_file = pd.read_csv(\"../../Data/us_shapefile_county.csv\")\n",
    "shape_file.head(3)"
   ]
  },
  {
   "cell_type": "code",
   "execution_count": 79,
   "id": "a399d8b0",
   "metadata": {},
   "outputs": [
    {
     "name": "stdout",
     "output_type": "stream",
     "text": [
      "(39, 16)\n"
     ]
    },
    {
     "data": {
      "text/html": [
       "<div>\n",
       "<style scoped>\n",
       "    .dataframe tbody tr th:only-of-type {\n",
       "        vertical-align: middle;\n",
       "    }\n",
       "\n",
       "    .dataframe tbody tr th {\n",
       "        vertical-align: top;\n",
       "    }\n",
       "\n",
       "    .dataframe thead th {\n",
       "        text-align: right;\n",
       "    }\n",
       "</style>\n",
       "<table border=\"1\" class=\"dataframe\">\n",
       "  <thead>\n",
       "    <tr style=\"text-align: right;\">\n",
       "      <th></th>\n",
       "      <th>GEO_ID</th>\n",
       "      <th>STATE</th>\n",
       "      <th>COUNTY</th>\n",
       "      <th>NAME</th>\n",
       "      <th>LSAD</th>\n",
       "      <th>CENSUSAREA</th>\n",
       "      <th>State_1</th>\n",
       "      <th>Alpha code</th>\n",
       "      <th>Region</th>\n",
       "      <th>Division</th>\n",
       "      <th>CDC region</th>\n",
       "      <th>FIPS code</th>\n",
       "      <th>2013 code</th>\n",
       "      <th>U/R</th>\n",
       "      <th>pop2020</th>\n",
       "      <th>pop2021</th>\n",
       "    </tr>\n",
       "  </thead>\n",
       "  <tbody>\n",
       "    <tr>\n",
       "      <th>116</th>\n",
       "      <td>53023</td>\n",
       "      <td>53</td>\n",
       "      <td>23</td>\n",
       "      <td>Garfield</td>\n",
       "      <td>County</td>\n",
       "      <td>710.686</td>\n",
       "      <td>Washington</td>\n",
       "      <td>WA</td>\n",
       "      <td>West</td>\n",
       "      <td>Pacific</td>\n",
       "      <td>10.0</td>\n",
       "      <td>53023</td>\n",
       "      <td>6</td>\n",
       "      <td>R</td>\n",
       "      <td>2292.0</td>\n",
       "      <td>2346.0</td>\n",
       "    </tr>\n",
       "    <tr>\n",
       "      <th>237</th>\n",
       "      <td>53013</td>\n",
       "      <td>53</td>\n",
       "      <td>13</td>\n",
       "      <td>Columbia</td>\n",
       "      <td>County</td>\n",
       "      <td>868.629</td>\n",
       "      <td>Washington</td>\n",
       "      <td>WA</td>\n",
       "      <td>West</td>\n",
       "      <td>Pacific</td>\n",
       "      <td>10.0</td>\n",
       "      <td>53013</td>\n",
       "      <td>4</td>\n",
       "      <td>R</td>\n",
       "      <td>3949.0</td>\n",
       "      <td>4042.0</td>\n",
       "    </tr>\n",
       "    <tr>\n",
       "      <th>271</th>\n",
       "      <td>53069</td>\n",
       "      <td>53</td>\n",
       "      <td>69</td>\n",
       "      <td>Wahkiakum</td>\n",
       "      <td>County</td>\n",
       "      <td>263.375</td>\n",
       "      <td>Washington</td>\n",
       "      <td>WA</td>\n",
       "      <td>West</td>\n",
       "      <td>Pacific</td>\n",
       "      <td>10.0</td>\n",
       "      <td>53069</td>\n",
       "      <td>6</td>\n",
       "      <td>R</td>\n",
       "      <td>4443.0</td>\n",
       "      <td>4582.0</td>\n",
       "    </tr>\n",
       "  </tbody>\n",
       "</table>\n",
       "</div>"
      ],
      "text/plain": [
       "     GEO_ID  STATE  COUNTY       NAME    LSAD  CENSUSAREA     State_1  \\\n",
       "116   53023     53      23   Garfield  County     710.686  Washington   \n",
       "237   53013     53      13   Columbia  County     868.629  Washington   \n",
       "271   53069     53      69  Wahkiakum  County     263.375  Washington   \n",
       "\n",
       "    Alpha code Region Division  CDC region  FIPS code  2013 code U/R  pop2020  \\\n",
       "116         WA   West  Pacific        10.0      53023          6   R   2292.0   \n",
       "237         WA   West  Pacific        10.0      53013          4   R   3949.0   \n",
       "271         WA   West  Pacific        10.0      53069          6   R   4443.0   \n",
       "\n",
       "     pop2021  \n",
       "116   2346.0  \n",
       "237   4042.0  \n",
       "271   4582.0  "
      ]
     },
     "execution_count": 79,
     "metadata": {},
     "output_type": "execute_result"
    }
   ],
   "source": [
    "#Check how many state does NY has in total\n",
    "WA_sub = shape_file[shape_file['State_1'] == 'Washington']\n",
    "print(WA_sub.shape)\n",
    "WA_sub.head(3)"
   ]
  },
  {
   "cell_type": "code",
   "execution_count": 80,
   "id": "b808e6cc",
   "metadata": {},
   "outputs": [
    {
     "name": "stdout",
     "output_type": "stream",
     "text": [
      "(34, 6)\n"
     ]
    },
    {
     "data": {
      "text/html": [
       "<div>\n",
       "<style scoped>\n",
       "    .dataframe tbody tr th:only-of-type {\n",
       "        vertical-align: middle;\n",
       "    }\n",
       "\n",
       "    .dataframe tbody tr th {\n",
       "        vertical-align: top;\n",
       "    }\n",
       "\n",
       "    .dataframe thead th {\n",
       "        text-align: right;\n",
       "    }\n",
       "</style>\n",
       "<table border=\"1\" class=\"dataframe\">\n",
       "  <thead>\n",
       "    <tr style=\"text-align: right;\">\n",
       "      <th></th>\n",
       "      <th>GEOID</th>\n",
       "      <th>NAME</th>\n",
       "      <th>LSAD</th>\n",
       "      <th>STATE</th>\n",
       "      <th>State_1</th>\n",
       "      <th>pop2020</th>\n",
       "    </tr>\n",
       "  </thead>\n",
       "  <tbody>\n",
       "    <tr>\n",
       "      <th>846</th>\n",
       "      <td>53059</td>\n",
       "      <td>Skamania</td>\n",
       "      <td>County</td>\n",
       "      <td>53</td>\n",
       "      <td>Washington</td>\n",
       "      <td>12034.0</td>\n",
       "    </tr>\n",
       "    <tr>\n",
       "      <th>933</th>\n",
       "      <td>53051</td>\n",
       "      <td>Pend Oreille</td>\n",
       "      <td>County</td>\n",
       "      <td>53</td>\n",
       "      <td>Washington</td>\n",
       "      <td>13482.0</td>\n",
       "    </tr>\n",
       "    <tr>\n",
       "      <th>1188</th>\n",
       "      <td>53055</td>\n",
       "      <td>San Juan</td>\n",
       "      <td>County</td>\n",
       "      <td>53</td>\n",
       "      <td>Washington</td>\n",
       "      <td>17818.0</td>\n",
       "    </tr>\n",
       "    <tr>\n",
       "      <th>1336</th>\n",
       "      <td>53001</td>\n",
       "      <td>Adams</td>\n",
       "      <td>County</td>\n",
       "      <td>53</td>\n",
       "      <td>Washington</td>\n",
       "      <td>20605.0</td>\n",
       "    </tr>\n",
       "    <tr>\n",
       "      <th>1416</th>\n",
       "      <td>53003</td>\n",
       "      <td>Asotin</td>\n",
       "      <td>County</td>\n",
       "      <td>53</td>\n",
       "      <td>Washington</td>\n",
       "      <td>22290.0</td>\n",
       "    </tr>\n",
       "  </tbody>\n",
       "</table>\n",
       "</div>"
      ],
      "text/plain": [
       "      GEOID          NAME    LSAD  STATE     State_1  pop2020\n",
       "846   53059      Skamania  County     53  Washington  12034.0\n",
       "933   53051  Pend Oreille  County     53  Washington  13482.0\n",
       "1188  53055      San Juan  County     53  Washington  17818.0\n",
       "1336  53001         Adams  County     53  Washington  20605.0\n",
       "1416  53003        Asotin  County     53  Washington  22290.0"
      ]
     },
     "execution_count": 80,
     "metadata": {},
     "output_type": "execute_result"
    }
   ],
   "source": [
    "WA_name_id_pop = shape_file[(shape_file[\"STATE\"] == 53) & (shape_file[\"pop2020\"] > 11000)] \n",
    "\n",
    "rename = {\"GEO_ID\" : \"GEOID\"}\n",
    "WA_name_id_pop = WA_name_id_pop.rename(columns = rename)\n",
    "WA_name_id_pop = WA_name_id_pop[['GEOID', 'NAME','LSAD','STATE','State_1','pop2020']]\n",
    "WA_name_id_pop['GEOID'] = WA_name_id_pop['GEOID'].apply(lambda x: f\"{int(x):05d}\") \n",
    "print(WA_name_id_pop.shape)\n",
    "WA_name_id_pop.head()"
   ]
  },
  {
   "cell_type": "code",
   "execution_count": 82,
   "id": "196773f4",
   "metadata": {},
   "outputs": [
    {
     "name": "stdout",
     "output_type": "stream",
     "text": [
      "<class 'pandas.core.frame.DataFrame'>\n",
      "Index: 34 entries, 846 to 3094\n",
      "Data columns (total 6 columns):\n",
      " #   Column   Non-Null Count  Dtype  \n",
      "---  ------   --------------  -----  \n",
      " 0   GEOID    34 non-null     object \n",
      " 1   NAME     34 non-null     object \n",
      " 2   LSAD     34 non-null     object \n",
      " 3   STATE    34 non-null     int64  \n",
      " 4   State_1  34 non-null     object \n",
      " 5   pop2020  34 non-null     float64\n",
      "dtypes: float64(1), int64(1), object(4)\n",
      "memory usage: 1.9+ KB\n"
     ]
    }
   ],
   "source": [
    "WA_name_id_pop.info()"
   ]
  },
  {
   "cell_type": "code",
   "execution_count": 83,
   "id": "ea0a4760",
   "metadata": {},
   "outputs": [
    {
     "name": "stdout",
     "output_type": "stream",
     "text": [
      "34\n"
     ]
    }
   ],
   "source": [
    "WA_name_id_pop['GEOID'] = CA_name_id_pop['GEOID'].astype(str)\n",
    "#This is the subsetting list!!!-----county list include county of pop less than 11,000---\n",
    "county_list = WA_name_id_pop['GEOID'].tolist() \n",
    "print(len(county_list))"
   ]
  },
  {
   "cell_type": "markdown",
   "id": "360ef5e3",
   "metadata": {},
   "source": [
    "#"
   ]
  },
  {
   "cell_type": "markdown",
   "id": "4dc0049d",
   "metadata": {},
   "source": [
    "# Census Block Group Shape File"
   ]
  },
  {
   "cell_type": "code",
   "execution_count": 84,
   "id": "7a2fe817",
   "metadata": {},
   "outputs": [
    {
     "data": {
      "text/html": [
       "<div>\n",
       "<style scoped>\n",
       "    .dataframe tbody tr th:only-of-type {\n",
       "        vertical-align: middle;\n",
       "    }\n",
       "\n",
       "    .dataframe tbody tr th {\n",
       "        vertical-align: top;\n",
       "    }\n",
       "\n",
       "    .dataframe thead th {\n",
       "        text-align: right;\n",
       "    }\n",
       "</style>\n",
       "<table border=\"1\" class=\"dataframe\">\n",
       "  <thead>\n",
       "    <tr style=\"text-align: right;\">\n",
       "      <th></th>\n",
       "      <th>STATEFP</th>\n",
       "      <th>COUNTYFP</th>\n",
       "      <th>TRACTCE</th>\n",
       "      <th>BLKGRPCE</th>\n",
       "      <th>GEOID</th>\n",
       "      <th>NAMELSAD</th>\n",
       "      <th>MTFCC</th>\n",
       "      <th>FUNCSTAT</th>\n",
       "      <th>ALAND</th>\n",
       "      <th>AWATER</th>\n",
       "      <th>INTPTLAT</th>\n",
       "      <th>INTPTLON</th>\n",
       "      <th>geometry</th>\n",
       "    </tr>\n",
       "  </thead>\n",
       "  <tbody>\n",
       "    <tr>\n",
       "      <th>0</th>\n",
       "      <td>53</td>\n",
       "      <td>003</td>\n",
       "      <td>960300</td>\n",
       "      <td>4</td>\n",
       "      <td>530039603004</td>\n",
       "      <td>Block Group 4</td>\n",
       "      <td>G5030</td>\n",
       "      <td>S</td>\n",
       "      <td>968866</td>\n",
       "      <td>275518</td>\n",
       "      <td>+46.4129919</td>\n",
       "      <td>-117.0383257</td>\n",
       "      <td>POLYGON ((-117.05053 46.41287, -117.05044 46.4...</td>\n",
       "    </tr>\n",
       "    <tr>\n",
       "      <th>1</th>\n",
       "      <td>53</td>\n",
       "      <td>003</td>\n",
       "      <td>960400</td>\n",
       "      <td>1</td>\n",
       "      <td>530039604001</td>\n",
       "      <td>Block Group 1</td>\n",
       "      <td>G5030</td>\n",
       "      <td>S</td>\n",
       "      <td>808258</td>\n",
       "      <td>0</td>\n",
       "      <td>+46.4154028</td>\n",
       "      <td>-117.0625648</td>\n",
       "      <td>POLYGON ((-117.07434 46.41774, -117.07429 46.4...</td>\n",
       "    </tr>\n",
       "    <tr>\n",
       "      <th>2</th>\n",
       "      <td>53</td>\n",
       "      <td>003</td>\n",
       "      <td>960400</td>\n",
       "      <td>2</td>\n",
       "      <td>530039604002</td>\n",
       "      <td>Block Group 2</td>\n",
       "      <td>G5030</td>\n",
       "      <td>S</td>\n",
       "      <td>778489</td>\n",
       "      <td>0</td>\n",
       "      <td>+46.4112429</td>\n",
       "      <td>-117.0703373</td>\n",
       "      <td>POLYGON ((-117.07960 46.41444, -117.07931 46.4...</td>\n",
       "    </tr>\n",
       "  </tbody>\n",
       "</table>\n",
       "</div>"
      ],
      "text/plain": [
       "  STATEFP COUNTYFP TRACTCE BLKGRPCE         GEOID       NAMELSAD  MTFCC  \\\n",
       "0      53      003  960300        4  530039603004  Block Group 4  G5030   \n",
       "1      53      003  960400        1  530039604001  Block Group 1  G5030   \n",
       "2      53      003  960400        2  530039604002  Block Group 2  G5030   \n",
       "\n",
       "  FUNCSTAT   ALAND  AWATER     INTPTLAT      INTPTLON  \\\n",
       "0        S  968866  275518  +46.4129919  -117.0383257   \n",
       "1        S  808258       0  +46.4154028  -117.0625648   \n",
       "2        S  778489       0  +46.4112429  -117.0703373   \n",
       "\n",
       "                                            geometry  \n",
       "0  POLYGON ((-117.05053 46.41287, -117.05044 46.4...  \n",
       "1  POLYGON ((-117.07434 46.41774, -117.07429 46.4...  \n",
       "2  POLYGON ((-117.07960 46.41444, -117.07931 46.4...  "
      ]
     },
     "execution_count": 84,
     "metadata": {},
     "output_type": "execute_result"
    }
   ],
   "source": [
    "data = []\n",
    "\n",
    "with fiona.open(\"tl_2020_53_bg/tl_2020_53_bg.shp\") as src:\n",
    "    for feature in src:\n",
    "        row = dict(feature['properties'])        # convert to dict\n",
    "        row['geometry'] = shape(feature['geometry'])  # shapely geometry\n",
    "        data.append(row)\n",
    "\n",
    "wa_bg_df = pd.DataFrame(data)\n",
    "\n",
    "wa_bg_sf = gpd.GeoDataFrame(wa_bg_df, geometry='geometry')\n",
    "wa_bg_sf.head(3) "
   ]
  },
  {
   "cell_type": "code",
   "execution_count": 14,
   "id": "fc82a5e4",
   "metadata": {
    "scrolled": true
   },
   "outputs": [],
   "source": [
    "#url = \"https://www2.census.gov/geo/tiger/TIGER2021/BG/tl_2021_35_bg.zip\"\n",
    "#ny_bg_sf = gpd.read_file(url)\n",
    "#print(ny_bg_sf.columns)\n",
    "#print(ny_bg_sf.shape)\n",
    "#ny_bg_sf.head(1) "
   ]
  },
  {
   "cell_type": "markdown",
   "id": "f341d09e",
   "metadata": {},
   "source": [
    "## Accquiring Census Block Group Population Data\n",
    "\n",
    "### Instruction generated by ChatGTP:\n",
    "\n",
    "- For New York census block group population data specifically, you can follow these steps:\n",
    "\n",
    "- Go to https://data.census.gov/\n",
    "- In the search bar, type \"population\"\n",
    "- Under \"Geography,\" select \"Block Group\"\n",
    "- Then select \"Washington\" as the state\n",
    "- Choose the counties and block groups you're interested in\n",
    "- Select the appropriate ACS 5-Year Estimates table (the latest available would be best)\n",
    "\n",
    "For population data specifically, look for table B01003 \"Total Population\" which gives you the basic population count.\n",
    "\n",
    "If you want to get Decennial Census Data, Do the same thing and look for Decennial Census, look for P1 Data"
   ]
  },
  {
   "cell_type": "code",
   "execution_count": 85,
   "id": "4322eaec",
   "metadata": {},
   "outputs": [
    {
     "name": "stdout",
     "output_type": "stream",
     "text": [
      "(5350, 5)\n"
     ]
    },
    {
     "data": {
      "text/html": [
       "<div>\n",
       "<style scoped>\n",
       "    .dataframe tbody tr th:only-of-type {\n",
       "        vertical-align: middle;\n",
       "    }\n",
       "\n",
       "    .dataframe tbody tr th {\n",
       "        vertical-align: top;\n",
       "    }\n",
       "\n",
       "    .dataframe thead th {\n",
       "        text-align: right;\n",
       "    }\n",
       "</style>\n",
       "<table border=\"1\" class=\"dataframe\">\n",
       "  <thead>\n",
       "    <tr style=\"text-align: right;\">\n",
       "      <th></th>\n",
       "      <th>GEO_ID</th>\n",
       "      <th>NAME</th>\n",
       "      <th>B01003_001E</th>\n",
       "      <th>B01003_001M</th>\n",
       "      <th>Unnamed: 4</th>\n",
       "    </tr>\n",
       "  </thead>\n",
       "  <tbody>\n",
       "    <tr>\n",
       "      <th>2</th>\n",
       "      <td>0500000US53001</td>\n",
       "      <td>Adams County, Washington</td>\n",
       "      <td>19702</td>\n",
       "      <td>*****</td>\n",
       "      <td>NaN</td>\n",
       "    </tr>\n",
       "    <tr>\n",
       "      <th>3</th>\n",
       "      <td>0500000US53003</td>\n",
       "      <td>Asotin County, Washington</td>\n",
       "      <td>22636</td>\n",
       "      <td>*****</td>\n",
       "      <td>NaN</td>\n",
       "    </tr>\n",
       "    <tr>\n",
       "      <th>4</th>\n",
       "      <td>0500000US53005</td>\n",
       "      <td>Benton County, Washington</td>\n",
       "      <td>200715</td>\n",
       "      <td>*****</td>\n",
       "      <td>NaN</td>\n",
       "    </tr>\n",
       "  </tbody>\n",
       "</table>\n",
       "</div>"
      ],
      "text/plain": [
       "           GEO_ID                       NAME B01003_001E B01003_001M  \\\n",
       "2  0500000US53001   Adams County, Washington       19702       *****   \n",
       "3  0500000US53003  Asotin County, Washington       22636       *****   \n",
       "4  0500000US53005  Benton County, Washington      200715       *****   \n",
       "\n",
       "   Unnamed: 4  \n",
       "2         NaN  \n",
       "3         NaN  \n",
       "4         NaN  "
      ]
     },
     "execution_count": 85,
     "metadata": {},
     "output_type": "execute_result"
    }
   ],
   "source": [
    "bg_pop_raw = pd.read_csv(\"ACSDT5Y2020/ACSDT5Y2020.B01003-Data.csv\")\n",
    "bg_pop_raw = bg_pop_raw.drop(index=[0, 1]) #Drop the first row: first row is the total state population\n",
    "print(bg_pop_raw.shape)\n",
    "bg_pop_raw.head(3)"
   ]
  },
  {
   "cell_type": "code",
   "execution_count": 86,
   "id": "77e73ba7",
   "metadata": {},
   "outputs": [
    {
     "data": {
      "text/html": [
       "<div>\n",
       "<style scoped>\n",
       "    .dataframe tbody tr th:only-of-type {\n",
       "        vertical-align: middle;\n",
       "    }\n",
       "\n",
       "    .dataframe tbody tr th {\n",
       "        vertical-align: top;\n",
       "    }\n",
       "\n",
       "    .dataframe thead th {\n",
       "        text-align: right;\n",
       "    }\n",
       "</style>\n",
       "<table border=\"1\" class=\"dataframe\">\n",
       "  <thead>\n",
       "    <tr style=\"text-align: right;\">\n",
       "      <th></th>\n",
       "      <th>GEO_ID</th>\n",
       "      <th>NAME</th>\n",
       "      <th>B01003_001E</th>\n",
       "      <th>B01003_001M</th>\n",
       "      <th>Unnamed: 4</th>\n",
       "    </tr>\n",
       "  </thead>\n",
       "  <tbody>\n",
       "    <tr>\n",
       "      <th>41</th>\n",
       "      <td>1500000US530019501001</td>\n",
       "      <td>Block Group 1, Census Tract 9501, Adams County...</td>\n",
       "      <td>731</td>\n",
       "      <td>176</td>\n",
       "      <td>NaN</td>\n",
       "    </tr>\n",
       "    <tr>\n",
       "      <th>42</th>\n",
       "      <td>1500000US530019501002</td>\n",
       "      <td>Block Group 2, Census Tract 9501, Adams County...</td>\n",
       "      <td>1270</td>\n",
       "      <td>212</td>\n",
       "      <td>NaN</td>\n",
       "    </tr>\n",
       "    <tr>\n",
       "      <th>43</th>\n",
       "      <td>1500000US530019501003</td>\n",
       "      <td>Block Group 3, Census Tract 9501, Adams County...</td>\n",
       "      <td>605</td>\n",
       "      <td>154</td>\n",
       "      <td>NaN</td>\n",
       "    </tr>\n",
       "  </tbody>\n",
       "</table>\n",
       "</div>"
      ],
      "text/plain": [
       "                   GEO_ID                                               NAME  \\\n",
       "41  1500000US530019501001  Block Group 1, Census Tract 9501, Adams County...   \n",
       "42  1500000US530019501002  Block Group 2, Census Tract 9501, Adams County...   \n",
       "43  1500000US530019501003  Block Group 3, Census Tract 9501, Adams County...   \n",
       "\n",
       "   B01003_001E B01003_001M  Unnamed: 4  \n",
       "41         731         176         NaN  \n",
       "42        1270         212         NaN  \n",
       "43         605         154         NaN  "
      ]
     },
     "execution_count": 86,
     "metadata": {},
     "output_type": "execute_result"
    }
   ],
   "source": [
    "#After inspect the dataframe, we can observe that there's also state level population included\n",
    "#So we drop them\n",
    "bg_pop = bg_pop_raw.iloc[39:].copy()\n",
    "bg_pop.head(3)"
   ]
  },
  {
   "cell_type": "code",
   "execution_count": 87,
   "id": "66e4162b",
   "metadata": {},
   "outputs": [
    {
     "data": {
      "text/html": [
       "<div>\n",
       "<style scoped>\n",
       "    .dataframe tbody tr th:only-of-type {\n",
       "        vertical-align: middle;\n",
       "    }\n",
       "\n",
       "    .dataframe tbody tr th {\n",
       "        vertical-align: top;\n",
       "    }\n",
       "\n",
       "    .dataframe thead th {\n",
       "        text-align: right;\n",
       "    }\n",
       "</style>\n",
       "<table border=\"1\" class=\"dataframe\">\n",
       "  <thead>\n",
       "    <tr style=\"text-align: right;\">\n",
       "      <th></th>\n",
       "      <th>GEO_ID</th>\n",
       "      <th>Population</th>\n",
       "    </tr>\n",
       "  </thead>\n",
       "  <tbody>\n",
       "    <tr>\n",
       "      <th>41</th>\n",
       "      <td>1500000US530019501001</td>\n",
       "      <td>731</td>\n",
       "    </tr>\n",
       "    <tr>\n",
       "      <th>42</th>\n",
       "      <td>1500000US530019501002</td>\n",
       "      <td>1270</td>\n",
       "    </tr>\n",
       "    <tr>\n",
       "      <th>43</th>\n",
       "      <td>1500000US530019501003</td>\n",
       "      <td>605</td>\n",
       "    </tr>\n",
       "  </tbody>\n",
       "</table>\n",
       "</div>"
      ],
      "text/plain": [
       "                   GEO_ID Population\n",
       "41  1500000US530019501001        731\n",
       "42  1500000US530019501002       1270\n",
       "43  1500000US530019501003        605"
      ]
     },
     "execution_count": 87,
     "metadata": {},
     "output_type": "execute_result"
    }
   ],
   "source": [
    "bg_pop = bg_pop[['GEO_ID', 'B01003_001E']].copy()\n",
    "rename = {'B01003_001E' : 'Population'}\n",
    "bg_pop  = bg_pop.rename(columns = rename)\n",
    "bg_pop.head(3)"
   ]
  },
  {
   "cell_type": "code",
   "execution_count": 88,
   "id": "0c9f37d8",
   "metadata": {},
   "outputs": [
    {
     "name": "stdout",
     "output_type": "stream",
     "text": [
      "7512465\n"
     ]
    }
   ],
   "source": [
    "bg_pop['Population'] = bg_pop['Population'].astype(int)\n",
    "sum_value = bg_pop['Population'].sum()\n",
    "print(sum_value)"
   ]
  },
  {
   "cell_type": "code",
   "execution_count": 89,
   "id": "4bae5de2",
   "metadata": {},
   "outputs": [
    {
     "data": {
      "text/html": [
       "<div>\n",
       "<style scoped>\n",
       "    .dataframe tbody tr th:only-of-type {\n",
       "        vertical-align: middle;\n",
       "    }\n",
       "\n",
       "    .dataframe tbody tr th {\n",
       "        vertical-align: top;\n",
       "    }\n",
       "\n",
       "    .dataframe thead th {\n",
       "        text-align: right;\n",
       "    }\n",
       "</style>\n",
       "<table border=\"1\" class=\"dataframe\">\n",
       "  <thead>\n",
       "    <tr style=\"text-align: right;\">\n",
       "      <th></th>\n",
       "      <th>GEO_ID</th>\n",
       "      <th>Population</th>\n",
       "      <th>GEOID</th>\n",
       "    </tr>\n",
       "  </thead>\n",
       "  <tbody>\n",
       "    <tr>\n",
       "      <th>41</th>\n",
       "      <td>1500000US530019501001</td>\n",
       "      <td>731</td>\n",
       "      <td>530019501001</td>\n",
       "    </tr>\n",
       "    <tr>\n",
       "      <th>42</th>\n",
       "      <td>1500000US530019501002</td>\n",
       "      <td>1270</td>\n",
       "      <td>530019501002</td>\n",
       "    </tr>\n",
       "    <tr>\n",
       "      <th>43</th>\n",
       "      <td>1500000US530019501003</td>\n",
       "      <td>605</td>\n",
       "      <td>530019501003</td>\n",
       "    </tr>\n",
       "  </tbody>\n",
       "</table>\n",
       "</div>"
      ],
      "text/plain": [
       "                   GEO_ID  Population         GEOID\n",
       "41  1500000US530019501001         731  530019501001\n",
       "42  1500000US530019501002        1270  530019501002\n",
       "43  1500000US530019501003         605  530019501003"
      ]
     },
     "execution_count": 89,
     "metadata": {},
     "output_type": "execute_result"
    }
   ],
   "source": [
    "bg_pop['GEOID'] = bg_pop['GEO_ID'].str[-12:]\n",
    "bg_pop.head(3)"
   ]
  },
  {
   "cell_type": "code",
   "execution_count": 90,
   "id": "730d2e8e",
   "metadata": {},
   "outputs": [
    {
     "name": "stdout",
     "output_type": "stream",
     "text": [
      "<class 'pandas.core.frame.DataFrame'>\n",
      "RangeIndex: 5311 entries, 41 to 5351\n",
      "Data columns (total 3 columns):\n",
      " #   Column      Non-Null Count  Dtype \n",
      "---  ------      --------------  ----- \n",
      " 0   GEO_ID      5311 non-null   object\n",
      " 1   Population  5311 non-null   int64 \n",
      " 2   GEOID       5311 non-null   object\n",
      "dtypes: int64(1), object(2)\n",
      "memory usage: 124.6+ KB\n"
     ]
    }
   ],
   "source": [
    "bg_pop.info()"
   ]
  },
  {
   "cell_type": "code",
   "execution_count": 91,
   "id": "a80d5852",
   "metadata": {},
   "outputs": [
    {
     "name": "stdout",
     "output_type": "stream",
     "text": [
      "(5279, 3)\n"
     ]
    },
    {
     "data": {
      "text/html": [
       "<div>\n",
       "<style scoped>\n",
       "    .dataframe tbody tr th:only-of-type {\n",
       "        vertical-align: middle;\n",
       "    }\n",
       "\n",
       "    .dataframe tbody tr th {\n",
       "        vertical-align: top;\n",
       "    }\n",
       "\n",
       "    .dataframe thead th {\n",
       "        text-align: right;\n",
       "    }\n",
       "</style>\n",
       "<table border=\"1\" class=\"dataframe\">\n",
       "  <thead>\n",
       "    <tr style=\"text-align: right;\">\n",
       "      <th></th>\n",
       "      <th>GEOID</th>\n",
       "      <th>Population</th>\n",
       "      <th>COUNTY</th>\n",
       "    </tr>\n",
       "  </thead>\n",
       "  <tbody>\n",
       "    <tr>\n",
       "      <th>41</th>\n",
       "      <td>530019501001</td>\n",
       "      <td>731</td>\n",
       "      <td>53001</td>\n",
       "    </tr>\n",
       "    <tr>\n",
       "      <th>42</th>\n",
       "      <td>530019501002</td>\n",
       "      <td>1270</td>\n",
       "      <td>53001</td>\n",
       "    </tr>\n",
       "    <tr>\n",
       "      <th>43</th>\n",
       "      <td>530019501003</td>\n",
       "      <td>605</td>\n",
       "      <td>53001</td>\n",
       "    </tr>\n",
       "    <tr>\n",
       "      <th>44</th>\n",
       "      <td>530019502001</td>\n",
       "      <td>622</td>\n",
       "      <td>53001</td>\n",
       "    </tr>\n",
       "    <tr>\n",
       "      <th>45</th>\n",
       "      <td>530019502002</td>\n",
       "      <td>781</td>\n",
       "      <td>53001</td>\n",
       "    </tr>\n",
       "  </tbody>\n",
       "</table>\n",
       "</div>"
      ],
      "text/plain": [
       "           GEOID  Population COUNTY\n",
       "41  530019501001         731  53001\n",
       "42  530019501002        1270  53001\n",
       "43  530019501003         605  53001\n",
       "44  530019502001         622  53001\n",
       "45  530019502002         781  53001"
      ]
     },
     "execution_count": 91,
     "metadata": {},
     "output_type": "execute_result"
    }
   ],
   "source": [
    "bg_pop = bg_pop[['GEOID', 'Population']].copy()\n",
    "bg_pop['COUNTY'] = bg_pop['GEOID'].str[:5]\n",
    "bg_pop_new = bg_pop[bg_pop['COUNTY'].isin(county_list)]\n",
    "print(bg_pop_new.shape)\n",
    "bg_pop_new.head()"
   ]
  },
  {
   "cell_type": "code",
   "execution_count": 92,
   "id": "e6a7513f",
   "metadata": {},
   "outputs": [
    {
     "name": "stdout",
     "output_type": "stream",
     "text": [
      "34\n"
     ]
    }
   ],
   "source": [
    "print(len(bg_pop_new['COUNTY'].unique()))"
   ]
  },
  {
   "cell_type": "markdown",
   "id": "f4a63bcf",
   "metadata": {},
   "source": [
    "## Merge Data"
   ]
  },
  {
   "cell_type": "code",
   "execution_count": 60,
   "id": "a85b17f9",
   "metadata": {},
   "outputs": [
    {
     "name": "stdout",
     "output_type": "stream",
     "text": [
      "(5279, 15)\n"
     ]
    },
    {
     "data": {
      "text/html": [
       "<div>\n",
       "<style scoped>\n",
       "    .dataframe tbody tr th:only-of-type {\n",
       "        vertical-align: middle;\n",
       "    }\n",
       "\n",
       "    .dataframe tbody tr th {\n",
       "        vertical-align: top;\n",
       "    }\n",
       "\n",
       "    .dataframe thead th {\n",
       "        text-align: right;\n",
       "    }\n",
       "</style>\n",
       "<table border=\"1\" class=\"dataframe\">\n",
       "  <thead>\n",
       "    <tr style=\"text-align: right;\">\n",
       "      <th></th>\n",
       "      <th>STATEFP</th>\n",
       "      <th>COUNTYFP</th>\n",
       "      <th>TRACTCE</th>\n",
       "      <th>BLKGRPCE</th>\n",
       "      <th>GEOID</th>\n",
       "      <th>NAMELSAD</th>\n",
       "      <th>MTFCC</th>\n",
       "      <th>FUNCSTAT</th>\n",
       "      <th>ALAND</th>\n",
       "      <th>AWATER</th>\n",
       "      <th>INTPTLAT</th>\n",
       "      <th>INTPTLON</th>\n",
       "      <th>geometry</th>\n",
       "      <th>Population</th>\n",
       "      <th>COUNTY</th>\n",
       "    </tr>\n",
       "  </thead>\n",
       "  <tbody>\n",
       "    <tr>\n",
       "      <th>0</th>\n",
       "      <td>53</td>\n",
       "      <td>003</td>\n",
       "      <td>960300</td>\n",
       "      <td>4</td>\n",
       "      <td>530039603004</td>\n",
       "      <td>Block Group 4</td>\n",
       "      <td>G5030</td>\n",
       "      <td>S</td>\n",
       "      <td>968866</td>\n",
       "      <td>275518</td>\n",
       "      <td>+46.4129919</td>\n",
       "      <td>-117.0383257</td>\n",
       "      <td>POLYGON ((-117.05053 46.41287, -117.05044 46.4...</td>\n",
       "      <td>1101</td>\n",
       "      <td>53003</td>\n",
       "    </tr>\n",
       "    <tr>\n",
       "      <th>1</th>\n",
       "      <td>53</td>\n",
       "      <td>003</td>\n",
       "      <td>960400</td>\n",
       "      <td>1</td>\n",
       "      <td>530039604001</td>\n",
       "      <td>Block Group 1</td>\n",
       "      <td>G5030</td>\n",
       "      <td>S</td>\n",
       "      <td>808258</td>\n",
       "      <td>0</td>\n",
       "      <td>+46.4154028</td>\n",
       "      <td>-117.0625648</td>\n",
       "      <td>POLYGON ((-117.07434 46.41774, -117.07429 46.4...</td>\n",
       "      <td>1534</td>\n",
       "      <td>53003</td>\n",
       "    </tr>\n",
       "    <tr>\n",
       "      <th>2</th>\n",
       "      <td>53</td>\n",
       "      <td>003</td>\n",
       "      <td>960400</td>\n",
       "      <td>2</td>\n",
       "      <td>530039604002</td>\n",
       "      <td>Block Group 2</td>\n",
       "      <td>G5030</td>\n",
       "      <td>S</td>\n",
       "      <td>778489</td>\n",
       "      <td>0</td>\n",
       "      <td>+46.4112429</td>\n",
       "      <td>-117.0703373</td>\n",
       "      <td>POLYGON ((-117.07960 46.41444, -117.07931 46.4...</td>\n",
       "      <td>983</td>\n",
       "      <td>53003</td>\n",
       "    </tr>\n",
       "  </tbody>\n",
       "</table>\n",
       "</div>"
      ],
      "text/plain": [
       "  STATEFP COUNTYFP TRACTCE BLKGRPCE         GEOID       NAMELSAD  MTFCC  \\\n",
       "0      53      003  960300        4  530039603004  Block Group 4  G5030   \n",
       "1      53      003  960400        1  530039604001  Block Group 1  G5030   \n",
       "2      53      003  960400        2  530039604002  Block Group 2  G5030   \n",
       "\n",
       "  FUNCSTAT   ALAND  AWATER     INTPTLAT      INTPTLON  \\\n",
       "0        S  968866  275518  +46.4129919  -117.0383257   \n",
       "1        S  808258       0  +46.4154028  -117.0625648   \n",
       "2        S  778489       0  +46.4112429  -117.0703373   \n",
       "\n",
       "                                            geometry  Population COUNTY  \n",
       "0  POLYGON ((-117.05053 46.41287, -117.05044 46.4...        1101  53003  \n",
       "1  POLYGON ((-117.07434 46.41774, -117.07429 46.4...        1534  53003  \n",
       "2  POLYGON ((-117.07960 46.41444, -117.07931 46.4...         983  53003  "
      ]
     },
     "execution_count": 60,
     "metadata": {},
     "output_type": "execute_result"
    }
   ],
   "source": [
    "tessellation = pd.merge(wa_bg_sf, bg_pop_new, on = 'GEOID', how = 'inner')\n",
    "print(tessellation.shape)\n",
    "tessellation.head(3)"
   ]
  },
  {
   "cell_type": "code",
   "execution_count": 61,
   "id": "e83b0a54",
   "metadata": {},
   "outputs": [
    {
     "data": {
      "text/plain": [
       "34"
      ]
     },
     "execution_count": 61,
     "metadata": {},
     "output_type": "execute_result"
    }
   ],
   "source": [
    "len(tessellation['COUNTYFP'].unique())"
   ]
  },
  {
   "cell_type": "code",
   "execution_count": 64,
   "id": "0d4c0e35",
   "metadata": {},
   "outputs": [],
   "source": [
    "#county_list = tessellation['COUNTYFP'].unique().tolist()#\n",
    "#county_list"
   ]
  },
  {
   "cell_type": "markdown",
   "id": "63bdb8d7",
   "metadata": {},
   "source": [
    "#"
   ]
  },
  {
   "cell_type": "markdown",
   "id": "bd3d5ce3",
   "metadata": {},
   "source": [
    "# Individual Trajectory Generation"
   ]
  },
  {
   "cell_type": "code",
   "execution_count": 33,
   "id": "ba65fbcf",
   "metadata": {},
   "outputs": [
    {
     "name": "stdout",
     "output_type": "stream",
     "text": [
      "<class 'geopandas.geodataframe.GeoDataFrame'>\n",
      "Index: 5263 entries, 0 to 5278\n",
      "Data columns (total 3 columns):\n",
      " #   Column      Non-Null Count  Dtype   \n",
      "---  ------      --------------  -----   \n",
      " 0   GEOID       5263 non-null   object  \n",
      " 1   Population  5263 non-null   int64   \n",
      " 2   geometry    5263 non-null   geometry\n",
      "dtypes: geometry(1), int64(1), object(1)\n",
      "memory usage: 164.5+ KB\n",
      "None\n"
     ]
    },
    {
     "data": {
      "text/html": [
       "<div>\n",
       "<style scoped>\n",
       "    .dataframe tbody tr th:only-of-type {\n",
       "        vertical-align: middle;\n",
       "    }\n",
       "\n",
       "    .dataframe tbody tr th {\n",
       "        vertical-align: top;\n",
       "    }\n",
       "\n",
       "    .dataframe thead th {\n",
       "        text-align: right;\n",
       "    }\n",
       "</style>\n",
       "<table border=\"1\" class=\"dataframe\">\n",
       "  <thead>\n",
       "    <tr style=\"text-align: right;\">\n",
       "      <th></th>\n",
       "      <th>GEOID</th>\n",
       "      <th>Population</th>\n",
       "      <th>geometry</th>\n",
       "    </tr>\n",
       "  </thead>\n",
       "  <tbody>\n",
       "    <tr>\n",
       "      <th>0</th>\n",
       "      <td>530039603004</td>\n",
       "      <td>1101</td>\n",
       "      <td>POLYGON ((-117.05053 46.41287, -117.05044 46.4...</td>\n",
       "    </tr>\n",
       "    <tr>\n",
       "      <th>1</th>\n",
       "      <td>530039604001</td>\n",
       "      <td>1534</td>\n",
       "      <td>POLYGON ((-117.07434 46.41774, -117.07429 46.4...</td>\n",
       "    </tr>\n",
       "    <tr>\n",
       "      <th>2</th>\n",
       "      <td>530039604002</td>\n",
       "      <td>983</td>\n",
       "      <td>POLYGON ((-117.07960 46.41444, -117.07931 46.4...</td>\n",
       "    </tr>\n",
       "  </tbody>\n",
       "</table>\n",
       "</div>"
      ],
      "text/plain": [
       "          GEOID  Population                                           geometry\n",
       "0  530039603004        1101  POLYGON ((-117.05053 46.41287, -117.05044 46.4...\n",
       "1  530039604001        1534  POLYGON ((-117.07434 46.41774, -117.07429 46.4...\n",
       "2  530039604002         983  POLYGON ((-117.07960 46.41444, -117.07931 46.4..."
      ]
     },
     "execution_count": 33,
     "metadata": {},
     "output_type": "execute_result"
    }
   ],
   "source": [
    "tessellation = tessellation[['GEOID', 'Population', 'geometry']].copy()\n",
    "tessellation = tessellation.loc[tessellation['Population'] != 0].copy()\n",
    "print(tessellation.info())\n",
    "tessellation.head(3)"
   ]
  },
  {
   "cell_type": "markdown",
   "id": "32d954ee",
   "metadata": {},
   "source": [
    "## Density EPR"
   ]
  },
  {
   "cell_type": "code",
   "execution_count": 38,
   "id": "ab1f49b6",
   "metadata": {},
   "outputs": [
    {
     "data": {
      "image/svg+xml": [
       "<svg xmlns=\"http://www.w3.org/2000/svg\" xmlns:xlink=\"http://www.w3.org/1999/xlink\" width=\"100.0\" height=\"100.0\" viewBox=\"-117.06134759999999 46.3963124 0.017755199999982096 0.007985199999993142\" preserveAspectRatio=\"xMinYMin meet\"><g transform=\"matrix(1,0,0,-1,0,92.80060999999999)\"><path fill-rule=\"evenodd\" fill=\"#66cc99\" stroke=\"#555555\" stroke-width=\"0.0003551039999996419\" opacity=\"0.6\" d=\"M -117.060508,46.401303 L -117.06036,46.401419999999995 L -117.060278,46.401474 L -117.06012,46.401579999999996 L -117.05981,46.40179 L -117.05947,46.40201 L -117.05936,46.40209 L -117.05911,46.402269999999994 L -117.058997,46.402356999999995 L -117.05884,46.40248 L -117.05872,46.40262 L -117.05867,46.40271 L -117.05866,46.40274 L -117.058655,46.402771 L -117.058654,46.402801 L -117.05864700000001,46.403026 L -117.058646,46.403037999999995 L -117.058646,46.403075 L -117.058646,46.403088 L -117.058645,46.403144 L -117.058643,46.403313999999995 L -117.058643,46.403371 L -117.05864199999999,46.403422 L -117.05864,46.403577999999996 L -117.05864,46.40363 L -117.058244,46.40363 L -117.05705499999999,46.40363 L -117.057015,46.40363 L -117.05666,46.40363 L -117.056558,46.40363 L -117.056403,46.40363 L -117.056252,46.40363 L -117.05615,46.40363 L -117.055992,46.40363 L -117.055517,46.40363 L -117.05536000000001,46.40363 L -117.0553,46.40363 L -117.055223,46.40363 L -117.054812,46.40363 L -117.054675,46.40363 L -117.05461,46.40363 L -117.054383,46.403631 L -117.05370500000001,46.403638 L -117.05348000000001,46.403639999999996 L -117.053463,46.403639999999996 L -117.053416,46.403639999999996 L -117.05340000000001,46.403639999999996 L -117.053262,46.403639999999996 L -117.052851,46.403639999999996 L -117.052714,46.403639999999996 L -117.05259699999999,46.403639999999996 L -117.052246,46.403639999999996 L -117.05213,46.403639999999996 L -117.05208,46.40363 L -117.051816,46.40363 L -117.051024,46.40363 L -117.05076,46.40363 L -117.050504,46.40363 L -117.049736,46.40363 L -117.04948,46.40363 L -117.049212,46.40363 L -117.048408,46.40363 L -117.04814,46.40363 L -117.047876,46.403631999999995 L -117.047084,46.403638 L -117.04682,46.403639999999996 L -117.046562,46.403639999999996 L -117.045788,46.403639999999996 L -117.04553,46.403639999999996 L -117.045276,46.403639999999996 L -117.044513,46.403639999999996 L -117.04426,46.403639999999996 L -117.04426,46.403541999999995 L -117.04426,46.403248 L -117.04426,46.40315 L -117.04426,46.402981 L -117.04426,46.40262 L -117.04425499999999,46.402477 L -117.04425,46.402288999999996 L -117.04425,46.402181 L -117.04425,46.401862 L -117.04425,46.401793999999995 L -117.04425,46.401666 L -117.04425,46.401607999999996 L -117.04425,46.401437 L -117.04425,46.401379999999996 L -117.044251,46.401222999999995 L -117.044258,46.400755 L -117.04426,46.400600000000004 L -117.04426,46.40058 L -117.04426,46.40056 L -117.04426,46.400521 L -117.04426,46.400501999999996 L -117.04426,46.400383 L -117.04426,46.400028 L -117.04426,46.39991 L -117.044261,46.399839 L -117.044268,46.399629 L -117.04427,46.39956 L -117.04428,46.39895 L -117.04428,46.3983 L -117.044277,46.398194 L -117.044271,46.397876 L -117.044268,46.397773 L -117.044272,46.397687 L -117.044275,46.397503 L -117.044277,46.397441 L -117.04428,46.39736 L -117.04428,46.39731 L -117.04428,46.39716 L -117.04428,46.39711 L -117.04428,46.396994 L -117.04428,46.396969999999996 L -117.04507,46.3973 L -117.04541,46.39743 L -117.04631,46.397800000000004 L -117.04664,46.39797 L -117.047682,46.39839 L -117.04783,46.39845 L -117.04835800000001,46.398626 L -117.048483,46.398666999999996 L -117.04861,46.39871 L -117.048862,46.398782999999995 L -117.04899,46.39882 L -117.04926,46.398889999999994 L -117.04969,46.39901 L -117.05005,46.39913 L -117.05014,46.399172 L -117.05043,46.39931 L -117.05171,46.39989 L -117.053387,46.400628 L -117.053438,46.40065 L -117.05405,46.40092 L -117.054545,46.401126999999995 L -117.054696,46.40119 L -117.054754,46.401213999999996 L -117.05503,46.401329999999994 L -117.05527000000001,46.401419999999995 L -117.05537,46.401446 L -117.05539,46.401450999999994 L -117.05561,46.401509999999995 L -117.05577,46.40154 L -117.05657,46.40165 L -117.056626,46.401654 L -117.05680000000001,46.401669999999996 L -117.05715000000001,46.401669999999996 L -117.05745999999999,46.40166 L -117.05810000000001,46.40157 L -117.05909,46.40137 L -117.059669,46.401261 L -117.05989,46.401219999999995 L -117.06069,46.40116 L -117.060508,46.401303 z\" /></g></svg>"
      ],
      "text/plain": [
       "<POLYGON ((-117.061 46.401, -117.06 46.401, -117.06 46.401, -117.06 46.402, ...>"
      ]
     },
     "execution_count": 38,
     "metadata": {},
     "output_type": "execute_result"
    }
   ],
   "source": [
    "tessellation.iloc[5,2]"
   ]
  },
  {
   "cell_type": "markdown",
   "id": "9e0bb2d5",
   "metadata": {},
   "source": [
    "### This Takes 3 hours to run"
   ]
  },
  {
   "cell_type": "code",
   "execution_count": 45,
   "id": "e917ec79",
   "metadata": {},
   "outputs": [
    {
     "name": "stderr",
     "output_type": "stream",
     "text": [
      "/Users/wendyshi2001/anaconda3/envs/skmob/lib/python3.9/site-packages/geopandas/geoseries.py:574: FutureWarning: the convert_dtype parameter is deprecated and will be removed in a future version.  Do ``ser.astype(object).apply()`` instead if you want ``convert_dtype=False``.\n",
      "  result = super().apply(func, convert_dtype=convert_dtype, args=args, **kwargs)\n",
      "  0%|                                                 | 0/10000 [00:00<?, ?it/s]/Users/wendyshi2001/anaconda3/envs/skmob/lib/python3.9/site-packages/skmob/models/gravity.py:43: RuntimeWarning: divide by zero encountered in power\n",
      "  return np.power(x, exponent)\n",
      "100%|█████████████████████████████████████| 10000/10000 [16:41<00:00,  9.99it/s]\n"
     ]
    }
   ],
   "source": [
    "start_time = pd.to_datetime('2020/03/01 00:00:00')\n",
    "end_time = pd.to_datetime('2020/03/30 23:59:59')\n",
    "depr = DensityEPR()\n",
    "tdf = depr.generate(start_time, \n",
    "                    end_time, \n",
    "                    tessellation, \n",
    "                    relevance_column='Population', #Take population into account\n",
    "                    n_agents=10000, \n",
    "                    show_progress=True)"
   ]
  },
  {
   "cell_type": "code",
   "execution_count": 46,
   "id": "81f5c6c9",
   "metadata": {},
   "outputs": [],
   "source": [
    "tdf.to_csv(\"WA_4Week_10000_realpop.csv\")"
   ]
  },
  {
   "cell_type": "markdown",
   "id": "6a08713d",
   "metadata": {},
   "source": [
    "#"
   ]
  },
  {
   "cell_type": "markdown",
   "id": "ce9a9466",
   "metadata": {},
   "source": [
    "#"
   ]
  },
  {
   "cell_type": "markdown",
   "id": "14b18ce2",
   "metadata": {},
   "source": [
    "# Visualizations"
   ]
  },
  {
   "cell_type": "code",
   "execution_count": 47,
   "id": "849ba117",
   "metadata": {},
   "outputs": [
    {
     "name": "stdout",
     "output_type": "stream",
     "text": [
      "(519, 4)\n"
     ]
    },
    {
     "data": {
      "text/html": [
       "<div>\n",
       "<style scoped>\n",
       "    .dataframe tbody tr th:only-of-type {\n",
       "        vertical-align: middle;\n",
       "    }\n",
       "\n",
       "    .dataframe tbody tr th {\n",
       "        vertical-align: top;\n",
       "    }\n",
       "\n",
       "    .dataframe thead th {\n",
       "        text-align: right;\n",
       "    }\n",
       "</style>\n",
       "<table border=\"1\" class=\"dataframe\">\n",
       "  <thead>\n",
       "    <tr style=\"text-align: right;\">\n",
       "      <th></th>\n",
       "      <th>uid</th>\n",
       "      <th>datetime</th>\n",
       "      <th>lat</th>\n",
       "      <th>lng</th>\n",
       "    </tr>\n",
       "  </thead>\n",
       "  <tbody>\n",
       "    <tr>\n",
       "      <th>0</th>\n",
       "      <td>2</td>\n",
       "      <td>2020-03-01 00:00:00.000000</td>\n",
       "      <td>47.393251</td>\n",
       "      <td>-122.666153</td>\n",
       "    </tr>\n",
       "    <tr>\n",
       "      <th>1</th>\n",
       "      <td>2</td>\n",
       "      <td>2020-03-01 00:26:04.057794</td>\n",
       "      <td>47.619195</td>\n",
       "      <td>-122.294069</td>\n",
       "    </tr>\n",
       "    <tr>\n",
       "      <th>2</th>\n",
       "      <td>2</td>\n",
       "      <td>2020-03-01 02:04:15.700625</td>\n",
       "      <td>47.609562</td>\n",
       "      <td>-122.314806</td>\n",
       "    </tr>\n",
       "    <tr>\n",
       "      <th>3</th>\n",
       "      <td>2</td>\n",
       "      <td>2020-03-01 02:31:42.180087</td>\n",
       "      <td>47.619195</td>\n",
       "      <td>-122.294069</td>\n",
       "    </tr>\n",
       "    <tr>\n",
       "      <th>4</th>\n",
       "      <td>2</td>\n",
       "      <td>2020-03-01 06:49:43.159156</td>\n",
       "      <td>47.393251</td>\n",
       "      <td>-122.666153</td>\n",
       "    </tr>\n",
       "  </tbody>\n",
       "</table>\n",
       "</div>"
      ],
      "text/plain": [
       "   uid                   datetime        lat         lng\n",
       "0    2 2020-03-01 00:00:00.000000  47.393251 -122.666153\n",
       "1    2 2020-03-01 00:26:04.057794  47.619195 -122.294069\n",
       "2    2 2020-03-01 02:04:15.700625  47.609562 -122.314806\n",
       "3    2 2020-03-01 02:31:42.180087  47.619195 -122.294069\n",
       "4    2 2020-03-01 06:49:43.159156  47.393251 -122.666153"
      ]
     },
     "execution_count": 47,
     "metadata": {},
     "output_type": "execute_result"
    }
   ],
   "source": [
    "#data = ditras_tdf\n",
    "data = tdf\n",
    "person1 = data[data[\"uid\"] == 2].copy().reset_index()\n",
    "person1 = person1.drop(columns = 'index')\n",
    "print(person1.shape)\n",
    "person1.head(5)"
   ]
  },
  {
   "cell_type": "code",
   "execution_count": 48,
   "id": "7df0a4aa",
   "metadata": {},
   "outputs": [
    {
     "data": {
      "text/html": [
       "<div style=\"width:100%;\"><div style=\"position:relative;width:100%;height:0;padding-bottom:60%;\"><span style=\"color:#565656\">Make this Notebook Trusted to load map: File -> Trust Notebook</span><iframe srcdoc=\"&lt;!DOCTYPE html&gt;\n",
       "&lt;html&gt;\n",
       "&lt;head&gt;\n",
       "    \n",
       "    &lt;meta http-equiv=&quot;content-type&quot; content=&quot;text/html; charset=UTF-8&quot; /&gt;\n",
       "    \n",
       "        &lt;script&gt;\n",
       "            L_NO_TOUCH = false;\n",
       "            L_DISABLE_3D = false;\n",
       "        &lt;/script&gt;\n",
       "    \n",
       "    &lt;style&gt;html, body {width: 100%;height: 100%;margin: 0;padding: 0;}&lt;/style&gt;\n",
       "    &lt;style&gt;#map {position:absolute;top:0;bottom:0;right:0;left:0;}&lt;/style&gt;\n",
       "    &lt;script src=&quot;https://cdn.jsdelivr.net/npm/leaflet@1.9.3/dist/leaflet.js&quot;&gt;&lt;/script&gt;\n",
       "    &lt;script src=&quot;https://code.jquery.com/jquery-3.7.1.min.js&quot;&gt;&lt;/script&gt;\n",
       "    &lt;script src=&quot;https://cdn.jsdelivr.net/npm/bootstrap@5.2.2/dist/js/bootstrap.bundle.min.js&quot;&gt;&lt;/script&gt;\n",
       "    &lt;script src=&quot;https://cdnjs.cloudflare.com/ajax/libs/Leaflet.awesome-markers/2.0.2/leaflet.awesome-markers.js&quot;&gt;&lt;/script&gt;\n",
       "    &lt;link rel=&quot;stylesheet&quot; href=&quot;https://cdn.jsdelivr.net/npm/leaflet@1.9.3/dist/leaflet.css&quot;/&gt;\n",
       "    &lt;link rel=&quot;stylesheet&quot; href=&quot;https://cdn.jsdelivr.net/npm/bootstrap@5.2.2/dist/css/bootstrap.min.css&quot;/&gt;\n",
       "    &lt;link rel=&quot;stylesheet&quot; href=&quot;https://netdna.bootstrapcdn.com/bootstrap/3.0.0/css/bootstrap-glyphicons.css&quot;/&gt;\n",
       "    &lt;link rel=&quot;stylesheet&quot; href=&quot;https://cdn.jsdelivr.net/npm/@fortawesome/fontawesome-free@6.2.0/css/all.min.css&quot;/&gt;\n",
       "    &lt;link rel=&quot;stylesheet&quot; href=&quot;https://cdnjs.cloudflare.com/ajax/libs/Leaflet.awesome-markers/2.0.2/leaflet.awesome-markers.css&quot;/&gt;\n",
       "    &lt;link rel=&quot;stylesheet&quot; href=&quot;https://cdn.jsdelivr.net/gh/python-visualization/folium/folium/templates/leaflet.awesome.rotate.min.css&quot;/&gt;\n",
       "    \n",
       "            &lt;meta name=&quot;viewport&quot; content=&quot;width=device-width,\n",
       "                initial-scale=1.0, maximum-scale=1.0, user-scalable=no&quot; /&gt;\n",
       "            &lt;style&gt;\n",
       "                #map_e298c39ea3dca83482e60a51d4ea7122 {\n",
       "                    position: relative;\n",
       "                    width: 100.0%;\n",
       "                    height: 100.0%;\n",
       "                    left: 0.0%;\n",
       "                    top: 0.0%;\n",
       "                }\n",
       "                .leaflet-container { font-size: 1rem; }\n",
       "            &lt;/style&gt;\n",
       "        \n",
       "&lt;/head&gt;\n",
       "&lt;body&gt;\n",
       "    \n",
       "    \n",
       "            &lt;div class=&quot;folium-map&quot; id=&quot;map_e298c39ea3dca83482e60a51d4ea7122&quot; &gt;&lt;/div&gt;\n",
       "        \n",
       "&lt;/body&gt;\n",
       "&lt;script&gt;\n",
       "    \n",
       "    \n",
       "            var map_e298c39ea3dca83482e60a51d4ea7122 = L.map(\n",
       "                &quot;map_e298c39ea3dca83482e60a51d4ea7122&quot;,\n",
       "                {\n",
       "                    center: [47.39262788912755, -122.30635867773076],\n",
       "                    crs: L.CRS.EPSG3857,\n",
       "                    ...{\n",
       "  &quot;zoom&quot;: 12,\n",
       "  &quot;zoomControl&quot;: true,\n",
       "  &quot;preferCanvas&quot;: false,\n",
       "}\n",
       "\n",
       "                }\n",
       "            );\n",
       "            L.control.scale().addTo(map_e298c39ea3dca83482e60a51d4ea7122);\n",
       "\n",
       "            \n",
       "\n",
       "        \n",
       "    \n",
       "            var tile_layer_2a866ad1c791cda7279f92cf3bf5d312 = L.tileLayer(\n",
       "                &quot;https://tile.openstreetmap.org/{z}/{x}/{y}.png&quot;,\n",
       "                {\n",
       "  &quot;minZoom&quot;: 0,\n",
       "  &quot;maxZoom&quot;: 19,\n",
       "  &quot;maxNativeZoom&quot;: 19,\n",
       "  &quot;noWrap&quot;: false,\n",
       "  &quot;attribution&quot;: &quot;\\u0026copy; \\u003ca href=\\&quot;https://www.openstreetmap.org/copyright\\&quot;\\u003eOpenStreetMap\\u003c/a\\u003e contributors&quot;,\n",
       "  &quot;subdomains&quot;: &quot;abc&quot;,\n",
       "  &quot;detectRetina&quot;: false,\n",
       "  &quot;tms&quot;: false,\n",
       "  &quot;opacity&quot;: 1,\n",
       "}\n",
       "\n",
       "            );\n",
       "        \n",
       "    \n",
       "            tile_layer_2a866ad1c791cda7279f92cf3bf5d312.addTo(map_e298c39ea3dca83482e60a51d4ea7122);\n",
       "        \n",
       "    \n",
       "        function geo_json_c0cd2eb384e319f592b69cd10fd3d986_styler(feature) {\n",
       "            switch(feature.id) {\n",
       "                default:\n",
       "                    return {&quot;color&quot;: &quot;#FFCFE2&quot;, &quot;dashArray&quot;: &quot;0, 0&quot;, &quot;opacity&quot;: 0.9, &quot;weight&quot;: 3};\n",
       "            }\n",
       "        }\n",
       "\n",
       "        function geo_json_c0cd2eb384e319f592b69cd10fd3d986_onEachFeature(feature, layer) {\n",
       "            layer.on({\n",
       "            });\n",
       "        };\n",
       "        var geo_json_c0cd2eb384e319f592b69cd10fd3d986 = L.geoJson(null, {\n",
       "                onEachFeature: geo_json_c0cd2eb384e319f592b69cd10fd3d986_onEachFeature,\n",
       "            \n",
       "                style: geo_json_c0cd2eb384e319f592b69cd10fd3d986_styler,\n",
       "            ...{\n",
       "}\n",
       "        });\n",
       "\n",
       "        function geo_json_c0cd2eb384e319f592b69cd10fd3d986_add (data) {\n",
       "            geo_json_c0cd2eb384e319f592b69cd10fd3d986\n",
       "                .addData(data);\n",
       "        }\n",
       "            geo_json_c0cd2eb384e319f592b69cd10fd3d986_add({&quot;features&quot;: [{&quot;geometry&quot;: {&quot;coordinates&quot;: [[-122.666153, 47.393251], [-122.294069, 47.619195], [-122.314806, 47.609562], [-122.294069, 47.619195], [-122.666153, 47.393251], [-122.294069, 47.619195], [-122.123187, 47.137938], [-122.185319, 47.128113], [-122.313483, 47.265745], [-122.123187, 47.137938], [-122.313483, 47.265745], [-122.41843, 47.185292], [-122.409982, 47.187482], [-122.666153, 47.393251], [-122.185319, 47.128113], [-122.191552, 47.123589], [-122.666153, 47.393251], [-122.294069, 47.619195], [-122.313483, 47.265745], [-122.366995, 47.635206], [-122.294069, 47.619195], [-122.04004, 47.631038], [-122.666153, 47.393251], [-122.294069, 47.619195], [-122.314806, 47.609562], [-122.309843, 47.603807], [-122.666153, 47.393251], [-122.409982, 47.187482], [-122.304332, 47.361997], [-122.306359, 47.34002], [-122.04004, 47.631038], [-122.294069, 47.619195], [-122.349291, 47.616188], [-122.409982, 47.187482], [-122.313483, 47.265745], [-122.336136, 47.275467], [-122.191552, 47.123589], [-122.409982, 47.187482], [-122.123187, 47.137938], [-122.409982, 47.187482], [-122.309843, 47.603807], [-122.294069, 47.619195], [-122.309843, 47.603807], [-122.409982, 47.187482], [-122.299948, 47.073546], [-122.336136, 47.275467], [-122.214154, 47.221729], [-122.294069, 47.619195], [-122.309843, 47.603807], [-122.3162, 47.603586], [-122.294069, 47.619195], [-122.299747, 47.619176], [-122.294069, 47.619195], [-122.298982, 47.623042], [-122.666153, 47.393251], [-122.313483, 47.265745], [-122.214154, 47.221729], [-122.409982, 47.187482], [-122.41843, 47.185292], [-122.379291, 47.279806], [-122.313483, 47.265745], [-122.30391, 47.283427], [-122.237906, 47.328952], [-122.409982, 47.187482], [-122.294069, 47.619195], [-122.185319, 47.128113], [-121.855756, 47.314295], [-122.339579, 47.441993], [-122.123187, 47.137938], [-122.156986, 47.153881], [-122.41843, 47.185292], [-122.04004, 47.631038], [-122.038703, 47.676151], [-122.666153, 47.393251], [-122.313483, 47.265745], [-122.298982, 47.623042], [-122.294069, 47.619195], [-122.329702, 47.613682], [-122.185319, 47.128113], [-122.287691, 47.262968], [-122.166217, 47.15735], [-122.151812, 47.143309], [-122.409982, 47.187482], [-122.314806, 47.609562], [-122.309843, 47.603807], [-122.329702, 47.613682], [-122.309843, 47.603807], [-122.666153, 47.393251], [-122.123187, 47.137938], [-122.313483, 47.265745], [-122.666153, 47.393251], [-122.123187, 47.137938], [-122.336136, 47.275467], [-122.41843, 47.185292], [-122.379291, 47.279806], [-122.191552, 47.123589], [-122.185319, 47.128113], [-122.409982, 47.187482], [-122.36453, 47.030284], [-122.314806, 47.609562], [-122.294069, 47.619195], [-122.313483, 47.265745], [-122.409982, 47.187482], [-122.298982, 47.623042], [-122.123187, 47.137938], [-122.299948, 47.073546], [-122.310588, 47.084616], [-122.409982, 47.187482], [-122.287691, 47.262968], [-122.666153, 47.393251], [-122.379291, 47.279806], [-122.294069, 47.619195], [-122.04004, 47.631038], [-122.299948, 47.073546], [-122.294069, 47.619195], [-122.123187, 47.137938], [-122.666153, 47.393251], [-122.665377, 47.516413], [-121.855756, 47.314295], [-122.294069, 47.619195], [-122.299747, 47.619176], [-122.448161, 47.172933], [-122.191552, 47.123589], [-122.304332, 47.361997], [-122.103225, 47.921137], [-121.967206, 47.925688], [-122.336136, 47.275467], [-122.339776, 47.287349], [-122.379291, 47.279806], [-122.306359, 47.34002], [-122.665377, 47.516413], [-122.666153, 47.393251], [-122.309843, 47.603807], [-122.299948, 47.073546], [-122.352002, 47.147282], [-122.41843, 47.185292], [-122.123187, 47.137938], [-122.294069, 47.619195], [-122.298982, 47.623042], [-122.666153, 47.393251], [-122.322892, 47.621955], [-122.191552, 47.123589], [-122.313483, 47.265745], [-122.467213, 47.156483], [-122.437806, 47.154923], [-122.666153, 47.393251], [-122.346257, 47.622058], [-121.855756, 47.314295], [-122.029152, 47.570152], [-122.09815, 47.630695], [-122.665377, 47.516413], [-122.629973, 47.495368], [-122.543157, 47.545724], [-122.304332, 47.361997], [-122.409982, 47.187482], [-122.125736, 47.677022], [-122.123187, 47.137938], [-122.336136, 47.275467], [-122.34569, 47.225374], [-122.348697, 47.220991], [-122.299747, 47.619176], [-122.30751, 47.624227], [-122.409982, 47.187482], [-122.318164, 47.183318], [-122.304332, 47.361997], [-122.294752, 47.557247], [-122.294069, 47.619195], [-122.666153, 47.393251], [-122.609928, 47.39355], [-122.582598, 47.384417], [-122.366995, 47.635206], [-122.185319, 47.128113], [-122.191552, 47.123589], [-122.123187, 47.137938], [-122.666153, 47.393251], [-122.515294, 47.296722], [-121.855756, 47.314295], [-122.666153, 47.393251], [-122.309843, 47.603807], [-122.329702, 47.613682], [-122.322672, 47.618498], [-122.294069, 47.619195], [-122.666153, 47.393251], [-122.298982, 47.623042], [-122.666153, 47.393251], [-122.109976, 47.289268], [-122.207816, 47.513162], [-122.299948, 47.073546], [-122.04004, 47.631038], [-122.379291, 47.279806], [-122.609928, 47.39355], [-122.866873, 47.392628], [-122.207816, 47.513162], [-122.666153, 47.393251], [-122.294069, 47.619195], [-122.609928, 47.39355], [-122.666153, 47.393251], [-122.609928, 47.39355], [-122.287691, 47.262968], [-122.352002, 47.147282], [-122.314806, 47.609562], [-122.448161, 47.172933], [-122.346257, 47.622058], [-122.123187, 47.137938], [-122.313483, 47.265745], [-122.318164, 47.183318], [-122.294069, 47.619195], [-122.666153, 47.393251], [-122.029152, 47.570152], [-122.018452, 47.572007], [-122.666153, 47.393251], [-122.448161, 47.172933], [-122.123187, 47.137938], [-122.294069, 47.619195], [-122.666153, 47.393251], [-122.881964, 47.353274], [-121.97968, 47.590681], [-122.048963, 47.574566], [-122.36453, 47.030284], [-122.363171, 47.06017], [-122.32169, 47.122022], [-122.313483, 47.265745], [-122.355776, 47.307281], [-122.306392, 47.310619], [-122.299948, 47.073546], [-122.666153, 47.393251], [-122.294069, 47.619195], [-122.348697, 47.220991], [-122.339776, 47.287349], [-122.34781, 47.287579], [-122.313483, 47.265745], [-122.123187, 47.137938], [-122.881964, 47.353274], [-122.360321, 47.655568], [-122.298982, 47.623042], [-122.666153, 47.393251], [-122.294069, 47.619195], [-122.304332, 47.361997], [-122.214154, 47.221729], [-122.666153, 47.393251], [-122.214154, 47.221729], [-122.591848, 47.119393], [-122.409982, 47.187482], [-122.666153, 47.393251], [-122.191552, 47.123589], [-121.993155, 47.148718], [-122.41843, 47.185292], [-122.629973, 47.495368], [-122.294069, 47.619195], [-122.30751, 47.624227], [-122.294069, 47.619195], [-122.341842, 47.654743], [-122.299948, 47.073546], [-122.352002, 47.147282], [-122.298519, 47.13661], [-122.294069, 47.619195], [-122.346257, 47.622058], [-122.294069, 47.619195], [-122.41843, 47.185292], [-122.309843, 47.603807], [-122.299948, 47.073546], [-122.41843, 47.185292], [-122.294069, 47.619195], [-122.307187, 47.617058], [-122.166217, 47.15735], [-122.665377, 47.516413], [-122.639613, 47.576334], [-122.294069, 47.619195], [-122.287691, 47.262968], [-122.123187, 47.137938], [-122.299948, 47.073546], [-122.363171, 47.06017], [-122.185319, 47.128113], [-122.379291, 47.279806], [-122.294069, 47.619195], [-122.409982, 47.187482], [-121.855756, 47.314295], [-122.157462, 47.354409], [-122.137657, 47.662885], [-122.237169, 47.498012], [-122.36453, 47.030284], [-122.273256, 47.136072], [-122.666153, 47.393251], [-122.294069, 47.619195], [-122.214154, 47.221729], [-122.306359, 47.34002], [-122.409982, 47.187482], [-122.665377, 47.516413], [-122.646842, 47.512139], [-121.855756, 47.314295], [-122.04004, 47.631038], [-122.448161, 47.172933], [-122.456527, 47.210203], [-122.446464, 47.210053], [-122.309843, 47.603807], [-122.3162, 47.603586], [-122.289999, 48.066883], [-122.294069, 47.619195], [-122.304307, 47.615541], [-122.336136, 47.275467], [-122.665377, 47.516413], [-122.287691, 47.262968], [-122.314806, 47.609562], [-122.346257, 47.622058], [-122.294069, 47.619195], [-122.288892, 47.613818], [-122.309843, 47.603807], [-122.665377, 47.516413], [-122.646842, 47.512139], [-122.379291, 47.279806], [-122.207816, 47.513162], [-122.214154, 47.221729], [-122.294069, 47.619195], [-122.109976, 47.289268], [-122.609928, 47.39355], [-122.666153, 47.393251], [-121.97968, 47.590681], [-122.298519, 47.13661], [-122.123187, 47.137938], [-122.666153, 47.393251], [-122.656397, 47.384457], [-122.329702, 47.613682], [-122.346257, 47.622058], [-122.289999, 48.066883], [-122.329702, 47.613682], [-122.123187, 47.137938], [-122.109976, 47.289268], [-122.214154, 47.221729], [-122.228263, 47.212265], [-122.666153, 47.393251], [-122.123187, 47.137938], [-122.666153, 47.393251], [-122.214154, 47.221729], [-121.97968, 47.590681], [-122.214154, 47.221729], [-122.306359, 47.34002], [-122.299747, 47.619176], [-122.666153, 47.393251], [-122.313483, 47.265745], [-122.666153, 47.393251], [-122.309843, 47.603807], [-122.3162, 47.603586], [-122.666153, 47.393251], [-122.123187, 47.137938], [-122.134184, 47.173292], [-122.609928, 47.39355], [-122.294166, 47.399673], [-122.665377, 47.516413], [-122.666153, 47.393251], [-122.582598, 47.384417], [-122.313483, 47.265745], [-122.665377, 47.516413], [-122.294069, 47.619195], [-122.287691, 47.262968], [-122.294069, 47.619195], [-122.298982, 47.623042], [-122.123187, 47.137938], [-122.313483, 47.265745], [-122.273256, 47.136072], [-122.265235, 47.14906], [-122.255711, 47.132505], [-122.36453, 47.030284], [-122.348697, 47.220991], [-122.294069, 47.619195], [-122.866873, 47.392628], [-122.287691, 47.262968], [-122.178914, 47.394517], [-122.666153, 47.393251], [-122.448161, 47.172933], [-122.299747, 47.619176], [-122.299948, 47.073546], [-122.287691, 47.262968], [-122.305487, 47.259888], [-122.214154, 47.221729], [-122.666153, 47.393251], [-122.313483, 47.265745], [-122.666153, 47.393251], [-122.109976, 47.289268], [-122.294069, 47.619195], [-122.123187, 47.137938], [-122.139226, 47.137953], [-122.609928, 47.39355], [-122.582598, 47.384417], [-122.298519, 47.13661], [-122.304332, 47.361997], [-122.531695, 47.246309], [-122.125736, 47.677022], [-122.178914, 47.394517], [-122.04004, 47.631038], [-122.294069, 47.619195], [-122.314806, 47.609562], [-122.123187, 47.137938], [-122.294069, 47.619195], [-122.185319, 47.128113], [-122.304332, 47.361997], [-122.214154, 47.221729], [-122.666153, 47.393251], [-122.153728, 47.575162], [-122.304332, 47.361997], [-122.178914, 47.394517], [-122.665377, 47.516413], [-122.299948, 47.073546], [-122.285985, 47.082468], [-122.28214, 47.087723], [-122.123187, 47.137938], [-122.151812, 47.143309], [-122.123187, 47.137938], [-122.313483, 47.265745], [-122.609928, 47.39355], [-122.151812, 47.143309], [-122.287691, 47.262968], [-122.123187, 47.137938], [-122.314806, 47.609562], [-122.274987, 47.613191], [-122.337232, 47.600581], [-122.665377, 47.516413], [-122.348697, 47.220991], [-122.360495, 47.213217], [-122.294069, 47.619195], [-122.178914, 47.394517], [-122.191552, 47.123589], [-122.185319, 47.128113], [-122.228263, 47.212265], [-122.294069, 47.619195], [-122.337028, 47.616956], [-122.318164, 47.183318], [-122.312882, 47.174021], [-122.34781, 47.287579], [-122.314806, 47.609562], [-122.665377, 47.516413], [-122.668845, 47.49372], [-122.272622, 47.555622], [-122.318164, 47.183318], [-122.342285, 47.146386], [-122.294069, 47.619195], [-122.3162, 47.603586], [-122.309843, 47.603807], [-122.313473, 47.577282], [-122.582598, 47.384417], [-121.97968, 47.590681], [-121.97348, 47.593806], [-121.97968, 47.590681], [-122.228263, 47.212265], [-122.363171, 47.06017], [-122.665377, 47.516413], [-122.298982, 47.623042], [-122.314806, 47.609562], [-122.294069, 47.619195], [-122.305292, 47.620702], [-121.97968, 47.590681], [-122.309843, 47.603807], [-122.318767, 47.605108], [-121.967206, 47.925688], [-122.118702, 47.670868], [-122.313483, 47.265745], [-122.185319, 47.128113], [-122.409982, 47.187482], [-122.298982, 47.623042], [-122.343475, 47.641158], [-122.294069, 47.619195], [-122.339776, 47.287349], [-122.346257, 47.622058], [-122.348237, 47.617909], [-122.379291, 47.279806], [-122.287691, 47.262968], [-122.153221, 47.1979], [-122.163793, 47.226812], [-122.41843, 47.185292], [-122.04004, 47.631038], [-122.027942, 47.630816], [-122.666153, 47.393251], [-122.866873, 47.392628], [-121.855756, 47.314295], [-122.298519, 47.13661], [-122.313483, 47.265745], [-122.123187, 47.137938], [-122.314806, 47.609562], [-122.297869, 47.664573], [-122.290685, 47.664658], [-121.97968, 47.590681], [-122.273256, 47.136072], [-122.666153, 47.393251], [-121.97968, 47.590681], [-122.131897, 47.640422], [-122.309843, 47.603807], [-122.318767, 47.605108], [-122.318164, 47.183318], [-121.967206, 47.925688], [-122.665377, 47.516413], [-122.646842, 47.512139], [-122.287691, 47.262968], [-122.322672, 47.618498], [-122.109976, 47.289268], [-122.409982, 47.187482], [-122.666153, 47.393251], [-122.30391, 47.283427], [-122.299747, 47.619176], [-122.255711, 47.132505], [-122.288892, 47.613818], [-122.314175, 47.622126], [-121.855756, 47.314295], [-122.123187, 47.137938], [-122.109976, 47.289268], [-122.183526, 47.26841], [-122.04004, 47.631038], [-122.125736, 47.677022], [-122.299948, 47.073546], [-122.134184, 47.173292], [-122.294069, 47.619195], [-122.666153, 47.393251], [-122.379291, 47.279806], [-122.352002, 47.147282], [-122.326007, 47.067514], [-122.287691, 47.262968], [-122.312882, 47.174021], [-121.97348, 47.593806], [-122.456527, 47.210203], [-122.665377, 47.516413], [-122.294069, 47.619195]], &quot;type&quot;: &quot;LineString&quot;}, &quot;id&quot;: &quot;0&quot;, &quot;type&quot;: &quot;Feature&quot;}], &quot;type&quot;: &quot;FeatureCollection&quot;});\n",
       "\n",
       "        \n",
       "    \n",
       "            geo_json_c0cd2eb384e319f592b69cd10fd3d986.addTo(map_e298c39ea3dca83482e60a51d4ea7122);\n",
       "        \n",
       "    \n",
       "            var marker_f736ce295f8b1355f3c23eab0da7e38a = L.marker(\n",
       "                [47.39325067507798, -122.6661531245056],\n",
       "                {\n",
       "}\n",
       "            ).addTo(map_e298c39ea3dca83482e60a51d4ea7122);\n",
       "        \n",
       "    \n",
       "            var icon_c4706f5f330b430377cf26c496f3c398 = L.AwesomeMarkers.icon(\n",
       "                {\n",
       "  &quot;markerColor&quot;: &quot;green&quot;,\n",
       "  &quot;iconColor&quot;: &quot;white&quot;,\n",
       "  &quot;icon&quot;: &quot;info-sign&quot;,\n",
       "  &quot;prefix&quot;: &quot;glyphicon&quot;,\n",
       "  &quot;extraClasses&quot;: &quot;fa-rotate-0&quot;,\n",
       "}\n",
       "            );\n",
       "            marker_f736ce295f8b1355f3c23eab0da7e38a.setIcon(icon_c4706f5f330b430377cf26c496f3c398);\n",
       "        \n",
       "    \n",
       "        var popup_ab1409bd7d490c5c24766daeb1f74ba0 = L.popup({\n",
       "  &quot;maxWidth&quot;: 300,\n",
       "});\n",
       "\n",
       "        \n",
       "            \n",
       "                var html_6508eeaea14651f6a2cb9a4a562d7a52 = $(`&lt;div id=&quot;html_6508eeaea14651f6a2cb9a4a562d7a52&quot; style=&quot;width: 100.0%; height: 100.0%;&quot;&gt;&lt;i&gt;Start&lt;/i&gt;&lt;BR&gt;2020/03/01 00:00&lt;BR&gt;Coord: &lt;a href=&quot;https://www.google.co.uk/maps/place/47.39325067507798,-122.6661531245056&quot; target=&quot;_blank&quot;&gt;47.3933, -122.6662&lt;/a&gt;&lt;/div&gt;`)[0];\n",
       "                popup_ab1409bd7d490c5c24766daeb1f74ba0.setContent(html_6508eeaea14651f6a2cb9a4a562d7a52);\n",
       "            \n",
       "        \n",
       "\n",
       "        marker_f736ce295f8b1355f3c23eab0da7e38a.bindPopup(popup_ab1409bd7d490c5c24766daeb1f74ba0)\n",
       "        ;\n",
       "\n",
       "        \n",
       "    \n",
       "    \n",
       "            var marker_88219f7dd8b656a90128aeac24da1995 = L.marker(\n",
       "                [47.61919459883249, -122.29406903631472],\n",
       "                {\n",
       "}\n",
       "            ).addTo(map_e298c39ea3dca83482e60a51d4ea7122);\n",
       "        \n",
       "    \n",
       "            var icon_33f2d2ba68e64e52b2a4a16b8d330c2f = L.AwesomeMarkers.icon(\n",
       "                {\n",
       "  &quot;markerColor&quot;: &quot;red&quot;,\n",
       "  &quot;iconColor&quot;: &quot;white&quot;,\n",
       "  &quot;icon&quot;: &quot;info-sign&quot;,\n",
       "  &quot;prefix&quot;: &quot;glyphicon&quot;,\n",
       "  &quot;extraClasses&quot;: &quot;fa-rotate-0&quot;,\n",
       "}\n",
       "            );\n",
       "            marker_88219f7dd8b656a90128aeac24da1995.setIcon(icon_33f2d2ba68e64e52b2a4a16b8d330c2f);\n",
       "        \n",
       "    \n",
       "        var popup_c5ced5966b0c6d797b64702c1a8b9b4c = L.popup({\n",
       "  &quot;maxWidth&quot;: 300,\n",
       "});\n",
       "\n",
       "        \n",
       "            \n",
       "                var html_14056a585ff6bea9b737457b611e534d = $(`&lt;div id=&quot;html_14056a585ff6bea9b737457b611e534d&quot; style=&quot;width: 100.0%; height: 100.0%;&quot;&gt;&lt;i&gt;End&lt;/i&gt;&lt;BR&gt;2020/03/30 23:40&lt;BR&gt;Coord: &lt;a href=&quot;https://www.google.co.uk/maps/place/47.61919459883249,-122.29406903631472&quot; target=&quot;_blank&quot;&gt;47.6192, -122.2941&lt;/a&gt;&lt;/div&gt;`)[0];\n",
       "                popup_c5ced5966b0c6d797b64702c1a8b9b4c.setContent(html_14056a585ff6bea9b737457b611e534d);\n",
       "            \n",
       "        \n",
       "\n",
       "        marker_88219f7dd8b656a90128aeac24da1995.bindPopup(popup_c5ced5966b0c6d797b64702c1a8b9b4c)\n",
       "        ;\n",
       "\n",
       "        \n",
       "    \n",
       "&lt;/script&gt;\n",
       "&lt;/html&gt;\" style=\"position:absolute;width:100%;height:100%;left:0;top:0;border:none !important;\" allowfullscreen webkitallowfullscreen mozallowfullscreen></iframe></div></div>"
      ],
      "text/plain": [
       "<folium.folium.Map at 0x55c6a7ac0>"
      ]
     },
     "execution_count": 48,
     "metadata": {},
     "output_type": "execute_result"
    }
   ],
   "source": [
    "plotting_data = skmob.TrajDataFrame(person1, latitude='lat', datetime='datetime', user_id='uid')\n",
    "\n",
    "plotting_data.plot_trajectory(\n",
    "    zoom=12,\n",
    "    weight=3,\n",
    "    opacity=0.9,\n",
    "    max_users = 1,\n",
    "    max_points=None, #trajectories will be down-sampled to have at most `max_points` points.\n",
    "    tiles='OpenStreetMap'  # Built-in tile set, no attribution needed\n",
    ")"
   ]
  },
  {
   "cell_type": "markdown",
   "id": "8378d849",
   "metadata": {},
   "source": [
    "#"
   ]
  },
  {
   "cell_type": "markdown",
   "id": "ad4506f6",
   "metadata": {},
   "source": [
    "# Home location"
   ]
  },
  {
   "cell_type": "code",
   "execution_count": 49,
   "id": "fd593594",
   "metadata": {},
   "outputs": [
    {
     "name": "stdout",
     "output_type": "stream",
     "text": [
      "(4687481, 4)\n"
     ]
    },
    {
     "data": {
      "text/html": [
       "<div>\n",
       "<style scoped>\n",
       "    .dataframe tbody tr th:only-of-type {\n",
       "        vertical-align: middle;\n",
       "    }\n",
       "\n",
       "    .dataframe tbody tr th {\n",
       "        vertical-align: top;\n",
       "    }\n",
       "\n",
       "    .dataframe thead th {\n",
       "        text-align: right;\n",
       "    }\n",
       "</style>\n",
       "<table border=\"1\" class=\"dataframe\">\n",
       "  <thead>\n",
       "    <tr style=\"text-align: right;\">\n",
       "      <th></th>\n",
       "      <th>uid</th>\n",
       "      <th>datetime</th>\n",
       "      <th>lat</th>\n",
       "      <th>lng</th>\n",
       "    </tr>\n",
       "  </thead>\n",
       "  <tbody>\n",
       "    <tr>\n",
       "      <th>0</th>\n",
       "      <td>1</td>\n",
       "      <td>2020-03-01 00:00:00.000000</td>\n",
       "      <td>47.499024</td>\n",
       "      <td>-122.224862</td>\n",
       "    </tr>\n",
       "    <tr>\n",
       "      <th>1</th>\n",
       "      <td>1</td>\n",
       "      <td>2020-03-01 12:41:14.411882</td>\n",
       "      <td>47.500657</td>\n",
       "      <td>-122.220274</td>\n",
       "    </tr>\n",
       "    <tr>\n",
       "      <th>2</th>\n",
       "      <td>1</td>\n",
       "      <td>2020-03-01 14:11:23.605911</td>\n",
       "      <td>47.531125</td>\n",
       "      <td>-122.357910</td>\n",
       "    </tr>\n",
       "    <tr>\n",
       "      <th>3</th>\n",
       "      <td>1</td>\n",
       "      <td>2020-03-01 14:33:43.544832</td>\n",
       "      <td>47.500657</td>\n",
       "      <td>-122.220274</td>\n",
       "    </tr>\n",
       "    <tr>\n",
       "      <th>4</th>\n",
       "      <td>1</td>\n",
       "      <td>2020-03-01 14:53:52.198258</td>\n",
       "      <td>47.531125</td>\n",
       "      <td>-122.357910</td>\n",
       "    </tr>\n",
       "  </tbody>\n",
       "</table>\n",
       "</div>"
      ],
      "text/plain": [
       "   uid                   datetime        lat         lng\n",
       "0    1 2020-03-01 00:00:00.000000  47.499024 -122.224862\n",
       "1    1 2020-03-01 12:41:14.411882  47.500657 -122.220274\n",
       "2    1 2020-03-01 14:11:23.605911  47.531125 -122.357910\n",
       "3    1 2020-03-01 14:33:43.544832  47.500657 -122.220274\n",
       "4    1 2020-03-01 14:53:52.198258  47.531125 -122.357910"
      ]
     },
     "execution_count": 49,
     "metadata": {},
     "output_type": "execute_result"
    }
   ],
   "source": [
    "# now create a TrajDataFrame from the pandas DataFrame\n",
    "#tdf = skmob.TrajDataFrame(data, latitude='lat', datetime='datetime', user_id='uid')\n",
    "print(tdf.shape)\n",
    "tdf.head(5)"
   ]
  },
  {
   "cell_type": "code",
   "execution_count": 50,
   "id": "201fb128",
   "metadata": {},
   "outputs": [
    {
     "name": "stderr",
     "output_type": "stream",
     "text": [
      "100%|███████████████████████████████████| 10000/10000 [00:06<00:00, 1540.80it/s]\n"
     ]
    },
    {
     "data": {
      "text/html": [
       "<div>\n",
       "<style scoped>\n",
       "    .dataframe tbody tr th:only-of-type {\n",
       "        vertical-align: middle;\n",
       "    }\n",
       "\n",
       "    .dataframe tbody tr th {\n",
       "        vertical-align: top;\n",
       "    }\n",
       "\n",
       "    .dataframe thead th {\n",
       "        text-align: right;\n",
       "    }\n",
       "</style>\n",
       "<table border=\"1\" class=\"dataframe\">\n",
       "  <thead>\n",
       "    <tr style=\"text-align: right;\">\n",
       "      <th></th>\n",
       "      <th>uid</th>\n",
       "      <th>lat</th>\n",
       "      <th>lng</th>\n",
       "    </tr>\n",
       "  </thead>\n",
       "  <tbody>\n",
       "    <tr>\n",
       "      <th>0</th>\n",
       "      <td>1</td>\n",
       "      <td>47.619176</td>\n",
       "      <td>-122.299747</td>\n",
       "    </tr>\n",
       "    <tr>\n",
       "      <th>1</th>\n",
       "      <td>2</td>\n",
       "      <td>47.619195</td>\n",
       "      <td>-122.294069</td>\n",
       "    </tr>\n",
       "    <tr>\n",
       "      <th>2</th>\n",
       "      <td>3</td>\n",
       "      <td>47.200451</td>\n",
       "      <td>-122.306044</td>\n",
       "    </tr>\n",
       "    <tr>\n",
       "      <th>3</th>\n",
       "      <td>4</td>\n",
       "      <td>47.565443</td>\n",
       "      <td>-122.643190</td>\n",
       "    </tr>\n",
       "    <tr>\n",
       "      <th>4</th>\n",
       "      <td>5</td>\n",
       "      <td>45.703995</td>\n",
       "      <td>-122.698107</td>\n",
       "    </tr>\n",
       "  </tbody>\n",
       "</table>\n",
       "</div>"
      ],
      "text/plain": [
       "   uid        lat         lng\n",
       "0    1  47.619176 -122.299747\n",
       "1    2  47.619195 -122.294069\n",
       "2    3  47.200451 -122.306044\n",
       "3    4  47.565443 -122.643190\n",
       "4    5  45.703995 -122.698107"
      ]
     },
     "execution_count": 50,
     "metadata": {},
     "output_type": "execute_result"
    }
   ],
   "source": [
    "hl_df = home_location(tdf)\n",
    "hl_df.head(5)"
   ]
  },
  {
   "cell_type": "code",
   "execution_count": 51,
   "id": "6e3a0518",
   "metadata": {},
   "outputs": [],
   "source": [
    "hl_df.to_csv(\"Home_location_4Week_10000_WA_realpop.csv\")"
   ]
  },
  {
   "cell_type": "markdown",
   "id": "e3032123",
   "metadata": {},
   "source": [
    "#"
   ]
  },
  {
   "cell_type": "markdown",
   "id": "73dc51e5",
   "metadata": {},
   "source": [
    "# Jump Length"
   ]
  },
  {
   "cell_type": "markdown",
   "id": "e979cb38",
   "metadata": {},
   "source": [
    "# Note that the distance between New York and DC is 350 km"
   ]
  },
  {
   "cell_type": "code",
   "execution_count": 88,
   "id": "9a18734f",
   "metadata": {},
   "outputs": [],
   "source": [
    "from datetime import datetime"
   ]
  },
  {
   "cell_type": "code",
   "execution_count": 126,
   "id": "2171e117",
   "metadata": {},
   "outputs": [
    {
     "name": "stderr",
     "output_type": "stream",
     "text": [
      "100%|██████████████████████████████████████████| 10/10 [00:00<00:00, 628.77it/s]\n"
     ]
    },
    {
     "data": {
      "text/html": [
       "<div>\n",
       "<style scoped>\n",
       "    .dataframe tbody tr th:only-of-type {\n",
       "        vertical-align: middle;\n",
       "    }\n",
       "\n",
       "    .dataframe tbody tr th {\n",
       "        vertical-align: top;\n",
       "    }\n",
       "\n",
       "    .dataframe thead th {\n",
       "        text-align: right;\n",
       "    }\n",
       "</style>\n",
       "<table border=\"1\" class=\"dataframe\">\n",
       "  <thead>\n",
       "    <tr style=\"text-align: right;\">\n",
       "      <th></th>\n",
       "      <th>uid</th>\n",
       "      <th>jump_lengths</th>\n",
       "    </tr>\n",
       "  </thead>\n",
       "  <tbody>\n",
       "    <tr>\n",
       "      <th>0</th>\n",
       "      <td>1</td>\n",
       "      <td>[0.2561038712250646, 0.2561038712250646, 0.256...</td>\n",
       "    </tr>\n",
       "    <tr>\n",
       "      <th>1</th>\n",
       "      <td>2</td>\n",
       "      <td>[59.02797492659153, 115.90650699204521, 1.3258...</td>\n",
       "    </tr>\n",
       "    <tr>\n",
       "      <th>2</th>\n",
       "      <td>3</td>\n",
       "      <td>[0.6659448353588543, 0.6659448353588543, 2.877...</td>\n",
       "    </tr>\n",
       "    <tr>\n",
       "      <th>3</th>\n",
       "      <td>4</td>\n",
       "      <td>[0.15605342308444894, 0.9670434195587576, 0.96...</td>\n",
       "    </tr>\n",
       "    <tr>\n",
       "      <th>4</th>\n",
       "      <td>5</td>\n",
       "      <td>[1.4215395703928895, 1.4215395703928895, 1.421...</td>\n",
       "    </tr>\n",
       "    <tr>\n",
       "      <th>5</th>\n",
       "      <td>6</td>\n",
       "      <td>[7.079237154407477, 7.079237154407477, 7.07923...</td>\n",
       "    </tr>\n",
       "    <tr>\n",
       "      <th>6</th>\n",
       "      <td>7</td>\n",
       "      <td>[0.8644907819270017, 0.883044870607724, 0.8830...</td>\n",
       "    </tr>\n",
       "    <tr>\n",
       "      <th>7</th>\n",
       "      <td>8</td>\n",
       "      <td>[8.613839143345619, 8.613839143345619, 12.4831...</td>\n",
       "    </tr>\n",
       "    <tr>\n",
       "      <th>8</th>\n",
       "      <td>9</td>\n",
       "      <td>[0.07933230379341216, 0.5950621210474999, 0.59...</td>\n",
       "    </tr>\n",
       "    <tr>\n",
       "      <th>9</th>\n",
       "      <td>10</td>\n",
       "      <td>[0.7890410923882514, 0.7890410923882514, 38.27...</td>\n",
       "    </tr>\n",
       "  </tbody>\n",
       "</table>\n",
       "</div>"
      ],
      "text/plain": [
       "   uid                                       jump_lengths\n",
       "0    1  [0.2561038712250646, 0.2561038712250646, 0.256...\n",
       "1    2  [59.02797492659153, 115.90650699204521, 1.3258...\n",
       "2    3  [0.6659448353588543, 0.6659448353588543, 2.877...\n",
       "3    4  [0.15605342308444894, 0.9670434195587576, 0.96...\n",
       "4    5  [1.4215395703928895, 1.4215395703928895, 1.421...\n",
       "5    6  [7.079237154407477, 7.079237154407477, 7.07923...\n",
       "6    7  [0.8644907819270017, 0.883044870607724, 0.8830...\n",
       "7    8  [8.613839143345619, 8.613839143345619, 12.4831...\n",
       "8    9  [0.07933230379341216, 0.5950621210474999, 0.59...\n",
       "9   10  [0.7890410923882514, 0.7890410923882514, 38.27..."
      ]
     },
     "execution_count": 126,
     "metadata": {},
     "output_type": "execute_result"
    }
   ],
   "source": [
    "#jl_df = jump_lengths(tdf)\n",
    "jl_df = jump_lengths(tdf)\n",
    "jl_df"
   ]
  },
  {
   "cell_type": "code",
   "execution_count": 127,
   "id": "8f6fc1c7",
   "metadata": {},
   "outputs": [
    {
     "data": {
      "text/plain": [
       "[array([ 0.25610387,  0.25610387,  0.25610387,  0.25610387,  6.6004934 ,\n",
       "         6.85362275,  0.25610387,  0.25610387,  0.34817568,  0.34817568,\n",
       "         6.24268327,  6.24268327,  0.25610387,  0.38245928,  0.38245928,\n",
       "         0.38245928,  6.27781521,  6.85362275,  0.22751546,  0.20230309,\n",
       "         0.25610387,  0.25610387,  0.49098045,  0.49098045,  0.25610387,\n",
       "         0.25610387,  0.25610387,  0.25610387,  0.25610387,  0.22751546,\n",
       "         6.7344371 ,  2.17708607,  4.6153406 ,  0.49098045,  0.21500775,\n",
       "         0.39894456,  0.25610387,  0.22751546,  3.82778131,  3.82973093,\n",
       "         0.20230309,  6.7344371 ,  6.85362275,  0.25610387,  0.87647982,\n",
       "         1.09433626,  0.25610387,  0.23674823,  0.23674823,  0.25610387,\n",
       "         0.22751546,  0.57555722,  0.34817568,  6.85362275,  1.54582217,\n",
       "         0.57525716,  8.63873435,  6.85362275,  6.27781521,  0.62661359,\n",
       "         8.33871407,  0.27785578,  1.49262663,  8.95705219,  0.25610387,\n",
       "         0.22751546,  0.3780779 ,  0.61352135,  7.95306547,  7.61869208,\n",
       "         0.55641475,  0.55641475,  0.20230309,  6.7344371 ,  6.6004934 ,\n",
       "         0.23674823,  0.54098417,  1.40512409,  5.01131147,  7.45959693,\n",
       "         5.98378881,  9.1515326 ,  0.21500775,  0.49098045,  0.25610387,\n",
       "         5.51112116,  5.51112116,  0.86005543,  1.02010178,  0.20230309,\n",
       "         0.20230309,  0.20230309,  0.20230309,  6.6004934 ,  9.88267654,\n",
       "         3.82973093,  0.23674823,  8.91876751,  1.03783817,  7.91921425,\n",
       "         0.25610387,  8.71837854, 15.04426239,  6.85362275,  6.42662996,\n",
       "         2.27884176, 15.5715151 , 45.65676933, 26.29553832,  0.23367146])]"
      ]
     },
     "execution_count": 127,
     "metadata": {},
     "output_type": "execute_result"
    }
   ],
   "source": [
    "all_distance = jl_df['jump_lengths'].tolist()\n",
    "all_distance[:1]"
   ]
  },
  {
   "cell_type": "code",
   "execution_count": 128,
   "id": "ba37fc86",
   "metadata": {},
   "outputs": [
    {
     "data": {
      "text/plain": [
       "[0.2561038712250646,\n",
       " 0.2561038712250646,\n",
       " 0.2561038712250646,\n",
       " 0.2561038712250646,\n",
       " 6.6004933968777015,\n",
       " 6.853622754389299,\n",
       " 0.2561038712250646,\n",
       " 0.2561038712250646,\n",
       " 0.3481756807415534,\n",
       " 0.3481756807415534]"
      ]
     },
     "execution_count": 128,
     "metadata": {},
     "output_type": "execute_result"
    }
   ],
   "source": [
    "full_list = [item for sublist in all_distance for item in sublist.tolist()]\n",
    "full_list[:10]"
   ]
  },
  {
   "cell_type": "code",
   "execution_count": 129,
   "id": "a3808622",
   "metadata": {},
   "outputs": [
    {
     "name": "stdout",
     "output_type": "stream",
     "text": [
      "Mean: 18.071017160841336\n",
      "Median: 2.529937635109233\n",
      "Min: 0.041817694375588285\n",
      "Max: 399.2628146864066\n"
     ]
    }
   ],
   "source": [
    "# Calculations\n",
    "import statistics\n",
    "import builtins\n",
    "\n",
    "data = full_list\n",
    "mean_value = builtins.sum(data) / len(full_list)  # Mean\n",
    "median_value = statistics.median(data)  # Median\n",
    "min_value = min(data)  # Min\n",
    "max_value = max(data)  # Max\n",
    "\n",
    "# Output\n",
    "print(f\"Mean: {mean_value}\")\n",
    "print(f\"Median: {median_value}\")\n",
    "print(f\"Min: {min_value}\")\n",
    "print(f\"Max: {max_value}\")"
   ]
  },
  {
   "cell_type": "code",
   "execution_count": 130,
   "id": "6425f6a7",
   "metadata": {},
   "outputs": [
    {
     "data": {
      "image/png": "[encoded data removed]",
      "text/plain": [
       "<Figure size 640x480 with 1 Axes>"
      ]
     },
     "metadata": {},
     "output_type": "display_data"
    }
   ],
   "source": [
    "import matplotlib.pyplot as plt\n",
    "import seaborn as sns\n",
    "\n",
    "# Create the density plot\n",
    "sns.kdeplot(full_list, fill=True)  # 'fill=True' adds shading\n",
    "\n",
    "# Show the plot\n",
    "plt.xlabel(\"Value\")\n",
    "plt.ylabel(\"Density\")\n",
    "plt.title(\"Density Plot\")\n",
    "plt.show()"
   ]
  },
  {
   "cell_type": "markdown",
   "id": "d2d4a424",
   "metadata": {},
   "source": [
    "#"
   ]
  },
  {
   "cell_type": "markdown",
   "id": "84ed7047",
   "metadata": {},
   "source": [
    "# Summary statistics"
   ]
  },
  {
   "cell_type": "code",
   "execution_count": 131,
   "id": "fd6352d9",
   "metadata": {},
   "outputs": [
    {
     "name": "stdout",
     "output_type": "stream",
     "text": [
      "(111, 4)\n"
     ]
    },
    {
     "data": {
      "text/html": [
       "<div>\n",
       "<style scoped>\n",
       "    .dataframe tbody tr th:only-of-type {\n",
       "        vertical-align: middle;\n",
       "    }\n",
       "\n",
       "    .dataframe tbody tr th {\n",
       "        vertical-align: top;\n",
       "    }\n",
       "\n",
       "    .dataframe thead th {\n",
       "        text-align: right;\n",
       "    }\n",
       "</style>\n",
       "<table border=\"1\" class=\"dataframe\">\n",
       "  <thead>\n",
       "    <tr style=\"text-align: right;\">\n",
       "      <th></th>\n",
       "      <th>uid</th>\n",
       "      <th>datetime</th>\n",
       "      <th>lat</th>\n",
       "      <th>lng</th>\n",
       "    </tr>\n",
       "  </thead>\n",
       "  <tbody>\n",
       "    <tr>\n",
       "      <th>0</th>\n",
       "      <td>1</td>\n",
       "      <td>2020-03-01 00:00:00.000000</td>\n",
       "      <td>40.918467</td>\n",
       "      <td>-73.897659</td>\n",
       "    </tr>\n",
       "    <tr>\n",
       "      <th>1</th>\n",
       "      <td>1</td>\n",
       "      <td>2020-03-01 00:46:58.042714</td>\n",
       "      <td>40.916533</td>\n",
       "      <td>-73.899313</td>\n",
       "    </tr>\n",
       "    <tr>\n",
       "      <th>2</th>\n",
       "      <td>1</td>\n",
       "      <td>2020-03-01 01:18:06.557419</td>\n",
       "      <td>40.918467</td>\n",
       "      <td>-73.897659</td>\n",
       "    </tr>\n",
       "    <tr>\n",
       "      <th>3</th>\n",
       "      <td>1</td>\n",
       "      <td>2020-03-01 01:39:48.042886</td>\n",
       "      <td>40.916533</td>\n",
       "      <td>-73.899313</td>\n",
       "    </tr>\n",
       "    <tr>\n",
       "      <th>4</th>\n",
       "      <td>1</td>\n",
       "      <td>2020-03-01 02:07:31.745488</td>\n",
       "      <td>40.918467</td>\n",
       "      <td>-73.897659</td>\n",
       "    </tr>\n",
       "  </tbody>\n",
       "</table>\n",
       "</div>"
      ],
      "text/plain": [
       "   uid                   datetime        lat        lng\n",
       "0    1 2020-03-01 00:00:00.000000  40.918467 -73.897659\n",
       "1    1 2020-03-01 00:46:58.042714  40.916533 -73.899313\n",
       "2    1 2020-03-01 01:18:06.557419  40.918467 -73.897659\n",
       "3    1 2020-03-01 01:39:48.042886  40.916533 -73.899313\n",
       "4    1 2020-03-01 02:07:31.745488  40.918467 -73.897659"
      ]
     },
     "execution_count": 131,
     "metadata": {},
     "output_type": "execute_result"
    }
   ],
   "source": [
    "print(person1.shape)\n",
    "person1.head()"
   ]
  },
  {
   "cell_type": "code",
   "execution_count": 132,
   "id": "a3e2cfc8",
   "metadata": {},
   "outputs": [],
   "source": [
    "datetime_list = person1['datetime'].tolist()"
   ]
  },
  {
   "cell_type": "code",
   "execution_count": 133,
   "id": "867a4711",
   "metadata": {},
   "outputs": [
    {
     "data": {
      "text/plain": [
       "0.7827896427777778"
      ]
     },
     "execution_count": 133,
     "metadata": {},
     "output_type": "execute_result"
    }
   ],
   "source": [
    "t1 = datetime_list[0]\n",
    "t2 = datetime_list[1]\n",
    "lmda_t = t2 - t1\n",
    "lmda_t\n",
    "#time1 = datetime.strptime(t1, \"%Y-%m-%d %H:%M:%S.%f\")\n",
    "#time2 = datetime.strptime(t2, \"%Y-%m-%d %H:%M:%S.%f\")\n",
    "#lmda_t = time2 - time1\n",
    "#total_hour = lmda_t/3600\n",
    "\n",
    "total_hour = lmda_t.total_seconds()/3600\n",
    "total_hour"
   ]
  },
  {
   "cell_type": "code",
   "execution_count": 134,
   "id": "72f7b5a6",
   "metadata": {},
   "outputs": [],
   "source": [
    "interval = []\n",
    "datetime_list = person1['datetime'].tolist()\n",
    "\n",
    "for i in range(len(datetime_list) -1):\n",
    "    t1 = datetime_list[i]\n",
    "    t2 = datetime_list[i+1]\n",
    "    #time1 = datetime.strptime(t1, \"%Y-%m-%d %H:%M:%S.%f\")\n",
    "    #time2 = datetime.strptime(t2, \"%Y-%m-%d %H:%M:%S.%f\")\n",
    "    #lmda_t = time2 - time1\n",
    "    lmda_t = t2 - t1\n",
    "    total_hour = lmda_t.total_seconds()/3600\n",
    "    interval.append(total_hour)"
   ]
  },
  {
   "cell_type": "code",
   "execution_count": 135,
   "id": "128e2ab9",
   "metadata": {},
   "outputs": [
    {
     "name": "stdout",
     "output_type": "stream",
     "text": [
      "110\n"
     ]
    }
   ],
   "source": [
    "print(len(interval))"
   ]
  },
  {
   "cell_type": "code",
   "execution_count": 136,
   "id": "d2c264ff",
   "metadata": {},
   "outputs": [
    {
     "name": "stdout",
     "output_type": "stream",
     "text": [
      "110\n"
     ]
    }
   ],
   "source": [
    "list_distance = jl_df.iloc[0,1]\n",
    "print(len(list_distance))"
   ]
  },
  {
   "cell_type": "code",
   "execution_count": 137,
   "id": "681b887a",
   "metadata": {},
   "outputs": [],
   "source": [
    "#list_distance"
   ]
  },
  {
   "cell_type": "code",
   "execution_count": 138,
   "id": "98dab251",
   "metadata": {},
   "outputs": [
    {
     "data": {
      "text/html": [
       "<div>\n",
       "<style scoped>\n",
       "    .dataframe tbody tr th:only-of-type {\n",
       "        vertical-align: middle;\n",
       "    }\n",
       "\n",
       "    .dataframe tbody tr th {\n",
       "        vertical-align: top;\n",
       "    }\n",
       "\n",
       "    .dataframe thead th {\n",
       "        text-align: right;\n",
       "    }\n",
       "</style>\n",
       "<table border=\"1\" class=\"dataframe\">\n",
       "  <thead>\n",
       "    <tr style=\"text-align: right;\">\n",
       "      <th></th>\n",
       "      <th>Interval</th>\n",
       "      <th>Distance</th>\n",
       "      <th>v</th>\n",
       "    </tr>\n",
       "  </thead>\n",
       "  <tbody>\n",
       "    <tr>\n",
       "      <th>0</th>\n",
       "      <td>0.782790</td>\n",
       "      <td>0.256104</td>\n",
       "      <td>0.327168</td>\n",
       "    </tr>\n",
       "    <tr>\n",
       "      <th>1</th>\n",
       "      <td>0.519032</td>\n",
       "      <td>0.256104</td>\n",
       "      <td>0.493426</td>\n",
       "    </tr>\n",
       "    <tr>\n",
       "      <th>2</th>\n",
       "      <td>0.361524</td>\n",
       "      <td>0.256104</td>\n",
       "      <td>0.708401</td>\n",
       "    </tr>\n",
       "    <tr>\n",
       "      <th>3</th>\n",
       "      <td>0.462140</td>\n",
       "      <td>0.256104</td>\n",
       "      <td>0.554170</td>\n",
       "    </tr>\n",
       "    <tr>\n",
       "      <th>4</th>\n",
       "      <td>1.207447</td>\n",
       "      <td>6.600493</td>\n",
       "      <td>5.466488</td>\n",
       "    </tr>\n",
       "  </tbody>\n",
       "</table>\n",
       "</div>"
      ],
      "text/plain": [
       "   Interval  Distance         v\n",
       "0  0.782790  0.256104  0.327168\n",
       "1  0.519032  0.256104  0.493426\n",
       "2  0.361524  0.256104  0.708401\n",
       "3  0.462140  0.256104  0.554170\n",
       "4  1.207447  6.600493  5.466488"
      ]
     },
     "execution_count": 138,
     "metadata": {},
     "output_type": "execute_result"
    }
   ],
   "source": [
    "df = pd.DataFrame({'Interval': interval, 'Distance':list_distance}) \n",
    "df['v'] = df['Distance']/df['Interval']\n",
    "df.head(5)"
   ]
  },
  {
   "cell_type": "code",
   "execution_count": 139,
   "id": "204143ef",
   "metadata": {
    "scrolled": true
   },
   "outputs": [
    {
     "name": "stdout",
     "output_type": "stream",
     "text": [
      "(111, 3)\n"
     ]
    },
    {
     "data": {
      "text/html": [
       "<div>\n",
       "<style scoped>\n",
       "    .dataframe tbody tr th:only-of-type {\n",
       "        vertical-align: middle;\n",
       "    }\n",
       "\n",
       "    .dataframe tbody tr th {\n",
       "        vertical-align: top;\n",
       "    }\n",
       "\n",
       "    .dataframe thead th {\n",
       "        text-align: right;\n",
       "    }\n",
       "</style>\n",
       "<table border=\"1\" class=\"dataframe\">\n",
       "  <thead>\n",
       "    <tr style=\"text-align: right;\">\n",
       "      <th></th>\n",
       "      <th>Interval</th>\n",
       "      <th>Distance</th>\n",
       "      <th>v</th>\n",
       "    </tr>\n",
       "  </thead>\n",
       "  <tbody>\n",
       "    <tr>\n",
       "      <th>0</th>\n",
       "      <td>na</td>\n",
       "      <td>na</td>\n",
       "      <td>na</td>\n",
       "    </tr>\n",
       "    <tr>\n",
       "      <th>1</th>\n",
       "      <td>0.78279</td>\n",
       "      <td>0.256104</td>\n",
       "      <td>0.327168</td>\n",
       "    </tr>\n",
       "    <tr>\n",
       "      <th>2</th>\n",
       "      <td>0.519032</td>\n",
       "      <td>0.256104</td>\n",
       "      <td>0.493426</td>\n",
       "    </tr>\n",
       "    <tr>\n",
       "      <th>3</th>\n",
       "      <td>0.361524</td>\n",
       "      <td>0.256104</td>\n",
       "      <td>0.708401</td>\n",
       "    </tr>\n",
       "    <tr>\n",
       "      <th>4</th>\n",
       "      <td>0.46214</td>\n",
       "      <td>0.256104</td>\n",
       "      <td>0.55417</td>\n",
       "    </tr>\n",
       "  </tbody>\n",
       "</table>\n",
       "</div>"
      ],
      "text/plain": [
       "   Interval  Distance         v\n",
       "0        na        na        na\n",
       "1   0.78279  0.256104  0.327168\n",
       "2  0.519032  0.256104  0.493426\n",
       "3  0.361524  0.256104  0.708401\n",
       "4   0.46214  0.256104   0.55417"
      ]
     },
     "execution_count": 139,
     "metadata": {},
     "output_type": "execute_result"
    }
   ],
   "source": [
    "df.loc[-1] = ['na', 'na','na']  # Add new row at index -1\n",
    "df = df.sort_index().reset_index(drop=True)  # Reset index\n",
    "print(df.shape)\n",
    "df.head()"
   ]
  },
  {
   "cell_type": "code",
   "execution_count": 140,
   "id": "ab99e8e4",
   "metadata": {},
   "outputs": [
    {
     "data": {
      "text/html": [
       "<div>\n",
       "<style scoped>\n",
       "    .dataframe tbody tr th:only-of-type {\n",
       "        vertical-align: middle;\n",
       "    }\n",
       "\n",
       "    .dataframe tbody tr th {\n",
       "        vertical-align: top;\n",
       "    }\n",
       "\n",
       "    .dataframe thead th {\n",
       "        text-align: right;\n",
       "    }\n",
       "</style>\n",
       "<table border=\"1\" class=\"dataframe\">\n",
       "  <thead>\n",
       "    <tr style=\"text-align: right;\">\n",
       "      <th></th>\n",
       "      <th>uid</th>\n",
       "      <th>datetime</th>\n",
       "      <th>lat</th>\n",
       "      <th>lng</th>\n",
       "      <th>Interval</th>\n",
       "      <th>Distance</th>\n",
       "      <th>v</th>\n",
       "    </tr>\n",
       "  </thead>\n",
       "  <tbody>\n",
       "    <tr>\n",
       "      <th>0</th>\n",
       "      <td>1</td>\n",
       "      <td>2020-03-01 00:00:00.000000</td>\n",
       "      <td>40.918467</td>\n",
       "      <td>-73.897659</td>\n",
       "      <td>na</td>\n",
       "      <td>na</td>\n",
       "      <td>na</td>\n",
       "    </tr>\n",
       "    <tr>\n",
       "      <th>1</th>\n",
       "      <td>1</td>\n",
       "      <td>2020-03-01 00:46:58.042714</td>\n",
       "      <td>40.916533</td>\n",
       "      <td>-73.899313</td>\n",
       "      <td>0.78279</td>\n",
       "      <td>0.256104</td>\n",
       "      <td>0.327168</td>\n",
       "    </tr>\n",
       "    <tr>\n",
       "      <th>2</th>\n",
       "      <td>1</td>\n",
       "      <td>2020-03-01 01:18:06.557419</td>\n",
       "      <td>40.918467</td>\n",
       "      <td>-73.897659</td>\n",
       "      <td>0.519032</td>\n",
       "      <td>0.256104</td>\n",
       "      <td>0.493426</td>\n",
       "    </tr>\n",
       "    <tr>\n",
       "      <th>3</th>\n",
       "      <td>1</td>\n",
       "      <td>2020-03-01 01:39:48.042886</td>\n",
       "      <td>40.916533</td>\n",
       "      <td>-73.899313</td>\n",
       "      <td>0.361524</td>\n",
       "      <td>0.256104</td>\n",
       "      <td>0.708401</td>\n",
       "    </tr>\n",
       "    <tr>\n",
       "      <th>4</th>\n",
       "      <td>1</td>\n",
       "      <td>2020-03-01 02:07:31.745488</td>\n",
       "      <td>40.918467</td>\n",
       "      <td>-73.897659</td>\n",
       "      <td>0.46214</td>\n",
       "      <td>0.256104</td>\n",
       "      <td>0.55417</td>\n",
       "    </tr>\n",
       "  </tbody>\n",
       "</table>\n",
       "</div>"
      ],
      "text/plain": [
       "   uid                   datetime        lat        lng  Interval  Distance  \\\n",
       "0    1 2020-03-01 00:00:00.000000  40.918467 -73.897659        na        na   \n",
       "1    1 2020-03-01 00:46:58.042714  40.916533 -73.899313   0.78279  0.256104   \n",
       "2    1 2020-03-01 01:18:06.557419  40.918467 -73.897659  0.519032  0.256104   \n",
       "3    1 2020-03-01 01:39:48.042886  40.916533 -73.899313  0.361524  0.256104   \n",
       "4    1 2020-03-01 02:07:31.745488  40.918467 -73.897659   0.46214  0.256104   \n",
       "\n",
       "          v  \n",
       "0        na  \n",
       "1  0.327168  \n",
       "2  0.493426  \n",
       "3  0.708401  \n",
       "4   0.55417  "
      ]
     },
     "execution_count": 140,
     "metadata": {},
     "output_type": "execute_result"
    }
   ],
   "source": [
    "person_update = pd.concat([person1, df], axis = 1)\n",
    "person_update.head(5)"
   ]
  },
  {
   "cell_type": "code",
   "execution_count": 141,
   "id": "623ad4a3",
   "metadata": {},
   "outputs": [
    {
     "data": {
      "text/html": [
       "<div>\n",
       "<style scoped>\n",
       "    .dataframe tbody tr th:only-of-type {\n",
       "        vertical-align: middle;\n",
       "    }\n",
       "\n",
       "    .dataframe tbody tr th {\n",
       "        vertical-align: top;\n",
       "    }\n",
       "\n",
       "    .dataframe thead th {\n",
       "        text-align: right;\n",
       "    }\n",
       "</style>\n",
       "<table border=\"1\" class=\"dataframe\">\n",
       "  <thead>\n",
       "    <tr style=\"text-align: right;\">\n",
       "      <th></th>\n",
       "      <th>uid</th>\n",
       "      <th>datetime</th>\n",
       "      <th>hour</th>\n",
       "      <th>lat</th>\n",
       "      <th>lng</th>\n",
       "      <th>Interval</th>\n",
       "      <th>Distance</th>\n",
       "      <th>v</th>\n",
       "    </tr>\n",
       "  </thead>\n",
       "  <tbody>\n",
       "    <tr>\n",
       "      <th>0</th>\n",
       "      <td>1</td>\n",
       "      <td>2020-03-01 00:00:00.000000</td>\n",
       "      <td>0</td>\n",
       "      <td>40.918467</td>\n",
       "      <td>-73.897659</td>\n",
       "      <td>na</td>\n",
       "      <td>na</td>\n",
       "      <td>na</td>\n",
       "    </tr>\n",
       "    <tr>\n",
       "      <th>1</th>\n",
       "      <td>1</td>\n",
       "      <td>2020-03-01 00:46:58.042714</td>\n",
       "      <td>0</td>\n",
       "      <td>40.916533</td>\n",
       "      <td>-73.899313</td>\n",
       "      <td>0.78279</td>\n",
       "      <td>0.256104</td>\n",
       "      <td>0.327168</td>\n",
       "    </tr>\n",
       "    <tr>\n",
       "      <th>2</th>\n",
       "      <td>1</td>\n",
       "      <td>2020-03-01 01:18:06.557419</td>\n",
       "      <td>1</td>\n",
       "      <td>40.918467</td>\n",
       "      <td>-73.897659</td>\n",
       "      <td>0.519032</td>\n",
       "      <td>0.256104</td>\n",
       "      <td>0.493426</td>\n",
       "    </tr>\n",
       "  </tbody>\n",
       "</table>\n",
       "</div>"
      ],
      "text/plain": [
       "   uid                   datetime  hour        lat        lng  Interval  \\\n",
       "0    1 2020-03-01 00:00:00.000000     0  40.918467 -73.897659        na   \n",
       "1    1 2020-03-01 00:46:58.042714     0  40.916533 -73.899313   0.78279   \n",
       "2    1 2020-03-01 01:18:06.557419     1  40.918467 -73.897659  0.519032   \n",
       "\n",
       "   Distance         v  \n",
       "0        na        na  \n",
       "1  0.256104  0.327168  \n",
       "2  0.256104  0.493426  "
      ]
     },
     "execution_count": 141,
     "metadata": {},
     "output_type": "execute_result"
    }
   ],
   "source": [
    "# Convert to datetime\n",
    "person_update['datetime'] = pd.to_datetime(person_update['datetime'])\n",
    "\n",
    "# Extract hour\n",
    "person_update.insert(2, 'hour', person_update['datetime'].dt.hour)\n",
    "person_update.head(3)"
   ]
  },
  {
   "cell_type": "code",
   "execution_count": 145,
   "id": "2709ae0d",
   "metadata": {},
   "outputs": [],
   "source": [
    "working = person_update.iloc[1:]\n",
    "group_by_hour = working.groupby('hour', as_index = False)['Distance'].median() #Can also do reset_index\n",
    "#group_by_hour.head(30)"
   ]
  },
  {
   "cell_type": "code",
   "execution_count": 146,
   "id": "9cb160a5",
   "metadata": {},
   "outputs": [
    {
     "data": {
      "image/png": "[encoded data removed]",
      "text/plain": [
       "<Figure size 800x500 with 1 Axes>"
      ]
     },
     "metadata": {},
     "output_type": "display_data"
    }
   ],
   "source": [
    "import pandas as pd\n",
    "import matplotlib.pyplot as plt\n",
    "\n",
    "# Plot\n",
    "plt.figure(figsize=(8,5))  # Set figure size\n",
    "plt.plot(group_by_hour['hour'], group_by_hour['Distance'], marker='o', linestyle='-', color='b', label=\"Value\")\n",
    "\n",
    "# Labels and title\n",
    "plt.xlabel(\"Hour\")\n",
    "plt.ylabel(\"Value\")\n",
    "plt.title(\"Line Chart Example\")\n",
    "\n",
    "plt.show()"
   ]
  },
  {
   "cell_type": "markdown",
   "id": "1266c28e",
   "metadata": {},
   "source": [
    "### Visualizations"
   ]
  },
  {
   "cell_type": "code",
   "execution_count": 147,
   "id": "1cc535c5",
   "metadata": {},
   "outputs": [
    {
     "data": {
      "text/html": [
       "<div>\n",
       "<style scoped>\n",
       "    .dataframe tbody tr th:only-of-type {\n",
       "        vertical-align: middle;\n",
       "    }\n",
       "\n",
       "    .dataframe tbody tr th {\n",
       "        vertical-align: top;\n",
       "    }\n",
       "\n",
       "    .dataframe thead th {\n",
       "        text-align: right;\n",
       "    }\n",
       "</style>\n",
       "<table border=\"1\" class=\"dataframe\">\n",
       "  <thead>\n",
       "    <tr style=\"text-align: right;\">\n",
       "      <th></th>\n",
       "      <th>uid</th>\n",
       "      <th>datetime</th>\n",
       "      <th>hour</th>\n",
       "      <th>lat</th>\n",
       "      <th>lng</th>\n",
       "      <th>Interval</th>\n",
       "      <th>Distance</th>\n",
       "      <th>v</th>\n",
       "    </tr>\n",
       "  </thead>\n",
       "  <tbody>\n",
       "    <tr>\n",
       "      <th>1</th>\n",
       "      <td>1</td>\n",
       "      <td>2020-03-01 00:46:58.042714</td>\n",
       "      <td>0</td>\n",
       "      <td>40.916533</td>\n",
       "      <td>-73.899313</td>\n",
       "      <td>0.78279</td>\n",
       "      <td>0.256104</td>\n",
       "      <td>0.327168</td>\n",
       "    </tr>\n",
       "    <tr>\n",
       "      <th>2</th>\n",
       "      <td>1</td>\n",
       "      <td>2020-03-01 01:18:06.557419</td>\n",
       "      <td>1</td>\n",
       "      <td>40.918467</td>\n",
       "      <td>-73.897659</td>\n",
       "      <td>0.519032</td>\n",
       "      <td>0.256104</td>\n",
       "      <td>0.493426</td>\n",
       "    </tr>\n",
       "    <tr>\n",
       "      <th>3</th>\n",
       "      <td>1</td>\n",
       "      <td>2020-03-01 01:39:48.042886</td>\n",
       "      <td>1</td>\n",
       "      <td>40.916533</td>\n",
       "      <td>-73.899313</td>\n",
       "      <td>0.361524</td>\n",
       "      <td>0.256104</td>\n",
       "      <td>0.708401</td>\n",
       "    </tr>\n",
       "  </tbody>\n",
       "</table>\n",
       "</div>"
      ],
      "text/plain": [
       "   uid                   datetime  hour        lat        lng  Interval  \\\n",
       "1    1 2020-03-01 00:46:58.042714     0  40.916533 -73.899313   0.78279   \n",
       "2    1 2020-03-01 01:18:06.557419     1  40.918467 -73.897659  0.519032   \n",
       "3    1 2020-03-01 01:39:48.042886     1  40.916533 -73.899313  0.361524   \n",
       "\n",
       "   Distance         v  \n",
       "1  0.256104  0.327168  \n",
       "2  0.256104  0.493426  \n",
       "3  0.256104  0.708401  "
      ]
     },
     "execution_count": 147,
     "metadata": {},
     "output_type": "execute_result"
    }
   ],
   "source": [
    "working.head(3)"
   ]
  },
  {
   "cell_type": "code",
   "execution_count": 148,
   "id": "c0806fb9",
   "metadata": {},
   "outputs": [
    {
     "data": {
      "image/png": "[encoded data removed]",
      "text/plain": [
       "<Figure size 640x480 with 1 Axes>"
      ]
     },
     "metadata": {},
     "output_type": "display_data"
    },
    {
     "name": "stdout",
     "output_type": "stream",
     "text": [
      "Mean: 4.793208899465919\n",
      "Median: 0.7226649734424657\n",
      "Max: 43.38611884719171\n",
      "25th Percentile: 0.3337897643622517\n",
      "75th Percentile: 5.679839724962889\n"
     ]
    }
   ],
   "source": [
    "import pandas as pd\n",
    "import seaborn as sns\n",
    "import matplotlib.pyplot as plt\n",
    "\n",
    "# Plot density plot\n",
    "sns.kdeplot(working['v'], fill=True)  # `fill=True` fills the area under the curve\n",
    "\n",
    "# Customize plot\n",
    "plt.xlabel('Verlocity')\n",
    "plt.ylabel('Density')\n",
    "plt.title('Density Plot of Verlocity')\n",
    "plt.show()\n",
    "\n",
    "import numpy as np\n",
    "\n",
    "# Example list\n",
    "sum_data = working['v'].tolist()\n",
    "\n",
    "# Compute statistics\n",
    "mean_val = np.mean(sum_data)\n",
    "median_val = np.median(sum_data)\n",
    "max_val = np.max(sum_data)\n",
    "percentile_25 = np.percentile(sum_data, 25)\n",
    "percentile_75 = np.percentile(sum_data, 75)\n",
    "\n",
    "# Print results\n",
    "print(f\"Mean: {mean_val}\")\n",
    "print(f\"Median: {median_val}\")\n",
    "print(f\"Max: {max_val}\")\n",
    "print(f\"25th Percentile: {percentile_25}\")\n",
    "print(f\"75th Percentile: {percentile_75}\")\n"
   ]
  },
  {
   "cell_type": "markdown",
   "id": "de7bd252",
   "metadata": {},
   "source": [
    "#"
   ]
  },
  {
   "cell_type": "markdown",
   "id": "6f3243d5",
   "metadata": {},
   "source": [
    "# Function\n",
    "\n",
    "- Note that you must create the jl_df to run the functions!"
   ]
  },
  {
   "cell_type": "code",
   "execution_count": 51,
   "id": "0a9ffc41",
   "metadata": {},
   "outputs": [],
   "source": [
    "# Summary Statistics Function\n",
    "\n",
    "def speed_plotting(a):\n",
    "    \n",
    "    #Creating the data for this person\n",
    "    person_sub = data[data[\"uid\"] == a].copy().reset_index()\n",
    "    \n",
    "    #retreving the distance list from jl\n",
    "    list_distance = jl_df.iloc[a-1,1].tolist()\n",
    "    \n",
    "    #Making the interval list\n",
    "    interval = []\n",
    "    datetime_list = person_sub['datetime'].tolist()\n",
    "    \n",
    "    for i in range(len(datetime_list) -1):\n",
    "        t1 = datetime_list[i]\n",
    "        t2 = datetime_list[i+1]\n",
    "        time1 = datetime.strptime(t1, \"%Y-%m-%d %H:%M:%S.%f\")\n",
    "        time2 = datetime.strptime(t2, \"%Y-%m-%d %H:%M:%S.%f\")\n",
    "        lmda_t = time2 - time1\n",
    "        total_hour = lmda_t.total_seconds()/3600\n",
    "        interval.append(total_hour)\n",
    "        \n",
    "    #Turn time interval and distance into a dataframe\n",
    "    df = pd.DataFrame({'Interval': interval, 'Distance':list_distance}) \n",
    "    df['v'] = df['Distance']/df['Interval']\n",
    "    sum_data = df['v'].tolist()\n",
    "   \n",
    "    #Create Visualizaion-------------------------------------------------------------------------\n",
    "    #Density plot of all distance travelled\n",
    "    sns.kdeplot(df['v'], fill=True)  # `fill=True` fills the area under the curve\n",
    "    plt.xlabel('Verlocity')\n",
    "    plt.ylabel('Density')\n",
    "    plt.title('Density Plot of Verlocity')\n",
    "    plt.show()\n",
    "    \n",
    "    #Printing summary statistics\n",
    "    mean_val = np.mean(sum_data)\n",
    "    median_val = np.median(sum_data)\n",
    "    max_val = np.max(sum_data)\n",
    "    percentile_25 = np.percentile(sum_data, 25)\n",
    "    percentile_75 = np.percentile(sum_data, 75)\n",
    "    \n",
    "    # Print results\n",
    "    print(f\"Mean: {mean_val}\")\n",
    "    print(f\"Median: {median_val}\")\n",
    "    print(f\"Max: {max_val}\")\n",
    "    print(f\"25th Percentile: {percentile_25}\")\n",
    "    print(f\"75th Percentile: {percentile_75}\")\n",
    "    "
   ]
  },
  {
   "cell_type": "code",
   "execution_count": 19,
   "id": "41503478",
   "metadata": {},
   "outputs": [],
   "source": [
    "def hour_distance_plotting(a):\n",
    "    \n",
    "    #Creating the data for this person\n",
    "    person_sub = data[data[\"uid\"] == a].copy().reset_index()\n",
    "    \n",
    "    #retreving the distance list from jl\n",
    "    list_distance = jl_df.iloc[a-1,1].tolist()\n",
    "    \n",
    "    #Making the interval list\n",
    "    interval = []\n",
    "    datetime_list = person_sub['datetime'].tolist()\n",
    "    \n",
    "    for i in range(len(datetime_list) -1):\n",
    "        t1 = datetime_list[i]\n",
    "        t2 = datetime_list[i+1]\n",
    "        time1 = datetime.strptime(t1, \"%Y-%m-%d %H:%M:%S.%f\")\n",
    "        time2 = datetime.strptime(t2, \"%Y-%m-%d %H:%M:%S.%f\")\n",
    "        lmda_t = time2 - time1\n",
    "        total_hour = lmda_t.total_seconds()/3600\n",
    "        interval.append(total_hour)\n",
    "        \n",
    "    #Turn time interval and distance into a dataframe\n",
    "    df = pd.DataFrame({'Interval': interval, 'Distance':list_distance}) \n",
    "    df['v'] = df['Distance']/df['Interval']\n",
    "    sum_data = df['v'].tolist()\n",
    "    \n",
    "    df.loc[-1] = ['na', 'na','na']  # Add new row at index -1\n",
    "    df = df.sort_index().reset_index(drop=True)  # Reset index\n",
    "    person_update = pd.concat([person_sub, df], axis = 1) #concatenation\n",
    "    \n",
    "    # Convert to datetime\n",
    "    person_update['datetime'] = pd.to_datetime(person_update['datetime'])\n",
    "    \n",
    "    # Extract hour\n",
    "    person_update.insert(2, 'hour', person_update['datetime'].dt.hour)\n",
    "    \n",
    "    #Take only the person data that contains numeric info\n",
    "    working = person_update.iloc[1:]\n",
    "    group_by_hour = working.groupby('hour', as_index = False)['Distance'].median() #Can also do reset_index\n",
    "    \n",
    "    #return group_by_hour\n",
    "   \n",
    "    #Create Visualizaion-------------------------------------------------------------------------\n",
    "    \n",
    "    #By hour median distance travelled\n",
    "    plt.figure(figsize=(8,5))  # Set figure size\n",
    "    plt.plot(group_by_hour['hour'], group_by_hour['Distance'], marker='o', linestyle='-', color='b', label=\"Value\")\n",
    "    \n",
    "    # Labels and title\n",
    "    plt.xlabel(\"Date\")\n",
    "    plt.ylabel(\"Value\")\n",
    "    plt.title(\"Line Chart Example\")"
   ]
  },
  {
   "cell_type": "code",
   "execution_count": 52,
   "id": "f30c71af",
   "metadata": {},
   "outputs": [
    {
     "data": {
      "image/png": "[encoded data removed]",
      "text/plain": [
       "<Figure size 640x480 with 1 Axes>"
      ]
     },
     "metadata": {},
     "output_type": "display_data"
    },
    {
     "name": "stdout",
     "output_type": "stream",
     "text": [
      "Mean: 289.85729589950034\n",
      "Median: 157.78955735737375\n",
      "Max: 1464.7026721381537\n",
      "25th Percentile: 58.962303120030434\n",
      "75th Percentile: 418.49909253401245\n"
     ]
    }
   ],
   "source": [
    "speed_plotting(5)"
   ]
  },
  {
   "cell_type": "code",
   "execution_count": 53,
   "id": "8c92c43a",
   "metadata": {},
   "outputs": [
    {
     "data": {
      "image/png": "[encoded data removed]",
      "text/plain": [
       "<Figure size 800x500 with 1 Axes>"
      ]
     },
     "metadata": {},
     "output_type": "display_data"
    }
   ],
   "source": [
    "hour_distance_plotting(75)"
   ]
  }
 ],
 "metadata": {
  "kernelspec": {
   "display_name": "Python (skmob)",
   "language": "python",
   "name": "skmob"
  },
  "language_info": {
   "codemirror_mode": {
    "name": "ipython",
    "version": 3
   },
   "file_extension": ".py",
   "mimetype": "text/x-python",
   "name": "python",
   "nbconvert_exporter": "python",
   "pygments_lexer": "ipython3",
   "version": "3.9.21"
  }
 },
 "nbformat": 4,
 "nbformat_minor": 5
}
