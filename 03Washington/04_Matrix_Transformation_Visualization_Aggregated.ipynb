{
 "cells": [
  {
   "cell_type": "markdown",
   "id": "795b34f9",
   "metadata": {},
   "source": [
    "<h1><center> Arrival Time Visualization <br><br> \n",
    "<center> Differential Privacy Application<br><br> \n",
    "Wendy Shi</center></center>"
   ]
  },
  {
   "cell_type": "markdown",
   "id": "0edafb04",
   "metadata": {},
   "source": [
    "\n",
    "# TOC\n",
    "\n",
    "- [Pii](#P_ii)\n",
    "- [Pij](#Pij-visualization,-box-plot)\n",
    "- [Number of links being zeros](#Count-the-total-number-of-zeros)"
   ]
  },
  {
   "cell_type": "markdown",
   "id": "bb3c630d",
   "metadata": {},
   "source": [
    "# Preparation"
   ]
  },
  {
   "cell_type": "code",
   "execution_count": 1,
   "id": "e5833d69",
   "metadata": {},
   "outputs": [],
   "source": [
    "#Preparation\n",
    "import pandas as pd\n",
    "import numpy as np\n",
    "import matplotlib.pyplot as plt\n",
    "from scipy.integrate import odeint\n",
    "from scipy.interpolate import interp1d\n",
    "import scipy.stats as stats\n",
    "import statistics"
   ]
  },
  {
   "cell_type": "markdown",
   "id": "166f9981",
   "metadata": {},
   "source": [
    "# Original weight matrix"
   ]
  },
  {
   "cell_type": "code",
   "execution_count": 2,
   "id": "a957176e",
   "metadata": {},
   "outputs": [],
   "source": [
    "Ori_mt = pd.read_csv(\"WA_Data/Aggregate/WA_ori_indi.csv\")\n",
    "Ori_mt = Ori_mt.drop(columns = 'Unnamed: 0')\n",
    "\n",
    "P5_mt = pd.read_csv(\"WA_Data/Aggregate/WA_P5_agg.csv\")\n",
    "P5_mt = P5_mt.drop(columns = 'Unnamed: 0')\n",
    "\n",
    "P1_mt = pd.read_csv(\"WA_Data/Aggregate/WA_P1_agg.csv\")\n",
    "P1_mt = P1_mt.drop(columns = 'Unnamed: 0')\n",
    "\n",
    "P05_mt = pd.read_csv(\"WA_Data/Aggregate/WA_P05_agg.csv\")\n",
    "P05_mt = P05_mt.drop(columns = 'Unnamed: 0')\n",
    "\n",
    "P01_mt = pd.read_csv(\"WA_Data/Aggregate/WA_P01_agg.csv\")\n",
    "P01_mt = P01_mt.drop(columns = 'Unnamed: 0')\n",
    "\n",
    "P005_mt = pd.read_csv(\"WA_Data/Aggregate/WA_P005_agg.csv\")\n",
    "P005_mt = P005_mt.drop(columns = 'Unnamed: 0')\n",
    "\n",
    "P001_mt = pd.read_csv(\"WA_Data/Aggregate/WA_P001_agg.csv\")\n",
    "P001_mt = P001_mt.drop(columns = 'Unnamed: 0')"
   ]
  },
  {
   "cell_type": "code",
   "execution_count": 3,
   "id": "4d249898",
   "metadata": {},
   "outputs": [
    {
     "data": {
      "text/html": [
       "<div>\n",
       "<style scoped>\n",
       "    .dataframe tbody tr th:only-of-type {\n",
       "        vertical-align: middle;\n",
       "    }\n",
       "\n",
       "    .dataframe tbody tr th {\n",
       "        vertical-align: top;\n",
       "    }\n",
       "\n",
       "    .dataframe thead th {\n",
       "        text-align: right;\n",
       "    }\n",
       "</style>\n",
       "<table border=\"1\" class=\"dataframe\">\n",
       "  <thead>\n",
       "    <tr style=\"text-align: right;\">\n",
       "      <th></th>\n",
       "      <th>53001</th>\n",
       "      <th>53003</th>\n",
       "      <th>53005</th>\n",
       "      <th>53007</th>\n",
       "      <th>53009</th>\n",
       "      <th>53011</th>\n",
       "      <th>53015</th>\n",
       "      <th>53017</th>\n",
       "      <th>53021</th>\n",
       "      <th>53025</th>\n",
       "      <th>...</th>\n",
       "      <th>53057</th>\n",
       "      <th>53059</th>\n",
       "      <th>53061</th>\n",
       "      <th>53063</th>\n",
       "      <th>53065</th>\n",
       "      <th>53067</th>\n",
       "      <th>53071</th>\n",
       "      <th>53073</th>\n",
       "      <th>53075</th>\n",
       "      <th>53077</th>\n",
       "    </tr>\n",
       "  </thead>\n",
       "  <tbody>\n",
       "    <tr>\n",
       "      <th>0</th>\n",
       "      <td>0.354696</td>\n",
       "      <td>0.000000</td>\n",
       "      <td>0.057518</td>\n",
       "      <td>0.027049</td>\n",
       "      <td>0.000000</td>\n",
       "      <td>0.025429</td>\n",
       "      <td>0.0</td>\n",
       "      <td>0.013412</td>\n",
       "      <td>0.054053</td>\n",
       "      <td>0.038031</td>\n",
       "      <td>...</td>\n",
       "      <td>0.0</td>\n",
       "      <td>0.013142</td>\n",
       "      <td>0.019533</td>\n",
       "      <td>0.085062</td>\n",
       "      <td>0.005446</td>\n",
       "      <td>0.000000</td>\n",
       "      <td>0.011882</td>\n",
       "      <td>0.050947</td>\n",
       "      <td>0.000000</td>\n",
       "      <td>0.026959</td>\n",
       "    </tr>\n",
       "    <tr>\n",
       "      <th>1</th>\n",
       "      <td>0.000380</td>\n",
       "      <td>0.783286</td>\n",
       "      <td>0.002357</td>\n",
       "      <td>0.004867</td>\n",
       "      <td>0.011558</td>\n",
       "      <td>0.000000</td>\n",
       "      <td>0.0</td>\n",
       "      <td>0.002357</td>\n",
       "      <td>0.000000</td>\n",
       "      <td>0.000000</td>\n",
       "      <td>...</td>\n",
       "      <td>0.0</td>\n",
       "      <td>0.000000</td>\n",
       "      <td>0.036955</td>\n",
       "      <td>0.012318</td>\n",
       "      <td>0.006768</td>\n",
       "      <td>0.010646</td>\n",
       "      <td>0.006235</td>\n",
       "      <td>0.013231</td>\n",
       "      <td>0.021481</td>\n",
       "      <td>0.001217</td>\n",
       "    </tr>\n",
       "    <tr>\n",
       "      <th>2</th>\n",
       "      <td>0.004201</td>\n",
       "      <td>0.000000</td>\n",
       "      <td>0.604455</td>\n",
       "      <td>0.009393</td>\n",
       "      <td>0.000000</td>\n",
       "      <td>0.000000</td>\n",
       "      <td>0.0</td>\n",
       "      <td>0.000000</td>\n",
       "      <td>0.169812</td>\n",
       "      <td>0.005157</td>\n",
       "      <td>...</td>\n",
       "      <td>0.0</td>\n",
       "      <td>0.000000</td>\n",
       "      <td>0.019718</td>\n",
       "      <td>0.050040</td>\n",
       "      <td>0.004492</td>\n",
       "      <td>0.008171</td>\n",
       "      <td>0.004953</td>\n",
       "      <td>0.021140</td>\n",
       "      <td>0.005439</td>\n",
       "      <td>0.040018</td>\n",
       "    </tr>\n",
       "  </tbody>\n",
       "</table>\n",
       "<p>3 rows × 34 columns</p>\n",
       "</div>"
      ],
      "text/plain": [
       "      53001     53003     53005     53007     53009     53011  53015  \\\n",
       "0  0.354696  0.000000  0.057518  0.027049  0.000000  0.025429    0.0   \n",
       "1  0.000380  0.783286  0.002357  0.004867  0.011558  0.000000    0.0   \n",
       "2  0.004201  0.000000  0.604455  0.009393  0.000000  0.000000    0.0   \n",
       "\n",
       "      53017     53021     53025  ...  53057     53059     53061     53063  \\\n",
       "0  0.013412  0.054053  0.038031  ...    0.0  0.013142  0.019533  0.085062   \n",
       "1  0.002357  0.000000  0.000000  ...    0.0  0.000000  0.036955  0.012318   \n",
       "2  0.000000  0.169812  0.005157  ...    0.0  0.000000  0.019718  0.050040   \n",
       "\n",
       "      53065     53067     53071     53073     53075     53077  \n",
       "0  0.005446  0.000000  0.011882  0.050947  0.000000  0.026959  \n",
       "1  0.006768  0.010646  0.006235  0.013231  0.021481  0.001217  \n",
       "2  0.004492  0.008171  0.004953  0.021140  0.005439  0.040018  \n",
       "\n",
       "[3 rows x 34 columns]"
      ]
     },
     "execution_count": 3,
     "metadata": {},
     "output_type": "execute_result"
    }
   ],
   "source": [
    "P01_mt.head(3)"
   ]
  },
  {
   "cell_type": "code",
   "execution_count": 4,
   "id": "dd8736c9",
   "metadata": {},
   "outputs": [],
   "source": [
    "Original_np = Ori_mt.to_numpy()\n",
    "P5_np = P5_mt.to_numpy()\n",
    "P1_np = P1_mt.to_numpy()\n",
    "P05_np = P05_mt.to_numpy()\n",
    "P01_np = P01_mt.to_numpy()\n",
    "P005_np = P005_mt.to_numpy()\n",
    "P001_np = P001_mt.to_numpy()"
   ]
  },
  {
   "cell_type": "markdown",
   "id": "89e45559",
   "metadata": {},
   "source": [
    "# P_ii"
   ]
  },
  {
   "cell_type": "code",
   "execution_count": 5,
   "id": "558bc8e9",
   "metadata": {},
   "outputs": [],
   "source": [
    "ori_list = [Original_np[i][i] for i in range(34)]\n",
    "P5_list = [P5_np[i][i] for i in range(34)]\n",
    "P1_list = [P1_np[i][i] for i in range(34)]\n",
    "P05_list = [P05_np[i][i] for i in range(34)]\n",
    "P01_list = [P01_np[i][i] for i in range(34)]\n",
    "P005_list = [P005_np[i][i] for i in range(34)]\n",
    "P001_list = [P001_np[i][i] for i in range(34)]"
   ]
  },
  {
   "cell_type": "code",
   "execution_count": 8,
   "id": "4871673f",
   "metadata": {},
   "outputs": [
    {
     "data": {
      "image/png": "[encoded data removed]",
      "text/plain": [
       "<Figure size 800x600 with 1 Axes>"
      ]
     },
     "metadata": {},
     "output_type": "display_data"
    }
   ],
   "source": [
    "import seaborn as sns\n",
    "import matplotlib.pyplot as plt\n",
    "\n",
    "# Combining data into a list of lists\n",
    "data = [ori_list, P5_list, P1_list, P05_list, P01_list, P005_list, P001_list]\n",
    "#data = [ori_list, P5_list, P1_list, P05_list, P01_list]\n",
    "\n",
    "color = sns.color_palette(\"Spectral\", n_colors=7)\n",
    "\n",
    "# Plotting with Seaborn\n",
    "plt.figure(figsize=(8, 6))\n",
    "sns.boxplot(data=data, palette=color, saturation=0.7, showfliers=False)\n",
    "\n",
    "# Adding labels and title\n",
    "plt.xticks([0, 1, 2, 3, 4, 5, 6], ['Original', '0.5', '0.1', '0.05', '0.01','0.005', '0.001'])\n",
    "#plt.xticks([0, 1, 2, 3, 4], ['Original', '0.5', '0.1', '0.05', '0.01'])\n",
    "plt.title(\"Box Plot for Pii for all county in Washington State\")\n",
    "plt.ylabel(\"Weight Pii\")\n",
    "plt.xlabel(\"Epsilon\")\n",
    "\n",
    "# Save plot\n",
    "plt.savefig(\"Pii_staying_agg_WA.png\", dpi=300, bbox_inches='tight')\n",
    "\n",
    "# Display the plot\n",
    "plt.show()\n"
   ]
  },
  {
   "cell_type": "code",
   "execution_count": 9,
   "id": "15aa7a35",
   "metadata": {},
   "outputs": [
    {
     "data": {
      "image/png": "[encoded data removed]",
      "text/plain": [
       "<Figure size 1000x600 with 1 Axes>"
      ]
     },
     "metadata": {},
     "output_type": "display_data"
    }
   ],
   "source": [
    "import seaborn as sns\n",
    "import matplotlib.pyplot as plt\n",
    "\n",
    "# Combining data into a list of lists\n",
    "#data = [ori_list, P5_list, P1_list, P05_list, P01_list, P005_list, P001_list]\n",
    "data = [ori_list, P5_list, P1_list, P05_list, P01_list]\n",
    "labels = ['Original', '0.5', '0.1', '0.05', '0.01']\n",
    "\n",
    "# Generate a color palette\n",
    "color = sns.color_palette(\"Spectral\", n_colors=5)\n",
    "\n",
    "# Plotting with Seaborn\n",
    "plt.figure(figsize=(10, 6))\n",
    "\n",
    "# Loop through datasets to plot their density\n",
    "for i, dataset in enumerate(data):\n",
    "    sns.kdeplot(dataset, label=labels[i], color=color[i], fill=True, alpha=0.5)\n",
    "\n",
    "# Adding labels and title\n",
    "plt.title(\"Density Plot for P_ii for all county in Washington State\", fontsize=16)\n",
    "plt.xlabel(\"P_ii\", fontsize=12)\n",
    "plt.ylabel(\"Density\", fontsize=12)\n",
    "\n",
    "# Adding a legend\n",
    "plt.legend(title=\"Epsilon\", fontsize=10, title_fontsize=12)\n",
    "\n",
    "# Save plot (optional)\n",
    "#plt.savefig(\"Pii_Density_Plot_all_agg.png\", dpi=300, bbox_inches='tight')\n",
    "\n",
    "# Display the plot\n",
    "plt.show()"
   ]
  },
  {
   "cell_type": "markdown",
   "id": "1e309989",
   "metadata": {},
   "source": [
    "# Pij visualization, box plot"
   ]
  },
  {
   "cell_type": "code",
   "execution_count": 10,
   "id": "04a1f87e",
   "metadata": {},
   "outputs": [],
   "source": [
    "import math"
   ]
  },
  {
   "cell_type": "code",
   "execution_count": 11,
   "id": "24055a14",
   "metadata": {},
   "outputs": [],
   "source": [
    "def outflow_wt(matrix):\n",
    "    \n",
    "    '''\n",
    "    This function defines mean out flow rate by county\n",
    "    '''\n",
    "    \n",
    "    P_ij_list = []\n",
    "    \n",
    "    for i in range(55):\n",
    "        #all outflow weight list every county\n",
    "        working_list = []\n",
    "        for j in range(55):\n",
    "            if i != j:\n",
    "                working_list.append(matrix[i][j])\n",
    "                \n",
    "        average =np.mean(working_list)        \n",
    "        P_ij_list.append(average)\n",
    "        \n",
    "    return(P_ij_list)"
   ]
  },
  {
   "cell_type": "code",
   "execution_count": 16,
   "id": "8c8a94e7",
   "metadata": {},
   "outputs": [],
   "source": [
    "def outflow_wt_all(matrix):\n",
    "    \n",
    "    '''\n",
    "    \n",
    "    This function defines all outflow rate\n",
    "    \n",
    "    '''\n",
    "    \n",
    "    P_ij = []\n",
    "    \n",
    "    for i in range(34):\n",
    "        for j in range(34):\n",
    "            if i != j:\n",
    "                P_ij.append(matrix[i][j])\n",
    "                \n",
    "    return(P_ij)"
   ]
  },
  {
   "cell_type": "code",
   "execution_count": 17,
   "id": "13e06f7d",
   "metadata": {},
   "outputs": [],
   "source": [
    "def out_stat(data):\n",
    "    \n",
    "    series = pd.Series(data)\n",
    "    \n",
    "    #This print summary statistics\n",
    "    minimum = series.min()\n",
    "    point25 = series.quantile(0.25)\n",
    "    median = series.median()\n",
    "    point75 = series.quantile(0.75)\n",
    "    maximum = series.max()\n",
    "     \n",
    "    #This print the summary statistcis    \n",
    "    out_list = [minimum, point25, median, point75, maximum]\n",
    "    print(out_list)\n",
    "    \n",
    "    #This only takes the first 75% of the data\n",
    "    plotting_data = [i for i in data if i < point75]\n",
    "    \n",
    "    return(plotting_data)"
   ]
  },
  {
   "cell_type": "code",
   "execution_count": 18,
   "id": "f6fe1fc2",
   "metadata": {},
   "outputs": [],
   "source": [
    "import math"
   ]
  },
  {
   "cell_type": "code",
   "execution_count": 19,
   "id": "f27eec58",
   "metadata": {
    "scrolled": true
   },
   "outputs": [
    {
     "name": "stdout",
     "output_type": "stream",
     "text": [
      "1122\n"
     ]
    }
   ],
   "source": [
    "out_ori = outflow_wt_all(Original_np)\n",
    "print(len(out_ori))\n",
    "#ori_75 = out_stat(out_ori)"
   ]
  },
  {
   "cell_type": "code",
   "execution_count": 20,
   "id": "0727ef4c",
   "metadata": {},
   "outputs": [
    {
     "name": "stdout",
     "output_type": "stream",
     "text": [
      "974\n"
     ]
    }
   ],
   "source": [
    "log_ori = [math.log(x) for x in out_ori if x != 0]\n",
    "print(len(log_ori))"
   ]
  },
  {
   "cell_type": "code",
   "execution_count": 21,
   "id": "3afa592c",
   "metadata": {},
   "outputs": [
    {
     "name": "stdout",
     "output_type": "stream",
     "text": [
      "955\n"
     ]
    }
   ],
   "source": [
    "out_P5 = outflow_wt_all(P5_np)\n",
    "log_P5 = [math.log(x) for x in out_P5 if x != 0]\n",
    "print(len(log_P5))"
   ]
  },
  {
   "cell_type": "code",
   "execution_count": 22,
   "id": "7ad75874",
   "metadata": {},
   "outputs": [
    {
     "name": "stdout",
     "output_type": "stream",
     "text": [
      "891\n"
     ]
    }
   ],
   "source": [
    "out_P1 = outflow_wt_all(P1_np)\n",
    "log_P1 = [math.log(x) for x in out_P1 if x != 0]\n",
    "print(len(log_P1))"
   ]
  },
  {
   "cell_type": "code",
   "execution_count": 23,
   "id": "afb38c6b",
   "metadata": {},
   "outputs": [
    {
     "name": "stdout",
     "output_type": "stream",
     "text": [
      "853\n"
     ]
    }
   ],
   "source": [
    "out_P05 = outflow_wt_all(P05_np)\n",
    "log_P05 = [math.log(x) for x in out_P05 if x != 0]\n",
    "print(len(log_P05))"
   ]
  },
  {
   "cell_type": "code",
   "execution_count": 24,
   "id": "2d1cc780",
   "metadata": {},
   "outputs": [
    {
     "name": "stdout",
     "output_type": "stream",
     "text": [
      "714\n"
     ]
    }
   ],
   "source": [
    "out_P01 = outflow_wt_all(P01_np)\n",
    "log_P01 = [math.log(x) for x in out_P01 if x != 0]\n",
    "print(len(log_P01))"
   ]
  },
  {
   "cell_type": "code",
   "execution_count": 25,
   "id": "c8d2589f",
   "metadata": {},
   "outputs": [
    {
     "name": "stdout",
     "output_type": "stream",
     "text": [
      "681\n"
     ]
    }
   ],
   "source": [
    "out_P005 = outflow_wt_all(P005_np)\n",
    "log_P005 = [math.log(x) for x in out_P005 if x != 0]\n",
    "print(len(log_P005))"
   ]
  },
  {
   "cell_type": "code",
   "execution_count": 26,
   "id": "58e476da",
   "metadata": {},
   "outputs": [
    {
     "name": "stdout",
     "output_type": "stream",
     "text": [
      "590\n"
     ]
    }
   ],
   "source": [
    "out_P001 = outflow_wt_all(P001_np)\n",
    "log_P001 = [math.log(x) for x in out_P001 if x != 0]\n",
    "print(len(log_P001))"
   ]
  },
  {
   "cell_type": "code",
   "execution_count": 28,
   "id": "1788c34e",
   "metadata": {},
   "outputs": [
    {
     "data": {
      "image/png": "[encoded data removed]",
      "text/plain": [
       "<Figure size 800x600 with 1 Axes>"
      ]
     },
     "metadata": {},
     "output_type": "display_data"
    }
   ],
   "source": [
    "import seaborn as sns\n",
    "import matplotlib.pyplot as plt\n",
    "\n",
    "# Combining data into a list of lists\n",
    "#data = [out_ori, out_P5, out_P1, out_P05, out_P01, out_P005, out_P001]\n",
    "data = [log_ori, log_P5, log_P1, log_P05, log_P01, log_P005, log_P001]\n",
    "#data = [log_ori, log_P5, log_P1, log_P05, log_P01]\n",
    "\n",
    "color = sns.color_palette(\"Spectral\", n_colors=7)\n",
    "\n",
    "# Plotting with Seaborn\n",
    "plt.figure(figsize=(8, 6))\n",
    "sns.boxplot(data=data, palette=color, saturation=0.7, showfliers=False)\n",
    "\n",
    "# Adding labels and title\n",
    "plt.xticks([0, 1, 2, 3, 4, 5, 6], \n",
    "           ['Original', '0.5','0.1','0.05','0.01', '0.005','0.001'])\n",
    "#plt.xticks([0, 1, 2, 3, 4], \n",
    "#           ['Original', '0.5','0.1','0.05','0.01'])\n",
    "plt.title(\"Box Plot for logged outflow weight for all county in Washington State\")\n",
    "plt.ylabel(\"Logged weight p{ij}\")\n",
    "plt.xlabel(\"Epsilon\")\n",
    "\n",
    "# Save plot\n",
    "plt.savefig(\"Pij_outflow_logged_no_outlier_WA_agg.png\", dpi=300, bbox_inches='tight')\n",
    "\n",
    "# Display the plot\n",
    "plt.show()\n"
   ]
  },
  {
   "cell_type": "markdown",
   "id": "4cffebec",
   "metadata": {},
   "source": [
    "# Count the total number of zeros"
   ]
  },
  {
   "cell_type": "code",
   "execution_count": 32,
   "id": "df88087d",
   "metadata": {},
   "outputs": [],
   "source": [
    "#outflow zero\n",
    "def outflow_zero(matrix):\n",
    "    P_ij_zero = []\n",
    "    \n",
    "    for i in range(34):\n",
    "        #all outflow weight list every county\n",
    "        working_list = []\n",
    "        for j in range(34):\n",
    "            if i != j and matrix[i][j] == 0:\n",
    "                P_ij_zero.append((i,j))\n",
    "    \n",
    "    return(P_ij_zero)"
   ]
  },
  {
   "cell_type": "code",
   "execution_count": 33,
   "id": "a13f351a",
   "metadata": {},
   "outputs": [],
   "source": [
    "total_links = 34*34"
   ]
  },
  {
   "cell_type": "code",
   "execution_count": 34,
   "id": "b07de8cc",
   "metadata": {},
   "outputs": [
    {
     "data": {
      "text/plain": [
       "148"
      ]
     },
     "execution_count": 34,
     "metadata": {},
     "output_type": "execute_result"
    }
   ],
   "source": [
    "zero_ori = outflow_zero(Original_np)\n",
    "len(zero_ori)"
   ]
  },
  {
   "cell_type": "code",
   "execution_count": 35,
   "id": "c53bbc52",
   "metadata": {},
   "outputs": [
    {
     "data": {
      "text/plain": [
       "167"
      ]
     },
     "execution_count": 35,
     "metadata": {},
     "output_type": "execute_result"
    }
   ],
   "source": [
    "zero_P5 = outflow_zero(P5_np)\n",
    "len(zero_P5)"
   ]
  },
  {
   "cell_type": "code",
   "execution_count": 36,
   "id": "389d93bc",
   "metadata": {},
   "outputs": [
    {
     "data": {
      "text/plain": [
       "231"
      ]
     },
     "execution_count": 36,
     "metadata": {},
     "output_type": "execute_result"
    }
   ],
   "source": [
    "zero_P1 = outflow_zero(P1_np)\n",
    "len(zero_P1)"
   ]
  },
  {
   "cell_type": "code",
   "execution_count": 37,
   "id": "95d6792d",
   "metadata": {},
   "outputs": [
    {
     "data": {
      "text/plain": [
       "269"
      ]
     },
     "execution_count": 37,
     "metadata": {},
     "output_type": "execute_result"
    }
   ],
   "source": [
    "zero_P05 = outflow_zero(P05_np)\n",
    "len(zero_P05)"
   ]
  },
  {
   "cell_type": "code",
   "execution_count": 38,
   "id": "d57d5834",
   "metadata": {},
   "outputs": [
    {
     "data": {
      "text/plain": [
       "408"
      ]
     },
     "execution_count": 38,
     "metadata": {},
     "output_type": "execute_result"
    }
   ],
   "source": [
    "zero_P01 = outflow_zero(P01_np)\n",
    "len(zero_P01)"
   ]
  },
  {
   "cell_type": "code",
   "execution_count": 39,
   "id": "85765b18",
   "metadata": {},
   "outputs": [
    {
     "data": {
      "text/plain": [
       "441"
      ]
     },
     "execution_count": 39,
     "metadata": {},
     "output_type": "execute_result"
    }
   ],
   "source": [
    "zero_P005 = outflow_zero(P005_np)\n",
    "len(zero_P005)"
   ]
  },
  {
   "cell_type": "code",
   "execution_count": 40,
   "id": "aa570b44",
   "metadata": {},
   "outputs": [
    {
     "data": {
      "text/plain": [
       "532"
      ]
     },
     "execution_count": 40,
     "metadata": {},
     "output_type": "execute_result"
    }
   ],
   "source": [
    "zero_P001 = outflow_zero(P001_np)\n",
    "len(zero_P001)"
   ]
  },
  {
   "cell_type": "code",
   "execution_count": 41,
   "id": "348bd84a",
   "metadata": {},
   "outputs": [
    {
     "data": {
      "image/png": "[encoded data removed]",
      "text/plain": [
       "<Figure size 1000x600 with 1 Axes>"
      ]
     },
     "metadata": {},
     "output_type": "display_data"
    }
   ],
   "source": [
    "import seaborn as sns\n",
    "import matplotlib.pyplot as plt\n",
    "import pandas as pd\n",
    "\n",
    "# Data preparation\n",
    "data = [len(zero_ori)/total_links, \n",
    "        len(zero_P5)/total_links, \n",
    "        len(zero_P1)/total_links, \n",
    "        len(zero_P05)/total_links, \n",
    "        len(zero_P01)/total_links,\n",
    "       len(zero_P005)/total_links,\n",
    "        len(zero_P001)/total_links\n",
    "       ]\n",
    "labels = ['Original', '0.5', '0.1', '0.05', '0.01', '0.005', '0.001']\n",
    "#labels = ['Original', '0.5', '0.1', '0.05', '0.01']\n",
    "\n",
    "# Generate a color palette\n",
    "color = sns.color_palette(\"Spectral\", n_colors= 7)\n",
    "\n",
    "# Create a DataFrame for easier handling\n",
    "df = pd.DataFrame({'Epsilon': labels, 'Number of Zero': data})\n",
    "\n",
    "# Plotting\n",
    "plt.figure(figsize=(10, 6))\n",
    "barplot = sns.barplot(x='Epsilon', y='Number of Zero', palette=color, data=df)\n",
    "\n",
    "# Adding labels and title\n",
    "plt.title(\"Proportion of links being zero\", fontsize=16)\n",
    "plt.xlabel(\"Epsilon\", fontsize=12)\n",
    "plt.ylabel(\"Proportion of Zero\", fontsize=12)\n",
    "\n",
    "# Add data labels on each bar\n",
    "for i, bar in enumerate(barplot.patches):\n",
    "    bar_height = bar.get_height()\n",
    "    plt.text(\n",
    "        bar.get_x() + bar.get_width() / 2,  # x-coordinate\n",
    "        bar_height*1.005,  # y-coordinate slightly above the bar\n",
    "        f'{bar_height:.3f}',  # Data label\n",
    "        ha='center', va='bottom', fontsize=10, color='black'\n",
    "    )\n",
    "\n",
    "# Save plot (optional)\n",
    "plt.savefig(\"Proportion_of_Zero_agg_WA.png\", dpi=300, bbox_inches='tight')\n",
    "\n",
    "# Display the plot\n",
    "plt.show()\n"
   ]
  },
  {
   "cell_type": "code",
   "execution_count": null,
   "id": "05864d72",
   "metadata": {},
   "outputs": [],
   "source": []
  }
 ],
 "metadata": {
  "kernelspec": {
   "display_name": "Python 3 (ipykernel)",
   "language": "python",
   "name": "python3"
  },
  "language_info": {
   "codemirror_mode": {
    "name": "ipython",
    "version": 3
   },
   "file_extension": ".py",
   "mimetype": "text/x-python",
   "name": "python",
   "nbconvert_exporter": "python",
   "pygments_lexer": "ipython3",
   "version": "3.11.5"
  }
 },
 "nbformat": 4,
 "nbformat_minor": 5
}
