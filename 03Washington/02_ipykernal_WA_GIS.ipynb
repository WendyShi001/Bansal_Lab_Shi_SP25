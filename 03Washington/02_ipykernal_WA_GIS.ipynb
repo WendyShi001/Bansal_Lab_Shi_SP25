{
 "cells": [
  {
   "cell_type": "markdown",
   "id": "fd44766c",
   "metadata": {},
   "source": [
    "<h1><center> Individual Data Noise Creation <br><br> \n",
    "<center> Scikit Mobility and DB Noise<br><br> \n",
    "Wendy Shi</center></center>"
   ]
  },
  {
   "cell_type": "markdown",
   "id": "1778640b",
   "metadata": {},
   "source": [
    "# TOC\n",
    "\n",
    "- [County Level FIP](#County-Level-FIP-Code)\n",
    "- [Individual Data](#Individual-Data)\n",
    "- [Census Tract Shape File](#Census-Tract-Shape-File)\n",
    "- [Grouping](#Groupping)\n",
    "    - [DP Noise](#DP-Noise)\n",
    "    - [Home Location](#Home-Location)\n",
    "    - [Testing](#Testing)\n",
    "- [Computing Weight Matrix](#Computing-Weight-Matrix)"
   ]
  },
  {
   "cell_type": "markdown",
   "id": "eac9293b",
   "metadata": {},
   "source": [
    "# Preparation"
   ]
  },
  {
   "cell_type": "code",
   "execution_count": 1,
   "id": "ed6fb248",
   "metadata": {},
   "outputs": [],
   "source": [
    "#Preparation\n",
    "import pandas as pd\n",
    "import numpy as np\n",
    "import matplotlib.pyplot as plt\n",
    "import statistics"
   ]
  },
  {
   "cell_type": "markdown",
   "id": "e37482b3",
   "metadata": {},
   "source": [
    "# County Level FIP Code"
   ]
  },
  {
   "cell_type": "code",
   "execution_count": 2,
   "id": "bdd8c9bb",
   "metadata": {},
   "outputs": [
    {
     "name": "stdout",
     "output_type": "stream",
     "text": [
      "(2327, 4)\n"
     ]
    },
    {
     "data": {
      "text/html": [
       "<div>\n",
       "<style scoped>\n",
       "    .dataframe tbody tr th:only-of-type {\n",
       "        vertical-align: middle;\n",
       "    }\n",
       "\n",
       "    .dataframe tbody tr th {\n",
       "        vertical-align: top;\n",
       "    }\n",
       "\n",
       "    .dataframe thead th {\n",
       "        text-align: right;\n",
       "    }\n",
       "</style>\n",
       "<table border=\"1\" class=\"dataframe\">\n",
       "  <thead>\n",
       "    <tr style=\"text-align: right;\">\n",
       "      <th></th>\n",
       "      <th>S</th>\n",
       "      <th>E</th>\n",
       "      <th>I</th>\n",
       "      <th>R</th>\n",
       "    </tr>\n",
       "  </thead>\n",
       "  <tbody>\n",
       "    <tr>\n",
       "      <th>2324</th>\n",
       "      <td>42158</td>\n",
       "      <td>0</td>\n",
       "      <td>0</td>\n",
       "      <td>0</td>\n",
       "    </tr>\n",
       "    <tr>\n",
       "      <th>2325</th>\n",
       "      <td>23347</td>\n",
       "      <td>0</td>\n",
       "      <td>0</td>\n",
       "      <td>0</td>\n",
       "    </tr>\n",
       "    <tr>\n",
       "      <th>2326</th>\n",
       "      <td>20441</td>\n",
       "      <td>0</td>\n",
       "      <td>0</td>\n",
       "      <td>0</td>\n",
       "    </tr>\n",
       "  </tbody>\n",
       "</table>\n",
       "</div>"
      ],
      "text/plain": [
       "          S  E  I  R\n",
       "2324  42158  0  0  0\n",
       "2325  23347  0  0  0\n",
       "2326  20441  0  0  0"
      ]
     },
     "execution_count": 2,
     "metadata": {},
     "output_type": "execute_result"
    }
   ],
   "source": [
    "column_names = ['S', 'E', 'I', 'R']\n",
    "Seeding = pd.read_csv(\"../../Data/seed_1503_seed_corrected_undereporting_CDC_corrected_v3.txt\",\n",
    "                     delimiter=' ',\n",
    "                      names=column_names)\n",
    "print(Seeding.shape)\n",
    "Seeding.tail(3)"
   ]
  },
  {
   "cell_type": "code",
   "execution_count": 3,
   "id": "8253f72c",
   "metadata": {},
   "outputs": [
    {
     "name": "stdout",
     "output_type": "stream",
     "text": [
      "(2327, 1)\n"
     ]
    },
    {
     "data": {
      "text/html": [
       "<div>\n",
       "<style scoped>\n",
       "    .dataframe tbody tr th:only-of-type {\n",
       "        vertical-align: middle;\n",
       "    }\n",
       "\n",
       "    .dataframe tbody tr th {\n",
       "        vertical-align: top;\n",
       "    }\n",
       "\n",
       "    .dataframe thead th {\n",
       "        text-align: right;\n",
       "    }\n",
       "</style>\n",
       "<table border=\"1\" class=\"dataframe\">\n",
       "  <thead>\n",
       "    <tr style=\"text-align: right;\">\n",
       "      <th></th>\n",
       "      <th>GEO_ID</th>\n",
       "    </tr>\n",
       "  </thead>\n",
       "  <tbody>\n",
       "    <tr>\n",
       "      <th>2324</th>\n",
       "      <td>56037</td>\n",
       "    </tr>\n",
       "    <tr>\n",
       "      <th>2325</th>\n",
       "      <td>56039</td>\n",
       "    </tr>\n",
       "    <tr>\n",
       "      <th>2326</th>\n",
       "      <td>56041</td>\n",
       "    </tr>\n",
       "  </tbody>\n",
       "</table>\n",
       "</div>"
      ],
      "text/plain": [
       "      GEO_ID\n",
       "2324   56037\n",
       "2325   56039\n",
       "2326   56041"
      ]
     },
     "execution_count": 3,
     "metadata": {},
     "output_type": "execute_result"
    }
   ],
   "source": [
    "node_dict = pd.read_csv(\"../../Data/nodes_considered.csv\")\n",
    "node_dict = node_dict.drop(columns = ['index'])\n",
    "print(node_dict.shape)\n",
    "node_dict.tail(3)"
   ]
  },
  {
   "cell_type": "code",
   "execution_count": 4,
   "id": "8e20bb11",
   "metadata": {},
   "outputs": [
    {
     "data": {
      "text/html": [
       "<div>\n",
       "<style scoped>\n",
       "    .dataframe tbody tr th:only-of-type {\n",
       "        vertical-align: middle;\n",
       "    }\n",
       "\n",
       "    .dataframe tbody tr th {\n",
       "        vertical-align: top;\n",
       "    }\n",
       "\n",
       "    .dataframe thead th {\n",
       "        text-align: right;\n",
       "    }\n",
       "</style>\n",
       "<table border=\"1\" class=\"dataframe\">\n",
       "  <thead>\n",
       "    <tr style=\"text-align: right;\">\n",
       "      <th></th>\n",
       "      <th>GEO_ID</th>\n",
       "      <th>Population</th>\n",
       "    </tr>\n",
       "  </thead>\n",
       "  <tbody>\n",
       "    <tr>\n",
       "      <th>2322</th>\n",
       "      <td>56029</td>\n",
       "      <td>29656</td>\n",
       "    </tr>\n",
       "    <tr>\n",
       "      <th>2323</th>\n",
       "      <td>56033</td>\n",
       "      <td>30996</td>\n",
       "    </tr>\n",
       "    <tr>\n",
       "      <th>2324</th>\n",
       "      <td>56037</td>\n",
       "      <td>42158</td>\n",
       "    </tr>\n",
       "    <tr>\n",
       "      <th>2325</th>\n",
       "      <td>56039</td>\n",
       "      <td>23347</td>\n",
       "    </tr>\n",
       "    <tr>\n",
       "      <th>2326</th>\n",
       "      <td>56041</td>\n",
       "      <td>20441</td>\n",
       "    </tr>\n",
       "  </tbody>\n",
       "</table>\n",
       "</div>"
      ],
      "text/plain": [
       "      GEO_ID  Population\n",
       "2322   56029       29656\n",
       "2323   56033       30996\n",
       "2324   56037       42158\n",
       "2325   56039       23347\n",
       "2326   56041       20441"
      ]
     },
     "execution_count": 4,
     "metadata": {},
     "output_type": "execute_result"
    }
   ],
   "source": [
    "node_dict['Population'] = Seeding['S']\n",
    "node_dict.tail(5)"
   ]
  },
  {
   "cell_type": "code",
   "execution_count": 5,
   "id": "b92abd1b",
   "metadata": {},
   "outputs": [
    {
     "name": "stdout",
     "output_type": "stream",
     "text": [
      "(2327, 2)\n"
     ]
    },
    {
     "data": {
      "text/html": [
       "<div>\n",
       "<style scoped>\n",
       "    .dataframe tbody tr th:only-of-type {\n",
       "        vertical-align: middle;\n",
       "    }\n",
       "\n",
       "    .dataframe tbody tr th {\n",
       "        vertical-align: top;\n",
       "    }\n",
       "\n",
       "    .dataframe thead th {\n",
       "        text-align: right;\n",
       "    }\n",
       "</style>\n",
       "<table border=\"1\" class=\"dataframe\">\n",
       "  <thead>\n",
       "    <tr style=\"text-align: right;\">\n",
       "      <th></th>\n",
       "      <th>GEOID</th>\n",
       "      <th>Population</th>\n",
       "    </tr>\n",
       "  </thead>\n",
       "  <tbody>\n",
       "    <tr>\n",
       "      <th>0</th>\n",
       "      <td>01001</td>\n",
       "      <td>58877</td>\n",
       "    </tr>\n",
       "    <tr>\n",
       "      <th>1</th>\n",
       "      <td>01003</td>\n",
       "      <td>233140</td>\n",
       "    </tr>\n",
       "    <tr>\n",
       "      <th>2</th>\n",
       "      <td>01005</td>\n",
       "      <td>25180</td>\n",
       "    </tr>\n",
       "  </tbody>\n",
       "</table>\n",
       "</div>"
      ],
      "text/plain": [
       "   GEOID  Population\n",
       "0  01001       58877\n",
       "1  01003      233140\n",
       "2  01005       25180"
      ]
     },
     "execution_count": 5,
     "metadata": {},
     "output_type": "execute_result"
    }
   ],
   "source": [
    "#Check if node dictionary size equals to size of E, and see if they all have population larger than 11,000\n",
    "desired = node_dict[node_dict['Population'] > 11000]\n",
    "print(desired.shape)\n",
    "\n",
    "node_dict[\"GEO_ID\"] = node_dict[\"GEO_ID\"].apply(lambda x: f\"{int(x):05d}\")\n",
    "\n",
    "#rename column\n",
    "rename = {'GEO_ID' : 'GEOID'}\n",
    "node_dict = node_dict.rename(columns = rename)\n",
    "node_dict.head(3)"
   ]
  },
  {
   "cell_type": "code",
   "execution_count": 6,
   "id": "99825a6e",
   "metadata": {
    "scrolled": true
   },
   "outputs": [
    {
     "data": {
      "text/html": [
       "<div>\n",
       "<style scoped>\n",
       "    .dataframe tbody tr th:only-of-type {\n",
       "        vertical-align: middle;\n",
       "    }\n",
       "\n",
       "    .dataframe tbody tr th {\n",
       "        vertical-align: top;\n",
       "    }\n",
       "\n",
       "    .dataframe thead th {\n",
       "        text-align: right;\n",
       "    }\n",
       "</style>\n",
       "<table border=\"1\" class=\"dataframe\">\n",
       "  <thead>\n",
       "    <tr style=\"text-align: right;\">\n",
       "      <th></th>\n",
       "      <th>GEOID</th>\n",
       "      <th>Population</th>\n",
       "      <th>state</th>\n",
       "      <th>index</th>\n",
       "    </tr>\n",
       "  </thead>\n",
       "  <tbody>\n",
       "    <tr>\n",
       "      <th>0</th>\n",
       "      <td>01001</td>\n",
       "      <td>58877</td>\n",
       "      <td>01</td>\n",
       "      <td>0</td>\n",
       "    </tr>\n",
       "    <tr>\n",
       "      <th>1</th>\n",
       "      <td>01003</td>\n",
       "      <td>233140</td>\n",
       "      <td>01</td>\n",
       "      <td>1</td>\n",
       "    </tr>\n",
       "    <tr>\n",
       "      <th>2</th>\n",
       "      <td>01005</td>\n",
       "      <td>25180</td>\n",
       "      <td>01</td>\n",
       "      <td>2</td>\n",
       "    </tr>\n",
       "  </tbody>\n",
       "</table>\n",
       "</div>"
      ],
      "text/plain": [
       "   GEOID  Population state  index\n",
       "0  01001       58877    01      0\n",
       "1  01003      233140    01      1\n",
       "2  01005       25180    01      2"
      ]
     },
     "execution_count": 6,
     "metadata": {},
     "output_type": "execute_result"
    }
   ],
   "source": [
    "node_dict['state'] = node_dict['GEOID'].str[:2]\n",
    "node_dict['index'] = range(len(node_dict))\n",
    "node_dict.head(3)"
   ]
  },
  {
   "cell_type": "code",
   "execution_count": 7,
   "id": "5902ae60",
   "metadata": {},
   "outputs": [
    {
     "name": "stdout",
     "output_type": "stream",
     "text": [
      "(34, 4)\n"
     ]
    },
    {
     "data": {
      "text/html": [
       "<div>\n",
       "<style scoped>\n",
       "    .dataframe tbody tr th:only-of-type {\n",
       "        vertical-align: middle;\n",
       "    }\n",
       "\n",
       "    .dataframe tbody tr th {\n",
       "        vertical-align: top;\n",
       "    }\n",
       "\n",
       "    .dataframe thead th {\n",
       "        text-align: right;\n",
       "    }\n",
       "</style>\n",
       "<table border=\"1\" class=\"dataframe\">\n",
       "  <thead>\n",
       "    <tr style=\"text-align: right;\">\n",
       "      <th></th>\n",
       "      <th>GEOID</th>\n",
       "      <th>Population</th>\n",
       "      <th>state</th>\n",
       "      <th>index</th>\n",
       "    </tr>\n",
       "  </thead>\n",
       "  <tbody>\n",
       "    <tr>\n",
       "      <th>2169</th>\n",
       "      <td>53001</td>\n",
       "      <td>20605</td>\n",
       "      <td>53</td>\n",
       "      <td>2169</td>\n",
       "    </tr>\n",
       "    <tr>\n",
       "      <th>2170</th>\n",
       "      <td>53003</td>\n",
       "      <td>22290</td>\n",
       "      <td>53</td>\n",
       "      <td>2170</td>\n",
       "    </tr>\n",
       "    <tr>\n",
       "      <th>2171</th>\n",
       "      <td>53005</td>\n",
       "      <td>207230</td>\n",
       "      <td>53</td>\n",
       "      <td>2171</td>\n",
       "    </tr>\n",
       "  </tbody>\n",
       "</table>\n",
       "</div>"
      ],
      "text/plain": [
       "      GEOID  Population state  index\n",
       "2169  53001       20605    53   2169\n",
       "2170  53003       22290    53   2170\n",
       "2171  53005      207230    53   2171"
      ]
     },
     "execution_count": 7,
     "metadata": {},
     "output_type": "execute_result"
    }
   ],
   "source": [
    "washington = node_dict[node_dict['state'] == '53']\n",
    "\n",
    "#Index list--------------This is the one that check if weight matrix is in the same order as SEIR initial condition\n",
    "E_wa_index = washington['GEOID'].to_list()\n",
    "\n",
    "#Population list\n",
    "pop_list = washington['Population'].tolist()\n",
    "\n",
    "#Print the dataset\n",
    "print(washington.shape)\n",
    "washington.head(3)"
   ]
  },
  {
   "cell_type": "code",
   "execution_count": 9,
   "id": "fb09c22e",
   "metadata": {},
   "outputs": [
    {
     "name": "stdout",
     "output_type": "stream",
     "text": [
      "[2169, 2170, 2171, 2172, 2173, 2174, 2175, 2176, 2177, 2178, 2179, 2180, 2181, 2182, 2183, 2184, 2185, 2186, 2187, 2188, 2189, 2190, 2191, 2192, 2193, 2194, 2195, 2196, 2197, 2198, 2199, 2200, 2201, 2202]\n"
     ]
    }
   ],
   "source": [
    "index = washington['index'].tolist()\n",
    "print(index)"
   ]
  },
  {
   "cell_type": "markdown",
   "id": "bd221031",
   "metadata": {},
   "source": [
    "# Original Matrix for reference"
   ]
  },
  {
   "cell_type": "code",
   "execution_count": 10,
   "id": "7acc6ce1",
   "metadata": {},
   "outputs": [],
   "source": [
    "#Open the 12 weight matrix\n",
    "column_names = ['origin', 'destination', 'count', 'weight']\n",
    "for i in range(12):\n",
    "    n = i +1\n",
    "    \n",
    "    df = pd.read_csv(f\"../../Data/monthly_matrix_sd_county_month{n}_county.txt\", \n",
    "                     delimiter=' ', names=column_names)\n",
    "    \n",
    "    #Making sure all origin and destination are states in New York\n",
    "    df = df[(df['origin'].isin(index)) & (df['destination'].isin(index))]\n",
    "    \n",
    "    # Store the modified DataFrame\n",
    "    globals()[f'wt_mt{n}'] = df"
   ]
  },
  {
   "cell_type": "code",
   "execution_count": 11,
   "id": "22cd2d7b",
   "metadata": {},
   "outputs": [
    {
     "data": {
      "text/html": [
       "<div>\n",
       "<style scoped>\n",
       "    .dataframe tbody tr th:only-of-type {\n",
       "        vertical-align: middle;\n",
       "    }\n",
       "\n",
       "    .dataframe tbody tr th {\n",
       "        vertical-align: top;\n",
       "    }\n",
       "\n",
       "    .dataframe thead th {\n",
       "        text-align: right;\n",
       "    }\n",
       "</style>\n",
       "<table border=\"1\" class=\"dataframe\">\n",
       "  <thead>\n",
       "    <tr style=\"text-align: right;\">\n",
       "      <th></th>\n",
       "      <th>origin</th>\n",
       "      <th>destination</th>\n",
       "      <th>count</th>\n",
       "      <th>weight</th>\n",
       "    </tr>\n",
       "  </thead>\n",
       "  <tbody>\n",
       "    <tr>\n",
       "      <th>294885</th>\n",
       "      <td>2171</td>\n",
       "      <td>2192</td>\n",
       "      <td>12</td>\n",
       "      <td>0.000099</td>\n",
       "    </tr>\n",
       "    <tr>\n",
       "      <th>294886</th>\n",
       "      <td>2172</td>\n",
       "      <td>2192</td>\n",
       "      <td>12</td>\n",
       "      <td>0.000162</td>\n",
       "    </tr>\n",
       "    <tr>\n",
       "      <th>294887</th>\n",
       "      <td>2173</td>\n",
       "      <td>2192</td>\n",
       "      <td>12</td>\n",
       "      <td>0.000305</td>\n",
       "    </tr>\n",
       "  </tbody>\n",
       "</table>\n",
       "</div>"
      ],
      "text/plain": [
       "        origin  destination  count    weight\n",
       "294885    2171         2192     12  0.000099\n",
       "294886    2172         2192     12  0.000162\n",
       "294887    2173         2192     12  0.000305"
      ]
     },
     "execution_count": 11,
     "metadata": {},
     "output_type": "execute_result"
    }
   ],
   "source": [
    "wt_mt12.head(3)"
   ]
  },
  {
   "cell_type": "code",
   "execution_count": 12,
   "id": "dcc4694b",
   "metadata": {},
   "outputs": [],
   "source": [
    "#Turn each data into a matrix\n",
    "#Transform the dataframe to a matrix with pivot table\n",
    "for i in range(12):\n",
    "    n = i+1\n",
    "    matrix = globals()[f'wt_mt{n}'].pivot_table(index='origin', \n",
    "                                                columns='destination', \n",
    "                                                values= 'weight', fill_value=0)\n",
    "    matrix = matrix.reset_index()\n",
    "    matrix = matrix.drop(columns = [\"origin\"]) #drop the origin column\n",
    "    globals()[f'matrix{n}'] = matrix"
   ]
  },
  {
   "cell_type": "code",
   "execution_count": 13,
   "id": "8a2559b0",
   "metadata": {},
   "outputs": [],
   "source": [
    "for i in range(12):\n",
    "    n = i +1\n",
    "    count_df = globals()[f'matrix{n}'].multiply(pop_list, axis=0)\n",
    "    globals()[f'count_df{n}'] = count_df"
   ]
  },
  {
   "cell_type": "code",
   "execution_count": 14,
   "id": "005f1200",
   "metadata": {},
   "outputs": [
    {
     "name": "stdout",
     "output_type": "stream",
     "text": [
      "(34, 34)\n"
     ]
    },
    {
     "data": {
      "text/html": [
       "<div>\n",
       "<style scoped>\n",
       "    .dataframe tbody tr th:only-of-type {\n",
       "        vertical-align: middle;\n",
       "    }\n",
       "\n",
       "    .dataframe tbody tr th {\n",
       "        vertical-align: top;\n",
       "    }\n",
       "\n",
       "    .dataframe thead th {\n",
       "        text-align: right;\n",
       "    }\n",
       "</style>\n",
       "<table border=\"1\" class=\"dataframe\">\n",
       "  <thead>\n",
       "    <tr style=\"text-align: right;\">\n",
       "      <th>destination</th>\n",
       "      <th>2169</th>\n",
       "      <th>2170</th>\n",
       "      <th>2171</th>\n",
       "      <th>2172</th>\n",
       "      <th>2173</th>\n",
       "      <th>2174</th>\n",
       "      <th>2175</th>\n",
       "      <th>2176</th>\n",
       "      <th>2177</th>\n",
       "      <th>2178</th>\n",
       "      <th>...</th>\n",
       "      <th>2193</th>\n",
       "      <th>2194</th>\n",
       "      <th>2195</th>\n",
       "      <th>2196</th>\n",
       "      <th>2197</th>\n",
       "      <th>2198</th>\n",
       "      <th>2199</th>\n",
       "      <th>2200</th>\n",
       "      <th>2201</th>\n",
       "      <th>2202</th>\n",
       "    </tr>\n",
       "  </thead>\n",
       "  <tbody>\n",
       "    <tr>\n",
       "      <th>0</th>\n",
       "      <td>12151.662419</td>\n",
       "      <td>17.627475</td>\n",
       "      <td>560.340654</td>\n",
       "      <td>60.654594</td>\n",
       "      <td>17.656413</td>\n",
       "      <td>21.548185</td>\n",
       "      <td>15.218646</td>\n",
       "      <td>31.194161</td>\n",
       "      <td>703.380402</td>\n",
       "      <td>1654.021273</td>\n",
       "      <td>...</td>\n",
       "      <td>25.171195</td>\n",
       "      <td>6.377557</td>\n",
       "      <td>42.925998</td>\n",
       "      <td>455.431359</td>\n",
       "      <td>25.062816</td>\n",
       "      <td>21.203416</td>\n",
       "      <td>39.459117</td>\n",
       "      <td>21.632337</td>\n",
       "      <td>66.573817</td>\n",
       "      <td>120.407465</td>\n",
       "    </tr>\n",
       "    <tr>\n",
       "      <th>1</th>\n",
       "      <td>15.849193</td>\n",
       "      <td>13617.828426</td>\n",
       "      <td>36.697340</td>\n",
       "      <td>19.521904</td>\n",
       "      <td>6.576210</td>\n",
       "      <td>19.827180</td>\n",
       "      <td>19.487958</td>\n",
       "      <td>12.308093</td>\n",
       "      <td>17.700209</td>\n",
       "      <td>17.453577</td>\n",
       "      <td>...</td>\n",
       "      <td>14.479513</td>\n",
       "      <td>4.677748</td>\n",
       "      <td>18.464733</td>\n",
       "      <td>265.113125</td>\n",
       "      <td>18.214178</td>\n",
       "      <td>13.905920</td>\n",
       "      <td>43.984781</td>\n",
       "      <td>11.547004</td>\n",
       "      <td>200.611572</td>\n",
       "      <td>25.286822</td>\n",
       "    </tr>\n",
       "    <tr>\n",
       "      <th>2</th>\n",
       "      <td>338.332425</td>\n",
       "      <td>61.447587</td>\n",
       "      <td>163263.282770</td>\n",
       "      <td>313.662910</td>\n",
       "      <td>60.132907</td>\n",
       "      <td>184.365669</td>\n",
       "      <td>64.323444</td>\n",
       "      <td>101.537866</td>\n",
       "      <td>13333.632625</td>\n",
       "      <td>604.552678</td>\n",
       "      <td>...</td>\n",
       "      <td>43.801239</td>\n",
       "      <td>33.412807</td>\n",
       "      <td>260.938597</td>\n",
       "      <td>1250.863380</td>\n",
       "      <td>119.376388</td>\n",
       "      <td>117.306599</td>\n",
       "      <td>1310.114847</td>\n",
       "      <td>67.245125</td>\n",
       "      <td>197.527139</td>\n",
       "      <td>3586.040501</td>\n",
       "    </tr>\n",
       "  </tbody>\n",
       "</table>\n",
       "<p>3 rows × 34 columns</p>\n",
       "</div>"
      ],
      "text/plain": [
       "destination          2169          2170           2171        2172       2173  \\\n",
       "0            12151.662419     17.627475     560.340654   60.654594  17.656413   \n",
       "1               15.849193  13617.828426      36.697340   19.521904   6.576210   \n",
       "2              338.332425     61.447587  163263.282770  313.662910  60.132907   \n",
       "\n",
       "destination        2174       2175        2176          2177         2178  \\\n",
       "0             21.548185  15.218646   31.194161    703.380402  1654.021273   \n",
       "1             19.827180  19.487958   12.308093     17.700209    17.453577   \n",
       "2            184.365669  64.323444  101.537866  13333.632625   604.552678   \n",
       "\n",
       "destination  ...       2193       2194        2195         2196        2197  \\\n",
       "0            ...  25.171195   6.377557   42.925998   455.431359   25.062816   \n",
       "1            ...  14.479513   4.677748   18.464733   265.113125   18.214178   \n",
       "2            ...  43.801239  33.412807  260.938597  1250.863380  119.376388   \n",
       "\n",
       "destination        2198         2199       2200        2201         2202  \n",
       "0             21.203416    39.459117  21.632337   66.573817   120.407465  \n",
       "1             13.905920    43.984781  11.547004  200.611572    25.286822  \n",
       "2            117.306599  1310.114847  67.245125  197.527139  3586.040501  \n",
       "\n",
       "[3 rows x 34 columns]"
      ]
     },
     "execution_count": 14,
     "metadata": {},
     "output_type": "execute_result"
    }
   ],
   "source": [
    "average_count_df = sum(globals()[f'count_df{i}'] for i in range(1, 13)) / 12\n",
    "print(average_count_df.shape)\n",
    "average_count_df.head(3)"
   ]
  },
  {
   "cell_type": "code",
   "execution_count": 15,
   "id": "f9174c2b",
   "metadata": {},
   "outputs": [
    {
     "data": {
      "text/html": [
       "<div>\n",
       "<style scoped>\n",
       "    .dataframe tbody tr th:only-of-type {\n",
       "        vertical-align: middle;\n",
       "    }\n",
       "\n",
       "    .dataframe tbody tr th {\n",
       "        vertical-align: top;\n",
       "    }\n",
       "\n",
       "    .dataframe thead th {\n",
       "        text-align: right;\n",
       "    }\n",
       "</style>\n",
       "<table border=\"1\" class=\"dataframe\">\n",
       "  <thead>\n",
       "    <tr style=\"text-align: right;\">\n",
       "      <th>destination</th>\n",
       "      <th>2169</th>\n",
       "      <th>2170</th>\n",
       "      <th>2171</th>\n",
       "      <th>2172</th>\n",
       "      <th>2173</th>\n",
       "      <th>2174</th>\n",
       "      <th>2175</th>\n",
       "      <th>2176</th>\n",
       "      <th>2177</th>\n",
       "      <th>2178</th>\n",
       "      <th>...</th>\n",
       "      <th>2193</th>\n",
       "      <th>2194</th>\n",
       "      <th>2195</th>\n",
       "      <th>2196</th>\n",
       "      <th>2197</th>\n",
       "      <th>2198</th>\n",
       "      <th>2199</th>\n",
       "      <th>2200</th>\n",
       "      <th>2201</th>\n",
       "      <th>2202</th>\n",
       "    </tr>\n",
       "  </thead>\n",
       "  <tbody>\n",
       "    <tr>\n",
       "      <th>0</th>\n",
       "      <td>0.727032</td>\n",
       "      <td>0.001055</td>\n",
       "      <td>0.033525</td>\n",
       "      <td>0.003629</td>\n",
       "      <td>0.001056</td>\n",
       "      <td>0.001289</td>\n",
       "      <td>0.000911</td>\n",
       "      <td>0.001866</td>\n",
       "      <td>0.042083</td>\n",
       "      <td>0.098960</td>\n",
       "      <td>...</td>\n",
       "      <td>0.001506</td>\n",
       "      <td>0.000382</td>\n",
       "      <td>0.002568</td>\n",
       "      <td>0.027248</td>\n",
       "      <td>0.001500</td>\n",
       "      <td>0.001269</td>\n",
       "      <td>0.002361</td>\n",
       "      <td>0.001294</td>\n",
       "      <td>0.003983</td>\n",
       "      <td>0.007204</td>\n",
       "    </tr>\n",
       "    <tr>\n",
       "      <th>1</th>\n",
       "      <td>0.001078</td>\n",
       "      <td>0.926653</td>\n",
       "      <td>0.002497</td>\n",
       "      <td>0.001328</td>\n",
       "      <td>0.000447</td>\n",
       "      <td>0.001349</td>\n",
       "      <td>0.001326</td>\n",
       "      <td>0.000838</td>\n",
       "      <td>0.001204</td>\n",
       "      <td>0.001188</td>\n",
       "      <td>...</td>\n",
       "      <td>0.000985</td>\n",
       "      <td>0.000318</td>\n",
       "      <td>0.001256</td>\n",
       "      <td>0.018040</td>\n",
       "      <td>0.001239</td>\n",
       "      <td>0.000946</td>\n",
       "      <td>0.002993</td>\n",
       "      <td>0.000786</td>\n",
       "      <td>0.013651</td>\n",
       "      <td>0.001721</td>\n",
       "    </tr>\n",
       "    <tr>\n",
       "      <th>2</th>\n",
       "      <td>0.001796</td>\n",
       "      <td>0.000326</td>\n",
       "      <td>0.866574</td>\n",
       "      <td>0.001665</td>\n",
       "      <td>0.000319</td>\n",
       "      <td>0.000979</td>\n",
       "      <td>0.000341</td>\n",
       "      <td>0.000539</td>\n",
       "      <td>0.070773</td>\n",
       "      <td>0.003209</td>\n",
       "      <td>...</td>\n",
       "      <td>0.000232</td>\n",
       "      <td>0.000177</td>\n",
       "      <td>0.001385</td>\n",
       "      <td>0.006639</td>\n",
       "      <td>0.000634</td>\n",
       "      <td>0.000623</td>\n",
       "      <td>0.006954</td>\n",
       "      <td>0.000357</td>\n",
       "      <td>0.001048</td>\n",
       "      <td>0.019034</td>\n",
       "    </tr>\n",
       "  </tbody>\n",
       "</table>\n",
       "<p>3 rows × 34 columns</p>\n",
       "</div>"
      ],
      "text/plain": [
       "destination      2169      2170      2171      2172      2173      2174  \\\n",
       "0            0.727032  0.001055  0.033525  0.003629  0.001056  0.001289   \n",
       "1            0.001078  0.926653  0.002497  0.001328  0.000447  0.001349   \n",
       "2            0.001796  0.000326  0.866574  0.001665  0.000319  0.000979   \n",
       "\n",
       "destination      2175      2176      2177      2178  ...      2193      2194  \\\n",
       "0            0.000911  0.001866  0.042083  0.098960  ...  0.001506  0.000382   \n",
       "1            0.001326  0.000838  0.001204  0.001188  ...  0.000985  0.000318   \n",
       "2            0.000341  0.000539  0.070773  0.003209  ...  0.000232  0.000177   \n",
       "\n",
       "destination      2195      2196      2197      2198      2199      2200  \\\n",
       "0            0.002568  0.027248  0.001500  0.001269  0.002361  0.001294   \n",
       "1            0.001256  0.018040  0.001239  0.000946  0.002993  0.000786   \n",
       "2            0.001385  0.006639  0.000634  0.000623  0.006954  0.000357   \n",
       "\n",
       "destination      2201      2202  \n",
       "0            0.003983  0.007204  \n",
       "1            0.013651  0.001721  \n",
       "2            0.001048  0.019034  \n",
       "\n",
       "[3 rows x 34 columns]"
      ]
     },
     "execution_count": 15,
     "metadata": {},
     "output_type": "execute_result"
    }
   ],
   "source": [
    "#Turn count to weight\n",
    "divisor = [average_count_df.iloc[i].sum() for i in range(34)]\n",
    "average_wt_mt = average_count_df.div(divisor, axis=0)\n",
    "average_wt_mt.head(3)"
   ]
  },
  {
   "cell_type": "code",
   "execution_count": 16,
   "id": "c5022125",
   "metadata": {},
   "outputs": [],
   "source": [
    "average_wt_mt_np = average_wt_mt.to_numpy()"
   ]
  },
  {
   "cell_type": "code",
   "execution_count": 17,
   "id": "77231a7f",
   "metadata": {},
   "outputs": [
    {
     "data": {
      "text/plain": [
       "0.7270324311196286"
      ]
     },
     "execution_count": 17,
     "metadata": {},
     "output_type": "execute_result"
    }
   ],
   "source": [
    "average_wt_mt_np[0][0]"
   ]
  },
  {
   "cell_type": "code",
   "execution_count": 18,
   "id": "e477a7b0",
   "metadata": {},
   "outputs": [],
   "source": [
    "Pii_ori = [average_wt_mt_np[i][i] for i in range(34)]"
   ]
  },
  {
   "cell_type": "code",
   "execution_count": 19,
   "id": "c05e1d72",
   "metadata": {},
   "outputs": [
    {
     "name": "stdout",
     "output_type": "stream",
     "text": [
      "Mean: 0.837928920653961\n",
      "Median: 0.8471554353227371\n",
      "Min: 0.6782801804868762\n",
      "Max: 0.9592912167085899\n",
      "Length of the list: 34\n"
     ]
    }
   ],
   "source": [
    "data = Pii_ori \n",
    "mean_value = sum(data) / len(data)  # Mean\n",
    "median_value = statistics.median(data)  # Median\n",
    "min_value = min(data)  # Min\n",
    "max_value = max(data)  # Max\n",
    "\n",
    "# Output\n",
    "print(f\"Mean: {mean_value}\")\n",
    "print(f\"Median: {median_value}\")\n",
    "print(f\"Min: {min_value}\")\n",
    "print(f\"Max: {max_value}\")\n",
    "print(f\"Length of the list: {len(Pii_ori)}\")"
   ]
  },
  {
   "cell_type": "markdown",
   "id": "1b5d57f4",
   "metadata": {},
   "source": [
    "# Individual Data"
   ]
  },
  {
   "cell_type": "markdown",
   "id": "1a90d7f3",
   "metadata": {},
   "source": [
    "## Different Layers of Census Data\n",
    "\n",
    "- State (2 digit)\n",
    "- County (5 digit)\n",
    "- Census Tracts (4 digits)\n",
    "- Census Block Groups\n",
    "- Census tracts"
   ]
  },
  {
   "cell_type": "code",
   "execution_count": 20,
   "id": "66114035",
   "metadata": {},
   "outputs": [
    {
     "name": "stdout",
     "output_type": "stream",
     "text": [
      "(4687481, 4)\n"
     ]
    },
    {
     "data": {
      "text/html": [
       "<div>\n",
       "<style scoped>\n",
       "    .dataframe tbody tr th:only-of-type {\n",
       "        vertical-align: middle;\n",
       "    }\n",
       "\n",
       "    .dataframe tbody tr th {\n",
       "        vertical-align: top;\n",
       "    }\n",
       "\n",
       "    .dataframe thead th {\n",
       "        text-align: right;\n",
       "    }\n",
       "</style>\n",
       "<table border=\"1\" class=\"dataframe\">\n",
       "  <thead>\n",
       "    <tr style=\"text-align: right;\">\n",
       "      <th></th>\n",
       "      <th>uid</th>\n",
       "      <th>datetime</th>\n",
       "      <th>lat</th>\n",
       "      <th>lng</th>\n",
       "    </tr>\n",
       "  </thead>\n",
       "  <tbody>\n",
       "    <tr>\n",
       "      <th>0</th>\n",
       "      <td>1</td>\n",
       "      <td>2020-03-01 00:00:00.000000</td>\n",
       "      <td>47.499024</td>\n",
       "      <td>-122.224862</td>\n",
       "    </tr>\n",
       "    <tr>\n",
       "      <th>1</th>\n",
       "      <td>1</td>\n",
       "      <td>2020-03-01 12:41:14.411882</td>\n",
       "      <td>47.500657</td>\n",
       "      <td>-122.220274</td>\n",
       "    </tr>\n",
       "    <tr>\n",
       "      <th>2</th>\n",
       "      <td>1</td>\n",
       "      <td>2020-03-01 14:11:23.605911</td>\n",
       "      <td>47.531125</td>\n",
       "      <td>-122.357910</td>\n",
       "    </tr>\n",
       "    <tr>\n",
       "      <th>3</th>\n",
       "      <td>1</td>\n",
       "      <td>2020-03-01 14:33:43.544832</td>\n",
       "      <td>47.500657</td>\n",
       "      <td>-122.220274</td>\n",
       "    </tr>\n",
       "    <tr>\n",
       "      <th>4</th>\n",
       "      <td>1</td>\n",
       "      <td>2020-03-01 14:53:52.198258</td>\n",
       "      <td>47.531125</td>\n",
       "      <td>-122.357910</td>\n",
       "    </tr>\n",
       "  </tbody>\n",
       "</table>\n",
       "</div>"
      ],
      "text/plain": [
       "   uid                    datetime        lat         lng\n",
       "0    1  2020-03-01 00:00:00.000000  47.499024 -122.224862\n",
       "1    1  2020-03-01 12:41:14.411882  47.500657 -122.220274\n",
       "2    1  2020-03-01 14:11:23.605911  47.531125 -122.357910\n",
       "3    1  2020-03-01 14:33:43.544832  47.500657 -122.220274\n",
       "4    1  2020-03-01 14:53:52.198258  47.531125 -122.357910"
      ]
     },
     "execution_count": 20,
     "metadata": {},
     "output_type": "execute_result"
    }
   ],
   "source": [
    "data = pd.read_csv(\"WA_4Week_10000_realpop.csv\")\n",
    "data = data.drop(columns = 'Unnamed: 0')\n",
    "print(data.shape)\n",
    "data.head()"
   ]
  },
  {
   "cell_type": "code",
   "execution_count": 21,
   "id": "c4fc41d0",
   "metadata": {},
   "outputs": [],
   "source": [
    "indi_visit_list = []\n",
    "for i in range(10000):\n",
    "    id_num = i+1\n",
    "    #if i % 4000 == 0:\n",
    "    #    print(i)\n",
    "    indi_sub = data[data['uid'] == id_num]\n",
    "    length = len(indi_sub)\n",
    "    indi_visit_list.append(length)"
   ]
  },
  {
   "cell_type": "code",
   "execution_count": 22,
   "id": "eff5e607",
   "metadata": {},
   "outputs": [
    {
     "data": {
      "image/png": "[encoded data removed]",
      "text/plain": [
       "<Figure size 640x480 with 1 Axes>"
      ]
     },
     "metadata": {},
     "output_type": "display_data"
    },
    {
     "name": "stdout",
     "output_type": "stream",
     "text": [
      "Min: 302\n",
      "5%: 403.0\n",
      "Median: 469.0\n",
      "95%: 532.0\n",
      "Max: 608\n"
     ]
    }
   ],
   "source": [
    "import seaborn as sns\n",
    "import matplotlib.pyplot as plt\n",
    "\n",
    "sns.kdeplot(indi_visit_list, fill=True)\n",
    "plt.xlabel('Total visit')\n",
    "plt.ylabel('Density')\n",
    "plt.title('Density Plot')\n",
    "plt.show()\n",
    "\n",
    "min_val = np.min(indi_visit_list)\n",
    "P5 = np.percentile(indi_visit_list, 5)\n",
    "median = np.median(indi_visit_list)\n",
    "P95 = np.percentile(indi_visit_list, 95)\n",
    "max_val = np.max(indi_visit_list)\n",
    "\n",
    "print(f\"Min: {min_val}\")\n",
    "print(f\"5%: {P5}\")\n",
    "print(f\"Median: {median}\")\n",
    "print(f\"95%: {P95}\")\n",
    "print(f\"Max: {max_val}\")"
   ]
  },
  {
   "cell_type": "markdown",
   "id": "e0330a82",
   "metadata": {},
   "source": [
    "# Census Tract Shape File"
   ]
  },
  {
   "cell_type": "markdown",
   "id": "40c271c9",
   "metadata": {},
   "source": [
    "https://www.census.gov/geographies/mapping-files/time-series/geo/tiger-line-file.html\n",
    "- Go to Data\n",
    "- Mapping file\n",
    "- TIGER/Line Geodatabases (GIS)\n",
    "\n",
    "\n",
    "Here's the county level shape file:\n",
    "https://www.census.gov/geographies/mapping-files/time-series/geo/carto-boundary-file.html"
   ]
  },
  {
   "cell_type": "code",
   "execution_count": 23,
   "id": "2ccabdff",
   "metadata": {},
   "outputs": [],
   "source": [
    "#Note that geopandas only works in ipykernel environment\n",
    "import geopandas as gpd\n",
    "from shapely.geometry import Point\n",
    "from shapely.wkt import loads"
   ]
  },
  {
   "cell_type": "markdown",
   "id": "dbd72bc1",
   "metadata": {},
   "source": [
    "## trying census block group this time!"
   ]
  },
  {
   "cell_type": "code",
   "execution_count": 24,
   "id": "aeabba46",
   "metadata": {},
   "outputs": [
    {
     "name": "stdout",
     "output_type": "stream",
     "text": [
      "Index(['GEOID', 'geometry'], dtype='object')\n",
      "(5311, 2)\n"
     ]
    },
    {
     "data": {
      "text/html": [
       "<div>\n",
       "<style scoped>\n",
       "    .dataframe tbody tr th:only-of-type {\n",
       "        vertical-align: middle;\n",
       "    }\n",
       "\n",
       "    .dataframe tbody tr th {\n",
       "        vertical-align: top;\n",
       "    }\n",
       "\n",
       "    .dataframe thead th {\n",
       "        text-align: right;\n",
       "    }\n",
       "</style>\n",
       "<table border=\"1\" class=\"dataframe\">\n",
       "  <thead>\n",
       "    <tr style=\"text-align: right;\">\n",
       "      <th></th>\n",
       "      <th>GEOID</th>\n",
       "      <th>geometry</th>\n",
       "    </tr>\n",
       "  </thead>\n",
       "  <tbody>\n",
       "    <tr>\n",
       "      <th>0</th>\n",
       "      <td>530039603004</td>\n",
       "      <td>POLYGON ((-117.05053 46.41287, -117.05044 46.4...</td>\n",
       "    </tr>\n",
       "  </tbody>\n",
       "</table>\n",
       "</div>"
      ],
      "text/plain": [
       "          GEOID                                           geometry\n",
       "0  530039603004  POLYGON ((-117.05053 46.41287, -117.05044 46.4..."
      ]
     },
     "execution_count": 24,
     "metadata": {},
     "output_type": "execute_result"
    }
   ],
   "source": [
    "#url = \"https://www2.census.gov/geo/tiger/TIGER2020/BG/tl_2020_53_bg.zip\"\n",
    "#tracts = gpd.read_file(url)[[\"GEOID\", \"geometry\"]]\n",
    "tracts = gpd.read_file(\"tl_2020_53_bg/tl_2020_53_bg.shp\")[[\"GEOID\", \"geometry\"]]\n",
    "print(tracts.columns)\n",
    "print(tracts.shape)\n",
    "tracts.head(1) "
   ]
  },
  {
   "cell_type": "code",
   "execution_count": 25,
   "id": "094284f0",
   "metadata": {},
   "outputs": [
    {
     "name": "stdout",
     "output_type": "stream",
     "text": [
      "(5279, 3)\n"
     ]
    },
    {
     "data": {
      "text/html": [
       "<div>\n",
       "<style scoped>\n",
       "    .dataframe tbody tr th:only-of-type {\n",
       "        vertical-align: middle;\n",
       "    }\n",
       "\n",
       "    .dataframe tbody tr th {\n",
       "        vertical-align: top;\n",
       "    }\n",
       "\n",
       "    .dataframe thead th {\n",
       "        text-align: right;\n",
       "    }\n",
       "</style>\n",
       "<table border=\"1\" class=\"dataframe\">\n",
       "  <thead>\n",
       "    <tr style=\"text-align: right;\">\n",
       "      <th></th>\n",
       "      <th>GEOID</th>\n",
       "      <th>geometry</th>\n",
       "      <th>County</th>\n",
       "    </tr>\n",
       "  </thead>\n",
       "  <tbody>\n",
       "    <tr>\n",
       "      <th>0</th>\n",
       "      <td>530039603004</td>\n",
       "      <td>POLYGON ((-117.05053 46.41287, -117.05044 46.4...</td>\n",
       "      <td>53003</td>\n",
       "    </tr>\n",
       "    <tr>\n",
       "      <th>1</th>\n",
       "      <td>530039604001</td>\n",
       "      <td>POLYGON ((-117.07434 46.41774, -117.07429 46.4...</td>\n",
       "      <td>53003</td>\n",
       "    </tr>\n",
       "    <tr>\n",
       "      <th>2</th>\n",
       "      <td>530039604002</td>\n",
       "      <td>POLYGON ((-117.07960 46.41444, -117.07931 46.4...</td>\n",
       "      <td>53003</td>\n",
       "    </tr>\n",
       "  </tbody>\n",
       "</table>\n",
       "</div>"
      ],
      "text/plain": [
       "          GEOID                                           geometry County\n",
       "0  530039603004  POLYGON ((-117.05053 46.41287, -117.05044 46.4...  53003\n",
       "1  530039604001  POLYGON ((-117.07434 46.41774, -117.07429 46.4...  53003\n",
       "2  530039604002  POLYGON ((-117.07960 46.41444, -117.07931 46.4...  53003"
      ]
     },
     "execution_count": 25,
     "metadata": {},
     "output_type": "execute_result"
    }
   ],
   "source": [
    "#Maing sure the shape file that we use to perform Geospacial join are all in countis of interest\n",
    "tracts['County'] = tracts['GEOID'].str[:5].copy()\n",
    "tracts = tracts[tracts['County'].isin(E_wa_index)]\n",
    "print(tracts.shape)\n",
    "tracts.head(3)"
   ]
  },
  {
   "cell_type": "code",
   "execution_count": 26,
   "id": "3d610447",
   "metadata": {},
   "outputs": [
    {
     "data": {
      "text/plain": [
       "34"
      ]
     },
     "execution_count": 26,
     "metadata": {},
     "output_type": "execute_result"
    }
   ],
   "source": [
    "len(tracts['County'].unique().tolist())"
   ]
  },
  {
   "cell_type": "code",
   "execution_count": 27,
   "id": "2b6b75f3",
   "metadata": {},
   "outputs": [
    {
     "data": {
      "text/plain": [
       "['53']"
      ]
     },
     "execution_count": 27,
     "metadata": {},
     "output_type": "execute_result"
    }
   ],
   "source": [
    "#To test if they are all New York Data\n",
    "test = tracts.copy()\n",
    "test['state'] = test['GEOID'].str[:2]\n",
    "unique_state = test['state'].unique().tolist()\n",
    "unique_state"
   ]
  },
  {
   "cell_type": "code",
   "execution_count": 28,
   "id": "e6b1ecd1",
   "metadata": {},
   "outputs": [
    {
     "data": {
      "image/svg+xml": [
       "<svg xmlns=\"http://www.w3.org/2000/svg\" xmlns:xlink=\"http://www.w3.org/1999/xlink\" width=\"100.0\" height=\"100.0\" viewBox=\"-117.15225048 46.324547519999996 0.10234296000001564 0.06560295999999965\" preserveAspectRatio=\"xMinYMin meet\"><g transform=\"matrix(1,0,0,-1,0,92.714698)\"><path fill-rule=\"evenodd\" fill=\"#66cc99\" stroke=\"#555555\" stroke-width=\"0.0020468592000003126\" opacity=\"0.6\" d=\"M -117.14846,46.378389999999996 L -117.14821,46.378389999999996 L -117.14807,46.37837 L -117.14801,46.37835 L -117.14794,46.378319999999995 L -117.14775900000001,46.378143 L -117.14752,46.37791 L -117.14726999999999,46.37769 L -117.14717999999999,46.377629999999996 L -117.14710000000001,46.37759 L -117.14702,46.377559999999995 L -117.14697,46.37755 L -117.14568,46.37742 L -117.14562699999999,46.377412 L -117.14524,46.377359999999996 L -117.14493999999999,46.377359999999996 L -117.14488,46.37737 L -117.14484999999999,46.377379999999995 L -117.14483,46.3774 L -117.14479,46.37742 L -117.14471,46.377489999999995 L -117.14468,46.37753 L -117.14466,46.377579999999995 L -117.14465,46.37764 L -117.14465,46.37768 L -117.14466,46.37775 L -117.14492,46.37845 L -117.14495,46.378589999999996 L -117.14495,46.3787 L -117.14493999999999,46.378789999999995 L -117.14484999999999,46.37893 L -117.14475999999999,46.37901 L -117.14462,46.37911 L -117.14448999999999,46.37918 L -117.14397,46.37939 L -117.143714,46.37947 L -117.14302,46.37969 L -117.14281,46.37976 L -117.14257,46.37983 L -117.14194,46.38003 L -117.14160000000001,46.38012 L -117.14135,46.38021 L -117.14061,46.380500000000005 L -117.14007,46.38072 L -117.13971000000001,46.380919999999996 L -117.13953000000001,46.38106 L -117.13933,46.381229999999995 L -117.13919,46.38137 L -117.1391,46.38147 L -117.13899,46.38164 L -117.13879,46.382000000000005 L -117.13873,46.38207 L -117.13868,46.38211 L -117.13847,46.38222 L -117.13807,46.382400000000004 L -117.13771,46.38259 L -117.13746,46.382749999999994 L -117.13735,46.382839999999995 L -117.13727,46.38292 L -117.13723,46.382979999999996 L -117.1372,46.38305 L -117.13719,46.38312 L -117.1372,46.38319 L -117.13722,46.38325 L -117.13727,46.38334 L -117.13734,46.38342 L -117.13744,46.38351 L -117.13768,46.38369 L -117.13797,46.38398 L -117.13799399999999,46.384009 L -117.13820000000001,46.38426 L -117.13833,46.38449 L -117.1384,46.38463 L -117.13844,46.38475 L -117.13861,46.38511 L -117.13896,46.3858 L -117.13901,46.38592 L -117.13902999999999,46.38607 L -117.13902999999999,46.38613 L -117.13900000000001,46.38623 L -117.13895,46.386269999999996 L -117.13884,46.38633 L -117.138732,46.386347 L -117.13871,46.38635 L -117.13854,46.386359999999996 L -117.13849,46.386269999999996 L -117.13837,46.3861 L -117.138305,46.386 L -117.13824,46.3859 L -117.13813,46.38569 L -117.13806,46.38554 L -117.13795999999999,46.38539 L -117.13766,46.38504 L -117.13726,46.38462 L -117.13714,46.3845 L -117.13708,46.384428 L -117.13704,46.38438 L -117.13687999999999,46.384249999999994 L -117.13671,46.384139999999995 L -117.1366,46.38408 L -117.13646,46.384029999999996 L -117.13544999999999,46.38369 L -117.13516,46.38361 L -117.13484,46.38355 L -117.134704,46.383533 L -117.13451,46.38351 L -117.13448,46.38351 L -117.13412,46.383449999999996 L -117.13389000000001,46.3834 L -117.13372,46.38335 L -117.13298,46.38304 L -117.13239,46.38278 L -117.13171,46.38249 L -117.13150999999999,46.382400000000004 L -117.13103,46.38227 L -117.13083,46.38225 L -117.13069,46.38223 L -117.130203,46.382213 L -117.12982,46.382200000000005 L -117.12938,46.38216 L -117.12910000000001,46.382129 L -117.12886,46.38209 L -117.12792,46.38187 L -117.127802,46.381845 L -117.12697,46.38167 L -117.126597,46.381636 L -117.12652,46.38163 L -117.12501,46.38163 L -117.12335,46.381609999999995 L -117.122929,46.381661 L -117.12286,46.38167 L -117.12256,46.38172 L -117.12218,46.381809999999994 L -117.12186,46.38191 L -117.121746,46.381958999999995 L -117.12158,46.38203 L -117.121549,46.382047 L -117.12146,46.3821 L -117.12132,46.38218 L -117.12101,46.382400000000004 L -117.12085,46.382549999999995 L -117.120977,46.382917 L -117.120755,46.383053 L -117.11990399999999,46.383781 L -117.11921,46.384113 L -117.118198,46.384403 L -117.11606,46.384792 L -117.115533,46.384685999999995 L -117.11526,46.38474 L -117.11382,46.385000000000005 L -117.11355,46.38504 L -117.11289,46.38514 L -117.11194,46.3853 L -117.111603,46.385349999999995 L -117.11134,46.38539 L -117.11075,46.385459999999995 L -117.10973,46.38545 L -117.10686,46.385400000000004 L -117.105696,46.385391 L -117.10543,46.38539 L -117.10451,46.38538 L -117.103725,46.38538 L -117.10339,46.38538 L -117.102963,46.385376 L -117.10229,46.385369999999995 L -117.10093,46.385349999999995 L -117.10068,46.385349999999995 L -117.10052999999999,46.385349999999995 L -117.09992,46.38534 L -117.09984,46.38534 L -117.09939800000001,46.385332999999996 L -117.09917,46.385329999999996 L -117.097832,46.385321999999995 L -117.09731,46.38532 L -117.097296,46.38532 L -117.09724,46.38532 L -117.0968,46.38532 L -117.096467,46.385315999999996 L -117.09583,46.38531 L -117.09461999999999,46.3853 L -117.09425999999999,46.38529 L -117.094152,46.38529 L -117.09338,46.38529 L -117.09312,46.385284999999996 L -117.092339,46.385273 L -117.09208,46.38527 L -117.09195,46.38527 L -117.09181699999999,46.38527 L -117.09159,46.38527 L -117.091031,46.385262999999995 L -117.09076999999999,46.385259999999995 L -117.09076999999999,46.384589999999996 L -117.09076999999999,46.38258 L -117.09076999999999,46.38191 L -117.09076999999999,46.380865 L -117.09076999999999,46.380559999999996 L -117.090769,46.380368999999995 L -117.09072,46.380109999999995 L -117.090699,46.380068 L -117.09064000000001,46.37995 L -117.09053,46.379819999999995 L -117.09040999999999,46.37972 L -117.09024,46.37963 L -117.09007,46.379549999999995 L -117.08986,46.3795 L -117.08976,46.379478999999996 L -117.08962,46.37945 L -117.08906,46.37941 L -117.08870999999999,46.37934 L -117.088606,46.379306 L -117.08837,46.37923 L -117.08815,46.37912 L -117.08771,46.378789999999995 L -117.087475,46.378616 L -117.08688000000001,46.378139999999995 L -117.08679599999999,46.378065 L -117.08658,46.377869999999994 L -117.08645,46.37764 L -117.08641,46.377489999999995 L -117.086417,46.377261999999995 L -117.08643000000001,46.37686 L -117.08642,46.37668 L -117.08639,46.376459999999994 L -117.08635,46.37629 L -117.0862,46.37574 L -117.08607,46.375409999999995 L -117.08604700000001,46.37538 L -117.08592999999999,46.375229999999995 L -117.08579,46.3751 L -117.08565,46.375009999999996 L -117.08556,46.374969 L -117.085538,46.374959 L -117.085472,46.374928999999995 L -117.08545,46.374919999999996 L -117.0854,46.37489 L -117.08521,46.374829999999996 L -117.08502,46.3748 L -117.08469,46.37478 L -117.08464000000001,46.374781 L -117.08406,46.3748 L -117.08339,46.37486 L -117.08302,46.37486 L -117.08283,46.374849999999995 L -117.08256,46.37481 L -117.08234,46.374759999999995 L -117.082171,46.374708 L -117.08211,46.37469 L -117.08186,46.37462 L -117.08160000000001,46.374500000000005 L -117.08141,46.37439 L -117.08125,46.37431 L -117.08082999999999,46.374109999999995 L -117.080553,46.373996 L -117.08049,46.37397 L -117.08036,46.37394 L -117.07910000000001,46.37372 L -117.07863,46.37363 L -117.077769,46.373498 L -117.07765,46.37348 L -117.07730000000001,46.37341 L -117.07684,46.37334 L -117.07632,46.373259999999995 L -117.07616,46.373242999999995 L -117.07585,46.37321 L -117.07560000000001,46.373200000000004 L -117.07536999999999,46.373200000000004 L -117.0753,46.37321 L -117.07481,46.37323 L -117.07466,46.37323 L -117.07423,46.373259999999995 L -117.074106,46.373276 L -117.07386,46.37331 L -117.07342299999999,46.373340999999996 L -117.07313500000001,46.373342 L -117.072976,46.373342 L -117.072213,46.373343999999996 L -117.071321,46.373315999999996 L -117.07085599999999,46.373281999999996 L -117.070387,46.373205 L -117.069999,46.373076 L -117.069591,46.372907999999995 L -117.069212,46.372668999999995 L -117.068949,46.372375999999996 L -117.068488,46.37187 L -117.067978,46.371503999999995 L -117.06763699999999,46.371309 L -117.067381,46.371210999999995 L -117.06696099999999,46.371086 L -117.066629,46.370988 L -117.066395,46.370889999999996 L -117.066198,46.370774999999995 L -117.066068,46.370683 L -117.065855,46.370508 L -117.064634,46.369364 L -117.06377,46.36848 L -117.06321,46.36824 L -117.063165,46.368289 L -117.063031,46.368438 L -117.06298699999999,46.368488 L -117.06284,46.368393999999995 L -117.062721,46.368331999999995 L -117.062377,46.368154 L -117.062223,46.368075 L -117.061266,46.367413 L -117.06146799999999,46.367247 L -117.061906,46.366808999999996 L -117.062191,46.366293 L -117.062778,46.365175 L -117.062802,46.364943 L -117.06284,46.364562 L -117.062676,46.363994 L -117.062634,46.363603 L -117.062781,46.362683999999994 L -117.062803,46.362075 L -117.06276700000001,46.361241 L -117.062763,46.360869 L -117.062745,46.360462999999996 L -117.062735,46.360282999999995 L -117.062723,46.360045 L -117.062713,46.35989 L -117.06264,46.358185 L -117.06262699999999,46.357656999999996 L -117.062639,46.355407 L -117.062703,46.354589999999995 L -117.062755,46.354155999999996 L -117.062788,46.353604999999995 L -117.06271,46.353266 L -117.062664,46.353071 L -117.062516,46.352529999999994 L -117.062229,46.351746 L -117.061925,46.350919 L -117.060981,46.349284999999995 L -117.060441,46.348571 L -117.06029699999999,46.348380999999996 L -117.059875,46.347922 L -117.059702,46.347781 L -117.05962099999999,46.347713999999996 L -117.05945299999999,46.347547999999996 L -117.05884,46.347018 L -117.057682,46.346385 L -117.056647,46.345811 L -117.056029,46.345558 L -117.053698,46.344581 L -117.054253,46.344356999999995 L -117.05476,46.344099 L -117.054855,46.344032999999996 L -117.055022,46.343796999999995 L -117.05501100000001,46.343494 L -117.055041,46.343319 L -117.055136,46.343187 L -117.05525,46.342576 L -117.055458,46.341718 L -117.055545,46.341569 L -117.05560299999999,46.341604 L -117.055777,46.341708999999994 L -117.055836,46.341744999999996 L -117.05604199999999,46.341629 L -117.056039,46.341485999999996 L -117.05605299999999,46.341305999999996 L -117.056111,46.341100000000004 L -117.05619899999999,46.340868 L -117.056348,46.340574 L -117.05649199999999,46.340347 L -117.056525,46.340294 L -117.056951,46.339822 L -117.057517,46.339306 L -117.058137,46.338803 L -117.05895,46.338158 L -117.059118,46.338052999999995 L -117.059211,46.338004999999995 L -117.05957000000001,46.337821 L -117.059735,46.337736 L -117.059861,46.337668 L -117.060243,46.337467 L -117.06037,46.3374 L -117.06055,46.337309999999995 L -117.06097199999999,46.337115 L -117.06157,46.336839999999995 L -117.06188,46.33671 L -117.06249,46.33643 L -117.062795,46.336296999999995 L -117.06316,46.33614 L -117.06333000000001,46.33607 L -117.06341,46.336042 L -117.06376,46.335919999999994 L -117.064082,46.335842 L -117.06422,46.335809999999995 L -117.06585,46.33544 L -117.066135,46.335367999999995 L -117.066817,46.335198999999996 L -117.06718599999999,46.335107 L -117.06786,46.334939999999996 L -117.068298,46.334841999999995 L -117.06867,46.334759999999996 L -117.06920000000001,46.33464 L -117.06953,46.33455 L -117.06992,46.33443 L -117.07024,46.334309999999995 L -117.07049,46.3342 L -117.07078,46.33405 L -117.07103000000001,46.33389 L -117.07123,46.333749999999995 L -117.07240999999999,46.33283 L -117.07276999999999,46.332589999999996 L -117.07303,46.33244 L -117.07327000000001,46.332339999999995 L -117.07354,46.332249999999995 L -117.07383,46.33218 L -117.07409,46.332139999999995 L -117.07444,46.332100000000004 L -117.07485,46.33209 L -117.07516,46.33209 L -117.07559,46.332100000000004 L -117.075696,46.332100000000004 L -117.07581,46.332100000000004 L -117.07681,46.33208 L -117.07793,46.33206 L -117.07918000000001,46.332049999999995 L -117.07956,46.33206 L -117.07988,46.33206 L -117.08025,46.33208 L -117.0805,46.33211 L -117.08107,46.33224 L -117.08194,46.33248 L -117.08264,46.33266 L -117.08306,46.33274 L -117.08387,46.33283 L -117.08454,46.33284 L -117.08517,46.33283 L -117.08548,46.332809999999995 L -117.08576,46.33278 L -117.08606,46.33273 L -117.08621,46.3327 L -117.08628,46.332679999999996 L -117.08662,46.33262 L -117.08706,46.33249 L -117.08822,46.332100000000004 L -117.088383,46.332048 L -117.08969,46.33163 L -117.09205,46.330839999999995 L -117.09258,46.33065 L -117.09285,46.330529999999996 L -117.09308,46.33041 L -117.09339,46.330239999999996 L -117.09365,46.330079999999995 L -117.09366800000001,46.330073 L -117.09392,46.329969999999996 L -117.09422,46.32986 L -117.09506999999999,46.329629999999995 L -117.095297,46.329575999999996 L -117.09545,46.329539999999994 L -117.0959,46.32944 L -117.09620000000001,46.3294 L -117.09656,46.32939 L -117.09798,46.32944 L -117.098194,46.32944 L -117.09833,46.32944 L -117.09922,46.32933 L -117.09991,46.329209999999996 L -117.10052999999999,46.32909 L -117.101,46.329029999999996 L -117.10123,46.329 L -117.10189,46.32893 L -117.10238,46.32886 L -117.10365999999999,46.32861 L -117.10439,46.328500000000005 L -117.10468,46.32846 L -117.10506,46.32843 L -117.10555,46.3284 L -117.10576,46.328359999999996 L -117.10582600000001,46.328337999999995 L -117.106003,46.32846 L -117.106399,46.32852 L -117.106788,46.328590999999996 L -117.106906,46.328679 L -117.10701,46.328789 L -117.107089,46.328948 L -117.10709,46.329051 L -117.10707,46.329139 L -117.107042,46.32942 L -117.107058,46.329485999999996 L -117.107145,46.329628 L -117.107478,46.329792999999995 L -117.107549,46.329814999999996 L -117.107945,46.329853 L -117.108317,46.329831 L -117.108515,46.329809 L -117.108626,46.329764999999995 L -117.108713,46.32971 L -117.108998,46.329435 L -117.109109,46.329386 L -117.109323,46.329369 L -117.10959199999999,46.329440999999996 L -117.109735,46.329505999999995 L -117.109925,46.3296 L -117.110044,46.329648999999996 L -117.110598,46.329682 L -117.110756,46.329671 L -117.111057,46.329620999999996 L -117.111279,46.329544 L -117.111374,46.329516999999996 L -117.11151100000001,46.329516999999996 L -117.111572,46.329516999999996 L -117.11175399999999,46.329609999999995 L -117.11194499999999,46.329944 L -117.112087,46.330042999999996 L -117.112388,46.33018 L -117.113054,46.330470999999996 L -117.113339,46.330509 L -117.11365599999999,46.330459 L -117.11373499999999,46.330431999999995 L -117.11402,46.330349 L -117.114448,46.330245 L -117.114606,46.330228 L -117.114828,46.330261 L -117.115081,46.330338 L -117.115303,46.330507999999995 L -117.115359,46.330633999999996 L -117.115343,46.330991 L -117.115399,46.331154999999995 L -117.115494,46.331281 L -117.115629,46.331610999999995 L -117.115597,46.331764 L -117.115566,46.331818999999996 L -117.115337,46.332291 L -117.115281,46.332460999999995 L -117.115337,46.332626 L -117.115472,46.332785 L -117.115686,46.332916 L -117.115805,46.332955 L -117.115939,46.332988 L -117.116106,46.332986999999996 L -117.116438,46.333009 L -117.11668399999999,46.333157 L -117.116938,46.333211999999996 L -117.117223,46.333200999999995 L -117.117532,46.333135 L -117.117698,46.333079999999995 L -117.11818099999999,46.333096 L -117.118355,46.333134 L -117.118973,46.333391999999996 L -117.119362,46.333644 L -117.119417,46.333687999999995 L -117.119457,46.333743 L -117.119552,46.333853 L -117.119608,46.33405 L -117.119592,46.33428 L -117.119529,46.33444 L -117.11948100000001,46.334516 L -117.119418,46.334576999999996 L -117.118848,46.334906 L -117.118769,46.334972 L -117.118714,46.335076 L -117.11864299999999,46.335301 L -117.118675,46.335536999999995 L -117.118762,46.335702 L -117.119047,46.335954 L -117.119404,46.336189999999995 L -117.119594,46.336310999999995 L -117.119618,46.336365 L -117.119642,46.336596 L -117.119682,46.336667 L -117.120094,46.337039999999995 L -117.120498,46.337275999999996 L -117.120617,46.337319 L -117.120863,46.337467 L -117.120934,46.337561 L -117.120958,46.33761 L -117.120966,46.337669999999996 L -117.12095,46.337731 L -117.120673,46.338142 L -117.120626,46.338235999999995 L -117.12057899999999,46.338521 L -117.12065,46.338735 L -117.120904,46.338949 L -117.12102300000001,46.339119 L -117.12100699999999,46.339420999999994 L -117.121166,46.339617999999994 L -117.12123,46.339788 L -117.121183,46.340331 L -117.121207,46.340474 L -117.12127,46.340578 L -117.121429,46.340714999999996 L -117.121659,46.34083 L -117.121879,46.340802 L -117.12228400000001,46.340753 L -117.122364,46.340917999999995 L -117.122427,46.341203 L -117.122562,46.341302 L -117.122776,46.341432999999995 L -117.123149,46.341784 L -117.123228,46.342053 L -117.123244,46.342327 L -117.123276,46.34253 L -117.123316,46.342563 L -117.123633,46.342755 L -117.12385499999999,46.342996 L -117.124276,46.343556 L -117.124965,46.344043 L -117.125092,46.344114999999995 L -117.125639,46.344207999999995 L -117.12569500000001,46.34435 L -117.125655,46.344603 L -117.125671,46.344636 L -117.125774,46.344750999999995 L -117.125877,46.344877 L -117.125886,46.345124 L -117.12586999999999,46.345276999999996 L -117.125927,46.345358999999995 L -117.125957,46.345402 L -117.125989,46.345448 L -117.126074,46.345504999999996 L -117.12611799999999,46.345535 L -117.126258,46.345628999999995 L -117.126322,46.345743999999996 L -117.126425,46.345853999999996 L -117.126575,46.345942 L -117.126725,46.345974999999996 L -117.126939,46.346067999999995 L -117.127129,46.3462 L -117.127272,46.346343 L -117.12738999999999,46.346517999999996 L -117.12754100000001,46.346595 L -117.127905,46.346623 L -117.128016,46.346716 L -117.128056,46.346793 L -117.128055,46.347077999999996 L -117.128,46.34721 L -117.128,46.347276 L -117.128,46.347303 L -117.127864,46.347587999999995 L -117.127967,46.347775 L -117.128379,46.348126 L -117.128505,46.348400999999996 L -117.12877399999999,46.348631 L -117.128893,46.348779 L -117.128917,46.348867 L -117.128956,46.3489 L -117.129036,46.348977 L -117.129075,46.348982 L -117.12921,46.349125 L -117.129299,46.349266 L -117.129408,46.349438 L -117.129352,46.349700999999996 L -117.129272,46.349888 L -117.129272,46.35008 L -117.129446,46.350338 L -117.12998400000001,46.350792999999996 L -117.130206,46.350925 L -117.130436,46.350986 L -117.130761,46.351138999999996 L -117.130792,46.351138999999996 L -117.130927,46.351304 L -117.131006,46.351337 L -117.131289,46.351589 L -117.131505,46.351782 L -117.13156000000001,46.351808999999996 L -117.131885,46.352149 L -117.13198,46.352331 L -117.131987,46.352605 L -117.132121,46.353192 L -117.132097,46.353339999999996 L -117.132058,46.353499 L -117.132065,46.353553999999995 L -117.131899,46.3539 L -117.131896,46.353946 L -117.13187500000001,46.354284 L -117.132048,46.354827 L -117.13222999999999,46.355222 L -117.13246,46.355534999999996 L -117.13260199999999,46.355672 L -117.13283200000001,46.355826 L -117.133101,46.35593 L -117.133362,46.356072999999995 L -117.133481,46.356111 L -117.133513,46.356096 L -117.13361,46.356052999999996 L -117.133643,46.356038999999996 L -117.13371000000001,46.356089999999995 L -117.13381,46.356179999999995 L -117.13388,46.35628 L -117.13398,46.35649 L -117.13404,46.356649999999995 L -117.13406,46.356829999999995 L -117.13413,46.35715 L -117.1342,46.357389999999995 L -117.134232,46.357479999999995 L -117.13426,46.35756 L -117.13434,46.35773 L -117.13446,46.3579 L -117.13454,46.35807 L -117.13463,46.358329999999995 L -117.13465,46.35846 L -117.13466,46.358619999999995 L -117.13465,46.35886 L -117.13467,46.35894 L -117.13470000000001,46.35903 L -117.13485,46.35924 L -117.135,46.35944 L -117.13517999999999,46.35964 L -117.13535999999999,46.35989 L -117.13546,46.3601 L -117.13551,46.36017 L -117.13623,46.36074 L -117.13640000000001,46.36091 L -117.13654,46.3611 L -117.13662,46.361219999999996 L -117.13666,46.361329999999995 L -117.136667,46.361413999999996 L -117.1367,46.36176 L -117.13673,46.36192 L -117.13681,46.36219 L -117.13693,46.36239 L -117.137,46.362469999999995 L -117.13729000000001,46.36271 L -117.13735,46.36278 L -117.13737,46.362817 L -117.13741999999999,46.36291 L -117.137426,46.362932 L -117.137439,46.362973 L -117.13750999999999,46.363209999999995 L -117.13753,46.36338 L -117.13753,46.36349 L -117.13752,46.36358 L -117.13739,46.363879999999995 L -117.137382,46.363901999999996 L -117.13732,46.36409 L -117.13730000000001,46.364200000000004 L -117.13728,46.36441 L -117.13734,46.36466 L -117.13745,46.364959999999996 L -117.137582,46.365272999999995 L -117.13793,46.3661 L -117.13813999999999,46.36663 L -117.13842,46.36729 L -117.13844,46.36738 L -117.138448,46.367548 L -117.13846,46.367779999999996 L -117.13847,46.36797 L -117.13845,46.36812 L -117.13835,46.36869 L -117.13827599999999,46.368975 L -117.13825,46.36908 L -117.13820000000001,46.36936 L -117.13821,46.36944 L -117.13824,46.36951 L -117.13846,46.369769999999995 L -117.13878,46.370079999999994 L -117.13907,46.37037 L -117.13952,46.37084 L -117.13986,46.37123 L -117.14023,46.37168 L -117.14045,46.37197 L -117.14062,46.372139999999995 L -117.140801,46.372296 L -117.14098,46.37245 L -117.14126,46.37267 L -117.141949,46.373177 L -117.14198400000001,46.373196 L -117.14219,46.373349999999995 L -117.14241,46.37349 L -117.14262,46.3736 L -117.14316,46.37381 L -117.143458,46.373919 L -117.143493,46.373931 L -117.14357,46.37396 L -117.14365000000001,46.37401 L -117.14397,46.374289999999995 L -117.14414,46.374449999999996 L -117.14445,46.37479 L -117.14465,46.375 L -117.1451,46.375429999999994 L -117.14520999999999,46.37556 L -117.14527,46.375659999999996 L -117.14529,46.37574 L -117.14532,46.37582 L -117.14535000000001,46.37593 L -117.14538,46.376000000000005 L -117.14547999999999,46.37618 L -117.14561,46.37631 L -117.1457,46.37638 L -117.14583,46.376459999999994 L -117.14592,46.376509999999996 L -117.14601,46.376549999999995 L -117.14630000000001,46.37663 L -117.14654999999999,46.37668 L -117.14683,46.376729999999995 L -117.14712,46.37681 L -117.14721,46.37685 L -117.147417,46.376964 L -117.14750000000001,46.37701 L -117.14771,46.377159999999996 L -117.14783,46.37724 L -117.14794,46.37735 L -117.1481,46.377629999999996 L -117.148423,46.378312 L -117.14842999999999,46.378327 L -117.14845199999999,46.378374 L -117.14846,46.378389999999996 z\" /></g></svg>"
      ],
      "text/plain": [
       "<POLYGON ((-117.148 46.378, -117.148 46.378, -117.148 46.378, -117.148 46.37...>"
      ]
     },
     "execution_count": 28,
     "metadata": {},
     "output_type": "execute_result"
    }
   ],
   "source": [
    "tracts.iloc[11,1]"
   ]
  },
  {
   "cell_type": "markdown",
   "id": "4ce7605d",
   "metadata": {},
   "source": [
    "## Individual trajectory data"
   ]
  },
  {
   "cell_type": "code",
   "execution_count": 29,
   "id": "a7f1e99a",
   "metadata": {
    "scrolled": true
   },
   "outputs": [
    {
     "name": "stdout",
     "output_type": "stream",
     "text": [
      "(4687481, 4)\n"
     ]
    },
    {
     "data": {
      "text/html": [
       "<div>\n",
       "<style scoped>\n",
       "    .dataframe tbody tr th:only-of-type {\n",
       "        vertical-align: middle;\n",
       "    }\n",
       "\n",
       "    .dataframe tbody tr th {\n",
       "        vertical-align: top;\n",
       "    }\n",
       "\n",
       "    .dataframe thead th {\n",
       "        text-align: right;\n",
       "    }\n",
       "</style>\n",
       "<table border=\"1\" class=\"dataframe\">\n",
       "  <thead>\n",
       "    <tr style=\"text-align: right;\">\n",
       "      <th></th>\n",
       "      <th>uid</th>\n",
       "      <th>datetime</th>\n",
       "      <th>lat</th>\n",
       "      <th>lng</th>\n",
       "    </tr>\n",
       "  </thead>\n",
       "  <tbody>\n",
       "    <tr>\n",
       "      <th>0</th>\n",
       "      <td>1</td>\n",
       "      <td>2020-03-01 00:00:00.000000</td>\n",
       "      <td>47.499024</td>\n",
       "      <td>-122.224862</td>\n",
       "    </tr>\n",
       "    <tr>\n",
       "      <th>1</th>\n",
       "      <td>1</td>\n",
       "      <td>2020-03-01 12:41:14.411882</td>\n",
       "      <td>47.500657</td>\n",
       "      <td>-122.220274</td>\n",
       "    </tr>\n",
       "    <tr>\n",
       "      <th>2</th>\n",
       "      <td>1</td>\n",
       "      <td>2020-03-01 14:11:23.605911</td>\n",
       "      <td>47.531125</td>\n",
       "      <td>-122.357910</td>\n",
       "    </tr>\n",
       "    <tr>\n",
       "      <th>3</th>\n",
       "      <td>1</td>\n",
       "      <td>2020-03-01 14:33:43.544832</td>\n",
       "      <td>47.500657</td>\n",
       "      <td>-122.220274</td>\n",
       "    </tr>\n",
       "    <tr>\n",
       "      <th>4</th>\n",
       "      <td>1</td>\n",
       "      <td>2020-03-01 14:53:52.198258</td>\n",
       "      <td>47.531125</td>\n",
       "      <td>-122.357910</td>\n",
       "    </tr>\n",
       "  </tbody>\n",
       "</table>\n",
       "</div>"
      ],
      "text/plain": [
       "   uid                    datetime        lat         lng\n",
       "0    1  2020-03-01 00:00:00.000000  47.499024 -122.224862\n",
       "1    1  2020-03-01 12:41:14.411882  47.500657 -122.220274\n",
       "2    1  2020-03-01 14:11:23.605911  47.531125 -122.357910\n",
       "3    1  2020-03-01 14:33:43.544832  47.500657 -122.220274\n",
       "4    1  2020-03-01 14:53:52.198258  47.531125 -122.357910"
      ]
     },
     "execution_count": 29,
     "metadata": {},
     "output_type": "execute_result"
    }
   ],
   "source": [
    "print(data.shape)\n",
    "data.head()"
   ]
  },
  {
   "cell_type": "markdown",
   "id": "b99a34aa",
   "metadata": {},
   "source": [
    "### This takes 5-8 seconds"
   ]
  },
  {
   "cell_type": "code",
   "execution_count": 30,
   "id": "afe71936",
   "metadata": {},
   "outputs": [
    {
     "data": {
      "text/html": [
       "<div>\n",
       "<style scoped>\n",
       "    .dataframe tbody tr th:only-of-type {\n",
       "        vertical-align: middle;\n",
       "    }\n",
       "\n",
       "    .dataframe tbody tr th {\n",
       "        vertical-align: top;\n",
       "    }\n",
       "\n",
       "    .dataframe thead th {\n",
       "        text-align: right;\n",
       "    }\n",
       "</style>\n",
       "<table border=\"1\" class=\"dataframe\">\n",
       "  <thead>\n",
       "    <tr style=\"text-align: right;\">\n",
       "      <th></th>\n",
       "      <th>uid</th>\n",
       "      <th>datetime</th>\n",
       "      <th>lat</th>\n",
       "      <th>lng</th>\n",
       "      <th>geometry</th>\n",
       "    </tr>\n",
       "  </thead>\n",
       "  <tbody>\n",
       "    <tr>\n",
       "      <th>0</th>\n",
       "      <td>1</td>\n",
       "      <td>2020-03-01 00:00:00.000000</td>\n",
       "      <td>47.499024</td>\n",
       "      <td>-122.224862</td>\n",
       "      <td>POINT (-122.22486 47.49902)</td>\n",
       "    </tr>\n",
       "    <tr>\n",
       "      <th>1</th>\n",
       "      <td>1</td>\n",
       "      <td>2020-03-01 12:41:14.411882</td>\n",
       "      <td>47.500657</td>\n",
       "      <td>-122.220274</td>\n",
       "      <td>POINT (-122.22027 47.50066)</td>\n",
       "    </tr>\n",
       "    <tr>\n",
       "      <th>2</th>\n",
       "      <td>1</td>\n",
       "      <td>2020-03-01 14:11:23.605911</td>\n",
       "      <td>47.531125</td>\n",
       "      <td>-122.357910</td>\n",
       "      <td>POINT (-122.35791 47.53113)</td>\n",
       "    </tr>\n",
       "    <tr>\n",
       "      <th>3</th>\n",
       "      <td>1</td>\n",
       "      <td>2020-03-01 14:33:43.544832</td>\n",
       "      <td>47.500657</td>\n",
       "      <td>-122.220274</td>\n",
       "      <td>POINT (-122.22027 47.50066)</td>\n",
       "    </tr>\n",
       "    <tr>\n",
       "      <th>4</th>\n",
       "      <td>1</td>\n",
       "      <td>2020-03-01 14:53:52.198258</td>\n",
       "      <td>47.531125</td>\n",
       "      <td>-122.357910</td>\n",
       "      <td>POINT (-122.35791 47.53113)</td>\n",
       "    </tr>\n",
       "  </tbody>\n",
       "</table>\n",
       "</div>"
      ],
      "text/plain": [
       "   uid                    datetime        lat         lng  \\\n",
       "0    1  2020-03-01 00:00:00.000000  47.499024 -122.224862   \n",
       "1    1  2020-03-01 12:41:14.411882  47.500657 -122.220274   \n",
       "2    1  2020-03-01 14:11:23.605911  47.531125 -122.357910   \n",
       "3    1  2020-03-01 14:33:43.544832  47.500657 -122.220274   \n",
       "4    1  2020-03-01 14:53:52.198258  47.531125 -122.357910   \n",
       "\n",
       "                      geometry  \n",
       "0  POINT (-122.22486 47.49902)  \n",
       "1  POINT (-122.22027 47.50066)  \n",
       "2  POINT (-122.35791 47.53113)  \n",
       "3  POINT (-122.22027 47.50066)  \n",
       "4  POINT (-122.35791 47.53113)  "
      ]
     },
     "execution_count": 30,
     "metadata": {},
     "output_type": "execute_result"
    }
   ],
   "source": [
    "# Convert latitude/longitude into Point geometry\n",
    "geometry = [Point(xy) for xy in zip(data[\"lng\"], data[\"lat\"])] #Convert coordinate to points\n",
    "\n",
    "# Create a GeoDataFrame with the same CRS as the Census Tract shapefile\n",
    "points_gdf = gpd.GeoDataFrame(data, geometry=geometry, crs=\"EPSG:4326\")\n",
    "\n",
    "points_gdf.head()  # Check that geometry was created correctly"
   ]
  },
  {
   "cell_type": "code",
   "execution_count": 31,
   "id": "5796ff5e",
   "metadata": {},
   "outputs": [
    {
     "data": {
      "text/html": [
       "<div>\n",
       "<style scoped>\n",
       "    .dataframe tbody tr th:only-of-type {\n",
       "        vertical-align: middle;\n",
       "    }\n",
       "\n",
       "    .dataframe tbody tr th {\n",
       "        vertical-align: top;\n",
       "    }\n",
       "\n",
       "    .dataframe thead th {\n",
       "        text-align: right;\n",
       "    }\n",
       "</style>\n",
       "<table border=\"1\" class=\"dataframe\">\n",
       "  <thead>\n",
       "    <tr style=\"text-align: right;\">\n",
       "      <th></th>\n",
       "      <th>GEOID</th>\n",
       "      <th>geometry</th>\n",
       "      <th>County</th>\n",
       "    </tr>\n",
       "  </thead>\n",
       "  <tbody>\n",
       "    <tr>\n",
       "      <th>0</th>\n",
       "      <td>530039603004</td>\n",
       "      <td>POLYGON ((-117.05053 46.41287, -117.05044 46.4...</td>\n",
       "      <td>53003</td>\n",
       "    </tr>\n",
       "    <tr>\n",
       "      <th>1</th>\n",
       "      <td>530039604001</td>\n",
       "      <td>POLYGON ((-117.07434 46.41774, -117.07429 46.4...</td>\n",
       "      <td>53003</td>\n",
       "    </tr>\n",
       "    <tr>\n",
       "      <th>2</th>\n",
       "      <td>530039604002</td>\n",
       "      <td>POLYGON ((-117.07960 46.41444, -117.07931 46.4...</td>\n",
       "      <td>53003</td>\n",
       "    </tr>\n",
       "    <tr>\n",
       "      <th>3</th>\n",
       "      <td>530039605002</td>\n",
       "      <td>POLYGON ((-117.05079 46.40887, -117.05078 46.4...</td>\n",
       "      <td>53003</td>\n",
       "    </tr>\n",
       "    <tr>\n",
       "      <th>4</th>\n",
       "      <td>530039605003</td>\n",
       "      <td>POLYGON ((-117.05864 46.40365, -117.05864 46.4...</td>\n",
       "      <td>53003</td>\n",
       "    </tr>\n",
       "  </tbody>\n",
       "</table>\n",
       "</div>"
      ],
      "text/plain": [
       "          GEOID                                           geometry County\n",
       "0  530039603004  POLYGON ((-117.05053 46.41287, -117.05044 46.4...  53003\n",
       "1  530039604001  POLYGON ((-117.07434 46.41774, -117.07429 46.4...  53003\n",
       "2  530039604002  POLYGON ((-117.07960 46.41444, -117.07931 46.4...  53003\n",
       "3  530039605002  POLYGON ((-117.05079 46.40887, -117.05078 46.4...  53003\n",
       "4  530039605003  POLYGON ((-117.05864 46.40365, -117.05864 46.4...  53003"
      ]
     },
     "execution_count": 31,
     "metadata": {},
     "output_type": "execute_result"
    }
   ],
   "source": [
    "# Convert Census Tract shapefile to the same CRS as the points\n",
    "# This is to make sure both data use EPSG:4326\n",
    "tracts = tracts.to_crs(points_gdf.crs)\n",
    "tracts.head()"
   ]
  },
  {
   "cell_type": "code",
   "execution_count": 32,
   "id": "8a322112",
   "metadata": {},
   "outputs": [
    {
     "name": "stdout",
     "output_type": "stream",
     "text": [
      "Tracts CRS: EPSG:4326\n",
      "Points CRS: EPSG:4326\n"
     ]
    }
   ],
   "source": [
    "#Proceed when we see the same CRS value\n",
    "print(\"Tracts CRS:\", tracts.crs)\n",
    "print(\"Points CRS:\", points_gdf.crs)"
   ]
  },
  {
   "cell_type": "markdown",
   "id": "56219f0a",
   "metadata": {},
   "source": [
    "## This takes three seconds"
   ]
  },
  {
   "cell_type": "code",
   "execution_count": 33,
   "id": "a7d053d6",
   "metadata": {},
   "outputs": [
    {
     "name": "stdout",
     "output_type": "stream",
     "text": [
      "34\n"
     ]
    },
    {
     "data": {
      "text/html": [
       "<div>\n",
       "<style scoped>\n",
       "    .dataframe tbody tr th:only-of-type {\n",
       "        vertical-align: middle;\n",
       "    }\n",
       "\n",
       "    .dataframe tbody tr th {\n",
       "        vertical-align: top;\n",
       "    }\n",
       "\n",
       "    .dataframe thead th {\n",
       "        text-align: right;\n",
       "    }\n",
       "</style>\n",
       "<table border=\"1\" class=\"dataframe\">\n",
       "  <thead>\n",
       "    <tr style=\"text-align: right;\">\n",
       "      <th></th>\n",
       "      <th>GEOID</th>\n",
       "      <th>geometry</th>\n",
       "      <th>County</th>\n",
       "    </tr>\n",
       "  </thead>\n",
       "  <tbody>\n",
       "    <tr>\n",
       "      <th>0</th>\n",
       "      <td>530039603004</td>\n",
       "      <td>POLYGON ((-117.05053 46.41287, -117.05044 46.4...</td>\n",
       "      <td>53003</td>\n",
       "    </tr>\n",
       "  </tbody>\n",
       "</table>\n",
       "</div>"
      ],
      "text/plain": [
       "          GEOID                                           geometry County\n",
       "0  530039603004  POLYGON ((-117.05053 46.41287, -117.05044 46.4...  53003"
      ]
     },
     "execution_count": 33,
     "metadata": {},
     "output_type": "execute_result"
    }
   ],
   "source": [
    "print(len(tracts['County'].unique().tolist()))\n",
    "tracts.head(1)"
   ]
  },
  {
   "cell_type": "code",
   "execution_count": 34,
   "id": "f1ed51ad",
   "metadata": {},
   "outputs": [
    {
     "name": "stdout",
     "output_type": "stream",
     "text": [
      "(4687481, 8)\n"
     ]
    },
    {
     "data": {
      "text/html": [
       "<div>\n",
       "<style scoped>\n",
       "    .dataframe tbody tr th:only-of-type {\n",
       "        vertical-align: middle;\n",
       "    }\n",
       "\n",
       "    .dataframe tbody tr th {\n",
       "        vertical-align: top;\n",
       "    }\n",
       "\n",
       "    .dataframe thead th {\n",
       "        text-align: right;\n",
       "    }\n",
       "</style>\n",
       "<table border=\"1\" class=\"dataframe\">\n",
       "  <thead>\n",
       "    <tr style=\"text-align: right;\">\n",
       "      <th></th>\n",
       "      <th>uid</th>\n",
       "      <th>datetime</th>\n",
       "      <th>lat</th>\n",
       "      <th>lng</th>\n",
       "      <th>geometry</th>\n",
       "      <th>index_right</th>\n",
       "      <th>GEOID</th>\n",
       "      <th>County</th>\n",
       "    </tr>\n",
       "  </thead>\n",
       "  <tbody>\n",
       "    <tr>\n",
       "      <th>0</th>\n",
       "      <td>1</td>\n",
       "      <td>2020-03-01 00:00:00.000000</td>\n",
       "      <td>47.499024</td>\n",
       "      <td>-122.224862</td>\n",
       "      <td>POINT (-122.22486 47.49902)</td>\n",
       "      <td>720.0</td>\n",
       "      <td>530330260043</td>\n",
       "      <td>53033</td>\n",
       "    </tr>\n",
       "    <tr>\n",
       "      <th>1</th>\n",
       "      <td>1</td>\n",
       "      <td>2020-03-01 12:41:14.411882</td>\n",
       "      <td>47.500657</td>\n",
       "      <td>-122.220274</td>\n",
       "      <td>POINT (-122.22027 47.50066)</td>\n",
       "      <td>3426.0</td>\n",
       "      <td>530330253023</td>\n",
       "      <td>53033</td>\n",
       "    </tr>\n",
       "    <tr>\n",
       "      <th>2</th>\n",
       "      <td>1</td>\n",
       "      <td>2020-03-01 14:11:23.605911</td>\n",
       "      <td>47.531125</td>\n",
       "      <td>-122.357910</td>\n",
       "      <td>POINT (-122.35791 47.53113)</td>\n",
       "      <td>3391.0</td>\n",
       "      <td>530330114013</td>\n",
       "      <td>53033</td>\n",
       "    </tr>\n",
       "  </tbody>\n",
       "</table>\n",
       "</div>"
      ],
      "text/plain": [
       "   uid                    datetime        lat         lng  \\\n",
       "0    1  2020-03-01 00:00:00.000000  47.499024 -122.224862   \n",
       "1    1  2020-03-01 12:41:14.411882  47.500657 -122.220274   \n",
       "2    1  2020-03-01 14:11:23.605911  47.531125 -122.357910   \n",
       "\n",
       "                      geometry  index_right         GEOID County  \n",
       "0  POINT (-122.22486 47.49902)        720.0  530330260043  53033  \n",
       "1  POINT (-122.22027 47.50066)       3426.0  530330253023  53033  \n",
       "2  POINT (-122.35791 47.53113)       3391.0  530330114013  53033  "
      ]
     },
     "execution_count": 34,
     "metadata": {},
     "output_type": "execute_result"
    }
   ],
   "source": [
    "#Perform spacial join\n",
    "joined_gdf = gpd.sjoin(points_gdf, tracts, how=\"left\", predicate=\"within\")\n",
    "print(joined_gdf.shape)\n",
    "joined_gdf.head(3)"
   ]
  },
  {
   "cell_type": "code",
   "execution_count": 35,
   "id": "a0338ef4",
   "metadata": {
    "scrolled": true
   },
   "outputs": [
    {
     "data": {
      "text/html": [
       "<div>\n",
       "<style scoped>\n",
       "    .dataframe tbody tr th:only-of-type {\n",
       "        vertical-align: middle;\n",
       "    }\n",
       "\n",
       "    .dataframe tbody tr th {\n",
       "        vertical-align: top;\n",
       "    }\n",
       "\n",
       "    .dataframe thead th {\n",
       "        text-align: right;\n",
       "    }\n",
       "</style>\n",
       "<table border=\"1\" class=\"dataframe\">\n",
       "  <thead>\n",
       "    <tr style=\"text-align: right;\">\n",
       "      <th></th>\n",
       "      <th>uid</th>\n",
       "      <th>datetime</th>\n",
       "      <th>lat</th>\n",
       "      <th>lng</th>\n",
       "      <th>geometry</th>\n",
       "      <th>index_right</th>\n",
       "      <th>GEOID</th>\n",
       "      <th>County</th>\n",
       "      <th>day</th>\n",
       "    </tr>\n",
       "  </thead>\n",
       "  <tbody>\n",
       "    <tr>\n",
       "      <th>4687478</th>\n",
       "      <td>10000</td>\n",
       "      <td>2020-03-30 22:25:42.376638</td>\n",
       "      <td>47.861257</td>\n",
       "      <td>-122.288708</td>\n",
       "      <td>POINT (-122.28871 47.86126)</td>\n",
       "      <td>2040.0</td>\n",
       "      <td>530610501024</td>\n",
       "      <td>53061</td>\n",
       "      <td>30</td>\n",
       "    </tr>\n",
       "    <tr>\n",
       "      <th>4687479</th>\n",
       "      <td>10000</td>\n",
       "      <td>2020-03-30 23:14:53.624814</td>\n",
       "      <td>47.768764</td>\n",
       "      <td>-122.246590</td>\n",
       "      <td>POINT (-122.24659 47.76876)</td>\n",
       "      <td>5132.0</td>\n",
       "      <td>530330217011</td>\n",
       "      <td>53033</td>\n",
       "      <td>30</td>\n",
       "    </tr>\n",
       "    <tr>\n",
       "      <th>4687480</th>\n",
       "      <td>10000</td>\n",
       "      <td>2020-03-30 23:42:08.826532</td>\n",
       "      <td>47.663052</td>\n",
       "      <td>-122.307438</td>\n",
       "      <td>POINT (-122.30744 47.66305)</td>\n",
       "      <td>2580.0</td>\n",
       "      <td>530330053073</td>\n",
       "      <td>53033</td>\n",
       "      <td>30</td>\n",
       "    </tr>\n",
       "  </tbody>\n",
       "</table>\n",
       "</div>"
      ],
      "text/plain": [
       "           uid                   datetime        lat         lng  \\\n",
       "4687478  10000 2020-03-30 22:25:42.376638  47.861257 -122.288708   \n",
       "4687479  10000 2020-03-30 23:14:53.624814  47.768764 -122.246590   \n",
       "4687480  10000 2020-03-30 23:42:08.826532  47.663052 -122.307438   \n",
       "\n",
       "                            geometry  index_right         GEOID County  day  \n",
       "4687478  POINT (-122.28871 47.86126)       2040.0  530610501024  53061   30  \n",
       "4687479  POINT (-122.24659 47.76876)       5132.0  530330217011  53033   30  \n",
       "4687480  POINT (-122.30744 47.66305)       2580.0  530330053073  53033   30  "
      ]
     },
     "execution_count": 35,
     "metadata": {},
     "output_type": "execute_result"
    }
   ],
   "source": [
    "joined_gdf['datetime'] = pd.to_datetime(joined_gdf['datetime'])\n",
    "joined_gdf['day'] = joined_gdf['datetime'].dt.day\n",
    "joined_gdf.tail(3)"
   ]
  },
  {
   "cell_type": "code",
   "execution_count": 36,
   "id": "79b8a285",
   "metadata": {},
   "outputs": [
    {
     "name": "stdout",
     "output_type": "stream",
     "text": [
      "34\n"
     ]
    }
   ],
   "source": [
    "joined_gdf = joined_gdf[~(joined_gdf['County'].isna())].copy()\n",
    "print(len(joined_gdf['County'].unique().tolist()))"
   ]
  },
  {
   "cell_type": "markdown",
   "id": "435b4a23",
   "metadata": {},
   "source": [
    "# Groupping"
   ]
  },
  {
   "cell_type": "markdown",
   "id": "64f2b0c4",
   "metadata": {},
   "source": [
    "## Here's Where to add noise"
   ]
  },
  {
   "cell_type": "code",
   "execution_count": 37,
   "id": "fe3f3595",
   "metadata": {},
   "outputs": [
    {
     "data": {
      "text/html": [
       "<div>\n",
       "<style scoped>\n",
       "    .dataframe tbody tr th:only-of-type {\n",
       "        vertical-align: middle;\n",
       "    }\n",
       "\n",
       "    .dataframe tbody tr th {\n",
       "        vertical-align: top;\n",
       "    }\n",
       "\n",
       "    .dataframe thead th {\n",
       "        text-align: right;\n",
       "    }\n",
       "</style>\n",
       "<table border=\"1\" class=\"dataframe\">\n",
       "  <thead>\n",
       "    <tr style=\"text-align: right;\">\n",
       "      <th></th>\n",
       "      <th>uid</th>\n",
       "      <th>day</th>\n",
       "      <th>GEOID</th>\n",
       "      <th>Count</th>\n",
       "    </tr>\n",
       "  </thead>\n",
       "  <tbody>\n",
       "    <tr>\n",
       "      <th>0</th>\n",
       "      <td>1</td>\n",
       "      <td>1</td>\n",
       "      <td>530330077004</td>\n",
       "      <td>2</td>\n",
       "    </tr>\n",
       "    <tr>\n",
       "      <th>1</th>\n",
       "      <td>1</td>\n",
       "      <td>1</td>\n",
       "      <td>530330079023</td>\n",
       "      <td>1</td>\n",
       "    </tr>\n",
       "    <tr>\n",
       "      <th>2</th>\n",
       "      <td>1</td>\n",
       "      <td>1</td>\n",
       "      <td>530330108001</td>\n",
       "      <td>1</td>\n",
       "    </tr>\n",
       "    <tr>\n",
       "      <th>3</th>\n",
       "      <td>1</td>\n",
       "      <td>1</td>\n",
       "      <td>530330114013</td>\n",
       "      <td>3</td>\n",
       "    </tr>\n",
       "    <tr>\n",
       "      <th>4</th>\n",
       "      <td>1</td>\n",
       "      <td>1</td>\n",
       "      <td>530330229011</td>\n",
       "      <td>1</td>\n",
       "    </tr>\n",
       "    <tr>\n",
       "      <th>5</th>\n",
       "      <td>1</td>\n",
       "      <td>1</td>\n",
       "      <td>530330249041</td>\n",
       "      <td>1</td>\n",
       "    </tr>\n",
       "    <tr>\n",
       "      <th>6</th>\n",
       "      <td>1</td>\n",
       "      <td>1</td>\n",
       "      <td>530330253023</td>\n",
       "      <td>2</td>\n",
       "    </tr>\n",
       "    <tr>\n",
       "      <th>7</th>\n",
       "      <td>1</td>\n",
       "      <td>1</td>\n",
       "      <td>530330260043</td>\n",
       "      <td>2</td>\n",
       "    </tr>\n",
       "    <tr>\n",
       "      <th>8</th>\n",
       "      <td>1</td>\n",
       "      <td>2</td>\n",
       "      <td>530330063002</td>\n",
       "      <td>2</td>\n",
       "    </tr>\n",
       "    <tr>\n",
       "      <th>9</th>\n",
       "      <td>1</td>\n",
       "      <td>2</td>\n",
       "      <td>530330064001</td>\n",
       "      <td>1</td>\n",
       "    </tr>\n",
       "  </tbody>\n",
       "</table>\n",
       "</div>"
      ],
      "text/plain": [
       "   uid  day         GEOID  Count\n",
       "0    1    1  530330077004      2\n",
       "1    1    1  530330079023      1\n",
       "2    1    1  530330108001      1\n",
       "3    1    1  530330114013      3\n",
       "4    1    1  530330229011      1\n",
       "5    1    1  530330249041      1\n",
       "6    1    1  530330253023      2\n",
       "7    1    1  530330260043      2\n",
       "8    1    2  530330063002      2\n",
       "9    1    2  530330064001      1"
      ]
     },
     "execution_count": 37,
     "metadata": {},
     "output_type": "execute_result"
    }
   ],
   "source": [
    "#Grouped\n",
    "grouped_counts = joined_gdf.groupby(['uid', 'day','GEOID']).size().reset_index()\n",
    "rename = {0 : 'Count'}\n",
    "grouped_counts = grouped_counts.rename(columns = rename)\n",
    "grouped_counts.head(10)"
   ]
  },
  {
   "cell_type": "code",
   "execution_count": 38,
   "id": "8af1e6ef",
   "metadata": {},
   "outputs": [
    {
     "name": "stdout",
     "output_type": "stream",
     "text": [
      "(3559938, 5)\n"
     ]
    },
    {
     "data": {
      "text/html": [
       "<div>\n",
       "<style scoped>\n",
       "    .dataframe tbody tr th:only-of-type {\n",
       "        vertical-align: middle;\n",
       "    }\n",
       "\n",
       "    .dataframe tbody tr th {\n",
       "        vertical-align: top;\n",
       "    }\n",
       "\n",
       "    .dataframe thead th {\n",
       "        text-align: right;\n",
       "    }\n",
       "</style>\n",
       "<table border=\"1\" class=\"dataframe\">\n",
       "  <thead>\n",
       "    <tr style=\"text-align: right;\">\n",
       "      <th></th>\n",
       "      <th>uid</th>\n",
       "      <th>day</th>\n",
       "      <th>GEOID</th>\n",
       "      <th>County</th>\n",
       "      <th>Count</th>\n",
       "    </tr>\n",
       "  </thead>\n",
       "  <tbody>\n",
       "    <tr>\n",
       "      <th>0</th>\n",
       "      <td>1</td>\n",
       "      <td>1</td>\n",
       "      <td>530330077004</td>\n",
       "      <td>53033</td>\n",
       "      <td>2</td>\n",
       "    </tr>\n",
       "    <tr>\n",
       "      <th>1</th>\n",
       "      <td>1</td>\n",
       "      <td>1</td>\n",
       "      <td>530330079023</td>\n",
       "      <td>53033</td>\n",
       "      <td>1</td>\n",
       "    </tr>\n",
       "    <tr>\n",
       "      <th>2</th>\n",
       "      <td>1</td>\n",
       "      <td>1</td>\n",
       "      <td>530330108001</td>\n",
       "      <td>53033</td>\n",
       "      <td>1</td>\n",
       "    </tr>\n",
       "    <tr>\n",
       "      <th>3</th>\n",
       "      <td>1</td>\n",
       "      <td>1</td>\n",
       "      <td>530330114013</td>\n",
       "      <td>53033</td>\n",
       "      <td>3</td>\n",
       "    </tr>\n",
       "    <tr>\n",
       "      <th>4</th>\n",
       "      <td>1</td>\n",
       "      <td>1</td>\n",
       "      <td>530330229011</td>\n",
       "      <td>53033</td>\n",
       "      <td>1</td>\n",
       "    </tr>\n",
       "  </tbody>\n",
       "</table>\n",
       "</div>"
      ],
      "text/plain": [
       "   uid  day         GEOID County  Count\n",
       "0    1    1  530330077004  53033      2\n",
       "1    1    1  530330079023  53033      1\n",
       "2    1    1  530330108001  53033      1\n",
       "3    1    1  530330114013  53033      3\n",
       "4    1    1  530330229011  53033      1"
      ]
     },
     "execution_count": 38,
     "metadata": {},
     "output_type": "execute_result"
    }
   ],
   "source": [
    "grouped_counts.insert(3, \"County\", grouped_counts['GEOID'].str[:5]) #State + county is a five digit code\n",
    "\n",
    "#One individual has about 30 unique locations\n",
    "print(grouped_counts.shape)\n",
    "grouped_counts.head(5)"
   ]
  },
  {
   "cell_type": "code",
   "execution_count": 39,
   "id": "df868ec4",
   "metadata": {},
   "outputs": [
    {
     "name": "stdout",
     "output_type": "stream",
     "text": [
      "10000\n"
     ]
    }
   ],
   "source": [
    "unique_id = grouped_counts['uid'].unique().tolist()\n",
    "print(len(unique_id))"
   ]
  },
  {
   "cell_type": "markdown",
   "id": "101c44ef",
   "metadata": {},
   "source": [
    "# DP Noise"
   ]
  },
  {
   "cell_type": "code",
   "execution_count": 40,
   "id": "c6d4a715",
   "metadata": {},
   "outputs": [
    {
     "name": "stdout",
     "output_type": "stream",
     "text": [
      "0\n",
      "1\n",
      "2\n",
      "3\n",
      "4\n",
      "5\n",
      "6\n"
     ]
    }
   ],
   "source": [
    "import opendp.prelude as dp\n",
    "dp.enable_features(\"contrib\")\n",
    "\n",
    "#The Loop\n",
    "privacy_budget = [0.8, 0.5, 0.3, 0.1, 0.05, 0.01, 0.005]\n",
    "name = ['P8','P5','P3','P1','P05','P01','P005']\n",
    "\n",
    "# Ensure the 'Count' column is float before applying DP noise\n",
    "grouped_counts['Count'] = grouped_counts['Count'].astype(int).copy()\n",
    "\n",
    "for i in range(len(privacy_budget)):\n",
    "    print(i)\n",
    "    epsilon = privacy_budget[i] #Privacy budget\n",
    "    sensitivity = 1\n",
    "    scale = sensitivity / epsilon\n",
    "    \n",
    "    # Create the Laplace mechanism\n",
    "    laplace_mechanism = dp.m.make_laplace(\n",
    "        dp.atom_domain(T=int), dp.absolute_distance(T=int), scale)\n",
    "    \n",
    "    #Define the Laplace function\n",
    "    def apply_dp_noise(count):\n",
    "        return laplace_mechanism(count)\n",
    "    \n",
    "    #Name for the new column\n",
    "    text = name[i]\n",
    "    \n",
    "    grouped_counts[f'Count_{text}'] = grouped_counts['Count'].apply(lambda x: max(laplace_mechanism(x), 0))\n",
    "    "
   ]
  },
  {
   "cell_type": "code",
   "execution_count": 41,
   "id": "cdca8174",
   "metadata": {},
   "outputs": [
    {
     "data": {
      "text/html": [
       "<div>\n",
       "<style scoped>\n",
       "    .dataframe tbody tr th:only-of-type {\n",
       "        vertical-align: middle;\n",
       "    }\n",
       "\n",
       "    .dataframe tbody tr th {\n",
       "        vertical-align: top;\n",
       "    }\n",
       "\n",
       "    .dataframe thead th {\n",
       "        text-align: right;\n",
       "    }\n",
       "</style>\n",
       "<table border=\"1\" class=\"dataframe\">\n",
       "  <thead>\n",
       "    <tr style=\"text-align: right;\">\n",
       "      <th></th>\n",
       "      <th>uid</th>\n",
       "      <th>day</th>\n",
       "      <th>GEOID</th>\n",
       "      <th>County</th>\n",
       "      <th>Count</th>\n",
       "      <th>Count_P8</th>\n",
       "      <th>Count_P5</th>\n",
       "      <th>Count_P3</th>\n",
       "      <th>Count_P1</th>\n",
       "      <th>Count_P05</th>\n",
       "      <th>Count_P01</th>\n",
       "      <th>Count_P005</th>\n",
       "    </tr>\n",
       "  </thead>\n",
       "  <tbody>\n",
       "    <tr>\n",
       "      <th>0</th>\n",
       "      <td>1</td>\n",
       "      <td>1</td>\n",
       "      <td>530330077004</td>\n",
       "      <td>53033</td>\n",
       "      <td>2</td>\n",
       "      <td>0</td>\n",
       "      <td>0</td>\n",
       "      <td>1</td>\n",
       "      <td>0</td>\n",
       "      <td>13</td>\n",
       "      <td>0</td>\n",
       "      <td>270</td>\n",
       "    </tr>\n",
       "    <tr>\n",
       "      <th>1</th>\n",
       "      <td>1</td>\n",
       "      <td>1</td>\n",
       "      <td>530330079023</td>\n",
       "      <td>53033</td>\n",
       "      <td>1</td>\n",
       "      <td>0</td>\n",
       "      <td>2</td>\n",
       "      <td>2</td>\n",
       "      <td>6</td>\n",
       "      <td>0</td>\n",
       "      <td>0</td>\n",
       "      <td>50</td>\n",
       "    </tr>\n",
       "    <tr>\n",
       "      <th>2</th>\n",
       "      <td>1</td>\n",
       "      <td>1</td>\n",
       "      <td>530330108001</td>\n",
       "      <td>53033</td>\n",
       "      <td>1</td>\n",
       "      <td>1</td>\n",
       "      <td>1</td>\n",
       "      <td>5</td>\n",
       "      <td>6</td>\n",
       "      <td>0</td>\n",
       "      <td>69</td>\n",
       "      <td>520</td>\n",
       "    </tr>\n",
       "    <tr>\n",
       "      <th>3</th>\n",
       "      <td>1</td>\n",
       "      <td>1</td>\n",
       "      <td>530330114013</td>\n",
       "      <td>53033</td>\n",
       "      <td>3</td>\n",
       "      <td>2</td>\n",
       "      <td>2</td>\n",
       "      <td>7</td>\n",
       "      <td>14</td>\n",
       "      <td>0</td>\n",
       "      <td>0</td>\n",
       "      <td>0</td>\n",
       "    </tr>\n",
       "    <tr>\n",
       "      <th>4</th>\n",
       "      <td>1</td>\n",
       "      <td>1</td>\n",
       "      <td>530330229011</td>\n",
       "      <td>53033</td>\n",
       "      <td>1</td>\n",
       "      <td>3</td>\n",
       "      <td>1</td>\n",
       "      <td>0</td>\n",
       "      <td>0</td>\n",
       "      <td>15</td>\n",
       "      <td>21</td>\n",
       "      <td>27</td>\n",
       "    </tr>\n",
       "    <tr>\n",
       "      <th>5</th>\n",
       "      <td>1</td>\n",
       "      <td>1</td>\n",
       "      <td>530330249041</td>\n",
       "      <td>53033</td>\n",
       "      <td>1</td>\n",
       "      <td>0</td>\n",
       "      <td>6</td>\n",
       "      <td>3</td>\n",
       "      <td>0</td>\n",
       "      <td>9</td>\n",
       "      <td>46</td>\n",
       "      <td>437</td>\n",
       "    </tr>\n",
       "    <tr>\n",
       "      <th>6</th>\n",
       "      <td>1</td>\n",
       "      <td>1</td>\n",
       "      <td>530330253023</td>\n",
       "      <td>53033</td>\n",
       "      <td>2</td>\n",
       "      <td>2</td>\n",
       "      <td>2</td>\n",
       "      <td>2</td>\n",
       "      <td>0</td>\n",
       "      <td>5</td>\n",
       "      <td>0</td>\n",
       "      <td>516</td>\n",
       "    </tr>\n",
       "    <tr>\n",
       "      <th>7</th>\n",
       "      <td>1</td>\n",
       "      <td>1</td>\n",
       "      <td>530330260043</td>\n",
       "      <td>53033</td>\n",
       "      <td>2</td>\n",
       "      <td>4</td>\n",
       "      <td>2</td>\n",
       "      <td>0</td>\n",
       "      <td>10</td>\n",
       "      <td>0</td>\n",
       "      <td>0</td>\n",
       "      <td>151</td>\n",
       "    </tr>\n",
       "    <tr>\n",
       "      <th>8</th>\n",
       "      <td>1</td>\n",
       "      <td>2</td>\n",
       "      <td>530330063002</td>\n",
       "      <td>53033</td>\n",
       "      <td>2</td>\n",
       "      <td>0</td>\n",
       "      <td>4</td>\n",
       "      <td>7</td>\n",
       "      <td>8</td>\n",
       "      <td>75</td>\n",
       "      <td>103</td>\n",
       "      <td>0</td>\n",
       "    </tr>\n",
       "    <tr>\n",
       "      <th>9</th>\n",
       "      <td>1</td>\n",
       "      <td>2</td>\n",
       "      <td>530330064001</td>\n",
       "      <td>53033</td>\n",
       "      <td>1</td>\n",
       "      <td>5</td>\n",
       "      <td>5</td>\n",
       "      <td>1</td>\n",
       "      <td>0</td>\n",
       "      <td>28</td>\n",
       "      <td>0</td>\n",
       "      <td>35</td>\n",
       "    </tr>\n",
       "  </tbody>\n",
       "</table>\n",
       "</div>"
      ],
      "text/plain": [
       "   uid  day         GEOID County  Count  Count_P8  Count_P5  Count_P3  \\\n",
       "0    1    1  530330077004  53033      2         0         0         1   \n",
       "1    1    1  530330079023  53033      1         0         2         2   \n",
       "2    1    1  530330108001  53033      1         1         1         5   \n",
       "3    1    1  530330114013  53033      3         2         2         7   \n",
       "4    1    1  530330229011  53033      1         3         1         0   \n",
       "5    1    1  530330249041  53033      1         0         6         3   \n",
       "6    1    1  530330253023  53033      2         2         2         2   \n",
       "7    1    1  530330260043  53033      2         4         2         0   \n",
       "8    1    2  530330063002  53033      2         0         4         7   \n",
       "9    1    2  530330064001  53033      1         5         5         1   \n",
       "\n",
       "   Count_P1  Count_P05  Count_P01  Count_P005  \n",
       "0         0         13          0         270  \n",
       "1         6          0          0          50  \n",
       "2         6          0         69         520  \n",
       "3        14          0          0           0  \n",
       "4         0         15         21          27  \n",
       "5         0          9         46         437  \n",
       "6         0          5          0         516  \n",
       "7        10          0          0         151  \n",
       "8         8         75        103           0  \n",
       "9         0         28          0          35  "
      ]
     },
     "execution_count": 41,
     "metadata": {},
     "output_type": "execute_result"
    }
   ],
   "source": [
    "grouped_counts.head(10)"
   ]
  },
  {
   "cell_type": "markdown",
   "id": "d6301f89",
   "metadata": {},
   "source": [
    "#"
   ]
  },
  {
   "cell_type": "markdown",
   "id": "2e118245",
   "metadata": {},
   "source": [
    "# Home Location"
   ]
  },
  {
   "cell_type": "code",
   "execution_count": 42,
   "id": "64c857c6",
   "metadata": {},
   "outputs": [
    {
     "name": "stdout",
     "output_type": "stream",
     "text": [
      "(10000, 3)\n"
     ]
    },
    {
     "data": {
      "text/html": [
       "<div>\n",
       "<style scoped>\n",
       "    .dataframe tbody tr th:only-of-type {\n",
       "        vertical-align: middle;\n",
       "    }\n",
       "\n",
       "    .dataframe tbody tr th {\n",
       "        vertical-align: top;\n",
       "    }\n",
       "\n",
       "    .dataframe thead th {\n",
       "        text-align: right;\n",
       "    }\n",
       "</style>\n",
       "<table border=\"1\" class=\"dataframe\">\n",
       "  <thead>\n",
       "    <tr style=\"text-align: right;\">\n",
       "      <th></th>\n",
       "      <th>uid</th>\n",
       "      <th>lat</th>\n",
       "      <th>lng</th>\n",
       "    </tr>\n",
       "  </thead>\n",
       "  <tbody>\n",
       "    <tr>\n",
       "      <th>0</th>\n",
       "      <td>1</td>\n",
       "      <td>47.619176</td>\n",
       "      <td>-122.299747</td>\n",
       "    </tr>\n",
       "    <tr>\n",
       "      <th>1</th>\n",
       "      <td>2</td>\n",
       "      <td>47.619195</td>\n",
       "      <td>-122.294069</td>\n",
       "    </tr>\n",
       "    <tr>\n",
       "      <th>2</th>\n",
       "      <td>3</td>\n",
       "      <td>47.200451</td>\n",
       "      <td>-122.306044</td>\n",
       "    </tr>\n",
       "    <tr>\n",
       "      <th>3</th>\n",
       "      <td>4</td>\n",
       "      <td>47.565443</td>\n",
       "      <td>-122.643190</td>\n",
       "    </tr>\n",
       "    <tr>\n",
       "      <th>4</th>\n",
       "      <td>5</td>\n",
       "      <td>45.703995</td>\n",
       "      <td>-122.698107</td>\n",
       "    </tr>\n",
       "  </tbody>\n",
       "</table>\n",
       "</div>"
      ],
      "text/plain": [
       "   uid        lat         lng\n",
       "0    1  47.619176 -122.299747\n",
       "1    2  47.619195 -122.294069\n",
       "2    3  47.200451 -122.306044\n",
       "3    4  47.565443 -122.643190\n",
       "4    5  45.703995 -122.698107"
      ]
     },
     "execution_count": 42,
     "metadata": {},
     "output_type": "execute_result"
    }
   ],
   "source": [
    "home = pd.read_csv(\"Home_location_4Week_10000_WA_realpop.csv\")\n",
    "home = home.drop(columns = 'Unnamed: 0')\n",
    "print(home.shape)\n",
    "home.head()"
   ]
  },
  {
   "cell_type": "code",
   "execution_count": 43,
   "id": "148a739b",
   "metadata": {},
   "outputs": [
    {
     "data": {
      "text/html": [
       "<div>\n",
       "<style scoped>\n",
       "    .dataframe tbody tr th:only-of-type {\n",
       "        vertical-align: middle;\n",
       "    }\n",
       "\n",
       "    .dataframe tbody tr th {\n",
       "        vertical-align: top;\n",
       "    }\n",
       "\n",
       "    .dataframe thead th {\n",
       "        text-align: right;\n",
       "    }\n",
       "</style>\n",
       "<table border=\"1\" class=\"dataframe\">\n",
       "  <thead>\n",
       "    <tr style=\"text-align: right;\">\n",
       "      <th></th>\n",
       "      <th>uid</th>\n",
       "      <th>lat</th>\n",
       "      <th>lng</th>\n",
       "      <th>geometry</th>\n",
       "    </tr>\n",
       "  </thead>\n",
       "  <tbody>\n",
       "    <tr>\n",
       "      <th>0</th>\n",
       "      <td>1</td>\n",
       "      <td>47.619176</td>\n",
       "      <td>-122.299747</td>\n",
       "      <td>POINT (-122.29975 47.61918)</td>\n",
       "    </tr>\n",
       "    <tr>\n",
       "      <th>1</th>\n",
       "      <td>2</td>\n",
       "      <td>47.619195</td>\n",
       "      <td>-122.294069</td>\n",
       "      <td>POINT (-122.29407 47.61919)</td>\n",
       "    </tr>\n",
       "    <tr>\n",
       "      <th>2</th>\n",
       "      <td>3</td>\n",
       "      <td>47.200451</td>\n",
       "      <td>-122.306044</td>\n",
       "      <td>POINT (-122.30604 47.20045)</td>\n",
       "    </tr>\n",
       "    <tr>\n",
       "      <th>3</th>\n",
       "      <td>4</td>\n",
       "      <td>47.565443</td>\n",
       "      <td>-122.643190</td>\n",
       "      <td>POINT (-122.64319 47.56544)</td>\n",
       "    </tr>\n",
       "    <tr>\n",
       "      <th>4</th>\n",
       "      <td>5</td>\n",
       "      <td>45.703995</td>\n",
       "      <td>-122.698107</td>\n",
       "      <td>POINT (-122.69811 45.70400)</td>\n",
       "    </tr>\n",
       "  </tbody>\n",
       "</table>\n",
       "</div>"
      ],
      "text/plain": [
       "   uid        lat         lng                     geometry\n",
       "0    1  47.619176 -122.299747  POINT (-122.29975 47.61918)\n",
       "1    2  47.619195 -122.294069  POINT (-122.29407 47.61919)\n",
       "2    3  47.200451 -122.306044  POINT (-122.30604 47.20045)\n",
       "3    4  47.565443 -122.643190  POINT (-122.64319 47.56544)\n",
       "4    5  45.703995 -122.698107  POINT (-122.69811 45.70400)"
      ]
     },
     "execution_count": 43,
     "metadata": {},
     "output_type": "execute_result"
    }
   ],
   "source": [
    "# Convert latitude/longitude into Point geometry\n",
    "geometry = [Point(xy) for xy in zip(home[\"lng\"], home[\"lat\"])] #Convert coordinate to points\n",
    "\n",
    "# Create a GeoDataFrame with the same CRS as the Census Tract shapefile\n",
    "home_points_gdf = gpd.GeoDataFrame(home, geometry=geometry, crs=\"EPSG:4326\")\n",
    "\n",
    "home_points_gdf.head()  # Check that geometry was created correctly"
   ]
  },
  {
   "cell_type": "code",
   "execution_count": 44,
   "id": "4682a297",
   "metadata": {},
   "outputs": [
    {
     "name": "stdout",
     "output_type": "stream",
     "text": [
      "Tracts CRS: EPSG:4326\n",
      "Points CRS: EPSG:4326\n"
     ]
    }
   ],
   "source": [
    "print(\"Tracts CRS:\", tracts.crs)\n",
    "print(\"Points CRS:\", home_points_gdf.crs)"
   ]
  },
  {
   "cell_type": "code",
   "execution_count": 45,
   "id": "fe417693",
   "metadata": {},
   "outputs": [
    {
     "name": "stdout",
     "output_type": "stream",
     "text": [
      "34\n"
     ]
    },
    {
     "data": {
      "text/html": [
       "<div>\n",
       "<style scoped>\n",
       "    .dataframe tbody tr th:only-of-type {\n",
       "        vertical-align: middle;\n",
       "    }\n",
       "\n",
       "    .dataframe tbody tr th {\n",
       "        vertical-align: top;\n",
       "    }\n",
       "\n",
       "    .dataframe thead th {\n",
       "        text-align: right;\n",
       "    }\n",
       "</style>\n",
       "<table border=\"1\" class=\"dataframe\">\n",
       "  <thead>\n",
       "    <tr style=\"text-align: right;\">\n",
       "      <th></th>\n",
       "      <th>GEOID</th>\n",
       "      <th>geometry</th>\n",
       "      <th>County</th>\n",
       "    </tr>\n",
       "  </thead>\n",
       "  <tbody>\n",
       "    <tr>\n",
       "      <th>0</th>\n",
       "      <td>530039603004</td>\n",
       "      <td>POLYGON ((-117.05053 46.41287, -117.05044 46.4...</td>\n",
       "      <td>53003</td>\n",
       "    </tr>\n",
       "    <tr>\n",
       "      <th>1</th>\n",
       "      <td>530039604001</td>\n",
       "      <td>POLYGON ((-117.07434 46.41774, -117.07429 46.4...</td>\n",
       "      <td>53003</td>\n",
       "    </tr>\n",
       "    <tr>\n",
       "      <th>2</th>\n",
       "      <td>530039604002</td>\n",
       "      <td>POLYGON ((-117.07960 46.41444, -117.07931 46.4...</td>\n",
       "      <td>53003</td>\n",
       "    </tr>\n",
       "  </tbody>\n",
       "</table>\n",
       "</div>"
      ],
      "text/plain": [
       "          GEOID                                           geometry County\n",
       "0  530039603004  POLYGON ((-117.05053 46.41287, -117.05044 46.4...  53003\n",
       "1  530039604001  POLYGON ((-117.07434 46.41774, -117.07429 46.4...  53003\n",
       "2  530039604002  POLYGON ((-117.07960 46.41444, -117.07931 46.4...  53003"
      ]
     },
     "execution_count": 45,
     "metadata": {},
     "output_type": "execute_result"
    }
   ],
   "source": [
    "print(len(tracts['County'].unique().tolist()))\n",
    "tracts.head(3)"
   ]
  },
  {
   "cell_type": "code",
   "execution_count": 46,
   "id": "45be8f9b",
   "metadata": {
    "scrolled": true
   },
   "outputs": [
    {
     "name": "stdout",
     "output_type": "stream",
     "text": [
      "(10000, 7)\n"
     ]
    },
    {
     "data": {
      "text/html": [
       "<div>\n",
       "<style scoped>\n",
       "    .dataframe tbody tr th:only-of-type {\n",
       "        vertical-align: middle;\n",
       "    }\n",
       "\n",
       "    .dataframe tbody tr th {\n",
       "        vertical-align: top;\n",
       "    }\n",
       "\n",
       "    .dataframe thead th {\n",
       "        text-align: right;\n",
       "    }\n",
       "</style>\n",
       "<table border=\"1\" class=\"dataframe\">\n",
       "  <thead>\n",
       "    <tr style=\"text-align: right;\">\n",
       "      <th></th>\n",
       "      <th>uid</th>\n",
       "      <th>lat</th>\n",
       "      <th>lng</th>\n",
       "      <th>geometry</th>\n",
       "      <th>index_right</th>\n",
       "      <th>GEOID</th>\n",
       "      <th>County</th>\n",
       "    </tr>\n",
       "  </thead>\n",
       "  <tbody>\n",
       "    <tr>\n",
       "      <th>0</th>\n",
       "      <td>1</td>\n",
       "      <td>47.619176</td>\n",
       "      <td>-122.299747</td>\n",
       "      <td>POINT (-122.29975 47.61918)</td>\n",
       "      <td>4757.0</td>\n",
       "      <td>530330077004</td>\n",
       "      <td>53033</td>\n",
       "    </tr>\n",
       "    <tr>\n",
       "      <th>1</th>\n",
       "      <td>2</td>\n",
       "      <td>47.619195</td>\n",
       "      <td>-122.294069</td>\n",
       "      <td>POINT (-122.29407 47.61919)</td>\n",
       "      <td>4756.0</td>\n",
       "      <td>530330077001</td>\n",
       "      <td>53033</td>\n",
       "    </tr>\n",
       "    <tr>\n",
       "      <th>2</th>\n",
       "      <td>3</td>\n",
       "      <td>47.200451</td>\n",
       "      <td>-122.306044</td>\n",
       "      <td>POINT (-122.30604 47.20045)</td>\n",
       "      <td>2942.0</td>\n",
       "      <td>530530734072</td>\n",
       "      <td>53053</td>\n",
       "    </tr>\n",
       "  </tbody>\n",
       "</table>\n",
       "</div>"
      ],
      "text/plain": [
       "   uid        lat         lng                     geometry  index_right  \\\n",
       "0    1  47.619176 -122.299747  POINT (-122.29975 47.61918)       4757.0   \n",
       "1    2  47.619195 -122.294069  POINT (-122.29407 47.61919)       4756.0   \n",
       "2    3  47.200451 -122.306044  POINT (-122.30604 47.20045)       2942.0   \n",
       "\n",
       "          GEOID County  \n",
       "0  530330077004  53033  \n",
       "1  530330077001  53033  \n",
       "2  530530734072  53053  "
      ]
     },
     "execution_count": 46,
     "metadata": {},
     "output_type": "execute_result"
    }
   ],
   "source": [
    "home_joined_gdf = gpd.sjoin(home_points_gdf, tracts, how=\"left\", predicate=\"within\")\n",
    "print(home_joined_gdf.shape)\n",
    "home_joined_gdf.head(3)"
   ]
  },
  {
   "cell_type": "code",
   "execution_count": 47,
   "id": "ffaa76c1",
   "metadata": {},
   "outputs": [
    {
     "data": {
      "text/html": [
       "<div>\n",
       "<style scoped>\n",
       "    .dataframe tbody tr th:only-of-type {\n",
       "        vertical-align: middle;\n",
       "    }\n",
       "\n",
       "    .dataframe tbody tr th {\n",
       "        vertical-align: top;\n",
       "    }\n",
       "\n",
       "    .dataframe thead th {\n",
       "        text-align: right;\n",
       "    }\n",
       "</style>\n",
       "<table border=\"1\" class=\"dataframe\">\n",
       "  <thead>\n",
       "    <tr style=\"text-align: right;\">\n",
       "      <th></th>\n",
       "      <th>uid</th>\n",
       "      <th>lat</th>\n",
       "      <th>lng</th>\n",
       "      <th>geometry</th>\n",
       "      <th>index_right</th>\n",
       "      <th>GEOID</th>\n",
       "      <th>County</th>\n",
       "      <th>home_geoid</th>\n",
       "    </tr>\n",
       "  </thead>\n",
       "  <tbody>\n",
       "    <tr>\n",
       "      <th>0</th>\n",
       "      <td>1</td>\n",
       "      <td>47.619176</td>\n",
       "      <td>-122.299747</td>\n",
       "      <td>POINT (-122.29975 47.61918)</td>\n",
       "      <td>4757.0</td>\n",
       "      <td>530330077004</td>\n",
       "      <td>53033</td>\n",
       "      <td>53033</td>\n",
       "    </tr>\n",
       "    <tr>\n",
       "      <th>1</th>\n",
       "      <td>2</td>\n",
       "      <td>47.619195</td>\n",
       "      <td>-122.294069</td>\n",
       "      <td>POINT (-122.29407 47.61919)</td>\n",
       "      <td>4756.0</td>\n",
       "      <td>530330077001</td>\n",
       "      <td>53033</td>\n",
       "      <td>53033</td>\n",
       "    </tr>\n",
       "    <tr>\n",
       "      <th>2</th>\n",
       "      <td>3</td>\n",
       "      <td>47.200451</td>\n",
       "      <td>-122.306044</td>\n",
       "      <td>POINT (-122.30604 47.20045)</td>\n",
       "      <td>2942.0</td>\n",
       "      <td>530530734072</td>\n",
       "      <td>53053</td>\n",
       "      <td>53053</td>\n",
       "    </tr>\n",
       "  </tbody>\n",
       "</table>\n",
       "</div>"
      ],
      "text/plain": [
       "   uid        lat         lng                     geometry  index_right  \\\n",
       "0    1  47.619176 -122.299747  POINT (-122.29975 47.61918)       4757.0   \n",
       "1    2  47.619195 -122.294069  POINT (-122.29407 47.61919)       4756.0   \n",
       "2    3  47.200451 -122.306044  POINT (-122.30604 47.20045)       2942.0   \n",
       "\n",
       "          GEOID County home_geoid  \n",
       "0  530330077004  53033      53033  \n",
       "1  530330077001  53033      53033  \n",
       "2  530530734072  53053      53053  "
      ]
     },
     "execution_count": 47,
     "metadata": {},
     "output_type": "execute_result"
    }
   ],
   "source": [
    "#home geoid at the county level\n",
    "home_joined_gdf['home_geoid'] = home_joined_gdf['GEOID'].str[:5] \n",
    "home_joined_gdf.head(3)"
   ]
  },
  {
   "cell_type": "code",
   "execution_count": 48,
   "id": "34cd9c78",
   "metadata": {},
   "outputs": [
    {
     "name": "stdout",
     "output_type": "stream",
     "text": [
      "35\n"
     ]
    }
   ],
   "source": [
    "print(len(home_joined_gdf['home_geoid'].unique().tolist()))"
   ]
  },
  {
   "cell_type": "markdown",
   "id": "1009829a",
   "metadata": {},
   "source": [
    "### This is where home list is computed!!! Important!!!"
   ]
  },
  {
   "cell_type": "code",
   "execution_count": 49,
   "id": "0c231813",
   "metadata": {},
   "outputs": [
    {
     "data": {
      "text/plain": [
       "10000"
      ]
     },
     "execution_count": 49,
     "metadata": {},
     "output_type": "execute_result"
    }
   ],
   "source": [
    "#Home list------------------------------------------------!!------------!!-----------\n",
    "home_list = home_joined_gdf['home_geoid'].tolist()\n",
    "len(home_list)"
   ]
  },
  {
   "cell_type": "code",
   "execution_count": 50,
   "id": "51273437",
   "metadata": {},
   "outputs": [
    {
     "data": {
      "text/plain": [
       "'530330077004'"
      ]
     },
     "execution_count": 50,
     "metadata": {},
     "output_type": "execute_result"
    }
   ],
   "source": [
    "home = home_joined_gdf[home_joined_gdf['uid'] == 1]['GEOID'][0]\n",
    "home"
   ]
  },
  {
   "cell_type": "code",
   "execution_count": 51,
   "id": "474a93bf",
   "metadata": {},
   "outputs": [
    {
     "data": {
      "text/html": [
       "<div>\n",
       "<style scoped>\n",
       "    .dataframe tbody tr th:only-of-type {\n",
       "        vertical-align: middle;\n",
       "    }\n",
       "\n",
       "    .dataframe tbody tr th {\n",
       "        vertical-align: top;\n",
       "    }\n",
       "\n",
       "    .dataframe thead th {\n",
       "        text-align: right;\n",
       "    }\n",
       "</style>\n",
       "<table border=\"1\" class=\"dataframe\">\n",
       "  <thead>\n",
       "    <tr style=\"text-align: right;\">\n",
       "      <th></th>\n",
       "      <th>GEOID</th>\n",
       "      <th>pop2020</th>\n",
       "    </tr>\n",
       "  </thead>\n",
       "  <tbody>\n",
       "    <tr>\n",
       "      <th>3106</th>\n",
       "      <td>06037</td>\n",
       "      <td>9989165.0</td>\n",
       "    </tr>\n",
       "    <tr>\n",
       "      <th>3107</th>\n",
       "      <td>46113</td>\n",
       "      <td>14309.0</td>\n",
       "    </tr>\n",
       "    <tr>\n",
       "      <th>3108</th>\n",
       "      <td>51515</td>\n",
       "      <td>6599.0</td>\n",
       "    </tr>\n",
       "  </tbody>\n",
       "</table>\n",
       "</div>"
      ],
      "text/plain": [
       "      GEOID    pop2020\n",
       "3106  06037  9989165.0\n",
       "3107  46113    14309.0\n",
       "3108  51515     6599.0"
      ]
     },
     "execution_count": 51,
     "metadata": {},
     "output_type": "execute_result"
    }
   ],
   "source": [
    "us_shape_file = pd.read_csv(\"../../Data/us_shapefile_county.csv\")\n",
    "\n",
    "#rename column\n",
    "rename = {\"FIPS code\" : \"GEOID\"}\n",
    "us_shape_file = us_shape_file.rename(columns = rename)\n",
    "us_shape_file[\"GEOID\"] = us_shape_file[\"GEOID\"].apply(lambda x: f\"{int(x):05d}\")\n",
    "us_shape_file = us_shape_file[['GEOID','pop2020']].copy()\n",
    "us_shape_file.tail(3)"
   ]
  },
  {
   "cell_type": "code",
   "execution_count": 52,
   "id": "563de838",
   "metadata": {},
   "outputs": [
    {
     "data": {
      "text/html": [
       "<div>\n",
       "<style scoped>\n",
       "    .dataframe tbody tr th:only-of-type {\n",
       "        vertical-align: middle;\n",
       "    }\n",
       "\n",
       "    .dataframe tbody tr th {\n",
       "        vertical-align: top;\n",
       "    }\n",
       "\n",
       "    .dataframe thead th {\n",
       "        text-align: right;\n",
       "    }\n",
       "</style>\n",
       "<table border=\"1\" class=\"dataframe\">\n",
       "  <thead>\n",
       "    <tr style=\"text-align: right;\">\n",
       "      <th></th>\n",
       "      <th>GEOID</th>\n",
       "      <th>Count</th>\n",
       "    </tr>\n",
       "  </thead>\n",
       "  <tbody>\n",
       "    <tr>\n",
       "      <th>0</th>\n",
       "      <td>53001</td>\n",
       "      <td>20</td>\n",
       "    </tr>\n",
       "    <tr>\n",
       "      <th>1</th>\n",
       "      <td>53003</td>\n",
       "      <td>39</td>\n",
       "    </tr>\n",
       "    <tr>\n",
       "      <th>2</th>\n",
       "      <td>53005</td>\n",
       "      <td>267</td>\n",
       "    </tr>\n",
       "  </tbody>\n",
       "</table>\n",
       "</div>"
      ],
      "text/plain": [
       "   GEOID  Count\n",
       "0  53001     20\n",
       "1  53003     39\n",
       "2  53005    267"
      ]
     },
     "execution_count": 52,
     "metadata": {},
     "output_type": "execute_result"
    }
   ],
   "source": [
    "home_groped= home_joined_gdf.groupby('home_geoid').size().reset_index(name='Count')\n",
    "rename = {'home_geoid' :'GEOID'}\n",
    "home_groped = home_groped.rename(columns = rename)\n",
    "home_groped.head(3)"
   ]
  },
  {
   "cell_type": "code",
   "execution_count": 53,
   "id": "a965dc8b",
   "metadata": {},
   "outputs": [
    {
     "data": {
      "text/html": [
       "<div>\n",
       "<style scoped>\n",
       "    .dataframe tbody tr th:only-of-type {\n",
       "        vertical-align: middle;\n",
       "    }\n",
       "\n",
       "    .dataframe tbody tr th {\n",
       "        vertical-align: top;\n",
       "    }\n",
       "\n",
       "    .dataframe thead th {\n",
       "        text-align: right;\n",
       "    }\n",
       "</style>\n",
       "<table border=\"1\" class=\"dataframe\">\n",
       "  <thead>\n",
       "    <tr style=\"text-align: right;\">\n",
       "      <th></th>\n",
       "      <th>GEOID</th>\n",
       "      <th>pop2020</th>\n",
       "      <th>Count</th>\n",
       "    </tr>\n",
       "  </thead>\n",
       "  <tbody>\n",
       "    <tr>\n",
       "      <th>0</th>\n",
       "      <td>53059</td>\n",
       "      <td>12034.0</td>\n",
       "      <td>6</td>\n",
       "    </tr>\n",
       "    <tr>\n",
       "      <th>1</th>\n",
       "      <td>53051</td>\n",
       "      <td>13482.0</td>\n",
       "      <td>11</td>\n",
       "    </tr>\n",
       "    <tr>\n",
       "      <th>2</th>\n",
       "      <td>53055</td>\n",
       "      <td>17818.0</td>\n",
       "      <td>15</td>\n",
       "    </tr>\n",
       "  </tbody>\n",
       "</table>\n",
       "</div>"
      ],
      "text/plain": [
       "   GEOID  pop2020  Count\n",
       "0  53059  12034.0      6\n",
       "1  53051  13482.0     11\n",
       "2  53055  17818.0     15"
      ]
     },
     "execution_count": 53,
     "metadata": {},
     "output_type": "execute_result"
    }
   ],
   "source": [
    "home_merged = pd.merge(us_shape_file, home_groped, on = 'GEOID', how = 'inner')\n",
    "home_merged.head(3)"
   ]
  },
  {
   "cell_type": "code",
   "execution_count": 54,
   "id": "e1c84473",
   "metadata": {},
   "outputs": [
    {
     "data": {
      "image/png": "[encoded data removed]",
      "text/plain": [
       "<Figure size 640x480 with 1 Axes>"
      ]
     },
     "metadata": {},
     "output_type": "display_data"
    }
   ],
   "source": [
    "home_merged['log_pop2021'] = np.log10(home_merged['pop2020'] + 1)\n",
    "home_merged['log_Count'] = np.log10(home_merged['Count'] + 1)\n",
    "\n",
    "import matplotlib.pyplot as plt\n",
    "\n",
    "plt.scatter(home_merged['log_pop2021'], home_merged['log_Count'], color='blue')\n",
    "#plt.scatter(home_merged['pop2021'], home_merged['Count'], color='blue')\n",
    "plt.xlabel('Log10(County Population)')\n",
    "plt.ylabel('Log10(Number of Home Locations)')\n",
    "plt.title('Log-Log Relationship: Population vs. Home Locations')\n",
    "plt.grid(True)\n",
    "plt.show()"
   ]
  },
  {
   "cell_type": "markdown",
   "id": "2fdba82e",
   "metadata": {},
   "source": [
    "### Test if it is a linear relationship"
   ]
  },
  {
   "cell_type": "code",
   "execution_count": 55,
   "id": "6037ae7c",
   "metadata": {},
   "outputs": [
    {
     "name": "stdout",
     "output_type": "stream",
     "text": [
      "R² score: 0.9974522729679544\n",
      "Estimated slope (β₁): 0.001412750243274121\n",
      "Estimated intercept (β₀): -25.442753206727104\n"
     ]
    }
   ],
   "source": [
    "from sklearn.linear_model import LinearRegression\n",
    "\n",
    "# Reshape X to 2D\n",
    "X = home_merged[['pop2020']]  # double brackets = 2D DataFrame\n",
    "y = home_merged['Count']\n",
    "\n",
    "model = LinearRegression()\n",
    "model.fit(X, y)\n",
    "\n",
    "r_squared = model.score(X, y)\n",
    "print(\"R² score:\", r_squared)\n",
    "\n",
    "slope = model.coef_[0]\n",
    "intercept = model.intercept_\n",
    "\n",
    "print(f\"Estimated slope (β₁): {slope}\")\n",
    "print(f\"Estimated intercept (β₀): {intercept}\")"
   ]
  },
  {
   "cell_type": "markdown",
   "id": "454a6234",
   "metadata": {},
   "source": [
    "#"
   ]
  },
  {
   "cell_type": "markdown",
   "id": "a7e20d94",
   "metadata": {},
   "source": [
    "# The Loop"
   ]
  },
  {
   "cell_type": "code",
   "execution_count": 60,
   "id": "2978f295",
   "metadata": {},
   "outputs": [
    {
     "name": "stdout",
     "output_type": "stream",
     "text": [
      "(3559938, 12)\n"
     ]
    },
    {
     "data": {
      "text/html": [
       "<div>\n",
       "<style scoped>\n",
       "    .dataframe tbody tr th:only-of-type {\n",
       "        vertical-align: middle;\n",
       "    }\n",
       "\n",
       "    .dataframe tbody tr th {\n",
       "        vertical-align: top;\n",
       "    }\n",
       "\n",
       "    .dataframe thead th {\n",
       "        text-align: right;\n",
       "    }\n",
       "</style>\n",
       "<table border=\"1\" class=\"dataframe\">\n",
       "  <thead>\n",
       "    <tr style=\"text-align: right;\">\n",
       "      <th></th>\n",
       "      <th>uid</th>\n",
       "      <th>day</th>\n",
       "      <th>GEOID</th>\n",
       "      <th>County</th>\n",
       "      <th>Count</th>\n",
       "      <th>Count_P8</th>\n",
       "      <th>Count_P5</th>\n",
       "      <th>Count_P3</th>\n",
       "      <th>Count_P1</th>\n",
       "      <th>Count_P05</th>\n",
       "      <th>Count_P01</th>\n",
       "      <th>Count_P005</th>\n",
       "    </tr>\n",
       "  </thead>\n",
       "  <tbody>\n",
       "    <tr>\n",
       "      <th>0</th>\n",
       "      <td>1</td>\n",
       "      <td>1</td>\n",
       "      <td>530330077004</td>\n",
       "      <td>53033</td>\n",
       "      <td>2</td>\n",
       "      <td>0</td>\n",
       "      <td>0</td>\n",
       "      <td>1</td>\n",
       "      <td>0</td>\n",
       "      <td>13</td>\n",
       "      <td>0</td>\n",
       "      <td>270</td>\n",
       "    </tr>\n",
       "    <tr>\n",
       "      <th>1</th>\n",
       "      <td>1</td>\n",
       "      <td>1</td>\n",
       "      <td>530330079023</td>\n",
       "      <td>53033</td>\n",
       "      <td>1</td>\n",
       "      <td>0</td>\n",
       "      <td>2</td>\n",
       "      <td>2</td>\n",
       "      <td>6</td>\n",
       "      <td>0</td>\n",
       "      <td>0</td>\n",
       "      <td>50</td>\n",
       "    </tr>\n",
       "    <tr>\n",
       "      <th>2</th>\n",
       "      <td>1</td>\n",
       "      <td>1</td>\n",
       "      <td>530330108001</td>\n",
       "      <td>53033</td>\n",
       "      <td>1</td>\n",
       "      <td>1</td>\n",
       "      <td>1</td>\n",
       "      <td>5</td>\n",
       "      <td>6</td>\n",
       "      <td>0</td>\n",
       "      <td>69</td>\n",
       "      <td>520</td>\n",
       "    </tr>\n",
       "    <tr>\n",
       "      <th>3</th>\n",
       "      <td>1</td>\n",
       "      <td>1</td>\n",
       "      <td>530330114013</td>\n",
       "      <td>53033</td>\n",
       "      <td>3</td>\n",
       "      <td>2</td>\n",
       "      <td>2</td>\n",
       "      <td>7</td>\n",
       "      <td>14</td>\n",
       "      <td>0</td>\n",
       "      <td>0</td>\n",
       "      <td>0</td>\n",
       "    </tr>\n",
       "    <tr>\n",
       "      <th>4</th>\n",
       "      <td>1</td>\n",
       "      <td>1</td>\n",
       "      <td>530330229011</td>\n",
       "      <td>53033</td>\n",
       "      <td>1</td>\n",
       "      <td>3</td>\n",
       "      <td>1</td>\n",
       "      <td>0</td>\n",
       "      <td>0</td>\n",
       "      <td>15</td>\n",
       "      <td>21</td>\n",
       "      <td>27</td>\n",
       "    </tr>\n",
       "  </tbody>\n",
       "</table>\n",
       "</div>"
      ],
      "text/plain": [
       "   uid  day         GEOID County  Count  Count_P8  Count_P5  Count_P3  \\\n",
       "0    1    1  530330077004  53033      2         0         0         1   \n",
       "1    1    1  530330079023  53033      1         0         2         2   \n",
       "2    1    1  530330108001  53033      1         1         1         5   \n",
       "3    1    1  530330114013  53033      3         2         2         7   \n",
       "4    1    1  530330229011  53033      1         3         1         0   \n",
       "\n",
       "   Count_P1  Count_P05  Count_P01  Count_P005  \n",
       "0         0         13          0         270  \n",
       "1         6          0          0          50  \n",
       "2         6          0         69         520  \n",
       "3        14          0          0           0  \n",
       "4         0         15         21          27  "
      ]
     },
     "execution_count": 60,
     "metadata": {},
     "output_type": "execute_result"
    }
   ],
   "source": [
    "print(grouped_counts.shape)\n",
    "grouped_counts.head(5)"
   ]
  },
  {
   "cell_type": "markdown",
   "id": "2e79261c",
   "metadata": {},
   "source": [
    "### Assign home locaton to each individual"
   ]
  },
  {
   "cell_type": "code",
   "execution_count": 61,
   "id": "eba16a0b",
   "metadata": {},
   "outputs": [
    {
     "name": "stdout",
     "output_type": "stream",
     "text": [
      "0\n",
      "4000\n",
      "8000\n"
     ]
    }
   ],
   "source": [
    "# Enpty Data Frame\n",
    "ori_des_df = pd.DataFrame()\n",
    "person_id = grouped_counts[\"uid\"].unique().tolist()\n",
    "\n",
    "#The Loop\n",
    "for i in range(len(person_id)):\n",
    "    \n",
    "    if i % 4000 == 0:\n",
    "        print(i)\n",
    "    \n",
    "    #Reset_index: This makes sure that everytime we do the subset, index start with 1\n",
    "    person = grouped_counts[grouped_counts['uid'] == person_id[i]].reset_index().copy()\n",
    "    person = person.drop(columns = ['index']) #since it create a separate column of index, we drop it!\n",
    "    \n",
    "    #Use existing data to find home location\n",
    "    Origin = home_list[i]\n",
    "    \n",
    "    #Insert Origin, shift county to the right as 'Destination'\n",
    "    person.insert(3, \"Origin\", Origin)\n",
    "    \n",
    "    #rename column\n",
    "    rename = {'County': 'Destination'}\n",
    "    person = person.rename(columns = rename)\n",
    "    \n",
    "    #Concat the result\n",
    "    #Note that each row are count for one census block, convert them into origin and destinaion\n",
    "    ori_des_df = pd.concat([ori_des_df, person], axis = 0)"
   ]
  },
  {
   "cell_type": "code",
   "execution_count": 214,
   "id": "d2f7cecc",
   "metadata": {},
   "outputs": [
    {
     "name": "stdout",
     "output_type": "stream",
     "text": [
      "(3559997, 13)\n"
     ]
    },
    {
     "data": {
      "text/html": [
       "<div>\n",
       "<style scoped>\n",
       "    .dataframe tbody tr th:only-of-type {\n",
       "        vertical-align: middle;\n",
       "    }\n",
       "\n",
       "    .dataframe tbody tr th {\n",
       "        vertical-align: top;\n",
       "    }\n",
       "\n",
       "    .dataframe thead th {\n",
       "        text-align: right;\n",
       "    }\n",
       "</style>\n",
       "<table border=\"1\" class=\"dataframe\">\n",
       "  <thead>\n",
       "    <tr style=\"text-align: right;\">\n",
       "      <th></th>\n",
       "      <th>uid</th>\n",
       "      <th>day</th>\n",
       "      <th>GEOID</th>\n",
       "      <th>Origin</th>\n",
       "      <th>Destination</th>\n",
       "      <th>Count</th>\n",
       "      <th>Count_P8</th>\n",
       "      <th>Count_P5</th>\n",
       "      <th>Count_P3</th>\n",
       "      <th>Count_P1</th>\n",
       "      <th>Count_P05</th>\n",
       "      <th>Count_P01</th>\n",
       "      <th>Count_P005</th>\n",
       "    </tr>\n",
       "  </thead>\n",
       "  <tbody>\n",
       "    <tr>\n",
       "      <th>0</th>\n",
       "      <td>1</td>\n",
       "      <td>1</td>\n",
       "      <td>530330077004</td>\n",
       "      <td>53033</td>\n",
       "      <td>53033</td>\n",
       "      <td>2</td>\n",
       "      <td>3</td>\n",
       "      <td>0</td>\n",
       "      <td>4</td>\n",
       "      <td>0</td>\n",
       "      <td>2</td>\n",
       "      <td>320</td>\n",
       "      <td>223</td>\n",
       "    </tr>\n",
       "    <tr>\n",
       "      <th>1</th>\n",
       "      <td>1</td>\n",
       "      <td>1</td>\n",
       "      <td>530330079023</td>\n",
       "      <td>53033</td>\n",
       "      <td>53033</td>\n",
       "      <td>1</td>\n",
       "      <td>0</td>\n",
       "      <td>6</td>\n",
       "      <td>4</td>\n",
       "      <td>0</td>\n",
       "      <td>0</td>\n",
       "      <td>277</td>\n",
       "      <td>0</td>\n",
       "    </tr>\n",
       "    <tr>\n",
       "      <th>2</th>\n",
       "      <td>1</td>\n",
       "      <td>1</td>\n",
       "      <td>530330108001</td>\n",
       "      <td>53033</td>\n",
       "      <td>53033</td>\n",
       "      <td>1</td>\n",
       "      <td>0</td>\n",
       "      <td>0</td>\n",
       "      <td>1</td>\n",
       "      <td>0</td>\n",
       "      <td>38</td>\n",
       "      <td>15</td>\n",
       "      <td>635</td>\n",
       "    </tr>\n",
       "  </tbody>\n",
       "</table>\n",
       "</div>"
      ],
      "text/plain": [
       "   uid  day         GEOID Origin Destination  Count  Count_P8  Count_P5  \\\n",
       "0    1    1  530330077004  53033       53033      2         3         0   \n",
       "1    1    1  530330079023  53033       53033      1         0         6   \n",
       "2    1    1  530330108001  53033       53033      1         0         0   \n",
       "\n",
       "   Count_P3  Count_P1  Count_P05  Count_P01  Count_P005  \n",
       "0         4         0          2        320         223  \n",
       "1         4         0          0        277           0  \n",
       "2         1         0         38         15         635  "
      ]
     },
     "execution_count": 214,
     "metadata": {},
     "output_type": "execute_result"
    }
   ],
   "source": [
    "print(ori_des_df.shape)\n",
    "ori_des_df.head(3)\n",
    "#ori_des_df.to_excel(\"ori_des_df.xlsx\")"
   ]
  },
  {
   "cell_type": "code",
   "execution_count": 62,
   "id": "f964c3d7",
   "metadata": {},
   "outputs": [],
   "source": [
    "#Make sure origin and destination are all within counties of interest\n",
    "ori_des_df = ori_des_df[ori_des_df['Origin'].isin(E_wa_index)]\n",
    "ori_des_df = ori_des_df[ori_des_df['Destination'].isin(E_wa_index)]"
   ]
  },
  {
   "cell_type": "code",
   "execution_count": 63,
   "id": "16e0f2c7",
   "metadata": {},
   "outputs": [
    {
     "data": {
      "text/plain": [
       "(3559569, 13)"
      ]
     },
     "execution_count": 63,
     "metadata": {},
     "output_type": "execute_result"
    }
   ],
   "source": [
    "ori_des_df.shape"
   ]
  },
  {
   "cell_type": "markdown",
   "id": "1d3bf2aa",
   "metadata": {},
   "source": [
    "#"
   ]
  },
  {
   "cell_type": "markdown",
   "id": "2ad9fc6b",
   "metadata": {},
   "source": [
    "# Computing Weight Matrix"
   ]
  },
  {
   "cell_type": "markdown",
   "id": "c06d23b6",
   "metadata": {},
   "source": [
    "### Average Matrix Epsilon"
   ]
  },
  {
   "cell_type": "code",
   "execution_count": 64,
   "id": "09df4adb",
   "metadata": {},
   "outputs": [],
   "source": [
    "def avg_mt_epsilon(Count):\n",
    "    \n",
    "    '''\n",
    "    Calculating average mobility matrix for each day (1–30).\n",
    "    This returns a dictionay of Daily Matrix\n",
    "    '''\n",
    "    \n",
    "    Matrix_dict = {}\n",
    "\n",
    "    for i in range(30):\n",
    "        n = i + 1\n",
    "        df = ori_des_df[ori_des_df['day'] == n]\n",
    "        \n",
    "        county_group = df.groupby(['Origin', 'Destination'])[Count].sum().reset_index()\n",
    "\n",
    "        count_Matrix = county_group.pivot_table(index='Origin', \n",
    "                                                columns='Destination', \n",
    "                                                values= Count, \n",
    "                                                fill_value=0)\n",
    "        \n",
    "        #This is a new line of code added by ChatGTP: sort index in accending order\n",
    "        count_Matrix = count_Matrix.sort_index().sort_index(axis=1)\n",
    "\n",
    "        origin_list = count_Matrix.index.tolist()\n",
    "        destination_list = count_Matrix.columns.tolist()\n",
    "        #This is just to ensure if the row index and column index are in the same orde\n",
    "        #As well as to ensure they also equals to the initial SEIR condition county order\n",
    "        #If nothing goes wrong the loop will not print anything\n",
    "\n",
    "        if origin_list != destination_list:\n",
    "            print(f'Day {n}: origin list ≠ destination list')\n",
    "\n",
    "        if origin_list != E_wa_index:\n",
    "            print(f'Day {n}: origin list ≠ SEIR initial condition list')\n",
    "\n",
    "        Matrix = count_Matrix.reset_index(drop=True)\n",
    "        Matrix_dict[n] = Matrix\n",
    "\n",
    "    return Matrix_dict"
   ]
  },
  {
   "cell_type": "markdown",
   "id": "f3fdf5a7",
   "metadata": {},
   "source": [
    "### Daily Average Matrix"
   ]
  },
  {
   "cell_type": "code",
   "execution_count": 65,
   "id": "953e70bf",
   "metadata": {},
   "outputs": [],
   "source": [
    "def daily_avg_wtmt(Matrix_dict):\n",
    "    \n",
    "    '''\n",
    "    This function compute the daily average mobility matrix\n",
    "    '''\n",
    "    total_visit = Matrix_dict[1].copy()\n",
    "    mt_length = len(total_visit.columns)\n",
    "    \n",
    "    for i in range(1, 30):\n",
    "        n = i + 1 #n therefore starts from 2\n",
    "        #print(n)\n",
    "        \n",
    "        if n % 10 == 0:\n",
    "            print(n)\n",
    "            \n",
    "        total_visit += Matrix_dict[n]\n",
    "        \n",
    "    daily_avg_visit = total_visit/30\n",
    "    \n",
    "    divisor = [daily_avg_visit.iloc[i].sum() for i in range(mt_length)]\n",
    "    average_wt_mt = daily_avg_visit.div(divisor, axis=0)\n",
    "    \n",
    "    return average_wt_mt"
   ]
  },
  {
   "cell_type": "markdown",
   "id": "fe4edbfd",
   "metadata": {},
   "source": [
    "# Saving the Weight Matrix"
   ]
  },
  {
   "cell_type": "code",
   "execution_count": 102,
   "id": "7fba0995",
   "metadata": {},
   "outputs": [
    {
     "data": {
      "text/html": [
       "<div>\n",
       "<style scoped>\n",
       "    .dataframe tbody tr th:only-of-type {\n",
       "        vertical-align: middle;\n",
       "    }\n",
       "\n",
       "    .dataframe tbody tr th {\n",
       "        vertical-align: top;\n",
       "    }\n",
       "\n",
       "    .dataframe thead th {\n",
       "        text-align: right;\n",
       "    }\n",
       "</style>\n",
       "<table border=\"1\" class=\"dataframe\">\n",
       "  <thead>\n",
       "    <tr style=\"text-align: right;\">\n",
       "      <th>Destination</th>\n",
       "      <th>53001</th>\n",
       "      <th>53003</th>\n",
       "      <th>53005</th>\n",
       "      <th>53007</th>\n",
       "      <th>53009</th>\n",
       "      <th>53011</th>\n",
       "      <th>53015</th>\n",
       "      <th>53017</th>\n",
       "      <th>53021</th>\n",
       "      <th>53025</th>\n",
       "      <th>...</th>\n",
       "      <th>53057</th>\n",
       "      <th>53059</th>\n",
       "      <th>53061</th>\n",
       "      <th>53063</th>\n",
       "      <th>53065</th>\n",
       "      <th>53067</th>\n",
       "      <th>53071</th>\n",
       "      <th>53073</th>\n",
       "      <th>53075</th>\n",
       "      <th>53077</th>\n",
       "    </tr>\n",
       "  </thead>\n",
       "  <tbody>\n",
       "    <tr>\n",
       "      <th>0</th>\n",
       "      <td>196</td>\n",
       "      <td>0</td>\n",
       "      <td>8</td>\n",
       "      <td>2</td>\n",
       "      <td>0</td>\n",
       "      <td>7</td>\n",
       "      <td>0</td>\n",
       "      <td>5</td>\n",
       "      <td>11</td>\n",
       "      <td>6</td>\n",
       "      <td>...</td>\n",
       "      <td>0</td>\n",
       "      <td>0</td>\n",
       "      <td>5</td>\n",
       "      <td>31</td>\n",
       "      <td>3</td>\n",
       "      <td>2</td>\n",
       "      <td>2</td>\n",
       "      <td>26</td>\n",
       "      <td>0</td>\n",
       "      <td>7</td>\n",
       "    </tr>\n",
       "    <tr>\n",
       "      <th>1</th>\n",
       "      <td>0</td>\n",
       "      <td>672</td>\n",
       "      <td>0</td>\n",
       "      <td>0</td>\n",
       "      <td>0</td>\n",
       "      <td>0</td>\n",
       "      <td>0</td>\n",
       "      <td>0</td>\n",
       "      <td>0</td>\n",
       "      <td>0</td>\n",
       "      <td>...</td>\n",
       "      <td>0</td>\n",
       "      <td>0</td>\n",
       "      <td>0</td>\n",
       "      <td>4</td>\n",
       "      <td>0</td>\n",
       "      <td>0</td>\n",
       "      <td>0</td>\n",
       "      <td>0</td>\n",
       "      <td>10</td>\n",
       "      <td>0</td>\n",
       "    </tr>\n",
       "    <tr>\n",
       "      <th>2</th>\n",
       "      <td>11</td>\n",
       "      <td>0</td>\n",
       "      <td>3687</td>\n",
       "      <td>1</td>\n",
       "      <td>3</td>\n",
       "      <td>21</td>\n",
       "      <td>4</td>\n",
       "      <td>0</td>\n",
       "      <td>522</td>\n",
       "      <td>23</td>\n",
       "      <td>...</td>\n",
       "      <td>0</td>\n",
       "      <td>0</td>\n",
       "      <td>15</td>\n",
       "      <td>43</td>\n",
       "      <td>10</td>\n",
       "      <td>10</td>\n",
       "      <td>29</td>\n",
       "      <td>7</td>\n",
       "      <td>3</td>\n",
       "      <td>75</td>\n",
       "    </tr>\n",
       "  </tbody>\n",
       "</table>\n",
       "<p>3 rows × 34 columns</p>\n",
       "</div>"
      ],
      "text/plain": [
       "Destination  53001  53003  53005  53007  53009  53011  53015  53017  53021  \\\n",
       "0              196      0      8      2      0      7      0      5     11   \n",
       "1                0    672      0      0      0      0      0      0      0   \n",
       "2               11      0   3687      1      3     21      4      0    522   \n",
       "\n",
       "Destination  53025  ...  53057  53059  53061  53063  53065  53067  53071  \\\n",
       "0                6  ...      0      0      5     31      3      2      2   \n",
       "1                0  ...      0      0      0      4      0      0      0   \n",
       "2               23  ...      0      0     15     43     10     10     29   \n",
       "\n",
       "Destination  53073  53075  53077  \n",
       "0               26      0      7  \n",
       "1                0     10      0  \n",
       "2                7      3     75  \n",
       "\n",
       "[3 rows x 34 columns]"
      ]
     },
     "execution_count": 102,
     "metadata": {},
     "output_type": "execute_result"
    }
   ],
   "source": [
    "Matrix_dict = avg_mt_epsilon('Count')\n",
    "Matrix_dict[1].head(3)"
   ]
  },
  {
   "cell_type": "code",
   "execution_count": 103,
   "id": "0f4d2935",
   "metadata": {},
   "outputs": [
    {
     "name": "stdout",
     "output_type": "stream",
     "text": [
      "10\n",
      "20\n",
      "30\n"
     ]
    },
    {
     "data": {
      "text/html": [
       "<div>\n",
       "<style scoped>\n",
       "    .dataframe tbody tr th:only-of-type {\n",
       "        vertical-align: middle;\n",
       "    }\n",
       "\n",
       "    .dataframe tbody tr th {\n",
       "        vertical-align: top;\n",
       "    }\n",
       "\n",
       "    .dataframe thead th {\n",
       "        text-align: right;\n",
       "    }\n",
       "</style>\n",
       "<table border=\"1\" class=\"dataframe\">\n",
       "  <thead>\n",
       "    <tr style=\"text-align: right;\">\n",
       "      <th>Destination</th>\n",
       "      <th>53001</th>\n",
       "      <th>53003</th>\n",
       "      <th>53005</th>\n",
       "      <th>53007</th>\n",
       "      <th>53009</th>\n",
       "      <th>53011</th>\n",
       "      <th>53015</th>\n",
       "      <th>53017</th>\n",
       "      <th>53021</th>\n",
       "      <th>53025</th>\n",
       "      <th>...</th>\n",
       "      <th>53057</th>\n",
       "      <th>53059</th>\n",
       "      <th>53061</th>\n",
       "      <th>53063</th>\n",
       "      <th>53065</th>\n",
       "      <th>53067</th>\n",
       "      <th>53071</th>\n",
       "      <th>53073</th>\n",
       "      <th>53075</th>\n",
       "      <th>53077</th>\n",
       "    </tr>\n",
       "  </thead>\n",
       "  <tbody>\n",
       "    <tr>\n",
       "      <th>0</th>\n",
       "      <td>0.394639</td>\n",
       "      <td>0.000000</td>\n",
       "      <td>0.055023</td>\n",
       "      <td>0.030399</td>\n",
       "      <td>0.000545</td>\n",
       "      <td>0.024406</td>\n",
       "      <td>0.007736</td>\n",
       "      <td>0.015036</td>\n",
       "      <td>0.042820</td>\n",
       "      <td>0.023317</td>\n",
       "      <td>...</td>\n",
       "      <td>0.000000</td>\n",
       "      <td>0.000000</td>\n",
       "      <td>0.029200</td>\n",
       "      <td>0.085422</td>\n",
       "      <td>0.003922</td>\n",
       "      <td>0.004249</td>\n",
       "      <td>0.008499</td>\n",
       "      <td>0.046306</td>\n",
       "      <td>0.004140</td>\n",
       "      <td>0.026694</td>\n",
       "    </tr>\n",
       "    <tr>\n",
       "      <th>1</th>\n",
       "      <td>0.000000</td>\n",
       "      <td>0.917968</td>\n",
       "      <td>0.003904</td>\n",
       "      <td>0.000220</td>\n",
       "      <td>0.000000</td>\n",
       "      <td>0.001100</td>\n",
       "      <td>0.000275</td>\n",
       "      <td>0.000110</td>\n",
       "      <td>0.003299</td>\n",
       "      <td>0.000385</td>\n",
       "      <td>...</td>\n",
       "      <td>0.002694</td>\n",
       "      <td>0.000000</td>\n",
       "      <td>0.003739</td>\n",
       "      <td>0.013800</td>\n",
       "      <td>0.002804</td>\n",
       "      <td>0.001869</td>\n",
       "      <td>0.001649</td>\n",
       "      <td>0.000110</td>\n",
       "      <td>0.016439</td>\n",
       "      <td>0.000330</td>\n",
       "    </tr>\n",
       "    <tr>\n",
       "      <th>2</th>\n",
       "      <td>0.001535</td>\n",
       "      <td>0.000008</td>\n",
       "      <td>0.738961</td>\n",
       "      <td>0.000639</td>\n",
       "      <td>0.000240</td>\n",
       "      <td>0.005779</td>\n",
       "      <td>0.000496</td>\n",
       "      <td>0.000184</td>\n",
       "      <td>0.161487</td>\n",
       "      <td>0.004964</td>\n",
       "      <td>...</td>\n",
       "      <td>0.000192</td>\n",
       "      <td>0.000016</td>\n",
       "      <td>0.005532</td>\n",
       "      <td>0.010416</td>\n",
       "      <td>0.000919</td>\n",
       "      <td>0.002710</td>\n",
       "      <td>0.006739</td>\n",
       "      <td>0.002382</td>\n",
       "      <td>0.000576</td>\n",
       "      <td>0.023861</td>\n",
       "    </tr>\n",
       "  </tbody>\n",
       "</table>\n",
       "<p>3 rows × 34 columns</p>\n",
       "</div>"
      ],
      "text/plain": [
       "Destination     53001     53003     53005     53007     53009     53011  \\\n",
       "0            0.394639  0.000000  0.055023  0.030399  0.000545  0.024406   \n",
       "1            0.000000  0.917968  0.003904  0.000220  0.000000  0.001100   \n",
       "2            0.001535  0.000008  0.738961  0.000639  0.000240  0.005779   \n",
       "\n",
       "Destination     53015     53017     53021     53025  ...     53057     53059  \\\n",
       "0            0.007736  0.015036  0.042820  0.023317  ...  0.000000  0.000000   \n",
       "1            0.000275  0.000110  0.003299  0.000385  ...  0.002694  0.000000   \n",
       "2            0.000496  0.000184  0.161487  0.004964  ...  0.000192  0.000016   \n",
       "\n",
       "Destination     53061     53063     53065     53067     53071     53073  \\\n",
       "0            0.029200  0.085422  0.003922  0.004249  0.008499  0.046306   \n",
       "1            0.003739  0.013800  0.002804  0.001869  0.001649  0.000110   \n",
       "2            0.005532  0.010416  0.000919  0.002710  0.006739  0.002382   \n",
       "\n",
       "Destination     53075     53077  \n",
       "0            0.004140  0.026694  \n",
       "1            0.016439  0.000330  \n",
       "2            0.000576  0.023861  \n",
       "\n",
       "[3 rows x 34 columns]"
      ]
     },
     "execution_count": 103,
     "metadata": {},
     "output_type": "execute_result"
    }
   ],
   "source": [
    "daily_avg = daily_avg_wtmt(Matrix_dict)\n",
    "daily_avg.head(3)"
   ]
  },
  {
   "cell_type": "code",
   "execution_count": 104,
   "id": "bfbff2ef",
   "metadata": {},
   "outputs": [
    {
     "name": "stdout",
     "output_type": "stream",
     "text": [
      "Mean: 0.5674103700330021\n",
      "Median: 0.5791140792056435\n",
      "Min: 0.15297047314123088\n",
      "Max: 0.9704900914807166\n"
     ]
    }
   ],
   "source": [
    "# Calculations\n",
    "import statistics\n",
    "\n",
    "average_wt_mt_np = daily_avg.to_numpy()\n",
    "Pii_skmob = [average_wt_mt_np[i][i] for i in range(34)]\n",
    "\n",
    "\n",
    "data = Pii_skmob \n",
    "mean_value = sum(data) / len(data)  # Mean\n",
    "median_value = statistics.median(data)  # Median\n",
    "min_value = min(data)  # Min\n",
    "max_value = max(data)  # Max\n",
    "\n",
    "# Output\n",
    "print(f\"Mean: {mean_value}\")\n",
    "print(f\"Median: {median_value}\")\n",
    "print(f\"Min: {min_value}\")\n",
    "print(f\"Max: {max_value}\")"
   ]
  },
  {
   "cell_type": "code",
   "execution_count": 99,
   "id": "e4a8efb3",
   "metadata": {},
   "outputs": [],
   "source": [
    "daily_avg.to_csv(\"WA_ori_indi.csv\")"
   ]
  },
  {
   "cell_type": "markdown",
   "id": "b9a6c00a",
   "metadata": {},
   "source": [
    "# Compares it to the Original"
   ]
  },
  {
   "cell_type": "code",
   "execution_count": 70,
   "id": "fec8dc6c",
   "metadata": {},
   "outputs": [
    {
     "data": {
      "image/png": "[encoded data removed]",
      "text/plain": [
       "<Figure size 640x480 with 1 Axes>"
      ]
     },
     "metadata": {},
     "output_type": "display_data"
    }
   ],
   "source": [
    "import numpy as np\n",
    "import seaborn as sns\n",
    "import matplotlib.pyplot as plt\n",
    "\n",
    "# Create KDE plot\n",
    "sns.kdeplot(Pii_ori, label=\"Real Matrix\", fill=True)\n",
    "sns.kdeplot(Pii_skmob, label=\"Skmob Generated Matrix\", fill=True)\n",
    "\n",
    "# Labels and legend\n",
    "plt.xlabel(\"Value\")\n",
    "plt.ylabel(\"Density\")\n",
    "plt.title(\"Density Distribution of Pii\")\n",
    "plt.legend()\n",
    "\n",
    "#Lables and legend\n",
    "#plt.savefig(\"Pii_Comparison.png\", dpi=300, bbox_inches='tight')\n",
    "\n",
    "# Show plot\n",
    "plt.show()\n"
   ]
  },
  {
   "cell_type": "code",
   "execution_count": null,
   "id": "a060f87c",
   "metadata": {},
   "outputs": [],
   "source": []
  }
 ],
 "metadata": {
  "kernelspec": {
   "display_name": "Python 3 (ipykernel)",
   "language": "python",
   "name": "python3"
  },
  "language_info": {
   "codemirror_mode": {
    "name": "ipython",
    "version": 3
   },
   "file_extension": ".py",
   "mimetype": "text/x-python",
   "name": "python",
   "nbconvert_exporter": "python",
   "pygments_lexer": "ipython3",
   "version": "3.11.5"
  }
 },
 "nbformat": 4,
 "nbformat_minor": 5
}
