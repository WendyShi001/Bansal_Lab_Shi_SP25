{
 "cells": [
  {
   "cell_type": "markdown",
   "id": "805cf925",
   "metadata": {},
   "source": [
    "<h1><center> Visualization <br><br>\n",
    "    <center> Wendy Shi"
   ]
  },
  {
   "cell_type": "markdown",
   "id": "b77fec99",
   "metadata": {},
   "source": [
    "## TOC"
   ]
  },
  {
   "cell_type": "markdown",
   "id": "7beac35d",
   "metadata": {},
   "source": [
    "- [Preparation](#Preparation)\n",
    "- [Census Block Group Shape File](#Census-Block-Group-Shape-File)\n",
    "- [Individual Trajectory Generation](#Individual-Trajectory-Generation)\n",
    "- [Home Location](#Home-location)"
   ]
  },
  {
   "cell_type": "markdown",
   "id": "fd1eafbd",
   "metadata": {},
   "source": [
    "# Preparation"
   ]
  },
  {
   "cell_type": "code",
   "execution_count": 2,
   "id": "fc95423e",
   "metadata": {},
   "outputs": [],
   "source": [
    "#skmob\n",
    "import skmob\n",
    "import geopandas as gpd\n",
    "from skmob.models.epr import DensityEPR\n",
    "from skmob.measures.individual import home_location\n",
    "from skmob.measures.individual import jump_lengths\n",
    "\n",
    "#standard\n",
    "import pandas as pd\n",
    "import numpy as np\n",
    "import matplotlib.pyplot as plt\n",
    "from scipy.integrate import odeint\n",
    "from scipy.interpolate import interp1d\n",
    "import scipy.stats as stats\n",
    "\n",
    "#visualization\n",
    "import seaborn as sns\n",
    "\n",
    "#Geopandas related\n",
    "import fiona\n",
    "from shapely.geometry import shape"
   ]
  },
  {
   "cell_type": "code",
   "execution_count": 3,
   "id": "5a0391df",
   "metadata": {},
   "outputs": [
    {
     "data": {
      "text/html": [
       "<div>\n",
       "<style scoped>\n",
       "    .dataframe tbody tr th:only-of-type {\n",
       "        vertical-align: middle;\n",
       "    }\n",
       "\n",
       "    .dataframe tbody tr th {\n",
       "        vertical-align: top;\n",
       "    }\n",
       "\n",
       "    .dataframe thead th {\n",
       "        text-align: right;\n",
       "    }\n",
       "</style>\n",
       "<table border=\"1\" class=\"dataframe\">\n",
       "  <thead>\n",
       "    <tr style=\"text-align: right;\">\n",
       "      <th></th>\n",
       "      <th>GEO_ID</th>\n",
       "      <th>STATE</th>\n",
       "      <th>COUNTY</th>\n",
       "      <th>NAME</th>\n",
       "      <th>LSAD</th>\n",
       "      <th>CENSUSAREA</th>\n",
       "      <th>State_1</th>\n",
       "      <th>Alpha code</th>\n",
       "      <th>Region</th>\n",
       "      <th>Division</th>\n",
       "      <th>CDC region</th>\n",
       "      <th>FIPS code</th>\n",
       "      <th>2013 code</th>\n",
       "      <th>U/R</th>\n",
       "      <th>pop2020</th>\n",
       "      <th>pop2021</th>\n",
       "    </tr>\n",
       "  </thead>\n",
       "  <tbody>\n",
       "    <tr>\n",
       "      <th>0</th>\n",
       "      <td>48301</td>\n",
       "      <td>48</td>\n",
       "      <td>301</td>\n",
       "      <td>Loving</td>\n",
       "      <td>County</td>\n",
       "      <td>668.925</td>\n",
       "      <td>Texas</td>\n",
       "      <td>TX</td>\n",
       "      <td>South</td>\n",
       "      <td>West South Central</td>\n",
       "      <td>6.0</td>\n",
       "      <td>48301</td>\n",
       "      <td>6</td>\n",
       "      <td>R</td>\n",
       "      <td>67.0</td>\n",
       "      <td>57.0</td>\n",
       "    </tr>\n",
       "    <tr>\n",
       "      <th>1</th>\n",
       "      <td>48269</td>\n",
       "      <td>48</td>\n",
       "      <td>269</td>\n",
       "      <td>King</td>\n",
       "      <td>County</td>\n",
       "      <td>910.872</td>\n",
       "      <td>Texas</td>\n",
       "      <td>TX</td>\n",
       "      <td>South</td>\n",
       "      <td>West South Central</td>\n",
       "      <td>6.0</td>\n",
       "      <td>48269</td>\n",
       "      <td>6</td>\n",
       "      <td>R</td>\n",
       "      <td>270.0</td>\n",
       "      <td>258.0</td>\n",
       "    </tr>\n",
       "    <tr>\n",
       "      <th>2</th>\n",
       "      <td>48261</td>\n",
       "      <td>48</td>\n",
       "      <td>261</td>\n",
       "      <td>Kenedy</td>\n",
       "      <td>County</td>\n",
       "      <td>1458.329</td>\n",
       "      <td>Texas</td>\n",
       "      <td>TX</td>\n",
       "      <td>South</td>\n",
       "      <td>West South Central</td>\n",
       "      <td>6.0</td>\n",
       "      <td>48261</td>\n",
       "      <td>5</td>\n",
       "      <td>R</td>\n",
       "      <td>346.0</td>\n",
       "      <td>340.0</td>\n",
       "    </tr>\n",
       "  </tbody>\n",
       "</table>\n",
       "</div>"
      ],
      "text/plain": [
       "   GEO_ID  STATE  COUNTY    NAME    LSAD  CENSUSAREA State_1 Alpha code  \\\n",
       "0   48301     48     301  Loving  County     668.925   Texas         TX   \n",
       "1   48269     48     269    King  County     910.872   Texas         TX   \n",
       "2   48261     48     261  Kenedy  County    1458.329   Texas         TX   \n",
       "\n",
       "  Region            Division  CDC region  FIPS code  2013 code U/R  pop2020  \\\n",
       "0  South  West South Central         6.0      48301          6   R     67.0   \n",
       "1  South  West South Central         6.0      48269          6   R    270.0   \n",
       "2  South  West South Central         6.0      48261          5   R    346.0   \n",
       "\n",
       "   pop2021  \n",
       "0     57.0  \n",
       "1    258.0  \n",
       "2    340.0  "
      ]
     },
     "execution_count": 3,
     "metadata": {},
     "output_type": "execute_result"
    }
   ],
   "source": [
    "shape_file = pd.read_csv(\"../Data/us_shapefile_county.csv\")\n",
    "shape_file.head(3)"
   ]
  },
  {
   "cell_type": "markdown",
   "id": "1b0b8fae",
   "metadata": {},
   "source": [
    "## Subsetting"
   ]
  },
  {
   "cell_type": "code",
   "execution_count": 4,
   "id": "d5fb0bf7",
   "metadata": {},
   "outputs": [
    {
     "data": {
      "text/html": [
       "<div>\n",
       "<style scoped>\n",
       "    .dataframe tbody tr th:only-of-type {\n",
       "        vertical-align: middle;\n",
       "    }\n",
       "\n",
       "    .dataframe tbody tr th {\n",
       "        vertical-align: top;\n",
       "    }\n",
       "\n",
       "    .dataframe thead th {\n",
       "        text-align: right;\n",
       "    }\n",
       "</style>\n",
       "<table border=\"1\" class=\"dataframe\">\n",
       "  <thead>\n",
       "    <tr style=\"text-align: right;\">\n",
       "      <th></th>\n",
       "      <th>index</th>\n",
       "      <th>GEOID</th>\n",
       "      <th>State</th>\n",
       "    </tr>\n",
       "  </thead>\n",
       "  <tbody>\n",
       "    <tr>\n",
       "      <th>0</th>\n",
       "      <td>0</td>\n",
       "      <td>01001</td>\n",
       "      <td>01</td>\n",
       "    </tr>\n",
       "    <tr>\n",
       "      <th>1</th>\n",
       "      <td>1</td>\n",
       "      <td>01003</td>\n",
       "      <td>01</td>\n",
       "    </tr>\n",
       "    <tr>\n",
       "      <th>2</th>\n",
       "      <td>2</td>\n",
       "      <td>01005</td>\n",
       "      <td>01</td>\n",
       "    </tr>\n",
       "  </tbody>\n",
       "</table>\n",
       "</div>"
      ],
      "text/plain": [
       "   index  GEOID State\n",
       "0      0  01001    01\n",
       "1      1  01003    01\n",
       "2      2  01005    01"
      ]
     },
     "execution_count": 4,
     "metadata": {},
     "output_type": "execute_result"
    }
   ],
   "source": [
    "#Load data\n",
    "node_dict = pd.read_csv(\"../Data/nodes_considered.csv\")\n",
    "\n",
    "#Standardize GEOID\n",
    "node_dict[\"GEO_ID\"] = node_dict[\"GEO_ID\"].apply(lambda x: f\"{int(x):05d}\") #turn GEOID into 6 digit format\n",
    "\n",
    "#rename column\n",
    "rename = {'GEO_ID' : 'GEOID'}\n",
    "node_dict = node_dict.rename(columns = rename)\n",
    "\n",
    "#State ID\n",
    "node_dict['State'] = node_dict['GEOID'].str[:2]\n",
    "node_dict.head(3)"
   ]
  },
  {
   "cell_type": "code",
   "execution_count": 5,
   "id": "6c2f1ad3",
   "metadata": {},
   "outputs": [
    {
     "name": "stdout",
     "output_type": "stream",
     "text": [
      "(61, 3)\n"
     ]
    },
    {
     "data": {
      "text/html": [
       "<div>\n",
       "<style scoped>\n",
       "    .dataframe tbody tr th:only-of-type {\n",
       "        vertical-align: middle;\n",
       "    }\n",
       "\n",
       "    .dataframe tbody tr th {\n",
       "        vertical-align: top;\n",
       "    }\n",
       "\n",
       "    .dataframe thead th {\n",
       "        text-align: right;\n",
       "    }\n",
       "</style>\n",
       "<table border=\"1\" class=\"dataframe\">\n",
       "  <thead>\n",
       "    <tr style=\"text-align: right;\">\n",
       "      <th></th>\n",
       "      <th>index</th>\n",
       "      <th>GEOID</th>\n",
       "      <th>State</th>\n",
       "    </tr>\n",
       "  </thead>\n",
       "  <tbody>\n",
       "    <tr>\n",
       "      <th>1318</th>\n",
       "      <td>1318</td>\n",
       "      <td>36001</td>\n",
       "      <td>36</td>\n",
       "    </tr>\n",
       "    <tr>\n",
       "      <th>1319</th>\n",
       "      <td>1319</td>\n",
       "      <td>36003</td>\n",
       "      <td>36</td>\n",
       "    </tr>\n",
       "    <tr>\n",
       "      <th>1320</th>\n",
       "      <td>1320</td>\n",
       "      <td>36005</td>\n",
       "      <td>36</td>\n",
       "    </tr>\n",
       "  </tbody>\n",
       "</table>\n",
       "</div>"
      ],
      "text/plain": [
       "      index  GEOID State\n",
       "1318   1318  36001    36\n",
       "1319   1319  36003    36\n",
       "1320   1320  36005    36"
      ]
     },
     "execution_count": 5,
     "metadata": {},
     "output_type": "execute_result"
    }
   ],
   "source": [
    "NY = node_dict[node_dict['State'] == '36']\n",
    "print(NY.shape)\n",
    "NY.head(3)"
   ]
  },
  {
   "cell_type": "code",
   "execution_count": 6,
   "id": "b808e6cc",
   "metadata": {},
   "outputs": [
    {
     "name": "stdout",
     "output_type": "stream",
     "text": [
      "(61, 6)\n"
     ]
    },
    {
     "data": {
      "text/html": [
       "<div>\n",
       "<style scoped>\n",
       "    .dataframe tbody tr th:only-of-type {\n",
       "        vertical-align: middle;\n",
       "    }\n",
       "\n",
       "    .dataframe tbody tr th {\n",
       "        vertical-align: top;\n",
       "    }\n",
       "\n",
       "    .dataframe thead th {\n",
       "        text-align: right;\n",
       "    }\n",
       "</style>\n",
       "<table border=\"1\" class=\"dataframe\">\n",
       "  <thead>\n",
       "    <tr style=\"text-align: right;\">\n",
       "      <th></th>\n",
       "      <th>GEOID</th>\n",
       "      <th>NAME</th>\n",
       "      <th>LSAD</th>\n",
       "      <th>STATE</th>\n",
       "      <th>State_1</th>\n",
       "      <th>pop2020</th>\n",
       "    </tr>\n",
       "  </thead>\n",
       "  <tbody>\n",
       "    <tr>\n",
       "      <th>1192</th>\n",
       "      <td>36097</td>\n",
       "      <td>Schuyler</td>\n",
       "      <td>County</td>\n",
       "      <td>36</td>\n",
       "      <td>New York</td>\n",
       "      <td>17857.0</td>\n",
       "    </tr>\n",
       "    <tr>\n",
       "      <th>1499</th>\n",
       "      <td>36123</td>\n",
       "      <td>Yates</td>\n",
       "      <td>County</td>\n",
       "      <td>36</td>\n",
       "      <td>New York</td>\n",
       "      <td>24709.0</td>\n",
       "    </tr>\n",
       "    <tr>\n",
       "      <th>1570</th>\n",
       "      <td>36049</td>\n",
       "      <td>Lewis</td>\n",
       "      <td>County</td>\n",
       "      <td>36</td>\n",
       "      <td>New York</td>\n",
       "      <td>26538.0</td>\n",
       "    </tr>\n",
       "    <tr>\n",
       "      <th>1678</th>\n",
       "      <td>36095</td>\n",
       "      <td>Schoharie</td>\n",
       "      <td>County</td>\n",
       "      <td>36</td>\n",
       "      <td>New York</td>\n",
       "      <td>29720.0</td>\n",
       "    </tr>\n",
       "    <tr>\n",
       "      <th>1778</th>\n",
       "      <td>36099</td>\n",
       "      <td>Seneca</td>\n",
       "      <td>County</td>\n",
       "      <td>36</td>\n",
       "      <td>New York</td>\n",
       "      <td>33715.0</td>\n",
       "    </tr>\n",
       "  </tbody>\n",
       "</table>\n",
       "</div>"
      ],
      "text/plain": [
       "      GEOID       NAME    LSAD  STATE   State_1  pop2020\n",
       "1192  36097   Schuyler  County     36  New York  17857.0\n",
       "1499  36123      Yates  County     36  New York  24709.0\n",
       "1570  36049      Lewis  County     36  New York  26538.0\n",
       "1678  36095  Schoharie  County     36  New York  29720.0\n",
       "1778  36099     Seneca  County     36  New York  33715.0"
      ]
     },
     "execution_count": 6,
     "metadata": {},
     "output_type": "execute_result"
    }
   ],
   "source": [
    "NY_name_id_pop = shape_file[(shape_file[\"STATE\"] == 36) & (shape_file[\"pop2020\"] > 11000)] \n",
    "\n",
    "rename = {\"GEO_ID\" : \"GEOID\"}\n",
    "NY_name_id_pop = NY_name_id_pop.rename(columns = rename)\n",
    "NY_name_id_pop = NY_name_id_pop[['GEOID', 'NAME','LSAD','STATE','State_1','pop2020']]\n",
    "print(NY_name_id_pop.shape)\n",
    "NY_name_id_pop.head()"
   ]
  },
  {
   "cell_type": "code",
   "execution_count": 7,
   "id": "196773f4",
   "metadata": {},
   "outputs": [
    {
     "name": "stdout",
     "output_type": "stream",
     "text": [
      "<class 'pandas.core.frame.DataFrame'>\n",
      "Index: 61 entries, 1192 to 3100\n",
      "Data columns (total 6 columns):\n",
      " #   Column   Non-Null Count  Dtype  \n",
      "---  ------   --------------  -----  \n",
      " 0   GEOID    61 non-null     int64  \n",
      " 1   NAME     61 non-null     object \n",
      " 2   LSAD     61 non-null     object \n",
      " 3   STATE    61 non-null     int64  \n",
      " 4   State_1  61 non-null     object \n",
      " 5   pop2020  61 non-null     float64\n",
      "dtypes: float64(1), int64(2), object(3)\n",
      "memory usage: 3.3+ KB\n"
     ]
    }
   ],
   "source": [
    "NY_name_id_pop.info()"
   ]
  },
  {
   "cell_type": "code",
   "execution_count": 8,
   "id": "ea0a4760",
   "metadata": {},
   "outputs": [
    {
     "name": "stdout",
     "output_type": "stream",
     "text": [
      "61\n"
     ]
    }
   ],
   "source": [
    "NY_name_id_pop['GEOID'] = NY_name_id_pop['GEOID'].astype(str)\n",
    "county_list = NY_name_id_pop['GEOID'].tolist()\n",
    "print(len(county_list))"
   ]
  },
  {
   "cell_type": "markdown",
   "id": "360ef5e3",
   "metadata": {},
   "source": [
    "#"
   ]
  },
  {
   "cell_type": "markdown",
   "id": "e00a56a3",
   "metadata": {},
   "source": [
    "# Census Block Group Shape File"
   ]
  },
  {
   "cell_type": "markdown",
   "id": "4dc0049d",
   "metadata": {},
   "source": [
    "## Census Block Group"
   ]
  },
  {
   "cell_type": "code",
   "execution_count": 6,
   "id": "7a2fe817",
   "metadata": {},
   "outputs": [
    {
     "data": {
      "text/html": [
       "<div>\n",
       "<style scoped>\n",
       "    .dataframe tbody tr th:only-of-type {\n",
       "        vertical-align: middle;\n",
       "    }\n",
       "\n",
       "    .dataframe tbody tr th {\n",
       "        vertical-align: top;\n",
       "    }\n",
       "\n",
       "    .dataframe thead th {\n",
       "        text-align: right;\n",
       "    }\n",
       "</style>\n",
       "<table border=\"1\" class=\"dataframe\">\n",
       "  <thead>\n",
       "    <tr style=\"text-align: right;\">\n",
       "      <th></th>\n",
       "      <th>STATEFP</th>\n",
       "      <th>COUNTYFP</th>\n",
       "      <th>TRACTCE</th>\n",
       "      <th>BLKGRPCE</th>\n",
       "      <th>GEOID</th>\n",
       "      <th>NAMELSAD</th>\n",
       "      <th>MTFCC</th>\n",
       "      <th>FUNCSTAT</th>\n",
       "      <th>ALAND</th>\n",
       "      <th>AWATER</th>\n",
       "      <th>INTPTLAT</th>\n",
       "      <th>INTPTLON</th>\n",
       "      <th>geometry</th>\n",
       "    </tr>\n",
       "  </thead>\n",
       "  <tbody>\n",
       "    <tr>\n",
       "      <th>0</th>\n",
       "      <td>36</td>\n",
       "      <td>019</td>\n",
       "      <td>101000</td>\n",
       "      <td>3</td>\n",
       "      <td>360191010003</td>\n",
       "      <td>Block Group 3</td>\n",
       "      <td>G5030</td>\n",
       "      <td>S</td>\n",
       "      <td>363407</td>\n",
       "      <td>0</td>\n",
       "      <td>+44.6938385</td>\n",
       "      <td>-073.4714736</td>\n",
       "      <td>POLYGON ((-73.47596 44.69761, -73.47489 44.697...</td>\n",
       "    </tr>\n",
       "    <tr>\n",
       "      <th>1</th>\n",
       "      <td>36</td>\n",
       "      <td>019</td>\n",
       "      <td>100200</td>\n",
       "      <td>1</td>\n",
       "      <td>360191002001</td>\n",
       "      <td>Block Group 1</td>\n",
       "      <td>G5030</td>\n",
       "      <td>S</td>\n",
       "      <td>57385113</td>\n",
       "      <td>312716</td>\n",
       "      <td>+44.8827953</td>\n",
       "      <td>-073.4907087</td>\n",
       "      <td>POLYGON ((-73.55525 44.87744, -73.55521 44.878...</td>\n",
       "    </tr>\n",
       "    <tr>\n",
       "      <th>2</th>\n",
       "      <td>36</td>\n",
       "      <td>019</td>\n",
       "      <td>102200</td>\n",
       "      <td>3</td>\n",
       "      <td>360191022003</td>\n",
       "      <td>Block Group 3</td>\n",
       "      <td>G5030</td>\n",
       "      <td>S</td>\n",
       "      <td>585561</td>\n",
       "      <td>0</td>\n",
       "      <td>+44.6798483</td>\n",
       "      <td>-073.4557185</td>\n",
       "      <td>POLYGON ((-73.46084 44.68186, -73.46079 44.682...</td>\n",
       "    </tr>\n",
       "  </tbody>\n",
       "</table>\n",
       "</div>"
      ],
      "text/plain": [
       "  STATEFP COUNTYFP TRACTCE BLKGRPCE         GEOID       NAMELSAD  MTFCC  \\\n",
       "0      36      019  101000        3  360191010003  Block Group 3  G5030   \n",
       "1      36      019  100200        1  360191002001  Block Group 1  G5030   \n",
       "2      36      019  102200        3  360191022003  Block Group 3  G5030   \n",
       "\n",
       "  FUNCSTAT     ALAND  AWATER     INTPTLAT      INTPTLON  \\\n",
       "0        S    363407       0  +44.6938385  -073.4714736   \n",
       "1        S  57385113  312716  +44.8827953  -073.4907087   \n",
       "2        S    585561       0  +44.6798483  -073.4557185   \n",
       "\n",
       "                                            geometry  \n",
       "0  POLYGON ((-73.47596 44.69761, -73.47489 44.697...  \n",
       "1  POLYGON ((-73.55525 44.87744, -73.55521 44.878...  \n",
       "2  POLYGON ((-73.46084 44.68186, -73.46079 44.682...  "
      ]
     },
     "execution_count": 6,
     "metadata": {},
     "output_type": "execute_result"
    }
   ],
   "source": [
    "data = []\n",
    "\n",
    "with fiona.open(\"tl_2020_36_bg/tl_2020_36_bg.shp\") as src:\n",
    "    for feature in src:\n",
    "        row = dict(feature['properties'])        # convert to dict\n",
    "        row['geometry'] = shape(feature['geometry'])  # shapely geometry\n",
    "        data.append(row)\n",
    "\n",
    "ny_bg_df = pd.DataFrame(data)\n",
    "\n",
    "ny_bg_sf = gpd.GeoDataFrame(ny_bg_df, geometry='geometry')\n",
    "ny_bg_sf.head(3) "
   ]
  },
  {
   "cell_type": "code",
   "execution_count": 7,
   "id": "fc82a5e4",
   "metadata": {
    "scrolled": true
   },
   "outputs": [
    {
     "name": "stdout",
     "output_type": "stream",
     "text": [
      "Index(['STATEFP', 'COUNTYFP', 'TRACTCE', 'BLKGRPCE', 'GEOID', 'NAMELSAD',\n",
      "       'MTFCC', 'FUNCSTAT', 'ALAND', 'AWATER', 'INTPTLAT', 'INTPTLON',\n",
      "       'geometry'],\n",
      "      dtype='object')\n",
      "(16070, 13)\n"
     ]
    },
    {
     "data": {
      "text/html": [
       "<div>\n",
       "<style scoped>\n",
       "    .dataframe tbody tr th:only-of-type {\n",
       "        vertical-align: middle;\n",
       "    }\n",
       "\n",
       "    .dataframe tbody tr th {\n",
       "        vertical-align: top;\n",
       "    }\n",
       "\n",
       "    .dataframe thead th {\n",
       "        text-align: right;\n",
       "    }\n",
       "</style>\n",
       "<table border=\"1\" class=\"dataframe\">\n",
       "  <thead>\n",
       "    <tr style=\"text-align: right;\">\n",
       "      <th></th>\n",
       "      <th>STATEFP</th>\n",
       "      <th>COUNTYFP</th>\n",
       "      <th>TRACTCE</th>\n",
       "      <th>BLKGRPCE</th>\n",
       "      <th>GEOID</th>\n",
       "      <th>NAMELSAD</th>\n",
       "      <th>MTFCC</th>\n",
       "      <th>FUNCSTAT</th>\n",
       "      <th>ALAND</th>\n",
       "      <th>AWATER</th>\n",
       "      <th>INTPTLAT</th>\n",
       "      <th>INTPTLON</th>\n",
       "      <th>geometry</th>\n",
       "    </tr>\n",
       "  </thead>\n",
       "  <tbody>\n",
       "    <tr>\n",
       "      <th>0</th>\n",
       "      <td>36</td>\n",
       "      <td>019</td>\n",
       "      <td>101000</td>\n",
       "      <td>3</td>\n",
       "      <td>360191010003</td>\n",
       "      <td>Block Group 3</td>\n",
       "      <td>G5030</td>\n",
       "      <td>S</td>\n",
       "      <td>363407</td>\n",
       "      <td>0</td>\n",
       "      <td>+44.6938385</td>\n",
       "      <td>-073.4714736</td>\n",
       "      <td>POLYGON ((-73.47596 44.69761, -73.47489 44.697...</td>\n",
       "    </tr>\n",
       "  </tbody>\n",
       "</table>\n",
       "</div>"
      ],
      "text/plain": [
       "  STATEFP COUNTYFP TRACTCE BLKGRPCE         GEOID       NAMELSAD  MTFCC  \\\n",
       "0      36      019  101000        3  360191010003  Block Group 3  G5030   \n",
       "\n",
       "  FUNCSTAT   ALAND  AWATER     INTPTLAT      INTPTLON  \\\n",
       "0        S  363407       0  +44.6938385  -073.4714736   \n",
       "\n",
       "                                            geometry  \n",
       "0  POLYGON ((-73.47596 44.69761, -73.47489 44.697...  "
      ]
     },
     "execution_count": 7,
     "metadata": {},
     "output_type": "execute_result"
    }
   ],
   "source": [
    "#url = \"https://www2.census.gov/geo/tiger/TIGER2021/BG/tl_2021_35_bg.zip\"\n",
    "#ny_bg_sf = gpd.read_file(url)\n",
    "#ny_bg_sf = gpd.read_file(\"tl_2020_36_bg/tl_2020_36_bg.shp\")\n",
    "print(ny_bg_sf.columns)\n",
    "print(ny_bg_sf.shape)\n",
    "ny_bg_sf.head(1) "
   ]
  },
  {
   "cell_type": "markdown",
   "id": "f341d09e",
   "metadata": {},
   "source": [
    "## Test: Accquiring Census Block Group Population Data\n",
    "\n",
    "\n",
    "- For New York census block group population data specifically, you can follow these steps:\n",
    "\n",
    "- Go to https://data.census.gov/\n",
    "- In the search bar, type \"population\"\n",
    "- Under \"Geography,\" select \"Block Group\"\n",
    "- Then select \"New York\" as the state\n",
    "- Choose the counties and block groups you're interested in\n",
    "- Select the appropriate ACS 5-Year Estimates table (the latest available would be best)\n",
    "\n",
    "For population data specifically, look for table B01003 \"Total Population\" which gives you the basic population count.\n",
    "\n",
    "If you want to get Decennial Census Data, Do the same thing and look for Decennial Census, look for P1 Data"
   ]
  },
  {
   "cell_type": "code",
   "execution_count": 114,
   "id": "4322eaec",
   "metadata": {},
   "outputs": [
    {
     "name": "stdout",
     "output_type": "stream",
     "text": [
      "(16070, 5)\n"
     ]
    },
    {
     "data": {
      "text/html": [
       "<div>\n",
       "<style scoped>\n",
       "    .dataframe tbody tr th:only-of-type {\n",
       "        vertical-align: middle;\n",
       "    }\n",
       "\n",
       "    .dataframe tbody tr th {\n",
       "        vertical-align: top;\n",
       "    }\n",
       "\n",
       "    .dataframe thead th {\n",
       "        text-align: right;\n",
       "    }\n",
       "</style>\n",
       "<table border=\"1\" class=\"dataframe\">\n",
       "  <thead>\n",
       "    <tr style=\"text-align: right;\">\n",
       "      <th></th>\n",
       "      <th>GEO_ID</th>\n",
       "      <th>NAME</th>\n",
       "      <th>B01003_001E</th>\n",
       "      <th>B01003_001M</th>\n",
       "      <th>Unnamed: 4</th>\n",
       "    </tr>\n",
       "  </thead>\n",
       "  <tbody>\n",
       "    <tr>\n",
       "      <th>1</th>\n",
       "      <td>1500000US360010001001</td>\n",
       "      <td>Block Group 1, Census Tract 1, Albany County, ...</td>\n",
       "      <td>873</td>\n",
       "      <td>226</td>\n",
       "      <td>NaN</td>\n",
       "    </tr>\n",
       "    <tr>\n",
       "      <th>2</th>\n",
       "      <td>1500000US360010001002</td>\n",
       "      <td>Block Group 2, Census Tract 1, Albany County, ...</td>\n",
       "      <td>1156</td>\n",
       "      <td>326</td>\n",
       "      <td>NaN</td>\n",
       "    </tr>\n",
       "    <tr>\n",
       "      <th>3</th>\n",
       "      <td>1500000US360010002011</td>\n",
       "      <td>Block Group 1, Census Tract 2.01, Albany Count...</td>\n",
       "      <td>542</td>\n",
       "      <td>331</td>\n",
       "      <td>NaN</td>\n",
       "    </tr>\n",
       "  </tbody>\n",
       "</table>\n",
       "</div>"
      ],
      "text/plain": [
       "                  GEO_ID                                               NAME  \\\n",
       "1  1500000US360010001001  Block Group 1, Census Tract 1, Albany County, ...   \n",
       "2  1500000US360010001002  Block Group 2, Census Tract 1, Albany County, ...   \n",
       "3  1500000US360010002011  Block Group 1, Census Tract 2.01, Albany Count...   \n",
       "\n",
       "  B01003_001E B01003_001M  Unnamed: 4  \n",
       "1         873         226         NaN  \n",
       "2        1156         326         NaN  \n",
       "3         542         331         NaN  "
      ]
     },
     "execution_count": 114,
     "metadata": {},
     "output_type": "execute_result"
    }
   ],
   "source": [
    "bg_pop = pd.read_csv(\"NY_BG/ACSDT5Y2020.B01003-Data.csv\")\n",
    "bg_pop = bg_pop.drop(index=bg_pop.index[0]) #drop the first row\n",
    "#bg_pop = pd.read_csv(\"DECENNIALPL2020/DECENNIALPL2020.P1-Data.csv\", low_memory=False)\n",
    "#bg_pop = bg_pop.drop(index=[0, 1])\n",
    "#print(bg_pop.columns)\n",
    "print(bg_pop.shape)\n",
    "bg_pop.head(3)"
   ]
  },
  {
   "cell_type": "code",
   "execution_count": 115,
   "id": "66e4162b",
   "metadata": {},
   "outputs": [
    {
     "data": {
      "text/html": [
       "<div>\n",
       "<style scoped>\n",
       "    .dataframe tbody tr th:only-of-type {\n",
       "        vertical-align: middle;\n",
       "    }\n",
       "\n",
       "    .dataframe tbody tr th {\n",
       "        vertical-align: top;\n",
       "    }\n",
       "\n",
       "    .dataframe thead th {\n",
       "        text-align: right;\n",
       "    }\n",
       "</style>\n",
       "<table border=\"1\" class=\"dataframe\">\n",
       "  <thead>\n",
       "    <tr style=\"text-align: right;\">\n",
       "      <th></th>\n",
       "      <th>GEO_ID</th>\n",
       "      <th>Population</th>\n",
       "    </tr>\n",
       "  </thead>\n",
       "  <tbody>\n",
       "    <tr>\n",
       "      <th>1</th>\n",
       "      <td>1500000US360010001001</td>\n",
       "      <td>873</td>\n",
       "    </tr>\n",
       "    <tr>\n",
       "      <th>2</th>\n",
       "      <td>1500000US360010001002</td>\n",
       "      <td>1156</td>\n",
       "    </tr>\n",
       "    <tr>\n",
       "      <th>3</th>\n",
       "      <td>1500000US360010002011</td>\n",
       "      <td>542</td>\n",
       "    </tr>\n",
       "  </tbody>\n",
       "</table>\n",
       "</div>"
      ],
      "text/plain": [
       "                  GEO_ID Population\n",
       "1  1500000US360010001001        873\n",
       "2  1500000US360010001002       1156\n",
       "3  1500000US360010002011        542"
      ]
     },
     "execution_count": 115,
     "metadata": {},
     "output_type": "execute_result"
    }
   ],
   "source": [
    "bg_pop = bg_pop[['GEO_ID', 'B01003_001E']].copy()\n",
    "rename = {'B01003_001E' : 'Population'}\n",
    "#bg_pop = bg_pop[['GEO_ID', 'P1_001N']].copy()\n",
    "#rename = {'P1_001N' : 'Population'}\n",
    "bg_pop  = bg_pop.rename(columns = rename)\n",
    "bg_pop.head(3)"
   ]
  },
  {
   "cell_type": "code",
   "execution_count": 116,
   "id": "0c9f37d8",
   "metadata": {},
   "outputs": [
    {
     "name": "stdout",
     "output_type": "stream",
     "text": [
      "19514849\n"
     ]
    }
   ],
   "source": [
    "bg_pop['Population'] = bg_pop['Population'].astype(int)\n",
    "sum_value = bg_pop['Population'].sum()\n",
    "print(sum_value)"
   ]
  },
  {
   "cell_type": "code",
   "execution_count": 117,
   "id": "4bae5de2",
   "metadata": {},
   "outputs": [
    {
     "data": {
      "text/html": [
       "<div>\n",
       "<style scoped>\n",
       "    .dataframe tbody tr th:only-of-type {\n",
       "        vertical-align: middle;\n",
       "    }\n",
       "\n",
       "    .dataframe tbody tr th {\n",
       "        vertical-align: top;\n",
       "    }\n",
       "\n",
       "    .dataframe thead th {\n",
       "        text-align: right;\n",
       "    }\n",
       "</style>\n",
       "<table border=\"1\" class=\"dataframe\">\n",
       "  <thead>\n",
       "    <tr style=\"text-align: right;\">\n",
       "      <th></th>\n",
       "      <th>GEO_ID</th>\n",
       "      <th>Population</th>\n",
       "      <th>GEOID</th>\n",
       "    </tr>\n",
       "  </thead>\n",
       "  <tbody>\n",
       "    <tr>\n",
       "      <th>1</th>\n",
       "      <td>1500000US360010001001</td>\n",
       "      <td>873</td>\n",
       "      <td>360010001001</td>\n",
       "    </tr>\n",
       "    <tr>\n",
       "      <th>2</th>\n",
       "      <td>1500000US360010001002</td>\n",
       "      <td>1156</td>\n",
       "      <td>360010001002</td>\n",
       "    </tr>\n",
       "    <tr>\n",
       "      <th>3</th>\n",
       "      <td>1500000US360010002011</td>\n",
       "      <td>542</td>\n",
       "      <td>360010002011</td>\n",
       "    </tr>\n",
       "  </tbody>\n",
       "</table>\n",
       "</div>"
      ],
      "text/plain": [
       "                  GEO_ID  Population         GEOID\n",
       "1  1500000US360010001001         873  360010001001\n",
       "2  1500000US360010001002        1156  360010001002\n",
       "3  1500000US360010002011         542  360010002011"
      ]
     },
     "execution_count": 117,
     "metadata": {},
     "output_type": "execute_result"
    }
   ],
   "source": [
    "bg_pop['GEOID'] = bg_pop['GEO_ID'].str[-12:]\n",
    "bg_pop.head(3)"
   ]
  },
  {
   "cell_type": "code",
   "execution_count": 118,
   "id": "730d2e8e",
   "metadata": {},
   "outputs": [
    {
     "name": "stdout",
     "output_type": "stream",
     "text": [
      "<class 'pandas.core.frame.DataFrame'>\n",
      "RangeIndex: 16070 entries, 1 to 16070\n",
      "Data columns (total 3 columns):\n",
      " #   Column      Non-Null Count  Dtype \n",
      "---  ------      --------------  ----- \n",
      " 0   GEO_ID      16070 non-null  object\n",
      " 1   Population  16070 non-null  int64 \n",
      " 2   GEOID       16070 non-null  object\n",
      "dtypes: int64(1), object(2)\n",
      "memory usage: 376.8+ KB\n"
     ]
    }
   ],
   "source": [
    "bg_pop.info()"
   ]
  },
  {
   "cell_type": "code",
   "execution_count": 119,
   "id": "a80d5852",
   "metadata": {},
   "outputs": [
    {
     "name": "stdout",
     "output_type": "stream",
     "text": [
      "(16062, 3)\n"
     ]
    },
    {
     "data": {
      "text/html": [
       "<div>\n",
       "<style scoped>\n",
       "    .dataframe tbody tr th:only-of-type {\n",
       "        vertical-align: middle;\n",
       "    }\n",
       "\n",
       "    .dataframe tbody tr th {\n",
       "        vertical-align: top;\n",
       "    }\n",
       "\n",
       "    .dataframe thead th {\n",
       "        text-align: right;\n",
       "    }\n",
       "</style>\n",
       "<table border=\"1\" class=\"dataframe\">\n",
       "  <thead>\n",
       "    <tr style=\"text-align: right;\">\n",
       "      <th></th>\n",
       "      <th>GEOID</th>\n",
       "      <th>Population</th>\n",
       "      <th>COUNTY</th>\n",
       "    </tr>\n",
       "  </thead>\n",
       "  <tbody>\n",
       "    <tr>\n",
       "      <th>1</th>\n",
       "      <td>360010001001</td>\n",
       "      <td>873</td>\n",
       "      <td>36001</td>\n",
       "    </tr>\n",
       "    <tr>\n",
       "      <th>2</th>\n",
       "      <td>360010001002</td>\n",
       "      <td>1156</td>\n",
       "      <td>36001</td>\n",
       "    </tr>\n",
       "    <tr>\n",
       "      <th>3</th>\n",
       "      <td>360010002011</td>\n",
       "      <td>542</td>\n",
       "      <td>36001</td>\n",
       "    </tr>\n",
       "    <tr>\n",
       "      <th>4</th>\n",
       "      <td>360010002012</td>\n",
       "      <td>1674</td>\n",
       "      <td>36001</td>\n",
       "    </tr>\n",
       "    <tr>\n",
       "      <th>5</th>\n",
       "      <td>360010002013</td>\n",
       "      <td>1047</td>\n",
       "      <td>36001</td>\n",
       "    </tr>\n",
       "  </tbody>\n",
       "</table>\n",
       "</div>"
      ],
      "text/plain": [
       "          GEOID  Population COUNTY\n",
       "1  360010001001         873  36001\n",
       "2  360010001002        1156  36001\n",
       "3  360010002011         542  36001\n",
       "4  360010002012        1674  36001\n",
       "5  360010002013        1047  36001"
      ]
     },
     "execution_count": 119,
     "metadata": {},
     "output_type": "execute_result"
    }
   ],
   "source": [
    "bg_pop = bg_pop[['GEOID', 'Population']].copy()\n",
    "bg_pop['COUNTY'] = bg_pop['GEOID'].str[:5]\n",
    "bg_pop_new = bg_pop[bg_pop['COUNTY'].isin(county_list)]\n",
    "print(bg_pop_new.shape)\n",
    "bg_pop_new.head()"
   ]
  },
  {
   "cell_type": "markdown",
   "id": "f4a63bcf",
   "metadata": {},
   "source": [
    "## Merge Data"
   ]
  },
  {
   "cell_type": "code",
   "execution_count": 120,
   "id": "a85b17f9",
   "metadata": {},
   "outputs": [
    {
     "name": "stdout",
     "output_type": "stream",
     "text": [
      "(16062, 15)\n"
     ]
    },
    {
     "data": {
      "text/html": [
       "<div>\n",
       "<style scoped>\n",
       "    .dataframe tbody tr th:only-of-type {\n",
       "        vertical-align: middle;\n",
       "    }\n",
       "\n",
       "    .dataframe tbody tr th {\n",
       "        vertical-align: top;\n",
       "    }\n",
       "\n",
       "    .dataframe thead th {\n",
       "        text-align: right;\n",
       "    }\n",
       "</style>\n",
       "<table border=\"1\" class=\"dataframe\">\n",
       "  <thead>\n",
       "    <tr style=\"text-align: right;\">\n",
       "      <th></th>\n",
       "      <th>STATEFP</th>\n",
       "      <th>COUNTYFP</th>\n",
       "      <th>TRACTCE</th>\n",
       "      <th>BLKGRPCE</th>\n",
       "      <th>GEOID</th>\n",
       "      <th>NAMELSAD</th>\n",
       "      <th>MTFCC</th>\n",
       "      <th>FUNCSTAT</th>\n",
       "      <th>ALAND</th>\n",
       "      <th>AWATER</th>\n",
       "      <th>INTPTLAT</th>\n",
       "      <th>INTPTLON</th>\n",
       "      <th>geometry</th>\n",
       "      <th>Population</th>\n",
       "      <th>COUNTY</th>\n",
       "    </tr>\n",
       "  </thead>\n",
       "  <tbody>\n",
       "    <tr>\n",
       "      <th>0</th>\n",
       "      <td>36</td>\n",
       "      <td>019</td>\n",
       "      <td>101000</td>\n",
       "      <td>3</td>\n",
       "      <td>360191010003</td>\n",
       "      <td>Block Group 3</td>\n",
       "      <td>G5030</td>\n",
       "      <td>S</td>\n",
       "      <td>363407</td>\n",
       "      <td>0</td>\n",
       "      <td>+44.6938385</td>\n",
       "      <td>-073.4714736</td>\n",
       "      <td>POLYGON ((-73.47596 44.69761, -73.47489 44.697...</td>\n",
       "      <td>859</td>\n",
       "      <td>36019</td>\n",
       "    </tr>\n",
       "    <tr>\n",
       "      <th>1</th>\n",
       "      <td>36</td>\n",
       "      <td>019</td>\n",
       "      <td>100200</td>\n",
       "      <td>1</td>\n",
       "      <td>360191002001</td>\n",
       "      <td>Block Group 1</td>\n",
       "      <td>G5030</td>\n",
       "      <td>S</td>\n",
       "      <td>57385113</td>\n",
       "      <td>312716</td>\n",
       "      <td>+44.8827953</td>\n",
       "      <td>-073.4907087</td>\n",
       "      <td>POLYGON ((-73.55525 44.87744, -73.55521 44.878...</td>\n",
       "      <td>1141</td>\n",
       "      <td>36019</td>\n",
       "    </tr>\n",
       "    <tr>\n",
       "      <th>2</th>\n",
       "      <td>36</td>\n",
       "      <td>019</td>\n",
       "      <td>102200</td>\n",
       "      <td>3</td>\n",
       "      <td>360191022003</td>\n",
       "      <td>Block Group 3</td>\n",
       "      <td>G5030</td>\n",
       "      <td>S</td>\n",
       "      <td>585561</td>\n",
       "      <td>0</td>\n",
       "      <td>+44.6798483</td>\n",
       "      <td>-073.4557185</td>\n",
       "      <td>POLYGON ((-73.46084 44.68186, -73.46079 44.682...</td>\n",
       "      <td>815</td>\n",
       "      <td>36019</td>\n",
       "    </tr>\n",
       "  </tbody>\n",
       "</table>\n",
       "</div>"
      ],
      "text/plain": [
       "  STATEFP COUNTYFP TRACTCE BLKGRPCE         GEOID       NAMELSAD  MTFCC  \\\n",
       "0      36      019  101000        3  360191010003  Block Group 3  G5030   \n",
       "1      36      019  100200        1  360191002001  Block Group 1  G5030   \n",
       "2      36      019  102200        3  360191022003  Block Group 3  G5030   \n",
       "\n",
       "  FUNCSTAT     ALAND  AWATER     INTPTLAT      INTPTLON  \\\n",
       "0        S    363407       0  +44.6938385  -073.4714736   \n",
       "1        S  57385113  312716  +44.8827953  -073.4907087   \n",
       "2        S    585561       0  +44.6798483  -073.4557185   \n",
       "\n",
       "                                            geometry  Population COUNTY  \n",
       "0  POLYGON ((-73.47596 44.69761, -73.47489 44.697...         859  36019  \n",
       "1  POLYGON ((-73.55525 44.87744, -73.55521 44.878...        1141  36019  \n",
       "2  POLYGON ((-73.46084 44.68186, -73.46079 44.682...         815  36019  "
      ]
     },
     "execution_count": 120,
     "metadata": {},
     "output_type": "execute_result"
    }
   ],
   "source": [
    "tessellation = pd.merge(ny_bg_sf, bg_pop_new, on = 'GEOID', how = 'inner')\n",
    "print(tessellation.shape)\n",
    "tessellation.head(3)"
   ]
  },
  {
   "cell_type": "code",
   "execution_count": 121,
   "id": "e83b0a54",
   "metadata": {},
   "outputs": [
    {
     "data": {
      "text/plain": [
       "61"
      ]
     },
     "execution_count": 121,
     "metadata": {},
     "output_type": "execute_result"
    }
   ],
   "source": [
    "len(tessellation['COUNTYFP'].unique())"
   ]
  },
  {
   "cell_type": "markdown",
   "id": "63bdb8d7",
   "metadata": {},
   "source": [
    "#"
   ]
  },
  {
   "cell_type": "markdown",
   "id": "bd3d5ce3",
   "metadata": {},
   "source": [
    "# Individual Trajectory Generation"
   ]
  },
  {
   "cell_type": "code",
   "execution_count": 122,
   "id": "ba65fbcf",
   "metadata": {},
   "outputs": [
    {
     "name": "stdout",
     "output_type": "stream",
     "text": [
      "<class 'geopandas.geodataframe.GeoDataFrame'>\n",
      "Index: 15612 entries, 0 to 16061\n",
      "Data columns (total 3 columns):\n",
      " #   Column      Non-Null Count  Dtype   \n",
      "---  ------      --------------  -----   \n",
      " 0   GEOID       15612 non-null  object  \n",
      " 1   Population  15612 non-null  int64   \n",
      " 2   geometry    15612 non-null  geometry\n",
      "dtypes: geometry(1), int64(1), object(1)\n",
      "memory usage: 487.9+ KB\n",
      "None\n"
     ]
    },
    {
     "data": {
      "text/html": [
       "<div>\n",
       "<style scoped>\n",
       "    .dataframe tbody tr th:only-of-type {\n",
       "        vertical-align: middle;\n",
       "    }\n",
       "\n",
       "    .dataframe tbody tr th {\n",
       "        vertical-align: top;\n",
       "    }\n",
       "\n",
       "    .dataframe thead th {\n",
       "        text-align: right;\n",
       "    }\n",
       "</style>\n",
       "<table border=\"1\" class=\"dataframe\">\n",
       "  <thead>\n",
       "    <tr style=\"text-align: right;\">\n",
       "      <th></th>\n",
       "      <th>GEOID</th>\n",
       "      <th>Population</th>\n",
       "      <th>geometry</th>\n",
       "    </tr>\n",
       "  </thead>\n",
       "  <tbody>\n",
       "    <tr>\n",
       "      <th>0</th>\n",
       "      <td>360191010003</td>\n",
       "      <td>859</td>\n",
       "      <td>POLYGON ((-73.47596 44.69761, -73.47489 44.697...</td>\n",
       "    </tr>\n",
       "    <tr>\n",
       "      <th>1</th>\n",
       "      <td>360191002001</td>\n",
       "      <td>1141</td>\n",
       "      <td>POLYGON ((-73.55525 44.87744, -73.55521 44.878...</td>\n",
       "    </tr>\n",
       "    <tr>\n",
       "      <th>2</th>\n",
       "      <td>360191022003</td>\n",
       "      <td>815</td>\n",
       "      <td>POLYGON ((-73.46084 44.68186, -73.46079 44.682...</td>\n",
       "    </tr>\n",
       "  </tbody>\n",
       "</table>\n",
       "</div>"
      ],
      "text/plain": [
       "          GEOID  Population                                           geometry\n",
       "0  360191010003         859  POLYGON ((-73.47596 44.69761, -73.47489 44.697...\n",
       "1  360191002001        1141  POLYGON ((-73.55525 44.87744, -73.55521 44.878...\n",
       "2  360191022003         815  POLYGON ((-73.46084 44.68186, -73.46079 44.682..."
      ]
     },
     "execution_count": 122,
     "metadata": {},
     "output_type": "execute_result"
    }
   ],
   "source": [
    "tessellation = tessellation[['GEOID', 'Population', 'geometry']].copy()\n",
    "tessellation = tessellation.loc[tessellation['Population'] != 0].copy()\n",
    "print(tessellation.info())\n",
    "tessellation.head(3)"
   ]
  },
  {
   "cell_type": "markdown",
   "id": "32d954ee",
   "metadata": {},
   "source": [
    "## Density EPR"
   ]
  },
  {
   "cell_type": "code",
   "execution_count": 96,
   "id": "ab1f49b6",
   "metadata": {},
   "outputs": [
    {
     "data": {
      "image/svg+xml": [
       "<svg xmlns=\"http://www.w3.org/2000/svg\" xmlns:xlink=\"http://www.w3.org/1999/xlink\" width=\"100.0\" height=\"100.0\" viewBox=\"-76.39151992 42.558353079999996 0.13364783999999474 0.07018484000000313\" preserveAspectRatio=\"xMinYMin meet\"><g transform=\"matrix(1,0,0,-1,0,85.186891)\"><path fill-rule=\"evenodd\" fill=\"#66cc99\" stroke=\"#555555\" stroke-width=\"0.002672956799999895\" opacity=\"0.6\" d=\"M -76.38656999999999,42.62052 L -76.38570899999999,42.620549 L -76.385654,42.620551 L -76.385593,42.620546999999995 L -76.38534299999999,42.620560999999995 L -76.384976,42.620571999999996 L -76.37692299999999,42.620818 L -76.374658,42.620892999999995 L -76.37319699999999,42.620794 L -76.37310099999999,42.620785999999995 L -76.37297199999999,42.620827 L -76.372917,42.620844999999996 L -76.372868,42.620861 L -76.372818,42.620871 L -76.371025,42.620920999999996 L -76.36972,42.620957 L -76.365388,42.621099 L -76.364918,42.621109 L -76.36444999999999,42.621119 L -76.36268199999999,42.621176 L -76.359416,42.621264 L -76.358657,42.621291 L -76.358125,42.621303 L -76.357736,42.621311 L -76.357061,42.621314 L -76.356932,42.621314999999996 L -76.356624,42.621316 L -76.356479,42.621303999999995 L -76.356391,42.621286999999995 L -76.356297,42.621258 L -76.355311,42.621278 L -76.354961,42.621285 L -76.354947,42.621285 L -76.354621,42.621294 L -76.351992,42.62143 L -76.351975,42.621431 L -76.35189199999999,42.621435 L -76.351692,42.621449999999996 L -76.351506,42.621458 L -76.351063,42.621475 L -76.351038,42.621476 L -76.350901,42.621482 L -76.350216,42.621494999999996 L -76.349214,42.621514999999995 L -76.348604,42.621527 L -76.348412,42.621531 L -76.347956,42.621539999999996 L -76.345081,42.621596 L -76.344824,42.621590999999995 L -76.34464299999999,42.621587 L -76.34440000000001,42.621562 L -76.33206,42.621874 L -76.332038,42.621874999999996 L -76.32515,42.622049 L -76.32394,42.622088 L -76.323189,42.622112 L -76.322886,42.622121 L -76.320878,42.622178999999996 L -76.32000599999999,42.622197 L -76.318919,42.62222 L -76.318285,42.622233 L -76.316048,42.622279 L -76.31600999999999,42.622279999999996 L -76.315581,42.622288999999995 L -76.31406199999999,42.622324 L -76.31403,42.622325 L -76.305486,42.622526 L -76.295475,42.622782 L -76.283439,42.623067999999996 L -76.279524,42.623194999999996 L -76.279504,42.623194 L -76.279297,42.623188 L -76.278964,42.623187 L -76.27881599999999,42.62319 L -76.27851199999999,42.623197 L -76.277176,42.623247 L -76.27695899999999,42.623267999999996 L -76.276836,42.623284999999996 L -76.276791,42.623295 L -76.276719,42.62331 L -76.276673,42.623321999999995 L -76.27286099999999,42.623413 L -76.26558399999999,42.623588 L -76.26522899999999,42.617278999999996 L -76.265211,42.616963 L -76.26518999999999,42.616582 L -76.264697,42.607828999999995 L -76.26458,42.605734999999996 L -76.263583,42.587984999999996 L -76.263583,42.587962999999995 L -76.263581,42.587947 L -76.263543,42.58725 L -76.26320799999999,42.581298 L -76.263195,42.581064 L -76.262851,42.574937 L -76.26284799999999,42.574875 L -76.262822,42.574411 L -76.263145,42.574394 L -76.263671,42.574383999999995 L -76.269442,42.574311 L -76.272365,42.574247 L -76.2735,42.574207 L -76.273674,42.574200999999995 L -76.279337,42.573927 L -76.279412,42.573926 L -76.279708,42.573909 L -76.28125299999999,42.573847 L -76.28183899999999,42.573817999999996 L -76.28332,42.573764999999995 L -76.28607099999999,42.573733999999995 L -76.288613,42.57367 L -76.288774,42.573659 L -76.288906,42.573653 L -76.291637,42.573599 L -76.293979,42.573541999999996 L -76.294337,42.573529 L -76.29590999999999,42.573541999999996 L -76.296026,42.573549 L -76.29611299999999,42.573555 L -76.296191,42.57356 L -76.296244,42.573564 L -76.296807,42.5736 L -76.296983,42.573602 L -76.29714,42.573609 L -76.298501,42.57372 L -76.299995,42.573861 L -76.302921,42.574174 L -76.303159,42.574203 L -76.30552,42.574459999999995 L -76.306124,42.574498 L -76.307112,42.5745 L -76.30905299999999,42.574450999999996 L -76.31206499999999,42.574389 L -76.312862,42.574369999999995 L -76.31428799999999,42.574337 L -76.317261,42.574276 L -76.320279,42.574192 L -76.321159,42.574172 L -76.32358599999999,42.574104 L -76.323538,42.573114 L -76.323529,42.572848 L -76.323487,42.570741 L -76.323411,42.568729999999995 L -76.32331599999999,42.565591999999995 L -76.32327599999999,42.563837 L -76.32326499999999,42.563674999999996 L -76.328822,42.563551 L -76.331688,42.563486999999995 L -76.334339,42.563434 L -76.336663,42.563393 L -76.34247599999999,42.563303 L -76.342508,42.564288 L -76.342546,42.565445 L -76.342621,42.56725 L -76.342675,42.56874 L -76.342702,42.569946 L -76.342777,42.571836 L -76.34277999999999,42.571937 L -76.342916,42.576215999999995 L -76.342957,42.577098 L -76.34302199999999,42.579329 L -76.34305499999999,42.580442 L -76.34306099999999,42.580501 L -76.343119,42.582715 L -76.343152,42.583677 L -76.343193,42.584876 L -76.34320199999999,42.585184999999996 L -76.343248,42.586721 L -76.343335,42.588924999999996 L -76.343366,42.589714 L -76.34344399999999,42.591915 L -76.343454,42.592045999999996 L -76.3476,42.591974 L -76.351114,42.591933 L -76.35116699999999,42.591932 L -76.351277,42.591930999999995 L -76.35183099999999,42.591924 L -76.35314,42.591909 L -76.353214,42.591904 L -76.354443,42.591877 L -76.354975,42.591865 L -76.355227,42.591857999999995 L -76.355625,42.591848 L -76.356297,42.591812999999995 L -76.356353,42.591812999999995 L -76.356894,42.591743 L -76.357053,42.591722999999995 L -76.35773499999999,42.59158 L -76.35907,42.591231 L -76.35975599999999,42.591079 L -76.360451,42.590984999999996 L -76.361966,42.590841 L -76.36203499999999,42.590831 L -76.363058,42.590733 L -76.363416,42.590702 L -76.364003,42.590682 L -76.364823,42.590685 L -76.364898,42.590689 L -76.365375,42.590692 L -76.366129,42.590697 L -76.367087,42.590711999999996 L -76.367605,42.590706 L -76.367682,42.590705 L -76.367935,42.590711 L -76.367935,42.590773999999996 L -76.367936,42.590837 L -76.367931,42.590900999999995 L -76.367918,42.590964 L -76.367896,42.591027 L -76.367864,42.591086 L -76.367825,42.591145 L -76.367778,42.5912 L -76.36766,42.591296 L -76.36744399999999,42.59142 L -76.367246,42.591521 L -76.367149,42.591581 L -76.367019,42.591668 L -76.366945,42.591718 L -76.366805,42.591823999999995 L -76.366609,42.592000999999996 L -76.36651499999999,42.592110999999996 L -76.36646,42.592197 L -76.366417,42.592287 L -76.366387,42.592382 L -76.366371,42.592482 L -76.36636899999999,42.592576 L -76.36638099999999,42.592675 L -76.366406,42.592769 L -76.366444,42.592863 L -76.366495,42.592953 L -76.36655999999999,42.593038 L -76.366635,42.593118 L -76.366721,42.593188999999995 L -76.366816,42.593255 L -76.367031,42.593379 L -76.367609,42.593741 L -76.368664,42.594488999999996 L -76.368831,42.594622 L -76.368979,42.594769 L -76.369124,42.594952 L -76.3695,42.595456999999996 L -76.36957199999999,42.595591 L -76.369636,42.595712 L -76.36968399999999,42.595845999999995 L -76.369715,42.595988999999996 L -76.369736,42.596137999999996 L -76.369723,42.596317 L -76.36971199999999,42.596458 L -76.369708,42.596529 L -76.36967,42.59717 L -76.369675,42.597224999999995 L -76.36970099999999,42.597533999999996 L -76.369722,42.597642 L -76.369736,42.597713999999996 L -76.369761,42.597812999999995 L -76.36989299999999,42.598194 L -76.370336,42.599215 L -76.370553,42.599798 L -76.370577,42.599883 L -76.370648,42.60013 L -76.370926,42.601026999999995 L -76.37097899999999,42.601202 L -76.371195,42.601636 L -76.37145799999999,42.60203 L -76.371796,42.602422 L -76.372495,42.603066 L -76.37268,42.603254 L -76.373335,42.603912 L -76.37342199999999,42.604003999999996 L -76.374684,42.60535 L -76.375539,42.606321 L -76.37572899999999,42.606558 L -76.375858,42.606739999999995 L -76.37665299999999,42.607777999999996 L -76.377122,42.608373 L -76.378393,42.610011 L -76.378847,42.610563 L -76.378889,42.610622 L -76.379147,42.610966999999995 L -76.379829,42.611782999999996 L -76.381079,42.61326 L -76.381502,42.613836 L -76.381773,42.614297 L -76.383219,42.616890999999995 L -76.383342,42.617070999999996 L -76.38351999999999,42.617332999999995 L -76.38391899999999,42.617792 L -76.384045,42.617922 L -76.384087,42.617964 L -76.384131,42.61801 L -76.386527,42.620456999999995 L -76.38656999999999,42.62052 z\" /></g></svg>"
      ],
      "text/plain": [
       "<POLYGON ((-76.387 42.621, -76.386 42.621, -76.386 42.621, -76.386 42.621, -...>"
      ]
     },
     "execution_count": 96,
     "metadata": {},
     "output_type": "execute_result"
    }
   ],
   "source": [
    "tessellation.iloc[9,2]"
   ]
  },
  {
   "cell_type": "code",
   "execution_count": 145,
   "id": "e917ec79",
   "metadata": {},
   "outputs": [
    {
     "name": "stderr",
     "output_type": "stream",
     "text": [
      "/Users/wendyshi2001/anaconda3/envs/skmob/lib/python3.9/site-packages/geopandas/geoseries.py:574: FutureWarning: the convert_dtype parameter is deprecated and will be removed in a future version.  Do ``ser.astype(object).apply()`` instead if you want ``convert_dtype=False``.\n",
      "  result = super().apply(func, convert_dtype=convert_dtype, args=args, **kwargs)\n",
      "  0%|                                                 | 0/10000 [00:00<?, ?it/s]/Users/wendyshi2001/anaconda3/envs/skmob/lib/python3.9/site-packages/skmob/models/gravity.py:43: RuntimeWarning: divide by zero encountered in power\n",
      "  return np.power(x, exponent)\n",
      "100%|█████████████████████████████████████| 10000/10000 [45:55<00:00,  3.63it/s]\n"
     ]
    }
   ],
   "source": [
    "start_time = pd.to_datetime('2020/03/01 00:00:00')\n",
    "end_time = pd.to_datetime('2020/03/30 23:59:59')\n",
    "depr = DensityEPR()\n",
    "tdf = depr.generate(start_time, \n",
    "                    end_time, \n",
    "                    tessellation, \n",
    "                    relevance_column='Population', #Take population into account\n",
    "                    n_agents=10000, \n",
    "                    show_progress=True)"
   ]
  },
  {
   "cell_type": "code",
   "execution_count": 146,
   "id": "81f5c6c9",
   "metadata": {},
   "outputs": [],
   "source": [
    "tdf.to_csv(\"NY_4Week_10000_realpop.csv\")"
   ]
  },
  {
   "cell_type": "markdown",
   "id": "6a08713d",
   "metadata": {},
   "source": [
    "#"
   ]
  },
  {
   "cell_type": "markdown",
   "id": "ce9a9466",
   "metadata": {},
   "source": [
    "#"
   ]
  },
  {
   "cell_type": "markdown",
   "id": "14b18ce2",
   "metadata": {},
   "source": [
    "# Visualizations"
   ]
  },
  {
   "cell_type": "code",
   "execution_count": 151,
   "id": "849ba117",
   "metadata": {},
   "outputs": [
    {
     "name": "stdout",
     "output_type": "stream",
     "text": [
      "(462, 4)\n"
     ]
    },
    {
     "data": {
      "text/html": [
       "<div>\n",
       "<style scoped>\n",
       "    .dataframe tbody tr th:only-of-type {\n",
       "        vertical-align: middle;\n",
       "    }\n",
       "\n",
       "    .dataframe tbody tr th {\n",
       "        vertical-align: top;\n",
       "    }\n",
       "\n",
       "    .dataframe thead th {\n",
       "        text-align: right;\n",
       "    }\n",
       "</style>\n",
       "<table border=\"1\" class=\"dataframe\">\n",
       "  <thead>\n",
       "    <tr style=\"text-align: right;\">\n",
       "      <th></th>\n",
       "      <th>uid</th>\n",
       "      <th>datetime</th>\n",
       "      <th>lat</th>\n",
       "      <th>lng</th>\n",
       "    </tr>\n",
       "  </thead>\n",
       "  <tbody>\n",
       "    <tr>\n",
       "      <th>0</th>\n",
       "      <td>557</td>\n",
       "      <td>2020-03-01 00:00:00.000000</td>\n",
       "      <td>42.930156</td>\n",
       "      <td>-78.859749</td>\n",
       "    </tr>\n",
       "    <tr>\n",
       "      <th>1</th>\n",
       "      <td>557</td>\n",
       "      <td>2020-03-01 01:15:28.197694</td>\n",
       "      <td>43.007559</td>\n",
       "      <td>-78.887213</td>\n",
       "    </tr>\n",
       "    <tr>\n",
       "      <th>2</th>\n",
       "      <td>557</td>\n",
       "      <td>2020-03-01 01:53:00.948465</td>\n",
       "      <td>43.010462</td>\n",
       "      <td>-78.881595</td>\n",
       "    </tr>\n",
       "    <tr>\n",
       "      <th>3</th>\n",
       "      <td>557</td>\n",
       "      <td>2020-03-01 02:17:54.339770</td>\n",
       "      <td>42.930156</td>\n",
       "      <td>-78.859749</td>\n",
       "    </tr>\n",
       "    <tr>\n",
       "      <th>4</th>\n",
       "      <td>557</td>\n",
       "      <td>2020-03-01 03:22:33.178543</td>\n",
       "      <td>42.917903</td>\n",
       "      <td>-78.878670</td>\n",
       "    </tr>\n",
       "  </tbody>\n",
       "</table>\n",
       "</div>"
      ],
      "text/plain": [
       "   uid                   datetime        lat        lng\n",
       "0  557 2020-03-01 00:00:00.000000  42.930156 -78.859749\n",
       "1  557 2020-03-01 01:15:28.197694  43.007559 -78.887213\n",
       "2  557 2020-03-01 01:53:00.948465  43.010462 -78.881595\n",
       "3  557 2020-03-01 02:17:54.339770  42.930156 -78.859749\n",
       "4  557 2020-03-01 03:22:33.178543  42.917903 -78.878670"
      ]
     },
     "execution_count": 151,
     "metadata": {},
     "output_type": "execute_result"
    }
   ],
   "source": [
    "#data = ditras_tdf\n",
    "data = tdf\n",
    "person1 = data[data[\"uid\"] == 557].copy().reset_index()\n",
    "person1 = person1.drop(columns = 'index')\n",
    "print(person1.shape)\n",
    "person1.head(5)"
   ]
  },
  {
   "cell_type": "code",
   "execution_count": 152,
   "id": "7df0a4aa",
   "metadata": {},
   "outputs": [
    {
     "data": {
      "text/html": [
       "<div style=\"width:100%;\"><div style=\"position:relative;width:100%;height:0;padding-bottom:60%;\"><span style=\"color:#565656\">Make this Notebook Trusted to load map: File -> Trust Notebook</span><iframe srcdoc=\"&lt;!DOCTYPE html&gt;\n",
       "&lt;html&gt;\n",
       "&lt;head&gt;\n",
       "    \n",
       "    &lt;meta http-equiv=&quot;content-type&quot; content=&quot;text/html; charset=UTF-8&quot; /&gt;\n",
       "    \n",
       "        &lt;script&gt;\n",
       "            L_NO_TOUCH = false;\n",
       "            L_DISABLE_3D = false;\n",
       "        &lt;/script&gt;\n",
       "    \n",
       "    &lt;style&gt;html, body {width: 100%;height: 100%;margin: 0;padding: 0;}&lt;/style&gt;\n",
       "    &lt;style&gt;#map {position:absolute;top:0;bottom:0;right:0;left:0;}&lt;/style&gt;\n",
       "    &lt;script src=&quot;https://cdn.jsdelivr.net/npm/leaflet@1.9.3/dist/leaflet.js&quot;&gt;&lt;/script&gt;\n",
       "    &lt;script src=&quot;https://code.jquery.com/jquery-3.7.1.min.js&quot;&gt;&lt;/script&gt;\n",
       "    &lt;script src=&quot;https://cdn.jsdelivr.net/npm/bootstrap@5.2.2/dist/js/bootstrap.bundle.min.js&quot;&gt;&lt;/script&gt;\n",
       "    &lt;script src=&quot;https://cdnjs.cloudflare.com/ajax/libs/Leaflet.awesome-markers/2.0.2/leaflet.awesome-markers.js&quot;&gt;&lt;/script&gt;\n",
       "    &lt;link rel=&quot;stylesheet&quot; href=&quot;https://cdn.jsdelivr.net/npm/leaflet@1.9.3/dist/leaflet.css&quot;/&gt;\n",
       "    &lt;link rel=&quot;stylesheet&quot; href=&quot;https://cdn.jsdelivr.net/npm/bootstrap@5.2.2/dist/css/bootstrap.min.css&quot;/&gt;\n",
       "    &lt;link rel=&quot;stylesheet&quot; href=&quot;https://netdna.bootstrapcdn.com/bootstrap/3.0.0/css/bootstrap-glyphicons.css&quot;/&gt;\n",
       "    &lt;link rel=&quot;stylesheet&quot; href=&quot;https://cdn.jsdelivr.net/npm/@fortawesome/fontawesome-free@6.2.0/css/all.min.css&quot;/&gt;\n",
       "    &lt;link rel=&quot;stylesheet&quot; href=&quot;https://cdnjs.cloudflare.com/ajax/libs/Leaflet.awesome-markers/2.0.2/leaflet.awesome-markers.css&quot;/&gt;\n",
       "    &lt;link rel=&quot;stylesheet&quot; href=&quot;https://cdn.jsdelivr.net/gh/python-visualization/folium/folium/templates/leaflet.awesome.rotate.min.css&quot;/&gt;\n",
       "    \n",
       "            &lt;meta name=&quot;viewport&quot; content=&quot;width=device-width,\n",
       "                initial-scale=1.0, maximum-scale=1.0, user-scalable=no&quot; /&gt;\n",
       "            &lt;style&gt;\n",
       "                #map_3eed052de629c0e276eedaaf4fc45f0a {\n",
       "                    position: relative;\n",
       "                    width: 100.0%;\n",
       "                    height: 100.0%;\n",
       "                    left: 0.0%;\n",
       "                    top: 0.0%;\n",
       "                }\n",
       "                .leaflet-container { font-size: 1rem; }\n",
       "            &lt;/style&gt;\n",
       "        \n",
       "&lt;/head&gt;\n",
       "&lt;body&gt;\n",
       "    \n",
       "    \n",
       "            &lt;div class=&quot;folium-map&quot; id=&quot;map_3eed052de629c0e276eedaaf4fc45f0a&quot; &gt;&lt;/div&gt;\n",
       "        \n",
       "&lt;/body&gt;\n",
       "&lt;script&gt;\n",
       "    \n",
       "    \n",
       "            var map_3eed052de629c0e276eedaaf4fc45f0a = L.map(\n",
       "                &quot;map_3eed052de629c0e276eedaaf4fc45f0a&quot;,\n",
       "                {\n",
       "                    center: [42.91853244795186, -78.85974912685118],\n",
       "                    crs: L.CRS.EPSG3857,\n",
       "                    ...{\n",
       "  &quot;zoom&quot;: 12,\n",
       "  &quot;zoomControl&quot;: true,\n",
       "  &quot;preferCanvas&quot;: false,\n",
       "}\n",
       "\n",
       "                }\n",
       "            );\n",
       "            L.control.scale().addTo(map_3eed052de629c0e276eedaaf4fc45f0a);\n",
       "\n",
       "            \n",
       "\n",
       "        \n",
       "    \n",
       "            var tile_layer_7e8f781ab284d75849881f2bd94b1417 = L.tileLayer(\n",
       "                &quot;https://tile.openstreetmap.org/{z}/{x}/{y}.png&quot;,\n",
       "                {\n",
       "  &quot;minZoom&quot;: 0,\n",
       "  &quot;maxZoom&quot;: 19,\n",
       "  &quot;maxNativeZoom&quot;: 19,\n",
       "  &quot;noWrap&quot;: false,\n",
       "  &quot;attribution&quot;: &quot;\\u0026copy; \\u003ca href=\\&quot;https://www.openstreetmap.org/copyright\\&quot;\\u003eOpenStreetMap\\u003c/a\\u003e contributors&quot;,\n",
       "  &quot;subdomains&quot;: &quot;abc&quot;,\n",
       "  &quot;detectRetina&quot;: false,\n",
       "  &quot;tms&quot;: false,\n",
       "  &quot;opacity&quot;: 1,\n",
       "}\n",
       "\n",
       "            );\n",
       "        \n",
       "    \n",
       "            tile_layer_7e8f781ab284d75849881f2bd94b1417.addTo(map_3eed052de629c0e276eedaaf4fc45f0a);\n",
       "        \n",
       "    \n",
       "        function geo_json_9de153efdbf99e2e21861a49457c593c_styler(feature) {\n",
       "            switch(feature.id) {\n",
       "                default:\n",
       "                    return {&quot;color&quot;: &quot;#FFCFE2&quot;, &quot;dashArray&quot;: &quot;0, 0&quot;, &quot;opacity&quot;: 0.9, &quot;weight&quot;: 3};\n",
       "            }\n",
       "        }\n",
       "\n",
       "        function geo_json_9de153efdbf99e2e21861a49457c593c_onEachFeature(feature, layer) {\n",
       "            layer.on({\n",
       "            });\n",
       "        };\n",
       "        var geo_json_9de153efdbf99e2e21861a49457c593c = L.geoJson(null, {\n",
       "                onEachFeature: geo_json_9de153efdbf99e2e21861a49457c593c_onEachFeature,\n",
       "            \n",
       "                style: geo_json_9de153efdbf99e2e21861a49457c593c_styler,\n",
       "            ...{\n",
       "}\n",
       "        });\n",
       "\n",
       "        function geo_json_9de153efdbf99e2e21861a49457c593c_add (data) {\n",
       "            geo_json_9de153efdbf99e2e21861a49457c593c\n",
       "                .addData(data);\n",
       "        }\n",
       "            geo_json_9de153efdbf99e2e21861a49457c593c_add({&quot;features&quot;: [{&quot;geometry&quot;: {&quot;coordinates&quot;: [[-78.859749, 42.930156], [-78.887213, 43.007559], [-78.881595, 43.010462], [-78.859749, 42.930156], [-78.87867, 42.917903], [-78.881828, 42.917825], [-78.859749, 42.930156], [-78.87867, 42.917903], [-78.608201, 42.16186], [-78.785941, 43.050976], [-78.80639, 43.04883], [-78.859749, 42.930156], [-78.87867, 42.917903], [-78.608201, 42.16186], [-78.80639, 43.04883], [-78.816923, 43.041442], [-78.859749, 42.930156], [-78.87867, 42.917903], [-78.859749, 42.930156], [-78.785941, 43.050976], [-78.80639, 43.04883], [-78.87867, 42.917903], [-78.895024, 42.904431], [-78.608201, 42.16186], [-78.87867, 42.917903], [-78.881595, 43.010462], [-78.887213, 43.007559], [-78.829775, 42.853727], [-78.895024, 42.904431], [-78.859749, 42.930156], [-78.887213, 43.007559], [-78.80639, 43.04883], [-78.784683, 43.029455], [-78.865011, 43.028107], [-78.816923, 43.041442], [-78.87867, 42.917903], [-78.873287, 42.914306], [-78.829775, 42.853727], [-78.887213, 43.007559], [-78.87867, 42.917903], [-78.859749, 42.930156], [-78.889231, 42.919068], [-78.859749, 42.930156], [-78.881828, 42.917825], [-78.857744, 42.918128], [-78.895024, 42.904431], [-78.881828, 42.917825], [-78.874187, 42.90817], [-78.829775, 42.853727], [-78.827194, 42.85117], [-78.829775, 42.853727], [-78.887213, 43.007559], [-78.885249, 43.016098], [-78.608201, 42.16186], [-78.446024, 42.307065], [-78.80639, 43.04883], [-78.866437, 43.035384], [-78.859749, 42.930156], [-78.608201, 42.16186], [-78.893337, 42.509776], [-79.31431, 42.436224], [-78.859749, 42.930156], [-78.80639, 43.04883], [-78.815181, 43.034547], [-78.895024, 42.904431], [-78.887213, 43.007559], [-78.87867, 42.917903], [-78.80639, 43.04883], [-78.883754, 42.961327], [-78.865677, 42.960471], [-78.858079, 42.953028], [-78.859749, 42.930156], [-78.80639, 43.04883], [-78.895024, 42.904431], [-78.89981, 42.900674], [-78.887994, 42.902242], [-78.866437, 43.035384], [-78.865677, 42.960471], [-78.887994, 42.902242], [-78.784683, 43.029455], [-78.727393, 43.063276], [-78.87867, 42.917903], [-78.886393, 42.930555], [-78.883754, 42.961327], [-78.608201, 42.16186], [-78.80639, 43.04883], [-78.881595, 43.010462], [-78.859749, 42.930156], [-78.80639, 43.04883], [-78.895024, 42.904431], [-78.80639, 43.04883], [-79.239643, 42.104038], [-78.80639, 43.04883], [-78.816923, 43.041442], [-78.865677, 42.960471], [-78.862175, 42.945379], [-78.827804, 42.973003], [-78.859749, 42.930156], [-78.829775, 42.853727], [-78.80639, 43.04883], [-78.87867, 42.917903], [-78.859749, 42.930156], [-78.829775, 42.853727], [-78.87867, 42.917903], [-78.608201, 42.16186], [-73.837378, 41.059785], [-78.87867, 42.917903], [-78.874187, 42.90817], [-78.873571, 42.912227], [-78.785941, 43.050976], [-78.87867, 42.917903], [-78.873571, 42.912227], [-78.895024, 42.904431], [-78.888359, 42.911728], [-78.903373, 42.947193], [-78.883754, 42.961327], [-78.827194, 42.85117], [-78.903373, 42.947193], [-78.802357, 42.916835], [-78.608201, 42.16186], [-78.785941, 43.050976], [-78.839695, 43.050665], [-78.608201, 42.16186], [-78.402904, 42.105128], [-78.442085, 42.074838], [-78.866437, 43.035384], [-73.837378, 41.059785], [-73.856395, 41.067942], [-78.903373, 42.947193], [-78.859749, 42.930156], [-78.895024, 42.904431], [-78.873287, 42.914306], [-78.885396, 42.912861], [-78.895024, 42.904431], [-78.859749, 42.930156], [-78.827194, 42.85117], [-78.80639, 43.04883], [-78.784465, 43.00196], [-78.873571, 42.912227], [-78.881828, 42.917825], [-78.884492, 42.917822], [-78.886885, 42.917777], [-78.402904, 42.105128], [-78.409114, 42.0818], [-78.87867, 42.917903], [-78.839695, 43.050665], [-78.866437, 43.035384], [-78.608201, 42.16186], [-78.416987, 42.07988], [-78.87867, 42.917903], [-78.884492, 42.917822], [-78.881595, 43.010462], [-78.87867, 42.917903], [-78.784683, 43.029455], [-78.402904, 42.105128], [-78.442352, 42.081134], [-78.608201, 42.16186], [-78.859749, 42.930156], [-78.865677, 42.960471], [-78.409114, 42.0818], [-78.423622, 42.095489], [-78.402904, 42.105128], [-78.866437, 43.035384], [-78.873571, 42.912227], [-78.856513, 42.880875], [-78.886393, 42.930555], [-78.895024, 42.904431], [-78.829775, 42.853727], [-78.80639, 43.04883], [-78.895024, 42.904431], [-78.883754, 42.961327], [-78.829775, 42.853727], [-78.608201, 42.16186], [-78.859749, 42.930156], [-78.862175, 42.945379], [-78.80639, 43.04883], [-79.31431, 42.436224], [-78.784465, 43.00196], [-78.80639, 43.04883], [-78.866437, 43.035384], [-78.608201, 42.16186], [-78.827194, 42.85117], [-78.87867, 42.917903], [-73.837378, 41.059785], [-78.881828, 42.917825], [-78.859749, 42.930156], [-78.608201, 42.16186], [-78.859749, 42.930156], [-78.829775, 42.853727], [-78.423622, 42.095489], [-78.865677, 42.960471], [-78.895024, 42.904431], [-78.887994, 42.902242], [-78.87867, 42.917903], [-78.865677, 42.960471], [-78.87867, 42.917903], [-78.608201, 42.16186], [-78.856513, 42.880875], [-78.829775, 42.853727], [-78.895024, 42.904431], [-78.891678, 42.918937], [-78.889778, 42.923888], [-78.446024, 42.307065], [-79.130181, 42.402498], [-78.784465, 43.00196], [-78.722931, 42.928068], [-78.821502, 42.925801], [-78.895024, 42.904431], [-78.89981, 42.900674], [-78.895024, 42.904431], [-78.885005, 42.905215], [-78.829775, 42.853727], [-78.859749, 42.930156], [-78.409114, 42.0818], [-78.883754, 42.961327], [-78.897951, 42.961073], [-78.881828, 42.917825], [-78.879189, 42.922229], [-78.827194, 42.85117], [-78.87867, 42.917903], [-78.865677, 42.960471], [-78.862175, 42.945379], [-78.859749, 42.930156], [-78.837317, 42.964189], [-73.837378, 41.059785], [-78.608201, 42.16186], [-78.156008, 42.306229], [-78.897951, 42.961073], [-78.859749, 42.930156], [-78.87867, 42.917903], [-78.784465, 43.00196], [-78.865677, 42.960471], [-78.881595, 43.010462], [-78.722931, 42.928068], [-78.710397, 42.899792], [-78.87867, 42.917903], [-79.31431, 42.436224], [-78.829775, 42.853727], [-78.816923, 43.041442], [-78.886393, 42.930555], [-78.87867, 42.917903], [-78.865011, 43.028107], [-78.886393, 42.930555], [-78.865677, 42.960471], [-78.895024, 42.904431], [-78.858079, 42.953028], [-78.821502, 42.925801], [-78.423622, 42.095489], [-78.903373, 42.947193], [-78.903452, 42.941828], [-78.87867, 42.917903], [-78.608201, 42.16186], [-78.873571, 42.912227], [-78.901422, 42.937802], [-78.80639, 43.04883], [-78.873571, 42.912227], [-78.784683, 43.029455], [-78.804922, 43.039717], [-78.608201, 42.16186], [-78.839695, 43.050665], [-78.892542, 43.047762], [-78.895024, 42.904431], [-78.873147, 42.941816], [-78.839695, 43.050665], [-79.239643, 42.104038], [-78.881595, 43.010462], [-78.892542, 43.047762], [-78.84304, 42.894316], [-78.886393, 42.930555], [-78.608201, 42.16186], [-73.837378, 41.059785], [-78.608201, 42.16186], [-79.268705, 42.049386], [-78.827194, 42.85117], [-78.873147, 42.941816], [-78.897951, 42.961073], [-78.87867, 42.917903], [-78.886393, 42.930555], [-78.829775, 42.853727], [-78.839695, 43.050665], [-78.888359, 42.911728], [-78.883754, 42.961327], [-78.724133, 42.996424], [-78.865677, 42.960471], [-78.895024, 42.904431], [-78.608201, 42.16186], [-78.68462, 42.522567], [-78.80639, 43.04883], [-78.923515, 43.031974], [-78.859749, 42.930156], [-78.875168, 42.97512], [-78.861991, 42.965835], [-78.859749, 42.930156], [-78.857527, 42.960387], [-78.865677, 42.960471], [-78.881595, 43.010462], [-78.873571, 42.912227], [-78.829775, 42.853727], [-78.785941, 43.050976], [-78.811648, 42.977076], [-78.810757, 42.970248], [-78.87867, 42.917903], [-78.608201, 42.16186], [-78.537375, 42.049084], [-78.858106, 42.088677], [-78.859749, 42.930156], [-78.862175, 42.945379], [-78.881828, 42.917825], [-78.859749, 42.930156], [-78.87867, 42.917903], [-78.859749, 42.930156], [-78.873571, 42.912227], [-78.423622, 42.095489], [-78.873571, 42.912227], [-78.80639, 43.04883], [-78.804922, 43.039717], [-78.608201, 42.16186], [-78.402904, 42.105128], [-78.482856, 42.077253], [-78.87867, 42.917903], [-78.859749, 42.930156], [-78.893337, 42.509776], [-76.75473, 42.241426], [-76.478763, 42.491384], [-76.504009, 42.453653], [-78.446024, 42.307065], [-78.859749, 42.930156], [-78.894168, 43.00509], [-73.856395, 41.067942], [-73.881489, 41.083833], [-78.885005, 42.905215], [-78.84304, 42.894316], [-78.80639, 43.04883], [-78.608201, 42.16186], [-78.827804, 42.973003], [-78.803261, 42.957066], [-78.847856, 42.915832], [-78.892542, 43.047762], [-78.865677, 42.960471], [-78.608201, 42.16186], [-78.261843, 42.994229], [-78.895024, 42.904431], [-78.608201, 42.16186], [-78.829775, 42.853727], [-78.785941, 43.050976], [-78.963594, 43.072066], [-78.884492, 42.917822], [-78.881828, 42.917825], [-76.504009, 42.453653], [-78.608201, 42.16186], [-78.856513, 42.880875], [-78.446024, 42.307065], [-78.784465, 43.00196], [-78.802326, 42.925894], [-78.901422, 42.937802], [-78.446024, 42.307065], [-78.892542, 43.047762], [-78.784683, 43.029455], [-78.859749, 42.930156], [-78.80639, 43.04883], [-78.811025, 43.009999], [-78.770154, 42.93936], [-78.763698, 42.941559], [-78.895024, 42.904431], [-78.866437, 43.035384], [-78.871584, 43.027298], [-79.130181, 42.402498], [-79.133508, 42.544008], [-78.865011, 43.028107], [-78.785941, 43.050976], [-78.881828, 42.917825], [-78.87867, 42.917903], [-78.911572, 42.959549], [-78.839555, 42.889181], [-78.84921, 42.913287], [-79.133508, 42.544008], [-78.887994, 42.902242], [-78.785941, 43.050976], [-78.261843, 42.994229], [-78.784683, 43.029455], [-78.80639, 43.04883], [-76.504009, 42.453653], [-78.873571, 42.912227], [-79.239643, 42.104038], [-78.887994, 42.902242], [-78.859749, 42.930156], [-78.883754, 42.961327], [-78.810757, 42.970248], [-78.881595, 43.010462], [-78.859749, 42.930156], [-78.897951, 42.961073], [-78.80639, 43.04883], [-79.239643, 42.104038], [-78.608201, 42.16186], [-78.874187, 42.90817], [-78.879586, 42.913415], [-78.837317, 42.964189], [-78.777969, 42.928387], [-78.748076, 42.922476], [-78.881595, 43.010462], [-77.575389, 43.173883], [-78.873147, 42.941816], [-78.827194, 42.85117], [-78.87867, 42.917903], [-78.261843, 42.994229], [-78.837317, 42.964189], [-79.239643, 42.104038], [-78.829775, 42.853727], [-78.87867, 42.917903], [-78.873571, 42.912227], [-78.608201, 42.16186], [-78.671097, 42.221593], [-78.839695, 43.050665], [-78.911572, 42.959549], [-78.87867, 42.917903], [-78.879189, 42.922229], [-78.87867, 42.917903], [-78.889778, 42.923888], [-78.885187, 42.92372], [-78.827194, 42.85117], [-78.859749, 42.930156], [-78.839819, 42.948827], [-78.785941, 43.050976], [-78.537375, 42.049084], [-78.887213, 43.007559], [-78.874357, 42.962264], [-78.446024, 42.307065], [-78.777045, 43.277746], [-78.859749, 42.930156], [-78.895024, 42.904431], [-78.837317, 42.964189], [-78.608201, 42.16186], [-79.239643, 42.104038], [-78.87867, 42.917903], [-78.785941, 43.050976], [-78.787812, 42.971499], [-78.803261, 42.957066], [-78.810302, 42.947792], [-78.423622, 42.095489], [-78.859749, 42.930156], [-78.671097, 42.221593], [-78.87867, 42.917903], [-78.827194, 42.85117], [-78.423622, 42.095489], [-78.608201, 42.16186], [-78.80639, 43.04883], [-78.859749, 42.930156], [-78.881595, 43.010462], [-78.887213, 43.007559], [-78.865677, 42.960471], [-78.888752, 42.939689], [-78.84304, 42.894316], [-78.815181, 43.034547], [-78.820468, 43.017897], [-78.895024, 42.904431], [-78.865677, 42.960471], [-78.891678, 42.918937], [-78.865677, 42.960471], [-78.844141, 42.967326], [-78.893337, 42.509776], [-79.053091, 42.649026], [-78.608201, 42.16186]], &quot;type&quot;: &quot;LineString&quot;}, &quot;id&quot;: &quot;0&quot;, &quot;type&quot;: &quot;Feature&quot;}], &quot;type&quot;: &quot;FeatureCollection&quot;});\n",
       "\n",
       "        \n",
       "    \n",
       "            geo_json_9de153efdbf99e2e21861a49457c593c.addTo(map_3eed052de629c0e276eedaaf4fc45f0a);\n",
       "        \n",
       "    \n",
       "            var marker_61d7c8d56ee3c5b12c00ec9c14bee175 = L.marker(\n",
       "                [42.93015562586672, -78.85974912685118],\n",
       "                {\n",
       "}\n",
       "            ).addTo(map_3eed052de629c0e276eedaaf4fc45f0a);\n",
       "        \n",
       "    \n",
       "            var icon_d82cbf430a6a91f7e295bb2a3e30c555 = L.AwesomeMarkers.icon(\n",
       "                {\n",
       "  &quot;markerColor&quot;: &quot;green&quot;,\n",
       "  &quot;iconColor&quot;: &quot;white&quot;,\n",
       "  &quot;icon&quot;: &quot;info-sign&quot;,\n",
       "  &quot;prefix&quot;: &quot;glyphicon&quot;,\n",
       "  &quot;extraClasses&quot;: &quot;fa-rotate-0&quot;,\n",
       "}\n",
       "            );\n",
       "            marker_61d7c8d56ee3c5b12c00ec9c14bee175.setIcon(icon_d82cbf430a6a91f7e295bb2a3e30c555);\n",
       "        \n",
       "    \n",
       "        var popup_6ec75476e4cf565e7c8867bf80b00171 = L.popup({\n",
       "  &quot;maxWidth&quot;: 300,\n",
       "});\n",
       "\n",
       "        \n",
       "            \n",
       "                var html_705f3b24f4a5d9cb58d96ca527e40925 = $(`&lt;div id=&quot;html_705f3b24f4a5d9cb58d96ca527e40925&quot; style=&quot;width: 100.0%; height: 100.0%;&quot;&gt;&lt;i&gt;Start&lt;/i&gt;&lt;BR&gt;2020/03/01 00:00&lt;BR&gt;Coord: &lt;a href=&quot;https://www.google.co.uk/maps/place/42.93015562586672,-78.85974912685118&quot; target=&quot;_blank&quot;&gt;42.9302, -78.8597&lt;/a&gt;&lt;/div&gt;`)[0];\n",
       "                popup_6ec75476e4cf565e7c8867bf80b00171.setContent(html_705f3b24f4a5d9cb58d96ca527e40925);\n",
       "            \n",
       "        \n",
       "\n",
       "        marker_61d7c8d56ee3c5b12c00ec9c14bee175.bindPopup(popup_6ec75476e4cf565e7c8867bf80b00171)\n",
       "        ;\n",
       "\n",
       "        \n",
       "    \n",
       "    \n",
       "            var marker_d1f50dfd33c1fbd3dbd1e64e3bf1b851 = L.marker(\n",
       "                [42.161859701793794, -78.60820065091389],\n",
       "                {\n",
       "}\n",
       "            ).addTo(map_3eed052de629c0e276eedaaf4fc45f0a);\n",
       "        \n",
       "    \n",
       "            var icon_2eabfd4c437b60d07b438a0f80bdab8b = L.AwesomeMarkers.icon(\n",
       "                {\n",
       "  &quot;markerColor&quot;: &quot;red&quot;,\n",
       "  &quot;iconColor&quot;: &quot;white&quot;,\n",
       "  &quot;icon&quot;: &quot;info-sign&quot;,\n",
       "  &quot;prefix&quot;: &quot;glyphicon&quot;,\n",
       "  &quot;extraClasses&quot;: &quot;fa-rotate-0&quot;,\n",
       "}\n",
       "            );\n",
       "            marker_d1f50dfd33c1fbd3dbd1e64e3bf1b851.setIcon(icon_2eabfd4c437b60d07b438a0f80bdab8b);\n",
       "        \n",
       "    \n",
       "        var popup_342435f0ad3a188877ce670c44bc62ec = L.popup({\n",
       "  &quot;maxWidth&quot;: 300,\n",
       "});\n",
       "\n",
       "        \n",
       "            \n",
       "                var html_7caa8217e38df7db9fd692c5e05cde07 = $(`&lt;div id=&quot;html_7caa8217e38df7db9fd692c5e05cde07&quot; style=&quot;width: 100.0%; height: 100.0%;&quot;&gt;&lt;i&gt;End&lt;/i&gt;&lt;BR&gt;2020/03/30 22:22&lt;BR&gt;Coord: &lt;a href=&quot;https://www.google.co.uk/maps/place/42.161859701793794,-78.60820065091389&quot; target=&quot;_blank&quot;&gt;42.1619, -78.6082&lt;/a&gt;&lt;/div&gt;`)[0];\n",
       "                popup_342435f0ad3a188877ce670c44bc62ec.setContent(html_7caa8217e38df7db9fd692c5e05cde07);\n",
       "            \n",
       "        \n",
       "\n",
       "        marker_d1f50dfd33c1fbd3dbd1e64e3bf1b851.bindPopup(popup_342435f0ad3a188877ce670c44bc62ec)\n",
       "        ;\n",
       "\n",
       "        \n",
       "    \n",
       "&lt;/script&gt;\n",
       "&lt;/html&gt;\" style=\"position:absolute;width:100%;height:100%;left:0;top:0;border:none !important;\" allowfullscreen webkitallowfullscreen mozallowfullscreen></iframe></div></div>"
      ],
      "text/plain": [
       "<folium.folium.Map at 0x2e44669a0>"
      ]
     },
     "execution_count": 152,
     "metadata": {},
     "output_type": "execute_result"
    }
   ],
   "source": [
    "plotting_data = skmob.TrajDataFrame(person1, latitude='lat', datetime='datetime', user_id='uid')\n",
    "\n",
    "plotting_data.plot_trajectory(\n",
    "    zoom=12,\n",
    "    weight=3,\n",
    "    opacity=0.9,\n",
    "    max_users = 1,\n",
    "    max_points=None, #trajectories will be down-sampled to have at most `max_points` points.\n",
    "    tiles='OpenStreetMap'  # Built-in tile set, no attribution needed\n",
    ")"
   ]
  },
  {
   "cell_type": "markdown",
   "id": "8378d849",
   "metadata": {},
   "source": [
    "#"
   ]
  },
  {
   "cell_type": "markdown",
   "id": "ad4506f6",
   "metadata": {},
   "source": [
    "# Home location"
   ]
  },
  {
   "cell_type": "code",
   "execution_count": 153,
   "id": "fd593594",
   "metadata": {},
   "outputs": [
    {
     "name": "stdout",
     "output_type": "stream",
     "text": [
      "(4690333, 4)\n"
     ]
    },
    {
     "data": {
      "text/html": [
       "<div>\n",
       "<style scoped>\n",
       "    .dataframe tbody tr th:only-of-type {\n",
       "        vertical-align: middle;\n",
       "    }\n",
       "\n",
       "    .dataframe tbody tr th {\n",
       "        vertical-align: top;\n",
       "    }\n",
       "\n",
       "    .dataframe thead th {\n",
       "        text-align: right;\n",
       "    }\n",
       "</style>\n",
       "<table border=\"1\" class=\"dataframe\">\n",
       "  <thead>\n",
       "    <tr style=\"text-align: right;\">\n",
       "      <th></th>\n",
       "      <th>uid</th>\n",
       "      <th>datetime</th>\n",
       "      <th>lat</th>\n",
       "      <th>lng</th>\n",
       "    </tr>\n",
       "  </thead>\n",
       "  <tbody>\n",
       "    <tr>\n",
       "      <th>0</th>\n",
       "      <td>1</td>\n",
       "      <td>2020-03-01 00:00:00.000000</td>\n",
       "      <td>40.735878</td>\n",
       "      <td>-73.899228</td>\n",
       "    </tr>\n",
       "    <tr>\n",
       "      <th>1</th>\n",
       "      <td>1</td>\n",
       "      <td>2020-03-01 06:25:08.573311</td>\n",
       "      <td>40.737657</td>\n",
       "      <td>-73.907013</td>\n",
       "    </tr>\n",
       "    <tr>\n",
       "      <th>2</th>\n",
       "      <td>1</td>\n",
       "      <td>2020-03-01 08:04:00.153349</td>\n",
       "      <td>40.735878</td>\n",
       "      <td>-73.899228</td>\n",
       "    </tr>\n",
       "    <tr>\n",
       "      <th>3</th>\n",
       "      <td>1</td>\n",
       "      <td>2020-03-01 09:17:51.635022</td>\n",
       "      <td>40.743086</td>\n",
       "      <td>-73.880599</td>\n",
       "    </tr>\n",
       "    <tr>\n",
       "      <th>4</th>\n",
       "      <td>1</td>\n",
       "      <td>2020-03-01 10:55:47.394269</td>\n",
       "      <td>40.735878</td>\n",
       "      <td>-73.899228</td>\n",
       "    </tr>\n",
       "  </tbody>\n",
       "</table>\n",
       "</div>"
      ],
      "text/plain": [
       "   uid                   datetime        lat        lng\n",
       "0    1 2020-03-01 00:00:00.000000  40.735878 -73.899228\n",
       "1    1 2020-03-01 06:25:08.573311  40.737657 -73.907013\n",
       "2    1 2020-03-01 08:04:00.153349  40.735878 -73.899228\n",
       "3    1 2020-03-01 09:17:51.635022  40.743086 -73.880599\n",
       "4    1 2020-03-01 10:55:47.394269  40.735878 -73.899228"
      ]
     },
     "execution_count": 153,
     "metadata": {},
     "output_type": "execute_result"
    }
   ],
   "source": [
    "# now create a TrajDataFrame from the pandas DataFrame\n",
    "#tdf = skmob.TrajDataFrame(data, latitude='lat', datetime='datetime', user_id='uid')\n",
    "print(tdf.shape)\n",
    "tdf.head(5)"
   ]
  },
  {
   "cell_type": "code",
   "execution_count": 154,
   "id": "201fb128",
   "metadata": {},
   "outputs": [
    {
     "name": "stderr",
     "output_type": "stream",
     "text": [
      "100%|███████████████████████████████████| 10000/10000 [00:06<00:00, 1564.39it/s]\n"
     ]
    },
    {
     "data": {
      "text/html": [
       "<div>\n",
       "<style scoped>\n",
       "    .dataframe tbody tr th:only-of-type {\n",
       "        vertical-align: middle;\n",
       "    }\n",
       "\n",
       "    .dataframe tbody tr th {\n",
       "        vertical-align: top;\n",
       "    }\n",
       "\n",
       "    .dataframe thead th {\n",
       "        text-align: right;\n",
       "    }\n",
       "</style>\n",
       "<table border=\"1\" class=\"dataframe\">\n",
       "  <thead>\n",
       "    <tr style=\"text-align: right;\">\n",
       "      <th></th>\n",
       "      <th>uid</th>\n",
       "      <th>lat</th>\n",
       "      <th>lng</th>\n",
       "    </tr>\n",
       "  </thead>\n",
       "  <tbody>\n",
       "    <tr>\n",
       "      <th>0</th>\n",
       "      <td>1</td>\n",
       "      <td>40.735878</td>\n",
       "      <td>-73.899228</td>\n",
       "    </tr>\n",
       "    <tr>\n",
       "      <th>1</th>\n",
       "      <td>2</td>\n",
       "      <td>43.192236</td>\n",
       "      <td>-77.571473</td>\n",
       "    </tr>\n",
       "    <tr>\n",
       "      <th>2</th>\n",
       "      <td>3</td>\n",
       "      <td>41.008568</td>\n",
       "      <td>-73.733575</td>\n",
       "    </tr>\n",
       "    <tr>\n",
       "      <th>3</th>\n",
       "      <td>4</td>\n",
       "      <td>42.101347</td>\n",
       "      <td>-77.964181</td>\n",
       "    </tr>\n",
       "    <tr>\n",
       "      <th>4</th>\n",
       "      <td>5</td>\n",
       "      <td>40.776276</td>\n",
       "      <td>-73.958993</td>\n",
       "    </tr>\n",
       "  </tbody>\n",
       "</table>\n",
       "</div>"
      ],
      "text/plain": [
       "   uid        lat        lng\n",
       "0    1  40.735878 -73.899228\n",
       "1    2  43.192236 -77.571473\n",
       "2    3  41.008568 -73.733575\n",
       "3    4  42.101347 -77.964181\n",
       "4    5  40.776276 -73.958993"
      ]
     },
     "execution_count": 154,
     "metadata": {},
     "output_type": "execute_result"
    }
   ],
   "source": [
    "hl_df = home_location(tdf)\n",
    "hl_df.head(5)"
   ]
  },
  {
   "cell_type": "code",
   "execution_count": 155,
   "id": "6e3a0518",
   "metadata": {},
   "outputs": [],
   "source": [
    "hl_df.to_csv(\"Home_location_4Week_10000_NY_realpop.csv\")"
   ]
  },
  {
   "cell_type": "code",
   "execution_count": null,
   "id": "ddea6a5e",
   "metadata": {},
   "outputs": [],
   "source": []
  },
  {
   "cell_type": "markdown",
   "id": "e3032123",
   "metadata": {},
   "source": [
    "#"
   ]
  }
 ],
 "metadata": {
  "kernelspec": {
   "display_name": "Python (skmob)",
   "language": "python",
   "name": "skmob"
  },
  "language_info": {
   "codemirror_mode": {
    "name": "ipython",
    "version": 3
   },
   "file_extension": ".py",
   "mimetype": "text/x-python",
   "name": "python",
   "nbconvert_exporter": "python",
   "pygments_lexer": "ipython3",
   "version": "3.9.21"
  }
 },
 "nbformat": 4,
 "nbformat_minor": 5
}
