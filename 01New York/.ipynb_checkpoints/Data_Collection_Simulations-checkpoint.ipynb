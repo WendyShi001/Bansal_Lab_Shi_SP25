{
 "cells": [
  {
   "cell_type": "markdown",
   "id": "795b34f9",
   "metadata": {},
   "source": [
    "<h1><center> Metapopulation Model with SIR <br><br> \n",
    "<center> NetworkX Application<br><br> \n",
    "Wendy Shi</center></center>"
   ]
  },
  {
   "cell_type": "markdown",
   "id": "658f5c16",
   "metadata": {},
   "source": [
    "# Table of Content"
   ]
  },
  {
   "cell_type": "markdown",
   "id": "dd3f39cb",
   "metadata": {},
   "source": [
    "1. [Weight matrix](#Weight-matrix)\n",
    "2. [Sample code with stochastic time](#Sample-code-with-Stochastic-Model)\n",
    "3. [One Simulation](#One-simulation)\n",
    "4. [Random Matrix](#Random-Matrix)\n",
    "5. [Fifty Simulation](#50-Simulation)\n",
    "6. [Five Simulation](#5-Simulation)\n",
    "7. [Differential Privacy Method]\n"
   ]
  },
  {
   "cell_type": "markdown",
   "id": "bb3c630d",
   "metadata": {},
   "source": [
    "# Preparation"
   ]
  },
  {
   "cell_type": "code",
   "execution_count": 1,
   "id": "e5833d69",
   "metadata": {},
   "outputs": [],
   "source": [
    "#Preparation\n",
    "import pandas as pd\n",
    "import numpy as np\n",
    "import matplotlib.pyplot as plt\n",
    "from scipy.integrate import odeint\n",
    "from scipy.interpolate import interp1d\n",
    "import scipy.stats as stats"
   ]
  },
  {
   "cell_type": "markdown",
   "id": "a3737406",
   "metadata": {},
   "source": [
    "# Seeding Events"
   ]
  },
  {
   "cell_type": "code",
   "execution_count": 10,
   "id": "f9359ca6",
   "metadata": {},
   "outputs": [
    {
     "name": "stdout",
     "output_type": "stream",
     "text": [
      "(2327, 5)\n"
     ]
    },
    {
     "data": {
      "text/html": [
       "<div>\n",
       "<style scoped>\n",
       "    .dataframe tbody tr th:only-of-type {\n",
       "        vertical-align: middle;\n",
       "    }\n",
       "\n",
       "    .dataframe tbody tr th {\n",
       "        vertical-align: top;\n",
       "    }\n",
       "\n",
       "    .dataframe thead th {\n",
       "        text-align: right;\n",
       "    }\n",
       "</style>\n",
       "<table border=\"1\" class=\"dataframe\">\n",
       "  <thead>\n",
       "    <tr style=\"text-align: right;\">\n",
       "      <th></th>\n",
       "      <th>S</th>\n",
       "      <th>E</th>\n",
       "      <th>I</th>\n",
       "      <th>R</th>\n",
       "      <th>index</th>\n",
       "    </tr>\n",
       "  </thead>\n",
       "  <tbody>\n",
       "    <tr>\n",
       "      <th>0</th>\n",
       "      <td>58877</td>\n",
       "      <td>0</td>\n",
       "      <td>0</td>\n",
       "      <td>0</td>\n",
       "      <td>0</td>\n",
       "    </tr>\n",
       "    <tr>\n",
       "      <th>1</th>\n",
       "      <td>233140</td>\n",
       "      <td>0</td>\n",
       "      <td>0</td>\n",
       "      <td>0</td>\n",
       "      <td>1</td>\n",
       "    </tr>\n",
       "    <tr>\n",
       "      <th>2</th>\n",
       "      <td>25180</td>\n",
       "      <td>0</td>\n",
       "      <td>0</td>\n",
       "      <td>0</td>\n",
       "      <td>2</td>\n",
       "    </tr>\n",
       "  </tbody>\n",
       "</table>\n",
       "</div>"
      ],
      "text/plain": [
       "        S  E  I  R  index\n",
       "0   58877  0  0  0      0\n",
       "1  233140  0  0  0      1\n",
       "2   25180  0  0  0      2"
      ]
     },
     "execution_count": 10,
     "metadata": {},
     "output_type": "execute_result"
    }
   ],
   "source": [
    "column_names = ['S', 'E', 'I', 'R']\n",
    "Seeding = pd.read_csv(\"../../Data/seed_1503_seed_corrected_undereporting_CDC_corrected_v3.txt\",\n",
    "                     delimiter=' ',\n",
    "                      names=column_names)\n",
    "Seeding['index'] = range(len(Seeding))\n",
    "print(Seeding.shape)\n",
    "Seeding.head(3)"
   ]
  },
  {
   "cell_type": "code",
   "execution_count": 3,
   "id": "7c157e0a",
   "metadata": {
    "scrolled": true
   },
   "outputs": [],
   "source": [
    "#Seeding.iloc[150,:]"
   ]
  },
  {
   "cell_type": "code",
   "execution_count": 11,
   "id": "44510428",
   "metadata": {},
   "outputs": [
    {
     "data": {
      "text/plain": [
       "[58877, 233140, 25180]"
      ]
     },
     "execution_count": 11,
     "metadata": {},
     "output_type": "execute_result"
    }
   ],
   "source": [
    "multiplier = Seeding[\"S\"].tolist()\n",
    "multiplier[:3]"
   ]
  },
  {
   "cell_type": "markdown",
   "id": "58af2859",
   "metadata": {},
   "source": [
    "# Node Dictionary"
   ]
  },
  {
   "cell_type": "code",
   "execution_count": 12,
   "id": "0edcd2e0",
   "metadata": {},
   "outputs": [
    {
     "name": "stdout",
     "output_type": "stream",
     "text": [
      "(2327, 3)\n"
     ]
    },
    {
     "data": {
      "text/html": [
       "<div>\n",
       "<style scoped>\n",
       "    .dataframe tbody tr th:only-of-type {\n",
       "        vertical-align: middle;\n",
       "    }\n",
       "\n",
       "    .dataframe tbody tr th {\n",
       "        vertical-align: top;\n",
       "    }\n",
       "\n",
       "    .dataframe thead th {\n",
       "        text-align: right;\n",
       "    }\n",
       "</style>\n",
       "<table border=\"1\" class=\"dataframe\">\n",
       "  <thead>\n",
       "    <tr style=\"text-align: right;\">\n",
       "      <th></th>\n",
       "      <th>index</th>\n",
       "      <th>GEO_ID</th>\n",
       "      <th>State Code</th>\n",
       "    </tr>\n",
       "  </thead>\n",
       "  <tbody>\n",
       "    <tr>\n",
       "      <th>0</th>\n",
       "      <td>0</td>\n",
       "      <td>01001</td>\n",
       "      <td>01</td>\n",
       "    </tr>\n",
       "    <tr>\n",
       "      <th>1</th>\n",
       "      <td>1</td>\n",
       "      <td>01003</td>\n",
       "      <td>01</td>\n",
       "    </tr>\n",
       "    <tr>\n",
       "      <th>2</th>\n",
       "      <td>2</td>\n",
       "      <td>01005</td>\n",
       "      <td>01</td>\n",
       "    </tr>\n",
       "  </tbody>\n",
       "</table>\n",
       "</div>"
      ],
      "text/plain": [
       "   index GEO_ID State Code\n",
       "0      0  01001         01\n",
       "1      1  01003         01\n",
       "2      2  01005         01"
      ]
     },
     "execution_count": 12,
     "metadata": {},
     "output_type": "execute_result"
    }
   ],
   "source": [
    "node_dict = pd.read_csv(\"../../Data/nodes_considered.csv\")\n",
    "node_dict[\"GEO_ID\"] = node_dict[\"GEO_ID\"].apply(lambda x: f\"{int(x):05d}\")\n",
    "node_dict[\"State Code\"] = node_dict[\"GEO_ID\"].str[:2]\n",
    "print(node_dict.shape)\n",
    "node_dict.head(3)"
   ]
  },
  {
   "cell_type": "code",
   "execution_count": 13,
   "id": "eff0ef17",
   "metadata": {},
   "outputs": [
    {
     "name": "stdout",
     "output_type": "stream",
     "text": [
      "(61, 6)\n"
     ]
    },
    {
     "data": {
      "text/html": [
       "<div>\n",
       "<style scoped>\n",
       "    .dataframe tbody tr th:only-of-type {\n",
       "        vertical-align: middle;\n",
       "    }\n",
       "\n",
       "    .dataframe tbody tr th {\n",
       "        vertical-align: top;\n",
       "    }\n",
       "\n",
       "    .dataframe thead th {\n",
       "        text-align: right;\n",
       "    }\n",
       "</style>\n",
       "<table border=\"1\" class=\"dataframe\">\n",
       "  <thead>\n",
       "    <tr style=\"text-align: right;\">\n",
       "      <th></th>\n",
       "      <th>GEOID</th>\n",
       "      <th>State Code</th>\n",
       "      <th>S</th>\n",
       "      <th>E</th>\n",
       "      <th>I</th>\n",
       "      <th>R</th>\n",
       "    </tr>\n",
       "  </thead>\n",
       "  <tbody>\n",
       "    <tr>\n",
       "      <th>0</th>\n",
       "      <td>36001</td>\n",
       "      <td>36</td>\n",
       "      <td>314368</td>\n",
       "      <td>0</td>\n",
       "      <td>0</td>\n",
       "      <td>0</td>\n",
       "    </tr>\n",
       "    <tr>\n",
       "      <th>1</th>\n",
       "      <td>36003</td>\n",
       "      <td>36</td>\n",
       "      <td>46373</td>\n",
       "      <td>0</td>\n",
       "      <td>0</td>\n",
       "      <td>0</td>\n",
       "    </tr>\n",
       "    <tr>\n",
       "      <th>2</th>\n",
       "      <td>36005</td>\n",
       "      <td>36</td>\n",
       "      <td>1466382</td>\n",
       "      <td>56</td>\n",
       "      <td>0</td>\n",
       "      <td>0</td>\n",
       "    </tr>\n",
       "  </tbody>\n",
       "</table>\n",
       "</div>"
      ],
      "text/plain": [
       "   GEOID State Code        S   E  I  R\n",
       "0  36001         36   314368   0  0  0\n",
       "1  36003         36    46373   0  0  0\n",
       "2  36005         36  1466382  56  0  0"
      ]
     },
     "execution_count": 13,
     "metadata": {},
     "output_type": "execute_result"
    }
   ],
   "source": [
    "NY = node_dict[node_dict[\"State Code\"] == '36']\n",
    "NY_SEIR = pd.merge(NY, Seeding, on = 'index', how = 'inner')\n",
    "NY_SEIR = NY_SEIR.drop(columns=['index']) #Drop the index when merging SEIR and New York GEOID\n",
    "\n",
    "rename = {'GEO_ID' : 'GEOID'}\n",
    "NY_SEIR = NY_SEIR.rename(columns = rename)\n",
    "\n",
    "print(NY_SEIR.shape)\n",
    "NY_SEIR.head(3)"
   ]
  },
  {
   "cell_type": "markdown",
   "id": "673a1299",
   "metadata": {},
   "source": [
    "# US Shape File"
   ]
  },
  {
   "cell_type": "code",
   "execution_count": 14,
   "id": "4c60f2f2",
   "metadata": {},
   "outputs": [
    {
     "data": {
      "text/html": [
       "<div>\n",
       "<style scoped>\n",
       "    .dataframe tbody tr th:only-of-type {\n",
       "        vertical-align: middle;\n",
       "    }\n",
       "\n",
       "    .dataframe tbody tr th {\n",
       "        vertical-align: top;\n",
       "    }\n",
       "\n",
       "    .dataframe thead th {\n",
       "        text-align: right;\n",
       "    }\n",
       "</style>\n",
       "<table border=\"1\" class=\"dataframe\">\n",
       "  <thead>\n",
       "    <tr style=\"text-align: right;\">\n",
       "      <th></th>\n",
       "      <th>NAME</th>\n",
       "      <th>State</th>\n",
       "      <th>GEOID</th>\n",
       "      <th>pop2020</th>\n",
       "    </tr>\n",
       "  </thead>\n",
       "  <tbody>\n",
       "    <tr>\n",
       "      <th>3106</th>\n",
       "      <td>Los Angeles</td>\n",
       "      <td>California</td>\n",
       "      <td>06037</td>\n",
       "      <td>9989165.0</td>\n",
       "    </tr>\n",
       "    <tr>\n",
       "      <th>3107</th>\n",
       "      <td>Shannon</td>\n",
       "      <td>South Dakota</td>\n",
       "      <td>46113</td>\n",
       "      <td>14309.0</td>\n",
       "    </tr>\n",
       "    <tr>\n",
       "      <th>3108</th>\n",
       "      <td>Bedford</td>\n",
       "      <td>Virginia</td>\n",
       "      <td>51515</td>\n",
       "      <td>6599.0</td>\n",
       "    </tr>\n",
       "  </tbody>\n",
       "</table>\n",
       "</div>"
      ],
      "text/plain": [
       "             NAME         State  GEOID    pop2020\n",
       "3106  Los Angeles    California  06037  9989165.0\n",
       "3107      Shannon  South Dakota  46113    14309.0\n",
       "3108      Bedford      Virginia  51515     6599.0"
      ]
     },
     "execution_count": 14,
     "metadata": {},
     "output_type": "execute_result"
    }
   ],
   "source": [
    "us_shape_file = pd.read_csv(\"../../Data/us_shapefile_county.csv\")\n",
    "\n",
    "us_shape_file = us_shape_file[['NAME', 'State_1', 'FIPS code', 'pop2020']].copy()\n",
    "rename = {'State_1' : 'State'}\n",
    "us_shape_file = us_shape_file.rename(columns = rename)\n",
    "\n",
    "us_shape_file[\"FIPS code\"] = us_shape_file[\"FIPS code\"].apply(lambda x: f\"{int(x):05d}\")\n",
    "\n",
    "#rename column\n",
    "rename = {\"FIPS code\" : \"GEOID\"}\n",
    "us_shape_file = us_shape_file.rename(columns = rename)\n",
    "us_shape_file.tail(3)"
   ]
  },
  {
   "cell_type": "code",
   "execution_count": 15,
   "id": "afbf09d6",
   "metadata": {},
   "outputs": [
    {
     "name": "stdout",
     "output_type": "stream",
     "text": [
      "(62, 4)\n"
     ]
    },
    {
     "data": {
      "text/html": [
       "<div>\n",
       "<style scoped>\n",
       "    .dataframe tbody tr th:only-of-type {\n",
       "        vertical-align: middle;\n",
       "    }\n",
       "\n",
       "    .dataframe tbody tr th {\n",
       "        vertical-align: top;\n",
       "    }\n",
       "\n",
       "    .dataframe thead th {\n",
       "        text-align: right;\n",
       "    }\n",
       "</style>\n",
       "<table border=\"1\" class=\"dataframe\">\n",
       "  <thead>\n",
       "    <tr style=\"text-align: right;\">\n",
       "      <th></th>\n",
       "      <th>NAME</th>\n",
       "      <th>State</th>\n",
       "      <th>GEOID</th>\n",
       "      <th>pop2020</th>\n",
       "    </tr>\n",
       "  </thead>\n",
       "  <tbody>\n",
       "    <tr>\n",
       "      <th>310</th>\n",
       "      <td>Hamilton</td>\n",
       "      <td>New York</td>\n",
       "      <td>36041</td>\n",
       "      <td>5078.0</td>\n",
       "    </tr>\n",
       "    <tr>\n",
       "      <th>1192</th>\n",
       "      <td>Schuyler</td>\n",
       "      <td>New York</td>\n",
       "      <td>36097</td>\n",
       "      <td>17857.0</td>\n",
       "    </tr>\n",
       "    <tr>\n",
       "      <th>1499</th>\n",
       "      <td>Yates</td>\n",
       "      <td>New York</td>\n",
       "      <td>36123</td>\n",
       "      <td>24709.0</td>\n",
       "    </tr>\n",
       "  </tbody>\n",
       "</table>\n",
       "</div>"
      ],
      "text/plain": [
       "          NAME     State  GEOID  pop2020\n",
       "310   Hamilton  New York  36041   5078.0\n",
       "1192  Schuyler  New York  36097  17857.0\n",
       "1499     Yates  New York  36123  24709.0"
      ]
     },
     "execution_count": 15,
     "metadata": {},
     "output_type": "execute_result"
    }
   ],
   "source": [
    "NY_name= us_shape_file[us_shape_file['State'] == \"New York\"].copy()\n",
    "print(NY_name.shape)\n",
    "NY_name.head(3)"
   ]
  },
  {
   "cell_type": "code",
   "execution_count": 16,
   "id": "47843d7c",
   "metadata": {},
   "outputs": [
    {
     "name": "stdout",
     "output_type": "stream",
     "text": [
      "(61, 9)\n"
     ]
    },
    {
     "data": {
      "text/html": [
       "<div>\n",
       "<style scoped>\n",
       "    .dataframe tbody tr th:only-of-type {\n",
       "        vertical-align: middle;\n",
       "    }\n",
       "\n",
       "    .dataframe tbody tr th {\n",
       "        vertical-align: top;\n",
       "    }\n",
       "\n",
       "    .dataframe thead th {\n",
       "        text-align: right;\n",
       "    }\n",
       "</style>\n",
       "<table border=\"1\" class=\"dataframe\">\n",
       "  <thead>\n",
       "    <tr style=\"text-align: right;\">\n",
       "      <th></th>\n",
       "      <th>GEOID</th>\n",
       "      <th>State Code</th>\n",
       "      <th>S</th>\n",
       "      <th>E</th>\n",
       "      <th>I</th>\n",
       "      <th>R</th>\n",
       "      <th>NAME</th>\n",
       "      <th>State</th>\n",
       "      <th>pop2020</th>\n",
       "    </tr>\n",
       "  </thead>\n",
       "  <tbody>\n",
       "    <tr>\n",
       "      <th>0</th>\n",
       "      <td>36001</td>\n",
       "      <td>36</td>\n",
       "      <td>314368</td>\n",
       "      <td>0</td>\n",
       "      <td>0</td>\n",
       "      <td>0</td>\n",
       "      <td>Albany</td>\n",
       "      <td>New York</td>\n",
       "      <td>314368.0</td>\n",
       "    </tr>\n",
       "    <tr>\n",
       "      <th>1</th>\n",
       "      <td>36003</td>\n",
       "      <td>36</td>\n",
       "      <td>46373</td>\n",
       "      <td>0</td>\n",
       "      <td>0</td>\n",
       "      <td>0</td>\n",
       "      <td>Allegany</td>\n",
       "      <td>New York</td>\n",
       "      <td>46373.0</td>\n",
       "    </tr>\n",
       "    <tr>\n",
       "      <th>2</th>\n",
       "      <td>36005</td>\n",
       "      <td>36</td>\n",
       "      <td>1466382</td>\n",
       "      <td>56</td>\n",
       "      <td>0</td>\n",
       "      <td>0</td>\n",
       "      <td>Bronx</td>\n",
       "      <td>New York</td>\n",
       "      <td>1466438.0</td>\n",
       "    </tr>\n",
       "  </tbody>\n",
       "</table>\n",
       "</div>"
      ],
      "text/plain": [
       "   GEOID State Code        S   E  I  R      NAME     State    pop2020\n",
       "0  36001         36   314368   0  0  0    Albany  New York   314368.0\n",
       "1  36003         36    46373   0  0  0  Allegany  New York    46373.0\n",
       "2  36005         36  1466382  56  0  0     Bronx  New York  1466438.0"
      ]
     },
     "execution_count": 16,
     "metadata": {},
     "output_type": "execute_result"
    }
   ],
   "source": [
    "NY_SEIR_name = NY_SEIR.merge(NY_name, on = 'GEOID', how = 'left')\n",
    "NY_SEIR_list = NY_SEIR_name['GEOID'].tolist() #The GEOID as what is appeares in the dataframe\n",
    "\n",
    "print(NY_SEIR_name.shape)\n",
    "NY_SEIR_name.head(3)"
   ]
  },
  {
   "cell_type": "code",
   "execution_count": 31,
   "id": "dba78187",
   "metadata": {},
   "outputs": [],
   "source": [
    "NY_SEIR_name.to_excel('NY_SEIR.xlsx')"
   ]
  },
  {
   "cell_type": "markdown",
   "id": "842892a8",
   "metadata": {},
   "source": [
    "# Retrieve Data"
   ]
  },
  {
   "cell_type": "code",
   "execution_count": 18,
   "id": "ec91456c",
   "metadata": {},
   "outputs": [
    {
     "data": {
      "text/html": [
       "<div>\n",
       "<style scoped>\n",
       "    .dataframe tbody tr th:only-of-type {\n",
       "        vertical-align: middle;\n",
       "    }\n",
       "\n",
       "    .dataframe tbody tr th {\n",
       "        vertical-align: top;\n",
       "    }\n",
       "\n",
       "    .dataframe thead th {\n",
       "        text-align: right;\n",
       "    }\n",
       "</style>\n",
       "<table border=\"1\" class=\"dataframe\">\n",
       "  <thead>\n",
       "    <tr style=\"text-align: right;\">\n",
       "      <th></th>\n",
       "      <th>36001</th>\n",
       "      <th>36003</th>\n",
       "      <th>36005</th>\n",
       "      <th>36007</th>\n",
       "      <th>36009</th>\n",
       "      <th>36011</th>\n",
       "      <th>36013</th>\n",
       "      <th>36015</th>\n",
       "      <th>36017</th>\n",
       "      <th>36019</th>\n",
       "      <th>...</th>\n",
       "      <th>36105</th>\n",
       "      <th>36107</th>\n",
       "      <th>36109</th>\n",
       "      <th>36111</th>\n",
       "      <th>36113</th>\n",
       "      <th>36115</th>\n",
       "      <th>36117</th>\n",
       "      <th>36119</th>\n",
       "      <th>36121</th>\n",
       "      <th>36123</th>\n",
       "    </tr>\n",
       "  </thead>\n",
       "  <tbody>\n",
       "    <tr>\n",
       "      <th>0</th>\n",
       "      <td>0.680496</td>\n",
       "      <td>0.000533</td>\n",
       "      <td>0.006167</td>\n",
       "      <td>0.000302</td>\n",
       "      <td>0.000000</td>\n",
       "      <td>0.0</td>\n",
       "      <td>0.000493</td>\n",
       "      <td>0.000000</td>\n",
       "      <td>0.002102</td>\n",
       "      <td>0.0</td>\n",
       "      <td>...</td>\n",
       "      <td>0.000000</td>\n",
       "      <td>0.00000</td>\n",
       "      <td>0.000000</td>\n",
       "      <td>0.008326</td>\n",
       "      <td>0.001211</td>\n",
       "      <td>0.002362</td>\n",
       "      <td>0.000000</td>\n",
       "      <td>0.009813</td>\n",
       "      <td>0.000000</td>\n",
       "      <td>0.000000</td>\n",
       "    </tr>\n",
       "    <tr>\n",
       "      <th>1</th>\n",
       "      <td>0.002029</td>\n",
       "      <td>0.267984</td>\n",
       "      <td>0.018069</td>\n",
       "      <td>0.009804</td>\n",
       "      <td>0.072455</td>\n",
       "      <td>0.0</td>\n",
       "      <td>0.013335</td>\n",
       "      <td>0.021547</td>\n",
       "      <td>0.000000</td>\n",
       "      <td>0.0</td>\n",
       "      <td>...</td>\n",
       "      <td>0.000334</td>\n",
       "      <td>0.00878</td>\n",
       "      <td>0.007083</td>\n",
       "      <td>0.000000</td>\n",
       "      <td>0.001925</td>\n",
       "      <td>0.001118</td>\n",
       "      <td>0.017029</td>\n",
       "      <td>0.015657</td>\n",
       "      <td>0.007726</td>\n",
       "      <td>0.000053</td>\n",
       "    </tr>\n",
       "    <tr>\n",
       "      <th>2</th>\n",
       "      <td>0.002299</td>\n",
       "      <td>0.000178</td>\n",
       "      <td>0.705046</td>\n",
       "      <td>0.001749</td>\n",
       "      <td>0.000000</td>\n",
       "      <td>0.0</td>\n",
       "      <td>0.000000</td>\n",
       "      <td>0.001527</td>\n",
       "      <td>0.002119</td>\n",
       "      <td>0.0</td>\n",
       "      <td>...</td>\n",
       "      <td>0.005960</td>\n",
       "      <td>0.00000</td>\n",
       "      <td>0.000000</td>\n",
       "      <td>0.000951</td>\n",
       "      <td>0.000000</td>\n",
       "      <td>0.004722</td>\n",
       "      <td>0.000000</td>\n",
       "      <td>0.038299</td>\n",
       "      <td>0.000458</td>\n",
       "      <td>0.001832</td>\n",
       "    </tr>\n",
       "  </tbody>\n",
       "</table>\n",
       "<p>3 rows × 61 columns</p>\n",
       "</div>"
      ],
      "text/plain": [
       "      36001     36003     36005     36007     36009  36011     36013  \\\n",
       "0  0.680496  0.000533  0.006167  0.000302  0.000000    0.0  0.000493   \n",
       "1  0.002029  0.267984  0.018069  0.009804  0.072455    0.0  0.013335   \n",
       "2  0.002299  0.000178  0.705046  0.001749  0.000000    0.0  0.000000   \n",
       "\n",
       "      36015     36017  36019  ...     36105    36107     36109     36111  \\\n",
       "0  0.000000  0.002102    0.0  ...  0.000000  0.00000  0.000000  0.008326   \n",
       "1  0.021547  0.000000    0.0  ...  0.000334  0.00878  0.007083  0.000000   \n",
       "2  0.001527  0.002119    0.0  ...  0.005960  0.00000  0.000000  0.000951   \n",
       "\n",
       "      36113     36115     36117     36119     36121     36123  \n",
       "0  0.001211  0.002362  0.000000  0.009813  0.000000  0.000000  \n",
       "1  0.001925  0.001118  0.017029  0.015657  0.007726  0.000053  \n",
       "2  0.000000  0.004722  0.000000  0.038299  0.000458  0.001832  \n",
       "\n",
       "[3 rows x 61 columns]"
      ]
     },
     "execution_count": 18,
     "metadata": {},
     "output_type": "execute_result"
    }
   ],
   "source": [
    "#Original matrix for comparison\n",
    "matrix = pd.read_csv(\"NY_Data/Aggregate/NY_P5_agg.csv\")\n",
    "matrix = matrix.drop(columns = 'Unnamed: 0')\n",
    "matrix.head(3)"
   ]
  },
  {
   "cell_type": "code",
   "execution_count": 19,
   "id": "80b67894",
   "metadata": {},
   "outputs": [
    {
     "name": "stdout",
     "output_type": "stream",
     "text": [
      "SEIR county list = Weight Matrix County List?: True\n"
     ]
    },
    {
     "data": {
      "text/plain": [
       "0.6804957285217526"
      ]
     },
     "execution_count": 19,
     "metadata": {},
     "output_type": "execute_result"
    }
   ],
   "source": [
    "matrix_county_list = matrix.columns.tolist()\n",
    "print(f'SEIR county list = Weight Matrix County List?: {matrix_county_list == NY_SEIR_list}') #Proceed when see Yes\n",
    "\n",
    "array = matrix.to_numpy() #The most important step!! Turning pandas dataframe to a numpy array\n",
    "array[0][0]"
   ]
  },
  {
   "cell_type": "markdown",
   "id": "4467fe89",
   "metadata": {},
   "source": [
    "# One simulation"
   ]
  },
  {
   "cell_type": "code",
   "execution_count": 20,
   "id": "39ba02e2",
   "metadata": {},
   "outputs": [],
   "source": [
    "def stochastic_SIR(y, l, array):\n",
    "    \n",
    "    # y is the list that contains the initial condition of S_i, I_i, R_i\n",
    "    S = y[:l]  # a five element list\n",
    "    E = y[l:l+l]\n",
    "    I = y[l+l:l+l+l]  # a five element list\n",
    "    R = y[l+l+l:]  # the rest elements\n",
    "    \n",
    "    t = 0\n",
    "    time_series = [(t, S.copy(), E.copy(), I.copy(), R.copy())]\n",
    "    \n",
    "    #l = len(S)\n",
    "    \n",
    "    # Define each element of N\n",
    "    N = [S[i] + E[i] + I[i] + R[i] for i in range(l)]\n",
    "    \n",
    "    # Define N_hat\n",
    "    N_hat = [array[i][i] * N[i] for i in range(l)]\n",
    "    for i in range(l):\n",
    "        for j in range(l):\n",
    "            if i != j:\n",
    "                N_hat[i] += array[j][i] * N[j]\n",
    "    \n",
    "    #print(N_hat)\n",
    "    \n",
    "    # Run the loop ------------------------------------\n",
    "    t_max = 50\n",
    "    #while any(i > 0 for i in I) and t < t_max: #time stamp loop--\n",
    "    while t < t_max:\n",
    "        \n",
    "        #Define value for beta\n",
    "        if t < 25: \n",
    "            beta = 3.5\n",
    "        else: \n",
    "            beta = 1.7\n",
    "        \n",
    "        for i in range(l): #node loop------\n",
    "            \n",
    "            # Define I_hat for all nodes\n",
    "            I_hat = [array[i][i] * I[i] for i in range(l)]\n",
    "            for j in range(l):\n",
    "                if i != j:\n",
    "                    I_hat[i] += array[j][i] * I[j]\n",
    "            \n",
    "            # Calculate lambda\n",
    "            lmda = beta * (array[i][i] ** 2) * I[i] / N_hat[i]\n",
    "            for j in range(l):\n",
    "                if i != j:\n",
    "                    lmda += (beta * array[i][i] * array[j][i] * I[j] / N_hat[i]) + (beta * array[i][j] * I_hat[j] / N_hat[j])\n",
    "            \n",
    "            #Newly added term, having b equals to 3.5 and largrer sample of nodes makes lamda larger than 1\n",
    "            lmda_new = min(lmda,1)\n",
    "            \n",
    "            #Check again to see if you can improve the model-------------\n",
    "            new_exposed = np.random.binomial(S[i], lmda_new)*1\n",
    "            new_infected = np.random.binomial(E[i], 0.2703)*1\n",
    "            new_recovered = np.random.binomial(I[i], 0.2448)*1 \n",
    "            \n",
    "            # Update S, I, R for node i\n",
    "            S[i] -= new_exposed\n",
    "            E[i] += new_exposed - new_infected\n",
    "            I[i] += new_infected - new_recovered\n",
    "            R[i] += new_recovered\n",
    "        \n",
    "        # Store the results (make copies to avoid overwriting)\n",
    "        time_series.append((t, S.copy(), E.copy(), I.copy(), R.copy()))\n",
    "        \n",
    "        # Increment time (optional)\n",
    "        t += 1\n",
    "        #print(f\"Time: {t}, S: {S}, I: {I}, R: {R}\")\n",
    "        if t % 10 == 0:\n",
    "            print(t)\n",
    "    \n",
    "    return time_series"
   ]
  },
  {
   "cell_type": "markdown",
   "id": "ee9a18cc",
   "metadata": {},
   "source": [
    "# Applying for the function\n",
    "### This takes 3 minutes 30 second"
   ]
  },
  {
   "cell_type": "code",
   "execution_count": 25,
   "id": "48feda53",
   "metadata": {},
   "outputs": [],
   "source": [
    "#NY_SEIR = pd.read_excel(\"NY_SEIR.xlsx\")\n",
    "#NY_SEIR = NY_SEIR.drop(columns = 'Unnamed: 0')\n",
    "#NY_SEIR.iloc[15:20]"
   ]
  },
  {
   "cell_type": "code",
   "execution_count": 21,
   "id": "5907a70c",
   "metadata": {},
   "outputs": [
    {
     "name": "stdout",
     "output_type": "stream",
     "text": [
      "61 61 61 61\n"
     ]
    }
   ],
   "source": [
    "#Define initial condition\n",
    "S0 = NY_SEIR[\"S\"].tolist()  \n",
    "E0 = NY_SEIR[\"E\"].tolist()  \n",
    "I0 = NY_SEIR[\"I\"].tolist()   \n",
    "R0 = NY_SEIR[\"R\"].tolist()\n",
    "initial_conditions = S0 + E0 + I0 + R0 #this is the y (?): Yup!\n",
    "print(len(S0),len(E0),len(I0), len(R0))"
   ]
  },
  {
   "cell_type": "code",
   "execution_count": 22,
   "id": "6a8384ff",
   "metadata": {},
   "outputs": [
    {
     "name": "stdout",
     "output_type": "stream",
     "text": [
      "10\n",
      "20\n",
      "30\n",
      "40\n",
      "50\n"
     ]
    }
   ],
   "source": [
    "#first simulation\n",
    "time_series = stochastic_SIR(initial_conditions, 61, array)"
   ]
  },
  {
   "cell_type": "code",
   "execution_count": 23,
   "id": "d1b95e6b",
   "metadata": {},
   "outputs": [],
   "source": [
    "times, S_values, E_values, I_values, R_values = zip(*time_series)\n",
    "\n",
    "S_list = list(zip(*S_values))\n",
    "for i, S in enumerate(S_list):\n",
    "    globals()[f'S{i}'] = S\n",
    "    \n",
    "E_list = list(zip(*E_values))\n",
    "for i, E in enumerate(E_list):\n",
    "    globals()[f'E{i}'] = E\n",
    "    \n",
    "I_list = list(zip(*I_values))\n",
    "for i, I in enumerate(I_list):\n",
    "    globals()[f'I{i}'] = I\n",
    "    \n",
    "R_list = list(zip(*R_values))\n",
    "for i, R in enumerate(R_list):\n",
    "    globals()[f'R{i}'] = R"
   ]
  },
  {
   "cell_type": "markdown",
   "id": "c22eefa5",
   "metadata": {},
   "source": [
    "<br>\n",
    "\n",
    "- **globals()** is a built-in function in Python that returns a dictionary representing the current global symbol table. The global symbol table contains all the global variables in the program. When you do globals()[f'S{i}'] = s, you're dynamically creating a new global variable with a name like S1, S2, etc., and assigning it the value s. In this case, f'S{i}' generates the variable name as a string, and s is the corresponding value from the list.\n",
    "\n",
    "<br>\n",
    "\n",
    "- **enumerate()** is a built-in Python function that allows you to loop over an iterable (like a list, tuple, or string) while also keeping track of the index of each element.When used like enumerate(S_list, start=1), it returns pairs of (index, value), where index starts at 1 and increases by 1 for each iteration, while value is the corresponding item from the list. The start=1 parameter means that the counting will begin at 1 instead of the default 0."
   ]
  },
  {
   "cell_type": "markdown",
   "id": "41c24174",
   "metadata": {},
   "source": [
    "# Visualization: One Loop"
   ]
  },
  {
   "cell_type": "code",
   "execution_count": 24,
   "id": "5a15778b",
   "metadata": {},
   "outputs": [
    {
     "data": {
      "image/png": "[encoded data removed]",
      "text/plain": [
       "<Figure size 1000x600 with 1 Axes>"
      ]
     },
     "metadata": {},
     "output_type": "display_data"
    }
   ],
   "source": [
    "plt.figure(figsize=(10,6))\n",
    "\n",
    "plt.plot(times, I14, label='Erie, pop = 953,254')\n",
    "plt.plot(times, I30, label='Niagara, pop = 212,252')\n",
    "plt.plot(times, I34, label='Orange, pop = 401,322')\n",
    "plt.plot(times, I36, label='Oswego, pop = 117,351')\n",
    "plt.plot(times, I58, label='(Seed) Westchester, pop = 1,002,201')\n",
    "\n",
    "plt.xlabel('Time')\n",
    "plt.ylabel('Total Infected Population')\n",
    "plt.legend()\n",
    "#plt.savefig(\"NY_SEIR_Example.png\", dpi=300, bbox_inches='tight')\n",
    "\n",
    "plt.show()\n",
    "\n"
   ]
  },
  {
   "cell_type": "markdown",
   "id": "33cbabe8",
   "metadata": {},
   "source": [
    "# 20 Simulation"
   ]
  },
  {
   "cell_type": "code",
   "execution_count": 35,
   "id": "e5decfe8",
   "metadata": {},
   "outputs": [
    {
     "data": {
      "text/plain": [
       "0.255805614369782"
      ]
     },
     "execution_count": 35,
     "metadata": {},
     "output_type": "execute_result"
    }
   ],
   "source": [
    "matrix = pd.read_csv(\"NY_Data/Aggregate/NY_P01_agg.csv\")\n",
    "matrix = matrix.drop(columns = 'Unnamed: 0')\n",
    "matrix.head(3)\n",
    "\n",
    "array = matrix.to_numpy() #The most important step!! Turning pandas dataframe to a numpy array\n",
    "array[0][0]"
   ]
  },
  {
   "cell_type": "code",
   "execution_count": 36,
   "id": "1d2c71cb",
   "metadata": {},
   "outputs": [
    {
     "name": "stdout",
     "output_type": "stream",
     "text": [
      "10\n",
      "20\n",
      "30\n",
      "40\n",
      "50\n",
      "Simulation 0 Finished!!!-------------------------------\n",
      "10\n",
      "20\n",
      "30\n",
      "40\n",
      "50\n",
      "Simulation 1 Finished!!!-------------------------------\n",
      "10\n",
      "20\n",
      "30\n",
      "40\n",
      "50\n",
      "Simulation 2 Finished!!!-------------------------------\n",
      "10\n",
      "20\n",
      "30\n",
      "40\n",
      "50\n",
      "Simulation 3 Finished!!!-------------------------------\n",
      "10\n",
      "20\n",
      "30\n",
      "40\n",
      "50\n",
      "Simulation 4 Finished!!!-------------------------------\n",
      "10\n",
      "20\n",
      "30\n",
      "40\n",
      "50\n",
      "Simulation 5 Finished!!!-------------------------------\n",
      "10\n",
      "20\n",
      "30\n",
      "40\n",
      "50\n",
      "Simulation 6 Finished!!!-------------------------------\n",
      "10\n",
      "20\n",
      "30\n",
      "40\n",
      "50\n",
      "Simulation 7 Finished!!!-------------------------------\n",
      "10\n",
      "20\n",
      "30\n",
      "40\n",
      "50\n",
      "Simulation 8 Finished!!!-------------------------------\n",
      "10\n",
      "20\n",
      "30\n",
      "40\n",
      "50\n",
      "Simulation 9 Finished!!!-------------------------------\n",
      "10\n",
      "20\n",
      "30\n",
      "40\n",
      "50\n",
      "Simulation 10 Finished!!!-------------------------------\n",
      "10\n",
      "20\n",
      "30\n",
      "40\n",
      "50\n",
      "Simulation 11 Finished!!!-------------------------------\n",
      "10\n",
      "20\n",
      "30\n",
      "40\n",
      "50\n",
      "Simulation 12 Finished!!!-------------------------------\n",
      "10\n",
      "20\n",
      "30\n",
      "40\n",
      "50\n",
      "Simulation 13 Finished!!!-------------------------------\n",
      "10\n",
      "20\n",
      "30\n",
      "40\n",
      "50\n",
      "Simulation 14 Finished!!!-------------------------------\n",
      "10\n",
      "20\n",
      "30\n",
      "40\n",
      "50\n",
      "Simulation 15 Finished!!!-------------------------------\n",
      "10\n",
      "20\n",
      "30\n",
      "40\n",
      "50\n",
      "Simulation 16 Finished!!!-------------------------------\n",
      "10\n",
      "20\n",
      "30\n",
      "40\n",
      "50\n",
      "Simulation 17 Finished!!!-------------------------------\n",
      "10\n",
      "20\n",
      "30\n",
      "40\n",
      "50\n",
      "Simulation 18 Finished!!!-------------------------------\n",
      "10\n",
      "20\n",
      "30\n",
      "40\n",
      "50\n",
      "Simulation 19 Finished!!!-------------------------------\n"
     ]
    }
   ],
   "source": [
    "all_simulations = []\n",
    "\n",
    "for sim in range(20):\n",
    "    \n",
    "    S0 = NY_SEIR[\"S\"].tolist()  \n",
    "    E0 = NY_SEIR[\"E\"].tolist()  \n",
    "    I0 = NY_SEIR[\"I\"].tolist()   \n",
    "    R0 = NY_SEIR[\"R\"].tolist()\n",
    "    initial_conditions = S0 + E0 + I0 + R0 #this is the y (?): Yup!\n",
    "\n",
    "    result = stochastic_SIR(initial_conditions, 61, array)\n",
    "    print(\"Simulation\", sim, \"Finished!!!-------------------------------\")\n",
    "    \n",
    "    all_simulations.append(result)"
   ]
  },
  {
   "cell_type": "code",
   "execution_count": 37,
   "id": "d5a11205",
   "metadata": {},
   "outputs": [],
   "source": [
    "import pickle\n",
    "\n",
    "with open('20_simulations_P01_NY_agg.pkl', 'wb') as f:\n",
    "    pickle.dump(all_simulations, f)"
   ]
  },
  {
   "cell_type": "code",
   "execution_count": 110,
   "id": "249b9955",
   "metadata": {},
   "outputs": [],
   "source": []
  }
 ],
 "metadata": {
  "kernelspec": {
   "display_name": "Python 3 (ipykernel)",
   "language": "python",
   "name": "python3"
  },
  "language_info": {
   "codemirror_mode": {
    "name": "ipython",
    "version": 3
   },
   "file_extension": ".py",
   "mimetype": "text/x-python",
   "name": "python",
   "nbconvert_exporter": "python",
   "pygments_lexer": "ipython3",
   "version": "3.11.5"
  }
 },
 "nbformat": 4,
 "nbformat_minor": 5
}
